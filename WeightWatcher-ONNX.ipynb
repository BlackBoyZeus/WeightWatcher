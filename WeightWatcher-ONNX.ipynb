{
 "cells": [
  {
   "cell_type": "markdown",
   "metadata": {},
   "source": [
    "\n",
    "# WeightWatcher - ONNX\n",
    "\n",
    "### Note:  some ONNX models, such as VGG, appear to me malformed\n",
    "\n"
   ]
  },
  {
   "cell_type": "code",
   "execution_count": 14,
   "metadata": {
    "ExecuteTime": {
     "end_time": "2019-03-05T23:51:16.544327Z",
     "start_time": "2019-03-05T23:51:16.531457Z"
    }
   },
   "outputs": [],
   "source": [
    "# Suppress the powerlaw package warnings\n",
    "# \"powerlaw.py:700: RuntimeWarning: divide by zero encountered in true_divide\"\n",
    "# \"powerlaw.py:700: RuntimeWarning: invalid value encountered in true_divide\"\n",
    "import warnings\n",
    "warnings.simplefilter(action='ignore', category=RuntimeWarning)"
   ]
  },
  {
   "cell_type": "code",
   "execution_count": 15,
   "metadata": {
    "scrolled": true
   },
   "outputs": [],
   "source": [
    "import numpy as np\n",
    "import pandas as pd\n",
    "\n",
    "from tqdm import tqdm\n",
    "\n",
    "import matplotlib\n",
    "import matplotlib.pyplot as plt\n",
    "%matplotlib inline"
   ]
  },
  {
   "cell_type": "markdown",
   "metadata": {
    "ExecuteTime": {
     "end_time": "2019-03-06T00:16:43.249725Z",
     "start_time": "2019-03-06T00:16:43.240611Z"
    }
   },
   "source": [
    "### Import WeightWatcher\n",
    "\n",
    "set custom Logging at WARN Level"
   ]
  },
  {
   "cell_type": "code",
   "execution_count": 16,
   "metadata": {
    "scrolled": true
   },
   "outputs": [],
   "source": [
    "import logging\n",
    "logging.basicConfig(level=logging.INFO)\n",
    "logger = logging.getLogger(__name__)\n",
    "logger.setLevel(logging.INFO)\n"
   ]
  },
  {
   "cell_type": "code",
   "execution_count": 17,
   "metadata": {},
   "outputs": [],
   "source": [
    "import weightwatcher as ww"
   ]
  },
  {
   "cell_type": "code",
   "execution_count": 18,
   "metadata": {},
   "outputs": [
    {
     "data": {
      "text/plain": [
       "'0.4.8'"
      ]
     },
     "execution_count": 18,
     "metadata": {},
     "output_type": "execute_result"
    }
   ],
   "source": [
    "ww.__version__"
   ]
  },
  {
   "cell_type": "code",
   "execution_count": 19,
   "metadata": {},
   "outputs": [],
   "source": [
    "import onnx\n"
   ]
  },
  {
   "cell_type": "code",
   "execution_count": 20,
   "metadata": {},
   "outputs": [],
   "source": [
    "#model = onnx.load(\"/Users/charleshmartin/work/tempNetwork.onnx\")\n",
    "\n",
    "model = onnx.load(\"/Users/charleshmartin/work/alexnet.onnx\")\n",
    "#model = onnx.load(\"/Users/charleshmartin/work/vgg16.onnx\")\n"
   ]
  },
  {
   "cell_type": "code",
   "execution_count": 21,
   "metadata": {},
   "outputs": [
    {
     "name": "stderr",
     "output_type": "stream",
     "text": [
      "INFO:weightwatcher:\n",
      "\n",
      "python      version 3.8.5 (default, Sep  4 2020, 02:22:02) \n",
      "[Clang 10.0.0 ]\n",
      "numpy       version 1.18.5\n",
      "tensforflow version 2.3.0\n",
      "keras       version 2.4.0\n"
     ]
    }
   ],
   "source": [
    "watcher = ww.WeightWatcher(model=model)"
   ]
  },
  {
   "cell_type": "code",
   "execution_count": 22,
   "metadata": {
    "scrolled": false
   },
   "outputs": [
    {
     "name": "stderr",
     "output_type": "stream",
     "text": [
      "INFO:weightwatcher:params {'glorot_fix': False, 'normalize': False, 'conv2d_norm': True, 'randomize': False, 'savefig': False, 'rescale': True, 'deltas': False, 'min_evals': 0, 'max_evals': None, 'plot': False, 'mp_fit': False, 'ww2x': False, 'deltaEs': False}\n",
      "INFO:weightwatcher:Layer id 0  unknown type 1 layer  <class 'onnx.onnx_ml_pb2.TensorProto'>\n",
      "INFO:weightwatcher:LAYER: 1 8  : <class 'onnx.onnx_ml_pb2.TensorProto'>\n",
      "INFO:weightwatcher:Layer id 2  unknown type 1 layer  <class 'onnx.onnx_ml_pb2.TensorProto'>\n",
      "INFO:weightwatcher:LAYER: 3 8  : <class 'onnx.onnx_ml_pb2.TensorProto'>\n",
      "INFO:weightwatcher:Layer id 4  unknown type 1 layer  <class 'onnx.onnx_ml_pb2.TensorProto'>\n",
      "INFO:weightwatcher:LAYER: 5 8  : <class 'onnx.onnx_ml_pb2.TensorProto'>\n",
      "INFO:weightwatcher:Layer id 6  unknown type 1 layer  <class 'onnx.onnx_ml_pb2.TensorProto'>\n",
      "INFO:weightwatcher:LAYER: 7 8  : <class 'onnx.onnx_ml_pb2.TensorProto'>\n",
      "INFO:weightwatcher:Layer id 8  unknown type 1 layer  <class 'onnx.onnx_ml_pb2.TensorProto'>\n",
      "INFO:weightwatcher:LAYER: 9 8  : <class 'onnx.onnx_ml_pb2.TensorProto'>\n",
      "INFO:weightwatcher:Layer id 10  unknown type 1 layer  <class 'onnx.onnx_ml_pb2.TensorProto'>\n",
      "INFO:weightwatcher:LAYER: 11 2  : <class 'onnx.onnx_ml_pb2.TensorProto'>\n",
      "INFO:weightwatcher:Layer id 12  unknown type 1 layer  <class 'onnx.onnx_ml_pb2.TensorProto'>\n",
      "INFO:weightwatcher:LAYER: 13 2  : <class 'onnx.onnx_ml_pb2.TensorProto'>\n",
      "INFO:weightwatcher:Layer id 14  unknown type 1 layer  <class 'onnx.onnx_ml_pb2.TensorProto'>\n",
      "INFO:weightwatcher:LAYER: 15 2  : <class 'onnx.onnx_ml_pb2.TensorProto'>\n",
      "INFO:weightwatcher:Layer id 16  unknown type 1 layer  <class 'onnx.onnx_ml_pb2.TensorProto'>\n"
     ]
    },
    {
     "data": {
      "text/html": [
       "<div>\n",
       "<style scoped>\n",
       "    .dataframe tbody tr th:only-of-type {\n",
       "        vertical-align: middle;\n",
       "    }\n",
       "\n",
       "    .dataframe tbody tr th {\n",
       "        vertical-align: top;\n",
       "    }\n",
       "\n",
       "    .dataframe thead th {\n",
       "        text-align: right;\n",
       "    }\n",
       "</style>\n",
       "<table border=\"1\" class=\"dataframe\">\n",
       "  <thead>\n",
       "    <tr style=\"text-align: right;\">\n",
       "      <th></th>\n",
       "      <th>layer_id</th>\n",
       "      <th>name</th>\n",
       "      <th>D</th>\n",
       "      <th>M</th>\n",
       "      <th>N</th>\n",
       "      <th>alpha</th>\n",
       "      <th>alpha_weighted</th>\n",
       "      <th>entropy</th>\n",
       "      <th>has_esd</th>\n",
       "      <th>lambda_max</th>\n",
       "      <th>...</th>\n",
       "      <th>num_evals</th>\n",
       "      <th>num_pl_spikes</th>\n",
       "      <th>rank_loss</th>\n",
       "      <th>rf</th>\n",
       "      <th>sigma</th>\n",
       "      <th>spectral_norm</th>\n",
       "      <th>stable_rank</th>\n",
       "      <th>sv_max</th>\n",
       "      <th>xmax</th>\n",
       "      <th>xmin</th>\n",
       "    </tr>\n",
       "  </thead>\n",
       "  <tbody>\n",
       "    <tr>\n",
       "      <th>0</th>\n",
       "      <td>1</td>\n",
       "      <td>None</td>\n",
       "      <td>0.079583</td>\n",
       "      <td>3.0</td>\n",
       "      <td>96.0</td>\n",
       "      <td>2.072826</td>\n",
       "      <td>0.140490</td>\n",
       "      <td>0.904718</td>\n",
       "      <td>1.0</td>\n",
       "      <td>1.168899</td>\n",
       "      <td>...</td>\n",
       "      <td>363.0</td>\n",
       "      <td>238.0</td>\n",
       "      <td>0.0</td>\n",
       "      <td>121.0</td>\n",
       "      <td>0.069541</td>\n",
       "      <td>1.168899</td>\n",
       "      <td>51.161094</td>\n",
       "      <td>1.081156</td>\n",
       "      <td>1.168899</td>\n",
       "      <td>0.062164</td>\n",
       "    </tr>\n",
       "    <tr>\n",
       "      <th>1</th>\n",
       "      <td>3</td>\n",
       "      <td>None</td>\n",
       "      <td>0.067139</td>\n",
       "      <td>48.0</td>\n",
       "      <td>256.0</td>\n",
       "      <td>2.720846</td>\n",
       "      <td>1.010508</td>\n",
       "      <td>0.881028</td>\n",
       "      <td>1.0</td>\n",
       "      <td>2.351769</td>\n",
       "      <td>...</td>\n",
       "      <td>1200.0</td>\n",
       "      <td>101.0</td>\n",
       "      <td>0.0</td>\n",
       "      <td>25.0</td>\n",
       "      <td>0.171231</td>\n",
       "      <td>2.351769</td>\n",
       "      <td>41.724593</td>\n",
       "      <td>1.533548</td>\n",
       "      <td>2.351769</td>\n",
       "      <td>0.223772</td>\n",
       "    </tr>\n",
       "    <tr>\n",
       "      <th>2</th>\n",
       "      <td>5</td>\n",
       "      <td>None</td>\n",
       "      <td>0.072222</td>\n",
       "      <td>256.0</td>\n",
       "      <td>384.0</td>\n",
       "      <td>2.937819</td>\n",
       "      <td>0.530624</td>\n",
       "      <td>0.878030</td>\n",
       "      <td>1.0</td>\n",
       "      <td>1.515718</td>\n",
       "      <td>...</td>\n",
       "      <td>2304.0</td>\n",
       "      <td>144.0</td>\n",
       "      <td>0.0</td>\n",
       "      <td>9.0</td>\n",
       "      <td>0.161485</td>\n",
       "      <td>1.515718</td>\n",
       "      <td>82.518605</td>\n",
       "      <td>1.231145</td>\n",
       "      <td>1.515718</td>\n",
       "      <td>0.198553</td>\n",
       "    </tr>\n",
       "    <tr>\n",
       "      <th>3</th>\n",
       "      <td>7</td>\n",
       "      <td>None</td>\n",
       "      <td>0.068785</td>\n",
       "      <td>192.0</td>\n",
       "      <td>384.0</td>\n",
       "      <td>3.944265</td>\n",
       "      <td>-0.548909</td>\n",
       "      <td>0.936337</td>\n",
       "      <td>1.0</td>\n",
       "      <td>0.725828</td>\n",
       "      <td>...</td>\n",
       "      <td>1728.0</td>\n",
       "      <td>105.0</td>\n",
       "      <td>0.0</td>\n",
       "      <td>9.0</td>\n",
       "      <td>0.287331</td>\n",
       "      <td>0.725828</td>\n",
       "      <td>150.833329</td>\n",
       "      <td>0.851955</td>\n",
       "      <td>0.725828</td>\n",
       "      <td>0.188797</td>\n",
       "    </tr>\n",
       "    <tr>\n",
       "      <th>4</th>\n",
       "      <td>9</td>\n",
       "      <td>None</td>\n",
       "      <td>0.036850</td>\n",
       "      <td>192.0</td>\n",
       "      <td>256.0</td>\n",
       "      <td>3.665507</td>\n",
       "      <td>-0.191019</td>\n",
       "      <td>0.923223</td>\n",
       "      <td>1.0</td>\n",
       "      <td>0.886926</td>\n",
       "      <td>...</td>\n",
       "      <td>1728.0</td>\n",
       "      <td>174.0</td>\n",
       "      <td>0.0</td>\n",
       "      <td>9.0</td>\n",
       "      <td>0.202072</td>\n",
       "      <td>0.886926</td>\n",
       "      <td>94.880140</td>\n",
       "      <td>0.941768</td>\n",
       "      <td>0.886926</td>\n",
       "      <td>0.116620</td>\n",
       "    </tr>\n",
       "    <tr>\n",
       "      <th>5</th>\n",
       "      <td>11</td>\n",
       "      <td>None</td>\n",
       "      <td>0.027392</td>\n",
       "      <td>4096.0</td>\n",
       "      <td>9216.0</td>\n",
       "      <td>2.206702</td>\n",
       "      <td>2.058648</td>\n",
       "      <td>0.882433</td>\n",
       "      <td>1.0</td>\n",
       "      <td>8.568551</td>\n",
       "      <td>...</td>\n",
       "      <td>4096.0</td>\n",
       "      <td>885.0</td>\n",
       "      <td>0.0</td>\n",
       "      <td>1.0</td>\n",
       "      <td>0.040563</td>\n",
       "      <td>8.568551</td>\n",
       "      <td>103.233545</td>\n",
       "      <td>2.927209</td>\n",
       "      <td>8.568551</td>\n",
       "      <td>0.227045</td>\n",
       "    </tr>\n",
       "    <tr>\n",
       "      <th>6</th>\n",
       "      <td>13</td>\n",
       "      <td>None</td>\n",
       "      <td>0.021312</td>\n",
       "      <td>4096.0</td>\n",
       "      <td>4096.0</td>\n",
       "      <td>2.291971</td>\n",
       "      <td>2.988534</td>\n",
       "      <td>0.858571</td>\n",
       "      <td>1.0</td>\n",
       "      <td>20.133279</td>\n",
       "      <td>...</td>\n",
       "      <td>4096.0</td>\n",
       "      <td>986.0</td>\n",
       "      <td>0.0</td>\n",
       "      <td>1.0</td>\n",
       "      <td>0.041145</td>\n",
       "      <td>20.133279</td>\n",
       "      <td>35.489932</td>\n",
       "      <td>4.487012</td>\n",
       "      <td>20.133279</td>\n",
       "      <td>0.173686</td>\n",
       "    </tr>\n",
       "    <tr>\n",
       "      <th>7</th>\n",
       "      <td>15</td>\n",
       "      <td>None</td>\n",
       "      <td>0.041659</td>\n",
       "      <td>1000.0</td>\n",
       "      <td>4096.0</td>\n",
       "      <td>2.269514</td>\n",
       "      <td>2.798109</td>\n",
       "      <td>0.892773</td>\n",
       "      <td>1.0</td>\n",
       "      <td>17.096649</td>\n",
       "      <td>...</td>\n",
       "      <td>1000.0</td>\n",
       "      <td>331.0</td>\n",
       "      <td>0.0</td>\n",
       "      <td>1.0</td>\n",
       "      <td>0.069779</td>\n",
       "      <td>17.096649</td>\n",
       "      <td>27.308366</td>\n",
       "      <td>4.134809</td>\n",
       "      <td>17.096649</td>\n",
       "      <td>0.350878</td>\n",
       "    </tr>\n",
       "  </tbody>\n",
       "</table>\n",
       "<p>8 rows × 26 columns</p>\n",
       "</div>"
      ],
      "text/plain": [
       "  layer_id  name         D       M       N     alpha  alpha_weighted  \\\n",
       "0        1  None  0.079583     3.0    96.0  2.072826        0.140490   \n",
       "1        3  None  0.067139    48.0   256.0  2.720846        1.010508   \n",
       "2        5  None  0.072222   256.0   384.0  2.937819        0.530624   \n",
       "3        7  None  0.068785   192.0   384.0  3.944265       -0.548909   \n",
       "4        9  None  0.036850   192.0   256.0  3.665507       -0.191019   \n",
       "5       11  None  0.027392  4096.0  9216.0  2.206702        2.058648   \n",
       "6       13  None  0.021312  4096.0  4096.0  2.291971        2.988534   \n",
       "7       15  None  0.041659  1000.0  4096.0  2.269514        2.798109   \n",
       "\n",
       "    entropy  has_esd  lambda_max  ... num_evals  num_pl_spikes  rank_loss  \\\n",
       "0  0.904718      1.0    1.168899  ...     363.0          238.0        0.0   \n",
       "1  0.881028      1.0    2.351769  ...    1200.0          101.0        0.0   \n",
       "2  0.878030      1.0    1.515718  ...    2304.0          144.0        0.0   \n",
       "3  0.936337      1.0    0.725828  ...    1728.0          105.0        0.0   \n",
       "4  0.923223      1.0    0.886926  ...    1728.0          174.0        0.0   \n",
       "5  0.882433      1.0    8.568551  ...    4096.0          885.0        0.0   \n",
       "6  0.858571      1.0   20.133279  ...    4096.0          986.0        0.0   \n",
       "7  0.892773      1.0   17.096649  ...    1000.0          331.0        0.0   \n",
       "\n",
       "      rf     sigma  spectral_norm  stable_rank    sv_max       xmax      xmin  \n",
       "0  121.0  0.069541       1.168899    51.161094  1.081156   1.168899  0.062164  \n",
       "1   25.0  0.171231       2.351769    41.724593  1.533548   2.351769  0.223772  \n",
       "2    9.0  0.161485       1.515718    82.518605  1.231145   1.515718  0.198553  \n",
       "3    9.0  0.287331       0.725828   150.833329  0.851955   0.725828  0.188797  \n",
       "4    9.0  0.202072       0.886926    94.880140  0.941768   0.886926  0.116620  \n",
       "5    1.0  0.040563       8.568551   103.233545  2.927209   8.568551  0.227045  \n",
       "6    1.0  0.041145      20.133279    35.489932  4.487012  20.133279  0.173686  \n",
       "7    1.0  0.069779      17.096649    27.308366  4.134809  17.096649  0.350878  \n",
       "\n",
       "[8 rows x 26 columns]"
      ]
     },
     "execution_count": 22,
     "metadata": {},
     "output_type": "execute_result"
    }
   ],
   "source": [
    "watcher.analyze(plot=False)"
   ]
  },
  {
   "cell_type": "code",
   "execution_count": null,
   "metadata": {},
   "outputs": [],
   "source": []
  },
  {
   "cell_type": "code",
   "execution_count": null,
   "metadata": {},
   "outputs": [],
   "source": []
  }
 ],
 "metadata": {
  "kernelspec": {
   "display_name": "Python 3",
   "language": "python",
   "name": "python3"
  },
  "language_info": {
   "codemirror_mode": {
    "name": "ipython",
    "version": 3
   },
   "file_extension": ".py",
   "mimetype": "text/x-python",
   "name": "python",
   "nbconvert_exporter": "python",
   "pygments_lexer": "ipython3",
   "version": "3.8.5"
  }
 },
 "nbformat": 4,
 "nbformat_minor": 4
}
