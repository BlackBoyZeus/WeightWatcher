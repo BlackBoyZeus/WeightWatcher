{
 "cells": [
  {
   "cell_type": "markdown",
   "metadata": {
    "colab_type": "text",
    "id": "view-in-github"
   },
   "source": [
    "<a href=\"https://colab.research.google.com/github/CalculatedContent/WeightWatcher/blob/master/BuildWeightWatcherOnColab.ipynb\" target=\"_parent\"><img src=\"https://colab.research.google.com/assets/colab-badge.svg\" alt=\"Open In Colab\"/></a>"
   ]
  },
  {
   "cell_type": "markdown",
   "metadata": {},
   "source": [
    "### This notebook has all the unit tests in 1 cell"
   ]
  },
  {
   "cell_type": "code",
   "execution_count": null,
   "metadata": {
    "colab": {
     "base_uri": "https://localhost:8080/"
    },
    "id": "G1fhIR2qLyqa",
    "outputId": "71f0b97f-af33-4d8c-84bd-b2d618494023"
   },
   "outputs": [],
   "source": [
    "!git clone https://github.com/CalculatedContent/WeightWatcher.git"
   ]
  },
  {
   "cell_type": "code",
   "execution_count": null,
   "metadata": {
    "colab": {
     "base_uri": "https://localhost:8080/"
    },
    "id": "NPMi2ScqL3nz",
    "outputId": "4c928437-4db8-47ca-e978-931bbe34b08d"
   },
   "outputs": [],
   "source": [
    "!pip install transformers"
   ]
  },
  {
   "cell_type": "code",
   "execution_count": null,
   "metadata": {
    "colab": {
     "base_uri": "https://localhost:8080/"
    },
    "id": "qmn7e65AL94c",
    "jupyter": {
     "outputs_hidden": true
    },
    "outputId": "8a7eb63d-6ef4-40bc-9b46-1e7bf0822784",
    "tags": []
   },
   "outputs": [],
   "source": [
    "%cd WeightWatcher\n",
    "!python setup.py build install "
   ]
  },
  {
   "cell_type": "code",
   "execution_count": null,
   "metadata": {
    "colab": {
     "background_save": true,
     "base_uri": "https://localhost:8080/"
    },
    "id": "m3qD_XDNMGhL",
    "outputId": "d5357442-ba11-410d-a05e-a1b12768c9d7",
    "tags": []
   },
   "outputs": [],
   "source": [
    "!python setup.py test"
   ]
  },
  {
   "cell_type": "markdown",
   "metadata": {
    "id": "4KhAqmYFZvij"
   },
   "source": [
    "### Deploy to test pypi"
   ]
  },
  {
   "cell_type": "code",
   "execution_count": null,
   "metadata": {
    "colab": {
     "base_uri": "https://localhost:8080/"
    },
    "id": "Siilv3JpZu-o",
    "outputId": "95598d4d-ee7b-4730-8bcc-ae6ccb128596"
   },
   "outputs": [],
   "source": [
    "!python -m pip install --upgrade setuptools wheel twine\n",
    "!python setup.py sdist bdist_wheel\n",
    "!twine check dist/*\n",
    "!ls dist"
   ]
  },
  {
   "cell_type": "code",
   "execution_count": null,
   "metadata": {
    "id": "vVf89jPdZ8tS"
   },
   "outputs": [],
   "source": [
    "#!twine upload --repository testpypi dist/*\n"
   ]
  },
  {
   "cell_type": "code",
   "execution_count": null,
   "metadata": {
    "colab": {
     "base_uri": "https://localhost:8080/",
     "height": 169
    },
    "id": "6MB-2fulKYiA",
    "outputId": "fd157a27-d39c-49a5-cb1f-b9503d0190fd"
   },
   "outputs": [],
   "source": [
    "charles"
   ]
  }
 ],
 "metadata": {
  "colab": {
   "authorship_tag": "ABX9TyObaKJ1PL5IPCqxk8Jj45FK",
   "include_colab_link": true,
   "provenance": []
  },
  "kernelspec": {
   "display_name": "Python 3 (ipykernel)",
   "language": "python",
   "name": "python3"
  },
  "language_info": {
   "codemirror_mode": {
    "name": "ipython",
    "version": 3
   },
   "file_extension": ".py",
   "mimetype": "text/x-python",
   "name": "python",
   "nbconvert_exporter": "python",
   "pygments_lexer": "ipython3",
   "version": "3.9.13"
  }
 },
 "nbformat": 4,
 "nbformat_minor": 4
}
