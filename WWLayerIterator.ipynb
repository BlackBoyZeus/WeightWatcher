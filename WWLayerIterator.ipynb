{
 "cells": [
  {
   "cell_type": "markdown",
   "metadata": {},
   "source": [
    "\n",
    "# WWLayerIterator\n",
    "\n",
    "This Notebook explains how to use the internal WeightWatcher Layer Iterators\n",
    "\n",
    "Includes the WWStackerLayerIterator\n",
    "\n",
    "- Stacks all weight matrices into a single, large, rectangular matrix\n",
    "\n",
    "- Probably should normalize each layer in some consistent way *(not done yet)\n",
    "\n",
    "\n",
    "\n",
    "\n",
    "\n",
    "\n"
   ]
  },
  {
   "cell_type": "code",
   "execution_count": 1,
   "metadata": {
    "ExecuteTime": {
     "end_time": "2019-03-05T23:51:16.544327Z",
     "start_time": "2019-03-05T23:51:16.531457Z"
    }
   },
   "outputs": [],
   "source": [
    "# Suppress the powerlaw package warnings\n",
    "# \"powerlaw.py:700: RuntimeWarning: divide by zero encountered in true_divide\"\n",
    "# \"powerlaw.py:700: RuntimeWarning: invalid value encountered in true_divide\"\n",
    "import warnings\n",
    "warnings.simplefilter(action='ignore', category=RuntimeWarning)"
   ]
  },
  {
   "cell_type": "code",
   "execution_count": 2,
   "metadata": {
    "scrolled": true
   },
   "outputs": [
    {
     "name": "stdout",
     "output_type": "stream",
     "text": [
      "2021-09-05T13:08:54-07:00\n",
      "\n",
      "CPython 3.8.5\n",
      "IPython 7.18.1\n",
      "\n",
      "compiler   : Clang 10.0.0 \n",
      "system     : Darwin\n",
      "release    : 17.7.0\n",
      "machine    : x86_64\n",
      "processor  : i386\n",
      "CPU cores  : 12\n",
      "interpreter: 64bit\n"
     ]
    }
   ],
   "source": [
    "import numpy as np\n",
    "import pandas as pd\n",
    "\n",
    "from tqdm import tqdm\n",
    "\n",
    "import matplotlib\n",
    "import matplotlib.pyplot as plt\n",
    "%matplotlib inline\n",
    "\n",
    "%load_ext watermark\n",
    "%watermark"
   ]
  },
  {
   "cell_type": "markdown",
   "metadata": {
    "ExecuteTime": {
     "end_time": "2019-03-06T00:16:43.249725Z",
     "start_time": "2019-03-06T00:16:43.240611Z"
    }
   },
   "source": [
    "### Import WeightWatcher\n",
    "\n",
    "set custom Logging at WARN Level"
   ]
  },
  {
   "cell_type": "code",
   "execution_count": 3,
   "metadata": {
    "scrolled": true
   },
   "outputs": [
    {
     "data": {
      "text/plain": [
       "'0.5.2'"
      ]
     },
     "execution_count": 3,
     "metadata": {},
     "output_type": "execute_result"
    }
   ],
   "source": [
    "import logging\n",
    "\n",
    "import weightwatcher as ww\n",
    "import torchvision.models as models\n",
    "\n",
    "logger = logging.getLogger(ww.__name__)\n",
    "logger.setLevel(logging.WARNING)\n",
    "\n",
    "ww.__version__"
   ]
  },
  {
   "cell_type": "markdown",
   "metadata": {},
   "source": [
    "###  How to create a WWLayerIterator"
   ]
  },
  {
   "cell_type": "code",
   "execution_count": 4,
   "metadata": {},
   "outputs": [],
   "source": [
    "model = models.vgg11(pretrained=True)\n",
    "watcher = ww.WeightWatcher(model=model)\n",
    "ww_layer_iterator = watcher.make_layer_iterator(model=model)"
   ]
  },
  {
   "cell_type": "markdown",
   "metadata": {},
   "source": [
    "### The Iterator lets you loop over WWLayer instances\n",
    "\n",
    "- The WWLayer instance (object) is a wrapper to the underlying framework layers\n",
    "\n",
    "- The intent is to only access the WWLayer instance and not the underlying framework methods\n",
    "\n",
    "- This lets weightwatcher apply different functions / transformations on each layer individually\n",
    "\n"
   ]
  },
  {
   "cell_type": "code",
   "execution_count": 5,
   "metadata": {},
   "outputs": [
    {
     "name": "stdout",
     "output_type": "stream",
     "text": [
      "WWLayer 2  None PYTORCH CONV2D  skipped False\n",
      "WWLayer 5  None PYTORCH CONV2D  skipped False\n",
      "WWLayer 8  None PYTORCH CONV2D  skipped False\n",
      "WWLayer 10  None PYTORCH CONV2D  skipped False\n",
      "WWLayer 13  None PYTORCH CONV2D  skipped False\n",
      "WWLayer 15  None PYTORCH CONV2D  skipped False\n",
      "WWLayer 18  None PYTORCH CONV2D  skipped False\n",
      "WWLayer 20  None PYTORCH CONV2D  skipped False\n",
      "WWLayer 25  None PYTORCH DENSE  skipped False\n",
      "WWLayer 28  None PYTORCH DENSE  skipped False\n",
      "WWLayer 31  None PYTORCH DENSE  skipped False\n"
     ]
    }
   ],
   "source": [
    "for ww_layer in ww_layer_iterator:\n",
    "    print(ww_layer)"
   ]
  },
  {
   "cell_type": "markdown",
   "metadata": {},
   "source": [
    "### The WWLayerIterator constructor method takes\n",
    "\n",
    "- layers=[LAYER_ID, ...] to specify filters, as in the watcher.analyze(..,) and watcher.describe(...) methods\n",
    "\n",
    "- other parameters, like ww2x and channels, are specified in the parameters dict\n",
    "\n"
   ]
  },
  {
   "cell_type": "code",
   "execution_count": 6,
   "metadata": {},
   "outputs": [],
   "source": [
    "logger = logging.getLogger('weightwatcher') \n",
    "logger.setLevel(logging.WARNING)\n",
    "\n",
    "\n",
    "layers = [60]\n",
    "DEFAULT_PARAMS = {'glorot_fix': False, 'normalize':False, 'conv2d_norm':True, 'randomize': True, 'savefig':False, \n",
    "                  'rescale':True , 'deltaEs':False, 'intra':False, 'channels':None, 'conv2d_fft':False, \n",
    "                  'ww2x':False}\n",
    "\n",
    "params = DEFAULT_PARAMS\n",
    "ww_layer_iterator = watcher.make_layer_iterator(model=model, layers=layers, params=params)\n",
    "\n"
   ]
  },
  {
   "cell_type": "markdown",
   "metadata": {},
   "source": [
    "#### Now only 1 layer is processed"
   ]
  },
  {
   "cell_type": "code",
   "execution_count": 7,
   "metadata": {},
   "outputs": [],
   "source": [
    "for ww_layer in ww_layer_iterator:\n",
    "    print(ww_layer)"
   ]
  },
  {
   "cell_type": "markdown",
   "metadata": {},
   "source": [
    "### WWLayer  Instances\n",
    "\n",
    "When a WWLayer instance is created, the weight matrices for the layer are extracted from the underlying framework tensor (i.e. layer.weights and layer.biases) and placed into WMats\n",
    "\n",
    "- WMats = [W,W,W,...] contains 1 or more W matrices, of the same shape NxM, N > M\n",
    "- evals: the *combined* evals for each layer\n",
    "- rf = 1 or (k)x(k)  the size of the 'receptive field'\n",
    "\n",
    "\n",
    "\n",
    "- layer_type =  an internal enum:    known layer types so far include:\n",
    "\n",
    "<pre>\n",
    "LAYER_TYPE.DENSE | LAYER_TYPE.CONV1D | LAYER_TYPE.CONV2D | LAYER_TYPE.FLATTENED |  LAYER_TYPE.EMBEDDING | LAYER_TYPE.NORM\n",
    "</pre>\n",
    "\n",
    "- channel_str:  string for channel type :  \"FIRST\" | \"LAST\" | \"UNKNOWN\"\n",
    "\n"
   ]
  },
  {
   "cell_type": "markdown",
   "metadata": {},
   "source": [
    "### WeightWatcher Apply Methods\n",
    "\n",
    "#### The various apply_xxx() methods use basic metaprogramming to set additional instance variables\n",
    "\n",
    "\n",
    "- apply_filters()\n",
    "- apply_normalize_Wmats()\n",
    "- apply_esd()\n",
    "- apply_random_esd()\n",
    "- apply_plot_esd()\n",
    "- apply_fit_powerlaw()\n",
    "- apply_norm_metrics()\n",
    "- apply_plot_deltaEs()\n",
    "- apply_mp_fit()\n",
    "- apply_svdsmoothing()\n",
    "\n",
    "\n",
    "i.e the apply_esd() method runs SVD on all the WMats, then combines them into a single ESD\n",
    "\n",
    "<code>\n",
    "#\n",
    "    def apply_esd(self, ww_layer, params=AULT_PARAMS):\n",
    "            \"\"\"run full SVD on layer weight matrices, compute ESD on combined eigenvalues, combine all...\"\"\"\n",
    "#\n",
    "...\n",
    "#\n",
    "    ww_layer.evals = evals\n",
    "    ww_layer.add_column(\"has_esd\", True)\n",
    "    ww_layer.add_column(\"num_evals\", len(evals))\n",
    "    ww_layer.add_column(\"sv_max\", sv_max)\n",
    "    ww_layer.add_column(\"rank_loss\", rank_loss)\n",
    "    ww_layer.add_column(\"lambda_max\", np.max(evals))    \n",
    "#      \n",
    "    return ww_layer\n",
    "</code>       \n",
    "        \n"
   ]
  },
  {
   "cell_type": "markdown",
   "metadata": {},
   "source": [
    "### There are different Iterators for different ways of walking the Model Layers"
   ]
  },
  {
   "cell_type": "code",
   "execution_count": 8,
   "metadata": {},
   "outputs": [
    {
     "data": {
      "text/plain": [
       "weightwatcher.weightwatcher.WWLayerIterator"
      ]
     },
     "execution_count": 8,
     "metadata": {},
     "output_type": "execute_result"
    }
   ],
   "source": [
    "type(ww_layer_iterator)"
   ]
  },
  {
   "cell_type": "code",
   "execution_count": 9,
   "metadata": {},
   "outputs": [],
   "source": [
    "from weightwatcher.weightwatcher import WWLayerIterator"
   ]
  },
  {
   "cell_type": "code",
   "execution_count": 10,
   "metadata": {},
   "outputs": [],
   "source": [
    "from weightwatcher.constants import LAYER_TYPE"
   ]
  },
  {
   "cell_type": "code",
   "execution_count": 11,
   "metadata": {},
   "outputs": [],
   "source": [
    "\n",
    "class WWStackedLayerIterator(WWLayerIterator):\n",
    "    \"\"\"Iterator variant that sticaks all weight matrics into a single WWLayer\"\"\"\n",
    "    from copy import deepcopy\n",
    "\n",
    "    def ww_stacked_iter_(self):\n",
    "        from copy import deepcopy\n",
    "        \n",
    "        # find the maximum dimensions so we can pad the matrices\n",
    "        ww_stacked_layer = None\n",
    "        Wmats = []\n",
    "        for ww_layer in self.ww_layer_iter_():\n",
    "            \n",
    "            # Here, Ijust lazizy copy an older layer\n",
    "            # really, we should creat the WWLayer using the init() constructor\n",
    "            if ww_stacked_layer is None:\n",
    "                ww_stacked_layer =  deepcopy(ww_layer)\n",
    "                ww_stacked_layer.the_type =  LAYER_TYPE.COMBINED\n",
    "                ww_stacked_layer.layer_id = 0  \n",
    "                ww_stacked_layer.name = \"Example Stacked Layer\"\n",
    "            Wmats.extend(ww_layer.Wmats)\n",
    "            \n",
    "        # Note: Here the matrices should be padded so that they are all the same width\n",
    "        #  ww_stacked_layer.Wmats = pad(Wmats)\n",
    "        # \n",
    "        \n",
    "        Nmax  = np.max([np.max(W.shape) for W in Wmats])\n",
    "        Mmin  = np.min([np.min(W.shape) for W in Wmats])\n",
    "                        \n",
    "        Wmats_padded = []\n",
    "        for W in Wmats:             \n",
    "            Height, Width = W.shape[0], W.shape[1]\n",
    "            if Height > Width:\n",
    "                W = W.T\n",
    "                Height, Width = W.shape[0], W.shape[1]\n",
    "                \n",
    "            W = np.pad(W, ((0, 0), (0, Nmax-Width)) )\n",
    "            W = W/np.linalg.norm(W)\n",
    "            Wmats_padded.append(W)\n",
    "                \n",
    "        W_stacked = np.vstack(Wmats_padded)\n",
    "        N, M = W_stacked.shape[0],  W_stacked.shape[1]\n",
    "        if N < M:\n",
    "            W_stacked = W_stacked.T\n",
    "            N, M = W_stacked.shape[0],  W_stacked.shape[1]\n",
    "                    \n",
    "        ww_stacked_layer.Wmats = [W_stacked]\n",
    "    \n",
    "        # Then, the layer shape has to be set\n",
    "        # Just setting dummy variable here\n",
    "        ww_stacked_layer.N = N\n",
    "        ww_stacked_layer.M = M\n",
    "        ww_stacked_layer.rf = 1\n",
    "        #...\n",
    "    \n",
    "        \n",
    "        yield ww_stacked_layer\n",
    "                \n",
    "    def make_layer_iter_(self):\n",
    "        return self.ww_stacked_iter_()"
   ]
  },
  {
   "cell_type": "code",
   "execution_count": 12,
   "metadata": {},
   "outputs": [],
   "source": [
    "layer_iter = WWStackedLayerIterator(model=model)"
   ]
  },
  {
   "cell_type": "code",
   "execution_count": 13,
   "metadata": {},
   "outputs": [
    {
     "name": "stdout",
     "output_type": "stream",
     "text": [
      "WWLayer 0  Example Stacked Layer PYTORCH COMBINED  skipped False\n"
     ]
    }
   ],
   "source": [
    "for layer in layer_iter:\n",
    "    print(layer)"
   ]
  },
  {
   "cell_type": "code",
   "execution_count": 14,
   "metadata": {},
   "outputs": [
    {
     "data": {
      "text/plain": [
       "(29379, 25088)"
      ]
     },
     "execution_count": 14,
     "metadata": {},
     "output_type": "execute_result"
    }
   ],
   "source": [
    "layer.N, layer.M"
   ]
  },
  {
   "cell_type": "markdown",
   "metadata": {},
   "source": [
    "### Notice: The final matrix is quite large so the SVD will take some time"
   ]
  },
  {
   "cell_type": "code",
   "execution_count": 15,
   "metadata": {},
   "outputs": [],
   "source": [
    "W = layer.Wmats[0]"
   ]
  },
  {
   "cell_type": "raw",
   "metadata": {},
   "source": [
    "svals = np.linalg.svd(W, compute_uv=False)"
   ]
  },
  {
   "cell_type": "code",
   "execution_count": 16,
   "metadata": {},
   "outputs": [],
   "source": [
    "from sklearn.decomposition import TruncatedSVD\n",
    "svd = TruncatedSVD(n_components=5000)\n",
    "svd.fit(W)\n",
    "svals = svd.singular_values_"
   ]
  },
  {
   "cell_type": "code",
   "execution_count": 17,
   "metadata": {},
   "outputs": [
    {
     "data": {
      "text/plain": [
       "Text(0, 0.5, 'Density, $\\\\rho(\\\\sigma)$')"
      ]
     },
     "execution_count": 17,
     "metadata": {},
     "output_type": "execute_result"
    },
    {
     "data": {
      "image/png": "[encoded data removed]",
      "text/plain": [
       "<Figure size 432x288 with 1 Axes>"
      ]
     },
     "metadata": {
      "needs_background": "light"
     },
     "output_type": "display_data"
    }
   ],
   "source": [
    "plt.hist(svals, bins=100);\n",
    "plt.title(\"VGG11 SVs, all layer W's naively padded and stacked\")\n",
    "plt.xlabel(r\"Singular Values,  $\\sigma_{i}$\")\n",
    "plt.ylabel(r\"Density, $\\rho(\\sigma)$\")"
   ]
  },
  {
   "cell_type": "code",
   "execution_count": 18,
   "metadata": {},
   "outputs": [
    {
     "data": {
      "text/plain": [
       "Text(0.5, 0, 'Log EigenValues,  $\\\\log\\\\;\\\\lambda_{i}$')"
      ]
     },
     "execution_count": 18,
     "metadata": {},
     "output_type": "execute_result"
    },
    {
     "data": {
      "image/png": "[encoded data removed]",
      "text/plain": [
       "<Figure size 432x288 with 1 Axes>"
      ]
     },
     "metadata": {
      "needs_background": "light"
     },
     "output_type": "display_data"
    }
   ],
   "source": [
    "evals = svals*svals\n",
    "plt.hist(np.log10(evals), bins=100);\n",
    "plt.title(\"VGG11 ESD, all layer W's naively padded and stacked\")\n",
    "plt.xlabel(r\"Log EigenValues,  $\\log\\;\\lambda_{i}$\")"
   ]
  },
  {
   "cell_type": "code",
   "execution_count": 37,
   "metadata": {},
   "outputs": [
    {
     "data": {
      "text/plain": [
       "Text(0.5, 0, 'Log EigenValues,  $\\\\log\\\\;\\\\lambda,\\\\;\\\\;\\\\lambda>0.01$')"
      ]
     },
     "execution_count": 37,
     "metadata": {},
     "output_type": "execute_result"
    },
    {
     "data": {
      "image/png": "[encoded data removed]",
      "text/plain": [
       "<Figure size 432x288 with 1 Axes>"
      ]
     },
     "metadata": {
      "needs_background": "light"
     },
     "output_type": "display_data"
    }
   ],
   "source": [
    "evals_nz = evals[evals>0.01]\n",
    "plt.hist(np.log10(evals_nz), bins=100);\n",
    "plt.title(\"VGG11 non-zero ESD , all layer W's naively padded and stacked\")\n",
    "plt.xlabel(r\"Log EigenValues,  $\\log\\;\\lambda,\\;\\;\\lambda>0.01$\")"
   ]
  },
  {
   "cell_type": "code",
   "execution_count": 19,
   "metadata": {},
   "outputs": [
    {
     "data": {
      "text/plain": [
       "Text(0.5, 1.0, 'VGG11 Stacked ESD, log log plot')"
      ]
     },
     "execution_count": 19,
     "metadata": {},
     "output_type": "execute_result"
    },
    {
     "data": {
      "image/png": "[encoded data removed]",
      "text/plain": [
       "<Figure size 432x288 with 1 Axes>"
      ]
     },
     "metadata": {
      "needs_background": "light"
     },
     "output_type": "display_data"
    }
   ],
   "source": [
    "plt.loglog(evals);\n",
    "plt.title(\"VGG11 Stacked ESD, log log plot\")\n"
   ]
  },
  {
   "cell_type": "code",
   "execution_count": 38,
   "metadata": {},
   "outputs": [
    {
     "data": {
      "text/plain": [
       "Text(0.5, 1.0, 'VGG11 Stacked non-zero ESD, log log plot')"
      ]
     },
     "execution_count": 38,
     "metadata": {},
     "output_type": "execute_result"
    },
    {
     "data": {
      "image/png": "[encoded data removed]",
      "text/plain": [
       "<Figure size 432x288 with 1 Axes>"
      ]
     },
     "metadata": {
      "needs_background": "light"
     },
     "output_type": "display_data"
    }
   ],
   "source": [
    "plt.loglog(evals_nz);\n",
    "plt.title(\"VGG11 Stacked non-zero ESD, log log plot\")"
   ]
  },
  {
   "cell_type": "code",
   "execution_count": 39,
   "metadata": {},
   "outputs": [],
   "source": [
    "import powerlaw"
   ]
  },
  {
   "cell_type": "code",
   "execution_count": 42,
   "metadata": {},
   "outputs": [
    {
     "name": "stderr",
     "output_type": "stream",
     "text": [
      "Calculating best minimal value for power law fit\n"
     ]
    },
    {
     "data": {
      "text/plain": [
       "2.5611645424322322"
      ]
     },
     "execution_count": 42,
     "metadata": {},
     "output_type": "execute_result"
    }
   ],
   "source": [
    "results = powerlaw.Fit(evals_nz)\n",
    "results.alpha"
   ]
  },
  {
   "cell_type": "code",
   "execution_count": 46,
   "metadata": {},
   "outputs": [],
   "source": [
    "layer.evals = evals_nz"
   ]
  },
  {
   "cell_type": "markdown",
   "metadata": {},
   "source": [
    "#### The savefig option is not working correctly..."
   ]
  },
  {
   "cell_type": "code",
   "execution_count": 63,
   "metadata": {},
   "outputs": [],
   "source": [
    "params = {'glorot_fix': False, 'normalize':False, 'conv2d_norm':False, 'randomize': False, \n",
    "                  'savedir':None, 'savefig':False, 'rescale':True, 'plot':True,\n",
    "                  'deltaEs':False, 'intra':False, 'channels':None, 'conv2d_fft':False, \n",
    "                  'ww2x':False, 'vectors':False, 'smooth':None}"
   ]
  },
  {
   "cell_type": "code",
   "execution_count": 66,
   "metadata": {},
   "outputs": [
    {
     "name": "stderr",
     "output_type": "stream",
     "text": [
      "Assuming nested distributions\n"
     ]
    },
    {
     "ename": "TypeError",
     "evalue": "stat: path should be string, bytes, os.PathLike or integer, not NoneType",
     "output_type": "error",
     "traceback": [
      "\u001b[0;31m---------------------------------------------------------------------------\u001b[0m",
      "\u001b[0;31mTypeError\u001b[0m                                 Traceback (most recent call last)",
      "\u001b[0;32m<ipython-input-66-7af229c08d84>\u001b[0m in \u001b[0;36m<module>\u001b[0;34m\u001b[0m\n\u001b[0;32m----> 1\u001b[0;31m \u001b[0mwatcher\u001b[0m\u001b[0;34m.\u001b[0m\u001b[0mapply_fit_powerlaw\u001b[0m\u001b[0;34m(\u001b[0m\u001b[0mlayer\u001b[0m\u001b[0;34m,\u001b[0m \u001b[0mparams\u001b[0m\u001b[0;34m=\u001b[0m\u001b[0mparams\u001b[0m\u001b[0;34m)\u001b[0m\u001b[0;34m\u001b[0m\u001b[0;34m\u001b[0m\u001b[0m\n\u001b[0m",
      "\u001b[0;32m~/Desktop/work/weightwatcher/github/WeightWatcher/weightwatcher/weightwatcher.py\u001b[0m in \u001b[0;36mapply_fit_powerlaw\u001b[0;34m(self, ww_layer, params)\u001b[0m\n\u001b[1;32m   1304\u001b[0m \u001b[0;34m\u001b[0m\u001b[0m\n\u001b[1;32m   1305\u001b[0m         \u001b[0mlayer_name\u001b[0m \u001b[0;34m=\u001b[0m \u001b[0;34m\"Layer {}\"\u001b[0m\u001b[0;34m.\u001b[0m\u001b[0mformat\u001b[0m\u001b[0;34m(\u001b[0m\u001b[0mlayer_id\u001b[0m\u001b[0;34m)\u001b[0m\u001b[0;34m\u001b[0m\u001b[0;34m\u001b[0m\u001b[0m\n\u001b[0;32m-> 1306\u001b[0;31m         \u001b[0malpha\u001b[0m\u001b[0;34m,\u001b[0m \u001b[0mxmin\u001b[0m\u001b[0;34m,\u001b[0m \u001b[0mxmax\u001b[0m\u001b[0;34m,\u001b[0m \u001b[0mD\u001b[0m\u001b[0;34m,\u001b[0m \u001b[0msigma\u001b[0m\u001b[0;34m,\u001b[0m \u001b[0mnum_pl_spikes\u001b[0m\u001b[0;34m,\u001b[0m \u001b[0mbest_fit\u001b[0m \u001b[0;34m=\u001b[0m \u001b[0mself\u001b[0m\u001b[0;34m.\u001b[0m\u001b[0mfit_powerlaw\u001b[0m\u001b[0;34m(\u001b[0m\u001b[0mevals\u001b[0m\u001b[0;34m,\u001b[0m \u001b[0mxmin\u001b[0m\u001b[0;34m=\u001b[0m\u001b[0mxmin\u001b[0m\u001b[0;34m,\u001b[0m \u001b[0mxmax\u001b[0m\u001b[0;34m=\u001b[0m\u001b[0mxmax\u001b[0m\u001b[0;34m,\u001b[0m \u001b[0mplot\u001b[0m\u001b[0;34m=\u001b[0m\u001b[0mplot\u001b[0m\u001b[0;34m,\u001b[0m \u001b[0mlayer_name\u001b[0m\u001b[0;34m=\u001b[0m\u001b[0mlayer_name\u001b[0m\u001b[0;34m,\u001b[0m \u001b[0mlayer_id\u001b[0m\u001b[0;34m=\u001b[0m\u001b[0mlayer_id\u001b[0m\u001b[0;34m,\u001b[0m \u001b[0msample\u001b[0m\u001b[0;34m=\u001b[0m\u001b[0msample\u001b[0m\u001b[0;34m,\u001b[0m \u001b[0msample_size\u001b[0m\u001b[0;34m=\u001b[0m\u001b[0msample_size\u001b[0m\u001b[0;34m,\u001b[0m \u001b[0msavedir\u001b[0m\u001b[0;34m=\u001b[0m\u001b[0msavedir\u001b[0m\u001b[0;34m)\u001b[0m\u001b[0;34m\u001b[0m\u001b[0;34m\u001b[0m\u001b[0m\n\u001b[0m\u001b[1;32m   1307\u001b[0m \u001b[0;34m\u001b[0m\u001b[0m\n\u001b[1;32m   1308\u001b[0m         \u001b[0mww_layer\u001b[0m\u001b[0;34m.\u001b[0m\u001b[0madd_column\u001b[0m\u001b[0;34m(\u001b[0m\u001b[0;34m'alpha'\u001b[0m\u001b[0;34m,\u001b[0m \u001b[0malpha\u001b[0m\u001b[0;34m)\u001b[0m\u001b[0;34m\u001b[0m\u001b[0;34m\u001b[0m\u001b[0m\n",
      "\u001b[0;32m~/Desktop/work/weightwatcher/github/WeightWatcher/weightwatcher/weightwatcher.py\u001b[0m in \u001b[0;36mfit_powerlaw\u001b[0;34m(self, evals, xmin, xmax, plot, layer_name, layer_id, sample, sample_size, savedir, savefig)\u001b[0m\n\u001b[1;32m   1887\u001b[0m             \u001b[0;32mif\u001b[0m \u001b[0msavefig\u001b[0m\u001b[0;34m:\u001b[0m\u001b[0;34m\u001b[0m\u001b[0;34m\u001b[0m\u001b[0m\n\u001b[1;32m   1888\u001b[0m                 \u001b[0;31m#plt.savefig(\"ww.layer{}.esd.png\".format(layer_id))\u001b[0m\u001b[0;34m\u001b[0m\u001b[0;34m\u001b[0m\u001b[0;34m\u001b[0m\u001b[0m\n\u001b[0;32m-> 1889\u001b[0;31m                 \u001b[0msave_fig\u001b[0m\u001b[0;34m(\u001b[0m\u001b[0mplt\u001b[0m\u001b[0;34m,\u001b[0m \u001b[0;34m\"esd\"\u001b[0m\u001b[0;34m,\u001b[0m \u001b[0mlayer_id\u001b[0m\u001b[0;34m,\u001b[0m \u001b[0msavedir\u001b[0m\u001b[0;34m)\u001b[0m\u001b[0;34m\u001b[0m\u001b[0;34m\u001b[0m\u001b[0m\n\u001b[0m\u001b[1;32m   1890\u001b[0m             \u001b[0mplt\u001b[0m\u001b[0;34m.\u001b[0m\u001b[0mshow\u001b[0m\u001b[0;34m(\u001b[0m\u001b[0;34m)\u001b[0m\u001b[0;34m;\u001b[0m \u001b[0mplt\u001b[0m\u001b[0;34m.\u001b[0m\u001b[0mclf\u001b[0m\u001b[0;34m(\u001b[0m\u001b[0;34m)\u001b[0m\u001b[0;34m\u001b[0m\u001b[0;34m\u001b[0m\u001b[0m\n\u001b[1;32m   1891\u001b[0m \u001b[0;34m\u001b[0m\u001b[0m\n",
      "\u001b[0;32m~/Desktop/work/weightwatcher/github/WeightWatcher/weightwatcher/RMT_Util.py\u001b[0m in \u001b[0;36msave_fig\u001b[0;34m(plt, figname, layer_id, savedir)\u001b[0m\n\u001b[1;32m    602\u001b[0m \u001b[0;34m\u001b[0m\u001b[0m\n\u001b[1;32m    603\u001b[0m     \u001b[0mfigname\u001b[0m \u001b[0;34m=\u001b[0m \u001b[0;34m\"{}/ww.layer{}.{}.png\"\u001b[0m\u001b[0;34m.\u001b[0m\u001b[0mformat\u001b[0m\u001b[0;34m(\u001b[0m\u001b[0msavedir\u001b[0m\u001b[0;34m,\u001b[0m \u001b[0mlayer_id\u001b[0m\u001b[0;34m,\u001b[0m \u001b[0mfigname\u001b[0m\u001b[0;34m)\u001b[0m\u001b[0;34m\u001b[0m\u001b[0;34m\u001b[0m\u001b[0m\n\u001b[0;32m--> 604\u001b[0;31m     \u001b[0;32mif\u001b[0m \u001b[0;32mnot\u001b[0m \u001b[0mos\u001b[0m\u001b[0;34m.\u001b[0m\u001b[0mpath\u001b[0m\u001b[0;34m.\u001b[0m\u001b[0misdir\u001b[0m\u001b[0;34m(\u001b[0m\u001b[0msavedir\u001b[0m\u001b[0;34m)\u001b[0m\u001b[0;34m:\u001b[0m\u001b[0;34m\u001b[0m\u001b[0;34m\u001b[0m\u001b[0m\n\u001b[0m\u001b[1;32m    605\u001b[0m         \u001b[0mos\u001b[0m\u001b[0;34m.\u001b[0m\u001b[0mmkdir\u001b[0m\u001b[0;34m(\u001b[0m\u001b[0msavedir\u001b[0m\u001b[0;34m)\u001b[0m\u001b[0;34m\u001b[0m\u001b[0;34m\u001b[0m\u001b[0m\n\u001b[1;32m    606\u001b[0m     \u001b[0mplt\u001b[0m\u001b[0;34m.\u001b[0m\u001b[0msavefig\u001b[0m\u001b[0;34m(\u001b[0m\u001b[0mfigname\u001b[0m\u001b[0;34m)\u001b[0m\u001b[0;34m\u001b[0m\u001b[0;34m\u001b[0m\u001b[0m\n",
      "\u001b[0;32m~/anaconda3/envs/ww0.5/lib/python3.8/genericpath.py\u001b[0m in \u001b[0;36misdir\u001b[0;34m(s)\u001b[0m\n\u001b[1;32m     40\u001b[0m     \u001b[0;34m\"\"\"Return true if the pathname refers to an existing directory.\"\"\"\u001b[0m\u001b[0;34m\u001b[0m\u001b[0;34m\u001b[0m\u001b[0m\n\u001b[1;32m     41\u001b[0m     \u001b[0;32mtry\u001b[0m\u001b[0;34m:\u001b[0m\u001b[0;34m\u001b[0m\u001b[0;34m\u001b[0m\u001b[0m\n\u001b[0;32m---> 42\u001b[0;31m         \u001b[0mst\u001b[0m \u001b[0;34m=\u001b[0m \u001b[0mos\u001b[0m\u001b[0;34m.\u001b[0m\u001b[0mstat\u001b[0m\u001b[0;34m(\u001b[0m\u001b[0ms\u001b[0m\u001b[0;34m)\u001b[0m\u001b[0;34m\u001b[0m\u001b[0;34m\u001b[0m\u001b[0m\n\u001b[0m\u001b[1;32m     43\u001b[0m     \u001b[0;32mexcept\u001b[0m \u001b[0;34m(\u001b[0m\u001b[0mOSError\u001b[0m\u001b[0;34m,\u001b[0m \u001b[0mValueError\u001b[0m\u001b[0;34m)\u001b[0m\u001b[0;34m:\u001b[0m\u001b[0;34m\u001b[0m\u001b[0;34m\u001b[0m\u001b[0m\n\u001b[1;32m     44\u001b[0m         \u001b[0;32mreturn\u001b[0m \u001b[0;32mFalse\u001b[0m\u001b[0;34m\u001b[0m\u001b[0;34m\u001b[0m\u001b[0m\n",
      "\u001b[0;31mTypeError\u001b[0m: stat: path should be string, bytes, os.PathLike or integer, not NoneType"
     ]
    },
    {
     "data": {
      "image/png": "[encoded data removed]",
      "text/plain": [
       "<Figure size 432x288 with 1 Axes>"
      ]
     },
     "metadata": {
      "needs_background": "light"
     },
     "output_type": "display_data"
    }
   ],
   "source": [
    "watcher.apply_fit_powerlaw(layer, params=params)"
   ]
  },
  {
   "cell_type": "code",
   "execution_count": null,
   "metadata": {},
   "outputs": [],
   "source": []
  }
 ],
 "metadata": {
  "kernelspec": {
   "display_name": "Python 3",
   "language": "python",
   "name": "python3"
  },
  "language_info": {
   "codemirror_mode": {
    "name": "ipython",
    "version": 3
   },
   "file_extension": ".py",
   "mimetype": "text/x-python",
   "name": "python",
   "nbconvert_exporter": "python",
   "pygments_lexer": "ipython3",
   "version": "3.8.5"
  }
 },
 "nbformat": 4,
 "nbformat_minor": 4
}
