{
  "cells": [
    {
      "cell_type": "markdown",
      "metadata": {
        "id": "view-in-github",
        "colab_type": "text"
      },
      "source": [
        "<a href=\"https://colab.research.google.com/github/CalculatedContent/WeightWatcher/blob/master/BuildWeightWatcher1Pass.ipynb\" target=\"_parent\"><img src=\"https://colab.research.google.com/assets/colab-badge.svg\" alt=\"Open In Colab\"/></a>"
      ]
    },
    {
      "cell_type": "code",
      "execution_count": 1,
      "metadata": {
        "colab": {
          "base_uri": "https://localhost:8080/"
        },
        "id": "G1fhIR2qLyqa",
        "outputId": "be70cd7f-83e7-44d0-be4b-03d056e2fa40"
      },
      "outputs": [
        {
          "output_type": "stream",
          "name": "stdout",
          "text": [
            "Cloning into 'WeightWatcher'...\n",
            "remote: Enumerating objects: 3254, done.\u001b[K\n",
            "remote: Counting objects:   0% (1/503)\u001b[K\rremote: Counting objects:   1% (6/503)\u001b[K\rremote: Counting objects:   2% (11/503)\u001b[K\rremote: Counting objects:   3% (16/503)\u001b[K\rremote: Counting objects:   4% (21/503)\u001b[K\rremote: Counting objects:   5% (26/503)\u001b[K\rremote: Counting objects:   6% (31/503)\u001b[K\rremote: Counting objects:   7% (36/503)\u001b[K\rremote: Counting objects:   8% (41/503)\u001b[K\rremote: Counting objects:   9% (46/503)\u001b[K\rremote: Counting objects:  10% (51/503)\u001b[K\rremote: Counting objects:  11% (56/503)\u001b[K\rremote: Counting objects:  12% (61/503)\u001b[K\rremote: Counting objects:  13% (66/503)\u001b[K\rremote: Counting objects:  14% (71/503)\u001b[K\rremote: Counting objects:  15% (76/503)\u001b[K\rremote: Counting objects:  16% (81/503)\u001b[K\rremote: Counting objects:  17% (86/503)\u001b[K\rremote: Counting objects:  18% (91/503)\u001b[K\rremote: Counting objects:  19% (96/503)\u001b[K\rremote: Counting objects:  20% (101/503)\u001b[K\rremote: Counting objects:  21% (106/503)\u001b[K\rremote: Counting objects:  22% (111/503)\u001b[K\rremote: Counting objects:  23% (116/503)\u001b[K\rremote: Counting objects:  24% (121/503)\u001b[K\rremote: Counting objects:  25% (126/503)\u001b[K\rremote: Counting objects:  26% (131/503)\u001b[K\rremote: Counting objects:  27% (136/503)\u001b[K\rremote: Counting objects:  28% (141/503)\u001b[K\rremote: Counting objects:  29% (146/503)\u001b[K\rremote: Counting objects:  30% (151/503)\u001b[K\rremote: Counting objects:  31% (156/503)\u001b[K\rremote: Counting objects:  32% (161/503)\u001b[K\rremote: Counting objects:  33% (166/503)\u001b[K\rremote: Counting objects:  34% (172/503)\u001b[K\rremote: Counting objects:  35% (177/503)\u001b[K\rremote: Counting objects:  36% (182/503)\u001b[K\rremote: Counting objects:  37% (187/503)\u001b[K\rremote: Counting objects:  38% (192/503)\u001b[K\rremote: Counting objects:  39% (197/503)\u001b[K\rremote: Counting objects:  40% (202/503)\u001b[K\rremote: Counting objects:  41% (207/503)\u001b[K\rremote: Counting objects:  42% (212/503)\u001b[K\rremote: Counting objects:  43% (217/503)\u001b[K\rremote: Counting objects:  44% (222/503)\u001b[K\rremote: Counting objects:  45% (227/503)\u001b[K\rremote: Counting objects:  46% (232/503)\u001b[K\rremote: Counting objects:  47% (237/503)\u001b[K\rremote: Counting objects:  48% (242/503)\u001b[K\rremote: Counting objects:  49% (247/503)\u001b[K\rremote: Counting objects:  50% (252/503)\u001b[K\rremote: Counting objects:  51% (257/503)\u001b[K\rremote: Counting objects:  52% (262/503)\u001b[K\rremote: Counting objects:  53% (267/503)\u001b[K\rremote: Counting objects:  54% (272/503)\u001b[K\rremote: Counting objects:  55% (277/503)\u001b[K\rremote: Counting objects:  56% (282/503)\u001b[K\rremote: Counting objects:  57% (287/503)\u001b[K\rremote: Counting objects:  58% (292/503)\u001b[K\rremote: Counting objects:  59% (297/503)\u001b[K\rremote: Counting objects:  60% (302/503)\u001b[K\rremote: Counting objects:  61% (307/503)\u001b[K\rremote: Counting objects:  62% (312/503)\u001b[K\rremote: Counting objects:  63% (317/503)\u001b[K\rremote: Counting objects:  64% (322/503)\u001b[K\rremote: Counting objects:  65% (327/503)\u001b[K\rremote: Counting objects:  66% (332/503)\u001b[K\rremote: Counting objects:  67% (338/503)\u001b[K\rremote: Counting objects:  68% (343/503)\u001b[K\rremote: Counting objects:  69% (348/503)\u001b[K\rremote: Counting objects:  70% (353/503)\u001b[K\rremote: Counting objects:  71% (358/503)\u001b[K\rremote: Counting objects:  72% (363/503)\u001b[K\rremote: Counting objects:  73% (368/503)\u001b[K\rremote: Counting objects:  74% (373/503)\u001b[K\rremote: Counting objects:  75% (378/503)\u001b[K\rremote: Counting objects:  76% (383/503)\u001b[K\rremote: Counting objects:  77% (388/503)\u001b[K\rremote: Counting objects:  78% (393/503)\u001b[K\rremote: Counting objects:  79% (398/503)\u001b[K\rremote: Counting objects:  80% (403/503)\u001b[K\rremote: Counting objects:  81% (408/503)\u001b[K\rremote: Counting objects:  82% (413/503)\u001b[K\rremote: Counting objects:  83% (418/503)\u001b[K\rremote: Counting objects:  84% (423/503)\u001b[K\rremote: Counting objects:  85% (428/503)\u001b[K\rremote: Counting objects:  86% (433/503)\u001b[K\rremote: Counting objects:  87% (438/503)\u001b[K\rremote: Counting objects:  88% (443/503)\u001b[K\rremote: Counting objects:  89% (448/503)\u001b[K\rremote: Counting objects:  90% (453/503)\u001b[K\rremote: Counting objects:  91% (458/503)\u001b[K\rremote: Counting objects:  92% (463/503)\u001b[K\rremote: Counting objects:  93% (468/503)\u001b[K\rremote: Counting objects:  94% (473/503)\u001b[K\rremote: Counting objects:  95% (478/503)\u001b[K\rremote: Counting objects:  96% (483/503)\u001b[K\rremote: Counting objects:  97% (488/503)\u001b[K\rremote: Counting objects:  98% (493/503)\u001b[K\rremote: Counting objects:  99% (498/503)\u001b[K\rremote: Counting objects: 100% (503/503)\u001b[K\rremote: Counting objects: 100% (503/503), done.\u001b[K\n",
            "remote: Compressing objects: 100% (128/128), done.\u001b[K\n",
            "remote: Total 3254 (delta 404), reused 451 (delta 375), pack-reused 2751\u001b[K\n",
            "Receiving objects: 100% (3254/3254), 95.32 MiB | 16.94 MiB/s, done.\n",
            "Resolving deltas: 100% (2130/2130), done.\n"
          ]
        }
      ],
      "source": [
        "!git clone https://github.com/CalculatedContent/WeightWatcher.git"
      ]
    },
    {
      "cell_type": "code",
      "execution_count": 2,
      "metadata": {
        "colab": {
          "base_uri": "https://localhost:8080/"
        },
        "id": "NPMi2ScqL3nz",
        "outputId": "93665e1d-680c-4b8e-c7c7-7c68a3dd64fb"
      },
      "outputs": [
        {
          "output_type": "stream",
          "name": "stdout",
          "text": [
            "Looking in indexes: https://pypi.org/simple, https://us-python.pkg.dev/colab-wheels/public/simple/\n",
            "Collecting transformers\n",
            "  Using cached transformers-4.26.1-py3-none-any.whl (6.3 MB)\n",
            "Requirement already satisfied: packaging>=20.0 in /usr/local/lib/python3.8/dist-packages (from transformers) (23.0)\n",
            "Collecting huggingface-hub<1.0,>=0.11.0\n",
            "  Downloading huggingface_hub-0.12.0-py3-none-any.whl (190 kB)\n",
            "\u001b[2K     \u001b[90m━━━━━━━━━━━━━━━━━━━━━━━━━━━━━━━━━━━━━━━\u001b[0m \u001b[32m190.3/190.3 KB\u001b[0m \u001b[31m5.9 MB/s\u001b[0m eta \u001b[36m0:00:00\u001b[0m\n",
            "\u001b[?25hRequirement already satisfied: numpy>=1.17 in /usr/local/lib/python3.8/dist-packages (from transformers) (1.21.6)\n",
            "Collecting tokenizers!=0.11.3,<0.14,>=0.11.1\n",
            "  Downloading tokenizers-0.13.2-cp38-cp38-manylinux_2_17_x86_64.manylinux2014_x86_64.whl (7.6 MB)\n",
            "\u001b[2K     \u001b[90m━━━━━━━━━━━━━━━━━━━━━━━━━━━━━━━━━━━━━━━━\u001b[0m \u001b[32m7.6/7.6 MB\u001b[0m \u001b[31m79.5 MB/s\u001b[0m eta \u001b[36m0:00:00\u001b[0m\n",
            "\u001b[?25hRequirement already satisfied: tqdm>=4.27 in /usr/local/lib/python3.8/dist-packages (from transformers) (4.64.1)\n",
            "Requirement already satisfied: requests in /usr/local/lib/python3.8/dist-packages (from transformers) (2.25.1)\n",
            "Requirement already satisfied: pyyaml>=5.1 in /usr/local/lib/python3.8/dist-packages (from transformers) (6.0)\n",
            "Requirement already satisfied: regex!=2019.12.17 in /usr/local/lib/python3.8/dist-packages (from transformers) (2022.6.2)\n",
            "Requirement already satisfied: filelock in /usr/local/lib/python3.8/dist-packages (from transformers) (3.9.0)\n",
            "Requirement already satisfied: typing-extensions>=3.7.4.3 in /usr/local/lib/python3.8/dist-packages (from huggingface-hub<1.0,>=0.11.0->transformers) (4.4.0)\n",
            "Requirement already satisfied: idna<3,>=2.5 in /usr/local/lib/python3.8/dist-packages (from requests->transformers) (2.10)\n",
            "Requirement already satisfied: certifi>=2017.4.17 in /usr/local/lib/python3.8/dist-packages (from requests->transformers) (2022.12.7)\n",
            "Requirement already satisfied: urllib3<1.27,>=1.21.1 in /usr/local/lib/python3.8/dist-packages (from requests->transformers) (1.24.3)\n",
            "Requirement already satisfied: chardet<5,>=3.0.2 in /usr/local/lib/python3.8/dist-packages (from requests->transformers) (4.0.0)\n",
            "Installing collected packages: tokenizers, huggingface-hub, transformers\n",
            "Successfully installed huggingface-hub-0.12.0 tokenizers-0.13.2 transformers-4.26.1\n"
          ]
        }
      ],
      "source": [
        "!pip install transformers"
      ]
    },
    {
      "cell_type": "code",
      "execution_count": 3,
      "metadata": {
        "colab": {
          "base_uri": "https://localhost:8080/"
        },
        "collapsed": true,
        "id": "qmn7e65AL94c",
        "jupyter": {
          "outputs_hidden": true
        },
        "outputId": "8ba1ccd9-d11d-4687-f6f4-eba1fece60bd",
        "tags": []
      },
      "outputs": [
        {
          "output_type": "stream",
          "name": "stdout",
          "text": [
            "/content/WeightWatcher\n",
            "/usr/local/lib/python3.8/dist-packages/setuptools/dist.py:697: UserWarning: Usage of dash-separated 'description-file' will not be supported in future versions. Please use the underscore name 'description_file' instead\n",
            "  warnings.warn(\n",
            "running build\n",
            "running build_py\n",
            "creating build\n",
            "creating build/lib\n",
            "creating build/lib/weightwatcher\n",
            "copying weightwatcher/RMT_Util.py -> build/lib/weightwatcher\n",
            "copying weightwatcher/constants.py -> build/lib/weightwatcher\n",
            "copying weightwatcher/__init__.py -> build/lib/weightwatcher\n",
            "copying weightwatcher/weightwatcher.py -> build/lib/weightwatcher\n",
            "copying weightwatcher/__main__.py -> build/lib/weightwatcher\n",
            "running egg_info\n",
            "creating weightwatcher.egg-info\n",
            "writing weightwatcher.egg-info/PKG-INFO\n",
            "writing dependency_links to weightwatcher.egg-info/dependency_links.txt\n",
            "writing entry points to weightwatcher.egg-info/entry_points.txt\n",
            "writing requirements to weightwatcher.egg-info/requires.txt\n",
            "writing top-level names to weightwatcher.egg-info/top_level.txt\n",
            "writing manifest file 'weightwatcher.egg-info/SOURCES.txt'\n",
            "reading manifest file 'weightwatcher.egg-info/SOURCES.txt'\n",
            "adding license file 'LICENSE.txt'\n",
            "writing manifest file 'weightwatcher.egg-info/SOURCES.txt'\n",
            "running install\n",
            "running bdist_egg\n",
            "installing library code to build/bdist.linux-x86_64/egg\n",
            "running install_lib\n",
            "creating build/bdist.linux-x86_64\n",
            "creating build/bdist.linux-x86_64/egg\n",
            "creating build/bdist.linux-x86_64/egg/weightwatcher\n",
            "copying build/lib/weightwatcher/RMT_Util.py -> build/bdist.linux-x86_64/egg/weightwatcher\n",
            "copying build/lib/weightwatcher/constants.py -> build/bdist.linux-x86_64/egg/weightwatcher\n",
            "copying build/lib/weightwatcher/__init__.py -> build/bdist.linux-x86_64/egg/weightwatcher\n",
            "copying build/lib/weightwatcher/weightwatcher.py -> build/bdist.linux-x86_64/egg/weightwatcher\n",
            "copying build/lib/weightwatcher/__main__.py -> build/bdist.linux-x86_64/egg/weightwatcher\n",
            "byte-compiling build/bdist.linux-x86_64/egg/weightwatcher/RMT_Util.py to RMT_Util.cpython-38.pyc\n",
            "byte-compiling build/bdist.linux-x86_64/egg/weightwatcher/constants.py to constants.cpython-38.pyc\n",
            "byte-compiling build/bdist.linux-x86_64/egg/weightwatcher/__init__.py to __init__.cpython-38.pyc\n",
            "byte-compiling build/bdist.linux-x86_64/egg/weightwatcher/weightwatcher.py to weightwatcher.cpython-38.pyc\n",
            "byte-compiling build/bdist.linux-x86_64/egg/weightwatcher/__main__.py to __main__.cpython-38.pyc\n",
            "creating build/bdist.linux-x86_64/egg/EGG-INFO\n",
            "copying weightwatcher.egg-info/PKG-INFO -> build/bdist.linux-x86_64/egg/EGG-INFO\n",
            "copying weightwatcher.egg-info/SOURCES.txt -> build/bdist.linux-x86_64/egg/EGG-INFO\n",
            "copying weightwatcher.egg-info/dependency_links.txt -> build/bdist.linux-x86_64/egg/EGG-INFO\n",
            "copying weightwatcher.egg-info/entry_points.txt -> build/bdist.linux-x86_64/egg/EGG-INFO\n",
            "copying weightwatcher.egg-info/requires.txt -> build/bdist.linux-x86_64/egg/EGG-INFO\n",
            "copying weightwatcher.egg-info/top_level.txt -> build/bdist.linux-x86_64/egg/EGG-INFO\n",
            "zip_safe flag not set; analyzing archive contents...\n",
            "creating dist\n",
            "creating 'dist/weightwatcher-0.6.4.1-py3.8.egg' and adding 'build/bdist.linux-x86_64/egg' to it\n",
            "removing 'build/bdist.linux-x86_64/egg' (and everything under it)\n",
            "Processing weightwatcher-0.6.4.1-py3.8.egg\n",
            "Copying weightwatcher-0.6.4.1-py3.8.egg to /usr/local/lib/python3.8/dist-packages\n",
            "Adding weightwatcher 0.6.4.1 to easy-install.pth file\n",
            "Installing weightwatcher script to /usr/local/bin\n",
            "\n",
            "Installed /usr/local/lib/python3.8/dist-packages/weightwatcher-0.6.4.1-py3.8.egg\n",
            "Processing dependencies for weightwatcher==0.6.4.1\n",
            "Searching for powerlaw\n",
            "Reading https://pypi.org/simple/powerlaw/\n",
            "Downloading https://files.pythonhosted.org/packages/e8/26/e0daa306f83d705bc1ed4d6759b7fc945cc787530c230ee1fe299cc28093/powerlaw-1.5-py3-none-any.whl#sha256=633a669573d9fd663d2f452f121117f2d6b2f2c502eca532f9355f733abfec96\n",
            "Best match: powerlaw 1.5\n",
            "Processing powerlaw-1.5-py3-none-any.whl\n",
            "Installing powerlaw-1.5-py3-none-any.whl to /usr/local/lib/python3.8/dist-packages\n",
            "Adding powerlaw 1.5 to easy-install.pth file\n",
            "\n",
            "Installed /usr/local/lib/python3.8/dist-packages/powerlaw-1.5-py3.8.egg\n",
            "Searching for matplotlib-inline\n",
            "Reading https://pypi.org/simple/matplotlib-inline/\n",
            "Downloading https://files.pythonhosted.org/packages/f2/51/c34d7a1d528efaae3d8ddb18ef45a41f284eacf9e514523b191b7d0872cc/matplotlib_inline-0.1.6-py3-none-any.whl#sha256=f1f41aab5328aa5aaea9b16d083b128102f8712542f819fe7e6a420ff581b311\n",
            "Best match: matplotlib-inline 0.1.6\n",
            "Processing matplotlib_inline-0.1.6-py3-none-any.whl\n",
            "Installing matplotlib_inline-0.1.6-py3-none-any.whl to /usr/local/lib/python3.8/dist-packages\n",
            "Adding matplotlib-inline 0.1.6 to easy-install.pth file\n",
            "\n",
            "Installed /usr/local/lib/python3.8/dist-packages/matplotlib_inline-0.1.6-py3.8.egg\n",
            "Searching for tqdm==4.64.1\n",
            "Best match: tqdm 4.64.1\n",
            "Adding tqdm 4.64.1 to easy-install.pth file\n",
            "Installing tqdm script to /usr/local/bin\n",
            "\n",
            "Using /usr/local/lib/python3.8/dist-packages\n",
            "Searching for scikit-learn==1.0.2\n",
            "Best match: scikit-learn 1.0.2\n",
            "Adding scikit-learn 1.0.2 to easy-install.pth file\n",
            "\n",
            "Using /usr/local/lib/python3.8/dist-packages\n",
            "Searching for matplotlib==3.2.2\n",
            "Best match: matplotlib 3.2.2\n",
            "Adding matplotlib 3.2.2 to easy-install.pth file\n",
            "\n",
            "Using /usr/local/lib/python3.8/dist-packages\n",
            "Searching for pandas==1.3.5\n",
            "Best match: pandas 1.3.5\n",
            "Adding pandas 1.3.5 to easy-install.pth file\n",
            "\n",
            "Using /usr/local/lib/python3.8/dist-packages\n",
            "Searching for numpy==1.21.6\n",
            "Best match: numpy 1.21.6\n",
            "Adding numpy 1.21.6 to easy-install.pth file\n",
            "Installing f2py script to /usr/local/bin\n",
            "Installing f2py3 script to /usr/local/bin\n",
            "Installing f2py3.8 script to /usr/local/bin\n",
            "\n",
            "Using /usr/local/lib/python3.8/dist-packages\n",
            "Searching for threadpoolctl==3.1.0\n",
            "Best match: threadpoolctl 3.1.0\n",
            "Adding threadpoolctl 3.1.0 to easy-install.pth file\n",
            "\n",
            "Using /usr/local/lib/python3.8/dist-packages\n",
            "Searching for scipy==1.7.3\n",
            "Best match: scipy 1.7.3\n",
            "Adding scipy 1.7.3 to easy-install.pth file\n",
            "\n",
            "Using /usr/local/lib/python3.8/dist-packages\n",
            "Searching for joblib==1.2.0\n",
            "Best match: joblib 1.2.0\n",
            "Adding joblib 1.2.0 to easy-install.pth file\n",
            "\n",
            "Using /usr/local/lib/python3.8/dist-packages\n",
            "Searching for mpmath==1.2.1\n",
            "Best match: mpmath 1.2.1\n",
            "Adding mpmath 1.2.1 to easy-install.pth file\n",
            "\n",
            "Using /usr/local/lib/python3.8/dist-packages\n",
            "Searching for traitlets==5.7.1\n",
            "Best match: traitlets 5.7.1\n",
            "Adding traitlets 5.7.1 to easy-install.pth file\n",
            "\n",
            "Using /usr/local/lib/python3.8/dist-packages\n",
            "Searching for python-dateutil==2.8.2\n",
            "Best match: python-dateutil 2.8.2\n",
            "Adding python-dateutil 2.8.2 to easy-install.pth file\n",
            "\n",
            "Using /usr/local/lib/python3.8/dist-packages\n",
            "Searching for cycler==0.11.0\n",
            "Best match: cycler 0.11.0\n",
            "Adding cycler 0.11.0 to easy-install.pth file\n",
            "\n",
            "Using /usr/local/lib/python3.8/dist-packages\n",
            "Searching for kiwisolver==1.4.4\n",
            "Best match: kiwisolver 1.4.4\n",
            "Adding kiwisolver 1.4.4 to easy-install.pth file\n",
            "\n",
            "Using /usr/local/lib/python3.8/dist-packages\n",
            "Searching for pyparsing==3.0.9\n",
            "Best match: pyparsing 3.0.9\n",
            "Adding pyparsing 3.0.9 to easy-install.pth file\n",
            "\n",
            "Using /usr/local/lib/python3.8/dist-packages\n",
            "Searching for pytz==2022.7.1\n",
            "Best match: pytz 2022.7.1\n",
            "Adding pytz 2022.7.1 to easy-install.pth file\n",
            "\n",
            "Using /usr/local/lib/python3.8/dist-packages\n",
            "Searching for six==1.15.0\n",
            "Best match: six 1.15.0\n",
            "Adding six 1.15.0 to easy-install.pth file\n",
            "\n",
            "Using /usr/local/lib/python3.8/dist-packages\n",
            "Finished processing dependencies for weightwatcher==0.6.4.1\n"
          ]
        }
      ],
      "source": [
        "%cd WeightWatcher\n",
        "!python setup.py build install "
      ]
    },
    {
      "cell_type": "code",
      "execution_count": null,
      "metadata": {
        "colab": {
          "base_uri": "https://localhost:8080/"
        },
        "id": "m3qD_XDNMGhL",
        "outputId": "fd1fa649-1ad4-4f6c-fac0-dea50a260bae",
        "tags": []
      },
      "outputs": [
        {
          "output_type": "stream",
          "name": "stdout",
          "text": [
            "/usr/local/lib/python3.8/dist-packages/setuptools/dist.py:697: UserWarning: Usage of dash-separated 'description-file' will not be supported in future versions. Please use the underscore name 'description_file' instead\n",
            "  warnings.warn(\n",
            "running test\n",
            "WARNING: Testing via this command is deprecated and will be removed in a future version. Users looking for a generic test entry point independent of test runner are encouraged to use tox.\n",
            "running egg_info\n",
            "writing weightwatcher.egg-info/PKG-INFO\n",
            "writing dependency_links to weightwatcher.egg-info/dependency_links.txt\n",
            "writing entry points to weightwatcher.egg-info/entry_points.txt\n",
            "writing requirements to weightwatcher.egg-info/requires.txt\n",
            "writing top-level names to weightwatcher.egg-info/top_level.txt\n",
            "reading manifest file 'weightwatcher.egg-info/SOURCES.txt'\n",
            "adding license file 'LICENSE.txt'\n",
            "writing manifest file 'weightwatcher.egg-info/SOURCES.txt'\n",
            "running build_ext\n",
            "test_column_names_analyze (tests.test.TestPandas) ... \n",
            "-------------------------------------\n",
            "In TestPandas: test_column_names_analyze\n",
            "\n",
            "\n",
            "python      version 3.8.10 (default, Nov 14 2022, 12:59:47) \n",
            "[GCC 9.4.0]\n",
            "numpy       version 1.21.6\n",
            "torch version 1.13.1+cu116\n",
            "ok\n",
            "test_column_names_analyze_intra (tests.test.TestPandas) ... \n",
            "-------------------------------------\n",
            "In TestPandas: test_column_names_analyze_intra\n",
            "\n",
            "\n",
            "python      version 3.8.10 (default, Nov 14 2022, 12:59:47) \n",
            "[GCC 9.4.0]\n",
            "numpy       version 1.21.6\n",
            "torch version 1.13.1+cu116\n",
            "ok\n",
            "test_column_names_analyze_mp_fit (tests.test.TestPandas) ... \n",
            "-------------------------------------\n",
            "In TestPandas: test_column_names_analyze_mp_fit\n",
            "\n",
            "\n",
            "python      version 3.8.10 (default, Nov 14 2022, 12:59:47) \n",
            "[GCC 9.4.0]\n",
            "numpy       version 1.21.6\n",
            "torch version 1.13.1+cu116\n",
            "ok\n",
            "test_column_names_analyze_randomize (tests.test.TestPandas) ... \n",
            "-------------------------------------\n",
            "In TestPandas: test_column_names_analyze_randomize\n",
            "\n",
            "\n",
            "python      version 3.8.10 (default, Nov 14 2022, 12:59:47) \n",
            "[GCC 9.4.0]\n",
            "numpy       version 1.21.6\n",
            "torch version 1.13.1+cu116\n"
          ]
        }
      ],
      "source": [
        "!python setup.py test"
      ]
    },
    {
      "cell_type": "markdown",
      "metadata": {
        "id": "4KhAqmYFZvij"
      },
      "source": [
        "### Deploy to test pypi"
      ]
    },
    {
      "cell_type": "code",
      "execution_count": null,
      "metadata": {
        "id": "Siilv3JpZu-o"
      },
      "outputs": [],
      "source": [
        "!python -m pip install --upgrade setuptools wheel twine\n",
        "!python setup.py sdist bdist_wheel\n",
        "!twine check dist/*\n",
        "!ls dist"
      ]
    },
    {
      "cell_type": "code",
      "execution_count": null,
      "metadata": {
        "id": "vVf89jPdZ8tS"
      },
      "outputs": [],
      "source": [
        "#!twine upload --repository testpypi dist/*\n"
      ]
    },
    {
      "cell_type": "code",
      "execution_count": null,
      "metadata": {
        "id": "6MB-2fulKYiA"
      },
      "outputs": [],
      "source": [
        "charles"
      ]
    }
  ],
  "metadata": {
    "colab": {
      "provenance": [],
      "include_colab_link": true
    },
    "kernelspec": {
      "display_name": "Python 3 (ipykernel)",
      "language": "python",
      "name": "python3"
    },
    "language_info": {
      "codemirror_mode": {
        "name": "ipython",
        "version": 3
      },
      "file_extension": ".py",
      "mimetype": "text/x-python",
      "name": "python",
      "nbconvert_exporter": "python",
      "pygments_lexer": "ipython3",
      "version": "3.9.12"
    },
    "accelerator": "GPU",
    "gpuClass": "standard"
  },
  "nbformat": 4,
  "nbformat_minor": 0
}