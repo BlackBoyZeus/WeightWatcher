{
 "cells": [
  {
   "cell_type": "markdown",
   "metadata": {},
   "source": [
    "\n",
    "# TestBulkEdge\n",
    "\n",
    "Test the fluctuatona at the MP Bulk Edge resolve issue #64\n",
    "\n",
    "https://github.com/CalculatedContent/WeightWatcher/issues/84\n"
   ]
  },
  {
   "cell_type": "code",
   "execution_count": null,
   "metadata": {
    "scrolled": true
   },
   "outputs": [],
   "source": [
    "import numpy as np\n",
    "import pandas as pd\n",
    "\n",
    "import matplotlib\n",
    "import matplotlib.pyplot as plt\n",
    "%matplotlib inline\n"
   ]
  },
  {
   "cell_type": "markdown",
   "metadata": {
    "ExecuteTime": {
     "end_time": "2019-03-06T00:16:43.249725Z",
     "start_time": "2019-03-06T00:16:43.240611Z"
    }
   },
   "source": [
    "### Import WeightWatcher\n",
    "\n",
    "set custom Logging at WARN Level"
   ]
  },
  {
   "cell_type": "code",
   "execution_count": null,
   "metadata": {},
   "outputs": [],
   "source": [
    "\n",
    "def marchenko_pastur_pdf(x_min, x_max, Q, sigma=1):\n",
    "    y=1/Q\n",
    "    x=np.arange(x_min,x_max,0.001)\n",
    "\n",
    "    b=np.power(sigma*(1 + np.sqrt(1/Q)),2) # Largest eigenvalue\n",
    "    a=np.power(sigma*(1 - np.sqrt(1/Q)),2) # Smallest eigenvalue\n",
    "    return x, (1/(2*np.pi*sigma*sigma*x*y))*np.sqrt((b-x)*(x-a))"
   ]
  },
  {
   "cell_type": "code",
   "execution_count": null,
   "metadata": {},
   "outputs": [],
   "source": [
    "def plot_mp(evals, Q, sigma=1.0):\n",
    "    ev = np.array(evals)\n",
    "    x_min, x_max =  0, np.max(evals)\n",
    "\n",
    "    x, mp = marchenko_pastur_pdf(x_min, x_max, Q, sigma)\n",
    "    plt.plot(x,mp, linewidth=1, color = 'r', label=\"MP fit\")"
   ]
  },
  {
   "cell_type": "code",
   "execution_count": null,
   "metadata": {},
   "outputs": [],
   "source": [
    "Q = 2\n",
    "evals = []\n",
    "R = 5000\n",
    "for idx in range(R):\n",
    "    M = 128\n",
    "    N = int(Q*M)\n",
    "    W = np.random.normal(0,1,size=(N,M))\n",
    "    X = (1/N)*np.dot(W.T,W)\n",
    "    evals.extend(np.linalg.eigvals(X))\n",
    "    \n"
   ]
  },
  {
   "cell_type": "code",
   "execution_count": null,
   "metadata": {},
   "outputs": [],
   "source": [
    "plt.hist(evals, bins=100, density=True, alpha=0.2);\n",
    "plt.title(r\"$\\rho(\\lambda)$, Q={} for (N x M)=({},{}) for  {} random matrices\".format(Q, N, M, R))\n",
    "\n",
    "plt.axvline(x=np.max(evals), color='r', linewidth=1, ls='dashed', label='actual')\n",
    "plot_mp(evals, Q)\n",
    "\n",
    "bulk_max = (1.0 * (1 + 1/np.sqrt(Q)))**2\n",
    "TW = 1/np.sqrt(Q)*np.power(bulk_max, 2/3)*np.power(M, -2/3)\n",
    "Tw = np.sqrt(TW)\n",
    "plt.axvline(x=bulk_max+TW, color='black', linewidth=1, ls='dashed', label='+TW')\n",
    "\n",
    "plt.legend()\n",
    "plt.show()\n"
   ]
  },
  {
   "cell_type": "code",
   "execution_count": null,
   "metadata": {},
   "outputs": [],
   "source": []
  },
  {
   "cell_type": "code",
   "execution_count": null,
   "metadata": {},
   "outputs": [],
   "source": []
  }
 ],
 "metadata": {
  "kernelspec": {
   "display_name": "Python 3 (ipykernel)",
   "language": "python",
   "name": "python3"
  },
  "language_info": {
   "codemirror_mode": {
    "name": "ipython",
    "version": 3
   },
   "file_extension": ".py",
   "mimetype": "text/x-python",
   "name": "python",
   "nbconvert_exporter": "python",
   "pygments_lexer": "ipython3",
   "version": "3.9.5"
  }
 },
 "nbformat": 4,
 "nbformat_minor": 4
}
