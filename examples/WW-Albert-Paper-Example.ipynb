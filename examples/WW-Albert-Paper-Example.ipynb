{
 "cells": [
  {
   "cell_type": "markdown",
   "metadata": {
    "colab_type": "text",
    "id": "view-in-github"
   },
   "source": [
    "<a href=\"https://colab.research.google.com/github/CalculatedContent/WeightWatcher/blob/master/examples/WW-Albert.ipynb\" target=\"_parent\"><img src=\"https://colab.research.google.com/assets/colab-badge.svg\" alt=\"Open In Colab\"/></a>"
   ]
  },
  {
   "cell_type": "markdown",
   "metadata": {
    "id": "VhMwt7M7cEZV"
   },
   "source": [
    "### Albert models"
   ]
  },
  {
   "cell_type": "code",
   "execution_count": 1,
   "metadata": {
    "id": "3b0V4XmCdshz"
   },
   "outputs": [],
   "source": [
    "import os\n",
    "import numpy as np\n",
    "import pandas as pd\n",
    "import matplotlib.pyplot as plt"
   ]
  },
  {
   "cell_type": "code",
   "execution_count": 2,
   "metadata": {
    "colab": {
     "base_uri": "https://localhost:8080/"
    },
    "id": "_e9GgbKxJgSZ",
    "outputId": "e039e826-5968-481b-c165-c22beb5e86bd"
   },
   "outputs": [],
   "source": [
    "import sys\n",
    "if 'google.colab' in sys.modules:\n",
    "    !pip install transformers weightwatcher gwpy matplotlib==3.1.3\n"
   ]
  },
  {
   "cell_type": "code",
   "execution_count": 3,
   "metadata": {
    "colab": {
     "base_uri": "https://localhost:8080/"
    },
    "id": "qYm9PdPiRsOk",
    "outputId": "13d2c398-b75e-4fa9-8e53-78ff2253a909"
   },
   "outputs": [],
   "source": [
    "\n",
    "from transformers import AutoModel\n",
    "albert = AutoModel.from_pretrained('albert-base-v2')\n"
   ]
  },
  {
   "cell_type": "code",
   "execution_count": 4,
   "metadata": {
    "id": "5mr78auQ6PlB"
   },
   "outputs": [],
   "source": [
    "import weightwatcher as ww\n",
    "import logging\n",
    "\n",
    "logging.basicConfig(level=logging.INFO)\n",
    "logger = logging.getLogger(ww.__name__) \n",
    "logger.setLevel(logging.INFO)\n"
   ]
  },
  {
   "cell_type": "code",
   "execution_count": 5,
   "metadata": {
    "colab": {
     "base_uri": "https://localhost:8080/"
    },
    "id": "LeZpp6brEBXn",
    "outputId": "52787805-6e7a-4acc-d418-1756cca14613",
    "scrolled": true
   },
   "outputs": [
    {
     "name": "stderr",
     "output_type": "stream",
     "text": [
      "INFO:weightwatcher:\n",
      "\n",
      "python      version 3.7.4 (default, Aug 13 2019, 15:17:50) \n",
      "[Clang 4.0.1 (tags/RELEASE_401/final)]\n",
      "numpy       version 1.19.1\n",
      "torch version 1.6.0\n",
      "INFO:weightwatcher:params {'glorot_fix': False, 'normalize': False, 'conv2d_norm': True, 'randomize': True, 'savedir': 'ww-img', 'savefig': 'ww-img', 'rescale': True, 'plot': False, 'deltaEs': False, 'intra': False, 'channels': None, 'conv2d_fft': False, 'ww2x': False, 'vectors': True, 'smooth': None, 'stacked': False, 'svd_method': 'full_svd', 'fix_fingers': None, 'fit': 'power_law', 'sparsify': True, 'detX': True, 'mp_fit': False, 'min_evals': 0, 'max_evals': None, 'max_N': 10, 'tolerance': 1e-06, 'layer_ids_start': 0, 'add_biases': False, 'glorot_fit': False, 'layers': []}\n",
      "INFO:weightwatcher:Saving all images to ww-img\n",
      "INFO:weightwatcher:params {'glorot_fix': False, 'normalize': False, 'conv2d_norm': True, 'randomize': True, 'savedir': 'ww-img', 'savefig': 'ww-img', 'rescale': True, 'plot': False, 'deltaEs': False, 'intra': False, 'channels': None, 'conv2d_fft': False, 'ww2x': False, 'vectors': True, 'smooth': None, 'stacked': False, 'svd_method': 'full_svd', 'fix_fingers': None, 'fit': 'power_law', 'sparsify': True, 'detX': True, 'mp_fit': False, 'min_evals': 0, 'max_evals': None, 'max_N': 10, 'tolerance': 1e-06, 'layer_ids_start': 0, 'add_biases': False, 'glorot_fit': False, 'layers': []}\n",
      "INFO:weightwatcher:Saving all images to ww-img\n",
      "INFO:weightwatcher:torch version 1.6.0\n",
      "INFO:weightwatcher:framework from model = 2\n"
     ]
    }
   ],
   "source": [
    "%%capture\n",
    "\n",
    "import warnings\n",
    "warnings.filterwarnings('ignore')\n",
    "\n",
    "watcher = ww.WeightWatcher(model=albert)\n",
    "albert_details = watcher.describe()\n"
   ]
  },
  {
   "cell_type": "code",
   "execution_count": 6,
   "metadata": {},
   "outputs": [
    {
     "data": {
      "text/html": [
       "<div>\n",
       "<style scoped>\n",
       "    .dataframe tbody tr th:only-of-type {\n",
       "        vertical-align: middle;\n",
       "    }\n",
       "\n",
       "    .dataframe tbody tr th {\n",
       "        vertical-align: top;\n",
       "    }\n",
       "\n",
       "    .dataframe thead th {\n",
       "        text-align: right;\n",
       "    }\n",
       "</style>\n",
       "<table border=\"1\" class=\"dataframe\">\n",
       "  <thead>\n",
       "    <tr style=\"text-align: right;\">\n",
       "      <th></th>\n",
       "      <th>layer_id</th>\n",
       "      <th>name</th>\n",
       "      <th>M</th>\n",
       "      <th>N</th>\n",
       "      <th>Q</th>\n",
       "      <th>layer_type</th>\n",
       "      <th>longname</th>\n",
       "      <th>num_evals</th>\n",
       "      <th>rf</th>\n",
       "    </tr>\n",
       "  </thead>\n",
       "  <tbody>\n",
       "    <tr>\n",
       "      <th>0</th>\n",
       "      <td>2</td>\n",
       "      <td>Embedding</td>\n",
       "      <td>128.0</td>\n",
       "      <td>30000.0</td>\n",
       "      <td>234.375</td>\n",
       "      <td>LAYER_TYPE.EMBEDDING</td>\n",
       "      <td>embeddings.word_embeddings</td>\n",
       "      <td>128.0</td>\n",
       "      <td>1.0</td>\n",
       "    </tr>\n",
       "    <tr>\n",
       "      <th>0</th>\n",
       "      <td>3</td>\n",
       "      <td>Embedding</td>\n",
       "      <td>128.0</td>\n",
       "      <td>512.0</td>\n",
       "      <td>4.000</td>\n",
       "      <td>LAYER_TYPE.EMBEDDING</td>\n",
       "      <td>embeddings.position_embeddings</td>\n",
       "      <td>128.0</td>\n",
       "      <td>1.0</td>\n",
       "    </tr>\n",
       "    <tr>\n",
       "      <th>0</th>\n",
       "      <td>4</td>\n",
       "      <td>Embedding</td>\n",
       "      <td>2.0</td>\n",
       "      <td>128.0</td>\n",
       "      <td>64.000</td>\n",
       "      <td>LAYER_TYPE.EMBEDDING</td>\n",
       "      <td>embeddings.token_type_embeddings</td>\n",
       "      <td>2.0</td>\n",
       "      <td>1.0</td>\n",
       "    </tr>\n",
       "    <tr>\n",
       "      <th>0</th>\n",
       "      <td>8</td>\n",
       "      <td>Linear</td>\n",
       "      <td>128.0</td>\n",
       "      <td>768.0</td>\n",
       "      <td>6.000</td>\n",
       "      <td>LAYER_TYPE.DENSE</td>\n",
       "      <td>encoder.embedding_hidden_mapping_in</td>\n",
       "      <td>128.0</td>\n",
       "      <td>1.0</td>\n",
       "    </tr>\n",
       "    <tr>\n",
       "      <th>0</th>\n",
       "      <td>15</td>\n",
       "      <td>Linear</td>\n",
       "      <td>768.0</td>\n",
       "      <td>768.0</td>\n",
       "      <td>1.000</td>\n",
       "      <td>LAYER_TYPE.DENSE</td>\n",
       "      <td>encoder.albert_layer_groups.0.albert_layers.0....</td>\n",
       "      <td>768.0</td>\n",
       "      <td>1.0</td>\n",
       "    </tr>\n",
       "    <tr>\n",
       "      <th>0</th>\n",
       "      <td>16</td>\n",
       "      <td>Linear</td>\n",
       "      <td>768.0</td>\n",
       "      <td>768.0</td>\n",
       "      <td>1.000</td>\n",
       "      <td>LAYER_TYPE.DENSE</td>\n",
       "      <td>encoder.albert_layer_groups.0.albert_layers.0....</td>\n",
       "      <td>768.0</td>\n",
       "      <td>1.0</td>\n",
       "    </tr>\n",
       "    <tr>\n",
       "      <th>0</th>\n",
       "      <td>17</td>\n",
       "      <td>Linear</td>\n",
       "      <td>768.0</td>\n",
       "      <td>768.0</td>\n",
       "      <td>1.000</td>\n",
       "      <td>LAYER_TYPE.DENSE</td>\n",
       "      <td>encoder.albert_layer_groups.0.albert_layers.0....</td>\n",
       "      <td>768.0</td>\n",
       "      <td>1.0</td>\n",
       "    </tr>\n",
       "    <tr>\n",
       "      <th>0</th>\n",
       "      <td>19</td>\n",
       "      <td>Linear</td>\n",
       "      <td>768.0</td>\n",
       "      <td>768.0</td>\n",
       "      <td>1.000</td>\n",
       "      <td>LAYER_TYPE.DENSE</td>\n",
       "      <td>encoder.albert_layer_groups.0.albert_layers.0....</td>\n",
       "      <td>768.0</td>\n",
       "      <td>1.0</td>\n",
       "    </tr>\n",
       "    <tr>\n",
       "      <th>0</th>\n",
       "      <td>21</td>\n",
       "      <td>Linear</td>\n",
       "      <td>768.0</td>\n",
       "      <td>3072.0</td>\n",
       "      <td>4.000</td>\n",
       "      <td>LAYER_TYPE.DENSE</td>\n",
       "      <td>encoder.albert_layer_groups.0.albert_layers.0.ffn</td>\n",
       "      <td>768.0</td>\n",
       "      <td>1.0</td>\n",
       "    </tr>\n",
       "    <tr>\n",
       "      <th>0</th>\n",
       "      <td>22</td>\n",
       "      <td>Linear</td>\n",
       "      <td>768.0</td>\n",
       "      <td>3072.0</td>\n",
       "      <td>4.000</td>\n",
       "      <td>LAYER_TYPE.DENSE</td>\n",
       "      <td>encoder.albert_layer_groups.0.albert_layers.0....</td>\n",
       "      <td>768.0</td>\n",
       "      <td>1.0</td>\n",
       "    </tr>\n",
       "    <tr>\n",
       "      <th>0</th>\n",
       "      <td>23</td>\n",
       "      <td>Linear</td>\n",
       "      <td>768.0</td>\n",
       "      <td>768.0</td>\n",
       "      <td>1.000</td>\n",
       "      <td>LAYER_TYPE.DENSE</td>\n",
       "      <td>pooler</td>\n",
       "      <td>768.0</td>\n",
       "      <td>1.0</td>\n",
       "    </tr>\n",
       "  </tbody>\n",
       "</table>\n",
       "</div>"
      ],
      "text/plain": [
       "  layer_id       name      M        N        Q            layer_type  \\\n",
       "0        2  Embedding  128.0  30000.0  234.375  LAYER_TYPE.EMBEDDING   \n",
       "0        3  Embedding  128.0    512.0    4.000  LAYER_TYPE.EMBEDDING   \n",
       "0        4  Embedding    2.0    128.0   64.000  LAYER_TYPE.EMBEDDING   \n",
       "0        8     Linear  128.0    768.0    6.000      LAYER_TYPE.DENSE   \n",
       "0       15     Linear  768.0    768.0    1.000      LAYER_TYPE.DENSE   \n",
       "0       16     Linear  768.0    768.0    1.000      LAYER_TYPE.DENSE   \n",
       "0       17     Linear  768.0    768.0    1.000      LAYER_TYPE.DENSE   \n",
       "0       19     Linear  768.0    768.0    1.000      LAYER_TYPE.DENSE   \n",
       "0       21     Linear  768.0   3072.0    4.000      LAYER_TYPE.DENSE   \n",
       "0       22     Linear  768.0   3072.0    4.000      LAYER_TYPE.DENSE   \n",
       "0       23     Linear  768.0    768.0    1.000      LAYER_TYPE.DENSE   \n",
       "\n",
       "                                            longname  num_evals   rf  \n",
       "0                         embeddings.word_embeddings      128.0  1.0  \n",
       "0                     embeddings.position_embeddings      128.0  1.0  \n",
       "0                   embeddings.token_type_embeddings        2.0  1.0  \n",
       "0                encoder.embedding_hidden_mapping_in      128.0  1.0  \n",
       "0  encoder.albert_layer_groups.0.albert_layers.0....      768.0  1.0  \n",
       "0  encoder.albert_layer_groups.0.albert_layers.0....      768.0  1.0  \n",
       "0  encoder.albert_layer_groups.0.albert_layers.0....      768.0  1.0  \n",
       "0  encoder.albert_layer_groups.0.albert_layers.0....      768.0  1.0  \n",
       "0  encoder.albert_layer_groups.0.albert_layers.0.ffn      768.0  1.0  \n",
       "0  encoder.albert_layer_groups.0.albert_layers.0....      768.0  1.0  \n",
       "0                                             pooler      768.0  1.0  "
      ]
     },
     "execution_count": 6,
     "metadata": {},
     "output_type": "execute_result"
    }
   ],
   "source": [
    "albert_details"
   ]
  },
  {
   "cell_type": "code",
   "execution_count": null,
   "metadata": {},
   "outputs": [],
   "source": []
  },
  {
   "cell_type": "code",
   "execution_count": null,
   "metadata": {},
   "outputs": [],
   "source": []
  },
  {
   "cell_type": "markdown",
   "metadata": {
    "scrolled": false
   },
   "source": [
    "### What if we just randomize the rows or columns ?\n",
    "\n",
    "This can't be right"
   ]
  },
  {
   "cell_type": "code",
   "execution_count": 16,
   "metadata": {},
   "outputs": [
    {
     "name": "stderr",
     "output_type": "stream",
     "text": [
      "INFO:weightwatcher:params {'glorot_fix': False, 'normalize': False, 'conv2d_norm': True, 'randomize': True, 'savedir': 'ww-img', 'savefig': 'ww-img', 'rescale': True, 'plot': False, 'deltaEs': False, 'intra': False, 'channels': None, 'conv2d_fft': False, 'ww2x': False, 'vectors': True, 'smooth': None, 'stacked': False, 'svd_method': 'full_svd', 'fix_fingers': None, 'fit': 'power_law', 'sparsify': True, 'detX': True, 'mp_fit': False, 'min_evals': 0, 'max_evals': None, 'max_N': 10, 'tolerance': 1e-06, 'layer_ids_start': 0, 'add_biases': False, 'glorot_fit': False, 'layers': []}\n",
      "INFO:weightwatcher:Saving all images to ww-img\n",
      "INFO:weightwatcher:params {'glorot_fix': False, 'normalize': False, 'conv2d_norm': True, 'randomize': True, 'savedir': 'ww-img', 'savefig': 'ww-img', 'rescale': True, 'plot': False, 'deltaEs': False, 'intra': False, 'channels': None, 'conv2d_fft': False, 'ww2x': False, 'vectors': True, 'smooth': None, 'stacked': False, 'svd_method': 'full_svd', 'fix_fingers': None, 'fit': 'power_law', 'sparsify': True, 'detX': True, 'mp_fit': False, 'min_evals': 0, 'max_evals': None, 'max_N': 10, 'tolerance': 1e-06, 'layer_ids_start': 0, 'add_biases': False, 'glorot_fit': False, 'layers': []}\n",
      "INFO:weightwatcher:Saving all images to ww-img\n",
      "INFO:weightwatcher:torch version 1.6.0\n",
      "INFO:weightwatcher:framework from model = 2\n",
      "INFO:weightwatcher:Getting Weights for layer 22 \n",
      "INFO:weightwatcher:torch version 1.6.0\n",
      "INFO:weightwatcher:framework from model = 2\n",
      "INFO:weightwatcher:Filtering layer by id 22\n"
     ]
    }
   ],
   "source": [
    "%%capture\n",
    "\n",
    "import weightwatcher as ww\n",
    "import logging\n",
    "import powerlaw\n",
    "from numpy.random import shuffle\n",
    "\n",
    "logging.basicConfig(level=logging.INFO)\n",
    "logger = logging.getLogger(ww.__name__) \n",
    "logger.setLevel(logging.INFO)\n",
    "\n",
    "W = watcher.get_Weights(layer=22)[0]\n",
    "#W = W.T\n",
    "#W = W.T\n",
    "\n",
    "SVs = np.linalg.svd(W, compute_uv=False)\n",
    "evals = SVs**2\n",
    "fit = powerlaw.Fit(evals)\n",
    "\n",
    "\n",
    "\n",
    "shuffle(W)\n",
    "SVs = np.linalg.svd(W, compute_uv=False)\n",
    "shuffled_evals = SVs**2\n",
    "fit_shuf = powerlaw.Fit(shuffled_evals)\n",
    "   \n"
   ]
  },
  {
   "cell_type": "code",
   "execution_count": 18,
   "metadata": {},
   "outputs": [
    {
     "name": "stdout",
     "output_type": "stream",
     "text": [
      "(768, 3072) 768\n",
      "4.5613302495443815 0.03449368953155374 4.5613302495443815 0.03449368953155374\n"
     ]
    },
    {
     "data": {
      "image/png": "[encoded data removed]",
      "text/plain": [
       "<Figure size 432x288 with 1 Axes>"
      ]
     },
     "metadata": {
      "needs_background": "light"
     },
     "output_type": "display_data"
    },
    {
     "name": "stdout",
     "output_type": "stream",
     "text": [
      "4.5613302495443815 0.03449368953155374 4.5613302495443815 0.03449368953155374\n"
     ]
    },
    {
     "data": {
      "text/plain": [
       "<AxesSubplot:>"
      ]
     },
     "execution_count": 18,
     "metadata": {},
     "output_type": "execute_result"
    },
    {
     "data": {
      "image/png": "[encoded data removed]",
      "text/plain": [
       "<Figure size 432x288 with 1 Axes>"
      ]
     },
     "metadata": {
      "needs_background": "light"
     },
     "output_type": "display_data"
    }
   ],
   "source": [
    "print(W.shape, len(evals))\n",
    "print(fit.alpha, fit.D, fit_shuf.alpha, fit_shuf.D)\n",
    "\n",
    "\n",
    "plt.hist(np.log10(evals[evals>0.0001]), bins=100, alpha=0.5, label=r'original $\\alpha$', color='green');\n",
    "plt.hist(np.log10(shuffled_evals[shuffled_evals>0.0001]), bins=100, alpha=0.5, color='purple', label=r'row-rand $\\alpha$');\n",
    "plt.legend()\n",
    "plt.title(\"Albert FC layer (22) ESDs\")\n",
    "plt.xlabel(r\"log eigenvalue $(\\log_{10}\\lambda)$\")\n",
    "plt.show()\n",
    "print(fit.alpha, fit.D, fit_shuf.alpha, fit_shuf.D)\n",
    "\n",
    "fig2 = fit.plot_pdf(color='g', linewidth=2)\n",
    "fit.power_law.plot_pdf(color='g', linestyle='--', ax=fig2)\n",
    "\n",
    "fig2 = fit_shuf.plot_pdf(color='purple', linewidth=2)\n",
    "fit_shuf.power_law.plot_pdf(color='purple', linestyle='--', ax=fig2)\n",
    "\n"
   ]
  },
  {
   "cell_type": "code",
   "execution_count": null,
   "metadata": {},
   "outputs": [],
   "source": [
    "W.shape"
   ]
  },
  {
   "cell_type": "code",
   "execution_count": null,
   "metadata": {},
   "outputs": [],
   "source": []
  },
  {
   "cell_type": "code",
   "execution_count": null,
   "metadata": {},
   "outputs": [],
   "source": []
  }
 ],
 "metadata": {
  "accelerator": "GPU",
  "colab": {
   "collapsed_sections": [],
   "include_colab_link": true,
   "machine_shape": "hm",
   "name": " WW-BERT-BlogExample.ipynb",
   "provenance": []
  },
  "kernelspec": {
   "display_name": "Python 3",
   "language": "python",
   "name": "python3"
  },
  "language_info": {
   "codemirror_mode": {
    "name": "ipython",
    "version": 3
   },
   "file_extension": ".py",
   "mimetype": "text/x-python",
   "name": "python",
   "nbconvert_exporter": "python",
   "pygments_lexer": "ipython3",
   "version": "3.7.4"
  }
 },
 "nbformat": 4,
 "nbformat_minor": 1
}
