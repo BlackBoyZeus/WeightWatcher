{
 "cells": [
  {
   "cell_type": "raw",
   "metadata": {
    "colab_type": "text",
    "id": "view-in-github"
   },
   "source": [
    "<a href=\"https://colab.research.google.com/github/CalculatedContent/WeightWatcher/blob/master/examples/WW-Laplacian.ipynb\" target=\"_parent\"><img src=\"https://colab.research.google.com/assets/colab-badge.svg\" alt=\"Open In Colab\"/></a>"
   ]
  },
  {
   "cell_type": "code",
   "execution_count": 7,
   "metadata": {},
   "outputs": [],
   "source": [
    "import numpy as np\n",
    "import pandas as pd\n",
    "\n",
    "import matplotlib\n",
    "import matplotlib.pyplot as plt\n",
    "%matplotlib inline"
   ]
  },
  {
   "cell_type": "code",
   "execution_count": 13,
   "metadata": {},
   "outputs": [
    {
     "name": "stderr",
     "output_type": "stream",
     "text": [
      "INFO:weightwatcher:\n",
      "\n",
      "python      version 3.9.13 (main, Aug 25 2022, 18:29:29) \n",
      "[Clang 12.0.0 ]\n",
      "numpy       version 1.19.5\n"
     ]
    }
   ],
   "source": [
    "import weightwatcher as ww\n",
    "\n",
    "watcher = ww.WeightWatcher()"
   ]
  },
  {
   "cell_type": "code",
   "execution_count": 14,
   "metadata": {},
   "outputs": [
    {
     "name": "stderr",
     "output_type": "stream",
     "text": [
      "Some weights of the model checkpoint at albert-base-v2 were not used when initializing AlbertModel: ['predictions.LayerNorm.weight', 'predictions.bias', 'predictions.dense.weight', 'predictions.dense.bias', 'predictions.LayerNorm.bias', 'predictions.decoder.weight', 'predictions.decoder.bias']\n",
      "- This IS expected if you are initializing AlbertModel from the checkpoint of a model trained on another task or with another architecture (e.g. initializing a BertForSequenceClassification model from a BertForPreTraining model).\n",
      "- This IS NOT expected if you are initializing AlbertModel from the checkpoint of a model that you expect to be exactly identical (initializing a BertForSequenceClassification model from a BertForSequenceClassification model).\n",
      "INFO:weightwatcher:\n",
      "\n",
      "python      version 3.9.13 (main, Aug 25 2022, 18:29:29) \n",
      "[Clang 12.0.0 ]\n",
      "numpy       version 1.19.5\n",
      "torch version 1.12.1\n"
     ]
    },
    {
     "name": "stdout",
     "output_type": "stream",
     "text": [
      "\n",
      "\n",
      "python      version 3.9.13 (main, Aug 25 2022, 18:29:29) \n",
      "[Clang 12.0.0 ]\n",
      "numpy       version 1.19.5\n",
      "torch version 1.12.1\n"
     ]
    },
    {
     "name": "stderr",
     "output_type": "stream",
     "text": [
      "INFO:weightwatcher:Saving all images to ww-img\n",
      "INFO:weightwatcher:params {'glorot_fix': False, 'normalize': False, 'conv2d_norm': True, 'randomize': True, 'savedir': 'ww-img', 'savefig': 'ww-img', 'rescale': True, 'plot': False, 'deltaEs': False, 'intra': False, 'channels': None, 'conv2d_fft': False, 'ww2x': False, 'vectors': False, 'smooth': None, 'stacked': False, 'svd_method': 'full_svd', 'fix_fingers': False, 'fit': 'power_law', 'sparsify': True, 'detX': True, 'mp_fit': True, 'min_evals': 50, 'max_evals': 10000, 'max_N': 10, 'tolerance': 1e-06, 'layer_ids_start': 0, 'add_biases': False, 'glorot_fit': False, 'layers': [], 'xmin_max': None}\n",
      "INFO:weightwatcher:Saving all images to ww-img\n",
      "INFO:weightwatcher:torch version 1.12.1\n",
      "INFO:weightwatcher:framework from model = 2\n"
     ]
    },
    {
     "ename": "KeyboardInterrupt",
     "evalue": "",
     "output_type": "error",
     "traceback": [
      "\u001b[0;31m---------------------------------------------------------------------------\u001b[0m",
      "\u001b[0;31mKeyboardInterrupt\u001b[0m                         Traceback (most recent call last)",
      "Cell \u001b[0;32mIn [14], line 8\u001b[0m\n\u001b[1;32m      5\u001b[0m albert \u001b[38;5;241m=\u001b[39m AlbertModel\u001b[38;5;241m.\u001b[39mfrom_pretrained(model_name)\n\u001b[1;32m      7\u001b[0m watcher \u001b[38;5;241m=\u001b[39m ww\u001b[38;5;241m.\u001b[39mWeightWatcher(model\u001b[38;5;241m=\u001b[39malbert)\n\u001b[0;32m----> 8\u001b[0m details \u001b[38;5;241m=\u001b[39m watcher\u001b[38;5;241m.\u001b[39manalyze(randomize\u001b[38;5;241m=\u001b[39m\u001b[38;5;28;01mTrue\u001b[39;00m, mp_fit\u001b[38;5;241m=\u001b[39m\u001b[38;5;28;01mTrue\u001b[39;00m, detX\u001b[38;5;241m=\u001b[39m\u001b[38;5;28;01mTrue\u001b[39;00m)\n",
      "File \u001b[0;32m<string>:197\u001b[0m, in \u001b[0;36mB\u001b[0;34m(*I, **J)\u001b[0m\n",
      "File \u001b[0;32m~/anaconda3/envs/ww0.6.5/lib/python3.9/site-packages/weightwatcher-0.6.3.3-py3.9.egg/weightwatcher/weightwatcher.py:2254\u001b[0m, in \u001b[0;36mWeightWatcher.analyze\u001b[0;34m(self, model, layers, min_evals, max_evals, min_size, max_size, glorot_fix, plot, randomize, savefig, mp_fit, conv2d_fft, conv2d_norm, ww2x, deltas, intra, vectors, channels, stacked, fix_fingers, xmin_max, max_N, fit, sparsify, detX, tolerance, start_ids)\u001b[0m\n\u001b[1;32m   2251\u001b[0m \u001b[38;5;28mself\u001b[39m\u001b[38;5;241m.\u001b[39mapply_esd(ww_layer, params)\n\u001b[1;32m   2253\u001b[0m \u001b[38;5;28;01mif\u001b[39;00m ww_layer\u001b[38;5;241m.\u001b[39mevals \u001b[38;5;129;01mis\u001b[39;00m \u001b[38;5;129;01mnot\u001b[39;00m \u001b[38;5;28;01mNone\u001b[39;00m:\n\u001b[0;32m-> 2254\u001b[0m     \u001b[38;5;28;43mself\u001b[39;49m\u001b[38;5;241;43m.\u001b[39;49m\u001b[43mapply_fit_powerlaw\u001b[49m\u001b[43m(\u001b[49m\u001b[43mww_layer\u001b[49m\u001b[43m,\u001b[49m\u001b[43m \u001b[49m\u001b[43mparams\u001b[49m\u001b[43m)\u001b[49m\n\u001b[1;32m   2255\u001b[0m     \u001b[38;5;28;01mif\u001b[39;00m params[MP_FIT]:\n\u001b[1;32m   2256\u001b[0m         logger\u001b[38;5;241m.\u001b[39mdebug(\u001b[38;5;124m\"\u001b[39m\u001b[38;5;124mMP Fitting Layer: \u001b[39m\u001b[38;5;132;01m{}\u001b[39;00m\u001b[38;5;124m \u001b[39m\u001b[38;5;132;01m{}\u001b[39;00m\u001b[38;5;124m \u001b[39m\u001b[38;5;124m\"\u001b[39m\u001b[38;5;241m.\u001b[39mformat(ww_layer\u001b[38;5;241m.\u001b[39mlayer_id, ww_layer\u001b[38;5;241m.\u001b[39mname)) \n",
      "File \u001b[0;32m~/anaconda3/envs/ww0.6.5/lib/python3.9/site-packages/weightwatcher-0.6.3.3-py3.9.egg/weightwatcher/weightwatcher.py:1932\u001b[0m, in \u001b[0;36mWeightWatcher.apply_fit_powerlaw\u001b[0;34m(self, ww_layer, params)\u001b[0m\n\u001b[1;32m   1927\u001b[0m layer_name \u001b[38;5;241m=\u001b[39m \u001b[38;5;124m\"\u001b[39m\u001b[38;5;124mLayer \u001b[39m\u001b[38;5;132;01m{}\u001b[39;00m\u001b[38;5;124m\"\u001b[39m\u001b[38;5;241m.\u001b[39mformat(plot_id)\n\u001b[1;32m   1929\u001b[0m fit_type \u001b[38;5;241m=\u001b[39m  params[FIT]\n\u001b[1;32m   1931\u001b[0m alpha, Lambda, xmin, xmax, D, sigma, num_pl_spikes, best_fit, status \u001b[38;5;241m=\u001b[39m \\\n\u001b[0;32m-> 1932\u001b[0m     \u001b[38;5;28;43mself\u001b[39;49m\u001b[38;5;241;43m.\u001b[39;49m\u001b[43mfit_powerlaw\u001b[49m\u001b[43m(\u001b[49m\u001b[43mevals\u001b[49m\u001b[43m,\u001b[49m\u001b[43m \u001b[49m\u001b[43mxmin\u001b[49m\u001b[38;5;241;43m=\u001b[39;49m\u001b[43mxmin\u001b[49m\u001b[43m,\u001b[49m\u001b[43m \u001b[49m\u001b[43mxmax\u001b[49m\u001b[38;5;241;43m=\u001b[39;49m\u001b[43mxmax\u001b[49m\u001b[43m,\u001b[49m\u001b[43m \u001b[49m\u001b[43mplot\u001b[49m\u001b[38;5;241;43m=\u001b[39;49m\u001b[43mplot\u001b[49m\u001b[43m,\u001b[49m\u001b[43m \u001b[49m\u001b[43mlayer_name\u001b[49m\u001b[38;5;241;43m=\u001b[39;49m\u001b[43mlayer_name\u001b[49m\u001b[43m,\u001b[49m\u001b[43m \u001b[49m\u001b[43mlayer_id\u001b[49m\u001b[38;5;241;43m=\u001b[39;49m\u001b[43mlayer_id\u001b[49m\u001b[43m,\u001b[49m\u001b[43m \u001b[49m\u001b[43m\\\u001b[49m\n\u001b[1;32m   1933\u001b[0m \u001b[43m                      \u001b[49m\u001b[43mplot_id\u001b[49m\u001b[38;5;241;43m=\u001b[39;49m\u001b[43mplot_id\u001b[49m\u001b[43m,\u001b[49m\u001b[43m \u001b[49m\u001b[43msample\u001b[49m\u001b[38;5;241;43m=\u001b[39;49m\u001b[43msample\u001b[49m\u001b[43m,\u001b[49m\u001b[43m \u001b[49m\u001b[43msample_size\u001b[49m\u001b[38;5;241;43m=\u001b[39;49m\u001b[43msample_size\u001b[49m\u001b[43m,\u001b[49m\u001b[43m \u001b[49m\u001b[43msavedir\u001b[49m\u001b[38;5;241;43m=\u001b[39;49m\u001b[43msavedir\u001b[49m\u001b[43m,\u001b[49m\u001b[43m \u001b[49m\u001b[43msavefig\u001b[49m\u001b[38;5;241;43m=\u001b[39;49m\u001b[43msavefig\u001b[49m\u001b[43m,\u001b[49m\u001b[43m  \u001b[49m\u001b[43m\\\u001b[49m\n\u001b[1;32m   1934\u001b[0m \u001b[43m                      \u001b[49m\u001b[43mfix_fingers\u001b[49m\u001b[38;5;241;43m=\u001b[39;49m\u001b[43mff\u001b[49m\u001b[43m,\u001b[49m\u001b[43m \u001b[49m\u001b[43mxmin_max\u001b[49m\u001b[38;5;241;43m=\u001b[39;49m\u001b[43mxmin_max\u001b[49m\u001b[43m,\u001b[49m\u001b[43m \u001b[49m\u001b[43mmax_N\u001b[49m\u001b[38;5;241;43m=\u001b[39;49m\u001b[43mmax_N\u001b[49m\u001b[43m,\u001b[49m\u001b[43m \u001b[49m\u001b[43mfit_type\u001b[49m\u001b[38;5;241;43m=\u001b[39;49m\u001b[43mfit_type\u001b[49m\u001b[43m)\u001b[49m\n\u001b[1;32m   1936\u001b[0m ww_layer\u001b[38;5;241m.\u001b[39madd_column(\u001b[38;5;124m'\u001b[39m\u001b[38;5;124malpha\u001b[39m\u001b[38;5;124m'\u001b[39m, alpha)\n\u001b[1;32m   1937\u001b[0m ww_layer\u001b[38;5;241m.\u001b[39madd_column(\u001b[38;5;124m'\u001b[39m\u001b[38;5;124mxmin\u001b[39m\u001b[38;5;124m'\u001b[39m, xmin)\n",
      "File \u001b[0;32m~/anaconda3/envs/ww0.6.5/lib/python3.9/site-packages/weightwatcher-0.6.3.3-py3.9.egg/weightwatcher/weightwatcher.py:2779\u001b[0m, in \u001b[0;36mWeightWatcher.fit_powerlaw\u001b[0;34m(self, evals, xmin, xmax, plot, layer_name, layer_id, plot_id, sample, sample_size, savedir, savefig, svd_method, thresh, fix_fingers, xmin_max, max_N, fit_type)\u001b[0m\n\u001b[1;32m   2777\u001b[0m \u001b[38;5;28;01mtry\u001b[39;00m:\n\u001b[1;32m   2778\u001b[0m     nz_evals \u001b[38;5;241m=\u001b[39m evals[evals \u001b[38;5;241m>\u001b[39m thresh]\n\u001b[0;32m-> 2779\u001b[0m     fit \u001b[38;5;241m=\u001b[39m \u001b[43mpl_fit\u001b[49m\u001b[43m(\u001b[49m\u001b[43mdata\u001b[49m\u001b[38;5;241;43m=\u001b[39;49m\u001b[43mnz_evals\u001b[49m\u001b[43m,\u001b[49m\u001b[43m \u001b[49m\u001b[43mxmax\u001b[49m\u001b[38;5;241;43m=\u001b[39;49m\u001b[43mxmax\u001b[49m\u001b[43m,\u001b[49m\u001b[43m \u001b[49m\u001b[43mverbose\u001b[49m\u001b[38;5;241;43m=\u001b[39;49m\u001b[38;5;28;43;01mFalse\u001b[39;49;00m\u001b[43m,\u001b[49m\u001b[43m \u001b[49m\u001b[43mdistribution\u001b[49m\u001b[38;5;241;43m=\u001b[39;49m\u001b[43mdistribution\u001b[49m\u001b[43m)\u001b[49m  \n\u001b[1;32m   2780\u001b[0m     status \u001b[38;5;241m=\u001b[39m SUCCESS \n\u001b[1;32m   2781\u001b[0m \u001b[38;5;28;01mexcept\u001b[39;00m \u001b[38;5;167;01mValueError\u001b[39;00m:\n",
      "File \u001b[0;32m~/anaconda3/envs/ww0.6.5/lib/python3.9/site-packages/weightwatcher-0.6.3.3-py3.9.egg/weightwatcher/weightwatcher.py:2689\u001b[0m, in \u001b[0;36mWeightWatcher.fit_powerlaw.<locals>.pl_fit\u001b[0;34m(data, xmin, xmax, verbose, distribution)\u001b[0m\n\u001b[1;32m   2687\u001b[0m \u001b[38;5;28;01mwith\u001b[39;00m redirect_stdout(f), redirect_stderr(f), warnings\u001b[38;5;241m.\u001b[39mcatch_warnings():\n\u001b[1;32m   2688\u001b[0m     warnings\u001b[38;5;241m.\u001b[39msimplefilter(action\u001b[38;5;241m=\u001b[39m\u001b[38;5;124m'\u001b[39m\u001b[38;5;124mignore\u001b[39m\u001b[38;5;124m'\u001b[39m, category\u001b[38;5;241m=\u001b[39m\u001b[38;5;167;01mRuntimeWarning\u001b[39;00m)\n\u001b[0;32m-> 2689\u001b[0m     \u001b[38;5;28;01mreturn\u001b[39;00m \u001b[43mpowerlaw\u001b[49m\u001b[38;5;241;43m.\u001b[39;49m\u001b[43mFit\u001b[49m\u001b[43m(\u001b[49m\u001b[43mdata\u001b[49m\u001b[43m,\u001b[49m\u001b[43m \u001b[49m\u001b[43mxmin\u001b[49m\u001b[38;5;241;43m=\u001b[39;49m\u001b[43mxmin\u001b[49m\u001b[43m,\u001b[49m\u001b[43m \u001b[49m\u001b[43mxmax\u001b[49m\u001b[38;5;241;43m=\u001b[39;49m\u001b[43mxmax\u001b[49m\u001b[43m,\u001b[49m\u001b[43m \u001b[49m\u001b[43mverbose\u001b[49m\u001b[38;5;241;43m=\u001b[39;49m\u001b[43mverbose\u001b[49m\u001b[43m,\u001b[49m\u001b[43m \u001b[49m\u001b[43mdistribution\u001b[49m\u001b[38;5;241;43m=\u001b[39;49m\u001b[43mdistribution\u001b[49m\u001b[43m,\u001b[49m\u001b[43m \u001b[49m\u001b[43mxmin_distribution\u001b[49m\u001b[38;5;241;43m=\u001b[39;49m\u001b[43mdistribution\u001b[49m\u001b[43m)\u001b[49m\n",
      "File \u001b[0;32m~/anaconda3/envs/ww0.6.5/lib/python3.9/site-packages/powerlaw.py:150\u001b[0m, in \u001b[0;36mFit.__init__\u001b[0;34m(self, data, discrete, xmin, xmax, verbose, fit_method, estimate_discrete, discrete_approximation, sigma_threshold, parameter_range, fit_optimizer, xmin_distance, xmin_distribution, **kwargs)\u001b[0m\n\u001b[1;32m    147\u001b[0m     \u001b[38;5;28;01mif\u001b[39;00m verbose:\n\u001b[1;32m    148\u001b[0m         \u001b[38;5;28mprint\u001b[39m(\u001b[38;5;124m\"\u001b[39m\u001b[38;5;124mCalculating best minimal value for \u001b[39m\u001b[38;5;132;01m{}\u001b[39;00m\u001b[38;5;124m fit\u001b[39m\u001b[38;5;124m\"\u001b[39m\u001b[38;5;241m.\u001b[39mformat(\n\u001b[1;32m    149\u001b[0m             xmin_distribution\u001b[38;5;241m.\u001b[39mreplace(\u001b[38;5;124m'\u001b[39m\u001b[38;5;124m_\u001b[39m\u001b[38;5;124m'\u001b[39m,\u001b[38;5;124m'\u001b[39m\u001b[38;5;124m \u001b[39m\u001b[38;5;124m'\u001b[39m), file\u001b[38;5;241m=\u001b[39msys\u001b[38;5;241m.\u001b[39mstderr))\n\u001b[0;32m--> 150\u001b[0m     \u001b[38;5;28;43mself\u001b[39;49m\u001b[38;5;241;43m.\u001b[39;49m\u001b[43mfind_xmin\u001b[49m\u001b[43m(\u001b[49m\u001b[43m)\u001b[49m\n\u001b[1;32m    152\u001b[0m \u001b[38;5;28mself\u001b[39m\u001b[38;5;241m.\u001b[39mdata \u001b[38;5;241m=\u001b[39m \u001b[38;5;28mself\u001b[39m\u001b[38;5;241m.\u001b[39mdata[\u001b[38;5;28mself\u001b[39m\u001b[38;5;241m.\u001b[39mdata\u001b[38;5;241m>\u001b[39m\u001b[38;5;241m=\u001b[39m\u001b[38;5;28mself\u001b[39m\u001b[38;5;241m.\u001b[39mxmin]\n\u001b[1;32m    153\u001b[0m \u001b[38;5;28mself\u001b[39m\u001b[38;5;241m.\u001b[39mn \u001b[38;5;241m=\u001b[39m \u001b[38;5;28mfloat\u001b[39m(\u001b[38;5;28mlen\u001b[39m(\u001b[38;5;28mself\u001b[39m\u001b[38;5;241m.\u001b[39mdata))\n",
      "File \u001b[0;32m~/anaconda3/envs/ww0.6.5/lib/python3.9/site-packages/powerlaw.py:246\u001b[0m, in \u001b[0;36mFit.find_xmin\u001b[0;34m(self, xmin_distance)\u001b[0m\n\u001b[1;32m    243\u001b[0m     \u001b[38;5;28;01mreturn\u001b[39;00m \u001b[38;5;28mgetattr\u001b[39m(pl, xmin_distance), pl\u001b[38;5;241m.\u001b[39malpha, pl\u001b[38;5;241m.\u001b[39msigma, pl\u001b[38;5;241m.\u001b[39min_range()\n\u001b[1;32m    245\u001b[0m num_xmins \u001b[38;5;241m=\u001b[39m \u001b[38;5;28mlen\u001b[39m(xmins)\n\u001b[0;32m--> 246\u001b[0m fits \u001b[38;5;241m=\u001b[39m asarray(\u001b[38;5;28;43mlist\u001b[39;49m\u001b[43m(\u001b[49m\u001b[38;5;28;43mmap\u001b[39;49m\u001b[43m(\u001b[49m\u001b[43mfit_function\u001b[49m\u001b[43m,\u001b[49m\u001b[43m \u001b[49m\u001b[43mxmins\u001b[49m\u001b[43m,\u001b[49m\u001b[43m \u001b[49m\u001b[43marange\u001b[49m\u001b[43m(\u001b[49m\u001b[43mnum_xmins\u001b[49m\u001b[43m)\u001b[49m\u001b[43m,\u001b[49m\u001b[43m \u001b[49m\u001b[43mrepeat\u001b[49m\u001b[43m(\u001b[49m\u001b[43mnum_xmins\u001b[49m\u001b[43m,\u001b[49m\u001b[43m \u001b[49m\u001b[43mnum_xmins\u001b[49m\u001b[43m)\u001b[49m\u001b[43m)\u001b[49m\u001b[43m)\u001b[49m)\n\u001b[1;32m    247\u001b[0m \u001b[38;5;66;03m# logging.warning(fits.shape)\u001b[39;00m\n\u001b[1;32m    248\u001b[0m \u001b[38;5;28msetattr\u001b[39m(\u001b[38;5;28mself\u001b[39m, xmin_distance\u001b[38;5;241m+\u001b[39m\u001b[38;5;124m'\u001b[39m\u001b[38;5;124ms\u001b[39m\u001b[38;5;124m'\u001b[39m, fits[:,\u001b[38;5;241m0\u001b[39m])\n",
      "File \u001b[0;32m~/anaconda3/envs/ww0.6.5/lib/python3.9/site-packages/powerlaw.py:231\u001b[0m, in \u001b[0;36mFit.find_xmin.<locals>.fit_function\u001b[0;34m(xmin, idx, num_xmins)\u001b[0m\n\u001b[1;32m    229\u001b[0m \u001b[38;5;28;01mdef\u001b[39;00m \u001b[38;5;21mfit_function\u001b[39m(xmin, idx, num_xmins):\n\u001b[1;32m    230\u001b[0m     \u001b[38;5;28mprint\u001b[39m(\u001b[38;5;124m'\u001b[39m\u001b[38;5;124mxmin progress: \u001b[39m\u001b[38;5;132;01m{:02d}\u001b[39;00m\u001b[38;5;124m%\u001b[39m\u001b[38;5;124m'\u001b[39m\u001b[38;5;241m.\u001b[39mformat(\u001b[38;5;28mint\u001b[39m(idx\u001b[38;5;241m/\u001b[39mnum_xmins \u001b[38;5;241m*\u001b[39m \u001b[38;5;241m100\u001b[39m)), end\u001b[38;5;241m=\u001b[39m\u001b[38;5;124m'\u001b[39m\u001b[38;5;130;01m\\r\u001b[39;00m\u001b[38;5;124m'\u001b[39m)\n\u001b[0;32m--> 231\u001b[0m     pl \u001b[38;5;241m=\u001b[39m \u001b[38;5;28;43mself\u001b[39;49m\u001b[38;5;241;43m.\u001b[39;49m\u001b[43mxmin_distribution\u001b[49m\u001b[43m(\u001b[49m\u001b[43mxmin\u001b[49m\u001b[38;5;241;43m=\u001b[39;49m\u001b[43mxmin\u001b[49m\u001b[43m,\u001b[49m\n\u001b[1;32m    232\u001b[0m \u001b[43m                   \u001b[49m\u001b[43mxmax\u001b[49m\u001b[38;5;241;43m=\u001b[39;49m\u001b[38;5;28;43mself\u001b[39;49m\u001b[38;5;241;43m.\u001b[39;49m\u001b[43mxmax\u001b[49m\u001b[43m,\u001b[49m\n\u001b[1;32m    233\u001b[0m \u001b[43m                   \u001b[49m\u001b[43mdiscrete\u001b[49m\u001b[38;5;241;43m=\u001b[39;49m\u001b[38;5;28;43mself\u001b[39;49m\u001b[38;5;241;43m.\u001b[39;49m\u001b[43mdiscrete\u001b[49m\u001b[43m,\u001b[49m\n\u001b[1;32m    234\u001b[0m \u001b[43m                   \u001b[49m\u001b[43mestimate_discrete\u001b[49m\u001b[38;5;241;43m=\u001b[39;49m\u001b[38;5;28;43mself\u001b[39;49m\u001b[38;5;241;43m.\u001b[39;49m\u001b[43mestimate_discrete\u001b[49m\u001b[43m,\u001b[49m\n\u001b[1;32m    235\u001b[0m \u001b[43m                   \u001b[49m\u001b[43mfit_method\u001b[49m\u001b[38;5;241;43m=\u001b[39;49m\u001b[38;5;28;43mself\u001b[39;49m\u001b[38;5;241;43m.\u001b[39;49m\u001b[43mfit_method\u001b[49m\u001b[43m,\u001b[49m\n\u001b[1;32m    236\u001b[0m \u001b[43m                   \u001b[49m\u001b[43mdata\u001b[49m\u001b[38;5;241;43m=\u001b[39;49m\u001b[38;5;28;43mself\u001b[39;49m\u001b[38;5;241;43m.\u001b[39;49m\u001b[43mdata\u001b[49m\u001b[43m,\u001b[49m\n\u001b[1;32m    237\u001b[0m \u001b[43m                   \u001b[49m\u001b[43mparameter_range\u001b[49m\u001b[38;5;241;43m=\u001b[39;49m\u001b[38;5;28;43mself\u001b[39;49m\u001b[38;5;241;43m.\u001b[39;49m\u001b[43mparameter_range\u001b[49m\u001b[43m,\u001b[49m\n\u001b[1;32m    238\u001b[0m \u001b[43m                   \u001b[49m\u001b[43mparent_Fit\u001b[49m\u001b[38;5;241;43m=\u001b[39;49m\u001b[38;5;28;43mself\u001b[39;49m\u001b[43m)\u001b[49m\n\u001b[1;32m    239\u001b[0m     \u001b[38;5;28;01mif\u001b[39;00m \u001b[38;5;129;01mnot\u001b[39;00m \u001b[38;5;28mhasattr\u001b[39m(pl, \u001b[38;5;124m'\u001b[39m\u001b[38;5;124msigma\u001b[39m\u001b[38;5;124m'\u001b[39m):\n\u001b[1;32m    240\u001b[0m         pl\u001b[38;5;241m.\u001b[39msigma \u001b[38;5;241m=\u001b[39m nan\n",
      "File \u001b[0;32m~/anaconda3/envs/ww0.6.5/lib/python3.9/site-packages/powerlaw.py:1123\u001b[0m, in \u001b[0;36mPower_Law.__init__\u001b[0;34m(self, estimate_discrete, **kwargs)\u001b[0m\n\u001b[1;32m   1121\u001b[0m \u001b[38;5;28;01mdef\u001b[39;00m \u001b[38;5;21m__init__\u001b[39m(\u001b[38;5;28mself\u001b[39m, estimate_discrete\u001b[38;5;241m=\u001b[39m\u001b[38;5;28;01mTrue\u001b[39;00m, \u001b[38;5;241m*\u001b[39m\u001b[38;5;241m*\u001b[39mkwargs):\n\u001b[1;32m   1122\u001b[0m     \u001b[38;5;28mself\u001b[39m\u001b[38;5;241m.\u001b[39mestimate_discrete \u001b[38;5;241m=\u001b[39m estimate_discrete\n\u001b[0;32m-> 1123\u001b[0m     \u001b[43mDistribution\u001b[49m\u001b[38;5;241;43m.\u001b[39;49m\u001b[38;5;21;43m__init__\u001b[39;49m\u001b[43m(\u001b[49m\u001b[38;5;28;43mself\u001b[39;49m\u001b[43m,\u001b[49m\u001b[43m \u001b[49m\u001b[38;5;241;43m*\u001b[39;49m\u001b[38;5;241;43m*\u001b[39;49m\u001b[43mkwargs\u001b[49m\u001b[43m)\u001b[49m\n",
      "File \u001b[0;32m~/anaconda3/envs/ww0.6.5/lib/python3.9/site-packages/powerlaw.py:620\u001b[0m, in \u001b[0;36mDistribution.__init__\u001b[0;34m(self, xmin, xmax, discrete, fit_method, data, parameters, parameter_range, initial_parameters, discrete_approximation, parent_Fit, **kwargs)\u001b[0m\n\u001b[1;32m    617\u001b[0m     \u001b[38;5;28mself\u001b[39m\u001b[38;5;241m.\u001b[39m_given_initial_parameters(initial_parameters)\n\u001b[1;32m    619\u001b[0m \u001b[38;5;28;01mif\u001b[39;00m (data \u001b[38;5;129;01mis\u001b[39;00m \u001b[38;5;129;01mnot\u001b[39;00m \u001b[38;5;28;01mNone\u001b[39;00m) \u001b[38;5;129;01mand\u001b[39;00m \u001b[38;5;129;01mnot\u001b[39;00m (parameter_range \u001b[38;5;129;01mand\u001b[39;00m \u001b[38;5;28mself\u001b[39m\u001b[38;5;241m.\u001b[39mparent_Fit):\n\u001b[0;32m--> 620\u001b[0m     \u001b[38;5;28;43mself\u001b[39;49m\u001b[38;5;241;43m.\u001b[39;49m\u001b[43mfit\u001b[49m\u001b[43m(\u001b[49m\u001b[43mdata\u001b[49m\u001b[43m)\u001b[49m\n",
      "File \u001b[0;32m~/anaconda3/envs/ww0.6.5/lib/python3.9/site-packages/powerlaw.py:1161\u001b[0m, in \u001b[0;36mPower_Law.fit\u001b[0;34m(self, data)\u001b[0m\n\u001b[1;32m   1159\u001b[0m     \u001b[38;5;28mself\u001b[39m\u001b[38;5;241m.\u001b[39mKS(data)\n\u001b[1;32m   1160\u001b[0m \u001b[38;5;28;01melse\u001b[39;00m:\n\u001b[0;32m-> 1161\u001b[0m     \u001b[43mDistribution\u001b[49m\u001b[38;5;241;43m.\u001b[39;49m\u001b[43mfit\u001b[49m\u001b[43m(\u001b[49m\u001b[38;5;28;43mself\u001b[39;49m\u001b[43m,\u001b[49m\u001b[43m \u001b[49m\u001b[43mdata\u001b[49m\u001b[43m,\u001b[49m\u001b[43m \u001b[49m\u001b[43msuppress_output\u001b[49m\u001b[38;5;241;43m=\u001b[39;49m\u001b[38;5;28;43;01mTrue\u001b[39;49;00m\u001b[43m)\u001b[49m\n\u001b[1;32m   1163\u001b[0m \u001b[38;5;28;01mif\u001b[39;00m \u001b[38;5;129;01mnot\u001b[39;00m \u001b[38;5;28mself\u001b[39m\u001b[38;5;241m.\u001b[39min_range():\n\u001b[1;32m   1164\u001b[0m     \u001b[38;5;28mself\u001b[39m\u001b[38;5;241m.\u001b[39mnoise_flag\u001b[38;5;241m=\u001b[39m\u001b[38;5;28;01mTrue\u001b[39;00m\n",
      "File \u001b[0;32m~/anaconda3/envs/ww0.6.5/lib/python3.9/site-packages/powerlaw.py:649\u001b[0m, in \u001b[0;36mDistribution.fit\u001b[0;34m(self, data, suppress_output)\u001b[0m\n\u001b[1;32m    642\u001b[0m parameters, negative_loglikelihood, \u001b[38;5;28miter\u001b[39m, funcalls, warnflag, \u001b[38;5;241m=\u001b[39m \\\n\u001b[1;32m    643\u001b[0m     fmin(\n\u001b[1;32m    644\u001b[0m         \u001b[38;5;28;01mlambda\u001b[39;00m params: fit_function(params),\n\u001b[1;32m    645\u001b[0m         \u001b[38;5;28mself\u001b[39m\u001b[38;5;241m.\u001b[39minitial_parameters(data),\n\u001b[1;32m    646\u001b[0m         full_output\u001b[38;5;241m=\u001b[39m\u001b[38;5;241m1\u001b[39m,\n\u001b[1;32m    647\u001b[0m         disp\u001b[38;5;241m=\u001b[39m\u001b[38;5;28;01mFalse\u001b[39;00m)\n\u001b[1;32m    648\u001b[0m \u001b[38;5;28mself\u001b[39m\u001b[38;5;241m.\u001b[39mparameters(parameters)\n\u001b[0;32m--> 649\u001b[0m \u001b[38;5;28;01mif\u001b[39;00m \u001b[38;5;129;01mnot\u001b[39;00m \u001b[38;5;28;43mself\u001b[39;49m\u001b[38;5;241;43m.\u001b[39;49m\u001b[43min_range\u001b[49m\u001b[43m(\u001b[49m\u001b[43m)\u001b[49m:\n\u001b[1;32m    650\u001b[0m     \u001b[38;5;28mself\u001b[39m\u001b[38;5;241m.\u001b[39mnoise_flag\u001b[38;5;241m=\u001b[39m\u001b[38;5;28;01mTrue\u001b[39;00m\n\u001b[1;32m    651\u001b[0m \u001b[38;5;28;01melse\u001b[39;00m:\n",
      "File \u001b[0;32m~/anaconda3/envs/ww0.6.5/lib/python3.9/site-packages/powerlaw.py:938\u001b[0m, in \u001b[0;36mDistribution.in_range\u001b[0;34m(self)\u001b[0m\n\u001b[1;32m    936\u001b[0m     \u001b[38;5;28;01mexcept\u001b[39;00m \u001b[38;5;167;01mAttributeError\u001b[39;00m:\n\u001b[1;32m    937\u001b[0m         in_range \u001b[38;5;241m=\u001b[39m \u001b[38;5;28mself\u001b[39m\u001b[38;5;241m.\u001b[39m_in_standard_parameter_range()\n\u001b[0;32m--> 938\u001b[0m \u001b[38;5;28;01mreturn\u001b[39;00m \u001b[38;5;28;43mbool\u001b[39;49m(in_range)\n",
      "\u001b[0;31mKeyboardInterrupt\u001b[0m: "
     ]
    }
   ],
   "source": [
    "from transformers import AlbertModel\n",
    "\n",
    "version = 'base'\n",
    "model_name = f\"albert-{version}-v2\"\n",
    "albert = AlbertModel.from_pretrained(model_name)\n",
    "\n",
    "watcher = ww.WeightWatcher(model=albert)\n",
    "details = watcher.analyze(randomize=True, mp_fit=True, detX=True)\n"
   ]
  },
  {
   "cell_type": "code",
   "execution_count": null,
   "metadata": {},
   "outputs": [],
   "source": [
    "W = watcher.get_Weights(layer=17)[0]"
   ]
  },
  {
   "cell_type": "markdown",
   "metadata": {},
   "source": [
    "###  if W has converged, we should  be able to fit it elementwise to a Lapacian distribution"
   ]
  },
  {
   "cell_type": "code",
   "execution_count": null,
   "metadata": {},
   "outputs": [],
   "source": [
    "from scipy.stats import kstest, laplace\n",
    "import numpy as np\n",
    "\n",
    "def fit_laplacian(W, plot=True, sample_size=10000):\n",
    "    \"\"\"Fits the elements of a matrix W to a Laplacian density\n",
    "    \n",
    "    Returns the parameters of the fit and quality\n",
    "    \n",
    "    \"\"\"\n",
    "    W_elements = W.flatten()\n",
    "    loc, scale = laplace.fit(W_elements)\n",
    "    \n",
    "    # Create theoretical Laplacian distribution\n",
    "    lap_dist = laplace(loc, scale)\n",
    "\n",
    "    D, p = kstest(W_elements, lap_dist.cdf)\n",
    "\n",
    "    if plot:\n",
    "        # sample from W\n",
    "        data = np.random.choice(W_elements, size=sample_size, replace=True)\n",
    "        plt.hist(data, bins=1000, density=True, alpha=0.6, color='b', label='Sample Data')\n",
    "\n",
    "\n",
    "        # Plot the fitted Laplacian distribution\n",
    "        x = np.linspace(lap_dist.ppf(0.01), lap_dist.ppf(0.99), 100)\n",
    "        plt.plot(x, lap_dist.pdf(x), 'r-', lw=2, alpha=0.6, label='Fitted Laplacian')\n",
    "    \n",
    "        plt.legend()\n",
    "        plt.show()\n",
    "        \n",
    "        \n",
    "    print(f\"loc={loc:0.2f} scale={scale:0.2f} D={D:0.2f} p={p:0.2f}\")\n",
    "    \n",
    "    return loc, scale, D, p\n",
    "    "
   ]
  },
  {
   "cell_type": "code",
   "execution_count": null,
   "metadata": {
    "scrolled": true
   },
   "outputs": [],
   "source": [
    "loc, scale, D, p = fit_laplacian(W)"
   ]
  },
  {
   "cell_type": "code",
   "execution_count": null,
   "metadata": {},
   "outputs": [],
   "source": []
  },
  {
   "cell_type": "markdown",
   "metadata": {},
   "source": [
    "### The energy function is RELU(Wx+b)\n",
    "\n",
    "How can this be tested withoout using real data\n",
    "\n",
    "Use Gaussian data ?"
   ]
  },
  {
   "cell_type": "code",
   "execution_count": null,
   "metadata": {},
   "outputs": [],
   "source": [
    "from scipy.stats import maxwell\n",
    "\n",
    "def fit_maxwell(W, plot=True, sample_size=10000):\n",
    "    \"\"\"Fits the elements of a matrix W to a Maxwell Boltzman\n",
    "    \n",
    "    THis is WRONG\n",
    "    Returns the parameters of the fit and quality\n",
    "    \n",
    "    \"\"\"\n",
    "    # flatten array\n",
    "    W_elements =(W.flatten())\n",
    "    \n",
    "    # apply relu\n",
    "    #indices = np.random.choice(np.arange(W_elements.size), replace=False,\n",
    "    #                       size=int(W_elements.size * 0.5))\n",
    "    #W_elements[indices] = 0\n",
    "    \n",
    "    # fit to MW dist\n",
    "\n",
    "    params = maxwell.fit(W_elements)\n",
    "    \n",
    "    # Create theoretical Maxwell Boltzmann distribution\n",
    "    loc, scale = params[0], params[1]\n",
    "    mw_dist = maxwell(loc, scale)\n",
    "\n",
    "    D, p = kstest(W_elements, mw_dist.cdf)\n",
    "\n",
    "    if plot:\n",
    "        # sample from W\n",
    "        data = np.random.choice(W_elements, size=sample_size, replace=True)\n",
    "        plt.hist(data, bins=1000, density=True, alpha=0.6, color='b', label='Sample Data')\n",
    "\n",
    "\n",
    "        # Plot the fitted Laplacian distribution\n",
    "        x = np.linspace(mw_dist.ppf(0.01), mw_dist.ppf(0.99), 100)\n",
    "        plt.plot(x, mw_dist.pdf(x), 'r-', lw=2, alpha=0.6, label='Fitted Boltzmann')\n",
    "    \n",
    "        plt.legend()\n",
    "        plt.show()\n",
    "        \n",
    "        \n",
    "    print(f\"loc={loc:0.2f} scale={scale:0.2f} D={D:0.2f} p={p:0.2f}\")\n",
    "    \n",
    "    return loc, scale, D, p\n",
    "    "
   ]
  },
  {
   "cell_type": "code",
   "execution_count": null,
   "metadata": {},
   "outputs": [],
   "source": [
    "loc, scale, D, p = fit_maxwell(W)"
   ]
  },
  {
   "cell_type": "markdown",
   "metadata": {},
   "source": [
    "### Look at different Laplacians"
   ]
  },
  {
   "cell_type": "code",
   "execution_count": null,
   "metadata": {},
   "outputs": [],
   "source": [
    "layer_ids = details.layer_id.to_numpy()"
   ]
  },
  {
   "cell_type": "code",
   "execution_count": null,
   "metadata": {},
   "outputs": [],
   "source": [
    "laplacian_scales = []\n",
    "laplacian_Ds = []\n",
    "max_W = []\n",
    "\n",
    "for layer_id in layer_ids:\n",
    "    W = watcher.get_Weights(layer=layer_id)[0];\n",
    "    loc, scale, D, p = fit_laplacian(W, plot=False);\n",
    "    laplacian_scales.append(scale)\n",
    "    laplacian_Ds.append(D)\n",
    "    max_W.append(np.max(np.abs(W)))"
   ]
  },
  {
   "cell_type": "code",
   "execution_count": null,
   "metadata": {},
   "outputs": [],
   "source": [
    "plt.scatter(details.alpha.to_numpy(), max_W)\n",
    "plt.xlim(1,5)\n",
    "plt.xlabel(r\"Power Law fit: alpha $\\alpha$\")\n",
    "plt.ylabel(\"Laplacian fit: scale\")\n",
    "plt.title(\"ALBERT: Power Law fit vs Laplacian fit\")"
   ]
  },
  {
   "cell_type": "code",
   "execution_count": null,
   "metadata": {},
   "outputs": [],
   "source": [
    "plt.scatter(details.alpha.to_numpy(), max_W)\n",
    "plt.xlabel(r\"Power Law fit: alpha $\\alpha$\")\n",
    "plt.ylabel(\"max W\")\n",
    "plt.title(\"ALBERT: Power Law fit vs Max W\")\n"
   ]
  },
  {
   "cell_type": "code",
   "execution_count": null,
   "metadata": {},
   "outputs": [],
   "source": [
    "for alpha, scale in zip(details.alpha.to_numpy(), laplacian_scales):\n",
    "    lap_dist = laplace(0.0, scale)\n",
    "    \n",
    "    #if alpha < 6 and alpha > 1.5:\n",
    "\n",
    "    if alpha> 4 or alpha < 2 or (alpha > 3 and alpha < 3.07):\n",
    "        # Plot the fitted Laplacian distribution\n",
    "        x = np.linspace(lap_dist.ppf(0.01), lap_dist.ppf(0.99), 100)\n",
    "        plt.plot(x, lap_dist.pdf(x),  lw=2, alpha=0.6, label=r\"$\\alpha=$\"+f\"{alpha:0.2f}\")\n",
    "\n",
    "plt.title(\"Laplacian fits for  few ALBERT layers\"            )\n",
    "plt.legend()\n",
    "plt.show()"
   ]
  },
  {
   "cell_type": "code",
   "execution_count": null,
   "metadata": {},
   "outputs": [],
   "source": [
    "for alpha, scale in zip(details.alpha.to_numpy(), laplacian_scales):\n",
    "    lap_dist = laplace(0.0, scale)\n",
    "    \n",
    "\n",
    "    # Plot the fitted Laplacian distribution\n",
    "    if alpha < 2:\n",
    "        x = np.linspace(lap_dist.ppf(0.01), lap_dist.ppf(0.99), 100)\n",
    "        plt.plot(x, lap_dist.pdf(x),  lw=2, alpha=0.6, label=r\"$\\alpha=$\"+f\"{alpha:0.2f}\")\n",
    "\n",
    "plt.title(\"Laplacian fits for  few ALBERT layers\"            )\n",
    "plt.legend()\n",
    "plt.show()"
   ]
  },
  {
   "cell_type": "code",
   "execution_count": null,
   "metadata": {},
   "outputs": [],
   "source": [
    "plt.scatter(laplacian_scales, max_W)\n",
    "plt.xlabel(r\"laplacian_scales\")\n",
    "plt.ylabel(\"max W\")\n",
    "plt.title(\"ALBERT: Max W vs Laplacian fit\")\n",
    "#plt.ylim(0,2)"
   ]
  },
  {
   "cell_type": "code",
   "execution_count": null,
   "metadata": {},
   "outputs": [],
   "source": [
    "plt.scatter(laplacian_scales, max_W)\n",
    "plt.xlabel(r\"laplacian_scales\")\n",
    "plt.ylabel(\"max W\")\n",
    "plt.title(\"ALBERT: Max W vs Laplacian fit\")\n",
    "plt.ylim(0,2)"
   ]
  },
  {
   "cell_type": "code",
   "execution_count": null,
   "metadata": {},
   "outputs": [],
   "source": [
    "details"
   ]
  },
  {
   "cell_type": "code",
   "execution_count": null,
   "metadata": {
    "scrolled": false
   },
   "outputs": [],
   "source": [
    "watcher.analyze(layers=[26], plot=True)"
   ]
  },
  {
   "cell_type": "code",
   "execution_count": null,
   "metadata": {},
   "outputs": [],
   "source": [
    "esd = watcher.get_ESD(layer=17)"
   ]
  },
  {
   "cell_type": "code",
   "execution_count": null,
   "metadata": {},
   "outputs": [],
   "source": [
    "plt.hist(esd, log=True, bins=100);"
   ]
  },
  {
   "cell_type": "code",
   "execution_count": null,
   "metadata": {},
   "outputs": [],
   "source": [
    "plt.hist(np.log10(esd), log=True, bins=100);"
   ]
  },
  {
   "cell_type": "code",
   "execution_count": null,
   "metadata": {},
   "outputs": [],
   "source": [
    "\n",
    "plt.hist(np.log10(esd[esd>10]), log=True, bins=100);"
   ]
  },
  {
   "cell_type": "code",
   "execution_count": null,
   "metadata": {
    "scrolled": false
   },
   "outputs": [],
   "source": [
    "details_17_xxlarge = watcher.analyze(layers=[17], fix_fingers='xmin_peak', xmin_max = 15, plot=True)"
   ]
  },
  {
   "cell_type": "markdown",
   "metadata": {},
   "source": [
    "### VGG\n"
   ]
  },
  {
   "cell_type": "code",
   "execution_count": null,
   "metadata": {},
   "outputs": [],
   "source": [
    "import weightwatcher as ww\n",
    "import logging"
   ]
  },
  {
   "cell_type": "code",
   "execution_count": null,
   "metadata": {},
   "outputs": [],
   "source": [
    "import torchvision.models as models\n",
    "model = models.vgg11(weights='VGG11_Weights.IMAGENET1K_V1')\n",
    "watcher = ww.WeightWatcher(model=model, log_level=logging.WARNING)"
   ]
  },
  {
   "cell_type": "code",
   "execution_count": null,
   "metadata": {},
   "outputs": [],
   "source": [
    "details = watcher.analyze(layers=[5], plot=True)\n",
    "details.alpha.to_numpy()[0]"
   ]
  },
  {
   "cell_type": "code",
   "execution_count": null,
   "metadata": {},
   "outputs": [],
   "source": [
    "details = watcher.analyze(layers=[5], plot=True, fix_fingers='xmin_peak', xmin_max=1.0)\n",
    "details.alpha.to_numpy()[0]"
   ]
  },
  {
   "cell_type": "code",
   "execution_count": null,
   "metadata": {},
   "outputs": [],
   "source": [
    "details = watcher.analyze(layers=[5], fix_fingers='clip_xmax', plot=True)\n",
    "details"
   ]
  },
  {
   "cell_type": "code",
   "execution_count": null,
   "metadata": {},
   "outputs": [],
   "source": [
    "details = watcher.describe()\n",
    "len(details)\n"
   ]
  },
  {
   "cell_type": "markdown",
   "metadata": {},
   "source": [
    "## ChatGPT "
   ]
  },
  {
   "cell_type": "code",
   "execution_count": 56,
   "metadata": {},
   "outputs": [
    {
     "name": "stderr",
     "output_type": "stream",
     "text": [
      "INFO:weightwatcher:params {'glorot_fix': False, 'normalize': False, 'conv2d_norm': True, 'randomize': True, 'savedir': 'ww-img', 'savefig': 'ww-img', 'rescale': True, 'plot': False, 'deltaEs': False, 'intra': False, 'channels': None, 'conv2d_fft': False, 'ww2x': False, 'vectors': True, 'smooth': None, 'stacked': False, 'svd_method': 'full_svd', 'fix_fingers': None, 'fit': 'power_law', 'sparsify': True, 'detX': True, 'mp_fit': False, 'min_evals': 0, 'max_evals': None, 'max_N': 10, 'tolerance': 1e-06, 'layer_ids_start': 0, 'add_biases': False, 'glorot_fit': False, 'layers': []}\n",
      "INFO:weightwatcher:Saving all images to ww-img\n",
      "INFO:weightwatcher:params {'glorot_fix': False, 'normalize': False, 'conv2d_norm': True, 'randomize': True, 'savedir': 'ww-img', 'savefig': 'ww-img', 'rescale': True, 'plot': False, 'deltaEs': False, 'intra': False, 'channels': None, 'conv2d_fft': False, 'ww2x': False, 'vectors': True, 'smooth': None, 'stacked': False, 'svd_method': 'full_svd', 'fix_fingers': None, 'fit': 'power_law', 'sparsify': True, 'detX': True, 'mp_fit': False, 'min_evals': 0, 'max_evals': None, 'max_N': 10, 'tolerance': 1e-06, 'layer_ids_start': 0, 'add_biases': False, 'glorot_fit': False, 'layers': []}\n",
      "INFO:weightwatcher:Saving all images to ww-img\n",
      "INFO:weightwatcher:torch version 1.12.1\n",
      "INFO:weightwatcher:framework from model = 2\n",
      "INFO:weightwatcher:Getting Weights for layer 17 \n",
      "INFO:weightwatcher:torch version 1.12.1\n",
      "INFO:weightwatcher:framework from model = 2\n",
      "INFO:weightwatcher:Filtering layer by id 17\n"
     ]
    },
    {
     "name": "stdout",
     "output_type": "stream",
     "text": [
      "(768, 768)\n",
      "1.24909508228302\n"
     ]
    },
    {
     "data": {
      "image/png": "[encoded data removed]",
      "text/plain": [
       "<Figure size 640x480 with 1 Axes>"
      ]
     },
     "metadata": {},
     "output_type": "display_data"
    }
   ],
   "source": [
    "from scipy.stats import maxwell\n",
    "\n",
    "W = watcher.get_Weights(layer=17)[0]\n",
    "\n",
    "print(W.shape)\n",
    "def energy_function(W, x):\n",
    "    return np.dot(W, x)+0.2\n",
    "\n",
    "# Generate a sample of 1000 random data points with Gaussian iid distribution\n",
    "np.random.seed(0)\n",
    "x_sample = np.random.normal(size=(768, 768))\n",
    "\n",
    "# Evaluate the Energy function for each sample with ReLU\n",
    "E_sample = energy_function(W, x_sample)\n",
    "\n",
    "# Subsample the data by randomly selecting 100 data points\n",
    "subsample_size = 100\n",
    "subsample_index = np.random.choice(E_sample.shape[0], subsample_size, replace=False)\n",
    "E_subsample = E_sample[subsample_index,:]\n",
    "\n",
    "# Flatten the 2-dimensional array into a 1-dimensional array\n",
    "E_subsample = E_subsample.ravel()\n",
    "\n",
    "E_subsample = E_subsample\n",
    "\n",
    "# Estimate the temperature T using the maxwell.fit function\n",
    "loc, scale = maxwell.fit(E_subsample, floc=0)\n",
    "T = 2*scale**2\n",
    "\n",
    "print(T)\n",
    "# Plot the histogram of E values\n",
    "plt.hist(E_subsample, bins=100,  density=True);\n",
    "# Plot the fitted Maxwell-Boltzmann distribution\n",
    "E = np.linspace(E_subsample.min(), E_subsample.max(), 1000)\n",
    "plt.plot(E, maxwell.pdf(E, scale = np.sqrt(T/2)), 'r', label='Maxwell-Boltzmann')\n",
    "plt.legend()\n",
    "plt.show()"
   ]
  },
  {
   "cell_type": "code",
   "execution_count": 48,
   "metadata": {},
   "outputs": [
    {
     "data": {
      "text/plain": [
       "0.29975015"
      ]
     },
     "execution_count": 48,
     "metadata": {},
     "output_type": "execute_result"
    }
   ],
   "source": [
    "np.max(W)"
   ]
  },
  {
   "cell_type": "code",
   "execution_count": null,
   "metadata": {},
   "outputs": [],
   "source": []
  }
 ],
 "metadata": {
  "accelerator": "GPU",
  "colab": {
   "collapsed_sections": [],
   "include_colab_link": true,
   "machine_shape": "hm",
   "name": " WW-BERT-BlogExample.ipynb",
   "provenance": []
  },
  "kernelspec": {
   "display_name": "Python 3 (ipykernel)",
   "language": "python",
   "name": "python3"
  },
  "language_info": {
   "codemirror_mode": {
    "name": "ipython",
    "version": 3
   },
   "file_extension": ".py",
   "mimetype": "text/x-python",
   "name": "python",
   "nbconvert_exporter": "python",
   "pygments_lexer": "ipython3",
   "version": "3.9.13"
  }
 },
 "nbformat": 4,
 "nbformat_minor": 1
}
