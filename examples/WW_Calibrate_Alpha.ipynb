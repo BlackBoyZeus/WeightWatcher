{
 "cells": [
  {
   "cell_type": "markdown",
   "metadata": {
    "colab_type": "text",
    "id": "view-in-github"
   },
   "source": [
    "<a href=\"https://colab.research.google.com/github/CalculatedContent/WeightWatcher/blob/master/examples/WW_Calibrate_Alpha.ipynb\" target=\"_parent\"><img src=\"https://colab.research.google.com/assets/colab-badge.svg\" alt=\"Open In Colab\"/></a>"
   ]
  },
  {
   "cell_type": "markdown",
   "metadata": {
    "id": "VhMwt7M7cEZV"
   },
   "source": [
    "### Calibrate  Alpha against Random Distance metric\n",
    "\n",
    "This notebook is an attempt to calibrate the PL fits of $\\alpha$ to the Rand-Distance metric, using a Pareto random matrix (as opposed to a strongly correlated matrix)\n",
    "\n",
    "Notice that the Rand_Distance metrix depends on Q\n",
    "\n",
    "see also:  https://github.com/CalculatedContent/ImplicitSelfRegularization/blob/master/HeavyTailedUniversalityClasses.ipynb\n",
    "\n"
   ]
  },
  {
   "cell_type": "code",
   "execution_count": 1,
   "metadata": {
    "id": "3b0V4XmCdshz"
   },
   "outputs": [],
   "source": [
    "import os\n",
    "import numpy as np\n",
    "import pandas as pd\n",
    "import matplotlib.pyplot as plt\n",
    "\n",
    "from tqdm import tqdm\n"
   ]
  },
  {
   "cell_type": "code",
   "execution_count": null,
   "metadata": {},
   "outputs": [],
   "source": [
    "!pip install weightwatcher"
   ]
  },
  {
   "cell_type": "code",
   "execution_count": 2,
   "metadata": {
    "id": "5mr78auQ6PlB"
   },
   "outputs": [],
   "source": [
    "import weightwatcher as ww\n",
    "import logging\n",
    "\n",
    "logging.basicConfig(level=logging.INFO)\n",
    "logger = logging.getLogger(ww.__NAME__) \n",
    "logger.setLevel(logging.INFO)\n"
   ]
  },
  {
   "cell_type": "markdown",
   "metadata": {},
   "source": [
    "### Create dummy pyTorch model\n",
    "\n",
    "see:  https://pytorch.org/tutorials/beginner/introyt/modelsyt_tutorial.html\n"
   ]
  },
  {
   "cell_type": "code",
   "execution_count": 3,
   "metadata": {},
   "outputs": [],
   "source": [
    "import torch\n",
    "\n",
    "class TinyModel(torch.nn.Module):\n",
    "\n",
    "    def __init__(self, W):\n",
    "        super(TinyModel, self).__init__()\n",
    "        N, M = W.shape[0], W.shape[1]\n",
    "        assert(N >= M)\n",
    "        self.linear = torch.nn.Linear(N, M, bias=False)\n",
    "        self.linear.weight.data = torch.from_numpy(W)\n",
    "        \n",
    "    def forward(self, x):\n",
    "        x = self.linear(x)\n",
    "        return x\n"
   ]
  },
  {
   "cell_type": "code",
   "execution_count": null,
   "metadata": {},
   "outputs": [
    {
     "name": "stderr",
     "output_type": "stream",
     "text": [
      " 67%|██████▋   | 4/6 [46:18<23:46, 713.24s/it]"
     ]
    }
   ],
   "source": [
    "#%%capture\n",
    "from IPython.utils import io\n",
    "\n",
    "import warnings\n",
    "warnings.filterwarnings('ignore')\n",
    "\n",
    "import logging\n",
    "logger = logging.getLogger('weightwatcher') \n",
    "logger.setLevel(logging.CRITICAL)\n",
    "\n",
    "\n",
    "all_details = pd.DataFrame()\n",
    "\n",
    "for mu in tqdm([2, 2.5, 3, 3.5, 4, 4.5]):\n",
    "    for M in [100, 250, 500, 1000, 2000]:\n",
    "        for Q in [1,2,3,4,5,6,7,8,8,9,10]:\n",
    "            N = Q*M\n",
    "            W = np.random.pareto(mu,size=(N,M))\n",
    "            model = TinyModel(W)\n",
    "\n",
    "            #print(f\"mu={mu} M={M} Q={Q}\")\n",
    "            # supress print statements from powerlaw fits\n",
    "            with io.capture_output() as captured:\n",
    "                watcher = ww.WeightWatcher(model=model)\n",
    "                details = watcher.analyze(mp_fit=True, randomize=True)\n",
    "                details['mu']=mu\n",
    "                details['Q']=Q\n",
    "                all_details = pd.concat([all_details, details])"
   ]
  },
  {
   "cell_type": "code",
   "execution_count": null,
   "metadata": {},
   "outputs": [],
   "source": [
    "all_details.plot.scatter(x=\"Q\", y='alpha')"
   ]
  },
  {
   "cell_type": "code",
   "execution_count": null,
   "metadata": {},
   "outputs": [],
   "source": [
    "all_details.plot.scatter(x=\"rand_distance\", y='alpha')"
   ]
  },
  {
   "cell_type": "code",
   "execution_count": null,
   "metadata": {},
   "outputs": [],
   "source": [
    "all_details.plot.scatter(x=\"rand_distance\", y='Q')"
   ]
  },
  {
   "cell_type": "code",
   "execution_count": null,
   "metadata": {
    "scrolled": false
   },
   "outputs": [],
   "source": [
    "import matplotlib.pyplot as plt\n",
    "plt.rcParams[\"figure.figsize\"] = (10,10)\n",
    "\n",
    "for Q in [1,3,5,7,9]:\n",
    "    alpha = all_details[all_details.Q==1].alpha.to_numpy()\n",
    "    rand_distance = all_details[all_details.Q==Q].rand_distance.to_numpy()\n",
    "    idx = np.argsort(rand_distance)\n",
    "    if len(alpha)==len(rand_distance):\n",
    "        plt.scatter(rand_distance[idx], alpha[idx], label=str(Q))\n",
    "plt.legend()\n",
    "plt.show()\n"
   ]
  },
  {
   "cell_type": "code",
   "execution_count": null,
   "metadata": {},
   "outputs": [],
   "source": []
  }
 ],
 "metadata": {
  "accelerator": "GPU",
  "colab": {
   "collapsed_sections": [],
   "include_colab_link": true,
   "machine_shape": "hm",
   "name": " WW-BERT-BlogExample.ipynb",
   "provenance": []
  },
  "kernelspec": {
   "display_name": "Python 3",
   "language": "python",
   "name": "python3"
  },
  "language_info": {
   "codemirror_mode": {
    "name": "ipython",
    "version": 3
   },
   "file_extension": ".py",
   "mimetype": "text/x-python",
   "name": "python",
   "nbconvert_exporter": "python",
   "pygments_lexer": "ipython3",
   "version": "3.7.4"
  }
 },
 "nbformat": 4,
 "nbformat_minor": 1
}
