{
  "nbformat": 4,
  "nbformat_minor": 0,
  "metadata": {
    "colab": {
      "name": " WW-BERT-BlogExample.ipynb",
      "provenance": [],
      "collapsed_sections": [],
      "machine_shape": "hm",
      "include_colab_link": true
    },
    "kernelspec": {
      "name": "python3",
      "display_name": "Python 3"
    },
    "language_info": {
      "name": "python"
    },
    "accelerator": "GPU"
  },
  "cells": [
    {
      "cell_type": "markdown",
      "metadata": {
        "id": "view-in-github",
        "colab_type": "text"
      },
      "source": [
        "<a href=\"https://colab.research.google.com/github/CalculatedContent/WeightWatcher/blob/master/examples/WW_BERT.ipynb\" target=\"_parent\"><img src=\"https://colab.research.google.com/assets/colab-badge.svg\" alt=\"Open In Colab\"/></a>"
      ]
    },
    {
      "cell_type": "markdown",
      "source": [
        "# How to use weightwatcher to pick the right BERT model\n",
        "\n",
        "### We compare BERT, RoBERTa, and XLNet\n",
        "\n",
        "\n",
        "\n",
        "\n",
        "\n"
      ],
      "metadata": {
        "id": "VhMwt7M7cEZV"
      }
    },
    {
      "cell_type": "code",
      "source": [
        "import os\n",
        "import numpy as np\n",
        "import pandas as pd\n",
        "import matplotlib.pyplot as plt"
      ],
      "metadata": {
        "id": "3b0V4XmCdshz"
      },
      "execution_count": 1,
      "outputs": []
    },
    {
      "cell_type": "code",
      "source": [
        "!pip install transformers weightwatcher gwpy matplotlib==3.1.3\n"
      ],
      "metadata": {
        "id": "_e9GgbKxJgSZ",
        "colab": {
          "base_uri": "https://localhost:8080/"
        },
        "outputId": "e039e826-5968-481b-c165-c22beb5e86bd"
      },
      "execution_count": 2,
      "outputs": [
        {
          "output_type": "stream",
          "name": "stdout",
          "text": [
            "Looking in indexes: https://pypi.org/simple, https://us-python.pkg.dev/colab-wheels/public/simple/\n",
            "Collecting transformers\n",
            "  Downloading transformers-4.20.1-py3-none-any.whl (4.4 MB)\n",
            "\u001b[K     |████████████████████████████████| 4.4 MB 4.1 MB/s \n",
            "\u001b[?25hCollecting weightwatcher\n",
            "  Downloading weightwatcher-0.5.6-py3-none-any.whl (48 kB)\n",
            "\u001b[K     |████████████████████████████████| 48 kB 6.6 MB/s \n",
            "\u001b[?25hCollecting gwpy\n",
            "  Downloading gwpy-2.1.4-py2.py3-none-any.whl (1.4 MB)\n",
            "\u001b[K     |████████████████████████████████| 1.4 MB 51.7 MB/s \n",
            "\u001b[?25hCollecting matplotlib==3.1.3\n",
            "  Downloading matplotlib-3.1.3-cp37-cp37m-manylinux1_x86_64.whl (13.1 MB)\n",
            "\u001b[K     |████████████████████████████████| 13.1 MB 22.2 MB/s \n",
            "\u001b[?25hRequirement already satisfied: numpy>=1.11 in /usr/local/lib/python3.7/dist-packages (from matplotlib==3.1.3) (1.21.6)\n",
            "Requirement already satisfied: python-dateutil>=2.1 in /usr/local/lib/python3.7/dist-packages (from matplotlib==3.1.3) (2.8.2)\n",
            "Requirement already satisfied: kiwisolver>=1.0.1 in /usr/local/lib/python3.7/dist-packages (from matplotlib==3.1.3) (1.4.4)\n",
            "Requirement already satisfied: pyparsing!=2.0.4,!=2.1.2,!=2.1.6,>=2.0.1 in /usr/local/lib/python3.7/dist-packages (from matplotlib==3.1.3) (3.0.9)\n",
            "Requirement already satisfied: cycler>=0.10 in /usr/local/lib/python3.7/dist-packages (from matplotlib==3.1.3) (0.11.0)\n",
            "Requirement already satisfied: typing-extensions in /usr/local/lib/python3.7/dist-packages (from kiwisolver>=1.0.1->matplotlib==3.1.3) (4.1.1)\n",
            "Requirement already satisfied: six>=1.5 in /usr/local/lib/python3.7/dist-packages (from python-dateutil>=2.1->matplotlib==3.1.3) (1.15.0)\n",
            "Requirement already satisfied: requests in /usr/local/lib/python3.7/dist-packages (from transformers) (2.23.0)\n",
            "Requirement already satisfied: importlib-metadata in /usr/local/lib/python3.7/dist-packages (from transformers) (4.12.0)\n",
            "Collecting pyyaml>=5.1\n",
            "  Downloading PyYAML-6.0-cp37-cp37m-manylinux_2_5_x86_64.manylinux1_x86_64.manylinux_2_12_x86_64.manylinux2010_x86_64.whl (596 kB)\n",
            "\u001b[K     |████████████████████████████████| 596 kB 87.0 MB/s \n",
            "\u001b[?25hRequirement already satisfied: packaging>=20.0 in /usr/local/lib/python3.7/dist-packages (from transformers) (21.3)\n",
            "Collecting tokenizers!=0.11.3,<0.13,>=0.11.1\n",
            "  Downloading tokenizers-0.12.1-cp37-cp37m-manylinux_2_12_x86_64.manylinux2010_x86_64.whl (6.6 MB)\n",
            "\u001b[K     |████████████████████████████████| 6.6 MB 47.4 MB/s \n",
            "\u001b[?25hRequirement already satisfied: tqdm>=4.27 in /usr/local/lib/python3.7/dist-packages (from transformers) (4.64.0)\n",
            "Requirement already satisfied: regex!=2019.12.17 in /usr/local/lib/python3.7/dist-packages (from transformers) (2022.6.2)\n",
            "Requirement already satisfied: filelock in /usr/local/lib/python3.7/dist-packages (from transformers) (3.7.1)\n",
            "Collecting huggingface-hub<1.0,>=0.1.0\n",
            "  Downloading huggingface_hub-0.8.1-py3-none-any.whl (101 kB)\n",
            "\u001b[K     |████████████████████████████████| 101 kB 12.1 MB/s \n",
            "\u001b[?25hRequirement already satisfied: pandas in /usr/local/lib/python3.7/dist-packages (from weightwatcher) (1.3.5)\n",
            "Requirement already satisfied: tensorflow in /usr/local/lib/python3.7/dist-packages (from weightwatcher) (2.8.2+zzzcolab20220719082949)\n",
            "Collecting onnx\n",
            "  Downloading onnx-1.12.0-cp37-cp37m-manylinux_2_17_x86_64.manylinux2014_x86_64.whl (13.1 MB)\n",
            "\u001b[K     |████████████████████████████████| 13.1 MB 50.9 MB/s \n",
            "\u001b[?25hCollecting pyRMT\n",
            "  Downloading pyRMT-0.1.0.tar.gz (7.8 kB)\n",
            "Requirement already satisfied: sklearn in /usr/local/lib/python3.7/dist-packages (from weightwatcher) (0.0)\n",
            "Collecting powerlaw\n",
            "  Downloading powerlaw-1.5-py3-none-any.whl (24 kB)\n",
            "Requirement already satisfied: torch in /usr/local/lib/python3.7/dist-packages (from weightwatcher) (1.12.0+cu113)\n",
            "Collecting gwdatafind>=1.1.0\n",
            "  Downloading gwdatafind-1.1.1-py3-none-any.whl (45 kB)\n",
            "\u001b[K     |████████████████████████████████| 45 kB 3.5 MB/s \n",
            "\u001b[?25hRequirement already satisfied: astropy>=4.0 in /usr/local/lib/python3.7/dist-packages (from gwpy) (4.3.1)\n",
            "Collecting gwosc>=0.5.3\n",
            "  Downloading gwosc-0.6.1-py3-none-any.whl (27 kB)\n",
            "Collecting ligotimegps>=1.2.1\n",
            "  Downloading ligotimegps-2.0.1-py2.py3-none-any.whl (19 kB)\n",
            "Requirement already satisfied: scipy>=1.2.0 in /usr/local/lib/python3.7/dist-packages (from gwpy) (1.7.3)\n",
            "Collecting ligo-segments>=1.0.0\n",
            "  Downloading ligo-segments-1.4.0.tar.gz (51 kB)\n",
            "\u001b[K     |████████████████████████████████| 51 kB 7.8 MB/s \n",
            "\u001b[?25hCollecting dqsegdb2\n",
            "  Downloading dqsegdb2-1.1.2-py3-none-any.whl (20 kB)\n",
            "Requirement already satisfied: h5py>=2.8.0 in /usr/local/lib/python3.7/dist-packages (from gwpy) (3.1.0)\n",
            "Collecting gwpy\n",
            "  Downloading gwpy-2.1.3-py2.py3-none-any.whl (1.4 MB)\n",
            "\u001b[K     |████████████████████████████████| 1.4 MB 59.0 MB/s \n",
            "\u001b[?25h  Downloading gwpy-2.1.2-py2.py3-none-any.whl (1.4 MB)\n",
            "\u001b[K     |████████████████████████████████| 1.4 MB 83.3 MB/s \n",
            "\u001b[?25h  Downloading gwpy-2.1.1-py2.py3-none-any.whl (1.4 MB)\n",
            "\u001b[K     |████████████████████████████████| 1.4 MB 64.1 MB/s \n",
            "\u001b[?25h  Downloading gwpy-2.1.0-py2.py3-none-any.whl (1.4 MB)\n",
            "\u001b[K     |████████████████████████████████| 1.4 MB 62.0 MB/s \n",
            "\u001b[?25h  Downloading gwpy-2.0.4-py2.py3-none-any.whl (1.4 MB)\n",
            "\u001b[K     |████████████████████████████████| 1.4 MB 73.2 MB/s \n",
            "\u001b[?25h  Downloading gwpy-2.0.2-py2.py3-none-any.whl (1.4 MB)\n",
            "\u001b[K     |████████████████████████████████| 1.4 MB 72.5 MB/s \n",
            "\u001b[?25hRequirement already satisfied: pyerfa>=1.7.3 in /usr/local/lib/python3.7/dist-packages (from astropy>=4.0->gwpy) (2.0.0.1)\n",
            "Requirement already satisfied: cached-property in /usr/local/lib/python3.7/dist-packages (from h5py>=2.8.0->gwpy) (1.5.2)\n",
            "Requirement already satisfied: certifi>=2017.4.17 in /usr/local/lib/python3.7/dist-packages (from requests->transformers) (2022.6.15)\n",
            "Requirement already satisfied: idna<3,>=2.5 in /usr/local/lib/python3.7/dist-packages (from requests->transformers) (2.10)\n",
            "Requirement already satisfied: urllib3!=1.25.0,!=1.25.1,<1.26,>=1.21.1 in /usr/local/lib/python3.7/dist-packages (from requests->transformers) (1.24.3)\n",
            "Requirement already satisfied: chardet<4,>=3.0.2 in /usr/local/lib/python3.7/dist-packages (from requests->transformers) (3.0.4)\n",
            "Collecting igwn-auth-utils[requests]>=0.2.2\n",
            "  Downloading igwn_auth_utils-0.2.3-py3-none-any.whl (20 kB)\n",
            "Collecting cryptography>=2.3\n",
            "  Downloading cryptography-37.0.4-cp36-abi3-manylinux_2_24_x86_64.whl (4.1 MB)\n",
            "\u001b[K     |████████████████████████████████| 4.1 MB 76.8 MB/s \n",
            "\u001b[?25hCollecting scitokens>=1.7.0\n",
            "  Downloading scitokens-1.7.0-py3-none-any.whl (23 kB)\n",
            "Collecting safe-netrc>=1.0.0\n",
            "  Downloading safe_netrc-1.0.0-py2.py3-none-any.whl (11 kB)\n",
            "Requirement already satisfied: cffi>=1.12 in /usr/local/lib/python3.7/dist-packages (from cryptography>=2.3->igwn-auth-utils[requests]>=0.2.2->dqsegdb2->gwpy) (1.15.1)\n",
            "Requirement already satisfied: pycparser in /usr/local/lib/python3.7/dist-packages (from cffi>=1.12->cryptography>=2.3->igwn-auth-utils[requests]>=0.2.2->dqsegdb2->gwpy) (2.21)\n",
            "Collecting PyJWT>=1.6.1\n",
            "  Downloading PyJWT-2.4.0-py3-none-any.whl (18 kB)\n",
            "Requirement already satisfied: zipp>=0.5 in /usr/local/lib/python3.7/dist-packages (from importlib-metadata->transformers) (3.8.1)\n",
            "Requirement already satisfied: protobuf<=3.20.1,>=3.12.2 in /usr/local/lib/python3.7/dist-packages (from onnx->weightwatcher) (3.17.3)\n",
            "Requirement already satisfied: pytz>=2017.3 in /usr/local/lib/python3.7/dist-packages (from pandas->weightwatcher) (2022.1)\n",
            "Requirement already satisfied: mpmath in /usr/local/lib/python3.7/dist-packages (from powerlaw->weightwatcher) (1.2.1)\n",
            "Requirement already satisfied: scikit-learn in /usr/local/lib/python3.7/dist-packages (from sklearn->weightwatcher) (1.0.2)\n",
            "Requirement already satisfied: joblib>=0.11 in /usr/local/lib/python3.7/dist-packages (from scikit-learn->sklearn->weightwatcher) (1.1.0)\n",
            "Requirement already satisfied: threadpoolctl>=2.0.0 in /usr/local/lib/python3.7/dist-packages (from scikit-learn->sklearn->weightwatcher) (3.1.0)\n",
            "Requirement already satisfied: libclang>=9.0.1 in /usr/local/lib/python3.7/dist-packages (from tensorflow->weightwatcher) (14.0.1)\n",
            "Requirement already satisfied: tensorflow-estimator<2.9,>=2.8 in /usr/local/lib/python3.7/dist-packages (from tensorflow->weightwatcher) (2.8.0)\n",
            "Requirement already satisfied: astunparse>=1.6.0 in /usr/local/lib/python3.7/dist-packages (from tensorflow->weightwatcher) (1.6.3)\n",
            "Requirement already satisfied: opt-einsum>=2.3.2 in /usr/local/lib/python3.7/dist-packages (from tensorflow->weightwatcher) (3.3.0)\n",
            "Requirement already satisfied: setuptools in /usr/local/lib/python3.7/dist-packages (from tensorflow->weightwatcher) (57.4.0)\n",
            "Requirement already satisfied: absl-py>=0.4.0 in /usr/local/lib/python3.7/dist-packages (from tensorflow->weightwatcher) (1.2.0)\n",
            "Requirement already satisfied: gast>=0.2.1 in /usr/local/lib/python3.7/dist-packages (from tensorflow->weightwatcher) (0.5.3)\n",
            "Requirement already satisfied: flatbuffers>=1.12 in /usr/local/lib/python3.7/dist-packages (from tensorflow->weightwatcher) (2.0)\n",
            "Requirement already satisfied: wrapt>=1.11.0 in /usr/local/lib/python3.7/dist-packages (from tensorflow->weightwatcher) (1.14.1)\n",
            "Requirement already satisfied: tensorboard<2.9,>=2.8 in /usr/local/lib/python3.7/dist-packages (from tensorflow->weightwatcher) (2.8.0)\n",
            "Requirement already satisfied: grpcio<2.0,>=1.24.3 in /usr/local/lib/python3.7/dist-packages (from tensorflow->weightwatcher) (1.47.0)\n",
            "Requirement already satisfied: termcolor>=1.1.0 in /usr/local/lib/python3.7/dist-packages (from tensorflow->weightwatcher) (1.1.0)\n",
            "Requirement already satisfied: keras-preprocessing>=1.1.1 in /usr/local/lib/python3.7/dist-packages (from tensorflow->weightwatcher) (1.1.2)\n",
            "Requirement already satisfied: google-pasta>=0.1.1 in /usr/local/lib/python3.7/dist-packages (from tensorflow->weightwatcher) (0.2.0)\n",
            "Requirement already satisfied: keras<2.9,>=2.8.0rc0 in /usr/local/lib/python3.7/dist-packages (from tensorflow->weightwatcher) (2.8.0)\n",
            "Requirement already satisfied: tensorflow-io-gcs-filesystem>=0.23.1 in /usr/local/lib/python3.7/dist-packages (from tensorflow->weightwatcher) (0.26.0)\n",
            "Requirement already satisfied: wheel<1.0,>=0.23.0 in /usr/local/lib/python3.7/dist-packages (from astunparse>=1.6.0->tensorflow->weightwatcher) (0.37.1)\n",
            "Requirement already satisfied: werkzeug>=0.11.15 in /usr/local/lib/python3.7/dist-packages (from tensorboard<2.9,>=2.8->tensorflow->weightwatcher) (1.0.1)\n",
            "Requirement already satisfied: google-auth-oauthlib<0.5,>=0.4.1 in /usr/local/lib/python3.7/dist-packages (from tensorboard<2.9,>=2.8->tensorflow->weightwatcher) (0.4.6)\n",
            "Requirement already satisfied: tensorboard-data-server<0.7.0,>=0.6.0 in /usr/local/lib/python3.7/dist-packages (from tensorboard<2.9,>=2.8->tensorflow->weightwatcher) (0.6.1)\n",
            "Requirement already satisfied: tensorboard-plugin-wit>=1.6.0 in /usr/local/lib/python3.7/dist-packages (from tensorboard<2.9,>=2.8->tensorflow->weightwatcher) (1.8.1)\n",
            "Requirement already satisfied: markdown>=2.6.8 in /usr/local/lib/python3.7/dist-packages (from tensorboard<2.9,>=2.8->tensorflow->weightwatcher) (3.4.1)\n",
            "Requirement already satisfied: google-auth<3,>=1.6.3 in /usr/local/lib/python3.7/dist-packages (from tensorboard<2.9,>=2.8->tensorflow->weightwatcher) (1.35.0)\n",
            "Requirement already satisfied: pyasn1-modules>=0.2.1 in /usr/local/lib/python3.7/dist-packages (from google-auth<3,>=1.6.3->tensorboard<2.9,>=2.8->tensorflow->weightwatcher) (0.2.8)\n",
            "Requirement already satisfied: rsa<5,>=3.1.4 in /usr/local/lib/python3.7/dist-packages (from google-auth<3,>=1.6.3->tensorboard<2.9,>=2.8->tensorflow->weightwatcher) (4.8)\n",
            "Requirement already satisfied: cachetools<5.0,>=2.0.0 in /usr/local/lib/python3.7/dist-packages (from google-auth<3,>=1.6.3->tensorboard<2.9,>=2.8->tensorflow->weightwatcher) (4.2.4)\n",
            "Requirement already satisfied: requests-oauthlib>=0.7.0 in /usr/local/lib/python3.7/dist-packages (from google-auth-oauthlib<0.5,>=0.4.1->tensorboard<2.9,>=2.8->tensorflow->weightwatcher) (1.3.1)\n",
            "Requirement already satisfied: pyasn1<0.5.0,>=0.4.6 in /usr/local/lib/python3.7/dist-packages (from pyasn1-modules>=0.2.1->google-auth<3,>=1.6.3->tensorboard<2.9,>=2.8->tensorflow->weightwatcher) (0.4.8)\n",
            "Requirement already satisfied: oauthlib>=3.0.0 in /usr/local/lib/python3.7/dist-packages (from requests-oauthlib>=0.7.0->google-auth-oauthlib<0.5,>=0.4.1->tensorboard<2.9,>=2.8->tensorflow->weightwatcher) (3.2.0)\n",
            "Building wheels for collected packages: ligo-segments, pyRMT\n",
            "  Building wheel for ligo-segments (setup.py) ... \u001b[?25l\u001b[?25hdone\n",
            "  Created wheel for ligo-segments: filename=ligo_segments-1.4.0-cp37-cp37m-linux_x86_64.whl size=86659 sha256=f86ec4016cb282d4bc4aeaae1296cb014b729deaf3ac06cc577e4f6692bdc8c4\n",
            "  Stored in directory: /root/.cache/pip/wheels/09/f9/d4/129b3bb4458d50b56fdc8245ace7c8216d54865fe8d3aebc05\n",
            "  Building wheel for pyRMT (setup.py) ... \u001b[?25l\u001b[?25hcanceled\n",
            "\u001b[31mERROR: Operation cancelled by user\u001b[0m\n"
          ]
        }
      ]
    },
    {
      "cell_type": "code",
      "source": [
        "\n",
        "from transformers import BertModel\n",
        "bert = BertModel.from_pretrained('bert-base-uncased')\n",
        "\n",
        "\n",
        "from transformers import RobertaModel\n",
        "roberta = RobertaModel.from_pretrained(\"roberta-base\")\n",
        "\n",
        "\n",
        "from transformers import XLNetModel\n",
        "xlnet = XLNetModel.from_pretrained(\"xlnet-base-cased\")"
      ],
      "metadata": {
        "id": "qYm9PdPiRsOk",
        "colab": {
          "base_uri": "https://localhost:8080/"
        },
        "outputId": "13d2c398-b75e-4fa9-8e53-78ff2253a909"
      },
      "execution_count": null,
      "outputs": [
        {
          "output_type": "stream",
          "name": "stderr",
          "text": [
            "Some weights of the model checkpoint at bert-base-uncased were not used when initializing BertModel: ['cls.predictions.bias', 'cls.predictions.transform.LayerNorm.bias', 'cls.predictions.transform.dense.weight', 'cls.predictions.transform.LayerNorm.weight', 'cls.seq_relationship.weight', 'cls.predictions.decoder.weight', 'cls.predictions.transform.dense.bias', 'cls.seq_relationship.bias']\n",
            "- This IS expected if you are initializing BertModel from the checkpoint of a model trained on another task or with another architecture (e.g. initializing a BertForSequenceClassification model from a BertForPreTraining model).\n",
            "- This IS NOT expected if you are initializing BertModel from the checkpoint of a model that you expect to be exactly identical (initializing a BertForSequenceClassification model from a BertForSequenceClassification model).\n",
            "Some weights of the model checkpoint at roberta-base were not used when initializing RobertaModel: ['lm_head.decoder.weight', 'lm_head.layer_norm.weight', 'lm_head.layer_norm.bias', 'lm_head.bias', 'lm_head.dense.weight', 'lm_head.dense.bias']\n",
            "- This IS expected if you are initializing RobertaModel from the checkpoint of a model trained on another task or with another architecture (e.g. initializing a BertForSequenceClassification model from a BertForPreTraining model).\n",
            "- This IS NOT expected if you are initializing RobertaModel from the checkpoint of a model that you expect to be exactly identical (initializing a BertForSequenceClassification model from a BertForSequenceClassification model).\n",
            "Some weights of the model checkpoint at xlnet-base-cased were not used when initializing XLNetModel: ['lm_loss.weight', 'lm_loss.bias']\n",
            "- This IS expected if you are initializing XLNetModel from the checkpoint of a model trained on another task or with another architecture (e.g. initializing a BertForSequenceClassification model from a BertForPreTraining model).\n",
            "- This IS NOT expected if you are initializing XLNetModel from the checkpoint of a model that you expect to be exactly identical (initializing a BertForSequenceClassification model from a BertForSequenceClassification model).\n"
          ]
        }
      ]
    },
    {
      "cell_type": "code",
      "source": [
        "import weightwatcher as ww\n",
        "import logging\n",
        "\n",
        "logging.basicConfig(level=logging.INFO)\n",
        "logger = logging.getLogger('weightwatcher') \n",
        "logger.setLevel(logging.INFO)\n",
        "\n",
        "# loogging does not work properly yet"
      ],
      "metadata": {
        "id": "5mr78auQ6PlB"
      },
      "execution_count": null,
      "outputs": []
    },
    {
      "cell_type": "code",
      "source": [
        "%%capture\n",
        "\n",
        "import warnings\n",
        "warnings.filterwarnings('ignore')\n",
        "\n",
        "watcher = ww.WeightWatcher(model=bert)\n",
        "bert_details = watcher.describe()\n",
        "\n",
        "watcher = ww.WeightWatcher(model=roberta)\n",
        "roberta_details = watcher.describe()\n",
        "\n",
        "\n",
        "watcher = ww.WeightWatcher(model=xlnet)\n",
        "xlnet_details = watcher.describe()"
      ],
      "metadata": {
        "colab": {
          "base_uri": "https://localhost:8080/"
        },
        "id": "LeZpp6brEBXn",
        "outputId": "52787805-6e7a-4acc-d418-1756cca14613"
      },
      "execution_count": null,
      "outputs": [
        {
          "output_type": "stream",
          "name": "stderr",
          "text": [
            "INFO:weightwatcher:\n",
            "\n",
            "python      version 3.7.13 (default, Apr 24 2022, 01:04:09) \n",
            "[GCC 7.5.0]\n",
            "numpy       version 1.21.6\n",
            "tensforflow version 2.8.2\n",
            "keras       version 2.8.0\n",
            "INFO:weightwatcher:params {'glorot_fix': False, 'normalize': False, 'conv2d_norm': True, 'randomize': False, 'savedir': 'ww-img', 'savefig': 'ww-img', 'rescale': True, 'plot': False, 'deltaEs': False, 'intra': False, 'channels': None, 'conv2d_fft': False, 'ww2x': False, 'vectors': False, 'smooth': None, 'stacked': False, 'svd_method': 'full_svd', 'fix_fingers': False, 'fit': 'power_law', 'sparsify': True, 'min_evals': 0, 'max_evals': None, 'mp_fit': False, 'layers': []}\n",
            "INFO:weightwatcher:Saving all images to ww-img\n",
            "INFO:weightwatcher:params {'glorot_fix': False, 'normalize': False, 'conv2d_norm': True, 'randomize': False, 'savedir': 'ww-img', 'savefig': 'ww-img', 'rescale': True, 'plot': False, 'deltaEs': False, 'intra': False, 'channels': None, 'conv2d_fft': False, 'ww2x': False, 'vectors': False, 'smooth': None, 'stacked': False, 'svd_method': 'full_svd', 'fix_fingers': False, 'fit': 'power_law', 'sparsify': True, 'min_evals': 0, 'max_evals': None, 'mp_fit': False, 'layers': []}\n",
            "INFO:weightwatcher:Saving all images to ww-img\n",
            "WARNING:weightwatcher:pytorch layer: LayerNorm((768,), eps=1e-12, elementwise_affine=True)  type LAYER_TYPE.NORM not found \n",
            "WARNING:weightwatcher:pytorch layer: LayerNorm((768,), eps=1e-12, elementwise_affine=True)  type LAYER_TYPE.NORM not found \n",
            "WARNING:weightwatcher:pytorch layer: LayerNorm((768,), eps=1e-12, elementwise_affine=True)  type LAYER_TYPE.NORM not found \n",
            "WARNING:weightwatcher:pytorch layer: LayerNorm((768,), eps=1e-12, elementwise_affine=True)  type LAYER_TYPE.NORM not found \n",
            "WARNING:weightwatcher:pytorch layer: LayerNorm((768,), eps=1e-12, elementwise_affine=True)  type LAYER_TYPE.NORM not found \n",
            "WARNING:weightwatcher:pytorch layer: LayerNorm((768,), eps=1e-12, elementwise_affine=True)  type LAYER_TYPE.NORM not found \n",
            "WARNING:weightwatcher:pytorch layer: LayerNorm((768,), eps=1e-12, elementwise_affine=True)  type LAYER_TYPE.NORM not found \n",
            "WARNING:weightwatcher:pytorch layer: LayerNorm((768,), eps=1e-12, elementwise_affine=True)  type LAYER_TYPE.NORM not found \n",
            "WARNING:weightwatcher:pytorch layer: LayerNorm((768,), eps=1e-12, elementwise_affine=True)  type LAYER_TYPE.NORM not found \n",
            "WARNING:weightwatcher:pytorch layer: LayerNorm((768,), eps=1e-12, elementwise_affine=True)  type LAYER_TYPE.NORM not found \n",
            "WARNING:weightwatcher:pytorch layer: LayerNorm((768,), eps=1e-12, elementwise_affine=True)  type LAYER_TYPE.NORM not found \n",
            "WARNING:weightwatcher:pytorch layer: LayerNorm((768,), eps=1e-12, elementwise_affine=True)  type LAYER_TYPE.NORM not found \n",
            "WARNING:weightwatcher:pytorch layer: LayerNorm((768,), eps=1e-12, elementwise_affine=True)  type LAYER_TYPE.NORM not found \n",
            "WARNING:weightwatcher:pytorch layer: LayerNorm((768,), eps=1e-12, elementwise_affine=True)  type LAYER_TYPE.NORM not found \n",
            "WARNING:weightwatcher:pytorch layer: LayerNorm((768,), eps=1e-12, elementwise_affine=True)  type LAYER_TYPE.NORM not found \n",
            "WARNING:weightwatcher:pytorch layer: LayerNorm((768,), eps=1e-12, elementwise_affine=True)  type LAYER_TYPE.NORM not found \n",
            "WARNING:weightwatcher:pytorch layer: LayerNorm((768,), eps=1e-12, elementwise_affine=True)  type LAYER_TYPE.NORM not found \n",
            "WARNING:weightwatcher:pytorch layer: LayerNorm((768,), eps=1e-12, elementwise_affine=True)  type LAYER_TYPE.NORM not found \n",
            "WARNING:weightwatcher:pytorch layer: LayerNorm((768,), eps=1e-12, elementwise_affine=True)  type LAYER_TYPE.NORM not found \n",
            "WARNING:weightwatcher:pytorch layer: LayerNorm((768,), eps=1e-12, elementwise_affine=True)  type LAYER_TYPE.NORM not found \n",
            "WARNING:weightwatcher:pytorch layer: LayerNorm((768,), eps=1e-12, elementwise_affine=True)  type LAYER_TYPE.NORM not found \n",
            "WARNING:weightwatcher:pytorch layer: LayerNorm((768,), eps=1e-12, elementwise_affine=True)  type LAYER_TYPE.NORM not found \n",
            "WARNING:weightwatcher:pytorch layer: LayerNorm((768,), eps=1e-12, elementwise_affine=True)  type LAYER_TYPE.NORM not found \n",
            "WARNING:weightwatcher:pytorch layer: LayerNorm((768,), eps=1e-12, elementwise_affine=True)  type LAYER_TYPE.NORM not found \n",
            "WARNING:weightwatcher:pytorch layer: LayerNorm((768,), eps=1e-12, elementwise_affine=True)  type LAYER_TYPE.NORM not found \n",
            "INFO:weightwatcher:\n",
            "\n",
            "python      version 3.7.13 (default, Apr 24 2022, 01:04:09) \n",
            "[GCC 7.5.0]\n",
            "numpy       version 1.21.6\n",
            "tensforflow version 2.8.2\n",
            "keras       version 2.8.0\n",
            "INFO:weightwatcher:params {'glorot_fix': False, 'normalize': False, 'conv2d_norm': True, 'randomize': False, 'savedir': 'ww-img', 'savefig': 'ww-img', 'rescale': True, 'plot': False, 'deltaEs': False, 'intra': False, 'channels': None, 'conv2d_fft': False, 'ww2x': False, 'vectors': False, 'smooth': None, 'stacked': False, 'svd_method': 'full_svd', 'fix_fingers': False, 'fit': 'power_law', 'sparsify': True, 'min_evals': 0, 'max_evals': None, 'mp_fit': False, 'layers': []}\n",
            "INFO:weightwatcher:Saving all images to ww-img\n",
            "INFO:weightwatcher:params {'glorot_fix': False, 'normalize': False, 'conv2d_norm': True, 'randomize': False, 'savedir': 'ww-img', 'savefig': 'ww-img', 'rescale': True, 'plot': False, 'deltaEs': False, 'intra': False, 'channels': None, 'conv2d_fft': False, 'ww2x': False, 'vectors': False, 'smooth': None, 'stacked': False, 'svd_method': 'full_svd', 'fix_fingers': False, 'fit': 'power_law', 'sparsify': True, 'min_evals': 0, 'max_evals': None, 'mp_fit': False, 'layers': []}\n",
            "INFO:weightwatcher:Saving all images to ww-img\n",
            "WARNING:weightwatcher:pytorch layer: LayerNorm((768,), eps=1e-05, elementwise_affine=True)  type LAYER_TYPE.NORM not found \n",
            "WARNING:weightwatcher:pytorch layer: LayerNorm((768,), eps=1e-05, elementwise_affine=True)  type LAYER_TYPE.NORM not found \n",
            "WARNING:weightwatcher:pytorch layer: LayerNorm((768,), eps=1e-05, elementwise_affine=True)  type LAYER_TYPE.NORM not found \n",
            "WARNING:weightwatcher:pytorch layer: LayerNorm((768,), eps=1e-05, elementwise_affine=True)  type LAYER_TYPE.NORM not found \n",
            "WARNING:weightwatcher:pytorch layer: LayerNorm((768,), eps=1e-05, elementwise_affine=True)  type LAYER_TYPE.NORM not found \n",
            "WARNING:weightwatcher:pytorch layer: LayerNorm((768,), eps=1e-05, elementwise_affine=True)  type LAYER_TYPE.NORM not found \n",
            "WARNING:weightwatcher:pytorch layer: LayerNorm((768,), eps=1e-05, elementwise_affine=True)  type LAYER_TYPE.NORM not found \n",
            "WARNING:weightwatcher:pytorch layer: LayerNorm((768,), eps=1e-05, elementwise_affine=True)  type LAYER_TYPE.NORM not found \n",
            "WARNING:weightwatcher:pytorch layer: LayerNorm((768,), eps=1e-05, elementwise_affine=True)  type LAYER_TYPE.NORM not found \n",
            "WARNING:weightwatcher:pytorch layer: LayerNorm((768,), eps=1e-05, elementwise_affine=True)  type LAYER_TYPE.NORM not found \n",
            "WARNING:weightwatcher:pytorch layer: LayerNorm((768,), eps=1e-05, elementwise_affine=True)  type LAYER_TYPE.NORM not found \n",
            "WARNING:weightwatcher:pytorch layer: LayerNorm((768,), eps=1e-05, elementwise_affine=True)  type LAYER_TYPE.NORM not found \n",
            "WARNING:weightwatcher:pytorch layer: LayerNorm((768,), eps=1e-05, elementwise_affine=True)  type LAYER_TYPE.NORM not found \n",
            "WARNING:weightwatcher:pytorch layer: LayerNorm((768,), eps=1e-05, elementwise_affine=True)  type LAYER_TYPE.NORM not found \n",
            "WARNING:weightwatcher:pytorch layer: LayerNorm((768,), eps=1e-05, elementwise_affine=True)  type LAYER_TYPE.NORM not found \n",
            "WARNING:weightwatcher:pytorch layer: LayerNorm((768,), eps=1e-05, elementwise_affine=True)  type LAYER_TYPE.NORM not found \n",
            "WARNING:weightwatcher:pytorch layer: LayerNorm((768,), eps=1e-05, elementwise_affine=True)  type LAYER_TYPE.NORM not found \n",
            "WARNING:weightwatcher:pytorch layer: LayerNorm((768,), eps=1e-05, elementwise_affine=True)  type LAYER_TYPE.NORM not found \n",
            "WARNING:weightwatcher:pytorch layer: LayerNorm((768,), eps=1e-05, elementwise_affine=True)  type LAYER_TYPE.NORM not found \n",
            "WARNING:weightwatcher:pytorch layer: LayerNorm((768,), eps=1e-05, elementwise_affine=True)  type LAYER_TYPE.NORM not found \n",
            "WARNING:weightwatcher:pytorch layer: LayerNorm((768,), eps=1e-05, elementwise_affine=True)  type LAYER_TYPE.NORM not found \n",
            "WARNING:weightwatcher:pytorch layer: LayerNorm((768,), eps=1e-05, elementwise_affine=True)  type LAYER_TYPE.NORM not found \n",
            "WARNING:weightwatcher:pytorch layer: LayerNorm((768,), eps=1e-05, elementwise_affine=True)  type LAYER_TYPE.NORM not found \n",
            "WARNING:weightwatcher:pytorch layer: LayerNorm((768,), eps=1e-05, elementwise_affine=True)  type LAYER_TYPE.NORM not found \n",
            "WARNING:weightwatcher:pytorch layer: LayerNorm((768,), eps=1e-05, elementwise_affine=True)  type LAYER_TYPE.NORM not found \n",
            "INFO:weightwatcher:\n",
            "\n",
            "python      version 3.7.13 (default, Apr 24 2022, 01:04:09) \n",
            "[GCC 7.5.0]\n",
            "numpy       version 1.21.6\n",
            "tensforflow version 2.8.2\n",
            "keras       version 2.8.0\n",
            "INFO:weightwatcher:params {'glorot_fix': False, 'normalize': False, 'conv2d_norm': True, 'randomize': False, 'savedir': 'ww-img', 'savefig': 'ww-img', 'rescale': True, 'plot': False, 'deltaEs': False, 'intra': False, 'channels': None, 'conv2d_fft': False, 'ww2x': False, 'vectors': False, 'smooth': None, 'stacked': False, 'svd_method': 'full_svd', 'fix_fingers': False, 'fit': 'power_law', 'sparsify': True, 'min_evals': 0, 'max_evals': None, 'mp_fit': False, 'layers': []}\n",
            "INFO:weightwatcher:Saving all images to ww-img\n",
            "INFO:weightwatcher:params {'glorot_fix': False, 'normalize': False, 'conv2d_norm': True, 'randomize': False, 'savedir': 'ww-img', 'savefig': 'ww-img', 'rescale': True, 'plot': False, 'deltaEs': False, 'intra': False, 'channels': None, 'conv2d_fft': False, 'ww2x': False, 'vectors': False, 'smooth': None, 'stacked': False, 'svd_method': 'full_svd', 'fix_fingers': False, 'fit': 'power_law', 'sparsify': True, 'min_evals': 0, 'max_evals': None, 'mp_fit': False, 'layers': []}\n",
            "INFO:weightwatcher:Saving all images to ww-img\n",
            "WARNING:weightwatcher:pytorch layer: LayerNorm((768,), eps=1e-12, elementwise_affine=True)  type LAYER_TYPE.NORM not found \n",
            "WARNING:weightwatcher:pytorch layer: LayerNorm((768,), eps=1e-12, elementwise_affine=True)  type LAYER_TYPE.NORM not found \n",
            "WARNING:weightwatcher:pytorch layer: LayerNorm((768,), eps=1e-12, elementwise_affine=True)  type LAYER_TYPE.NORM not found \n",
            "WARNING:weightwatcher:pytorch layer: LayerNorm((768,), eps=1e-12, elementwise_affine=True)  type LAYER_TYPE.NORM not found \n",
            "WARNING:weightwatcher:pytorch layer: LayerNorm((768,), eps=1e-12, elementwise_affine=True)  type LAYER_TYPE.NORM not found \n",
            "WARNING:weightwatcher:pytorch layer: LayerNorm((768,), eps=1e-12, elementwise_affine=True)  type LAYER_TYPE.NORM not found \n",
            "WARNING:weightwatcher:pytorch layer: LayerNorm((768,), eps=1e-12, elementwise_affine=True)  type LAYER_TYPE.NORM not found \n",
            "WARNING:weightwatcher:pytorch layer: LayerNorm((768,), eps=1e-12, elementwise_affine=True)  type LAYER_TYPE.NORM not found \n",
            "WARNING:weightwatcher:pytorch layer: LayerNorm((768,), eps=1e-12, elementwise_affine=True)  type LAYER_TYPE.NORM not found \n",
            "WARNING:weightwatcher:pytorch layer: LayerNorm((768,), eps=1e-12, elementwise_affine=True)  type LAYER_TYPE.NORM not found \n",
            "WARNING:weightwatcher:pytorch layer: LayerNorm((768,), eps=1e-12, elementwise_affine=True)  type LAYER_TYPE.NORM not found \n",
            "WARNING:weightwatcher:pytorch layer: LayerNorm((768,), eps=1e-12, elementwise_affine=True)  type LAYER_TYPE.NORM not found \n",
            "WARNING:weightwatcher:pytorch layer: LayerNorm((768,), eps=1e-12, elementwise_affine=True)  type LAYER_TYPE.NORM not found \n",
            "WARNING:weightwatcher:pytorch layer: LayerNorm((768,), eps=1e-12, elementwise_affine=True)  type LAYER_TYPE.NORM not found \n",
            "WARNING:weightwatcher:pytorch layer: LayerNorm((768,), eps=1e-12, elementwise_affine=True)  type LAYER_TYPE.NORM not found \n",
            "WARNING:weightwatcher:pytorch layer: LayerNorm((768,), eps=1e-12, elementwise_affine=True)  type LAYER_TYPE.NORM not found \n",
            "WARNING:weightwatcher:pytorch layer: LayerNorm((768,), eps=1e-12, elementwise_affine=True)  type LAYER_TYPE.NORM not found \n",
            "WARNING:weightwatcher:pytorch layer: LayerNorm((768,), eps=1e-12, elementwise_affine=True)  type LAYER_TYPE.NORM not found \n",
            "WARNING:weightwatcher:pytorch layer: LayerNorm((768,), eps=1e-12, elementwise_affine=True)  type LAYER_TYPE.NORM not found \n",
            "WARNING:weightwatcher:pytorch layer: LayerNorm((768,), eps=1e-12, elementwise_affine=True)  type LAYER_TYPE.NORM not found \n",
            "WARNING:weightwatcher:pytorch layer: LayerNorm((768,), eps=1e-12, elementwise_affine=True)  type LAYER_TYPE.NORM not found \n",
            "WARNING:weightwatcher:pytorch layer: LayerNorm((768,), eps=1e-12, elementwise_affine=True)  type LAYER_TYPE.NORM not found \n",
            "WARNING:weightwatcher:pytorch layer: LayerNorm((768,), eps=1e-12, elementwise_affine=True)  type LAYER_TYPE.NORM not found \n",
            "WARNING:weightwatcher:pytorch layer: LayerNorm((768,), eps=1e-12, elementwise_affine=True)  type LAYER_TYPE.NORM not found \n",
            "WARNING:weightwatcher:pytorch layer: LayerNorm((768,), eps=1e-12, elementwise_affine=True)  type LAYER_TYPE.NORM not found \n"
          ]
        }
      ]
    },
    {
      "cell_type": "code",
      "source": [
        "\"\""
      ],
      "metadata": {
        "colab": {
          "base_uri": "https://localhost:8080/",
          "height": 35
        },
        "id": "21A0M0-CEFb9",
        "outputId": "59be856e-edbc-4906-b239-ebd10227c8c7"
      },
      "execution_count": null,
      "outputs": [
        {
          "output_type": "execute_result",
          "data": {
            "text/plain": [
              "''"
            ],
            "application/vnd.google.colaboratory.intrinsic+json": {
              "type": "string"
            }
          },
          "metadata": {},
          "execution_count": 18
        }
      ]
    },
    {
      "cell_type": "code",
      "source": [
        "%%capture\n",
        "\n",
        "import warnings\n",
        "warnings.filterwarnings('ignore')\n",
        "\n",
        "watcher = ww.WeightWatcher(model=bert)\n",
        "bert_details = watcher.analyze(randomize=True, min_evals = 50)\n",
        "\n",
        "watcher = ww.WeightWatcher(model=roberta)\n",
        "roberta_details = watcher.analyze(randomize=True, min_evals = 50)\n",
        "\n",
        "watcher = ww.WeightWatcher(model=xlnet)\n",
        "xlnet_details = watcher.analyze(randomize=True, min_evals = 50)"
      ],
      "metadata": {
        "id": "3a-m8jIaNYit",
        "colab": {
          "base_uri": "https://localhost:8080/"
        },
        "outputId": "53e6661b-7ef6-4225-88e2-1250e98bbe54"
      },
      "execution_count": null,
      "outputs": [
        {
          "output_type": "stream",
          "name": "stderr",
          "text": [
            "INFO:weightwatcher:\n",
            "\n",
            "python      version 3.7.13 (default, Apr 24 2022, 01:04:09) \n",
            "[GCC 7.5.0]\n",
            "numpy       version 1.21.6\n",
            "tensforflow version 2.8.2\n",
            "keras       version 2.8.0\n",
            "INFO:weightwatcher:Saving all images to ww-img\n",
            "INFO:weightwatcher:params {'glorot_fix': False, 'normalize': False, 'conv2d_norm': True, 'randomize': True, 'savedir': 'ww-img', 'savefig': 'ww-img', 'rescale': True, 'plot': False, 'deltaEs': False, 'intra': False, 'channels': None, 'conv2d_fft': False, 'ww2x': False, 'vectors': True, 'smooth': None, 'stacked': False, 'svd_method': 'full_svd', 'fix_fingers': False, 'fit': 'power_law', 'sparsify': True, 'min_evals': 50, 'max_evals': None, 'mp_fit': False, 'layers': []}\n",
            "INFO:weightwatcher:Saving all images to ww-img\n",
            "INFO:weightwatcher:generating 1 replicas for each W of the random eigenvalues\n",
            "INFO:weightwatcher:generating 1 replicas for each W of the random eigenvalues\n",
            "INFO:weightwatcher:generating 1 replicas for each W of the random eigenvalues\n",
            "INFO:weightwatcher:generating 1 replicas for each W of the random eigenvalues\n",
            "WARNING:weightwatcher:pytorch layer: LayerNorm((768,), eps=1e-12, elementwise_affine=True)  type LAYER_TYPE.NORM not found \n",
            "INFO:weightwatcher:generating 1 replicas for each W of the random eigenvalues\n",
            "INFO:weightwatcher:generating 1 replicas for each W of the random eigenvalues\n",
            "INFO:weightwatcher:generating 1 replicas for each W of the random eigenvalues\n",
            "INFO:weightwatcher:generating 1 replicas for each W of the random eigenvalues\n",
            "INFO:weightwatcher:generating 1 replicas for each W of the random eigenvalues\n",
            "INFO:weightwatcher:generating 1 replicas for each W of the random eigenvalues\n",
            "INFO:weightwatcher:generating 1 replicas for each W of the random eigenvalues\n",
            "INFO:weightwatcher:generating 1 replicas for each W of the random eigenvalues\n",
            "WARNING:weightwatcher:pytorch layer: LayerNorm((768,), eps=1e-12, elementwise_affine=True)  type LAYER_TYPE.NORM not found \n",
            "INFO:weightwatcher:generating 1 replicas for each W of the random eigenvalues\n",
            "INFO:weightwatcher:generating 1 replicas for each W of the random eigenvalues\n",
            "INFO:weightwatcher:generating 1 replicas for each W of the random eigenvalues\n",
            "INFO:weightwatcher:generating 1 replicas for each W of the random eigenvalues\n",
            "WARNING:weightwatcher:pytorch layer: LayerNorm((768,), eps=1e-12, elementwise_affine=True)  type LAYER_TYPE.NORM not found \n",
            "INFO:weightwatcher:generating 1 replicas for each W of the random eigenvalues\n",
            "INFO:weightwatcher:generating 1 replicas for each W of the random eigenvalues\n",
            "INFO:weightwatcher:generating 1 replicas for each W of the random eigenvalues\n",
            "INFO:weightwatcher:generating 1 replicas for each W of the random eigenvalues\n",
            "INFO:weightwatcher:generating 1 replicas for each W of the random eigenvalues\n",
            "INFO:weightwatcher:generating 1 replicas for each W of the random eigenvalues\n",
            "INFO:weightwatcher:generating 1 replicas for each W of the random eigenvalues\n",
            "INFO:weightwatcher:generating 1 replicas for each W of the random eigenvalues\n",
            "WARNING:weightwatcher:pytorch layer: LayerNorm((768,), eps=1e-12, elementwise_affine=True)  type LAYER_TYPE.NORM not found \n",
            "INFO:weightwatcher:generating 1 replicas for each W of the random eigenvalues\n",
            "INFO:weightwatcher:generating 1 replicas for each W of the random eigenvalues\n",
            "INFO:weightwatcher:generating 1 replicas for each W of the random eigenvalues\n",
            "INFO:weightwatcher:generating 1 replicas for each W of the random eigenvalues\n",
            "WARNING:weightwatcher:pytorch layer: LayerNorm((768,), eps=1e-12, elementwise_affine=True)  type LAYER_TYPE.NORM not found \n",
            "INFO:weightwatcher:generating 1 replicas for each W of the random eigenvalues\n",
            "INFO:weightwatcher:generating 1 replicas for each W of the random eigenvalues\n",
            "INFO:weightwatcher:generating 1 replicas for each W of the random eigenvalues\n",
            "INFO:weightwatcher:generating 1 replicas for each W of the random eigenvalues\n",
            "INFO:weightwatcher:generating 1 replicas for each W of the random eigenvalues\n",
            "INFO:weightwatcher:generating 1 replicas for each W of the random eigenvalues\n",
            "INFO:weightwatcher:generating 1 replicas for each W of the random eigenvalues\n",
            "INFO:weightwatcher:generating 1 replicas for each W of the random eigenvalues\n",
            "WARNING:weightwatcher:pytorch layer: LayerNorm((768,), eps=1e-12, elementwise_affine=True)  type LAYER_TYPE.NORM not found \n",
            "INFO:weightwatcher:generating 1 replicas for each W of the random eigenvalues\n",
            "INFO:weightwatcher:generating 1 replicas for each W of the random eigenvalues\n",
            "INFO:weightwatcher:generating 1 replicas for each W of the random eigenvalues\n",
            "INFO:weightwatcher:generating 1 replicas for each W of the random eigenvalues\n",
            "WARNING:weightwatcher:pytorch layer: LayerNorm((768,), eps=1e-12, elementwise_affine=True)  type LAYER_TYPE.NORM not found \n",
            "INFO:weightwatcher:generating 1 replicas for each W of the random eigenvalues\n",
            "INFO:weightwatcher:generating 1 replicas for each W of the random eigenvalues\n",
            "INFO:weightwatcher:generating 1 replicas for each W of the random eigenvalues\n",
            "INFO:weightwatcher:generating 1 replicas for each W of the random eigenvalues\n",
            "INFO:weightwatcher:generating 1 replicas for each W of the random eigenvalues\n",
            "INFO:weightwatcher:generating 1 replicas for each W of the random eigenvalues\n",
            "INFO:weightwatcher:generating 1 replicas for each W of the random eigenvalues\n",
            "INFO:weightwatcher:generating 1 replicas for each W of the random eigenvalues\n",
            "WARNING:weightwatcher:pytorch layer: LayerNorm((768,), eps=1e-12, elementwise_affine=True)  type LAYER_TYPE.NORM not found \n",
            "INFO:weightwatcher:generating 1 replicas for each W of the random eigenvalues\n",
            "INFO:weightwatcher:generating 1 replicas for each W of the random eigenvalues\n",
            "INFO:weightwatcher:generating 1 replicas for each W of the random eigenvalues\n",
            "INFO:weightwatcher:generating 1 replicas for each W of the random eigenvalues\n",
            "WARNING:weightwatcher:pytorch layer: LayerNorm((768,), eps=1e-12, elementwise_affine=True)  type LAYER_TYPE.NORM not found \n",
            "INFO:weightwatcher:generating 1 replicas for each W of the random eigenvalues\n",
            "INFO:weightwatcher:generating 1 replicas for each W of the random eigenvalues\n",
            "INFO:weightwatcher:generating 1 replicas for each W of the random eigenvalues\n",
            "INFO:weightwatcher:generating 1 replicas for each W of the random eigenvalues\n",
            "INFO:weightwatcher:generating 1 replicas for each W of the random eigenvalues\n",
            "INFO:weightwatcher:generating 1 replicas for each W of the random eigenvalues\n",
            "INFO:weightwatcher:generating 1 replicas for each W of the random eigenvalues\n",
            "INFO:weightwatcher:generating 1 replicas for each W of the random eigenvalues\n",
            "WARNING:weightwatcher:pytorch layer: LayerNorm((768,), eps=1e-12, elementwise_affine=True)  type LAYER_TYPE.NORM not found \n",
            "INFO:weightwatcher:generating 1 replicas for each W of the random eigenvalues\n",
            "INFO:weightwatcher:generating 1 replicas for each W of the random eigenvalues\n",
            "INFO:weightwatcher:generating 1 replicas for each W of the random eigenvalues\n",
            "INFO:weightwatcher:generating 1 replicas for each W of the random eigenvalues\n",
            "WARNING:weightwatcher:pytorch layer: LayerNorm((768,), eps=1e-12, elementwise_affine=True)  type LAYER_TYPE.NORM not found \n",
            "INFO:weightwatcher:generating 1 replicas for each W of the random eigenvalues\n",
            "INFO:weightwatcher:generating 1 replicas for each W of the random eigenvalues\n",
            "INFO:weightwatcher:generating 1 replicas for each W of the random eigenvalues\n",
            "INFO:weightwatcher:generating 1 replicas for each W of the random eigenvalues\n",
            "INFO:weightwatcher:generating 1 replicas for each W of the random eigenvalues\n",
            "INFO:weightwatcher:generating 1 replicas for each W of the random eigenvalues\n",
            "INFO:weightwatcher:generating 1 replicas for each W of the random eigenvalues\n",
            "INFO:weightwatcher:generating 1 replicas for each W of the random eigenvalues\n",
            "WARNING:weightwatcher:pytorch layer: LayerNorm((768,), eps=1e-12, elementwise_affine=True)  type LAYER_TYPE.NORM not found \n",
            "INFO:weightwatcher:generating 1 replicas for each W of the random eigenvalues\n",
            "INFO:weightwatcher:generating 1 replicas for each W of the random eigenvalues\n",
            "INFO:weightwatcher:generating 1 replicas for each W of the random eigenvalues\n",
            "INFO:weightwatcher:generating 1 replicas for each W of the random eigenvalues\n",
            "WARNING:weightwatcher:pytorch layer: LayerNorm((768,), eps=1e-12, elementwise_affine=True)  type LAYER_TYPE.NORM not found \n",
            "INFO:weightwatcher:generating 1 replicas for each W of the random eigenvalues\n",
            "INFO:weightwatcher:generating 1 replicas for each W of the random eigenvalues\n",
            "INFO:weightwatcher:generating 1 replicas for each W of the random eigenvalues\n",
            "INFO:weightwatcher:generating 1 replicas for each W of the random eigenvalues\n",
            "INFO:weightwatcher:generating 1 replicas for each W of the random eigenvalues\n",
            "INFO:weightwatcher:generating 1 replicas for each W of the random eigenvalues\n",
            "INFO:weightwatcher:generating 1 replicas for each W of the random eigenvalues\n",
            "INFO:weightwatcher:generating 1 replicas for each W of the random eigenvalues\n",
            "WARNING:weightwatcher:pytorch layer: LayerNorm((768,), eps=1e-12, elementwise_affine=True)  type LAYER_TYPE.NORM not found \n",
            "INFO:weightwatcher:generating 1 replicas for each W of the random eigenvalues\n",
            "INFO:weightwatcher:generating 1 replicas for each W of the random eigenvalues\n",
            "INFO:weightwatcher:generating 1 replicas for each W of the random eigenvalues\n",
            "INFO:weightwatcher:generating 1 replicas for each W of the random eigenvalues\n",
            "WARNING:weightwatcher:pytorch layer: LayerNorm((768,), eps=1e-12, elementwise_affine=True)  type LAYER_TYPE.NORM not found \n",
            "INFO:weightwatcher:generating 1 replicas for each W of the random eigenvalues\n",
            "INFO:weightwatcher:generating 1 replicas for each W of the random eigenvalues\n",
            "INFO:weightwatcher:generating 1 replicas for each W of the random eigenvalues\n",
            "INFO:weightwatcher:generating 1 replicas for each W of the random eigenvalues\n",
            "INFO:weightwatcher:generating 1 replicas for each W of the random eigenvalues\n",
            "INFO:weightwatcher:generating 1 replicas for each W of the random eigenvalues\n",
            "INFO:weightwatcher:generating 1 replicas for each W of the random eigenvalues\n",
            "INFO:weightwatcher:generating 1 replicas for each W of the random eigenvalues\n",
            "WARNING:weightwatcher:pytorch layer: LayerNorm((768,), eps=1e-12, elementwise_affine=True)  type LAYER_TYPE.NORM not found \n",
            "INFO:weightwatcher:generating 1 replicas for each W of the random eigenvalues\n",
            "INFO:weightwatcher:generating 1 replicas for each W of the random eigenvalues\n",
            "INFO:weightwatcher:generating 1 replicas for each W of the random eigenvalues\n",
            "INFO:weightwatcher:generating 1 replicas for each W of the random eigenvalues\n",
            "WARNING:weightwatcher:pytorch layer: LayerNorm((768,), eps=1e-12, elementwise_affine=True)  type LAYER_TYPE.NORM not found \n",
            "INFO:weightwatcher:generating 1 replicas for each W of the random eigenvalues\n",
            "INFO:weightwatcher:generating 1 replicas for each W of the random eigenvalues\n",
            "INFO:weightwatcher:generating 1 replicas for each W of the random eigenvalues\n",
            "INFO:weightwatcher:generating 1 replicas for each W of the random eigenvalues\n",
            "INFO:weightwatcher:generating 1 replicas for each W of the random eigenvalues\n",
            "INFO:weightwatcher:generating 1 replicas for each W of the random eigenvalues\n",
            "INFO:weightwatcher:generating 1 replicas for each W of the random eigenvalues\n",
            "INFO:weightwatcher:generating 1 replicas for each W of the random eigenvalues\n",
            "WARNING:weightwatcher:pytorch layer: LayerNorm((768,), eps=1e-12, elementwise_affine=True)  type LAYER_TYPE.NORM not found \n",
            "INFO:weightwatcher:generating 1 replicas for each W of the random eigenvalues\n",
            "INFO:weightwatcher:generating 1 replicas for each W of the random eigenvalues\n",
            "INFO:weightwatcher:generating 1 replicas for each W of the random eigenvalues\n",
            "INFO:weightwatcher:generating 1 replicas for each W of the random eigenvalues\n",
            "WARNING:weightwatcher:pytorch layer: LayerNorm((768,), eps=1e-12, elementwise_affine=True)  type LAYER_TYPE.NORM not found \n",
            "INFO:weightwatcher:generating 1 replicas for each W of the random eigenvalues\n",
            "INFO:weightwatcher:generating 1 replicas for each W of the random eigenvalues\n",
            "INFO:weightwatcher:generating 1 replicas for each W of the random eigenvalues\n",
            "INFO:weightwatcher:generating 1 replicas for each W of the random eigenvalues\n",
            "INFO:weightwatcher:generating 1 replicas for each W of the random eigenvalues\n",
            "INFO:weightwatcher:generating 1 replicas for each W of the random eigenvalues\n",
            "INFO:weightwatcher:generating 1 replicas for each W of the random eigenvalues\n",
            "INFO:weightwatcher:generating 1 replicas for each W of the random eigenvalues\n",
            "WARNING:weightwatcher:pytorch layer: LayerNorm((768,), eps=1e-12, elementwise_affine=True)  type LAYER_TYPE.NORM not found \n",
            "INFO:weightwatcher:generating 1 replicas for each W of the random eigenvalues\n",
            "INFO:weightwatcher:generating 1 replicas for each W of the random eigenvalues\n",
            "INFO:weightwatcher:generating 1 replicas for each W of the random eigenvalues\n",
            "INFO:weightwatcher:generating 1 replicas for each W of the random eigenvalues\n",
            "WARNING:weightwatcher:pytorch layer: LayerNorm((768,), eps=1e-12, elementwise_affine=True)  type LAYER_TYPE.NORM not found \n",
            "INFO:weightwatcher:generating 1 replicas for each W of the random eigenvalues\n",
            "INFO:weightwatcher:generating 1 replicas for each W of the random eigenvalues\n",
            "INFO:weightwatcher:generating 1 replicas for each W of the random eigenvalues\n",
            "INFO:weightwatcher:generating 1 replicas for each W of the random eigenvalues\n",
            "INFO:weightwatcher:generating 1 replicas for each W of the random eigenvalues\n",
            "INFO:weightwatcher:generating 1 replicas for each W of the random eigenvalues\n",
            "INFO:weightwatcher:generating 1 replicas for each W of the random eigenvalues\n",
            "INFO:weightwatcher:generating 1 replicas for each W of the random eigenvalues\n",
            "WARNING:weightwatcher:pytorch layer: LayerNorm((768,), eps=1e-12, elementwise_affine=True)  type LAYER_TYPE.NORM not found \n",
            "INFO:weightwatcher:generating 1 replicas for each W of the random eigenvalues\n",
            "INFO:weightwatcher:generating 1 replicas for each W of the random eigenvalues\n",
            "INFO:weightwatcher:generating 1 replicas for each W of the random eigenvalues\n",
            "INFO:weightwatcher:generating 1 replicas for each W of the random eigenvalues\n",
            "WARNING:weightwatcher:pytorch layer: LayerNorm((768,), eps=1e-12, elementwise_affine=True)  type LAYER_TYPE.NORM not found \n",
            "INFO:weightwatcher:generating 1 replicas for each W of the random eigenvalues\n",
            "INFO:weightwatcher:generating 1 replicas for each W of the random eigenvalues\n",
            "INFO:weightwatcher:generating 1 replicas for each W of the random eigenvalues\n",
            "INFO:weightwatcher:generating 1 replicas for each W of the random eigenvalues\n",
            "INFO:weightwatcher:generating 1 replicas for each W of the random eigenvalues\n",
            "INFO:weightwatcher:generating 1 replicas for each W of the random eigenvalues\n",
            "INFO:weightwatcher:generating 1 replicas for each W of the random eigenvalues\n",
            "INFO:weightwatcher:generating 1 replicas for each W of the random eigenvalues\n",
            "WARNING:weightwatcher:pytorch layer: LayerNorm((768,), eps=1e-12, elementwise_affine=True)  type LAYER_TYPE.NORM not found \n",
            "INFO:weightwatcher:generating 1 replicas for each W of the random eigenvalues\n",
            "INFO:weightwatcher:generating 1 replicas for each W of the random eigenvalues\n",
            "INFO:weightwatcher:generating 1 replicas for each W of the random eigenvalues\n",
            "INFO:weightwatcher:generating 1 replicas for each W of the random eigenvalues\n",
            "WARNING:weightwatcher:pytorch layer: LayerNorm((768,), eps=1e-12, elementwise_affine=True)  type LAYER_TYPE.NORM not found \n",
            "INFO:weightwatcher:generating 1 replicas for each W of the random eigenvalues\n",
            "INFO:weightwatcher:generating 1 replicas for each W of the random eigenvalues\n",
            "INFO:weightwatcher:\n",
            "\n",
            "python      version 3.7.13 (default, Apr 24 2022, 01:04:09) \n",
            "[GCC 7.5.0]\n",
            "numpy       version 1.21.6\n",
            "tensforflow version 2.8.2\n",
            "keras       version 2.8.0\n",
            "INFO:weightwatcher:Saving all images to ww-img\n",
            "INFO:weightwatcher:params {'glorot_fix': False, 'normalize': False, 'conv2d_norm': True, 'randomize': True, 'savedir': 'ww-img', 'savefig': 'ww-img', 'rescale': True, 'plot': False, 'deltaEs': False, 'intra': False, 'channels': None, 'conv2d_fft': False, 'ww2x': False, 'vectors': True, 'smooth': None, 'stacked': False, 'svd_method': 'full_svd', 'fix_fingers': False, 'fit': 'power_law', 'sparsify': True, 'min_evals': 50, 'max_evals': None, 'mp_fit': False, 'layers': []}\n",
            "INFO:weightwatcher:Saving all images to ww-img\n",
            "INFO:weightwatcher:generating 1 replicas for each W of the random eigenvalues\n",
            "INFO:weightwatcher:generating 1 replicas for each W of the random eigenvalues\n",
            "INFO:weightwatcher:generating 1 replicas for each W of the random eigenvalues\n",
            "INFO:weightwatcher:generating 1 replicas for each W of the random eigenvalues\n",
            "WARNING:weightwatcher:pytorch layer: LayerNorm((768,), eps=1e-05, elementwise_affine=True)  type LAYER_TYPE.NORM not found \n",
            "INFO:weightwatcher:generating 1 replicas for each W of the random eigenvalues\n",
            "INFO:weightwatcher:generating 1 replicas for each W of the random eigenvalues\n",
            "INFO:weightwatcher:generating 1 replicas for each W of the random eigenvalues\n",
            "INFO:weightwatcher:generating 1 replicas for each W of the random eigenvalues\n",
            "INFO:weightwatcher:generating 1 replicas for each W of the random eigenvalues\n",
            "INFO:weightwatcher:generating 1 replicas for each W of the random eigenvalues\n",
            "INFO:weightwatcher:generating 1 replicas for each W of the random eigenvalues\n",
            "INFO:weightwatcher:generating 1 replicas for each W of the random eigenvalues\n",
            "WARNING:weightwatcher:pytorch layer: LayerNorm((768,), eps=1e-05, elementwise_affine=True)  type LAYER_TYPE.NORM not found \n",
            "INFO:weightwatcher:generating 1 replicas for each W of the random eigenvalues\n",
            "INFO:weightwatcher:generating 1 replicas for each W of the random eigenvalues\n",
            "INFO:weightwatcher:generating 1 replicas for each W of the random eigenvalues\n",
            "INFO:weightwatcher:generating 1 replicas for each W of the random eigenvalues\n",
            "WARNING:weightwatcher:pytorch layer: LayerNorm((768,), eps=1e-05, elementwise_affine=True)  type LAYER_TYPE.NORM not found \n",
            "INFO:weightwatcher:generating 1 replicas for each W of the random eigenvalues\n",
            "INFO:weightwatcher:generating 1 replicas for each W of the random eigenvalues\n",
            "INFO:weightwatcher:generating 1 replicas for each W of the random eigenvalues\n",
            "INFO:weightwatcher:generating 1 replicas for each W of the random eigenvalues\n",
            "INFO:weightwatcher:generating 1 replicas for each W of the random eigenvalues\n",
            "INFO:weightwatcher:generating 1 replicas for each W of the random eigenvalues\n",
            "INFO:weightwatcher:generating 1 replicas for each W of the random eigenvalues\n",
            "INFO:weightwatcher:generating 1 replicas for each W of the random eigenvalues\n",
            "WARNING:weightwatcher:pytorch layer: LayerNorm((768,), eps=1e-05, elementwise_affine=True)  type LAYER_TYPE.NORM not found \n",
            "INFO:weightwatcher:generating 1 replicas for each W of the random eigenvalues\n",
            "INFO:weightwatcher:generating 1 replicas for each W of the random eigenvalues\n",
            "INFO:weightwatcher:generating 1 replicas for each W of the random eigenvalues\n",
            "INFO:weightwatcher:generating 1 replicas for each W of the random eigenvalues\n",
            "WARNING:weightwatcher:pytorch layer: LayerNorm((768,), eps=1e-05, elementwise_affine=True)  type LAYER_TYPE.NORM not found \n",
            "INFO:weightwatcher:generating 1 replicas for each W of the random eigenvalues\n",
            "INFO:weightwatcher:generating 1 replicas for each W of the random eigenvalues\n",
            "INFO:weightwatcher:generating 1 replicas for each W of the random eigenvalues\n",
            "INFO:weightwatcher:generating 1 replicas for each W of the random eigenvalues\n",
            "INFO:weightwatcher:generating 1 replicas for each W of the random eigenvalues\n",
            "INFO:weightwatcher:generating 1 replicas for each W of the random eigenvalues\n",
            "INFO:weightwatcher:generating 1 replicas for each W of the random eigenvalues\n",
            "INFO:weightwatcher:generating 1 replicas for each W of the random eigenvalues\n",
            "WARNING:weightwatcher:pytorch layer: LayerNorm((768,), eps=1e-05, elementwise_affine=True)  type LAYER_TYPE.NORM not found \n",
            "INFO:weightwatcher:generating 1 replicas for each W of the random eigenvalues\n",
            "INFO:weightwatcher:generating 1 replicas for each W of the random eigenvalues\n",
            "INFO:weightwatcher:generating 1 replicas for each W of the random eigenvalues\n",
            "INFO:weightwatcher:generating 1 replicas for each W of the random eigenvalues\n",
            "WARNING:weightwatcher:pytorch layer: LayerNorm((768,), eps=1e-05, elementwise_affine=True)  type LAYER_TYPE.NORM not found \n",
            "INFO:weightwatcher:generating 1 replicas for each W of the random eigenvalues\n",
            "INFO:weightwatcher:generating 1 replicas for each W of the random eigenvalues\n",
            "INFO:weightwatcher:generating 1 replicas for each W of the random eigenvalues\n",
            "INFO:weightwatcher:generating 1 replicas for each W of the random eigenvalues\n",
            "INFO:weightwatcher:generating 1 replicas for each W of the random eigenvalues\n",
            "INFO:weightwatcher:generating 1 replicas for each W of the random eigenvalues\n",
            "INFO:weightwatcher:generating 1 replicas for each W of the random eigenvalues\n",
            "INFO:weightwatcher:generating 1 replicas for each W of the random eigenvalues\n",
            "WARNING:weightwatcher:pytorch layer: LayerNorm((768,), eps=1e-05, elementwise_affine=True)  type LAYER_TYPE.NORM not found \n",
            "INFO:weightwatcher:generating 1 replicas for each W of the random eigenvalues\n",
            "INFO:weightwatcher:generating 1 replicas for each W of the random eigenvalues\n",
            "INFO:weightwatcher:generating 1 replicas for each W of the random eigenvalues\n",
            "INFO:weightwatcher:generating 1 replicas for each W of the random eigenvalues\n",
            "WARNING:weightwatcher:pytorch layer: LayerNorm((768,), eps=1e-05, elementwise_affine=True)  type LAYER_TYPE.NORM not found \n",
            "INFO:weightwatcher:generating 1 replicas for each W of the random eigenvalues\n",
            "INFO:weightwatcher:generating 1 replicas for each W of the random eigenvalues\n",
            "INFO:weightwatcher:generating 1 replicas for each W of the random eigenvalues\n",
            "INFO:weightwatcher:generating 1 replicas for each W of the random eigenvalues\n",
            "INFO:weightwatcher:generating 1 replicas for each W of the random eigenvalues\n",
            "INFO:weightwatcher:generating 1 replicas for each W of the random eigenvalues\n",
            "INFO:weightwatcher:generating 1 replicas for each W of the random eigenvalues\n",
            "INFO:weightwatcher:generating 1 replicas for each W of the random eigenvalues\n",
            "WARNING:weightwatcher:pytorch layer: LayerNorm((768,), eps=1e-05, elementwise_affine=True)  type LAYER_TYPE.NORM not found \n",
            "INFO:weightwatcher:generating 1 replicas for each W of the random eigenvalues\n",
            "INFO:weightwatcher:generating 1 replicas for each W of the random eigenvalues\n",
            "INFO:weightwatcher:generating 1 replicas for each W of the random eigenvalues\n",
            "INFO:weightwatcher:generating 1 replicas for each W of the random eigenvalues\n",
            "WARNING:weightwatcher:pytorch layer: LayerNorm((768,), eps=1e-05, elementwise_affine=True)  type LAYER_TYPE.NORM not found \n",
            "INFO:weightwatcher:generating 1 replicas for each W of the random eigenvalues\n",
            "INFO:weightwatcher:generating 1 replicas for each W of the random eigenvalues\n",
            "INFO:weightwatcher:generating 1 replicas for each W of the random eigenvalues\n",
            "INFO:weightwatcher:generating 1 replicas for each W of the random eigenvalues\n",
            "INFO:weightwatcher:generating 1 replicas for each W of the random eigenvalues\n",
            "INFO:weightwatcher:generating 1 replicas for each W of the random eigenvalues\n",
            "INFO:weightwatcher:generating 1 replicas for each W of the random eigenvalues\n",
            "INFO:weightwatcher:generating 1 replicas for each W of the random eigenvalues\n",
            "WARNING:weightwatcher:pytorch layer: LayerNorm((768,), eps=1e-05, elementwise_affine=True)  type LAYER_TYPE.NORM not found \n",
            "INFO:weightwatcher:generating 1 replicas for each W of the random eigenvalues\n",
            "INFO:weightwatcher:generating 1 replicas for each W of the random eigenvalues\n",
            "INFO:weightwatcher:generating 1 replicas for each W of the random eigenvalues\n",
            "INFO:weightwatcher:generating 1 replicas for each W of the random eigenvalues\n",
            "WARNING:weightwatcher:pytorch layer: LayerNorm((768,), eps=1e-05, elementwise_affine=True)  type LAYER_TYPE.NORM not found \n",
            "INFO:weightwatcher:generating 1 replicas for each W of the random eigenvalues\n",
            "INFO:weightwatcher:generating 1 replicas for each W of the random eigenvalues\n",
            "INFO:weightwatcher:generating 1 replicas for each W of the random eigenvalues\n",
            "INFO:weightwatcher:generating 1 replicas for each W of the random eigenvalues\n",
            "INFO:weightwatcher:generating 1 replicas for each W of the random eigenvalues\n",
            "INFO:weightwatcher:generating 1 replicas for each W of the random eigenvalues\n",
            "INFO:weightwatcher:generating 1 replicas for each W of the random eigenvalues\n",
            "INFO:weightwatcher:generating 1 replicas for each W of the random eigenvalues\n",
            "WARNING:weightwatcher:pytorch layer: LayerNorm((768,), eps=1e-05, elementwise_affine=True)  type LAYER_TYPE.NORM not found \n",
            "INFO:weightwatcher:generating 1 replicas for each W of the random eigenvalues\n",
            "INFO:weightwatcher:generating 1 replicas for each W of the random eigenvalues\n",
            "INFO:weightwatcher:generating 1 replicas for each W of the random eigenvalues\n",
            "INFO:weightwatcher:generating 1 replicas for each W of the random eigenvalues\n",
            "WARNING:weightwatcher:pytorch layer: LayerNorm((768,), eps=1e-05, elementwise_affine=True)  type LAYER_TYPE.NORM not found \n",
            "INFO:weightwatcher:generating 1 replicas for each W of the random eigenvalues\n",
            "INFO:weightwatcher:generating 1 replicas for each W of the random eigenvalues\n",
            "INFO:weightwatcher:generating 1 replicas for each W of the random eigenvalues\n",
            "INFO:weightwatcher:generating 1 replicas for each W of the random eigenvalues\n",
            "INFO:weightwatcher:generating 1 replicas for each W of the random eigenvalues\n",
            "INFO:weightwatcher:generating 1 replicas for each W of the random eigenvalues\n",
            "INFO:weightwatcher:generating 1 replicas for each W of the random eigenvalues\n",
            "INFO:weightwatcher:generating 1 replicas for each W of the random eigenvalues\n",
            "WARNING:weightwatcher:pytorch layer: LayerNorm((768,), eps=1e-05, elementwise_affine=True)  type LAYER_TYPE.NORM not found \n",
            "INFO:weightwatcher:generating 1 replicas for each W of the random eigenvalues\n",
            "INFO:weightwatcher:generating 1 replicas for each W of the random eigenvalues\n",
            "INFO:weightwatcher:generating 1 replicas for each W of the random eigenvalues\n",
            "INFO:weightwatcher:generating 1 replicas for each W of the random eigenvalues\n",
            "WARNING:weightwatcher:pytorch layer: LayerNorm((768,), eps=1e-05, elementwise_affine=True)  type LAYER_TYPE.NORM not found \n",
            "INFO:weightwatcher:generating 1 replicas for each W of the random eigenvalues\n",
            "INFO:weightwatcher:generating 1 replicas for each W of the random eigenvalues\n",
            "INFO:weightwatcher:generating 1 replicas for each W of the random eigenvalues\n",
            "INFO:weightwatcher:generating 1 replicas for each W of the random eigenvalues\n",
            "INFO:weightwatcher:generating 1 replicas for each W of the random eigenvalues\n",
            "INFO:weightwatcher:generating 1 replicas for each W of the random eigenvalues\n",
            "INFO:weightwatcher:generating 1 replicas for each W of the random eigenvalues\n",
            "INFO:weightwatcher:generating 1 replicas for each W of the random eigenvalues\n",
            "WARNING:weightwatcher:pytorch layer: LayerNorm((768,), eps=1e-05, elementwise_affine=True)  type LAYER_TYPE.NORM not found \n",
            "INFO:weightwatcher:generating 1 replicas for each W of the random eigenvalues\n",
            "INFO:weightwatcher:generating 1 replicas for each W of the random eigenvalues\n",
            "INFO:weightwatcher:generating 1 replicas for each W of the random eigenvalues\n",
            "INFO:weightwatcher:generating 1 replicas for each W of the random eigenvalues\n",
            "WARNING:weightwatcher:pytorch layer: LayerNorm((768,), eps=1e-05, elementwise_affine=True)  type LAYER_TYPE.NORM not found \n",
            "INFO:weightwatcher:generating 1 replicas for each W of the random eigenvalues\n",
            "INFO:weightwatcher:generating 1 replicas for each W of the random eigenvalues\n",
            "INFO:weightwatcher:generating 1 replicas for each W of the random eigenvalues\n",
            "INFO:weightwatcher:generating 1 replicas for each W of the random eigenvalues\n",
            "INFO:weightwatcher:generating 1 replicas for each W of the random eigenvalues\n",
            "INFO:weightwatcher:generating 1 replicas for each W of the random eigenvalues\n",
            "INFO:weightwatcher:generating 1 replicas for each W of the random eigenvalues\n",
            "INFO:weightwatcher:generating 1 replicas for each W of the random eigenvalues\n",
            "WARNING:weightwatcher:pytorch layer: LayerNorm((768,), eps=1e-05, elementwise_affine=True)  type LAYER_TYPE.NORM not found \n",
            "INFO:weightwatcher:generating 1 replicas for each W of the random eigenvalues\n",
            "INFO:weightwatcher:generating 1 replicas for each W of the random eigenvalues\n",
            "INFO:weightwatcher:generating 1 replicas for each W of the random eigenvalues\n",
            "INFO:weightwatcher:generating 1 replicas for each W of the random eigenvalues\n",
            "WARNING:weightwatcher:pytorch layer: LayerNorm((768,), eps=1e-05, elementwise_affine=True)  type LAYER_TYPE.NORM not found \n",
            "INFO:weightwatcher:generating 1 replicas for each W of the random eigenvalues\n",
            "INFO:weightwatcher:generating 1 replicas for each W of the random eigenvalues\n",
            "INFO:weightwatcher:generating 1 replicas for each W of the random eigenvalues\n",
            "INFO:weightwatcher:generating 1 replicas for each W of the random eigenvalues\n",
            "INFO:weightwatcher:generating 1 replicas for each W of the random eigenvalues\n",
            "INFO:weightwatcher:generating 1 replicas for each W of the random eigenvalues\n",
            "INFO:weightwatcher:generating 1 replicas for each W of the random eigenvalues\n",
            "INFO:weightwatcher:generating 1 replicas for each W of the random eigenvalues\n",
            "WARNING:weightwatcher:pytorch layer: LayerNorm((768,), eps=1e-05, elementwise_affine=True)  type LAYER_TYPE.NORM not found \n",
            "INFO:weightwatcher:generating 1 replicas for each W of the random eigenvalues\n",
            "INFO:weightwatcher:generating 1 replicas for each W of the random eigenvalues\n",
            "INFO:weightwatcher:generating 1 replicas for each W of the random eigenvalues\n",
            "INFO:weightwatcher:generating 1 replicas for each W of the random eigenvalues\n",
            "WARNING:weightwatcher:pytorch layer: LayerNorm((768,), eps=1e-05, elementwise_affine=True)  type LAYER_TYPE.NORM not found \n",
            "INFO:weightwatcher:generating 1 replicas for each W of the random eigenvalues\n",
            "INFO:weightwatcher:generating 1 replicas for each W of the random eigenvalues\n",
            "INFO:weightwatcher:generating 1 replicas for each W of the random eigenvalues\n",
            "INFO:weightwatcher:generating 1 replicas for each W of the random eigenvalues\n",
            "INFO:weightwatcher:generating 1 replicas for each W of the random eigenvalues\n",
            "INFO:weightwatcher:generating 1 replicas for each W of the random eigenvalues\n",
            "INFO:weightwatcher:generating 1 replicas for each W of the random eigenvalues\n",
            "INFO:weightwatcher:generating 1 replicas for each W of the random eigenvalues\n",
            "WARNING:weightwatcher:pytorch layer: LayerNorm((768,), eps=1e-05, elementwise_affine=True)  type LAYER_TYPE.NORM not found \n",
            "INFO:weightwatcher:generating 1 replicas for each W of the random eigenvalues\n",
            "INFO:weightwatcher:generating 1 replicas for each W of the random eigenvalues\n",
            "INFO:weightwatcher:generating 1 replicas for each W of the random eigenvalues\n",
            "INFO:weightwatcher:generating 1 replicas for each W of the random eigenvalues\n",
            "WARNING:weightwatcher:pytorch layer: LayerNorm((768,), eps=1e-05, elementwise_affine=True)  type LAYER_TYPE.NORM not found \n",
            "INFO:weightwatcher:generating 1 replicas for each W of the random eigenvalues\n",
            "INFO:weightwatcher:generating 1 replicas for each W of the random eigenvalues\n"
          ]
        }
      ]
    },
    {
      "cell_type": "code",
      "source": [
        "watcher = ww.WeightWatcher(model=xlnet)\n",
        "xlnet_details = watcher.analyze(randomize=True, min_evals = 50)"
      ],
      "metadata": {
        "colab": {
          "base_uri": "https://localhost:8080/"
        },
        "id": "5WBVz4oXGnVg",
        "outputId": "9dee8910-adf2-4e20-9de3-be2842f6d5d8"
      },
      "execution_count": null,
      "outputs": [
        {
          "output_type": "stream",
          "name": "stderr",
          "text": [
            "INFO:weightwatcher:\n",
            "\n",
            "python      version 3.7.13 (default, Apr 24 2022, 01:04:09) \n",
            "[GCC 7.5.0]\n",
            "numpy       version 1.21.6\n",
            "tensforflow version 2.8.2\n",
            "keras       version 2.8.0\n",
            "INFO:weightwatcher:Saving all images to ww-img\n",
            "INFO:weightwatcher:params {'glorot_fix': False, 'normalize': False, 'conv2d_norm': True, 'randomize': True, 'savedir': 'ww-img', 'savefig': 'ww-img', 'rescale': True, 'plot': False, 'deltaEs': False, 'intra': False, 'channels': None, 'conv2d_fft': False, 'ww2x': False, 'vectors': True, 'smooth': None, 'stacked': False, 'svd_method': 'full_svd', 'fix_fingers': False, 'fit': 'power_law', 'sparsify': True, 'min_evals': 50, 'max_evals': None, 'mp_fit': False, 'layers': []}\n",
            "INFO:weightwatcher:Saving all images to ww-img\n"
          ]
        },
        {
          "output_type": "stream",
          "name": "stdout",
          "text": [
            ""
          ]
        },
        {
          "output_type": "stream",
          "name": "stderr",
          "text": [
            "Assuming nested distributions\n",
            "'nan' in fit cumulative distribution values.\n",
            "Likely underflow or overflow error: the optimal fit for this distribution gives values that are so extreme that we lack the numerical precision to calculate them.\n",
            "INFO:weightwatcher:generating 1 replicas for each W of the random eigenvalues\n",
            "INFO:weightwatcher:generating 1 replicas for each W of the random eigenvalues\n",
            "WARNING:weightwatcher:pytorch layer: LayerNorm((768,), eps=1e-12, elementwise_affine=True)  type LAYER_TYPE.NORM not found \n",
            "WARNING:weightwatcher:pytorch layer: LayerNorm((768,), eps=1e-12, elementwise_affine=True)  type LAYER_TYPE.NORM not found \n"
          ]
        },
        {
          "output_type": "stream",
          "name": "stdout",
          "text": [
            ""
          ]
        },
        {
          "output_type": "stream",
          "name": "stderr",
          "text": [
            "Assuming nested distributions\n",
            "'nan' in fit cumulative distribution values.\n",
            "Likely underflow or overflow error: the optimal fit for this distribution gives values that are so extreme that we lack the numerical precision to calculate them.\n",
            "INFO:weightwatcher:generating 1 replicas for each W of the random eigenvalues\n",
            "INFO:weightwatcher:generating 1 replicas for each W of the random eigenvalues\n"
          ]
        },
        {
          "output_type": "stream",
          "name": "stdout",
          "text": [
            ""
          ]
        },
        {
          "output_type": "stream",
          "name": "stderr",
          "text": [
            "Assuming nested distributions\n",
            "'nan' in fit cumulative distribution values.\n",
            "Likely underflow or overflow error: the optimal fit for this distribution gives values that are so extreme that we lack the numerical precision to calculate them.\n",
            "INFO:weightwatcher:generating 1 replicas for each W of the random eigenvalues\n",
            "INFO:weightwatcher:generating 1 replicas for each W of the random eigenvalues\n",
            "WARNING:weightwatcher:pytorch layer: LayerNorm((768,), eps=1e-12, elementwise_affine=True)  type LAYER_TYPE.NORM not found \n",
            "WARNING:weightwatcher:pytorch layer: LayerNorm((768,), eps=1e-12, elementwise_affine=True)  type LAYER_TYPE.NORM not found \n"
          ]
        },
        {
          "output_type": "stream",
          "name": "stdout",
          "text": [
            ""
          ]
        },
        {
          "output_type": "stream",
          "name": "stderr",
          "text": [
            "Assuming nested distributions\n",
            "'nan' in fit cumulative distribution values.\n",
            "Likely underflow or overflow error: the optimal fit for this distribution gives values that are so extreme that we lack the numerical precision to calculate them.\n",
            "INFO:weightwatcher:generating 1 replicas for each W of the random eigenvalues\n",
            "INFO:weightwatcher:generating 1 replicas for each W of the random eigenvalues\n"
          ]
        },
        {
          "output_type": "stream",
          "name": "stdout",
          "text": [
            ""
          ]
        },
        {
          "output_type": "stream",
          "name": "stderr",
          "text": [
            "Assuming nested distributions\n",
            "'nan' in fit cumulative distribution values.\n",
            "Likely underflow or overflow error: the optimal fit for this distribution gives values that are so extreme that we lack the numerical precision to calculate them.\n",
            "INFO:weightwatcher:generating 1 replicas for each W of the random eigenvalues\n",
            "INFO:weightwatcher:generating 1 replicas for each W of the random eigenvalues\n",
            "WARNING:weightwatcher:pytorch layer: LayerNorm((768,), eps=1e-12, elementwise_affine=True)  type LAYER_TYPE.NORM not found \n",
            "WARNING:weightwatcher:pytorch layer: LayerNorm((768,), eps=1e-12, elementwise_affine=True)  type LAYER_TYPE.NORM not found \n"
          ]
        },
        {
          "output_type": "stream",
          "name": "stdout",
          "text": [
            ""
          ]
        },
        {
          "output_type": "stream",
          "name": "stderr",
          "text": [
            "Assuming nested distributions\n",
            "'nan' in fit cumulative distribution values.\n",
            "Likely underflow or overflow error: the optimal fit for this distribution gives values that are so extreme that we lack the numerical precision to calculate them.\n",
            "INFO:weightwatcher:generating 1 replicas for each W of the random eigenvalues\n",
            "INFO:weightwatcher:generating 1 replicas for each W of the random eigenvalues\n"
          ]
        },
        {
          "output_type": "stream",
          "name": "stdout",
          "text": [
            ""
          ]
        },
        {
          "output_type": "stream",
          "name": "stderr",
          "text": [
            "Assuming nested distributions\n",
            "'nan' in fit cumulative distribution values.\n",
            "Likely underflow or overflow error: the optimal fit for this distribution gives values that are so extreme that we lack the numerical precision to calculate them.\n",
            "INFO:weightwatcher:generating 1 replicas for each W of the random eigenvalues\n",
            "INFO:weightwatcher:generating 1 replicas for each W of the random eigenvalues\n",
            "WARNING:weightwatcher:pytorch layer: LayerNorm((768,), eps=1e-12, elementwise_affine=True)  type LAYER_TYPE.NORM not found \n",
            "WARNING:weightwatcher:pytorch layer: LayerNorm((768,), eps=1e-12, elementwise_affine=True)  type LAYER_TYPE.NORM not found \n"
          ]
        },
        {
          "output_type": "stream",
          "name": "stdout",
          "text": [
            ""
          ]
        },
        {
          "output_type": "stream",
          "name": "stderr",
          "text": [
            "Assuming nested distributions\n",
            "'nan' in fit cumulative distribution values.\n",
            "Likely underflow or overflow error: the optimal fit for this distribution gives values that are so extreme that we lack the numerical precision to calculate them.\n",
            "INFO:weightwatcher:generating 1 replicas for each W of the random eigenvalues\n",
            "INFO:weightwatcher:generating 1 replicas for each W of the random eigenvalues\n"
          ]
        },
        {
          "output_type": "stream",
          "name": "stdout",
          "text": [
            ""
          ]
        },
        {
          "output_type": "stream",
          "name": "stderr",
          "text": [
            "Assuming nested distributions\n",
            "'nan' in fit cumulative distribution values.\n",
            "Likely underflow or overflow error: the optimal fit for this distribution gives values that are so extreme that we lack the numerical precision to calculate them.\n",
            "INFO:weightwatcher:generating 1 replicas for each W of the random eigenvalues\n",
            "INFO:weightwatcher:generating 1 replicas for each W of the random eigenvalues\n",
            "WARNING:weightwatcher:pytorch layer: LayerNorm((768,), eps=1e-12, elementwise_affine=True)  type LAYER_TYPE.NORM not found \n",
            "WARNING:weightwatcher:pytorch layer: LayerNorm((768,), eps=1e-12, elementwise_affine=True)  type LAYER_TYPE.NORM not found \n"
          ]
        },
        {
          "output_type": "stream",
          "name": "stdout",
          "text": [
            ""
          ]
        },
        {
          "output_type": "stream",
          "name": "stderr",
          "text": [
            "Assuming nested distributions\n",
            "'nan' in fit cumulative distribution values.\n",
            "Likely underflow or overflow error: the optimal fit for this distribution gives values that are so extreme that we lack the numerical precision to calculate them.\n",
            "INFO:weightwatcher:generating 1 replicas for each W of the random eigenvalues\n",
            "INFO:weightwatcher:generating 1 replicas for each W of the random eigenvalues\n"
          ]
        },
        {
          "output_type": "stream",
          "name": "stdout",
          "text": [
            ""
          ]
        },
        {
          "output_type": "stream",
          "name": "stderr",
          "text": [
            "Assuming nested distributions\n",
            "'nan' in fit cumulative distribution values.\n",
            "Likely underflow or overflow error: the optimal fit for this distribution gives values that are so extreme that we lack the numerical precision to calculate them.\n",
            "INFO:weightwatcher:generating 1 replicas for each W of the random eigenvalues\n",
            "INFO:weightwatcher:generating 1 replicas for each W of the random eigenvalues\n",
            "WARNING:weightwatcher:pytorch layer: LayerNorm((768,), eps=1e-12, elementwise_affine=True)  type LAYER_TYPE.NORM not found \n",
            "WARNING:weightwatcher:pytorch layer: LayerNorm((768,), eps=1e-12, elementwise_affine=True)  type LAYER_TYPE.NORM not found \n"
          ]
        },
        {
          "output_type": "stream",
          "name": "stdout",
          "text": [
            ""
          ]
        },
        {
          "output_type": "stream",
          "name": "stderr",
          "text": [
            "Assuming nested distributions\n",
            "'nan' in fit cumulative distribution values.\n",
            "Likely underflow or overflow error: the optimal fit for this distribution gives values that are so extreme that we lack the numerical precision to calculate them.\n",
            "INFO:weightwatcher:generating 1 replicas for each W of the random eigenvalues\n",
            "INFO:weightwatcher:generating 1 replicas for each W of the random eigenvalues\n"
          ]
        },
        {
          "output_type": "stream",
          "name": "stdout",
          "text": [
            ""
          ]
        },
        {
          "output_type": "stream",
          "name": "stderr",
          "text": [
            "Assuming nested distributions\n",
            "'nan' in fit cumulative distribution values.\n",
            "Likely underflow or overflow error: the optimal fit for this distribution gives values that are so extreme that we lack the numerical precision to calculate them.\n",
            "INFO:weightwatcher:generating 1 replicas for each W of the random eigenvalues\n",
            "INFO:weightwatcher:generating 1 replicas for each W of the random eigenvalues\n",
            "WARNING:weightwatcher:pytorch layer: LayerNorm((768,), eps=1e-12, elementwise_affine=True)  type LAYER_TYPE.NORM not found \n",
            "WARNING:weightwatcher:pytorch layer: LayerNorm((768,), eps=1e-12, elementwise_affine=True)  type LAYER_TYPE.NORM not found \n"
          ]
        },
        {
          "output_type": "stream",
          "name": "stdout",
          "text": [
            ""
          ]
        },
        {
          "output_type": "stream",
          "name": "stderr",
          "text": [
            "Assuming nested distributions\n",
            "'nan' in fit cumulative distribution values.\n",
            "Likely underflow or overflow error: the optimal fit for this distribution gives values that are so extreme that we lack the numerical precision to calculate them.\n",
            "INFO:weightwatcher:generating 1 replicas for each W of the random eigenvalues\n",
            "INFO:weightwatcher:generating 1 replicas for each W of the random eigenvalues\n"
          ]
        },
        {
          "output_type": "stream",
          "name": "stdout",
          "text": [
            ""
          ]
        },
        {
          "output_type": "stream",
          "name": "stderr",
          "text": [
            "Assuming nested distributions\n",
            "'nan' in fit cumulative distribution values.\n",
            "Likely underflow or overflow error: the optimal fit for this distribution gives values that are so extreme that we lack the numerical precision to calculate them.\n",
            "INFO:weightwatcher:generating 1 replicas for each W of the random eigenvalues\n",
            "INFO:weightwatcher:generating 1 replicas for each W of the random eigenvalues\n",
            "WARNING:weightwatcher:pytorch layer: LayerNorm((768,), eps=1e-12, elementwise_affine=True)  type LAYER_TYPE.NORM not found \n",
            "WARNING:weightwatcher:pytorch layer: LayerNorm((768,), eps=1e-12, elementwise_affine=True)  type LAYER_TYPE.NORM not found \n"
          ]
        },
        {
          "output_type": "stream",
          "name": "stdout",
          "text": [
            ""
          ]
        },
        {
          "output_type": "stream",
          "name": "stderr",
          "text": [
            "Assuming nested distributions\n",
            "'nan' in fit cumulative distribution values.\n",
            "Likely underflow or overflow error: the optimal fit for this distribution gives values that are so extreme that we lack the numerical precision to calculate them.\n",
            "INFO:weightwatcher:generating 1 replicas for each W of the random eigenvalues\n",
            "INFO:weightwatcher:generating 1 replicas for each W of the random eigenvalues\n"
          ]
        },
        {
          "output_type": "stream",
          "name": "stdout",
          "text": [
            ""
          ]
        },
        {
          "output_type": "stream",
          "name": "stderr",
          "text": [
            "Assuming nested distributions\n",
            "'nan' in fit cumulative distribution values.\n",
            "Likely underflow or overflow error: the optimal fit for this distribution gives values that are so extreme that we lack the numerical precision to calculate them.\n",
            "INFO:weightwatcher:generating 1 replicas for each W of the random eigenvalues\n",
            "INFO:weightwatcher:generating 1 replicas for each W of the random eigenvalues\n",
            "WARNING:weightwatcher:pytorch layer: LayerNorm((768,), eps=1e-12, elementwise_affine=True)  type LAYER_TYPE.NORM not found \n",
            "WARNING:weightwatcher:pytorch layer: LayerNorm((768,), eps=1e-12, elementwise_affine=True)  type LAYER_TYPE.NORM not found \n"
          ]
        },
        {
          "output_type": "stream",
          "name": "stdout",
          "text": [
            ""
          ]
        },
        {
          "output_type": "stream",
          "name": "stderr",
          "text": [
            "Assuming nested distributions\n",
            "'nan' in fit cumulative distribution values.\n",
            "Likely underflow or overflow error: the optimal fit for this distribution gives values that are so extreme that we lack the numerical precision to calculate them.\n",
            "INFO:weightwatcher:generating 1 replicas for each W of the random eigenvalues\n",
            "INFO:weightwatcher:generating 1 replicas for each W of the random eigenvalues\n"
          ]
        },
        {
          "output_type": "stream",
          "name": "stdout",
          "text": [
            ""
          ]
        },
        {
          "output_type": "stream",
          "name": "stderr",
          "text": [
            "Assuming nested distributions\n",
            "'nan' in fit cumulative distribution values.\n",
            "Likely underflow or overflow error: the optimal fit for this distribution gives values that are so extreme that we lack the numerical precision to calculate them.\n",
            "INFO:weightwatcher:generating 1 replicas for each W of the random eigenvalues\n",
            "INFO:weightwatcher:generating 1 replicas for each W of the random eigenvalues\n",
            "WARNING:weightwatcher:pytorch layer: LayerNorm((768,), eps=1e-12, elementwise_affine=True)  type LAYER_TYPE.NORM not found \n",
            "WARNING:weightwatcher:pytorch layer: LayerNorm((768,), eps=1e-12, elementwise_affine=True)  type LAYER_TYPE.NORM not found \n"
          ]
        },
        {
          "output_type": "stream",
          "name": "stdout",
          "text": [
            ""
          ]
        },
        {
          "output_type": "stream",
          "name": "stderr",
          "text": [
            "Assuming nested distributions\n",
            "'nan' in fit cumulative distribution values.\n",
            "Likely underflow or overflow error: the optimal fit for this distribution gives values that are so extreme that we lack the numerical precision to calculate them.\n",
            "INFO:weightwatcher:generating 1 replicas for each W of the random eigenvalues\n",
            "INFO:weightwatcher:generating 1 replicas for each W of the random eigenvalues\n"
          ]
        },
        {
          "output_type": "stream",
          "name": "stdout",
          "text": [
            ""
          ]
        },
        {
          "output_type": "stream",
          "name": "stderr",
          "text": [
            "Assuming nested distributions\n",
            "'nan' in fit cumulative distribution values.\n",
            "Likely underflow or overflow error: the optimal fit for this distribution gives values that are so extreme that we lack the numerical precision to calculate them.\n",
            "INFO:weightwatcher:generating 1 replicas for each W of the random eigenvalues\n",
            "INFO:weightwatcher:generating 1 replicas for each W of the random eigenvalues\n",
            "WARNING:weightwatcher:pytorch layer: LayerNorm((768,), eps=1e-12, elementwise_affine=True)  type LAYER_TYPE.NORM not found \n",
            "WARNING:weightwatcher:pytorch layer: LayerNorm((768,), eps=1e-12, elementwise_affine=True)  type LAYER_TYPE.NORM not found \n"
          ]
        },
        {
          "output_type": "stream",
          "name": "stdout",
          "text": [
            ""
          ]
        },
        {
          "output_type": "stream",
          "name": "stderr",
          "text": [
            "Assuming nested distributions\n",
            "'nan' in fit cumulative distribution values.\n",
            "Likely underflow or overflow error: the optimal fit for this distribution gives values that are so extreme that we lack the numerical precision to calculate them.\n",
            "INFO:weightwatcher:generating 1 replicas for each W of the random eigenvalues\n",
            "INFO:weightwatcher:generating 1 replicas for each W of the random eigenvalues\n"
          ]
        },
        {
          "output_type": "stream",
          "name": "stdout",
          "text": [
            ""
          ]
        },
        {
          "output_type": "stream",
          "name": "stderr",
          "text": [
            "Assuming nested distributions\n",
            "'nan' in fit cumulative distribution values.\n",
            "Likely underflow or overflow error: the optimal fit for this distribution gives values that are so extreme that we lack the numerical precision to calculate them.\n",
            "INFO:weightwatcher:generating 1 replicas for each W of the random eigenvalues\n",
            "INFO:weightwatcher:generating 1 replicas for each W of the random eigenvalues\n",
            "WARNING:weightwatcher:pytorch layer: LayerNorm((768,), eps=1e-12, elementwise_affine=True)  type LAYER_TYPE.NORM not found \n",
            "WARNING:weightwatcher:pytorch layer: LayerNorm((768,), eps=1e-12, elementwise_affine=True)  type LAYER_TYPE.NORM not found \n"
          ]
        },
        {
          "output_type": "stream",
          "name": "stdout",
          "text": [
            ""
          ]
        },
        {
          "output_type": "stream",
          "name": "stderr",
          "text": [
            "Assuming nested distributions\n",
            "INFO:weightwatcher:generating 1 replicas for each W of the random eigenvalues\n",
            "INFO:weightwatcher:generating 1 replicas for each W of the random eigenvalues\n"
          ]
        },
        {
          "output_type": "stream",
          "name": "stdout",
          "text": [
            ""
          ]
        },
        {
          "output_type": "stream",
          "name": "stderr",
          "text": [
            "Assuming nested distributions\n",
            "'nan' in fit cumulative distribution values.\n",
            "Likely underflow or overflow error: the optimal fit for this distribution gives values that are so extreme that we lack the numerical precision to calculate them.\n",
            "INFO:weightwatcher:generating 1 replicas for each W of the random eigenvalues\n",
            "INFO:weightwatcher:generating 1 replicas for each W of the random eigenvalues\n"
          ]
        }
      ]
    },
    {
      "cell_type": "code",
      "source": [
        "MAX_ALPHA = 8\n",
        "\n",
        "B = bert_details[(bert_details.alpha<MAX_ALPHA) & (bert_details.alpha>0)]\n",
        "B.alpha.plot.hist(bins=100, label='BERT', density=True, color='blue')\n",
        "plt.axvline(B.alpha.mean(), color='blue', linestyle='dashed')\n",
        "\n",
        "R = roberta_details[(roberta_details.alpha<MAX_ALPHA) & (roberta_details.alpha>0)]\n",
        "R.alpha.plot.hist(bins=100, label='RoBERTa' ,alpha=0.5, density=True, color='red')\n",
        "plt.axvline(R.alpha.mean(), color='red', linestyle='dashed')\n",
        "\n",
        "X = xlnet_details[(xlnet_details.alpha<MAX_ALPHA) & (roberta_details.alpha>0)]\n",
        "X.alpha.plot.hist(bins=100, label='XLNet' ,alpha=0.5, density=True, color='green')\n",
        "plt.axvline(R.alpha.mean(), color='green', linestyle='dashed')\n",
        "\n",
        "plt.legend()\n",
        "plt.show()\n",
        "\n",
        "x = B.layer_id.to_numpy()\n",
        "y = B.alpha.to_numpy()\n",
        "plt.scatter(x,y,color='blue')\n",
        "plt.axhline(np.mean(y), color='blue', linestyle='dashed')\n",
        "\n",
        "x = R.layer_id.to_numpy()\n",
        "y = R.alpha.to_numpy()\n",
        "plt.scatter(x,y,color='red')\n",
        "plt.axhline(np.mean(y), color='red', linestyle='dashed')\n",
        "\n",
        "x = X.layer_id.to_numpy()\n",
        "y = X.alpha.to_numpy()\n",
        "plt.scatter(x,y,color='green')\n",
        "plt.axhline(np.mean(y), color='green', linestyle='dashed')\n",
        "#plt.show()\n",
        "\n",
        "\n"
      ],
      "metadata": {
        "colab": {
          "base_uri": "https://localhost:8080/",
          "height": 532
        },
        "id": "WENM1jdlI0YM",
        "outputId": "f3210779-807e-4f2b-8554-8d0263005d76"
      },
      "execution_count": null,
      "outputs": [
        {
          "output_type": "display_data",
          "data": {
            "text/plain": [
              "<Figure size 432x288 with 1 Axes>"
            ],
            "image/png": "[encoded data removed]"
          },
          "metadata": {
            "needs_background": "light"
          }
        },
        {
          "output_type": "execute_result",
          "data": {
            "text/plain": [
              "<matplotlib.lines.Line2D at 0x7f951b4c4990>"
            ]
          },
          "metadata": {},
          "execution_count": 20
        },
        {
          "output_type": "display_data",
          "data": {
            "text/plain": [
              "<Figure size 432x288 with 1 Axes>"
            ],
            "image/png": "[encoded data removed]"
          },
          "metadata": {
            "needs_background": "light"
          }
        }
      ]
    },
    {
      "cell_type": "code",
      "source": [
        "while True:\n",
        "  pass"
      ],
      "metadata": {
        "id": "FF1k3C5r6dz6"
      },
      "execution_count": null,
      "outputs": []
    },
    {
      "cell_type": "code",
      "source": [
        ""
      ],
      "metadata": {
        "id": "lP2R1kAn6fgO"
      },
      "execution_count": null,
      "outputs": []
    }
  ]
}