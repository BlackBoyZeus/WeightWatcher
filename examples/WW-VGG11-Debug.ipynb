{
 "cells": [
  {
   "cell_type": "markdown",
   "metadata": {
    "colab_type": "text",
    "id": "view-in-github"
   },
   "source": [
    "<a href=\"https://colab.research.google.com/github/CalculatedContent/WeightWatcher/blob/master/examples/WW-VGG-RandDistance.ipynb\" target=\"_parent\"><img src=\"https://colab.research.google.com/assets/colab-badge.svg\" alt=\"Open In Colab\"/></a>"
   ]
  },
  {
   "cell_type": "code",
   "execution_count": null,
   "metadata": {},
   "outputs": [],
   "source": []
  },
  {
   "cell_type": "markdown",
   "metadata": {},
   "source": [
    "\n",
    "### Debug Refactoring  VGG11 Model\n",
    "\n",
    "\n",
    "\n",
    "\n",
    "\n"
   ]
  },
  {
   "cell_type": "code",
   "execution_count": 1,
   "metadata": {
    "ExecuteTime": {
     "end_time": "2019-03-05T23:51:16.544327Z",
     "start_time": "2019-03-05T23:51:16.531457Z"
    }
   },
   "outputs": [],
   "source": [
    "# Suppress the powerlaw package warnings\n",
    "# \"powerlaw.py:700: RuntimeWarning: divide by zero encountered in true_divide\"\n",
    "# \"powerlaw.py:700: RuntimeWarning: invalid value encountered in true_divide\"\n",
    "import warnings\n",
    "warnings.simplefilter(action='ignore', category=RuntimeWarning)"
   ]
  },
  {
   "cell_type": "code",
   "execution_count": 2,
   "metadata": {
    "scrolled": true
   },
   "outputs": [],
   "source": [
    "import numpy as np\n",
    "import pandas as pd\n",
    "\n",
    "from tqdm import tqdm\n",
    "\n",
    "import matplotlib\n",
    "import matplotlib.pyplot as plt\n",
    "%matplotlib inline"
   ]
  },
  {
   "cell_type": "markdown",
   "metadata": {
    "ExecuteTime": {
     "end_time": "2019-03-06T00:16:43.249725Z",
     "start_time": "2019-03-06T00:16:43.240611Z"
    }
   },
   "source": [
    "### Import WeightWatcher\n",
    "\n",
    "set custom Logging at WARN Level"
   ]
  },
  {
   "cell_type": "code",
   "execution_count": 3,
   "metadata": {},
   "outputs": [],
   "source": [
    "import sys\n",
    "if 'google.colab' in sys.modules:\n",
    "    !pip install weightwatcher"
   ]
  },
  {
   "cell_type": "code",
   "execution_count": 4,
   "metadata": {
    "scrolled": true
   },
   "outputs": [
    {
     "name": "stderr",
     "output_type": "stream",
     "text": [
      "PyTorch is available but CUDA is not. Defaulting to scipy for SVD\n"
     ]
    },
    {
     "data": {
      "text/plain": [
       "'0.6.4.3'"
      ]
     },
     "execution_count": 4,
     "metadata": {},
     "output_type": "execute_result"
    }
   ],
   "source": [
    "import logging\n",
    "\n",
    "import weightwatcher as ww\n",
    "import torchvision.models as models\n",
    "\n",
    "logger = logging.getLogger(ww.__name__)\n",
    "logger.setLevel(logging.DEBUG)\n",
    "\n",
    "ww.__version__"
   ]
  },
  {
   "cell_type": "code",
   "execution_count": 5,
   "metadata": {},
   "outputs": [
    {
     "name": "stderr",
     "output_type": "stream",
     "text": [
      "INFO:weightwatcher:\n",
      "\n",
      "python      version 3.9.13 (main, Aug 25 2022, 18:29:29) \n",
      "[Clang 12.0.0 ]\n",
      "numpy       version 1.22.3\n",
      "torch version 1.12.1\n",
      "INFO:weightwatcher:\n",
      "\n",
      "python      version 3.9.13 (main, Aug 25 2022, 18:29:29) \n",
      "[Clang 12.0.0 ]\n",
      "numpy       version 1.22.3\n",
      "torch version 1.12.1\n"
     ]
    }
   ],
   "source": [
    "modelname = 'VGG11'\n",
    "model = models.vgg11(pretrained=True)\n",
    "watcher = ww.WeightWatcher(model=model)"
   ]
  },
  {
   "cell_type": "code",
   "execution_count": 6,
   "metadata": {},
   "outputs": [
    {
     "name": "stderr",
     "output_type": "stream",
     "text": [
      "INFO:weightwatcher:\n",
      "\n",
      "python      version 3.9.13 (main, Aug 25 2022, 18:29:29) \n",
      "[Clang 12.0.0 ]\n",
      "numpy       version 1.22.3\n",
      "torch version 1.12.1\n",
      "INFO:weightwatcher:\n",
      "\n",
      "python      version 3.9.13 (main, Aug 25 2022, 18:29:29) \n",
      "[Clang 12.0.0 ]\n",
      "numpy       version 1.22.3\n",
      "torch version 1.12.1\n"
     ]
    }
   ],
   "source": [
    "model = models.vgg11(weights='VGG11_Weights.IMAGENET1K_V1').state_dict()\n",
    "watcher = ww.WeightWatcher(model=model, log_level=logging.DEBUG)"
   ]
  },
  {
   "cell_type": "markdown",
   "metadata": {},
   "source": [
    "#### IDK why the ints are floats"
   ]
  },
  {
   "cell_type": "code",
   "execution_count": 7,
   "metadata": {},
   "outputs": [
    {
     "name": "stderr",
     "output_type": "stream",
     "text": [
      "INFO:weightwatcher:params {'glorot_fix': False, 'normalize': False, 'conv2d_norm': True, 'randomize': True, 'savedir': 'ww-img', 'savefig': 'ww-img', 'rescale': True, 'plot': False, 'deltaEs': False, 'intra': False, 'channels': None, 'conv2d_fft': False, 'ww2x': False, 'vectors': True, 'smooth': None, 'stacked': False, 'svd_method': 'accurate', 'fix_fingers': None, 'fit': 'power_law', 'sparsify': True, 'detX': True, 'mp_fit': False, 'min_evals': 0, 'max_evals': None, 'max_N': 10, 'tolerance': 1e-06, 'layer_ids_start': 0, 'add_biases': False, 'glorot_fit': False, 'layers': []}\n",
      "INFO:weightwatcher:Saving all images to ww-img\n",
      "INFO:weightwatcher:params {'glorot_fix': False, 'normalize': False, 'conv2d_norm': True, 'randomize': True, 'savedir': 'ww-img', 'savefig': 'ww-img', 'rescale': True, 'plot': False, 'deltaEs': False, 'intra': False, 'channels': None, 'conv2d_fft': False, 'ww2x': False, 'vectors': True, 'smooth': None, 'stacked': False, 'svd_method': 'accurate', 'fix_fingers': None, 'fit': 'power_law', 'sparsify': True, 'detX': True, 'mp_fit': False, 'min_evals': 0, 'max_evals': None, 'max_N': 10, 'tolerance': 1e-06, 'layer_ids_start': 0, 'add_biases': False, 'glorot_fit': False, 'layers': []}\n",
      "INFO:weightwatcher:Saving all images to ww-img\n",
      "INFO:weightwatcher:torch version 1.12.1\n",
      "INFO:weightwatcher:framework from model = 16\n",
      "DEBUG:weightwatcher:conv2D_Wmats\n",
      "DEBUG:weightwatcher:channels Last tensor shape: 64x3 (NxM), 3x3 (i,j)\n",
      "DEBUG:weightwatcher:get_conv2D_Wmats N=64 M=3 rf= 9 channels= 4\n",
      "DEBUG:weightwatcher:layer_supported  N 64 max evals None\n",
      "DEBUG:weightwatcher:LAYER TYPE: 1 16  layer type <class 'weightwatcher.weightwatcher.PyStateDictLayer'>\n",
      "DEBUG:weightwatcher:weights shape : (64, 3, 3, 3)  max size None\n",
      "DEBUG:weightwatcher:conv2D_Wmats\n",
      "DEBUG:weightwatcher:channels Last tensor shape: 128x64 (NxM), 3x3 (i,j)\n",
      "DEBUG:weightwatcher:get_conv2D_Wmats N=128 M=64 rf= 9 channels= 4\n",
      "DEBUG:weightwatcher:layer_supported  N 128 max evals None\n",
      "DEBUG:weightwatcher:LAYER TYPE: 2 16  layer type <class 'weightwatcher.weightwatcher.PyStateDictLayer'>\n",
      "DEBUG:weightwatcher:weights shape : (128, 64, 3, 3)  max size None\n",
      "DEBUG:weightwatcher:conv2D_Wmats\n",
      "DEBUG:weightwatcher:channels Last tensor shape: 256x128 (NxM), 3x3 (i,j)\n",
      "DEBUG:weightwatcher:get_conv2D_Wmats N=256 M=128 rf= 9 channels= 4\n",
      "DEBUG:weightwatcher:layer_supported  N 256 max evals None\n",
      "DEBUG:weightwatcher:LAYER TYPE: 3 16  layer type <class 'weightwatcher.weightwatcher.PyStateDictLayer'>\n",
      "DEBUG:weightwatcher:weights shape : (256, 128, 3, 3)  max size None\n",
      "DEBUG:weightwatcher:conv2D_Wmats\n",
      "DEBUG:weightwatcher:channels Last tensor shape: 256x256 (NxM), 3x3 (i,j)\n",
      "DEBUG:weightwatcher:get_conv2D_Wmats N=256 M=256 rf= 9 channels= 4\n",
      "DEBUG:weightwatcher:layer_supported  N 256 max evals None\n",
      "DEBUG:weightwatcher:LAYER TYPE: 4 16  layer type <class 'weightwatcher.weightwatcher.PyStateDictLayer'>\n",
      "DEBUG:weightwatcher:weights shape : (256, 256, 3, 3)  max size None\n",
      "DEBUG:weightwatcher:conv2D_Wmats\n",
      "DEBUG:weightwatcher:channels Last tensor shape: 512x256 (NxM), 3x3 (i,j)\n",
      "DEBUG:weightwatcher:get_conv2D_Wmats N=512 M=256 rf= 9 channels= 4\n",
      "DEBUG:weightwatcher:layer_supported  N 512 max evals None\n",
      "DEBUG:weightwatcher:LAYER TYPE: 5 16  layer type <class 'weightwatcher.weightwatcher.PyStateDictLayer'>\n",
      "DEBUG:weightwatcher:weights shape : (512, 256, 3, 3)  max size None\n",
      "DEBUG:weightwatcher:conv2D_Wmats\n",
      "DEBUG:weightwatcher:channels Last tensor shape: 512x512 (NxM), 3x3 (i,j)\n",
      "DEBUG:weightwatcher:get_conv2D_Wmats N=512 M=512 rf= 9 channels= 4\n",
      "DEBUG:weightwatcher:layer_supported  N 512 max evals None\n",
      "DEBUG:weightwatcher:LAYER TYPE: 6 16  layer type <class 'weightwatcher.weightwatcher.PyStateDictLayer'>\n",
      "DEBUG:weightwatcher:weights shape : (512, 512, 3, 3)  max size None\n",
      "DEBUG:weightwatcher:conv2D_Wmats\n",
      "DEBUG:weightwatcher:channels Last tensor shape: 512x512 (NxM), 3x3 (i,j)\n",
      "DEBUG:weightwatcher:get_conv2D_Wmats N=512 M=512 rf= 9 channels= 4\n",
      "DEBUG:weightwatcher:layer_supported  N 512 max evals None\n",
      "DEBUG:weightwatcher:LAYER TYPE: 7 16  layer type <class 'weightwatcher.weightwatcher.PyStateDictLayer'>\n",
      "DEBUG:weightwatcher:weights shape : (512, 512, 3, 3)  max size None\n",
      "DEBUG:weightwatcher:conv2D_Wmats\n",
      "DEBUG:weightwatcher:channels Last tensor shape: 512x512 (NxM), 3x3 (i,j)\n",
      "DEBUG:weightwatcher:get_conv2D_Wmats N=512 M=512 rf= 9 channels= 4\n",
      "DEBUG:weightwatcher:layer_supported  N 512 max evals None\n",
      "DEBUG:weightwatcher:LAYER TYPE: 8 16  layer type <class 'weightwatcher.weightwatcher.PyStateDictLayer'>\n",
      "DEBUG:weightwatcher:weights shape : (512, 512, 3, 3)  max size None\n",
      "DEBUG:weightwatcher:layer_supported  N 25088 max evals None\n",
      "DEBUG:weightwatcher:LAYER TYPE: 9 4  layer type <class 'weightwatcher.weightwatcher.PyStateDictLayer'>\n",
      "DEBUG:weightwatcher:weights shape : (4096, 25088)  max size None\n",
      "DEBUG:weightwatcher:layer_supported  N 4096 max evals None\n",
      "DEBUG:weightwatcher:LAYER TYPE: 10 4  layer type <class 'weightwatcher.weightwatcher.PyStateDictLayer'>\n",
      "DEBUG:weightwatcher:weights shape : (4096, 4096)  max size None\n",
      "DEBUG:weightwatcher:layer_supported  N 4096 max evals None\n",
      "DEBUG:weightwatcher:LAYER TYPE: 11 4  layer type <class 'weightwatcher.weightwatcher.PyStateDictLayer'>\n",
      "DEBUG:weightwatcher:weights shape : (1000, 4096)  max size None\n"
     ]
    },
    {
     "data": {
      "text/html": [
       "<div>\n",
       "<style scoped>\n",
       "    .dataframe tbody tr th:only-of-type {\n",
       "        vertical-align: middle;\n",
       "    }\n",
       "\n",
       "    .dataframe tbody tr th {\n",
       "        vertical-align: top;\n",
       "    }\n",
       "\n",
       "    .dataframe thead th {\n",
       "        text-align: right;\n",
       "    }\n",
       "</style>\n",
       "<table border=\"1\" class=\"dataframe\">\n",
       "  <thead>\n",
       "    <tr style=\"text-align: right;\">\n",
       "      <th></th>\n",
       "      <th>layer_id</th>\n",
       "      <th>name</th>\n",
       "      <th>M</th>\n",
       "      <th>N</th>\n",
       "      <th>Q</th>\n",
       "      <th>layer_type</th>\n",
       "      <th>longname</th>\n",
       "      <th>num_evals</th>\n",
       "      <th>rf</th>\n",
       "    </tr>\n",
       "  </thead>\n",
       "  <tbody>\n",
       "    <tr>\n",
       "      <th>0</th>\n",
       "      <td>1</td>\n",
       "      <td>features.0</td>\n",
       "      <td>3</td>\n",
       "      <td>64</td>\n",
       "      <td>21.333333</td>\n",
       "      <td>LAYER_TYPE.CONV2D</td>\n",
       "      <td>features.0</td>\n",
       "      <td>27</td>\n",
       "      <td>9</td>\n",
       "    </tr>\n",
       "    <tr>\n",
       "      <th>1</th>\n",
       "      <td>2</td>\n",
       "      <td>features.3</td>\n",
       "      <td>64</td>\n",
       "      <td>128</td>\n",
       "      <td>2.000000</td>\n",
       "      <td>LAYER_TYPE.CONV2D</td>\n",
       "      <td>features.3</td>\n",
       "      <td>576</td>\n",
       "      <td>9</td>\n",
       "    </tr>\n",
       "    <tr>\n",
       "      <th>2</th>\n",
       "      <td>3</td>\n",
       "      <td>features.6</td>\n",
       "      <td>128</td>\n",
       "      <td>256</td>\n",
       "      <td>2.000000</td>\n",
       "      <td>LAYER_TYPE.CONV2D</td>\n",
       "      <td>features.6</td>\n",
       "      <td>1152</td>\n",
       "      <td>9</td>\n",
       "    </tr>\n",
       "    <tr>\n",
       "      <th>3</th>\n",
       "      <td>4</td>\n",
       "      <td>features.8</td>\n",
       "      <td>256</td>\n",
       "      <td>256</td>\n",
       "      <td>1.000000</td>\n",
       "      <td>LAYER_TYPE.CONV2D</td>\n",
       "      <td>features.8</td>\n",
       "      <td>2304</td>\n",
       "      <td>9</td>\n",
       "    </tr>\n",
       "    <tr>\n",
       "      <th>4</th>\n",
       "      <td>5</td>\n",
       "      <td>features.11</td>\n",
       "      <td>256</td>\n",
       "      <td>512</td>\n",
       "      <td>2.000000</td>\n",
       "      <td>LAYER_TYPE.CONV2D</td>\n",
       "      <td>features.11</td>\n",
       "      <td>2304</td>\n",
       "      <td>9</td>\n",
       "    </tr>\n",
       "    <tr>\n",
       "      <th>5</th>\n",
       "      <td>6</td>\n",
       "      <td>features.13</td>\n",
       "      <td>512</td>\n",
       "      <td>512</td>\n",
       "      <td>1.000000</td>\n",
       "      <td>LAYER_TYPE.CONV2D</td>\n",
       "      <td>features.13</td>\n",
       "      <td>4608</td>\n",
       "      <td>9</td>\n",
       "    </tr>\n",
       "    <tr>\n",
       "      <th>6</th>\n",
       "      <td>7</td>\n",
       "      <td>features.16</td>\n",
       "      <td>512</td>\n",
       "      <td>512</td>\n",
       "      <td>1.000000</td>\n",
       "      <td>LAYER_TYPE.CONV2D</td>\n",
       "      <td>features.16</td>\n",
       "      <td>4608</td>\n",
       "      <td>9</td>\n",
       "    </tr>\n",
       "    <tr>\n",
       "      <th>7</th>\n",
       "      <td>8</td>\n",
       "      <td>features.18</td>\n",
       "      <td>512</td>\n",
       "      <td>512</td>\n",
       "      <td>1.000000</td>\n",
       "      <td>LAYER_TYPE.CONV2D</td>\n",
       "      <td>features.18</td>\n",
       "      <td>4608</td>\n",
       "      <td>9</td>\n",
       "    </tr>\n",
       "    <tr>\n",
       "      <th>8</th>\n",
       "      <td>9</td>\n",
       "      <td>classifier.0</td>\n",
       "      <td>4096</td>\n",
       "      <td>25088</td>\n",
       "      <td>6.125000</td>\n",
       "      <td>LAYER_TYPE.DENSE</td>\n",
       "      <td>classifier.0</td>\n",
       "      <td>4096</td>\n",
       "      <td>1</td>\n",
       "    </tr>\n",
       "    <tr>\n",
       "      <th>9</th>\n",
       "      <td>10</td>\n",
       "      <td>classifier.3</td>\n",
       "      <td>4096</td>\n",
       "      <td>4096</td>\n",
       "      <td>1.000000</td>\n",
       "      <td>LAYER_TYPE.DENSE</td>\n",
       "      <td>classifier.3</td>\n",
       "      <td>4096</td>\n",
       "      <td>1</td>\n",
       "    </tr>\n",
       "    <tr>\n",
       "      <th>10</th>\n",
       "      <td>11</td>\n",
       "      <td>classifier.6</td>\n",
       "      <td>1000</td>\n",
       "      <td>4096</td>\n",
       "      <td>4.096000</td>\n",
       "      <td>LAYER_TYPE.DENSE</td>\n",
       "      <td>classifier.6</td>\n",
       "      <td>1000</td>\n",
       "      <td>1</td>\n",
       "    </tr>\n",
       "  </tbody>\n",
       "</table>\n",
       "</div>"
      ],
      "text/plain": [
       "    layer_id          name     M      N          Q         layer_type  \\\n",
       "0          1    features.0     3     64  21.333333  LAYER_TYPE.CONV2D   \n",
       "1          2    features.3    64    128   2.000000  LAYER_TYPE.CONV2D   \n",
       "2          3    features.6   128    256   2.000000  LAYER_TYPE.CONV2D   \n",
       "3          4    features.8   256    256   1.000000  LAYER_TYPE.CONV2D   \n",
       "4          5   features.11   256    512   2.000000  LAYER_TYPE.CONV2D   \n",
       "5          6   features.13   512    512   1.000000  LAYER_TYPE.CONV2D   \n",
       "6          7   features.16   512    512   1.000000  LAYER_TYPE.CONV2D   \n",
       "7          8   features.18   512    512   1.000000  LAYER_TYPE.CONV2D   \n",
       "8          9  classifier.0  4096  25088   6.125000   LAYER_TYPE.DENSE   \n",
       "9         10  classifier.3  4096   4096   1.000000   LAYER_TYPE.DENSE   \n",
       "10        11  classifier.6  1000   4096   4.096000   LAYER_TYPE.DENSE   \n",
       "\n",
       "        longname  num_evals  rf  \n",
       "0     features.0         27   9  \n",
       "1     features.3        576   9  \n",
       "2     features.6       1152   9  \n",
       "3     features.8       2304   9  \n",
       "4    features.11       2304   9  \n",
       "5    features.13       4608   9  \n",
       "6    features.16       4608   9  \n",
       "7    features.18       4608   9  \n",
       "8   classifier.0       4096   1  \n",
       "9   classifier.3       4096   1  \n",
       "10  classifier.6       1000   1  "
      ]
     },
     "execution_count": 7,
     "metadata": {},
     "output_type": "execute_result"
    }
   ],
   "source": [
    "details =  watcher.describe(model=model)\n",
    "details"
   ]
  },
  {
   "cell_type": "code",
   "execution_count": null,
   "metadata": {},
   "outputs": [],
   "source": []
  },
  {
   "cell_type": "code",
   "execution_count": 8,
   "metadata": {},
   "outputs": [
    {
     "data": {
      "text/plain": [
       "10"
      ]
     },
     "execution_count": 8,
     "metadata": {},
     "output_type": "execute_result"
    }
   ],
   "source": [
    "fc2_layer = details.layer_id.to_numpy()[-2]\n",
    "fc2_layer"
   ]
  },
  {
   "cell_type": "code",
   "execution_count": 9,
   "metadata": {},
   "outputs": [
    {
     "name": "stderr",
     "output_type": "stream",
     "text": [
      "INFO:weightwatcher:params {'glorot_fix': False, 'normalize': False, 'conv2d_norm': True, 'randomize': True, 'savedir': 'ww-img', 'savefig': 'ww-img', 'rescale': True, 'plot': False, 'deltaEs': False, 'intra': False, 'channels': None, 'conv2d_fft': False, 'ww2x': False, 'vectors': True, 'smooth': None, 'stacked': False, 'svd_method': 'accurate', 'fix_fingers': None, 'fit': 'power_law', 'sparsify': True, 'detX': True, 'mp_fit': False, 'min_evals': 0, 'max_evals': None, 'max_N': 10, 'tolerance': 1e-06, 'layer_ids_start': 0, 'add_biases': False, 'glorot_fit': False, 'layers': []}\n",
      "INFO:weightwatcher:Saving all images to ww-img\n",
      "INFO:weightwatcher:params {'glorot_fix': False, 'normalize': False, 'conv2d_norm': True, 'randomize': True, 'savedir': 'ww-img', 'savefig': 'ww-img', 'rescale': True, 'plot': False, 'deltaEs': False, 'intra': False, 'channels': None, 'conv2d_fft': False, 'ww2x': False, 'vectors': True, 'smooth': None, 'stacked': False, 'svd_method': 'accurate', 'fix_fingers': None, 'fit': 'power_law', 'sparsify': True, 'detX': True, 'mp_fit': False, 'min_evals': 0, 'max_evals': None, 'max_N': 10, 'tolerance': 1e-06, 'layer_ids_start': 0, 'add_biases': False, 'glorot_fit': False, 'layers': []}\n",
      "INFO:weightwatcher:Saving all images to ww-img\n",
      "INFO:weightwatcher:torch version 1.12.1\n",
      "INFO:weightwatcher:framework from model = 16\n",
      "DEBUG:weightwatcher:conv2D_Wmats\n",
      "DEBUG:weightwatcher:channels Last tensor shape: 64x3 (NxM), 3x3 (i,j)\n",
      "DEBUG:weightwatcher:get_conv2D_Wmats N=64 M=3 rf= 9 channels= 4\n",
      "DEBUG:weightwatcher:layer_supported  N 64 max evals None\n",
      "DEBUG:weightwatcher:LAYER TYPE: 1 16  layer type <class 'weightwatcher.weightwatcher.PyStateDictLayer'>\n",
      "DEBUG:weightwatcher:weights shape : (64, 3, 3, 3)  max size None\n",
      "DEBUG:weightwatcher:conv2D_Wmats\n",
      "DEBUG:weightwatcher:channels Last tensor shape: 128x64 (NxM), 3x3 (i,j)\n",
      "DEBUG:weightwatcher:get_conv2D_Wmats N=128 M=64 rf= 9 channels= 4\n",
      "DEBUG:weightwatcher:layer_supported  N 128 max evals None\n",
      "DEBUG:weightwatcher:LAYER TYPE: 2 16  layer type <class 'weightwatcher.weightwatcher.PyStateDictLayer'>\n",
      "DEBUG:weightwatcher:weights shape : (128, 64, 3, 3)  max size None\n",
      "DEBUG:weightwatcher:conv2D_Wmats\n",
      "DEBUG:weightwatcher:channels Last tensor shape: 256x128 (NxM), 3x3 (i,j)\n",
      "DEBUG:weightwatcher:get_conv2D_Wmats N=256 M=128 rf= 9 channels= 4\n",
      "DEBUG:weightwatcher:layer_supported  N 256 max evals None\n",
      "DEBUG:weightwatcher:LAYER TYPE: 3 16  layer type <class 'weightwatcher.weightwatcher.PyStateDictLayer'>\n",
      "DEBUG:weightwatcher:weights shape : (256, 128, 3, 3)  max size None\n",
      "DEBUG:weightwatcher:conv2D_Wmats\n",
      "DEBUG:weightwatcher:channels Last tensor shape: 256x256 (NxM), 3x3 (i,j)\n",
      "DEBUG:weightwatcher:get_conv2D_Wmats N=256 M=256 rf= 9 channels= 4\n",
      "DEBUG:weightwatcher:layer_supported  N 256 max evals None\n",
      "DEBUG:weightwatcher:LAYER TYPE: 4 16  layer type <class 'weightwatcher.weightwatcher.PyStateDictLayer'>\n",
      "DEBUG:weightwatcher:weights shape : (256, 256, 3, 3)  max size None\n",
      "DEBUG:weightwatcher:conv2D_Wmats\n",
      "DEBUG:weightwatcher:channels Last tensor shape: 512x256 (NxM), 3x3 (i,j)\n",
      "DEBUG:weightwatcher:get_conv2D_Wmats N=512 M=256 rf= 9 channels= 4\n",
      "DEBUG:weightwatcher:layer_supported  N 512 max evals None\n",
      "DEBUG:weightwatcher:LAYER TYPE: 5 16  layer type <class 'weightwatcher.weightwatcher.PyStateDictLayer'>\n",
      "DEBUG:weightwatcher:weights shape : (512, 256, 3, 3)  max size None\n",
      "DEBUG:weightwatcher:conv2D_Wmats\n",
      "DEBUG:weightwatcher:channels Last tensor shape: 512x512 (NxM), 3x3 (i,j)\n",
      "DEBUG:weightwatcher:get_conv2D_Wmats N=512 M=512 rf= 9 channels= 4\n",
      "DEBUG:weightwatcher:layer_supported  N 512 max evals None\n",
      "DEBUG:weightwatcher:LAYER TYPE: 6 16  layer type <class 'weightwatcher.weightwatcher.PyStateDictLayer'>\n",
      "DEBUG:weightwatcher:weights shape : (512, 512, 3, 3)  max size None\n",
      "DEBUG:weightwatcher:conv2D_Wmats\n",
      "DEBUG:weightwatcher:channels Last tensor shape: 512x512 (NxM), 3x3 (i,j)\n",
      "DEBUG:weightwatcher:get_conv2D_Wmats N=512 M=512 rf= 9 channels= 4\n",
      "DEBUG:weightwatcher:layer_supported  N 512 max evals None\n",
      "DEBUG:weightwatcher:LAYER TYPE: 7 16  layer type <class 'weightwatcher.weightwatcher.PyStateDictLayer'>\n",
      "DEBUG:weightwatcher:weights shape : (512, 512, 3, 3)  max size None\n",
      "DEBUG:weightwatcher:conv2D_Wmats\n",
      "DEBUG:weightwatcher:channels Last tensor shape: 512x512 (NxM), 3x3 (i,j)\n",
      "DEBUG:weightwatcher:get_conv2D_Wmats N=512 M=512 rf= 9 channels= 4\n",
      "DEBUG:weightwatcher:layer_supported  N 512 max evals None\n",
      "DEBUG:weightwatcher:LAYER TYPE: 8 16  layer type <class 'weightwatcher.weightwatcher.PyStateDictLayer'>\n",
      "DEBUG:weightwatcher:weights shape : (512, 512, 3, 3)  max size None\n",
      "DEBUG:weightwatcher:layer_supported  N 25088 max evals None\n",
      "DEBUG:weightwatcher:LAYER TYPE: 9 4  layer type <class 'weightwatcher.weightwatcher.PyStateDictLayer'>\n",
      "DEBUG:weightwatcher:weights shape : (4096, 25088)  max size None\n",
      "DEBUG:weightwatcher:layer_supported  N 4096 max evals None\n",
      "DEBUG:weightwatcher:LAYER TYPE: 10 4  layer type <class 'weightwatcher.weightwatcher.PyStateDictLayer'>\n",
      "DEBUG:weightwatcher:weights shape : (4096, 4096)  max size None\n",
      "DEBUG:weightwatcher:layer_supported  N 4096 max evals None\n",
      "DEBUG:weightwatcher:LAYER TYPE: 11 4  layer type <class 'weightwatcher.weightwatcher.PyStateDictLayer'>\n",
      "DEBUG:weightwatcher:weights shape : (1000, 4096)  max size None\n",
      "INFO:weightwatcher:torch version 1.12.1\n",
      "INFO:weightwatcher:framework from model = 16\n",
      "INFO:weightwatcher:Filtering layer by id 10\n",
      "DEBUG:weightwatcher:conv2D_Wmats\n",
      "DEBUG:weightwatcher:channels Last tensor shape: 64x3 (NxM), 3x3 (i,j)\n",
      "DEBUG:weightwatcher:get_conv2D_Wmats N=64 M=3 rf= 9 channels= 4\n",
      "DEBUG:weightwatcher:skipping layer 1 features.0 by id\n",
      "DEBUG:weightwatcher:layer_supported  N 64 max evals 10000\n",
      "DEBUG:weightwatcher:Layer 1 features.0 is skipped\n",
      "DEBUG:weightwatcher:conv2D_Wmats\n",
      "DEBUG:weightwatcher:channels Last tensor shape: 128x64 (NxM), 3x3 (i,j)\n",
      "DEBUG:weightwatcher:get_conv2D_Wmats N=128 M=64 rf= 9 channels= 4\n",
      "DEBUG:weightwatcher:skipping layer 2 features.3 by id\n",
      "DEBUG:weightwatcher:layer_supported  N 128 max evals 10000\n",
      "DEBUG:weightwatcher:Layer 2 features.3 is skipped\n",
      "DEBUG:weightwatcher:conv2D_Wmats\n",
      "DEBUG:weightwatcher:channels Last tensor shape: 256x128 (NxM), 3x3 (i,j)\n",
      "DEBUG:weightwatcher:get_conv2D_Wmats N=256 M=128 rf= 9 channels= 4\n",
      "DEBUG:weightwatcher:skipping layer 3 features.6 by id\n",
      "DEBUG:weightwatcher:layer_supported  N 256 max evals 10000\n",
      "DEBUG:weightwatcher:Layer 3 features.6 is skipped\n",
      "DEBUG:weightwatcher:conv2D_Wmats\n",
      "DEBUG:weightwatcher:channels Last tensor shape: 256x256 (NxM), 3x3 (i,j)\n",
      "DEBUG:weightwatcher:get_conv2D_Wmats N=256 M=256 rf= 9 channels= 4\n",
      "DEBUG:weightwatcher:skipping layer 4 features.8 by id\n",
      "DEBUG:weightwatcher:layer_supported  N 256 max evals 10000\n",
      "DEBUG:weightwatcher:Layer 4 features.8 is skipped\n",
      "DEBUG:weightwatcher:conv2D_Wmats\n",
      "DEBUG:weightwatcher:channels Last tensor shape: 512x256 (NxM), 3x3 (i,j)\n",
      "DEBUG:weightwatcher:get_conv2D_Wmats N=512 M=256 rf= 9 channels= 4\n",
      "DEBUG:weightwatcher:skipping layer 5 features.11 by id\n",
      "DEBUG:weightwatcher:layer_supported  N 512 max evals 10000\n",
      "DEBUG:weightwatcher:Layer 5 features.11 is skipped\n",
      "DEBUG:weightwatcher:conv2D_Wmats\n",
      "DEBUG:weightwatcher:channels Last tensor shape: 512x512 (NxM), 3x3 (i,j)\n",
      "DEBUG:weightwatcher:get_conv2D_Wmats N=512 M=512 rf= 9 channels= 4\n",
      "DEBUG:weightwatcher:skipping layer 6 features.13 by id\n",
      "DEBUG:weightwatcher:layer_supported  N 512 max evals 10000\n",
      "DEBUG:weightwatcher:Layer 6 features.13 is skipped\n",
      "DEBUG:weightwatcher:conv2D_Wmats\n",
      "DEBUG:weightwatcher:channels Last tensor shape: 512x512 (NxM), 3x3 (i,j)\n",
      "DEBUG:weightwatcher:get_conv2D_Wmats N=512 M=512 rf= 9 channels= 4\n",
      "DEBUG:weightwatcher:skipping layer 7 features.16 by id\n",
      "DEBUG:weightwatcher:layer_supported  N 512 max evals 10000\n",
      "DEBUG:weightwatcher:Layer 7 features.16 is skipped\n",
      "DEBUG:weightwatcher:conv2D_Wmats\n",
      "DEBUG:weightwatcher:channels Last tensor shape: 512x512 (NxM), 3x3 (i,j)\n",
      "DEBUG:weightwatcher:get_conv2D_Wmats N=512 M=512 rf= 9 channels= 4\n",
      "DEBUG:weightwatcher:skipping layer 8 features.18 by id\n",
      "DEBUG:weightwatcher:layer_supported  N 512 max evals 10000\n",
      "DEBUG:weightwatcher:Layer 8 features.18 is skipped\n",
      "DEBUG:weightwatcher:skipping layer 9 classifier.0 by id\n",
      "DEBUG:weightwatcher:layer_supported  N 25088 max evals 10000\n",
      "DEBUG:weightwatcher:Layer 9 classifier.0 is skipped\n"
     ]
    },
    {
     "name": "stderr",
     "output_type": "stream",
     "text": [
      "DEBUG:weightwatcher:keeping layer 10 classifier.3 by id\n",
      "DEBUG:weightwatcher:layer_supported  N 4096 max evals 10000\n",
      "INFO:weightwatcher:Getting ESD for layer 10 ; ww_layer id = 10\n",
      "DEBUG:weightwatcher:apply ESD  on Layer 10 classifier.3 \n",
      "DEBUG:weightwatcher:running SVD on Layer 10 classifier.3 \n",
      "DEBUG:weightwatcher:params {'glorot_fix': False, 'normalize': False, 'conv2d_norm': True, 'randomize': True, 'savedir': 'ww-img', 'savefig': True, 'rescale': True, 'plot': False, 'deltaEs': False, 'intra': False, 'channels': None, 'conv2d_fft': False, 'ww2x': False, 'vectors': True, 'smooth': None, 'stacked': False, 'svd_method': 'accurate', 'fix_fingers': None, 'fit': 'power_law', 'sparsify': True, 'detX': True, 'mp_fit': False, 'min_evals': 50, 'max_evals': 10000, 'max_N': 10, 'tolerance': 1e-06, 'layer_ids_start': 0, 'add_biases': False} \n",
      "DEBUG:weightwatcher:Running accurate SVD:  W.shape=(4096, 4096)  n_comp = 4096\n"
     ]
    },
    {
     "name": "stdout",
     "output_type": "stream",
     "text": [
      "FILTER 10\n"
     ]
    },
    {
     "name": "stderr",
     "output_type": "stream",
     "text": [
      "DEBUG:weightwatcher:Found 4096 eiganvalues for 10 classifier.3\n"
     ]
    },
    {
     "data": {
      "text/plain": [
       "4096"
      ]
     },
     "execution_count": 9,
     "metadata": {},
     "output_type": "execute_result"
    }
   ],
   "source": [
    "esd_b4 = watcher.get_ESD(layer=fc2_layer)\n",
    "len(esd_b4)"
   ]
  },
  {
   "cell_type": "code",
   "execution_count": 10,
   "metadata": {},
   "outputs": [
    {
     "name": "stderr",
     "output_type": "stream",
     "text": [
      "INFO:weightwatcher: Smoothing method svd\n",
      "INFO:weightwatcher:params {'glorot_fix': False, 'normalize': False, 'conv2d_norm': True, 'randomize': True, 'savedir': 'ww-img', 'savefig': True, 'rescale': True, 'plot': False, 'deltaEs': False, 'intra': False, 'channels': None, 'conv2d_fft': False, 'ww2x': False, 'vectors': True, 'smooth': 'svd', 'stacked': False, 'svd_method': 'accurate', 'fix_fingers': None, 'fit': 'PL', 'sparsify': True, 'detX': True, 'mp_fit': False, 'min_evals': 50, 'max_evals': 10000, 'max_N': 10, 'tolerance': 1e-06, 'layer_ids_start': 0, 'add_biases': False, 'layers': [10]}\n",
      "INFO:weightwatcher:Saving all images to ww-img\n",
      "INFO:weightwatcher:params {'glorot_fix': False, 'normalize': False, 'conv2d_norm': True, 'randomize': True, 'savedir': 'ww-img', 'savefig': True, 'rescale': True, 'plot': False, 'deltaEs': False, 'intra': False, 'channels': None, 'conv2d_fft': False, 'ww2x': False, 'vectors': True, 'smooth': 'svd', 'stacked': False, 'svd_method': 'accurate', 'fix_fingers': None, 'fit': 'power_law', 'sparsify': True, 'detX': True, 'mp_fit': False, 'min_evals': 50, 'max_evals': 10000, 'max_N': 10, 'tolerance': 1e-06, 'layer_ids_start': 0, 'add_biases': False, 'layers': [10]}\n",
      "INFO:weightwatcher:Saving all images to ww-img\n",
      "INFO:weightwatcher:torch version 1.12.1\n",
      "INFO:weightwatcher:framework from model = 16\n",
      "INFO:weightwatcher:Filtering layer by id 10\n",
      "DEBUG:weightwatcher:conv2D_Wmats\n",
      "DEBUG:weightwatcher:channels Last tensor shape: 64x3 (NxM), 3x3 (i,j)\n",
      "DEBUG:weightwatcher:get_conv2D_Wmats N=64 M=3 rf= 9 channels= 4\n",
      "DEBUG:weightwatcher:skipping layer 1 features.0 by id\n",
      "DEBUG:weightwatcher:layer_supported  N 64 max evals 10000\n",
      "DEBUG:weightwatcher:Layer 1 features.0 is skipped\n",
      "DEBUG:weightwatcher:conv2D_Wmats\n",
      "DEBUG:weightwatcher:channels Last tensor shape: 128x64 (NxM), 3x3 (i,j)\n",
      "DEBUG:weightwatcher:get_conv2D_Wmats N=128 M=64 rf= 9 channels= 4\n",
      "DEBUG:weightwatcher:skipping layer 2 features.3 by id\n",
      "DEBUG:weightwatcher:layer_supported  N 128 max evals 10000\n",
      "DEBUG:weightwatcher:Layer 2 features.3 is skipped\n",
      "DEBUG:weightwatcher:conv2D_Wmats\n",
      "DEBUG:weightwatcher:channels Last tensor shape: 256x128 (NxM), 3x3 (i,j)\n",
      "DEBUG:weightwatcher:get_conv2D_Wmats N=256 M=128 rf= 9 channels= 4\n",
      "DEBUG:weightwatcher:skipping layer 3 features.6 by id\n",
      "DEBUG:weightwatcher:layer_supported  N 256 max evals 10000\n",
      "DEBUG:weightwatcher:Layer 3 features.6 is skipped\n",
      "DEBUG:weightwatcher:conv2D_Wmats\n",
      "DEBUG:weightwatcher:channels Last tensor shape: 256x256 (NxM), 3x3 (i,j)\n",
      "DEBUG:weightwatcher:get_conv2D_Wmats N=256 M=256 rf= 9 channels= 4\n",
      "DEBUG:weightwatcher:skipping layer 4 features.8 by id\n",
      "DEBUG:weightwatcher:layer_supported  N 256 max evals 10000\n",
      "DEBUG:weightwatcher:Layer 4 features.8 is skipped\n",
      "DEBUG:weightwatcher:conv2D_Wmats\n",
      "DEBUG:weightwatcher:channels Last tensor shape: 512x256 (NxM), 3x3 (i,j)\n",
      "DEBUG:weightwatcher:get_conv2D_Wmats N=512 M=256 rf= 9 channels= 4\n",
      "DEBUG:weightwatcher:skipping layer 5 features.11 by id\n",
      "DEBUG:weightwatcher:layer_supported  N 512 max evals 10000\n",
      "DEBUG:weightwatcher:Layer 5 features.11 is skipped\n",
      "DEBUG:weightwatcher:conv2D_Wmats\n",
      "DEBUG:weightwatcher:channels Last tensor shape: 512x512 (NxM), 3x3 (i,j)\n",
      "DEBUG:weightwatcher:get_conv2D_Wmats N=512 M=512 rf= 9 channels= 4\n",
      "DEBUG:weightwatcher:skipping layer 6 features.13 by id\n",
      "DEBUG:weightwatcher:layer_supported  N 512 max evals 10000\n",
      "DEBUG:weightwatcher:Layer 6 features.13 is skipped\n",
      "DEBUG:weightwatcher:conv2D_Wmats\n",
      "DEBUG:weightwatcher:channels Last tensor shape: 512x512 (NxM), 3x3 (i,j)\n",
      "DEBUG:weightwatcher:get_conv2D_Wmats N=512 M=512 rf= 9 channels= 4\n",
      "DEBUG:weightwatcher:skipping layer 7 features.16 by id\n",
      "DEBUG:weightwatcher:layer_supported  N 512 max evals 10000\n",
      "DEBUG:weightwatcher:Layer 7 features.16 is skipped\n",
      "DEBUG:weightwatcher:conv2D_Wmats\n",
      "DEBUG:weightwatcher:channels Last tensor shape: 512x512 (NxM), 3x3 (i,j)\n",
      "DEBUG:weightwatcher:get_conv2D_Wmats N=512 M=512 rf= 9 channels= 4\n",
      "DEBUG:weightwatcher:skipping layer 8 features.18 by id\n",
      "DEBUG:weightwatcher:layer_supported  N 512 max evals 10000\n",
      "DEBUG:weightwatcher:Layer 8 features.18 is skipped\n",
      "DEBUG:weightwatcher:skipping layer 9 classifier.0 by id\n",
      "DEBUG:weightwatcher:layer_supported  N 25088 max evals 10000\n",
      "DEBUG:weightwatcher:Layer 9 classifier.0 is skipped\n",
      "DEBUG:weightwatcher:keeping layer 10 classifier.3 by id\n",
      "DEBUG:weightwatcher:layer_supported  N 4096 max evals 10000\n",
      "INFO:weightwatcher:LAYER: 10 4  : <class 'weightwatcher.weightwatcher.PyStateDictLayer'>\n",
      "INFO:weightwatcher:apply truncated SVD on Layer 10 classifier.3, with nsmooth=819,  keeping ncomp=819 out of 4096. of the singular vectors\n",
      "INFO:weightwatcher:LAYER TYPE  4 out of 4 8 64 \n",
      "DEBUG:weightwatcher:Keeping top 819 singular values\n"
     ]
    },
    {
     "name": "stdout",
     "output_type": "stream",
     "text": [
      "FILTER 10\n"
     ]
    },
    {
     "name": "stderr",
     "output_type": "stream",
     "text": [
      "DEBUG:weightwatcher:smoothed W (4096, 4096) -> (4096, 4096) n_comp=819\n",
      "DEBUG:weightwatcher:skipping layer 11 classifier.6 by id\n",
      "DEBUG:weightwatcher:layer_supported  N 4096 max evals 10000\n",
      "DEBUG:weightwatcher:Layer 11 classifier.6 is skipped\n",
      "INFO:weightwatcher:Returning smoothed model\n"
     ]
    }
   ],
   "source": [
    "watcher.SVDSmoothing(layers=[fc2_layer])"
   ]
  },
  {
   "cell_type": "code",
   "execution_count": 11,
   "metadata": {},
   "outputs": [
    {
     "name": "stderr",
     "output_type": "stream",
     "text": [
      "INFO:weightwatcher:params {'glorot_fix': False, 'normalize': False, 'conv2d_norm': True, 'randomize': True, 'savedir': 'ww-img', 'savefig': 'ww-img', 'rescale': True, 'plot': False, 'deltaEs': False, 'intra': False, 'channels': None, 'conv2d_fft': False, 'ww2x': False, 'vectors': True, 'smooth': None, 'stacked': False, 'svd_method': 'accurate', 'fix_fingers': None, 'fit': 'power_law', 'sparsify': True, 'detX': True, 'mp_fit': False, 'min_evals': 0, 'max_evals': None, 'max_N': 10, 'tolerance': 1e-06, 'layer_ids_start': 0, 'add_biases': False, 'glorot_fit': False, 'layers': []}\n",
      "INFO:weightwatcher:Saving all images to ww-img\n",
      "INFO:weightwatcher:params {'glorot_fix': False, 'normalize': False, 'conv2d_norm': True, 'randomize': True, 'savedir': 'ww-img', 'savefig': 'ww-img', 'rescale': True, 'plot': False, 'deltaEs': False, 'intra': False, 'channels': None, 'conv2d_fft': False, 'ww2x': False, 'vectors': True, 'smooth': None, 'stacked': False, 'svd_method': 'accurate', 'fix_fingers': None, 'fit': 'power_law', 'sparsify': True, 'detX': True, 'mp_fit': False, 'min_evals': 0, 'max_evals': None, 'max_N': 10, 'tolerance': 1e-06, 'layer_ids_start': 0, 'add_biases': False, 'glorot_fit': False, 'layers': []}\n",
      "INFO:weightwatcher:Saving all images to ww-img\n",
      "INFO:weightwatcher:torch version 1.12.1\n",
      "INFO:weightwatcher:framework from model = 16\n",
      "DEBUG:weightwatcher:conv2D_Wmats\n",
      "DEBUG:weightwatcher:channels Last tensor shape: 64x3 (NxM), 3x3 (i,j)\n",
      "DEBUG:weightwatcher:get_conv2D_Wmats N=64 M=3 rf= 9 channels= 4\n",
      "DEBUG:weightwatcher:layer_supported  N 64 max evals None\n",
      "DEBUG:weightwatcher:LAYER TYPE: 1 16  layer type <class 'weightwatcher.weightwatcher.PyStateDictLayer'>\n",
      "DEBUG:weightwatcher:weights shape : (64, 3, 3, 3)  max size None\n",
      "DEBUG:weightwatcher:conv2D_Wmats\n",
      "DEBUG:weightwatcher:channels Last tensor shape: 128x64 (NxM), 3x3 (i,j)\n",
      "DEBUG:weightwatcher:get_conv2D_Wmats N=128 M=64 rf= 9 channels= 4\n",
      "DEBUG:weightwatcher:layer_supported  N 128 max evals None\n",
      "DEBUG:weightwatcher:LAYER TYPE: 2 16  layer type <class 'weightwatcher.weightwatcher.PyStateDictLayer'>\n",
      "DEBUG:weightwatcher:weights shape : (128, 64, 3, 3)  max size None\n",
      "DEBUG:weightwatcher:conv2D_Wmats\n",
      "DEBUG:weightwatcher:channels Last tensor shape: 256x128 (NxM), 3x3 (i,j)\n",
      "DEBUG:weightwatcher:get_conv2D_Wmats N=256 M=128 rf= 9 channels= 4\n",
      "DEBUG:weightwatcher:layer_supported  N 256 max evals None\n",
      "DEBUG:weightwatcher:LAYER TYPE: 3 16  layer type <class 'weightwatcher.weightwatcher.PyStateDictLayer'>\n",
      "DEBUG:weightwatcher:weights shape : (256, 128, 3, 3)  max size None\n",
      "DEBUG:weightwatcher:conv2D_Wmats\n",
      "DEBUG:weightwatcher:channels Last tensor shape: 256x256 (NxM), 3x3 (i,j)\n",
      "DEBUG:weightwatcher:get_conv2D_Wmats N=256 M=256 rf= 9 channels= 4\n",
      "DEBUG:weightwatcher:layer_supported  N 256 max evals None\n",
      "DEBUG:weightwatcher:LAYER TYPE: 4 16  layer type <class 'weightwatcher.weightwatcher.PyStateDictLayer'>\n",
      "DEBUG:weightwatcher:weights shape : (256, 256, 3, 3)  max size None\n",
      "DEBUG:weightwatcher:conv2D_Wmats\n",
      "DEBUG:weightwatcher:channels Last tensor shape: 512x256 (NxM), 3x3 (i,j)\n",
      "DEBUG:weightwatcher:get_conv2D_Wmats N=512 M=256 rf= 9 channels= 4\n",
      "DEBUG:weightwatcher:layer_supported  N 512 max evals None\n",
      "DEBUG:weightwatcher:LAYER TYPE: 5 16  layer type <class 'weightwatcher.weightwatcher.PyStateDictLayer'>\n",
      "DEBUG:weightwatcher:weights shape : (512, 256, 3, 3)  max size None\n",
      "DEBUG:weightwatcher:conv2D_Wmats\n",
      "DEBUG:weightwatcher:channels Last tensor shape: 512x512 (NxM), 3x3 (i,j)\n",
      "DEBUG:weightwatcher:get_conv2D_Wmats N=512 M=512 rf= 9 channels= 4\n",
      "DEBUG:weightwatcher:layer_supported  N 512 max evals None\n",
      "DEBUG:weightwatcher:LAYER TYPE: 6 16  layer type <class 'weightwatcher.weightwatcher.PyStateDictLayer'>\n",
      "DEBUG:weightwatcher:weights shape : (512, 512, 3, 3)  max size None\n",
      "DEBUG:weightwatcher:conv2D_Wmats\n",
      "DEBUG:weightwatcher:channels Last tensor shape: 512x512 (NxM), 3x3 (i,j)\n",
      "DEBUG:weightwatcher:get_conv2D_Wmats N=512 M=512 rf= 9 channels= 4\n",
      "DEBUG:weightwatcher:layer_supported  N 512 max evals None\n",
      "DEBUG:weightwatcher:LAYER TYPE: 7 16  layer type <class 'weightwatcher.weightwatcher.PyStateDictLayer'>\n",
      "DEBUG:weightwatcher:weights shape : (512, 512, 3, 3)  max size None\n",
      "DEBUG:weightwatcher:conv2D_Wmats\n",
      "DEBUG:weightwatcher:channels Last tensor shape: 512x512 (NxM), 3x3 (i,j)\n",
      "DEBUG:weightwatcher:get_conv2D_Wmats N=512 M=512 rf= 9 channels= 4\n",
      "DEBUG:weightwatcher:layer_supported  N 512 max evals None\n",
      "DEBUG:weightwatcher:LAYER TYPE: 8 16  layer type <class 'weightwatcher.weightwatcher.PyStateDictLayer'>\n",
      "DEBUG:weightwatcher:weights shape : (512, 512, 3, 3)  max size None\n",
      "DEBUG:weightwatcher:layer_supported  N 25088 max evals None\n",
      "DEBUG:weightwatcher:LAYER TYPE: 9 4  layer type <class 'weightwatcher.weightwatcher.PyStateDictLayer'>\n",
      "DEBUG:weightwatcher:weights shape : (4096, 25088)  max size None\n",
      "DEBUG:weightwatcher:layer_supported  N 4096 max evals None\n",
      "DEBUG:weightwatcher:LAYER TYPE: 10 4  layer type <class 'weightwatcher.weightwatcher.PyStateDictLayer'>\n",
      "DEBUG:weightwatcher:weights shape : (4096, 4096)  max size None\n",
      "DEBUG:weightwatcher:layer_supported  N 4096 max evals None\n",
      "DEBUG:weightwatcher:LAYER TYPE: 11 4  layer type <class 'weightwatcher.weightwatcher.PyStateDictLayer'>\n",
      "DEBUG:weightwatcher:weights shape : (1000, 4096)  max size None\n",
      "INFO:weightwatcher:torch version 1.12.1\n",
      "INFO:weightwatcher:framework from model = 16\n",
      "INFO:weightwatcher:Filtering layer by id 10\n",
      "DEBUG:weightwatcher:conv2D_Wmats\n",
      "DEBUG:weightwatcher:channels Last tensor shape: 64x3 (NxM), 3x3 (i,j)\n",
      "DEBUG:weightwatcher:get_conv2D_Wmats N=64 M=3 rf= 9 channels= 4\n",
      "DEBUG:weightwatcher:skipping layer 1 features.0 by id\n",
      "DEBUG:weightwatcher:layer_supported  N 64 max evals 10000\n",
      "DEBUG:weightwatcher:Layer 1 features.0 is skipped\n",
      "DEBUG:weightwatcher:conv2D_Wmats\n",
      "DEBUG:weightwatcher:channels Last tensor shape: 128x64 (NxM), 3x3 (i,j)\n",
      "DEBUG:weightwatcher:get_conv2D_Wmats N=128 M=64 rf= 9 channels= 4\n",
      "DEBUG:weightwatcher:skipping layer 2 features.3 by id\n",
      "DEBUG:weightwatcher:layer_supported  N 128 max evals 10000\n",
      "DEBUG:weightwatcher:Layer 2 features.3 is skipped\n",
      "DEBUG:weightwatcher:conv2D_Wmats\n",
      "DEBUG:weightwatcher:channels Last tensor shape: 256x128 (NxM), 3x3 (i,j)\n",
      "DEBUG:weightwatcher:get_conv2D_Wmats N=256 M=128 rf= 9 channels= 4\n",
      "DEBUG:weightwatcher:skipping layer 3 features.6 by id\n",
      "DEBUG:weightwatcher:layer_supported  N 256 max evals 10000\n",
      "DEBUG:weightwatcher:Layer 3 features.6 is skipped\n",
      "DEBUG:weightwatcher:conv2D_Wmats\n",
      "DEBUG:weightwatcher:channels Last tensor shape: 256x256 (NxM), 3x3 (i,j)\n",
      "DEBUG:weightwatcher:get_conv2D_Wmats N=256 M=256 rf= 9 channels= 4\n",
      "DEBUG:weightwatcher:skipping layer 4 features.8 by id\n",
      "DEBUG:weightwatcher:layer_supported  N 256 max evals 10000\n",
      "DEBUG:weightwatcher:Layer 4 features.8 is skipped\n",
      "DEBUG:weightwatcher:conv2D_Wmats\n",
      "DEBUG:weightwatcher:channels Last tensor shape: 512x256 (NxM), 3x3 (i,j)\n",
      "DEBUG:weightwatcher:get_conv2D_Wmats N=512 M=256 rf= 9 channels= 4\n",
      "DEBUG:weightwatcher:skipping layer 5 features.11 by id\n",
      "DEBUG:weightwatcher:layer_supported  N 512 max evals 10000\n",
      "DEBUG:weightwatcher:Layer 5 features.11 is skipped\n",
      "DEBUG:weightwatcher:conv2D_Wmats\n",
      "DEBUG:weightwatcher:channels Last tensor shape: 512x512 (NxM), 3x3 (i,j)\n",
      "DEBUG:weightwatcher:get_conv2D_Wmats N=512 M=512 rf= 9 channels= 4\n",
      "DEBUG:weightwatcher:skipping layer 6 features.13 by id\n",
      "DEBUG:weightwatcher:layer_supported  N 512 max evals 10000\n",
      "DEBUG:weightwatcher:Layer 6 features.13 is skipped\n",
      "DEBUG:weightwatcher:conv2D_Wmats\n",
      "DEBUG:weightwatcher:channels Last tensor shape: 512x512 (NxM), 3x3 (i,j)\n",
      "DEBUG:weightwatcher:get_conv2D_Wmats N=512 M=512 rf= 9 channels= 4\n",
      "DEBUG:weightwatcher:skipping layer 7 features.16 by id\n",
      "DEBUG:weightwatcher:layer_supported  N 512 max evals 10000\n",
      "DEBUG:weightwatcher:Layer 7 features.16 is skipped\n",
      "DEBUG:weightwatcher:conv2D_Wmats\n",
      "DEBUG:weightwatcher:channels Last tensor shape: 512x512 (NxM), 3x3 (i,j)\n",
      "DEBUG:weightwatcher:get_conv2D_Wmats N=512 M=512 rf= 9 channels= 4\n",
      "DEBUG:weightwatcher:skipping layer 8 features.18 by id\n",
      "DEBUG:weightwatcher:layer_supported  N 512 max evals 10000\n",
      "DEBUG:weightwatcher:Layer 8 features.18 is skipped\n",
      "DEBUG:weightwatcher:skipping layer 9 classifier.0 by id\n",
      "DEBUG:weightwatcher:layer_supported  N 25088 max evals 10000\n",
      "DEBUG:weightwatcher:Layer 9 classifier.0 is skipped\n"
     ]
    },
    {
     "name": "stderr",
     "output_type": "stream",
     "text": [
      "DEBUG:weightwatcher:keeping layer 10 classifier.3 by id\n",
      "DEBUG:weightwatcher:layer_supported  N 4096 max evals 10000\n",
      "INFO:weightwatcher:Getting ESD for layer 10 ; ww_layer id = 10\n",
      "DEBUG:weightwatcher:apply ESD  on Layer 10 classifier.3 \n",
      "DEBUG:weightwatcher:running SVD on Layer 10 classifier.3 \n",
      "DEBUG:weightwatcher:params {'glorot_fix': False, 'normalize': False, 'conv2d_norm': True, 'randomize': True, 'savedir': 'ww-img', 'savefig': True, 'rescale': True, 'plot': False, 'deltaEs': False, 'intra': False, 'channels': None, 'conv2d_fft': False, 'ww2x': False, 'vectors': True, 'smooth': None, 'stacked': False, 'svd_method': 'accurate', 'fix_fingers': None, 'fit': 'power_law', 'sparsify': True, 'detX': True, 'mp_fit': False, 'min_evals': 50, 'max_evals': 10000, 'max_N': 10, 'tolerance': 1e-06, 'layer_ids_start': 0, 'add_biases': False} \n",
      "DEBUG:weightwatcher:Running accurate SVD:  W.shape=(4096, 4096)  n_comp = 4096\n"
     ]
    },
    {
     "name": "stdout",
     "output_type": "stream",
     "text": [
      "FILTER 10\n"
     ]
    },
    {
     "name": "stderr",
     "output_type": "stream",
     "text": [
      "DEBUG:weightwatcher:Found 4096 eiganvalues for 10 classifier.3\n"
     ]
    }
   ],
   "source": [
    "esd_aftr = watcher.get_ESD(layer=fc2_layer) "
   ]
  },
  {
   "cell_type": "code",
   "execution_count": 12,
   "metadata": {},
   "outputs": [
    {
     "data": {
      "text/plain": [
       "4096"
      ]
     },
     "execution_count": 12,
     "metadata": {},
     "output_type": "execute_result"
    }
   ],
   "source": [
    "len(esd_b4)"
   ]
  },
  {
   "cell_type": "code",
   "execution_count": 13,
   "metadata": {},
   "outputs": [
    {
     "data": {
      "text/plain": [
       "(4096, 819)"
      ]
     },
     "execution_count": 13,
     "metadata": {},
     "output_type": "execute_result"
    }
   ],
   "source": [
    "len(esd_b4[esd_b4>10**-10]), len(esd_aftr[esd_aftr>10**-10])"
   ]
  },
  {
   "cell_type": "code",
   "execution_count": 14,
   "metadata": {},
   "outputs": [
    {
     "data": {
      "image/png": "[encoded data removed]",
      "text/plain": [
       "<Figure size 640x480 with 1 Axes>"
      ]
     },
     "metadata": {},
     "output_type": "display_data"
    }
   ],
   "source": [
    "plt.hist(np.log10(esd_b4), bins=100);"
   ]
  },
  {
   "cell_type": "code",
   "execution_count": 15,
   "metadata": {},
   "outputs": [
    {
     "data": {
      "text/plain": [
       "8.567443007721141e-10"
      ]
     },
     "execution_count": 15,
     "metadata": {},
     "output_type": "execute_result"
    }
   ],
   "source": [
    "np.min(esd_b4)"
   ]
  },
  {
   "cell_type": "code",
   "execution_count": null,
   "metadata": {},
   "outputs": [],
   "source": []
  }
 ],
 "metadata": {
  "kernelspec": {
   "display_name": "Python 3 (ipykernel)",
   "language": "python",
   "name": "python3"
  },
  "language_info": {
   "codemirror_mode": {
    "name": "ipython",
    "version": 3
   },
   "file_extension": ".py",
   "mimetype": "text/x-python",
   "name": "python",
   "nbconvert_exporter": "python",
   "pygments_lexer": "ipython3",
   "version": "3.9.13"
  }
 },
 "nbformat": 4,
 "nbformat_minor": 4
}
