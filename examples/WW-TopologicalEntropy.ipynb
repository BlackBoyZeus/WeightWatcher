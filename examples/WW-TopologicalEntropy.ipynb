{
 "cells": [
  {
   "cell_type": "code",
   "execution_count": 1,
   "metadata": {
    "id": "3b0V4XmCdshz",
    "scrolled": false
   },
   "outputs": [],
   "source": [
    "import os\n",
    "import numpy as np\n",
    "import pandas as pd\n",
    "import matplotlib.pyplot as plt\n",
    "\n"
   ]
  },
  {
   "cell_type": "code",
   "execution_count": 2,
   "metadata": {},
   "outputs": [],
   "source": [
    "from ripser import ripser\n",
    "from persim import plot_diagrams\n",
    "\n",
    "def topological_entropy(x_values, y_values):\n",
    "    # create a list of points\n",
    "    points = np.column_stack((x_values, y_values))\n",
    "\n",
    "    # calculate the persistence diagram of the data\n",
    "    dgms = ripser(points)['dgms']\n",
    "    # check if the persistence diagram is empty\n",
    "    if len(dgms[1]) == 0:\n",
    "        topo_entropy = 0\n",
    "    else:\n",
    "      # calculate the topological entropy as the sum of the lifetimes of the features\n",
    "      topo_entropy = sum([d[1]-d[0] for d in dgms[1]])\n",
    "\n",
    "    return topo_entropy"
   ]
  },
  {
   "cell_type": "code",
   "execution_count": 3,
   "metadata": {},
   "outputs": [
    {
     "name": "stderr",
     "output_type": "stream",
     "text": [
      "Some weights of the model checkpoint at albert-xxlarge-v2 were not used when initializing AlbertModel: ['predictions.bias', 'predictions.decoder.bias', 'predictions.decoder.weight', 'predictions.LayerNorm.weight', 'predictions.LayerNorm.bias', 'predictions.dense.bias', 'predictions.dense.weight']\n",
      "- This IS expected if you are initializing AlbertModel from the checkpoint of a model trained on another task or with another architecture (e.g. initializing a BertForSequenceClassification model from a BertForPreTraining model).\n",
      "- This IS NOT expected if you are initializing AlbertModel from the checkpoint of a model that you expect to be exactly identical (initializing a BertForSequenceClassification model from a BertForSequenceClassification model).\n"
     ]
    }
   ],
   "source": [
    "from transformers import  AlbertModel\n",
    "\n",
    "model_name = f\"albert-xxlarge-v2\"\n",
    "albert = AlbertModel.from_pretrained(model_name)\n"
   ]
  },
  {
   "cell_type": "code",
   "execution_count": 4,
   "metadata": {},
   "outputs": [],
   "source": [
    "import weightwatcher as ww\n",
    "import logging\n",
    "\n",
    "logging.basicConfig(level=logging.INFO)\n",
    "logger = logging.getLogger(ww.__name__) \n",
    "logger.setLevel(logging.INFO)\n"
   ]
  },
  {
   "cell_type": "code",
   "execution_count": 6,
   "metadata": {},
   "outputs": [
    {
     "name": "stderr",
     "output_type": "stream",
     "text": [
      "INFO:weightwatcher:\n",
      "\n",
      "python      version 3.9.13 (main, Aug 25 2022, 18:29:29) \n",
      "[Clang 12.0.0 ]\n",
      "numpy       version 1.22.3\n",
      "torch version 1.12.1\n",
      "INFO:weightwatcher:params {'glorot_fix': False, 'normalize': False, 'conv2d_norm': True, 'randomize': True, 'savedir': 'ww-img', 'savefig': 'ww-img', 'rescale': True, 'plot': False, 'deltaEs': False, 'intra': False, 'channels': None, 'conv2d_fft': False, 'ww2x': False, 'vectors': True, 'smooth': None, 'stacked': False, 'svd_method': 'full_svd', 'fix_fingers': None, 'fit': 'power_law', 'sparsify': True, 'detX': True, 'mp_fit': False, 'min_evals': 0, 'max_evals': None, 'max_N': 10, 'tolerance': 1e-06, 'layer_ids_start': 0, 'add_biases': False, 'glorot_fit': False, 'layers': []}\n",
      "INFO:weightwatcher:Saving all images to ww-img\n",
      "INFO:weightwatcher:params {'glorot_fix': False, 'normalize': False, 'conv2d_norm': True, 'randomize': True, 'savedir': 'ww-img', 'savefig': 'ww-img', 'rescale': True, 'plot': False, 'deltaEs': False, 'intra': False, 'channels': None, 'conv2d_fft': False, 'ww2x': False, 'vectors': True, 'smooth': None, 'stacked': False, 'svd_method': 'full_svd', 'fix_fingers': None, 'fit': 'power_law', 'sparsify': True, 'detX': True, 'mp_fit': False, 'min_evals': 0, 'max_evals': None, 'max_N': 10, 'tolerance': 1e-06, 'layer_ids_start': 0, 'add_biases': False, 'glorot_fit': False, 'layers': []}\n",
      "INFO:weightwatcher:Saving all images to ww-img\n",
      "INFO:weightwatcher:torch version 1.12.1\n",
      "INFO:weightwatcher:framework from model = 2\n"
     ]
    },
    {
     "name": "stdout",
     "output_type": "stream",
     "text": [
      "\n",
      "\n",
      "python      version 3.9.13 (main, Aug 25 2022, 18:29:29) \n",
      "[Clang 12.0.0 ]\n",
      "numpy       version 1.22.3\n",
      "torch version 1.12.1\n"
     ]
    },
    {
     "data": {
      "text/html": [
       "<div>\n",
       "<style scoped>\n",
       "    .dataframe tbody tr th:only-of-type {\n",
       "        vertical-align: middle;\n",
       "    }\n",
       "\n",
       "    .dataframe tbody tr th {\n",
       "        vertical-align: top;\n",
       "    }\n",
       "\n",
       "    .dataframe thead th {\n",
       "        text-align: right;\n",
       "    }\n",
       "</style>\n",
       "<table border=\"1\" class=\"dataframe\">\n",
       "  <thead>\n",
       "    <tr style=\"text-align: right;\">\n",
       "      <th></th>\n",
       "      <th>layer_id</th>\n",
       "      <th>name</th>\n",
       "      <th>M</th>\n",
       "      <th>N</th>\n",
       "      <th>Q</th>\n",
       "      <th>layer_type</th>\n",
       "      <th>longname</th>\n",
       "      <th>num_evals</th>\n",
       "      <th>rf</th>\n",
       "    </tr>\n",
       "  </thead>\n",
       "  <tbody>\n",
       "    <tr>\n",
       "      <th>0</th>\n",
       "      <td>2</td>\n",
       "      <td>Embedding</td>\n",
       "      <td>128.0</td>\n",
       "      <td>30000.0</td>\n",
       "      <td>234.375</td>\n",
       "      <td>LAYER_TYPE.EMBEDDING</td>\n",
       "      <td>embeddings.word_embeddings</td>\n",
       "      <td>128.0</td>\n",
       "      <td>1.0</td>\n",
       "    </tr>\n",
       "    <tr>\n",
       "      <th>0</th>\n",
       "      <td>3</td>\n",
       "      <td>Embedding</td>\n",
       "      <td>128.0</td>\n",
       "      <td>512.0</td>\n",
       "      <td>4.000</td>\n",
       "      <td>LAYER_TYPE.EMBEDDING</td>\n",
       "      <td>embeddings.position_embeddings</td>\n",
       "      <td>128.0</td>\n",
       "      <td>1.0</td>\n",
       "    </tr>\n",
       "    <tr>\n",
       "      <th>0</th>\n",
       "      <td>4</td>\n",
       "      <td>Embedding</td>\n",
       "      <td>2.0</td>\n",
       "      <td>128.0</td>\n",
       "      <td>64.000</td>\n",
       "      <td>LAYER_TYPE.EMBEDDING</td>\n",
       "      <td>embeddings.token_type_embeddings</td>\n",
       "      <td>2.0</td>\n",
       "      <td>1.0</td>\n",
       "    </tr>\n",
       "    <tr>\n",
       "      <th>0</th>\n",
       "      <td>8</td>\n",
       "      <td>Linear</td>\n",
       "      <td>128.0</td>\n",
       "      <td>4096.0</td>\n",
       "      <td>32.000</td>\n",
       "      <td>LAYER_TYPE.DENSE</td>\n",
       "      <td>encoder.embedding_hidden_mapping_in</td>\n",
       "      <td>128.0</td>\n",
       "      <td>1.0</td>\n",
       "    </tr>\n",
       "    <tr>\n",
       "      <th>0</th>\n",
       "      <td>15</td>\n",
       "      <td>Linear</td>\n",
       "      <td>4096.0</td>\n",
       "      <td>4096.0</td>\n",
       "      <td>1.000</td>\n",
       "      <td>LAYER_TYPE.DENSE</td>\n",
       "      <td>encoder.albert_layer_groups.0.albert_layers.0....</td>\n",
       "      <td>4096.0</td>\n",
       "      <td>1.0</td>\n",
       "    </tr>\n",
       "    <tr>\n",
       "      <th>0</th>\n",
       "      <td>16</td>\n",
       "      <td>Linear</td>\n",
       "      <td>4096.0</td>\n",
       "      <td>4096.0</td>\n",
       "      <td>1.000</td>\n",
       "      <td>LAYER_TYPE.DENSE</td>\n",
       "      <td>encoder.albert_layer_groups.0.albert_layers.0....</td>\n",
       "      <td>4096.0</td>\n",
       "      <td>1.0</td>\n",
       "    </tr>\n",
       "    <tr>\n",
       "      <th>0</th>\n",
       "      <td>17</td>\n",
       "      <td>Linear</td>\n",
       "      <td>4096.0</td>\n",
       "      <td>4096.0</td>\n",
       "      <td>1.000</td>\n",
       "      <td>LAYER_TYPE.DENSE</td>\n",
       "      <td>encoder.albert_layer_groups.0.albert_layers.0....</td>\n",
       "      <td>4096.0</td>\n",
       "      <td>1.0</td>\n",
       "    </tr>\n",
       "    <tr>\n",
       "      <th>0</th>\n",
       "      <td>20</td>\n",
       "      <td>Linear</td>\n",
       "      <td>4096.0</td>\n",
       "      <td>4096.0</td>\n",
       "      <td>1.000</td>\n",
       "      <td>LAYER_TYPE.DENSE</td>\n",
       "      <td>encoder.albert_layer_groups.0.albert_layers.0....</td>\n",
       "      <td>4096.0</td>\n",
       "      <td>1.0</td>\n",
       "    </tr>\n",
       "    <tr>\n",
       "      <th>0</th>\n",
       "      <td>22</td>\n",
       "      <td>Linear</td>\n",
       "      <td>4096.0</td>\n",
       "      <td>16384.0</td>\n",
       "      <td>4.000</td>\n",
       "      <td>LAYER_TYPE.DENSE</td>\n",
       "      <td>encoder.albert_layer_groups.0.albert_layers.0.ffn</td>\n",
       "      <td>4096.0</td>\n",
       "      <td>1.0</td>\n",
       "    </tr>\n",
       "    <tr>\n",
       "      <th>0</th>\n",
       "      <td>23</td>\n",
       "      <td>Linear</td>\n",
       "      <td>4096.0</td>\n",
       "      <td>16384.0</td>\n",
       "      <td>4.000</td>\n",
       "      <td>LAYER_TYPE.DENSE</td>\n",
       "      <td>encoder.albert_layer_groups.0.albert_layers.0....</td>\n",
       "      <td>4096.0</td>\n",
       "      <td>1.0</td>\n",
       "    </tr>\n",
       "    <tr>\n",
       "      <th>0</th>\n",
       "      <td>26</td>\n",
       "      <td>Linear</td>\n",
       "      <td>4096.0</td>\n",
       "      <td>4096.0</td>\n",
       "      <td>1.000</td>\n",
       "      <td>LAYER_TYPE.DENSE</td>\n",
       "      <td>pooler</td>\n",
       "      <td>4096.0</td>\n",
       "      <td>1.0</td>\n",
       "    </tr>\n",
       "  </tbody>\n",
       "</table>\n",
       "</div>"
      ],
      "text/plain": [
       "  layer_id       name       M        N        Q            layer_type  \\\n",
       "0        2  Embedding   128.0  30000.0  234.375  LAYER_TYPE.EMBEDDING   \n",
       "0        3  Embedding   128.0    512.0    4.000  LAYER_TYPE.EMBEDDING   \n",
       "0        4  Embedding     2.0    128.0   64.000  LAYER_TYPE.EMBEDDING   \n",
       "0        8     Linear   128.0   4096.0   32.000      LAYER_TYPE.DENSE   \n",
       "0       15     Linear  4096.0   4096.0    1.000      LAYER_TYPE.DENSE   \n",
       "0       16     Linear  4096.0   4096.0    1.000      LAYER_TYPE.DENSE   \n",
       "0       17     Linear  4096.0   4096.0    1.000      LAYER_TYPE.DENSE   \n",
       "0       20     Linear  4096.0   4096.0    1.000      LAYER_TYPE.DENSE   \n",
       "0       22     Linear  4096.0  16384.0    4.000      LAYER_TYPE.DENSE   \n",
       "0       23     Linear  4096.0  16384.0    4.000      LAYER_TYPE.DENSE   \n",
       "0       26     Linear  4096.0   4096.0    1.000      LAYER_TYPE.DENSE   \n",
       "\n",
       "                                            longname  num_evals   rf  \n",
       "0                         embeddings.word_embeddings      128.0  1.0  \n",
       "0                     embeddings.position_embeddings      128.0  1.0  \n",
       "0                   embeddings.token_type_embeddings        2.0  1.0  \n",
       "0                encoder.embedding_hidden_mapping_in      128.0  1.0  \n",
       "0  encoder.albert_layer_groups.0.albert_layers.0....     4096.0  1.0  \n",
       "0  encoder.albert_layer_groups.0.albert_layers.0....     4096.0  1.0  \n",
       "0  encoder.albert_layer_groups.0.albert_layers.0....     4096.0  1.0  \n",
       "0  encoder.albert_layer_groups.0.albert_layers.0....     4096.0  1.0  \n",
       "0  encoder.albert_layer_groups.0.albert_layers.0.ffn     4096.0  1.0  \n",
       "0  encoder.albert_layer_groups.0.albert_layers.0....     4096.0  1.0  \n",
       "0                                             pooler     4096.0  1.0  "
      ]
     },
     "execution_count": 6,
     "metadata": {},
     "output_type": "execute_result"
    }
   ],
   "source": [
    "watcher = ww.WeightWatcher(model=albert)\n",
    "details = watcher.describe()\n",
    "details"
   ]
  },
  {
   "cell_type": "code",
   "execution_count": null,
   "metadata": {},
   "outputs": [
    {
     "name": "stderr",
     "output_type": "stream",
     "text": [
      "INFO:weightwatcher:params {'glorot_fix': False, 'normalize': False, 'conv2d_norm': True, 'randomize': True, 'savedir': 'ww-img', 'savefig': 'ww-img', 'rescale': True, 'plot': False, 'deltaEs': False, 'intra': False, 'channels': None, 'conv2d_fft': False, 'ww2x': False, 'vectors': True, 'smooth': None, 'stacked': False, 'svd_method': 'full_svd', 'fix_fingers': None, 'fit': 'power_law', 'sparsify': True, 'detX': True, 'mp_fit': False, 'min_evals': 0, 'max_evals': None, 'max_N': 10, 'tolerance': 1e-06, 'layer_ids_start': 0, 'add_biases': False, 'glorot_fit': False, 'layers': []}\n",
      "INFO:weightwatcher:Saving all images to ww-img\n",
      "INFO:weightwatcher:params {'glorot_fix': False, 'normalize': False, 'conv2d_norm': True, 'randomize': True, 'savedir': 'ww-img', 'savefig': 'ww-img', 'rescale': True, 'plot': False, 'deltaEs': False, 'intra': False, 'channels': None, 'conv2d_fft': False, 'ww2x': False, 'vectors': True, 'smooth': None, 'stacked': False, 'svd_method': 'full_svd', 'fix_fingers': None, 'fit': 'power_law', 'sparsify': True, 'detX': True, 'mp_fit': False, 'min_evals': 0, 'max_evals': None, 'max_N': 10, 'tolerance': 1e-06, 'layer_ids_start': 0, 'add_biases': False, 'glorot_fit': False, 'layers': []}\n",
      "INFO:weightwatcher:Saving all images to ww-img\n",
      "INFO:weightwatcher:torch version 1.12.1\n",
      "INFO:weightwatcher:framework from model = 2\n",
      "INFO:weightwatcher:torch version 1.12.1\n",
      "INFO:weightwatcher:framework from model = 2\n",
      "INFO:weightwatcher:Filtering layer by id 16\n",
      "INFO:weightwatcher:Getting ESD for layer 16 \n"
     ]
    },
    {
     "name": "stdout",
     "output_type": "stream",
     "text": [
      "Calculating best minimal value for power law fit\n",
      "xmin progress: 99%\r"
     ]
    },
    {
     "data": {
      "image/png": "[encoded data removed]",
      "text/plain": [
       "<Figure size 640x480 with 1 Axes>"
      ]
     },
     "metadata": {},
     "output_type": "display_data"
    },
    {
     "name": "stderr",
     "output_type": "stream",
     "text": [
      "INFO:weightwatcher:params {'glorot_fix': False, 'normalize': False, 'conv2d_norm': True, 'randomize': True, 'savedir': 'ww-img', 'savefig': 'ww-img', 'rescale': True, 'plot': False, 'deltaEs': False, 'intra': False, 'channels': None, 'conv2d_fft': False, 'ww2x': False, 'vectors': True, 'smooth': None, 'stacked': False, 'svd_method': 'full_svd', 'fix_fingers': None, 'fit': 'power_law', 'sparsify': True, 'detX': True, 'mp_fit': False, 'min_evals': 0, 'max_evals': None, 'max_N': 10, 'tolerance': 1e-06, 'layer_ids_start': 0, 'add_biases': False, 'glorot_fit': False, 'layers': []}\n",
      "INFO:weightwatcher:Saving all images to ww-img\n",
      "INFO:weightwatcher:params {'glorot_fix': False, 'normalize': False, 'conv2d_norm': True, 'randomize': True, 'savedir': 'ww-img', 'savefig': 'ww-img', 'rescale': True, 'plot': False, 'deltaEs': False, 'intra': False, 'channels': None, 'conv2d_fft': False, 'ww2x': False, 'vectors': True, 'smooth': None, 'stacked': False, 'svd_method': 'full_svd', 'fix_fingers': None, 'fit': 'power_law', 'sparsify': True, 'detX': True, 'mp_fit': False, 'min_evals': 0, 'max_evals': None, 'max_N': 10, 'tolerance': 1e-06, 'layer_ids_start': 0, 'add_biases': False, 'glorot_fit': False, 'layers': []}\n",
      "INFO:weightwatcher:Saving all images to ww-img\n",
      "INFO:weightwatcher:torch version 1.12.1\n",
      "INFO:weightwatcher:framework from model = 2\n",
      "INFO:weightwatcher:torch version 1.12.1\n",
      "INFO:weightwatcher:framework from model = 2\n",
      "INFO:weightwatcher:Filtering layer by id 17\n",
      "INFO:weightwatcher:Getting ESD for layer 17 \n"
     ]
    },
    {
     "name": "stdout",
     "output_type": "stream",
     "text": [
      "Calculating best minimal value for power law fit\n",
      "xmin progress: 99%\r"
     ]
    }
   ],
   "source": [
    "import powerlaw\n",
    "\n",
    "for layer_id in [16,17,23,26]:\n",
    "    esd = watcher.get_ESD(layer=layer_id)\n",
    "    fit = powerlaw.Fit(esd)\n",
    "    x, y = fit.xmins, fit.Ds\n",
    "    top_entropy = topological_entropy(x,y)\n",
    "    plt.plot(x,y)\n",
    "    plt.title(f\"Layer {layer_id}  Top Entropy = {top_entropy:0.2f}\")\n",
    "    plt.show()"
   ]
  },
  {
   "cell_type": "code",
   "execution_count": null,
   "metadata": {},
   "outputs": [],
   "source": []
  }
 ],
 "metadata": {
  "accelerator": "GPU",
  "colab": {
   "collapsed_sections": [],
   "include_colab_link": true,
   "machine_shape": "hm",
   "name": " WW-BERT-BlogExample.ipynb",
   "provenance": []
  },
  "kernelspec": {
   "display_name": "Python 3 (ipykernel)",
   "language": "python",
   "name": "python3"
  },
  "language_info": {
   "codemirror_mode": {
    "name": "ipython",
    "version": 3
   },
   "file_extension": ".py",
   "mimetype": "text/x-python",
   "name": "python",
   "nbconvert_exporter": "python",
   "pygments_lexer": "ipython3",
   "version": "3.9.13"
  }
 },
 "nbformat": 4,
 "nbformat_minor": 1
}
