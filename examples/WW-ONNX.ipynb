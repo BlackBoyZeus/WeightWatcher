{
 "cells": [
  {
   "cell_type": "markdown",
   "metadata": {},
   "source": [
    "\n",
    "# WeightWatcher - ONNX\n",
    "\n",
    "### <font color='red'>Warning </font>\n",
    "\n",
    "Im not sure this works anymore, the models we tested it on appeared to be malformed\n",
    "\n",
    "If anyone needs ONNX support, please file an issue\n",
    "    \n",
    "#### ONNX Example\n",
    "\n",
    "You can  download latest alexnet.onnx from\n",
    "\n",
    "https://github.com/onnx/models/tree/master/vision/classification/alexnet\n",
    "\n",
    "and rename to alexnet.onnx\n"
   ]
  },
  {
   "cell_type": "code",
   "execution_count": 1,
   "metadata": {
    "ExecuteTime": {
     "end_time": "2019-03-05T23:51:16.544327Z",
     "start_time": "2019-03-05T23:51:16.531457Z"
    }
   },
   "outputs": [],
   "source": [
    "# Suppress the powerlaw package warnings\n",
    "# \"powerlaw.py:700: RuntimeWarning: divide by zero encountered in true_divide\"\n",
    "# \"powerlaw.py:700: RuntimeWarning: invalid value encountered in true_divide\"\n",
    "import warnings\n",
    "warnings.simplefilter(action='ignore', category=RuntimeWarning)"
   ]
  },
  {
   "cell_type": "code",
   "execution_count": 2,
   "metadata": {
    "scrolled": true
   },
   "outputs": [],
   "source": [
    "import numpy as np\n",
    "import pandas as pd\n",
    "\n",
    "from tqdm import tqdm\n",
    "\n",
    "import matplotlib\n",
    "import matplotlib.pyplot as plt\n",
    "%matplotlib inline"
   ]
  },
  {
   "cell_type": "markdown",
   "metadata": {
    "ExecuteTime": {
     "end_time": "2019-03-06T00:16:43.249725Z",
     "start_time": "2019-03-06T00:16:43.240611Z"
    }
   },
   "source": [
    "### Import WeightWatcher\n",
    "\n",
    "set custom Logging at WARN Level"
   ]
  },
  {
   "cell_type": "code",
   "execution_count": 3,
   "metadata": {},
   "outputs": [],
   "source": [
    "#!pip install weightwatcher"
   ]
  },
  {
   "cell_type": "code",
   "execution_count": 4,
   "metadata": {
    "scrolled": true
   },
   "outputs": [],
   "source": [
    "import logging\n",
    "logging.basicConfig(level=logging.INFO)\n",
    "logger = logging.getLogger(__name__)\n",
    "logger.setLevel(logging.INFO)\n"
   ]
  },
  {
   "cell_type": "code",
   "execution_count": 5,
   "metadata": {},
   "outputs": [],
   "source": [
    "import weightwatcher as ww"
   ]
  },
  {
   "cell_type": "code",
   "execution_count": 6,
   "metadata": {},
   "outputs": [
    {
     "data": {
      "text/plain": [
       "'0.6.5'"
      ]
     },
     "execution_count": 6,
     "metadata": {},
     "output_type": "execute_result"
    }
   ],
   "source": [
    "ww.__version__"
   ]
  },
  {
   "cell_type": "code",
   "execution_count": 7,
   "metadata": {},
   "outputs": [],
   "source": [
    "import onnx\n"
   ]
  },
  {
   "cell_type": "code",
   "execution_count": 11,
   "metadata": {},
   "outputs": [
    {
     "ename": "SyntaxError",
     "evalue": "invalid syntax (<ipython-input-11-8efdc71b64fe>, line 3)",
     "output_type": "error",
     "traceback": [
      "\u001b[0;36m  File \u001b[0;32m\"<ipython-input-11-8efdc71b64fe>\"\u001b[0;36m, line \u001b[0;32m3\u001b[0m\n\u001b[0;31m    You can  download latest alexnet.onnx from\u001b[0m\n\u001b[0m          ^\u001b[0m\n\u001b[0;31mSyntaxError\u001b[0m\u001b[0;31m:\u001b[0m invalid syntax\n"
     ]
    }
   ],
   "source": [
    "\n",
    "\n",
    "model = onnx.load(\"./tempNetwork.onnx\")\n",
    "\n",
    "#model = onnx.load(\"./alexnet.onnx\")\n",
    "#model = onnx.load(\"./vgg16.onnx\")\n"
   ]
  },
  {
   "cell_type": "code",
   "execution_count": 9,
   "metadata": {},
   "outputs": [
    {
     "name": "stderr",
     "output_type": "stream",
     "text": [
      "INFO:weightwatcher:\n",
      "\n",
      "python      version 3.7.4 (default, Aug 13 2019, 15:17:50) \n",
      "[Clang 4.0.1 (tags/RELEASE_401/final)]\n",
      "numpy       version 1.19.1\n",
      "tensforflow version 2.1.0\n",
      "keras       version 2.2.4-tf\n"
     ]
    }
   ],
   "source": [
    "watcher = ww.WeightWatcher(model=model)"
   ]
  },
  {
   "cell_type": "code",
   "execution_count": 10,
   "metadata": {
    "scrolled": false
   },
   "outputs": [
    {
     "name": "stderr",
     "output_type": "stream",
     "text": [
      "INFO:weightwatcher:Saving all images to ww-img\n",
      "INFO:weightwatcher:params {'glorot_fix': False, 'normalize': False, 'conv2d_norm': True, 'randomize': False, 'savedir': 'ww-img', 'savefig': 'ww-img', 'rescale': True, 'plot': False, 'deltaEs': False, 'intra': False, 'channels': None, 'conv2d_fft': False, 'ww2x': False, 'vectors': False, 'smooth': None, 'stacked': False, 'svd_method': 'full_svd', 'fix_fingers': False, 'fit': 'power_law', 'sparsify': True, 'detX': False, 'mp_fit': False, 'min_evals': 50, 'max_evals': 10000, 'tolerance': 1e-06, 'glorot_fit': False, 'layers': []}\n",
      "INFO:weightwatcher:Saving all images to ww-img\n",
      "INFO:weightwatcher:Layer id 0  unknown type 1 layer  <class 'weightwatcher.weightwatcher.ONNXLayer'>\n",
      "INFO:weightwatcher:Layer id 1  unknown type 1 layer  <class 'weightwatcher.weightwatcher.ONNXLayer'>\n",
      "INFO:weightwatcher:Layer id 3  unknown type 1 layer  <class 'weightwatcher.weightwatcher.ONNXLayer'>\n",
      "INFO:weightwatcher:Layer id 4  unknown type 1 layer  <class 'weightwatcher.weightwatcher.ONNXLayer'>\n",
      "INFO:weightwatcher:Layer id 5  unknown type 1 layer  <class 'weightwatcher.weightwatcher.ONNXLayer'>\n",
      "WARNING:weightwatcher:warning, expected channels LAST,  detected channels FIRST\n",
      "INFO:weightwatcher:Layer id 7  unknown type 1 layer  <class 'weightwatcher.weightwatcher.ONNXLayer'>\n",
      "INFO:weightwatcher:Layer id 8  unknown type 1 layer  <class 'weightwatcher.weightwatcher.ONNXLayer'>\n",
      "INFO:weightwatcher:Layer id 9  unknown type 1 layer  <class 'weightwatcher.weightwatcher.ONNXLayer'>\n",
      "WARNING:weightwatcher:warning, expected channels LAST,  detected channels FIRST\n",
      "INFO:weightwatcher:Layer id 11  unknown type 1 layer  <class 'weightwatcher.weightwatcher.ONNXLayer'>\n",
      "INFO:weightwatcher:Layer id 12  unknown type 1 layer  <class 'weightwatcher.weightwatcher.ONNXLayer'>\n",
      "INFO:weightwatcher:Layer id 13  unknown type 1 layer  <class 'weightwatcher.weightwatcher.ONNXLayer'>\n",
      "WARNING:weightwatcher:warning, expected channels LAST,  detected channels FIRST\n",
      "INFO:weightwatcher:Layer id 15  unknown type 1 layer  <class 'weightwatcher.weightwatcher.ONNXLayer'>\n",
      "INFO:weightwatcher:Layer id 16  unknown type 1 layer  <class 'weightwatcher.weightwatcher.ONNXLayer'>\n",
      "INFO:weightwatcher:Layer id 17  unknown type 1 layer  <class 'weightwatcher.weightwatcher.ONNXLayer'>\n",
      "INFO:weightwatcher:Layer id 18  unknown type 1 layer  <class 'weightwatcher.weightwatcher.ONNXLayer'>\n",
      "INFO:weightwatcher:Layer id 19  unknown type 1 layer  <class 'weightwatcher.weightwatcher.ONNXLayer'>\n",
      "INFO:weightwatcher:Layer id 20  unknown type 1 layer  <class 'weightwatcher.weightwatcher.ONNXLayer'>\n",
      "INFO:weightwatcher:Layer id 21  unknown type 1 layer  <class 'weightwatcher.weightwatcher.ONNXLayer'>\n",
      "INFO:weightwatcher:Layer id 22  unknown type 1 layer  <class 'weightwatcher.weightwatcher.ONNXLayer'>\n",
      "INFO:weightwatcher:Layer id 24  unknown type 1 layer  <class 'weightwatcher.weightwatcher.ONNXLayer'>\n",
      "INFO:weightwatcher:Layer id 25  unknown type 1 layer  <class 'weightwatcher.weightwatcher.ONNXLayer'>\n",
      "INFO:weightwatcher:Layer id 26  unknown type 1 layer  <class 'weightwatcher.weightwatcher.ONNXLayer'>\n"
     ]
    },
    {
     "data": {
      "text/html": [
       "<div>\n",
       "<style scoped>\n",
       "    .dataframe tbody tr th:only-of-type {\n",
       "        vertical-align: middle;\n",
       "    }\n",
       "\n",
       "    .dataframe tbody tr th {\n",
       "        vertical-align: top;\n",
       "    }\n",
       "\n",
       "    .dataframe thead th {\n",
       "        text-align: right;\n",
       "    }\n",
       "</style>\n",
       "<table border=\"1\" class=\"dataframe\">\n",
       "  <thead>\n",
       "    <tr style=\"text-align: right;\">\n",
       "      <th></th>\n",
       "      <th>layer_id</th>\n",
       "      <th>name</th>\n",
       "      <th>D</th>\n",
       "      <th>Lambda</th>\n",
       "      <th>M</th>\n",
       "      <th>N</th>\n",
       "      <th>alpha</th>\n",
       "      <th>alpha_weighted</th>\n",
       "      <th>best_fit</th>\n",
       "      <th>entropy</th>\n",
       "      <th>...</th>\n",
       "      <th>rank_loss</th>\n",
       "      <th>rf</th>\n",
       "      <th>sigma</th>\n",
       "      <th>spectral_norm</th>\n",
       "      <th>stable_rank</th>\n",
       "      <th>sv_max</th>\n",
       "      <th>warning</th>\n",
       "      <th>weak_rank_loss</th>\n",
       "      <th>xmax</th>\n",
       "      <th>xmin</th>\n",
       "    </tr>\n",
       "  </thead>\n",
       "  <tbody>\n",
       "    <tr>\n",
       "      <th>0</th>\n",
       "      <td>10</td>\n",
       "      <td>convolution_3_W</td>\n",
       "      <td>0.101420</td>\n",
       "      <td>-1.0</td>\n",
       "      <td>1.0</td>\n",
       "      <td>3.0</td>\n",
       "      <td>9.007452</td>\n",
       "      <td>-15.341835</td>\n",
       "      <td>power_law</td>\n",
       "      <td>0.968650</td>\n",
       "      <td>...</td>\n",
       "      <td>0.0</td>\n",
       "      <td>81.0</td>\n",
       "      <td>2.001863</td>\n",
       "      <td>0.019804</td>\n",
       "      <td>33.600650</td>\n",
       "      <td>0.140728</td>\n",
       "      <td>under-trained</td>\n",
       "      <td>0.0</td>\n",
       "      <td>0.019804</td>\n",
       "      <td>0.012541</td>\n",
       "    </tr>\n",
       "    <tr>\n",
       "      <th>1</th>\n",
       "      <td>14</td>\n",
       "      <td>convolution_4_W</td>\n",
       "      <td>0.148458</td>\n",
       "      <td>-1.0</td>\n",
       "      <td>1.0</td>\n",
       "      <td>5.0</td>\n",
       "      <td>9.463857</td>\n",
       "      <td>-16.961807</td>\n",
       "      <td>lognormal</td>\n",
       "      <td>0.979321</td>\n",
       "      <td>...</td>\n",
       "      <td>0.0</td>\n",
       "      <td>100.0</td>\n",
       "      <td>2.115964</td>\n",
       "      <td>0.016133</td>\n",
       "      <td>46.405928</td>\n",
       "      <td>0.127018</td>\n",
       "      <td>under-trained</td>\n",
       "      <td>0.0</td>\n",
       "      <td>0.016133</td>\n",
       "      <td>0.011243</td>\n",
       "    </tr>\n",
       "  </tbody>\n",
       "</table>\n",
       "<p>2 rows × 30 columns</p>\n",
       "</div>"
      ],
      "text/plain": [
       "  layer_id             name         D  Lambda    M    N     alpha  \\\n",
       "0       10  convolution_3_W  0.101420    -1.0  1.0  3.0  9.007452   \n",
       "1       14  convolution_4_W  0.148458    -1.0  1.0  5.0  9.463857   \n",
       "\n",
       "   alpha_weighted   best_fit   entropy  ...  rank_loss     rf     sigma  \\\n",
       "0      -15.341835  power_law  0.968650  ...        0.0   81.0  2.001863   \n",
       "1      -16.961807  lognormal  0.979321  ...        0.0  100.0  2.115964   \n",
       "\n",
       "   spectral_norm  stable_rank    sv_max        warning  weak_rank_loss  \\\n",
       "0       0.019804    33.600650  0.140728  under-trained             0.0   \n",
       "1       0.016133    46.405928  0.127018  under-trained             0.0   \n",
       "\n",
       "       xmax      xmin  \n",
       "0  0.019804  0.012541  \n",
       "1  0.016133  0.011243  \n",
       "\n",
       "[2 rows x 30 columns]"
      ]
     },
     "execution_count": 10,
     "metadata": {},
     "output_type": "execute_result"
    }
   ],
   "source": [
    "watcher.analyze(plot=False)"
   ]
  },
  {
   "cell_type": "code",
   "execution_count": null,
   "metadata": {},
   "outputs": [],
   "source": []
  },
  {
   "cell_type": "code",
   "execution_count": null,
   "metadata": {},
   "outputs": [],
   "source": []
  }
 ],
 "metadata": {
  "kernelspec": {
   "display_name": "Python 3",
   "language": "python",
   "name": "python3"
  },
  "language_info": {
   "codemirror_mode": {
    "name": "ipython",
    "version": 3
   },
   "file_extension": ".py",
   "mimetype": "text/x-python",
   "name": "python",
   "nbconvert_exporter": "python",
   "pygments_lexer": "ipython3",
   "version": "3.7.4"
  }
 },
 "nbformat": 4,
 "nbformat_minor": 4
}
