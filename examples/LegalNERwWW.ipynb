{
  "nbformat": 4,
  "nbformat_minor": 0,
  "metadata": {
    "colab": {
      "name": "LegalNERwWW.ipynb",
      "provenance": [],
      "machine_shape": "hm",
      "collapsed_sections": [],
      "authorship_tag": "ABX9TyPmxbAygHfzUYtl/w0tsuWP",
      "include_colab_link": true
    },
    "kernelspec": {
      "name": "python3",
      "display_name": "Python 3"
    },
    "language_info": {
      "name": "python"
    },
    "gpuClass": "standard"
  },
  "cells": [
    {
      "cell_type": "markdown",
      "metadata": {
        "id": "view-in-github",
        "colab_type": "text"
      },
      "source": [
        "<a href=\"https://colab.research.google.com/github/CalculatedContent/WeightWatcher/blob/master/examples/LegalNERwWW.ipynb\" target=\"_parent\"><img src=\"https://colab.research.google.com/assets/colab-badge.svg\" alt=\"Open In Colab\"/></a>"
      ]
    },
    {
      "cell_type": "markdown",
      "source": [
        "### How to select the best nmodel for NER for Legal Documents with WeightWatcher\n",
        "\n",
        "We compare 2 HuggingFace pretrained models for Lehal NER \n",
        "\n",
        "- nlpaueb/legal-bert-base-uncased\n",
        "\n",
        "- saibo/legal-roberta-base\n",
        "\n",
        "We apply the weightwatcher tool to each model, and look at the distribution of layer alphas \n",
        "\n",
        "While we might expect the RoBERTa (Robust Bert) model to perform better,\n",
        "the weightwatcher layer metrics show that most of BERT layers have \n",
        "smaller alphas than the RoBERTa, indicating that most the of the BERT\n",
        "layers should perform better than the RoBERTa layers.\n",
        "\n",
        "\n",
        "---\n",
        "\n"
      ],
      "metadata": {
        "id": "1X4_t3P2r60U"
      }
    },
    {
      "cell_type": "code",
      "source": [
        "import numpy as np\n",
        "import pandas as pd\n",
        "\n",
        "from tqdm import tqdm\n",
        "\n",
        "import matplotlib\n",
        "import matplotlib.pyplot as plt\n",
        "%matplotlib inline"
      ],
      "metadata": {
        "id": "ntuwJsZ5sBFS"
      },
      "execution_count": 1,
      "outputs": []
    },
    {
      "cell_type": "code",
      "source": [
        "%%capture \n",
        "!pip install weightwatcher transformers"
      ],
      "metadata": {
        "id": "XX3Fb_4hKTr0"
      },
      "execution_count": 26,
      "outputs": []
    },
    {
      "cell_type": "code",
      "source": [
        "from transformers import AutoModel\n",
        "bert_model = AutoModel.from_pretrained(\"nlpaueb/legal-bert-base-uncased\")\n",
        "\n",
        "roberta_model = AutoModel.from_pretrained(\"saibo/legal-roberta-base\")\n",
        "\n"
      ],
      "metadata": {
        "colab": {
          "base_uri": "https://localhost:8080/"
        },
        "id": "D4XiQdFPr_Hz",
        "outputId": "45c5ee0d-dcb2-4cc0-8a55-821c15776b3c"
      },
      "execution_count": 3,
      "outputs": [
        {
          "output_type": "stream",
          "name": "stderr",
          "text": [
            "Some weights of the model checkpoint at nlpaueb/legal-bert-base-uncased were not used when initializing BertModel: ['cls.predictions.transform.dense.weight', 'cls.predictions.transform.dense.bias', 'cls.seq_relationship.bias', 'cls.predictions.transform.LayerNorm.weight', 'cls.predictions.transform.LayerNorm.bias', 'cls.predictions.bias', 'cls.seq_relationship.weight', 'cls.predictions.decoder.weight', 'cls.predictions.decoder.bias']\n",
            "- This IS expected if you are initializing BertModel from the checkpoint of a model trained on another task or with another architecture (e.g. initializing a BertForSequenceClassification model from a BertForPreTraining model).\n",
            "- This IS NOT expected if you are initializing BertModel from the checkpoint of a model that you expect to be exactly identical (initializing a BertForSequenceClassification model from a BertForSequenceClassification model).\n",
            "Some weights of the model checkpoint at saibo/legal-roberta-base were not used when initializing RobertaModel: ['lm_head.bias', 'lm_head.layer_norm.weight', 'lm_head.decoder.weight', 'lm_head.dense.bias', 'lm_head.dense.weight', 'lm_head.layer_norm.bias', 'lm_head.decoder.bias']\n",
            "- This IS expected if you are initializing RobertaModel from the checkpoint of a model trained on another task or with another architecture (e.g. initializing a BertForSequenceClassification model from a BertForPreTraining model).\n",
            "- This IS NOT expected if you are initializing RobertaModel from the checkpoint of a model that you expect to be exactly identical (initializing a BertForSequenceClassification model from a BertForSequenceClassification model).\n",
            "Some weights of RobertaModel were not initialized from the model checkpoint at saibo/legal-roberta-base and are newly initialized: ['roberta.pooler.dense.weight', 'roberta.pooler.dense.bias']\n",
            "You should probably TRAIN this model on a down-stream task to be able to use it for predictions and inference.\n"
          ]
        }
      ]
    },
    {
      "cell_type": "code",
      "source": [
        "import logging\n",
        "logging.basicConfig(level=logging.INFO)\n",
        "logger = logging.getLogger(__name__)\n",
        "logger.setLevel(logging.INFO)\n",
        "\n",
        "import weightwatcher as ww\n",
        "import transformers\n",
        "\n",
        "ww.__version__, transformers.__version__"
      ],
      "metadata": {
        "colab": {
          "base_uri": "https://localhost:8080/"
        },
        "id": "mV5nnhMxJ6C9",
        "outputId": "122296dc-7e47-4fe0-d1d6-2a9414745b6e"
      },
      "execution_count": 4,
      "outputs": [
        {
          "output_type": "execute_result",
          "data": {
            "text/plain": [
              "('0.5.6', '4.21.1')"
            ]
          },
          "metadata": {},
          "execution_count": 4
        }
      ]
    },
    {
      "cell_type": "code",
      "source": [
        "%%capture\n",
        "import warnings\n",
        "warnings.filterwarnings('ignore')\n",
        "\n",
        "\n",
        "import logging\n",
        "logger = logging.getLogger(ww.__name__)\n",
        "logger.setLevel(logging.FATAL)\n",
        "\n",
        "watcher = ww.WeightWatcher(model=bert_model)\n",
        "bert_details = watcher.analyze()\n",
        "\n",
        "watcher = ww.WeightWatcher(model=roberta_model)\n",
        "roberta_details = watcher.analyze()\n",
        "\n"
      ],
      "metadata": {
        "id": "N2P67F2EL1ne"
      },
      "execution_count": 5,
      "outputs": []
    },
    {
      "cell_type": "code",
      "source": [
        ""
      ],
      "metadata": {
        "id": "Oj8uNgh36Q9a"
      },
      "execution_count": null,
      "outputs": []
    },
    {
      "cell_type": "code",
      "source": [
        "B = bert_details[bert_details.alpha > 0]\n",
        "B.alpha.plot.hist(bins=100, label='BERT', color='g')\n",
        "#plt.axvline(B.alpha.mean(), color='g', linestyle='dotted', linewidth=2)\n",
        "\n",
        "R = roberta_details[roberta_details.alpha > 0]\n",
        "R.alpha.plot.hist(bins=100, label='RoBERTa', color='r', alpha=0.5)\n",
        "#plt.axvline(R.alpha.mean(), color='r', linestyle='dotted', linewidth=2)\n",
        "\n",
        "\n",
        "plt.legend()\n",
        "plt.title(\"Comparison of BERT and RoBERTa NER models\")\n",
        "plt.xlabel(r\"WeightWatcher Layer Alphas $\\alpha$\")"
      ],
      "metadata": {
        "colab": {
          "base_uri": "https://localhost:8080/",
          "height": 317
        },
        "id": "FvF5IaI86FYc",
        "outputId": "2a68acf7-57bc-4bdc-fb75-19daf15c4be4"
      },
      "execution_count": 23,
      "outputs": [
        {
          "output_type": "execute_result",
          "data": {
            "text/plain": [
              "Text(0.5, 0, 'WeightWatcher Layer Alphas $\\\\alpha$')"
            ]
          },
          "metadata": {},
          "execution_count": 23
        },
        {
          "output_type": "display_data",
          "data": {
            "text/plain": [
              "<Figure size 432x288 with 1 Axes>"
            ],
            "image/png": "[encoded data removed]"
          },
          "metadata": {
            "needs_background": "light"
          }
        }
      ]
    },
    {
      "cell_type": "code",
      "source": [
        "while True:\n",
        "  pass"
      ],
      "metadata": {
        "id": "sIcgAST1nMw2",
        "colab": {
          "base_uri": "https://localhost:8080/",
          "height": 187
        },
        "outputId": "1f5d9291-9459-4faf-9aed-72ab88756332"
      },
      "execution_count": 6,
      "outputs": [
        {
          "output_type": "error",
          "ename": "KeyboardInterrupt",
          "evalue": "ignored",
          "traceback": [
            "\u001b[0;31m---------------------------------------------------------------------------\u001b[0m",
            "\u001b[0;31mKeyboardInterrupt\u001b[0m                         Traceback (most recent call last)",
            "\u001b[0;32m<ipython-input-6-648a2bab0435>\u001b[0m in \u001b[0;36m<module>\u001b[0;34m()\u001b[0m\n\u001b[1;32m      1\u001b[0m \u001b[0;32mwhile\u001b[0m \u001b[0;32mTrue\u001b[0m\u001b[0;34m:\u001b[0m\u001b[0;34m\u001b[0m\u001b[0;34m\u001b[0m\u001b[0m\n\u001b[0;32m----> 2\u001b[0;31m   \u001b[0;32mpass\u001b[0m\u001b[0;34m\u001b[0m\u001b[0;34m\u001b[0m\u001b[0m\n\u001b[0m",
            "\u001b[0;31mKeyboardInterrupt\u001b[0m: "
          ]
        }
      ]
    },
    {
      "cell_type": "code",
      "source": [
        ""
      ],
      "metadata": {
        "id": "06IGFI4sMwiP"
      },
      "execution_count": null,
      "outputs": []
    }
  ]
}