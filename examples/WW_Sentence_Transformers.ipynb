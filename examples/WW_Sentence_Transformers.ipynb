{
 "cells": [
  {
   "cell_type": "markdown",
   "metadata": {
    "colab_type": "text",
    "id": "view-in-github"
   },
   "source": [
    "<a href=\"https://colab.research.google.com/github/CalculatedContent/WeightWatcher/blob/master/examples/WW_Sentence_Transformers.ipynb\" target=\"_parent\"><img src=\"https://colab.research.google.com/assets/colab-badge.svg\" alt=\"Open In Colab\"/></a>"
   ]
  },
  {
   "cell_type": "markdown",
   "metadata": {
    "id": "VhMwt7M7cEZV"
   },
   "source": [
    "# How to pick a good sentence transformer\n",
    "\n",
    "Here, we use the WeightWatcher (WW) tool to identify which HuggingFace Sentence Transformer models pass 2 basic quality checks\n",
    "\n",
    "- mean layer alpha < 4\n",
    "- no layer alphas > 8\n",
    "\n",
    "The notebook first\n",
    "\n",
    "- looks at the top 10 sentence transformers on the current HuggingFace Bage\n",
    "\n",
    "Then\n",
    "\n",
    "- Looks at over 100 sentence transformers \n",
    "\n",
    "\n"
   ]
  },
  {
   "cell_type": "code",
   "execution_count": 1,
   "metadata": {
    "id": "3b0V4XmCdshz"
   },
   "outputs": [],
   "source": [
    "import os\n",
    "import numpy as np\n",
    "import pandas as pd\n",
    "import matplotlib.pyplot as plt"
   ]
  },
  {
   "cell_type": "code",
   "execution_count": 2,
   "metadata": {
    "colab": {
     "base_uri": "https://localhost:8080/"
    },
    "id": "_e9GgbKxJgSZ",
    "outputId": "0e7375af-164e-4e66-e1a2-4b93a2e427e4"
   },
   "outputs": [
    {
     "name": "stdout",
     "output_type": "stream",
     "text": [
      "Looking in indexes: https://pypi.org/simple, https://us-python.pkg.dev/colab-wheels/public/simple/\n",
      "Requirement already satisfied: transformers in /usr/local/lib/python3.7/dist-packages (4.21.0)\n",
      "Requirement already satisfied: weightwatcher in /usr/local/lib/python3.7/dist-packages (0.5.6)\n",
      "Requirement already satisfied: gwpy in /usr/local/lib/python3.7/dist-packages (2.0.2)\n",
      "Requirement already satisfied: matplotlib==3.1.3 in /usr/local/lib/python3.7/dist-packages (3.1.3)\n",
      "Requirement already satisfied: python-dateutil>=2.1 in /usr/local/lib/python3.7/dist-packages (from matplotlib==3.1.3) (2.8.2)\n",
      "Requirement already satisfied: numpy>=1.11 in /usr/local/lib/python3.7/dist-packages (from matplotlib==3.1.3) (1.21.6)\n",
      "Requirement already satisfied: kiwisolver>=1.0.1 in /usr/local/lib/python3.7/dist-packages (from matplotlib==3.1.3) (1.4.4)\n",
      "Requirement already satisfied: cycler>=0.10 in /usr/local/lib/python3.7/dist-packages (from matplotlib==3.1.3) (0.11.0)\n",
      "Requirement already satisfied: pyparsing!=2.0.4,!=2.1.2,!=2.1.6,>=2.0.1 in /usr/local/lib/python3.7/dist-packages (from matplotlib==3.1.3) (3.0.9)\n",
      "Requirement already satisfied: typing-extensions in /usr/local/lib/python3.7/dist-packages (from kiwisolver>=1.0.1->matplotlib==3.1.3) (4.1.1)\n",
      "Requirement already satisfied: six>=1.5 in /usr/local/lib/python3.7/dist-packages (from python-dateutil>=2.1->matplotlib==3.1.3) (1.15.0)\n",
      "Requirement already satisfied: regex!=2019.12.17 in /usr/local/lib/python3.7/dist-packages (from transformers) (2022.6.2)\n",
      "Requirement already satisfied: tqdm>=4.27 in /usr/local/lib/python3.7/dist-packages (from transformers) (4.64.0)\n",
      "Requirement already satisfied: huggingface-hub<1.0,>=0.1.0 in /usr/local/lib/python3.7/dist-packages (from transformers) (0.8.1)\n",
      "Requirement already satisfied: pyyaml>=5.1 in /usr/local/lib/python3.7/dist-packages (from transformers) (6.0)\n",
      "Requirement already satisfied: packaging>=20.0 in /usr/local/lib/python3.7/dist-packages (from transformers) (21.3)\n",
      "Requirement already satisfied: importlib-metadata in /usr/local/lib/python3.7/dist-packages (from transformers) (4.12.0)\n",
      "Requirement already satisfied: filelock in /usr/local/lib/python3.7/dist-packages (from transformers) (3.7.1)\n",
      "Requirement already satisfied: requests in /usr/local/lib/python3.7/dist-packages (from transformers) (2.23.0)\n",
      "Requirement already satisfied: tokenizers!=0.11.3,<0.13,>=0.11.1 in /usr/local/lib/python3.7/dist-packages (from transformers) (0.12.1)\n",
      "Requirement already satisfied: tensorflow in /usr/local/lib/python3.7/dist-packages (from weightwatcher) (2.8.2+zzzcolab20220719082949)\n",
      "Requirement already satisfied: powerlaw in /usr/local/lib/python3.7/dist-packages (from weightwatcher) (1.5)\n",
      "Requirement already satisfied: torch in /usr/local/lib/python3.7/dist-packages (from weightwatcher) (1.12.0+cu113)\n",
      "Requirement already satisfied: onnx in /usr/local/lib/python3.7/dist-packages (from weightwatcher) (1.12.0)\n",
      "Requirement already satisfied: pyRMT in /usr/local/lib/python3.7/dist-packages (from weightwatcher) (0.1.0)\n",
      "Requirement already satisfied: pandas in /usr/local/lib/python3.7/dist-packages (from weightwatcher) (1.3.5)\n",
      "Requirement already satisfied: sklearn in /usr/local/lib/python3.7/dist-packages (from weightwatcher) (0.0)\n",
      "Requirement already satisfied: dqsegdb2 in /usr/local/lib/python3.7/dist-packages (from gwpy) (1.1.2)\n",
      "Requirement already satisfied: scipy>=1.2.0 in /usr/local/lib/python3.7/dist-packages (from gwpy) (1.7.3)\n",
      "Requirement already satisfied: gwdatafind in /usr/local/lib/python3.7/dist-packages (from gwpy) (1.1.1)\n",
      "Requirement already satisfied: gwosc>=0.5.3 in /usr/local/lib/python3.7/dist-packages (from gwpy) (0.6.1)\n",
      "Requirement already satisfied: h5py>=2.7.0 in /usr/local/lib/python3.7/dist-packages (from gwpy) (3.1.0)\n",
      "Requirement already satisfied: ligotimegps>=1.2.1 in /usr/local/lib/python3.7/dist-packages (from gwpy) (2.0.1)\n",
      "Requirement already satisfied: ligo-segments>=1.0.0 in /usr/local/lib/python3.7/dist-packages (from gwpy) (1.4.0)\n",
      "Requirement already satisfied: astropy>=3.0.0 in /usr/local/lib/python3.7/dist-packages (from gwpy) (4.3.1)\n",
      "Requirement already satisfied: pyerfa>=1.7.3 in /usr/local/lib/python3.7/dist-packages (from astropy>=3.0.0->gwpy) (2.0.0.1)\n",
      "Requirement already satisfied: cached-property in /usr/local/lib/python3.7/dist-packages (from h5py>=2.7.0->gwpy) (1.5.2)\n",
      "Requirement already satisfied: idna<3,>=2.5 in /usr/local/lib/python3.7/dist-packages (from requests->transformers) (2.10)\n",
      "Requirement already satisfied: urllib3!=1.25.0,!=1.25.1,<1.26,>=1.21.1 in /usr/local/lib/python3.7/dist-packages (from requests->transformers) (1.24.3)\n",
      "Requirement already satisfied: chardet<4,>=3.0.2 in /usr/local/lib/python3.7/dist-packages (from requests->transformers) (3.0.4)\n",
      "Requirement already satisfied: certifi>=2017.4.17 in /usr/local/lib/python3.7/dist-packages (from requests->transformers) (2022.6.15)\n",
      "Requirement already satisfied: igwn-auth-utils[requests]>=0.2.2 in /usr/local/lib/python3.7/dist-packages (from dqsegdb2->gwpy) (0.2.3)\n",
      "Requirement already satisfied: scitokens>=1.7.0 in /usr/local/lib/python3.7/dist-packages (from igwn-auth-utils[requests]>=0.2.2->dqsegdb2->gwpy) (1.7.0)\n",
      "Requirement already satisfied: cryptography>=2.3 in /usr/local/lib/python3.7/dist-packages (from igwn-auth-utils[requests]>=0.2.2->dqsegdb2->gwpy) (37.0.4)\n",
      "Requirement already satisfied: safe-netrc>=1.0.0 in /usr/local/lib/python3.7/dist-packages (from igwn-auth-utils[requests]>=0.2.2->dqsegdb2->gwpy) (1.0.0)\n",
      "Requirement already satisfied: cffi>=1.12 in /usr/local/lib/python3.7/dist-packages (from cryptography>=2.3->igwn-auth-utils[requests]>=0.2.2->dqsegdb2->gwpy) (1.15.1)\n",
      "Requirement already satisfied: pycparser in /usr/local/lib/python3.7/dist-packages (from cffi>=1.12->cryptography>=2.3->igwn-auth-utils[requests]>=0.2.2->dqsegdb2->gwpy) (2.21)\n",
      "Requirement already satisfied: PyJWT>=1.6.1 in /usr/local/lib/python3.7/dist-packages (from scitokens>=1.7.0->igwn-auth-utils[requests]>=0.2.2->dqsegdb2->gwpy) (2.4.0)\n",
      "Requirement already satisfied: zipp>=0.5 in /usr/local/lib/python3.7/dist-packages (from importlib-metadata->transformers) (3.8.1)\n",
      "Requirement already satisfied: protobuf<=3.20.1,>=3.12.2 in /usr/local/lib/python3.7/dist-packages (from onnx->weightwatcher) (3.17.3)\n",
      "Requirement already satisfied: pytz>=2017.3 in /usr/local/lib/python3.7/dist-packages (from pandas->weightwatcher) (2022.1)\n",
      "Requirement already satisfied: mpmath in /usr/local/lib/python3.7/dist-packages (from powerlaw->weightwatcher) (1.2.1)\n",
      "Requirement already satisfied: scikit-learn in /usr/local/lib/python3.7/dist-packages (from sklearn->weightwatcher) (1.0.2)\n",
      "Requirement already satisfied: joblib>=0.11 in /usr/local/lib/python3.7/dist-packages (from scikit-learn->sklearn->weightwatcher) (1.1.0)\n",
      "Requirement already satisfied: threadpoolctl>=2.0.0 in /usr/local/lib/python3.7/dist-packages (from scikit-learn->sklearn->weightwatcher) (3.1.0)\n",
      "Requirement already satisfied: tensorflow-io-gcs-filesystem>=0.23.1 in /usr/local/lib/python3.7/dist-packages (from tensorflow->weightwatcher) (0.26.0)\n",
      "Requirement already satisfied: absl-py>=0.4.0 in /usr/local/lib/python3.7/dist-packages (from tensorflow->weightwatcher) (1.2.0)\n",
      "Requirement already satisfied: tensorflow-estimator<2.9,>=2.8 in /usr/local/lib/python3.7/dist-packages (from tensorflow->weightwatcher) (2.8.0)\n",
      "Requirement already satisfied: setuptools in /usr/local/lib/python3.7/dist-packages (from tensorflow->weightwatcher) (57.4.0)\n",
      "Requirement already satisfied: keras-preprocessing>=1.1.1 in /usr/local/lib/python3.7/dist-packages (from tensorflow->weightwatcher) (1.1.2)\n",
      "Requirement already satisfied: wrapt>=1.11.0 in /usr/local/lib/python3.7/dist-packages (from tensorflow->weightwatcher) (1.14.1)\n",
      "Requirement already satisfied: astunparse>=1.6.0 in /usr/local/lib/python3.7/dist-packages (from tensorflow->weightwatcher) (1.6.3)\n",
      "Requirement already satisfied: flatbuffers>=1.12 in /usr/local/lib/python3.7/dist-packages (from tensorflow->weightwatcher) (2.0)\n",
      "Requirement already satisfied: tensorboard<2.9,>=2.8 in /usr/local/lib/python3.7/dist-packages (from tensorflow->weightwatcher) (2.8.0)\n",
      "Requirement already satisfied: gast>=0.2.1 in /usr/local/lib/python3.7/dist-packages (from tensorflow->weightwatcher) (0.5.3)\n",
      "Requirement already satisfied: grpcio<2.0,>=1.24.3 in /usr/local/lib/python3.7/dist-packages (from tensorflow->weightwatcher) (1.47.0)\n",
      "Requirement already satisfied: opt-einsum>=2.3.2 in /usr/local/lib/python3.7/dist-packages (from tensorflow->weightwatcher) (3.3.0)\n",
      "Requirement already satisfied: google-pasta>=0.1.1 in /usr/local/lib/python3.7/dist-packages (from tensorflow->weightwatcher) (0.2.0)\n",
      "Requirement already satisfied: libclang>=9.0.1 in /usr/local/lib/python3.7/dist-packages (from tensorflow->weightwatcher) (14.0.1)\n",
      "Requirement already satisfied: keras<2.9,>=2.8.0rc0 in /usr/local/lib/python3.7/dist-packages (from tensorflow->weightwatcher) (2.8.0)\n",
      "Requirement already satisfied: termcolor>=1.1.0 in /usr/local/lib/python3.7/dist-packages (from tensorflow->weightwatcher) (1.1.0)\n",
      "Requirement already satisfied: wheel<1.0,>=0.23.0 in /usr/local/lib/python3.7/dist-packages (from astunparse>=1.6.0->tensorflow->weightwatcher) (0.37.1)\n",
      "Requirement already satisfied: tensorboard-plugin-wit>=1.6.0 in /usr/local/lib/python3.7/dist-packages (from tensorboard<2.9,>=2.8->tensorflow->weightwatcher) (1.8.1)\n",
      "Requirement already satisfied: tensorboard-data-server<0.7.0,>=0.6.0 in /usr/local/lib/python3.7/dist-packages (from tensorboard<2.9,>=2.8->tensorflow->weightwatcher) (0.6.1)\n",
      "Requirement already satisfied: google-auth<3,>=1.6.3 in /usr/local/lib/python3.7/dist-packages (from tensorboard<2.9,>=2.8->tensorflow->weightwatcher) (1.35.0)\n",
      "Requirement already satisfied: markdown>=2.6.8 in /usr/local/lib/python3.7/dist-packages (from tensorboard<2.9,>=2.8->tensorflow->weightwatcher) (3.4.1)\n",
      "Requirement already satisfied: werkzeug>=0.11.15 in /usr/local/lib/python3.7/dist-packages (from tensorboard<2.9,>=2.8->tensorflow->weightwatcher) (1.0.1)\n",
      "Requirement already satisfied: google-auth-oauthlib<0.5,>=0.4.1 in /usr/local/lib/python3.7/dist-packages (from tensorboard<2.9,>=2.8->tensorflow->weightwatcher) (0.4.6)\n",
      "Requirement already satisfied: pyasn1-modules>=0.2.1 in /usr/local/lib/python3.7/dist-packages (from google-auth<3,>=1.6.3->tensorboard<2.9,>=2.8->tensorflow->weightwatcher) (0.2.8)\n",
      "Requirement already satisfied: cachetools<5.0,>=2.0.0 in /usr/local/lib/python3.7/dist-packages (from google-auth<3,>=1.6.3->tensorboard<2.9,>=2.8->tensorflow->weightwatcher) (4.2.4)\n",
      "Requirement already satisfied: rsa<5,>=3.1.4 in /usr/local/lib/python3.7/dist-packages (from google-auth<3,>=1.6.3->tensorboard<2.9,>=2.8->tensorflow->weightwatcher) (4.9)\n",
      "Requirement already satisfied: requests-oauthlib>=0.7.0 in /usr/local/lib/python3.7/dist-packages (from google-auth-oauthlib<0.5,>=0.4.1->tensorboard<2.9,>=2.8->tensorflow->weightwatcher) (1.3.1)\n",
      "Requirement already satisfied: pyasn1<0.5.0,>=0.4.6 in /usr/local/lib/python3.7/dist-packages (from pyasn1-modules>=0.2.1->google-auth<3,>=1.6.3->tensorboard<2.9,>=2.8->tensorflow->weightwatcher) (0.4.8)\n",
      "Requirement already satisfied: oauthlib>=3.0.0 in /usr/local/lib/python3.7/dist-packages (from requests-oauthlib>=0.7.0->google-auth-oauthlib<0.5,>=0.4.1->tensorboard<2.9,>=2.8->tensorflow->weightwatcher) (3.2.0)\n",
      "Looking in indexes: https://pypi.org/simple, https://us-python.pkg.dev/colab-wheels/public/simple/\n",
      "Requirement already satisfied: sentence-transformers in /usr/local/lib/python3.7/dist-packages (2.2.2)\n",
      "Requirement already satisfied: nltk in /usr/local/lib/python3.7/dist-packages (from sentence-transformers) (3.7)\n",
      "Requirement already satisfied: transformers<5.0.0,>=4.6.0 in /usr/local/lib/python3.7/dist-packages (from sentence-transformers) (4.21.0)\n",
      "Requirement already satisfied: numpy in /usr/local/lib/python3.7/dist-packages (from sentence-transformers) (1.21.6)\n",
      "Requirement already satisfied: huggingface-hub>=0.4.0 in /usr/local/lib/python3.7/dist-packages (from sentence-transformers) (0.8.1)\n",
      "Requirement already satisfied: scipy in /usr/local/lib/python3.7/dist-packages (from sentence-transformers) (1.7.3)\n",
      "Requirement already satisfied: tqdm in /usr/local/lib/python3.7/dist-packages (from sentence-transformers) (4.64.0)\n",
      "Requirement already satisfied: torchvision in /usr/local/lib/python3.7/dist-packages (from sentence-transformers) (0.13.0+cu113)\n",
      "Requirement already satisfied: torch>=1.6.0 in /usr/local/lib/python3.7/dist-packages (from sentence-transformers) (1.12.0+cu113)\n",
      "Requirement already satisfied: sentencepiece in /usr/local/lib/python3.7/dist-packages (from sentence-transformers) (0.1.96)\n",
      "Requirement already satisfied: scikit-learn in /usr/local/lib/python3.7/dist-packages (from sentence-transformers) (1.0.2)\n",
      "Requirement already satisfied: pyyaml>=5.1 in /usr/local/lib/python3.7/dist-packages (from huggingface-hub>=0.4.0->sentence-transformers) (6.0)\n",
      "Requirement already satisfied: importlib-metadata in /usr/local/lib/python3.7/dist-packages (from huggingface-hub>=0.4.0->sentence-transformers) (4.12.0)\n",
      "Requirement already satisfied: filelock in /usr/local/lib/python3.7/dist-packages (from huggingface-hub>=0.4.0->sentence-transformers) (3.7.1)\n",
      "Requirement already satisfied: typing-extensions>=3.7.4.3 in /usr/local/lib/python3.7/dist-packages (from huggingface-hub>=0.4.0->sentence-transformers) (4.1.1)\n",
      "Requirement already satisfied: requests in /usr/local/lib/python3.7/dist-packages (from huggingface-hub>=0.4.0->sentence-transformers) (2.23.0)\n",
      "Requirement already satisfied: packaging>=20.9 in /usr/local/lib/python3.7/dist-packages (from huggingface-hub>=0.4.0->sentence-transformers) (21.3)\n",
      "Requirement already satisfied: pyparsing!=3.0.5,>=2.0.2 in /usr/local/lib/python3.7/dist-packages (from packaging>=20.9->huggingface-hub>=0.4.0->sentence-transformers) (3.0.9)\n",
      "Requirement already satisfied: tokenizers!=0.11.3,<0.13,>=0.11.1 in /usr/local/lib/python3.7/dist-packages (from transformers<5.0.0,>=4.6.0->sentence-transformers) (0.12.1)\n",
      "Requirement already satisfied: regex!=2019.12.17 in /usr/local/lib/python3.7/dist-packages (from transformers<5.0.0,>=4.6.0->sentence-transformers) (2022.6.2)\n",
      "Requirement already satisfied: zipp>=0.5 in /usr/local/lib/python3.7/dist-packages (from importlib-metadata->huggingface-hub>=0.4.0->sentence-transformers) (3.8.1)\n",
      "Requirement already satisfied: joblib in /usr/local/lib/python3.7/dist-packages (from nltk->sentence-transformers) (1.1.0)\n",
      "Requirement already satisfied: click in /usr/local/lib/python3.7/dist-packages (from nltk->sentence-transformers) (7.1.2)\n",
      "Requirement already satisfied: idna<3,>=2.5 in /usr/local/lib/python3.7/dist-packages (from requests->huggingface-hub>=0.4.0->sentence-transformers) (2.10)\n",
      "Requirement already satisfied: certifi>=2017.4.17 in /usr/local/lib/python3.7/dist-packages (from requests->huggingface-hub>=0.4.0->sentence-transformers) (2022.6.15)\n",
      "Requirement already satisfied: chardet<4,>=3.0.2 in /usr/local/lib/python3.7/dist-packages (from requests->huggingface-hub>=0.4.0->sentence-transformers) (3.0.4)\n",
      "Requirement already satisfied: urllib3!=1.25.0,!=1.25.1,<1.26,>=1.21.1 in /usr/local/lib/python3.7/dist-packages (from requests->huggingface-hub>=0.4.0->sentence-transformers) (1.24.3)\n",
      "Requirement already satisfied: threadpoolctl>=2.0.0 in /usr/local/lib/python3.7/dist-packages (from scikit-learn->sentence-transformers) (3.1.0)\n",
      "Requirement already satisfied: pillow!=8.3.*,>=5.3.0 in /usr/local/lib/python3.7/dist-packages (from torchvision->sentence-transformers) (7.1.2)\n"
     ]
    }
   ],
   "source": [
    "!pip install transformers weightwatcher gwpy matplotlib==3.1.3\n",
    "!pip install -U sentence-transformers\n"
   ]
  },
  {
   "cell_type": "code",
   "execution_count": 2,
   "metadata": {
    "id": "3Njk404j45AV"
   },
   "outputs": [],
   "source": []
  },
  {
   "cell_type": "markdown",
   "metadata": {
    "id": "S-HDOpOm3iI6"
   },
   "source": [
    "### Read top 10 Sentence Transformers\n",
    "\n"
   ]
  },
  {
   "cell_type": "code",
   "execution_count": 3,
   "metadata": {
    "colab": {
     "base_uri": "https://localhost:8080/"
    },
    "id": "cR5auUG_3okE",
    "outputId": "42f0f322-5cd8-4a6a-9726-73fee178b92e"
   },
   "outputs": [
    {
     "name": "stdout",
     "output_type": "stream",
     "text": [
      "--2022-07-29 23:49:45--  https://huggingface.co/sentence-transformers\n",
      "Resolving huggingface.co (huggingface.co)... 52.7.130.46, 35.174.43.234, 2600:1f18:147f:e800:5f77:9552:5369:f1d5, ...\n",
      "Connecting to huggingface.co (huggingface.co)|52.7.130.46|:443... connected.\n",
      "HTTP request sent, awaiting response... 200 OK\n",
      "Length: 188943 (185K) [text/html]\n",
      "Saving to: ‘sentence-transformers.2’\n",
      "\n",
      "sentence-transforme 100%[===================>] 184.51K   336KB/s    in 0.5s    \n",
      "\n",
      "2022-07-29 23:49:47 (336 KB/s) - ‘sentence-transformers.2’ saved [188943/188943]\n",
      "\n"
     ]
    }
   ],
   "source": [
    "!wget https://huggingface.co/sentence-transformers "
   ]
  },
  {
   "cell_type": "code",
   "execution_count": 4,
   "metadata": {
    "id": "F4qsjyAo47DK"
   },
   "outputs": [],
   "source": [
    "!cat sentence-transformers | grep \"sentence-transformers\" | grep \"h4\" | head -10  | sed -e 's/\">sentence-transformers\\///g' | sed -e 's/<\\/h4>//g'> 'sentence_transformers.txt'"
   ]
  },
  {
   "cell_type": "code",
   "execution_count": 5,
   "metadata": {
    "colab": {
     "base_uri": "https://localhost:8080/",
     "height": 363
    },
    "id": "6btoFfa73ffJ",
    "outputId": "72a5437d-82e7-4c42-bcef-cf48762a1a31"
   },
   "outputs": [
    {
     "data": {
      "text/html": [
       "\n",
       "  <div id=\"df-617f9a45-4c09-4399-a694-2090dd8596f0\">\n",
       "    <div class=\"colab-df-container\">\n",
       "      <div>\n",
       "<style scoped>\n",
       "    .dataframe tbody tr th:only-of-type {\n",
       "        vertical-align: middle;\n",
       "    }\n",
       "\n",
       "    .dataframe tbody tr th {\n",
       "        vertical-align: top;\n",
       "    }\n",
       "\n",
       "    .dataframe thead th {\n",
       "        text-align: right;\n",
       "    }\n",
       "</style>\n",
       "<table border=\"1\" class=\"dataframe\">\n",
       "  <thead>\n",
       "    <tr style=\"text-align: right;\">\n",
       "      <th></th>\n",
       "      <th>model_name</th>\n",
       "    </tr>\n",
       "  </thead>\n",
       "  <tbody>\n",
       "    <tr>\n",
       "      <th>0</th>\n",
       "      <td>multi-qa-MiniLM-L6-cos-v1</td>\n",
       "    </tr>\n",
       "    <tr>\n",
       "      <th>1</th>\n",
       "      <td>all-MiniLM-L6-v2</td>\n",
       "    </tr>\n",
       "    <tr>\n",
       "      <th>2</th>\n",
       "      <td>multi-qa-distilbert-cos-v1</td>\n",
       "    </tr>\n",
       "    <tr>\n",
       "      <th>3</th>\n",
       "      <td>all-MiniLM-L12-v2</td>\n",
       "    </tr>\n",
       "    <tr>\n",
       "      <th>4</th>\n",
       "      <td>all-distilroberta-v1</td>\n",
       "    </tr>\n",
       "    <tr>\n",
       "      <th>5</th>\n",
       "      <td>multi-qa-mpnet-base-dot-v1</td>\n",
       "    </tr>\n",
       "    <tr>\n",
       "      <th>6</th>\n",
       "      <td>all-mpnet-base-v2</td>\n",
       "    </tr>\n",
       "    <tr>\n",
       "      <th>7</th>\n",
       "      <td>paraphrase-MiniLM-L3-v2</td>\n",
       "    </tr>\n",
       "    <tr>\n",
       "      <th>8</th>\n",
       "      <td>paraphrase-albert-small-v2</td>\n",
       "    </tr>\n",
       "    <tr>\n",
       "      <th>9</th>\n",
       "      <td>sentence-t5-base</td>\n",
       "    </tr>\n",
       "  </tbody>\n",
       "</table>\n",
       "</div>\n",
       "      <button class=\"colab-df-convert\" onclick=\"convertToInteractive('df-617f9a45-4c09-4399-a694-2090dd8596f0')\"\n",
       "              title=\"Convert this dataframe to an interactive table.\"\n",
       "              style=\"display:none;\">\n",
       "        \n",
       "  <svg xmlns=\"http://www.w3.org/2000/svg\" height=\"24px\"viewBox=\"0 0 24 24\"\n",
       "       width=\"24px\">\n",
       "    <path d=\"M0 0h24v24H0V0z\" fill=\"none\"/>\n",
       "    <path d=\"M18.56 5.44l.94 2.06.94-2.06 2.06-.94-2.06-.94-.94-2.06-.94 2.06-2.06.94zm-11 1L8.5 8.5l.94-2.06 2.06-.94-2.06-.94L8.5 2.5l-.94 2.06-2.06.94zm10 10l.94 2.06.94-2.06 2.06-.94-2.06-.94-.94-2.06-.94 2.06-2.06.94z\"/><path d=\"M17.41 7.96l-1.37-1.37c-.4-.4-.92-.59-1.43-.59-.52 0-1.04.2-1.43.59L10.3 9.45l-7.72 7.72c-.78.78-.78 2.05 0 2.83L4 21.41c.39.39.9.59 1.41.59.51 0 1.02-.2 1.41-.59l7.78-7.78 2.81-2.81c.8-.78.8-2.07 0-2.86zM5.41 20L4 18.59l7.72-7.72 1.47 1.35L5.41 20z\"/>\n",
       "  </svg>\n",
       "      </button>\n",
       "      \n",
       "  <style>\n",
       "    .colab-df-container {\n",
       "      display:flex;\n",
       "      flex-wrap:wrap;\n",
       "      gap: 12px;\n",
       "    }\n",
       "\n",
       "    .colab-df-convert {\n",
       "      background-color: #E8F0FE;\n",
       "      border: none;\n",
       "      border-radius: 50%;\n",
       "      cursor: pointer;\n",
       "      display: none;\n",
       "      fill: #1967D2;\n",
       "      height: 32px;\n",
       "      padding: 0 0 0 0;\n",
       "      width: 32px;\n",
       "    }\n",
       "\n",
       "    .colab-df-convert:hover {\n",
       "      background-color: #E2EBFA;\n",
       "      box-shadow: 0px 1px 2px rgba(60, 64, 67, 0.3), 0px 1px 3px 1px rgba(60, 64, 67, 0.15);\n",
       "      fill: #174EA6;\n",
       "    }\n",
       "\n",
       "    [theme=dark] .colab-df-convert {\n",
       "      background-color: #3B4455;\n",
       "      fill: #D2E3FC;\n",
       "    }\n",
       "\n",
       "    [theme=dark] .colab-df-convert:hover {\n",
       "      background-color: #434B5C;\n",
       "      box-shadow: 0px 1px 3px 1px rgba(0, 0, 0, 0.15);\n",
       "      filter: drop-shadow(0px 1px 2px rgba(0, 0, 0, 0.3));\n",
       "      fill: #FFFFFF;\n",
       "    }\n",
       "  </style>\n",
       "\n",
       "      <script>\n",
       "        const buttonEl =\n",
       "          document.querySelector('#df-617f9a45-4c09-4399-a694-2090dd8596f0 button.colab-df-convert');\n",
       "        buttonEl.style.display =\n",
       "          google.colab.kernel.accessAllowed ? 'block' : 'none';\n",
       "\n",
       "        async function convertToInteractive(key) {\n",
       "          const element = document.querySelector('#df-617f9a45-4c09-4399-a694-2090dd8596f0');\n",
       "          const dataTable =\n",
       "            await google.colab.kernel.invokeFunction('convertToInteractive',\n",
       "                                                     [key], {});\n",
       "          if (!dataTable) return;\n",
       "\n",
       "          const docLinkHtml = 'Like what you see? Visit the ' +\n",
       "            '<a target=\"_blank\" href=https://colab.research.google.com/notebooks/data_table.ipynb>data table notebook</a>'\n",
       "            + ' to learn more about interactive tables.';\n",
       "          element.innerHTML = '';\n",
       "          dataTable['output_type'] = 'display_data';\n",
       "          await google.colab.output.renderOutput(dataTable, element);\n",
       "          const docLink = document.createElement('div');\n",
       "          docLink.innerHTML = docLinkHtml;\n",
       "          element.appendChild(docLink);\n",
       "        }\n",
       "      </script>\n",
       "    </div>\n",
       "  </div>\n",
       "  "
      ],
      "text/plain": [
       "                   model_name\n",
       "0   multi-qa-MiniLM-L6-cos-v1\n",
       "1            all-MiniLM-L6-v2\n",
       "2  multi-qa-distilbert-cos-v1\n",
       "3           all-MiniLM-L12-v2\n",
       "4        all-distilroberta-v1\n",
       "5  multi-qa-mpnet-base-dot-v1\n",
       "6           all-mpnet-base-v2\n",
       "7     paraphrase-MiniLM-L3-v2\n",
       "8  paraphrase-albert-small-v2\n",
       "9            sentence-t5-base"
      ]
     },
     "execution_count": 5,
     "metadata": {},
     "output_type": "execute_result"
    }
   ],
   "source": [
    "df = pd.read_csv('sentence_transformers.txt', header=None)\n",
    "df.rename(columns={0:'model_name'}, inplace=True)\n",
    "df['model_name']=df['model_name'].str.strip()\n",
    "df"
   ]
  },
  {
   "cell_type": "markdown",
   "metadata": {
    "id": "Jj2u-5Te9TAr"
   },
   "source": [
    "### Run WeightWatcher on all 10 models"
   ]
  },
  {
   "cell_type": "code",
   "execution_count": 6,
   "metadata": {
    "id": "O12OcpOG7DEE"
   },
   "outputs": [],
   "source": [
    "%%capture\n",
    "\n",
    "from sentence_transformers import SentenceTransformer\n",
    "import weightwatcher as ww\n",
    "import logging\n",
    "\n",
    "logging.basicConfig(level=logging.INFO)\n",
    "logger = logging.getLogger(ww.__name__) \n",
    "logger.setLevel(logging.FATAL)\n",
    "\n",
    "top10_details = {}\n",
    "for model_name in df.model_name.to_numpy():\n",
    "    print(model_name)\n",
    "\n",
    "    model = SentenceTransformer(model_name)\n",
    "    watcher = ww.WeightWatcher(model=model)\n",
    "    details = watcher.analyze()\n",
    "    top10_details[model_name] = details"
   ]
  },
  {
   "cell_type": "markdown",
   "metadata": {
    "id": "G1sL2i3mIpFk"
   },
   "source": [
    "### There is only 1 sentence transformer model with\n",
    "\n",
    "- mean alpha < 4\n",
    "- no alphas > 8"
   ]
  },
  {
   "cell_type": "code",
   "execution_count": 7,
   "metadata": {
    "colab": {
     "base_uri": "https://localhost:8080/",
     "height": 627
    },
    "id": "Fm4qKkwf7xQ0",
    "outputId": "9563b028-13ad-41ec-efe2-d30dbaabc512"
   },
   "outputs": [
    {
     "name": "stdout",
     "output_type": "stream",
     "text": [
      "multi-qa-distilbert-cos-v1 3.89216609234006\n",
      "paraphrase-albert-small-v2 3.8947887159980206\n"
     ]
    },
    {
     "data": {
      "image/png": "[encoded data removed]",
      "text/plain": [
       "<Figure size 720x720 with 1 Axes>"
      ]
     },
     "metadata": {
      "needs_background": "light"
     },
     "output_type": "display_data"
    }
   ],
   "source": [
    "import matplotlib.pyplot as plt\n",
    "plt.rcParams[\"figure.figsize\"] = (10,10)\n",
    "\n",
    "\n",
    "for model_name, details in top10_details.items():\n",
    "  fixed_details = details[details.alpha > 0]\n",
    "  alpha_mean = fixed_details.alpha.mean()\n",
    "  alpha_max = fixed_details.alpha.max()\n",
    "  if  alpha_mean < 4.0 and alpha_max < 8.0 :\n",
    "    print(model_name, alpha_mean)\n",
    "    plt.hist(fixed_details.alpha, bins=100, label=model_name, alpha=0.5, density=True)\n",
    "    plt.xlabel(\"WeightWatcher PL alpha metric\")\n",
    "    plt.legend()\n",
    "    #plt.show()"
   ]
  },
  {
   "cell_type": "markdown",
   "metadata": {
    "id": "vPSxK6zMQ0H7"
   },
   "source": [
    "### Look at over 100 sentence transformers"
   ]
  },
  {
   "cell_type": "code",
   "execution_count": 7,
   "metadata": {
    "id": "Vkrc7QhpSi9c"
   },
   "outputs": [],
   "source": []
  },
  {
   "cell_type": "code",
   "execution_count": 8,
   "metadata": {
    "id": "2Vd58KB4SjAa"
   },
   "outputs": [],
   "source": [
    "all_model_names = [\"multi-qa-MiniLM-L6-cos-v1\",\n",
    "\"all-MiniLM-L6-v2\",\n",
    "\"multi-qa-distilbert-cos-v1\",\n",
    "\"all-MiniLM-L12-v2\",\n",
    "\"all-distilroberta-v1\",\n",
    "\"multi-qa-mpnet-base-dot-v1\",\n",
    "\"all-mpnet-base-v2\",\n",
    "\"paraphrase-MiniLM-L3-v2\",\n",
    "\"paraphrase-albert-small-v2\",\n",
    "\"sentence-t5-base\",\n",
    "\"distiluse-base-multilingual-cased\",\n",
    "\"distilroberta-base-msmarco-v1\",\n",
    "\"nli-bert-large-cls-pooling\",\n",
    "\"xlm-r-base-en-ko-nli-ststb\",\n",
    "\"bert-large-nli-cls-token\",\n",
    "\"nli-distilbert-base-max-pooling\",\n",
    "\"nli-bert-large-max-pooling\",\n",
    "\"xlm-r-bert-base-nli-mean-tokens\",\n",
    "\"msmarco-roberta-base-v2\",\n",
    "\"distilbert-base-nli-max-tokens\",\n",
    "\"xlm-r-100langs-bert-base-nli-mean-tokens\",\n",
    "\"msmarco-MiniLM-L-12-v3\",\n",
    "\"msmarco-MiniLM-L12-cos-v5\",\n",
    "\"nli-distilbert-base\",\n",
    "\"xlm-r-large-en-ko-nli-ststb\",\n",
    "\"quora-distilbert-base\",\n",
    "\"facebook-dpr-question_encoder-single-nq-base\",\n",
    "\"facebook-dpr-question_encoder-multiset-base\",\n",
    "\"nli-bert-base\",\n",
    "\"bert-large-nli-max-tokens\",\n",
    "\"msmarco-roberta-base-ance-firstp\",\n",
    "\"bert-base-nli-cls-token\",\n",
    "\"stsb-bert-large\",\n",
    "\"facebook-dpr-ctx_encoder-multiset-base\",\n",
    "\"bert-large-nli-stsb-mean-tokens\",\n",
    "\"multi-qa-MiniLM-L6-dot-v1\",\n",
    "\"msmarco-distilbert-multilingual-en-de-v2-tmp-trained-scratch\",\n",
    "\"nli-roberta-base-v2\",\n",
    "\"nli-roberta-base\",\n",
    "\"stsb-distilroberta-base-v2\",\n",
    "\"bert-base-wikipedia-sections-mean-tokens\",\n",
    "\"stsb-bert-base\",\n",
    "\"paraphrase-albert-base-v2\",\n",
    "\"msmarco-distilbert-base-dot-prod-v3\",\n",
    "\"msmarco-distilbert-multilingual-en-de-v2-tmp-lng-aligned\",\n",
    "\"bert-large-nli-mean-tokens\",\n",
    "\"xlm-r-distilroberta-base-paraphrase-v1\",\n",
    "\"msmarco-roberta-base-v3\",\n",
    "\"bert-base-nli-max-tokens\",\n",
    "\"distilbert-base-nli-stsb-quora-ranking\",\n",
    "\"msmarco-MiniLM-L6-cos-v5\",\n",
    "\"msmarco-distilroberta-base-v2\",\n",
    "\"nli-distilroberta-base-v2\",\n",
    "\"roberta-base-nli-mean-tokens\",\n",
    "\"distilroberta-base-paraphrase-v1\",\n",
    "\"msmarco-MiniLM-L-6-v3\",\n",
    "\"distilroberta-base-msmarco-v2\",\n",
    "\"nq-distilbert-base-v1\",\n",
    "\"msmarco-distilbert-cos-v5\",\n",
    "\"msmarco-distilbert-base-v2\",\n",
    "\"msmarco-distilbert-base-v3\",\n",
    "\"stsb-xlm-r-multilingual\",\n",
    "\"msmarco-distilbert-base-tas-b\",\n",
    "\"allenai-specter\",\n",
    "\"roberta-large-nli-stsb-mean-tokens\",\n",
    "\"roberta-base-nli-stsb-mean-tokens\",\n",
    "\"use-cmlm-multilingual\",\n",
    "\"xlm-r-100langs-bert-base-nli-stsb-mean-tokens\",\n",
    "\"stsb-roberta-base\",\n",
    "\"msmarco-bert-base-dot-v5\",\n",
    "\"quora-distilbert-multilingual\",\n",
    "\"stsb-roberta-large\",\n",
    "\"xlm-r-bert-base-nli-stsb-mean-tokens\",\n",
    "\"paraphrase-MiniLM-L12-v2\",\n",
    "\"clip-ViT-B-32-multilingual-v1\",\n",
    "\"msmarco-distilbert-dot-v5\",\n",
    "\"nli-mpnet-base-v2\",\n",
    "\"paraphrase-TinyBERT-L6-v2\",\n",
    "\"distiluse-base-multilingual-cased-v1\",\n",
    "\"distilbert-base-nli-stsb-mean-tokens\",\n",
    "\"stsb-roberta-base-v2\",\n",
    "\"paraphrase-distilroberta-base-v1\",\n",
    "\"bert-base-nli-stsb-mean-tokens\",\n",
    "\"LaBSE\",\n",
    "\"stsb-distilbert-base\",\n",
    "\"paraphrase-distilroberta-base-v2\",\n",
    "\"paraphrase-multilingual-mpnet-base-v2\",\n",
    "\"distilbert-base-nli-mean-tokens\",\n",
    "\"distilbert-multilingual-nli-stsb-quora-ranking\",\n",
    "\"msmarco-distilbert-base-v4\",\n",
    "\"paraphrase-xlm-r-multilingual-v1\",\n",
    "\"distiluse-base-multilingual-cased-v2\",\n",
    "\"paraphrase-mpnet-base-v2\",\n",
    "\"paraphrase-multilingual-MiniLM-L12-v2\",\n",
    "\"paraphrase-MiniLM-L6-v2\",\n",
    "\"bert-base-nli-mean-tokens\",\n",
    "\"clip-ViT-B-16\",\n",
    "\"clip-ViT-L-14\",\n",
    "\"clip-ViT-B-32\",\n",
    "\"sentence-t5-xxl\",\n",
    "\"sentence-t5-xl\",\n",
    "\"sentence-t5-large\",\n",
    "\"gtr-t5-large\",\n",
    "\"gtr-t5-xl\",\n",
    "\"gtr-t5-base\",\n",
    "\"gtr-t5-xxl\",\n",
    "\"msmarco-bert-co-condensor\",\n",
    "\"all-roberta-large-v1\",\n",
    "\"all-mpnet-base-v1\",\n",
    "\"all-MiniLM-L12-v1\",\n",
    "\"all-MiniLM-L6-v1\",\n",
    "\"multi-qa-mpnet-base-cos-v1\",\n",
    "\"multi-qa-distilbert-dot-v1\",\n",
    "\"stsb-mpnet-base-v2\",\n",
    "\"roberta-large-nli-mean-tokens\",\n",
    "\"nli-roberta-large\",\n",
    "\"nli-bert-large\",\n",
    "\"nli-bert-base-max-pooling\",\n",
    "\"nli-bert-base-cls-pooling\",\n",
    "\"facebook-dpr-ctx_encoder-single-nq-base\",\n",
    "\"average_word_embeddings_levy_dependency\",\n",
    "\"average_word_embeddings_komninos\",\n",
    "\"average_word_embeddings_glove.840B.300d\",\n",
    "\"average_word_embeddings_glove.6B.300d\"]"
   ]
  },
  {
   "cell_type": "code",
   "execution_count": null,
   "metadata": {
    "id": "wi-tbHHzSjDU"
   },
   "outputs": [],
   "source": [
    "%%capture\n",
    "import warnings\n",
    "warnings.filterwarnings('ignore')\n",
    "\n",
    "all_details = {}\n",
    "for model_name in all_model_names:\n",
    "    print(model_name)\n",
    "\n",
    "    model = SentenceTransformer(model_name)\n",
    "    watcher = ww.WeightWatcher(model=model)\n",
    "    details = watcher.analyze()\n",
    "    all_details[model_name] = details\n"
   ]
  },
  {
   "cell_type": "markdown",
   "metadata": {
    "id": "YRxtLKRoW3T6"
   },
   "source": [
    "### Compute mean alphas\n",
    "\n",
    "- do not include alpha < 0\n",
    "\n"
   ]
  },
  {
   "cell_type": "code",
   "execution_count": null,
   "metadata": {
    "id": "KGydkYT1Ww7H"
   },
   "outputs": [],
   "source": [
    "mean_alphas = []\n",
    "\n",
    "for model_name, details in sll_details.items():\n",
    "  fixed_details = details[details.alpha > 0]\n",
    "  alpha_mean = fixed_details.alpha.mean()\n",
    "  mean_alphas.append(alpha_mean)  \n",
    "\n",
    "plt.hist(mean_alphas, bins=100)"
   ]
  },
  {
   "cell_type": "markdown",
   "metadata": {
    "id": "-z6E2iUJXLMd"
   },
   "source": [
    "### Identify models that pass basic quality check\n",
    " \n",
    " - mean alpha < 4\n",
    " - no alpha outliers > 8"
   ]
  },
  {
   "cell_type": "code",
   "execution_count": null,
   "metadata": {
    "id": "MJY089H3YXce"
   },
   "outputs": [],
   "source": [
    "\n",
    "for model_name, details in all_details.items():\n",
    "  fixed_details = details[details.alpha > 0]\n",
    "  alpha_mean = fixed_details.alpha.mean()\n",
    "  alpha_max = fixed_details.alpha.max()\n",
    "  if  alpha_mean < 4.0 and alpha_max < 8.0 :\n",
    "    print(model_name, alpha_mean)"
   ]
  },
  {
   "cell_type": "code",
   "execution_count": null,
   "metadata": {
    "id": "lP2R1kAn6fgO"
   },
   "outputs": [],
   "source": [
    "while True;\n",
    "  pass"
   ]
  },
  {
   "cell_type": "code",
   "execution_count": null,
   "metadata": {
    "id": "t6Ks4E-iWwD7"
   },
   "outputs": [],
   "source": []
  }
 ],
 "metadata": {
  "accelerator": "GPU",
  "colab": {
   "collapsed_sections": [],
   "include_colab_link": true,
   "machine_shape": "hm",
   "name": "WW_Sentence_Transformers.ipynb",
   "provenance": []
  },
  "kernelspec": {
   "display_name": "Python 3",
   "language": "python",
   "name": "python3"
  },
  "language_info": {
   "codemirror_mode": {
    "name": "ipython",
    "version": 3
   },
   "file_extension": ".py",
   "mimetype": "text/x-python",
   "name": "python",
   "nbconvert_exporter": "python",
   "pygments_lexer": "ipython3",
   "version": "3.7.4"
  }
 },
 "nbformat": 4,
 "nbformat_minor": 1
}
