{
 "cells": [
  {
   "cell_type": "raw",
   "metadata": {
    "colab_type": "text",
    "id": "view-in-github"
   },
   "source": [
    "<a href=\"https://colab.research.google.com/github/CalculatedContent/WeightWatcher/blob/master/examples/WW-Laplacian.ipynb\" target=\"_parent\"><img src=\"https://colab.research.google.com/assets/colab-badge.svg\" alt=\"Open In Colab\"/></a>"
   ]
  },
  {
   "cell_type": "markdown",
   "metadata": {},
   "source": [
    "### The last layer in ALBERT has some 'fingers' sticking out\n",
    "\n",
    "The red line is at the 10th eigenvalue from the top"
   ]
  },
  {
   "cell_type": "code",
   "execution_count": null,
   "metadata": {},
   "outputs": [],
   "source": [
    "plt.hist(np.log10(esd), bins=100, log=True, density=True);\n",
    "plt.axvline(np.log10(esd[-10]), color='red', label=r\"$\\lambda_{10}$\");\n",
    "plt.title(r\"ALBERT last layer , $\\alpha\\sim1.75$ \")\n",
    "plt.legend()\n",
    "plt.xlabel(r\"Log Eigenvalues $\\log_{10}\\lambda$\")\n",
    "plt.ylabel(\"Density\")"
   ]
  },
  {
   "cell_type": "markdown",
   "metadata": {},
   "source": [
    "### If we cut off the last few eigenvalues, and redo the powerlsw fit, alpha does not change much\n",
    "\n",
    "Which is a good sign for the stabilty"
   ]
  },
  {
   "cell_type": "code",
   "execution_count": null,
   "metadata": {},
   "outputs": [],
   "source": [
    "import powerlaw\n",
    "for n in range(1, 50):\n",
    "    fit = powerlaw.Fit(esd[:-n])\n",
    "    print(n, fit.alpha, fit.sigma, fit.D)"
   ]
  },
  {
   "cell_type": "markdown",
   "metadata": {},
   "source": [
    "### What does it mean for $\\alpha < 2$ then  ?\n",
    "\n",
    "- is this layer a bit overfit ?\n",
    "\n",
    "- is it atypical ?"
   ]
  },
  {
   "cell_type": "code",
   "execution_count": null,
   "metadata": {},
   "outputs": [],
   "source": [
    "W = watcher.get_Weights(layer=26)[0]"
   ]
  },
  {
   "cell_type": "code",
   "execution_count": null,
   "metadata": {},
   "outputs": [],
   "source": [
    "W.shape"
   ]
  },
  {
   "cell_type": "markdown",
   "metadata": {},
   "source": [
    "###  if W has converged, we should  be able to fit it elementwise to a Lapacian distribution"
   ]
  },
  {
   "cell_type": "code",
   "execution_count": null,
   "metadata": {},
   "outputs": [],
   "source": [
    "from scipy.stats import kstest, laplace\n",
    "import numpy as np\n",
    "\n",
    "def fit_laplacian(W, plot=True, sample_size=10000):\n",
    "    \"\"\"Fits the elements of a matrix W to a Laplacian density\n",
    "    \n",
    "    Returns the parameters of the fit and quality\n",
    "    \n",
    "    \"\"\"\n",
    "    W_elements = W.flatten()\n",
    "    loc, scale = laplace.fit(W_elements)\n",
    "    \n",
    "    # Create theoretical Laplacian distribution\n",
    "    lap_dist = laplace(loc, scale)\n",
    "\n",
    "    D, p = kstest(W_elements, lap_dist.cdf)\n",
    "\n",
    "    if plot:\n",
    "        # sample from W\n",
    "        data = np.random.choice(W_elements, size=sample_size, replace=True)\n",
    "        plt.hist(data, bins=1000, density=True, alpha=0.6, color='b', label='Sample Data')\n",
    "\n",
    "\n",
    "        # Plot the fitted Laplacian distribution\n",
    "        x = np.linspace(lap_dist.ppf(0.01), lap_dist.ppf(0.99), 100)\n",
    "        plt.plot(x, lap_dist.pdf(x), 'r-', lw=2, alpha=0.6, label='Fitted Laplacian')\n",
    "    \n",
    "        plt.legend()\n",
    "        plt.show()\n",
    "        \n",
    "        \n",
    "    print(f\"loc={loc:0.2f} scale={scale:0.2f} D={D:0.2f} p={p:0.2f}\")\n",
    "    \n",
    "    return loc, scale, D, p\n",
    "    "
   ]
  },
  {
   "cell_type": "code",
   "execution_count": null,
   "metadata": {},
   "outputs": [],
   "source": [
    "loc, scale, D, p = fit_laplacian(W)"
   ]
  },
  {
   "cell_type": "code",
   "execution_count": null,
   "metadata": {},
   "outputs": [],
   "source": [
    "layer_ids = details.layer_id.to_numpy()"
   ]
  },
  {
   "cell_type": "code",
   "execution_count": null,
   "metadata": {},
   "outputs": [],
   "source": [
    "laplacian_scales = []\n",
    "laplacian_Ds = []\n",
    "max_W = []\n",
    "\n",
    "for layer_id in layer_ids:\n",
    "    W = watcher.get_Weights(layer=layer_id)[0];\n",
    "    loc, scale, D, p = fit_laplacian(W, plot=False);\n",
    "    laplacian_scales.append(scale)\n",
    "    laplacian_Ds.append(D)\n",
    "    max_W.append(np.max(np.abs(W)))"
   ]
  },
  {
   "cell_type": "code",
   "execution_count": null,
   "metadata": {},
   "outputs": [],
   "source": [
    "plt.scatter(details.alpha.to_numpy(), max_W)\n",
    "plt.xlim(1,5)\n",
    "plt.xlabel(r\"Power Law fit: alpha $\\alpha$\")\n",
    "plt.ylabel(\"Laplacian fit: scale\")\n",
    "plt.title(\"ALBERT: Power Law fit vs Laplacian fit\")"
   ]
  },
  {
   "cell_type": "code",
   "execution_count": null,
   "metadata": {},
   "outputs": [],
   "source": [
    "plt.scatter(details.alpha.to_numpy(), max_W)\n",
    "plt.xlabel(r\"Power Law fit: alpha $\\alpha$\")\n",
    "plt.ylabel(\"max W\")\n",
    "plt.title(\"ALBERT: Power Law fit vs Max W\")\n"
   ]
  },
  {
   "cell_type": "code",
   "execution_count": null,
   "metadata": {},
   "outputs": [],
   "source": [
    "for alpha, scale in zip(details.alpha.to_numpy(), laplacian_scales):\n",
    "    lap_dist = laplace(0.0, scale)\n",
    "    \n",
    "    #if alpha < 6 and alpha > 1.5:\n",
    "\n",
    "    if alpha> 4 or alpha < 2 or (alpha > 3 and alpha < 3.07):\n",
    "        # Plot the fitted Laplacian distribution\n",
    "        x = np.linspace(lap_dist.ppf(0.01), lap_dist.ppf(0.99), 100)\n",
    "        plt.plot(x, lap_dist.pdf(x),  lw=2, alpha=0.6, label=r\"$\\alpha=$\"+f\"{alpha:0.2f}\")\n",
    "\n",
    "plt.title(\"Laplacian fits for  few ALBERT layers\"            )\n",
    "plt.legend()\n",
    "plt.show()"
   ]
  },
  {
   "cell_type": "code",
   "execution_count": null,
   "metadata": {},
   "outputs": [],
   "source": [
    "for alpha, scale in zip(details.alpha.to_numpy(), laplacian_scales):\n",
    "    lap_dist = laplace(0.0, scale)\n",
    "    \n",
    "\n",
    "    # Plot the fitted Laplacian distribution\n",
    "    if alpha < 2:\n",
    "        x = np.linspace(lap_dist.ppf(0.01), lap_dist.ppf(0.99), 100)\n",
    "        plt.plot(x, lap_dist.pdf(x),  lw=2, alpha=0.6, label=r\"$\\alpha=$\"+f\"{alpha:0.2f}\")\n",
    "\n",
    "plt.title(\"Laplacian fits for  few ALBERT layers\"            )\n",
    "plt.legend()\n",
    "plt.show()"
   ]
  },
  {
   "cell_type": "code",
   "execution_count": null,
   "metadata": {},
   "outputs": [],
   "source": [
    "plt.scatter(laplacian_scales, max_W)\n",
    "plt.xlabel(r\"laplacian_scales\")\n",
    "plt.ylabel(\"max W\")\n",
    "plt.title(\"ALBERT: Max W vs Laplacian fit\")\n",
    "#plt.ylim(0,2)"
   ]
  },
  {
   "cell_type": "code",
   "execution_count": null,
   "metadata": {},
   "outputs": [],
   "source": [
    "plt.scatter(laplacian_scales, max_W)\n",
    "plt.xlabel(r\"laplacian_scales\")\n",
    "plt.ylabel(\"max W\")\n",
    "plt.title(\"ALBERT: Max W vs Laplacian fit\")\n",
    "plt.ylim(0,2)"
   ]
  },
  {
   "cell_type": "code",
   "execution_count": null,
   "metadata": {},
   "outputs": [],
   "source": [
    "details"
   ]
  },
  {
   "cell_type": "code",
   "execution_count": null,
   "metadata": {
    "scrolled": false
   },
   "outputs": [],
   "source": [
    "watcher.analyze(layers=[26], plot=True)"
   ]
  },
  {
   "cell_type": "code",
   "execution_count": null,
   "metadata": {},
   "outputs": [],
   "source": [
    "esd = watcher.get_ESD(layer=17)"
   ]
  },
  {
   "cell_type": "code",
   "execution_count": null,
   "metadata": {},
   "outputs": [],
   "source": [
    "plt.hist(esd, log=True, bins=100);"
   ]
  },
  {
   "cell_type": "code",
   "execution_count": null,
   "metadata": {},
   "outputs": [],
   "source": [
    "plt.hist(np.log10(esd), log=True, bins=100);"
   ]
  },
  {
   "cell_type": "code",
   "execution_count": null,
   "metadata": {},
   "outputs": [],
   "source": [
    "\n",
    "plt.hist(np.log10(esd[esd>10]), log=True, bins=100);"
   ]
  },
  {
   "cell_type": "code",
   "execution_count": null,
   "metadata": {
    "scrolled": false
   },
   "outputs": [],
   "source": [
    "details_17_xxlarge = watcher.analyze(layers=[17], fix_fingers='xmin_peak', xmin_max = 15, plot=True)"
   ]
  },
  {
   "cell_type": "markdown",
   "metadata": {},
   "source": [
    "### VGG\n"
   ]
  },
  {
   "cell_type": "code",
   "execution_count": 1,
   "metadata": {},
   "outputs": [],
   "source": [
    "import weightwatcher as ww\n",
    "import logging"
   ]
  },
  {
   "cell_type": "code",
   "execution_count": 2,
   "metadata": {},
   "outputs": [
    {
     "name": "stdout",
     "output_type": "stream",
     "text": [
      "\n",
      "\n",
      "python      version 3.9.13 (main, Aug 25 2022, 18:29:29) \n",
      "[Clang 12.0.0 ]\n",
      "numpy       version 1.19.5\n",
      "torch version 1.12.1\n"
     ]
    }
   ],
   "source": [
    "import torchvision.models as models\n",
    "model = models.vgg11(weights='VGG11_Weights.IMAGENET1K_V1')\n",
    "watcher = ww.WeightWatcher(model=model, log_level=logging.WARNING)"
   ]
  },
  {
   "cell_type": "code",
   "execution_count": null,
   "metadata": {},
   "outputs": [],
   "source": [
    "details = watcher.analyze(layers=[5], plot=True)\n",
    "details.alpha.to_numpy()[0]"
   ]
  },
  {
   "cell_type": "code",
   "execution_count": null,
   "metadata": {},
   "outputs": [],
   "source": [
    "details = watcher.analyze(layers=[5], plot=True, fix_fingers='xmin_peak', xmin_max=1.0)\n",
    "details.alpha.to_numpy()[0]"
   ]
  },
  {
   "cell_type": "code",
   "execution_count": 3,
   "metadata": {},
   "outputs": [
    {
     "name": "stdout",
     "output_type": "stream",
     "text": [
      "max N = 10\n",
      "Calculating best minimal value for power law fit\n",
      "xmin progress: 99%\r"
     ]
    },
    {
     "name": "stderr",
     "output_type": "stream",
     "text": [
      "Assuming nested distributions\n"
     ]
    },
    {
     "name": "stdout",
     "output_type": "stream",
     "text": [
      "xmin progress: 99%\r"
     ]
    },
    {
     "name": "stderr",
     "output_type": "stream",
     "text": [
      "Assuming nested distributions\n"
     ]
    },
    {
     "name": "stdout",
     "output_type": "stream",
     "text": [
      "checking alpha\n",
      "xmin progress: 93%\r"
     ]
    },
    {
     "name": "stderr",
     "output_type": "stream",
     "text": [
      "WARNING:weightwatcher:clipped fit may be spurious, new alpha found: {check_fit.alpha:0.2f}\n"
     ]
    },
    {
     "name": "stdout",
     "output_type": "stream",
     "text": [
      "xmin progress: 94%\r",
      "xmin progress: 94%\r",
      "xmin progress: 94%\r",
      "xmin progress: 94%\r",
      "xmin progress: 94%\r",
      "xmin progress: 94%\r",
      "xmin progress: 95%\r",
      "xmin progress: 95%\r",
      "xmin progress: 95%\r",
      "xmin progress: 95%\r",
      "xmin progress: 95%\r",
      "xmin progress: 95%\r",
      "xmin progress: 96%\r",
      "xmin progress: 96%\r",
      "xmin progress: 96%\r",
      "xmin progress: 96%\r",
      "xmin progress: 96%\r",
      "xmin progress: 97%\r",
      "xmin progress: 97%\r",
      "xmin progress: 97%\r",
      "xmin progress: 97%\r",
      "xmin progress: 97%\r",
      "xmin progress: 97%\r",
      "xmin progress: 98%\r",
      "xmin progress: 98%\r",
      "xmin progress: 98%\r",
      "xmin progress: 98%\r",
      "xmin progress: 98%\r",
      "xmin progress: 98%\r",
      "xmin progress: 99%\r",
      "xmin progress: 99%\r",
      "xmin progress: 99%\r",
      "xmin progress: 99%\r",
      "xmin progress: 99%\r"
     ]
    },
    {
     "data": {
      "image/png": "[encoded data removed]",
      "text/plain": [
       "<Figure size 640x480 with 1 Axes>"
      ]
     },
     "metadata": {},
     "output_type": "display_data"
    },
    {
     "data": {
      "image/png": "[encoded data removed]",
      "text/plain": [
       "<Figure size 640x480 with 1 Axes>"
      ]
     },
     "metadata": {},
     "output_type": "display_data"
    },
    {
     "data": {
      "image/png": "[encoded data removed]",
      "text/plain": [
       "<Figure size 640x480 with 1 Axes>"
      ]
     },
     "metadata": {},
     "output_type": "display_data"
    },
    {
     "data": {
      "image/png": "[encoded data removed]",
      "text/plain": [
       "<Figure size 640x480 with 1 Axes>"
      ]
     },
     "metadata": {},
     "output_type": "display_data"
    },
    {
     "data": {
      "text/html": [
       "<div>\n",
       "<style scoped>\n",
       "    .dataframe tbody tr th:only-of-type {\n",
       "        vertical-align: middle;\n",
       "    }\n",
       "\n",
       "    .dataframe tbody tr th {\n",
       "        vertical-align: top;\n",
       "    }\n",
       "\n",
       "    .dataframe thead th {\n",
       "        text-align: right;\n",
       "    }\n",
       "</style>\n",
       "<table border=\"1\" class=\"dataframe\">\n",
       "  <thead>\n",
       "    <tr style=\"text-align: right;\">\n",
       "      <th></th>\n",
       "      <th>layer_id</th>\n",
       "      <th>name</th>\n",
       "      <th>D</th>\n",
       "      <th>Lambda</th>\n",
       "      <th>M</th>\n",
       "      <th>N</th>\n",
       "      <th>Q</th>\n",
       "      <th>alpha</th>\n",
       "      <th>alpha_weighted</th>\n",
       "      <th>best_fit</th>\n",
       "      <th>...</th>\n",
       "      <th>rank_loss</th>\n",
       "      <th>rf</th>\n",
       "      <th>sigma</th>\n",
       "      <th>spectral_norm</th>\n",
       "      <th>stable_rank</th>\n",
       "      <th>sv_max</th>\n",
       "      <th>warning</th>\n",
       "      <th>weak_rank_loss</th>\n",
       "      <th>xmax</th>\n",
       "      <th>xmin</th>\n",
       "    </tr>\n",
       "  </thead>\n",
       "  <tbody>\n",
       "    <tr>\n",
       "      <th>0</th>\n",
       "      <td>5</td>\n",
       "      <td>Conv2d</td>\n",
       "      <td>0.160178</td>\n",
       "      <td>-1.0</td>\n",
       "      <td>64.0</td>\n",
       "      <td>128.0</td>\n",
       "      <td>2.0</td>\n",
       "      <td>1.663549</td>\n",
       "      <td>1.103673</td>\n",
       "      <td>power_law</td>\n",
       "      <td>...</td>\n",
       "      <td>0.0</td>\n",
       "      <td>9.0</td>\n",
       "      <td>0.043945</td>\n",
       "      <td>4.607285</td>\n",
       "      <td>34.178218</td>\n",
       "      <td>2.146459</td>\n",
       "      <td>over-trained</td>\n",
       "      <td>0.0</td>\n",
       "      <td>2.796751</td>\n",
       "      <td>0.083414</td>\n",
       "    </tr>\n",
       "  </tbody>\n",
       "</table>\n",
       "<p>1 rows × 32 columns</p>\n",
       "</div>"
      ],
      "text/plain": [
       "  layer_id    name         D  Lambda     M      N    Q     alpha  \\\n",
       "0        5  Conv2d  0.160178    -1.0  64.0  128.0  2.0  1.663549   \n",
       "\n",
       "   alpha_weighted   best_fit  ...  rank_loss   rf     sigma spectral_norm  \\\n",
       "0        1.103673  power_law  ...        0.0  9.0  0.043945      4.607285   \n",
       "\n",
       "   stable_rank    sv_max       warning weak_rank_loss      xmax      xmin  \n",
       "0    34.178218  2.146459  over-trained            0.0  2.796751  0.083414  \n",
       "\n",
       "[1 rows x 32 columns]"
      ]
     },
     "execution_count": 3,
     "metadata": {},
     "output_type": "execute_result"
    },
    {
     "data": {
      "text/plain": [
       "<Figure size 640x480 with 0 Axes>"
      ]
     },
     "metadata": {},
     "output_type": "display_data"
    }
   ],
   "source": [
    "details = watcher.analyze(layers=[5], fix_fingers='clip_xmax', plot=True)\n",
    "details"
   ]
  },
  {
   "cell_type": "code",
   "execution_count": 6,
   "metadata": {},
   "outputs": [
    {
     "data": {
      "text/plain": [
       "11"
      ]
     },
     "execution_count": 6,
     "metadata": {},
     "output_type": "execute_result"
    }
   ],
   "source": [
    "details = watcher.describe()\n",
    "len(details)\n"
   ]
  },
  {
   "cell_type": "code",
   "execution_count": null,
   "metadata": {},
   "outputs": [],
   "source": []
  }
 ],
 "metadata": {
  "accelerator": "GPU",
  "colab": {
   "collapsed_sections": [],
   "include_colab_link": true,
   "machine_shape": "hm",
   "name": " WW-BERT-BlogExample.ipynb",
   "provenance": []
  },
  "kernelspec": {
   "display_name": "Python 3 (ipykernel)",
   "language": "python",
   "name": "python3"
  },
  "language_info": {
   "codemirror_mode": {
    "name": "ipython",
    "version": 3
   },
   "file_extension": ".py",
   "mimetype": "text/x-python",
   "name": "python",
   "nbconvert_exporter": "python",
   "pygments_lexer": "ipython3",
   "version": "3.9.13"
  }
 },
 "nbformat": 4,
 "nbformat_minor": 1
}
