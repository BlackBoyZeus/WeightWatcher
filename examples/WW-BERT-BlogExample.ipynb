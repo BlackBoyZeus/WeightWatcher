{
 "cells": [
  {
   "cell_type": "markdown",
   "metadata": {
    "colab_type": "text",
    "id": "view-in-github"
   },
   "source": [
    "<a href=\"https://colab.research.google.com/github/CalculatedContent/WeightWatcher/blob/master/examples/WW_BERT.ipynb\" target=\"_parent\"><img src=\"https://colab.research.google.com/assets/colab-badge.svg\" alt=\"Open In Colab\"/></a>"
   ]
  },
  {
   "cell_type": "markdown",
   "metadata": {
    "id": "VhMwt7M7cEZV"
   },
   "source": [
    "# How to use weightwatcher to pick the right  model\n",
    "\n",
    "Notebook that compare the distribution of layer Alpha's $\\alpha$ for\n",
    "- BERT\n",
    "- RoBERTa, and \n",
    "- XLNet\n",
    "\n",
    "As discussed on the [CalculatedContent Blog](https://calculatedcontent.com/2022/07/22/better-than-bert-pick-your-best-model/)\n",
    "\n",
    "The WeightWatcher Power-Law (PL) metric Alpha $(\\alpha)$ is a DNN model quality metric; smaller is better. This plot above displays all the layer Alpha $(\\alpha)$ values for the 3 models. It is immediately clear that the XNLet layers look much better than BERT or RoBERTa; the Alpha $(\\alpha)$ values are smaller on average, and there are no lphas larger than 5: $(\\alpha <=5)$. \n",
    "\n",
    "In contrast, the BERT and RoBERTa Alphas are much larger on average, and both models have too many large Alphas.\n",
    "\n",
    "This is totally consistent with the published results.: In the [original paper (from Microsoft Research)](https://arxiv.org/abs/1906.08237), XLNet outperforms BERT on 20 different NLP tasks.\n",
    "\n"
   ]
  },
  {
   "cell_type": "code",
   "execution_count": null,
   "metadata": {
    "id": "3b0V4XmCdshz"
   },
   "outputs": [],
   "source": [
    "import os\n",
    "import numpy as np\n",
    "import pandas as pd\n",
    "import matplotlib.pyplot as plt"
   ]
  },
  {
   "cell_type": "code",
   "execution_count": null,
   "metadata": {
    "colab": {
     "base_uri": "https://localhost:8080/"
    },
    "id": "_e9GgbKxJgSZ",
    "outputId": "e039e826-5968-481b-c165-c22beb5e86bd"
   },
   "outputs": [],
   "source": [
    "!pip install transformers weightwatcher gwpy matplotlib==3.1.3\n"
   ]
  },
  {
   "cell_type": "code",
   "execution_count": null,
   "metadata": {
    "colab": {
     "base_uri": "https://localhost:8080/"
    },
    "id": "qYm9PdPiRsOk",
    "outputId": "13d2c398-b75e-4fa9-8e53-78ff2253a909"
   },
   "outputs": [],
   "source": [
    "\n",
    "from transformers import BertModel\n",
    "bert = BertModel.from_pretrained('bert-base-uncased')\n",
    "\n",
    "\n",
    "from transformers import RobertaModel\n",
    "roberta = RobertaModel.from_pretrained(\"roberta-base\")\n",
    "\n",
    "\n",
    "from transformers import XLNetModel\n",
    "xlnet = XLNetModel.from_pretrained(\"xlnet-base-cased\")"
   ]
  },
  {
   "cell_type": "code",
   "execution_count": null,
   "metadata": {
    "id": "5mr78auQ6PlB"
   },
   "outputs": [],
   "source": [
    "import weightwatcher as ww\n",
    "import logging\n",
    "\n",
    "logging.basicConfig(level=logging.INFO)\n",
    "logger = logging.getLogger(ww.__NAME__) \n",
    "logger.setLevel(logging.INFO)\n"
   ]
  },
  {
   "cell_type": "code",
   "execution_count": null,
   "metadata": {
    "colab": {
     "base_uri": "https://localhost:8080/"
    },
    "id": "LeZpp6brEBXn",
    "outputId": "52787805-6e7a-4acc-d418-1756cca14613"
   },
   "outputs": [],
   "source": [
    "#%%capture\n",
    "\n",
    "import warnings\n",
    "warnings.filterwarnings('ignore')\n",
    "\n",
    "watcher = ww.WeightWatcher(model=bert)\n",
    "bert_details = watcher.describe()\n",
    "\n",
    "watcher = ww.WeightWatcher(model=roberta)\n",
    "roberta_details = watcher.describe()\n",
    "\n",
    "\n",
    "watcher = ww.WeightWatcher(model=xlnet)\n",
    "xlnet_details = watcher.describe()"
   ]
  },
  {
   "cell_type": "code",
   "execution_count": null,
   "metadata": {
    "colab": {
     "base_uri": "https://localhost:8080/"
    },
    "id": "3a-m8jIaNYit",
    "outputId": "53e6661b-7ef6-4225-88e2-1250e98bbe54"
   },
   "outputs": [],
   "source": [
    "#%%capture\n",
    "\n",
    "import warnings\n",
    "warnings.filterwarnings('ignore')\n",
    "\n",
    "watcher = ww.WeightWatcher(model=bert)\n",
    "bert_details = watcher.analyze(min_evals = 50)\n",
    "\n",
    "watcher = ww.WeightWatcher(model=roberta)\n",
    "roberta_details = watcher.analyze(min_evals = 50)\n",
    "\n",
    "watcher = ww.WeightWatcher(model=xlnet)\n",
    "xlnet_details = watcher.analyze(min_evals = 50)"
   ]
  },
  {
   "cell_type": "code",
   "execution_count": null,
   "metadata": {
    "colab": {
     "base_uri": "https://localhost:8080/"
    },
    "id": "5WBVz4oXGnVg",
    "outputId": "9dee8910-adf2-4e20-9de3-be2842f6d5d8"
   },
   "outputs": [],
   "source": [
    "watcher = ww.WeightWatcher(model=xlnet)\n",
    "xlnet_details = watcher.analyze(min_evals = 50)"
   ]
  },
  {
   "cell_type": "code",
   "execution_count": null,
   "metadata": {
    "colab": {
     "base_uri": "https://localhost:8080/",
     "height": 532
    },
    "id": "WENM1jdlI0YM",
    "outputId": "f3210779-807e-4f2b-8554-8d0263005d76"
   },
   "outputs": [],
   "source": [
    "MAX_ALPHA = 8\n",
    "\n",
    "B = bert_details[(bert_details.alpha<MAX_ALPHA) & (bert_details.alpha>0)]\n",
    "B.alpha.plot.hist(bins=100, label='BERT', density=True, color='blue')\n",
    "plt.axvline(B.alpha.mean(), color='blue', linestyle='dashed')\n",
    "\n",
    "R = roberta_details[(roberta_details.alpha<MAX_ALPHA) & (roberta_details.alpha>0)]\n",
    "R.alpha.plot.hist(bins=100, label='RoBERTa' ,alpha=0.5, density=True, color='red')\n",
    "plt.axvline(R.alpha.mean(), color='red', linestyle='dashed')\n",
    "\n",
    "X = xlnet_details[(xlnet_details.alpha<MAX_ALPHA) & (roberta_details.alpha>0)]\n",
    "X.alpha.plot.hist(bins=100, label='XLNet' ,alpha=0.5, density=True, color='green')\n",
    "plt.axvline(R.alpha.mean(), color='green', linestyle='dashed')\n",
    "\n",
    "plt.legend()\n",
    "plt.show()\n",
    "\n",
    "x = B.layer_id.to_numpy()\n",
    "y = B.alpha.to_numpy()\n",
    "plt.scatter(x,y,color='blue')\n",
    "plt.axhline(np.mean(y), color='blue', linestyle='dashed')\n",
    "\n",
    "x = R.layer_id.to_numpy()\n",
    "y = R.alpha.to_numpy()\n",
    "plt.scatter(x,y,color='red')\n",
    "plt.axhline(np.mean(y), color='red', linestyle='dashed')\n",
    "\n",
    "x = X.layer_id.to_numpy()\n",
    "y = X.alpha.to_numpy()\n",
    "plt.scatter(x,y,color='green')\n",
    "plt.axhline(np.mean(y), color='green', linestyle='dashed')\n",
    "#plt.show()\n",
    "\n",
    "\n"
   ]
  },
  {
   "cell_type": "code",
   "execution_count": null,
   "metadata": {},
   "outputs": [],
   "source": []
  }
 ],
 "metadata": {
  "accelerator": "GPU",
  "colab": {
   "collapsed_sections": [],
   "include_colab_link": true,
   "machine_shape": "hm",
   "name": " WW-BERT-BlogExample.ipynb",
   "provenance": []
  },
  "kernelspec": {
   "display_name": "Python 3",
   "language": "python",
   "name": "python3"
  },
  "language_info": {
   "codemirror_mode": {
    "name": "ipython",
    "version": 3
   },
   "file_extension": ".py",
   "mimetype": "text/x-python",
   "name": "python",
   "nbconvert_exporter": "python",
   "pygments_lexer": "ipython3",
   "version": "3.7.4"
  }
 },
 "nbformat": 4,
 "nbformat_minor": 1
}
