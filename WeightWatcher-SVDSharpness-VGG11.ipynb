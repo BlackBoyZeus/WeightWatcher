{
 "cells": [
  {
   "cell_type": "markdown",
   "metadata": {},
   "source": [
    "\n",
    "# WeightWatcher - SVDSharpness\n",
    "\n",
    "### Example with the VGG11 model \n",
    "\n",
    "Compare the original (red) vs. smoothed (blue) ESDs\n",
    "\n"
   ]
  },
  {
   "cell_type": "code",
   "execution_count": 1,
   "metadata": {
    "ExecuteTime": {
     "end_time": "2019-03-05T23:51:16.544327Z",
     "start_time": "2019-03-05T23:51:16.531457Z"
    },
    "scrolled": true
   },
   "outputs": [],
   "source": [
    "# Suppress the powerlaw package warnings\n",
    "# \"powerlaw.py:700: RuntimeWarning: divide by zero encountered in true_divide\"\n",
    "# \"powerlaw.py:700: RuntimeWarning: invalid value encountered in true_divide\"\n",
    "import warnings\n",
    "warnings.simplefilter(action='ignore', category=RuntimeWarning)"
   ]
  },
  {
   "cell_type": "code",
   "execution_count": 2,
   "metadata": {
    "scrolled": false
   },
   "outputs": [],
   "source": [
    "import numpy as np\n",
    "import pandas as pd\n",
    "\n",
    "import tensorflow\n",
    "import torchvision.models as models\n",
    "from tqdm import tqdm\n",
    "\n",
    "import matplotlib\n",
    "import matplotlib.pyplot as plt\n",
    "%matplotlib inline"
   ]
  },
  {
   "cell_type": "markdown",
   "metadata": {
    "ExecuteTime": {
     "end_time": "2019-03-06T00:16:43.249725Z",
     "start_time": "2019-03-06T00:16:43.240611Z"
    }
   },
   "source": [
    "### Import WeightWatcher\n",
    "\n",
    "set custom Logging at WARN Level"
   ]
  },
  {
   "cell_type": "code",
   "execution_count": 3,
   "metadata": {
    "scrolled": false
   },
   "outputs": [],
   "source": [
    "import logging\n",
    "logging.basicConfig(level=logging.INFO)\n",
    "logger = logging.getLogger(__name__)\n",
    "logger.setLevel(logging.INFO)\n"
   ]
  },
  {
   "cell_type": "code",
   "execution_count": 4,
   "metadata": {
    "scrolled": true
   },
   "outputs": [
    {
     "data": {
      "text/plain": [
       "'0.4.9'"
      ]
     },
     "execution_count": 4,
     "metadata": {},
     "output_type": "execute_result"
    }
   ],
   "source": [
    "import weightwatcher as ww\n",
    "logger = logging.getLogger(ww.__name__)\n",
    "logger.setLevel(logging.DEBUG)\n",
    "\n",
    "ww.__version__"
   ]
  },
  {
   "cell_type": "markdown",
   "metadata": {},
   "source": [
    "### PyTorch Example\n",
    "\n",
    "VGG16 has 16 layers\n",
    "\n",
    "- The last 3 are dense"
   ]
  },
  {
   "cell_type": "code",
   "execution_count": 5,
   "metadata": {
    "scrolled": false
   },
   "outputs": [
    {
     "name": "stderr",
     "output_type": "stream",
     "text": [
      "INFO:weightwatcher:\n",
      "\n",
      "python      version 3.9.5 (default, May 18 2021, 12:31:01) \n",
      "[Clang 10.0.0 ]\n",
      "numpy       version 1.19.5\n",
      "tensforflow version 2.5.0\n",
      "keras       version 2.5.0\n",
      "INFO:weightwatcher:params {'glorot_fix': False, 'normalize': False, 'conv2d_norm': True, 'randomize': False, 'savefig': 'ww-img', 'rescale': True, 'deltaEs': False, 'intra': False, 'channels': None, 'conv2d_fft': False, 'ww2x': False, 'min_evals': 0, 'max_evals': None, 'plot': False, 'mp_fit': False, 'layers': []}\n",
      "INFO:weightwatcher:Saving all images to ww-img\n",
      "INFO:weightwatcher:params {'glorot_fix': False, 'normalize': False, 'conv2d_norm': True, 'randomize': False, 'savefig': 'ww-img', 'rescale': True, 'deltaEs': False, 'intra': False, 'channels': None, 'conv2d_fft': False, 'ww2x': False, 'min_evals': 0, 'max_evals': None, 'plot': False, 'mp_fit': False, 'layers': []}\n",
      "INFO:weightwatcher:Saving all images to ww-img\n",
      "DEBUG:weightwatcher:FRAMEWORKS: KERAS = 4  PYTORCH = 2 ONNX = 8 UNKNOWN = 1 \n",
      "DEBUG:weightwatcher:FIRST = 2  LAST = 4 UNKNOWN = 1 \n",
      "DEBUG:weightwatcher:MODEL ITERATOR, framework = 2, channels = 4 \n",
      "DEBUG:weightwatcher:layer_supported  N 0 max evals None\n",
      "DEBUG:weightwatcher:layer not supported: Layer 0 None has no weights\n",
      "DEBUG:weightwatcher:layer_supported  N 0 max evals None\n",
      "DEBUG:weightwatcher:layer not supported: Layer 1 None has no weights\n",
      "DEBUG:weightwatcher:conv2D_Wmats\n",
      "DEBUG:weightwatcher:Channels Last tensor shape: 64x3 (NxM), 3x3 (i,j)\n",
      "DEBUG:weightwatcher:get_conv2D_Wmats N=64 M=3 rf= 9 channels = 4\n",
      "DEBUG:weightwatcher:layer_supported  N 64 max evals None\n",
      "DEBUG:weightwatcher:LAYER TYPE: 2 16  layer type <class 'torch.nn.modules.conv.Conv2d'>\n",
      "DEBUG:weightwatcher:weights shape : (64, 3, 3, 3)  max size None\n",
      "DEBUG:weightwatcher:layer_supported  N 0 max evals None\n",
      "DEBUG:weightwatcher:layer not supported: Layer 3 None has no weights\n",
      "DEBUG:weightwatcher:layer_supported  N 0 max evals None\n",
      "DEBUG:weightwatcher:layer not supported: Layer 4 None has no weights\n",
      "DEBUG:weightwatcher:conv2D_Wmats\n",
      "DEBUG:weightwatcher:Channels Last tensor shape: 128x64 (NxM), 3x3 (i,j)\n",
      "DEBUG:weightwatcher:get_conv2D_Wmats N=128 M=64 rf= 9 channels = 4\n",
      "DEBUG:weightwatcher:layer_supported  N 128 max evals None\n",
      "DEBUG:weightwatcher:LAYER TYPE: 5 16  layer type <class 'torch.nn.modules.conv.Conv2d'>\n",
      "DEBUG:weightwatcher:weights shape : (128, 64, 3, 3)  max size None\n",
      "DEBUG:weightwatcher:layer_supported  N 0 max evals None\n",
      "DEBUG:weightwatcher:layer not supported: Layer 6 None has no weights\n",
      "DEBUG:weightwatcher:layer_supported  N 0 max evals None\n",
      "DEBUG:weightwatcher:layer not supported: Layer 7 None has no weights\n",
      "DEBUG:weightwatcher:conv2D_Wmats\n",
      "DEBUG:weightwatcher:Channels Last tensor shape: 256x128 (NxM), 3x3 (i,j)\n",
      "DEBUG:weightwatcher:get_conv2D_Wmats N=256 M=128 rf= 9 channels = 4\n",
      "DEBUG:weightwatcher:layer_supported  N 256 max evals None\n",
      "DEBUG:weightwatcher:LAYER TYPE: 8 16  layer type <class 'torch.nn.modules.conv.Conv2d'>\n",
      "DEBUG:weightwatcher:weights shape : (256, 128, 3, 3)  max size None\n",
      "DEBUG:weightwatcher:layer_supported  N 0 max evals None\n",
      "DEBUG:weightwatcher:layer not supported: Layer 9 None has no weights\n",
      "DEBUG:weightwatcher:conv2D_Wmats\n",
      "DEBUG:weightwatcher:Channels Last tensor shape: 256x256 (NxM), 3x3 (i,j)\n",
      "DEBUG:weightwatcher:get_conv2D_Wmats N=256 M=256 rf= 9 channels = 4\n",
      "DEBUG:weightwatcher:layer_supported  N 256 max evals None\n",
      "DEBUG:weightwatcher:LAYER TYPE: 10 16  layer type <class 'torch.nn.modules.conv.Conv2d'>\n",
      "DEBUG:weightwatcher:weights shape : (256, 256, 3, 3)  max size None\n",
      "DEBUG:weightwatcher:layer_supported  N 0 max evals None\n",
      "DEBUG:weightwatcher:layer not supported: Layer 11 None has no weights\n",
      "DEBUG:weightwatcher:layer_supported  N 0 max evals None\n",
      "DEBUG:weightwatcher:layer not supported: Layer 12 None has no weights\n",
      "DEBUG:weightwatcher:conv2D_Wmats\n",
      "DEBUG:weightwatcher:Channels Last tensor shape: 512x256 (NxM), 3x3 (i,j)\n",
      "DEBUG:weightwatcher:get_conv2D_Wmats N=512 M=256 rf= 9 channels = 4\n",
      "DEBUG:weightwatcher:layer_supported  N 512 max evals None\n",
      "DEBUG:weightwatcher:LAYER TYPE: 13 16  layer type <class 'torch.nn.modules.conv.Conv2d'>\n",
      "DEBUG:weightwatcher:weights shape : (512, 256, 3, 3)  max size None\n",
      "DEBUG:weightwatcher:layer_supported  N 0 max evals None\n",
      "DEBUG:weightwatcher:layer not supported: Layer 14 None has no weights\n",
      "DEBUG:weightwatcher:conv2D_Wmats\n",
      "DEBUG:weightwatcher:Channels Last tensor shape: 512x512 (NxM), 3x3 (i,j)\n",
      "DEBUG:weightwatcher:get_conv2D_Wmats N=512 M=512 rf= 9 channels = 4\n",
      "DEBUG:weightwatcher:layer_supported  N 512 max evals None\n",
      "DEBUG:weightwatcher:LAYER TYPE: 15 16  layer type <class 'torch.nn.modules.conv.Conv2d'>\n",
      "DEBUG:weightwatcher:weights shape : (512, 512, 3, 3)  max size None\n",
      "DEBUG:weightwatcher:layer_supported  N 0 max evals None\n",
      "DEBUG:weightwatcher:layer not supported: Layer 16 None has no weights\n",
      "DEBUG:weightwatcher:layer_supported  N 0 max evals None\n",
      "DEBUG:weightwatcher:layer not supported: Layer 17 None has no weights\n",
      "DEBUG:weightwatcher:conv2D_Wmats\n",
      "DEBUG:weightwatcher:Channels Last tensor shape: 512x512 (NxM), 3x3 (i,j)\n",
      "DEBUG:weightwatcher:get_conv2D_Wmats N=512 M=512 rf= 9 channels = 4\n",
      "DEBUG:weightwatcher:layer_supported  N 512 max evals None\n",
      "DEBUG:weightwatcher:LAYER TYPE: 18 16  layer type <class 'torch.nn.modules.conv.Conv2d'>\n",
      "DEBUG:weightwatcher:weights shape : (512, 512, 3, 3)  max size None\n",
      "DEBUG:weightwatcher:layer_supported  N 0 max evals None\n",
      "DEBUG:weightwatcher:layer not supported: Layer 19 None has no weights\n",
      "DEBUG:weightwatcher:conv2D_Wmats\n",
      "DEBUG:weightwatcher:Channels Last tensor shape: 512x512 (NxM), 3x3 (i,j)\n",
      "DEBUG:weightwatcher:get_conv2D_Wmats N=512 M=512 rf= 9 channels = 4\n",
      "DEBUG:weightwatcher:layer_supported  N 512 max evals None\n",
      "DEBUG:weightwatcher:LAYER TYPE: 20 16  layer type <class 'torch.nn.modules.conv.Conv2d'>\n",
      "DEBUG:weightwatcher:weights shape : (512, 512, 3, 3)  max size None\n",
      "DEBUG:weightwatcher:layer_supported  N 0 max evals None\n",
      "DEBUG:weightwatcher:layer not supported: Layer 21 None has no weights\n",
      "DEBUG:weightwatcher:layer_supported  N 0 max evals None\n",
      "DEBUG:weightwatcher:layer not supported: Layer 22 None has no weights\n",
      "DEBUG:weightwatcher:layer_supported  N 0 max evals None\n",
      "DEBUG:weightwatcher:layer not supported: Layer 23 None has no weights\n",
      "DEBUG:weightwatcher:layer_supported  N 0 max evals None\n",
      "DEBUG:weightwatcher:layer not supported: Layer 24 None has no weights\n",
      "DEBUG:weightwatcher:layer_supported  N 25088 max evals None\n",
      "DEBUG:weightwatcher:LAYER TYPE: 25 4  layer type <class 'torch.nn.modules.linear.Linear'>\n",
      "DEBUG:weightwatcher:weights shape : (4096, 25088)  max size None\n",
      "DEBUG:weightwatcher:layer_supported  N 0 max evals None\n",
      "DEBUG:weightwatcher:layer not supported: Layer 26 None has no weights\n",
      "DEBUG:weightwatcher:layer_supported  N 0 max evals None\n",
      "DEBUG:weightwatcher:layer not supported: Layer 27 None has no weights\n",
      "DEBUG:weightwatcher:layer_supported  N 4096 max evals None\n",
      "DEBUG:weightwatcher:LAYER TYPE: 28 4  layer type <class 'torch.nn.modules.linear.Linear'>\n",
      "DEBUG:weightwatcher:weights shape : (4096, 4096)  max size None\n",
      "DEBUG:weightwatcher:layer_supported  N 0 max evals None\n",
      "DEBUG:weightwatcher:layer not supported: Layer 29 None has no weights\n",
      "DEBUG:weightwatcher:layer_supported  N 0 max evals None\n",
      "DEBUG:weightwatcher:layer not supported: Layer 30 None has no weights\n",
      "DEBUG:weightwatcher:layer_supported  N 4096 max evals None\n",
      "DEBUG:weightwatcher:LAYER TYPE: 31 4  layer type <class 'torch.nn.modules.linear.Linear'>\n",
      "DEBUG:weightwatcher:weights shape : (1000, 4096)  max size None\n",
      "INFO:weightwatcher:params {'glorot_fix': False, 'normalize': False, 'conv2d_norm': True, 'randomize': False, 'savefig': 'ww-img', 'rescale': True, 'deltaEs': False, 'intra': False, 'channels': None, 'conv2d_fft': False, 'ww2x': False, 'min_evals': 0, 'max_evals': None, 'plot': False, 'mp_fit': False, 'layers': []}\n",
      "INFO:weightwatcher:Saving all images to ww-img\n",
      "INFO:weightwatcher:params {'glorot_fix': False, 'normalize': False, 'conv2d_norm': True, 'randomize': False, 'savefig': 'ww-img', 'rescale': True, 'deltaEs': False, 'intra': False, 'channels': None, 'conv2d_fft': False, 'ww2x': False, 'min_evals': 0, 'max_evals': None, 'plot': False, 'mp_fit': False, 'layers': []}\n",
      "INFO:weightwatcher:Saving all images to ww-img\n"
     ]
    },
    {
     "name": "stderr",
     "output_type": "stream",
     "text": [
      "DEBUG:weightwatcher:FRAMEWORKS: KERAS = 4  PYTORCH = 2 ONNX = 8 UNKNOWN = 1 \n",
      "DEBUG:weightwatcher:FIRST = 2  LAST = 4 UNKNOWN = 1 \n",
      "DEBUG:weightwatcher:MODEL ITERATOR, framework = 2, channels = 4 \n",
      "DEBUG:weightwatcher:layer_supported  N 0 max evals None\n",
      "DEBUG:weightwatcher:layer not supported: Layer 0 None has no weights\n",
      "DEBUG:weightwatcher:layer_supported  N 0 max evals None\n",
      "DEBUG:weightwatcher:layer not supported: Layer 1 None has no weights\n",
      "DEBUG:weightwatcher:conv2D_Wmats\n",
      "DEBUG:weightwatcher:Channels Last tensor shape: 64x3 (NxM), 3x3 (i,j)\n",
      "DEBUG:weightwatcher:get_conv2D_Wmats N=64 M=3 rf= 9 channels = 4\n",
      "DEBUG:weightwatcher:layer_supported  N 64 max evals None\n",
      "DEBUG:weightwatcher:LAYER TYPE: 2 16  layer type <class 'torch.nn.modules.conv.Conv2d'>\n",
      "DEBUG:weightwatcher:weights shape : (64, 3, 3, 3)  max size None\n",
      "DEBUG:weightwatcher:layer_supported  N 0 max evals None\n",
      "DEBUG:weightwatcher:layer not supported: Layer 3 None has no weights\n",
      "DEBUG:weightwatcher:layer_supported  N 0 max evals None\n",
      "DEBUG:weightwatcher:layer not supported: Layer 4 None has no weights\n",
      "DEBUG:weightwatcher:conv2D_Wmats\n",
      "DEBUG:weightwatcher:Channels Last tensor shape: 128x64 (NxM), 3x3 (i,j)\n",
      "DEBUG:weightwatcher:get_conv2D_Wmats N=128 M=64 rf= 9 channels = 4\n",
      "DEBUG:weightwatcher:layer_supported  N 128 max evals None\n",
      "DEBUG:weightwatcher:LAYER TYPE: 5 16  layer type <class 'torch.nn.modules.conv.Conv2d'>\n",
      "DEBUG:weightwatcher:weights shape : (128, 64, 3, 3)  max size None\n",
      "DEBUG:weightwatcher:layer_supported  N 0 max evals None\n",
      "DEBUG:weightwatcher:layer not supported: Layer 6 None has no weights\n",
      "DEBUG:weightwatcher:layer_supported  N 0 max evals None\n",
      "DEBUG:weightwatcher:layer not supported: Layer 7 None has no weights\n",
      "DEBUG:weightwatcher:conv2D_Wmats\n",
      "DEBUG:weightwatcher:Channels Last tensor shape: 256x128 (NxM), 3x3 (i,j)\n",
      "DEBUG:weightwatcher:get_conv2D_Wmats N=256 M=128 rf= 9 channels = 4\n",
      "DEBUG:weightwatcher:layer_supported  N 256 max evals None\n",
      "DEBUG:weightwatcher:LAYER TYPE: 8 16  layer type <class 'torch.nn.modules.conv.Conv2d'>\n",
      "DEBUG:weightwatcher:weights shape : (256, 128, 3, 3)  max size None\n",
      "DEBUG:weightwatcher:layer_supported  N 0 max evals None\n",
      "DEBUG:weightwatcher:layer not supported: Layer 9 None has no weights\n",
      "DEBUG:weightwatcher:conv2D_Wmats\n",
      "DEBUG:weightwatcher:Channels Last tensor shape: 256x256 (NxM), 3x3 (i,j)\n",
      "DEBUG:weightwatcher:get_conv2D_Wmats N=256 M=256 rf= 9 channels = 4\n",
      "DEBUG:weightwatcher:layer_supported  N 256 max evals None\n",
      "DEBUG:weightwatcher:LAYER TYPE: 10 16  layer type <class 'torch.nn.modules.conv.Conv2d'>\n",
      "DEBUG:weightwatcher:weights shape : (256, 256, 3, 3)  max size None\n",
      "DEBUG:weightwatcher:layer_supported  N 0 max evals None\n",
      "DEBUG:weightwatcher:layer not supported: Layer 11 None has no weights\n",
      "DEBUG:weightwatcher:layer_supported  N 0 max evals None\n",
      "DEBUG:weightwatcher:layer not supported: Layer 12 None has no weights\n",
      "DEBUG:weightwatcher:conv2D_Wmats\n",
      "DEBUG:weightwatcher:Channels Last tensor shape: 512x256 (NxM), 3x3 (i,j)\n",
      "DEBUG:weightwatcher:get_conv2D_Wmats N=512 M=256 rf= 9 channels = 4\n",
      "DEBUG:weightwatcher:layer_supported  N 512 max evals None\n",
      "DEBUG:weightwatcher:LAYER TYPE: 13 16  layer type <class 'torch.nn.modules.conv.Conv2d'>\n",
      "DEBUG:weightwatcher:weights shape : (512, 256, 3, 3)  max size None\n",
      "DEBUG:weightwatcher:layer_supported  N 0 max evals None\n",
      "DEBUG:weightwatcher:layer not supported: Layer 14 None has no weights\n",
      "DEBUG:weightwatcher:conv2D_Wmats\n",
      "DEBUG:weightwatcher:Channels Last tensor shape: 512x512 (NxM), 3x3 (i,j)\n",
      "DEBUG:weightwatcher:get_conv2D_Wmats N=512 M=512 rf= 9 channels = 4\n",
      "DEBUG:weightwatcher:layer_supported  N 512 max evals None\n",
      "DEBUG:weightwatcher:LAYER TYPE: 15 16  layer type <class 'torch.nn.modules.conv.Conv2d'>\n",
      "DEBUG:weightwatcher:weights shape : (512, 512, 3, 3)  max size None\n",
      "DEBUG:weightwatcher:layer_supported  N 0 max evals None\n",
      "DEBUG:weightwatcher:layer not supported: Layer 16 None has no weights\n",
      "DEBUG:weightwatcher:layer_supported  N 0 max evals None\n",
      "DEBUG:weightwatcher:layer not supported: Layer 17 None has no weights\n",
      "DEBUG:weightwatcher:conv2D_Wmats\n",
      "DEBUG:weightwatcher:Channels Last tensor shape: 512x512 (NxM), 3x3 (i,j)\n",
      "DEBUG:weightwatcher:get_conv2D_Wmats N=512 M=512 rf= 9 channels = 4\n",
      "DEBUG:weightwatcher:layer_supported  N 512 max evals None\n",
      "DEBUG:weightwatcher:LAYER TYPE: 18 16  layer type <class 'torch.nn.modules.conv.Conv2d'>\n",
      "DEBUG:weightwatcher:weights shape : (512, 512, 3, 3)  max size None\n",
      "DEBUG:weightwatcher:layer_supported  N 0 max evals None\n",
      "DEBUG:weightwatcher:layer not supported: Layer 19 None has no weights\n",
      "DEBUG:weightwatcher:conv2D_Wmats\n",
      "DEBUG:weightwatcher:Channels Last tensor shape: 512x512 (NxM), 3x3 (i,j)\n",
      "DEBUG:weightwatcher:get_conv2D_Wmats N=512 M=512 rf= 9 channels = 4\n",
      "DEBUG:weightwatcher:layer_supported  N 512 max evals None\n",
      "DEBUG:weightwatcher:LAYER TYPE: 20 16  layer type <class 'torch.nn.modules.conv.Conv2d'>\n",
      "DEBUG:weightwatcher:weights shape : (512, 512, 3, 3)  max size None\n",
      "DEBUG:weightwatcher:layer_supported  N 0 max evals None\n",
      "DEBUG:weightwatcher:layer not supported: Layer 21 None has no weights\n",
      "DEBUG:weightwatcher:layer_supported  N 0 max evals None\n",
      "DEBUG:weightwatcher:layer not supported: Layer 22 None has no weights\n",
      "DEBUG:weightwatcher:layer_supported  N 0 max evals None\n",
      "DEBUG:weightwatcher:layer not supported: Layer 23 None has no weights\n",
      "DEBUG:weightwatcher:layer_supported  N 0 max evals None\n",
      "DEBUG:weightwatcher:layer not supported: Layer 24 None has no weights\n",
      "DEBUG:weightwatcher:layer_supported  N 25088 max evals None\n",
      "DEBUG:weightwatcher:LAYER TYPE: 25 4  layer type <class 'torch.nn.modules.linear.Linear'>\n",
      "DEBUG:weightwatcher:weights shape : (4096, 25088)  max size None\n",
      "DEBUG:weightwatcher:layer_supported  N 0 max evals None\n",
      "DEBUG:weightwatcher:layer not supported: Layer 26 None has no weights\n",
      "DEBUG:weightwatcher:layer_supported  N 0 max evals None\n",
      "DEBUG:weightwatcher:layer not supported: Layer 27 None has no weights\n",
      "DEBUG:weightwatcher:layer_supported  N 4096 max evals None\n",
      "DEBUG:weightwatcher:LAYER TYPE: 28 4  layer type <class 'torch.nn.modules.linear.Linear'>\n",
      "DEBUG:weightwatcher:weights shape : (4096, 4096)  max size None\n",
      "DEBUG:weightwatcher:layer_supported  N 0 max evals None\n",
      "DEBUG:weightwatcher:layer not supported: Layer 29 None has no weights\n",
      "DEBUG:weightwatcher:layer_supported  N 0 max evals None\n",
      "DEBUG:weightwatcher:layer not supported: Layer 30 None has no weights\n",
      "DEBUG:weightwatcher:layer_supported  N 4096 max evals None\n",
      "DEBUG:weightwatcher:LAYER TYPE: 31 4  layer type <class 'torch.nn.modules.linear.Linear'>\n",
      "DEBUG:weightwatcher:weights shape : (1000, 4096)  max size None\n",
      "DEBUG:weightwatcher:FRAMEWORKS: KERAS = 4  PYTORCH = 2 ONNX = 8 UNKNOWN = 1 \n",
      "DEBUG:weightwatcher:FIRST = 2  LAST = 4 UNKNOWN = 1 \n",
      "DEBUG:weightwatcher:MODEL ITERATOR, framework = 2, channels = 4 \n",
      "INFO:weightwatcher:Filtering layer by id 8\n",
      "INFO:weightwatcher:skipping layer 0 None by id\n",
      "DEBUG:weightwatcher:layer_supported  N 0 max evals None\n",
      "DEBUG:weightwatcher:Layer 0 None is skipped\n",
      "INFO:weightwatcher:skipping layer 1 None by id\n",
      "DEBUG:weightwatcher:layer_supported  N 0 max evals None\n",
      "DEBUG:weightwatcher:Layer 1 None is skipped\n",
      "DEBUG:weightwatcher:conv2D_Wmats\n",
      "DEBUG:weightwatcher:Channels Last tensor shape: 64x3 (NxM), 3x3 (i,j)\n",
      "DEBUG:weightwatcher:get_conv2D_Wmats N=64 M=3 rf= 9 channels = 4\n",
      "INFO:weightwatcher:skipping layer 2 None by id\n",
      "DEBUG:weightwatcher:layer_supported  N 64 max evals None\n",
      "DEBUG:weightwatcher:Layer 2 None is skipped\n",
      "INFO:weightwatcher:skipping layer 3 None by id\n",
      "DEBUG:weightwatcher:layer_supported  N 0 max evals None\n",
      "DEBUG:weightwatcher:Layer 3 None is skipped\n",
      "INFO:weightwatcher:skipping layer 4 None by id\n",
      "DEBUG:weightwatcher:layer_supported  N 0 max evals None\n",
      "DEBUG:weightwatcher:Layer 4 None is skipped\n",
      "DEBUG:weightwatcher:conv2D_Wmats\n",
      "DEBUG:weightwatcher:Channels Last tensor shape: 128x64 (NxM), 3x3 (i,j)\n",
      "DEBUG:weightwatcher:get_conv2D_Wmats N=128 M=64 rf= 9 channels = 4\n",
      "INFO:weightwatcher:skipping layer 5 None by id\n",
      "DEBUG:weightwatcher:layer_supported  N 128 max evals None\n",
      "DEBUG:weightwatcher:Layer 5 None is skipped\n",
      "INFO:weightwatcher:skipping layer 6 None by id\n",
      "DEBUG:weightwatcher:layer_supported  N 0 max evals None\n",
      "DEBUG:weightwatcher:Layer 6 None is skipped\n",
      "INFO:weightwatcher:skipping layer 7 None by id\n"
     ]
    },
    {
     "name": "stderr",
     "output_type": "stream",
     "text": [
      "DEBUG:weightwatcher:layer_supported  N 0 max evals None\n",
      "DEBUG:weightwatcher:Layer 7 None is skipped\n",
      "DEBUG:weightwatcher:conv2D_Wmats\n",
      "DEBUG:weightwatcher:Channels Last tensor shape: 256x128 (NxM), 3x3 (i,j)\n",
      "DEBUG:weightwatcher:get_conv2D_Wmats N=256 M=128 rf= 9 channels = 4\n",
      "INFO:weightwatcher:keeping layer 8 None by id\n",
      "DEBUG:weightwatcher:layer_supported  N 256 max evals None\n",
      "INFO:weightwatcher:Getting ESD for layer 8 \n",
      "DEBUG:weightwatcher:apply ESD  on Layer 8 None \n",
      "DEBUG:weightwatcher:running SVD on Layer 8 None \n",
      "DEBUG:weightwatcher:params {'glorot_fix': False, 'normalize': False, 'conv2d_norm': True, 'randomize': False, 'savefig': 'ww-img', 'rescale': True, 'deltaEs': False, 'intra': False, 'channels': None, 'conv2d_fft': False, 'ww2x': False, 'min_evals': 0, 'max_evals': None, 'plot': False, 'mp_fit': False, 'layers': []} \n",
      "DEBUG:weightwatcher:Running full SVD:  W.shape=(256, 128)  n_comp = 128\n",
      "DEBUG:weightwatcher:Running full SVD:  W.shape=(256, 128)  n_comp = 128\n",
      "DEBUG:weightwatcher:Running full SVD:  W.shape=(256, 128)  n_comp = 128\n",
      "DEBUG:weightwatcher:Running full SVD:  W.shape=(256, 128)  n_comp = 128\n",
      "DEBUG:weightwatcher:Running full SVD:  W.shape=(256, 128)  n_comp = 128\n",
      "DEBUG:weightwatcher:Running full SVD:  W.shape=(256, 128)  n_comp = 128\n",
      "DEBUG:weightwatcher:Running full SVD:  W.shape=(256, 128)  n_comp = 128\n",
      "DEBUG:weightwatcher:Running full SVD:  W.shape=(256, 128)  n_comp = 128\n",
      "DEBUG:weightwatcher:Running full SVD:  W.shape=(256, 128)  n_comp = 128\n",
      "INFO:weightwatcher:Found 1152 eiganvalues for 8 None\n",
      "INFO:weightwatcher:params {'glorot_fix': False, 'normalize': False, 'conv2d_norm': True, 'randomize': True, 'savefig': 'ww-img', 'rescale': True, 'deltaEs': False, 'intra': False, 'channels': None, 'conv2d_fft': False, 'ww2x': False, 'min_evals': 0, 'max_evals': None, 'plot': True, 'mp_fit': False, 'layers': [8]}\n",
      "INFO:weightwatcher:Saving all images to ww-img\n",
      "INFO:weightwatcher:params {'glorot_fix': False, 'normalize': False, 'conv2d_norm': True, 'randomize': True, 'savefig': 'ww-img', 'rescale': True, 'deltaEs': False, 'intra': False, 'channels': None, 'conv2d_fft': False, 'ww2x': False, 'min_evals': 0, 'max_evals': None, 'plot': True, 'mp_fit': False, 'layers': [8]}\n",
      "INFO:weightwatcher:Saving all images to ww-img\n",
      "DEBUG:weightwatcher:FRAMEWORKS: KERAS = 4  PYTORCH = 2 ONNX = 8 UNKNOWN = 1 \n",
      "DEBUG:weightwatcher:FIRST = 2  LAST = 4 UNKNOWN = 1 \n",
      "DEBUG:weightwatcher:MODEL ITERATOR, framework = 2, channels = 4 \n",
      "INFO:weightwatcher:Filtering layer by id 8\n",
      "INFO:weightwatcher:skipping layer 0 None by id\n",
      "DEBUG:weightwatcher:layer_supported  N 0 max evals None\n",
      "DEBUG:weightwatcher:Layer 0 None is skipped\n",
      "INFO:weightwatcher:skipping layer 1 None by id\n",
      "DEBUG:weightwatcher:layer_supported  N 0 max evals None\n",
      "DEBUG:weightwatcher:Layer 1 None is skipped\n",
      "DEBUG:weightwatcher:conv2D_Wmats\n",
      "DEBUG:weightwatcher:Channels Last tensor shape: 64x3 (NxM), 3x3 (i,j)\n",
      "DEBUG:weightwatcher:get_conv2D_Wmats N=64 M=3 rf= 9 channels = 4\n",
      "INFO:weightwatcher:skipping layer 2 None by id\n",
      "DEBUG:weightwatcher:layer_supported  N 64 max evals None\n",
      "DEBUG:weightwatcher:Layer 2 None is skipped\n",
      "INFO:weightwatcher:skipping layer 3 None by id\n",
      "DEBUG:weightwatcher:layer_supported  N 0 max evals None\n",
      "DEBUG:weightwatcher:Layer 3 None is skipped\n",
      "INFO:weightwatcher:skipping layer 4 None by id\n",
      "DEBUG:weightwatcher:layer_supported  N 0 max evals None\n",
      "DEBUG:weightwatcher:Layer 4 None is skipped\n",
      "DEBUG:weightwatcher:conv2D_Wmats\n",
      "DEBUG:weightwatcher:Channels Last tensor shape: 128x64 (NxM), 3x3 (i,j)\n",
      "DEBUG:weightwatcher:get_conv2D_Wmats N=128 M=64 rf= 9 channels = 4\n",
      "INFO:weightwatcher:skipping layer 5 None by id\n",
      "DEBUG:weightwatcher:layer_supported  N 128 max evals None\n",
      "DEBUG:weightwatcher:Layer 5 None is skipped\n",
      "INFO:weightwatcher:skipping layer 6 None by id\n",
      "DEBUG:weightwatcher:layer_supported  N 0 max evals None\n",
      "DEBUG:weightwatcher:Layer 6 None is skipped\n",
      "INFO:weightwatcher:skipping layer 7 None by id\n",
      "DEBUG:weightwatcher:layer_supported  N 0 max evals None\n",
      "DEBUG:weightwatcher:Layer 7 None is skipped\n",
      "DEBUG:weightwatcher:conv2D_Wmats\n",
      "DEBUG:weightwatcher:Channels Last tensor shape: 256x128 (NxM), 3x3 (i,j)\n",
      "DEBUG:weightwatcher:get_conv2D_Wmats N=256 M=128 rf= 9 channels = 4\n",
      "INFO:weightwatcher:keeping layer 8 None by id\n",
      "DEBUG:weightwatcher:layer_supported  N 256 max evals None\n",
      "INFO:weightwatcher:LAYER: 8 16  : <class 'torch.nn.modules.conv.Conv2d'>\n",
      "DEBUG:weightwatcher:apply ESD  on Layer 8 None \n",
      "DEBUG:weightwatcher:running SVD on Layer 8 None \n",
      "DEBUG:weightwatcher:params {'glorot_fix': False, 'normalize': False, 'conv2d_norm': True, 'randomize': True, 'savefig': 'ww-img', 'rescale': True, 'deltaEs': False, 'intra': False, 'channels': None, 'conv2d_fft': False, 'ww2x': False, 'min_evals': 0, 'max_evals': None, 'plot': True, 'mp_fit': False, 'layers': [8]} \n",
      "DEBUG:weightwatcher:Running full SVD:  W.shape=(256, 128)  n_comp = 128\n",
      "DEBUG:weightwatcher:Running full SVD:  W.shape=(256, 128)  n_comp = 128\n",
      "DEBUG:weightwatcher:Running full SVD:  W.shape=(256, 128)  n_comp = 128\n",
      "DEBUG:weightwatcher:Running full SVD:  W.shape=(256, 128)  n_comp = 128\n",
      "DEBUG:weightwatcher:Running full SVD:  W.shape=(256, 128)  n_comp = 128\n",
      "DEBUG:weightwatcher:Running full SVD:  W.shape=(256, 128)  n_comp = 128\n",
      "DEBUG:weightwatcher:Running full SVD:  W.shape=(256, 128)  n_comp = 128\n",
      "DEBUG:weightwatcher:Running full SVD:  W.shape=(256, 128)  n_comp = 128\n",
      "DEBUG:weightwatcher:Running full SVD:  W.shape=(256, 128)  n_comp = 128\n",
      "DEBUG:weightwatcher:fitting power law on 1152 eigenvalues\n",
      "DEBUG:weightwatcher:finding best distribution for fit\n",
      "Assuming nested distributions\n"
     ]
    },
    {
     "data": {
      "image/png": "[encoded data removed]",
      "text/plain": [
       "<Figure size 432x288 with 1 Axes>"
      ]
     },
     "metadata": {
      "needs_background": "light"
     },
     "output_type": "display_data"
    },
    {
     "data": {
      "image/png": "[encoded data removed]",
      "text/plain": [
       "<Figure size 432x288 with 1 Axes>"
      ]
     },
     "metadata": {
      "needs_background": "light"
     },
     "output_type": "display_data"
    },
    {
     "data": {
      "image/png": "[encoded data removed]",
      "text/plain": [
       "<Figure size 432x288 with 1 Axes>"
      ]
     },
     "metadata": {
      "needs_background": "light"
     },
     "output_type": "display_data"
    },
    {
     "data": {
      "image/png": "[encoded data removed]",
      "text/plain": [
       "<Figure size 432x288 with 1 Axes>"
      ]
     },
     "metadata": {
      "needs_background": "light"
     },
     "output_type": "display_data"
    },
    {
     "name": "stderr",
     "output_type": "stream",
     "text": [
      "INFO:weightwatcher:Randomizing Layer: 8 None \n",
      "DEBUG:weightwatcher:apply random ESD  on Layer 8 None \n",
      "DEBUG:weightwatcher:running SVD on Layer 8 None \n",
      "DEBUG:weightwatcher:params {'glorot_fix': False, 'normalize': False, 'conv2d_norm': True, 'randomize': True, 'savefig': 'ww-img', 'rescale': True, 'deltaEs': False, 'intra': False, 'channels': None, 'conv2d_fft': False, 'ww2x': False, 'min_evals': 0, 'max_evals': None, 'plot': True, 'mp_fit': False, 'layers': [8]} \n",
      "INFO:weightwatcher:generating 1 replicas for each W of the random eigenvalues\n",
      "DEBUG:weightwatcher:Running Randomized Full SVD\n",
      "DEBUG:weightwatcher:Running Randomized Full SVD\n",
      "DEBUG:weightwatcher:Running Randomized Full SVD\n",
      "DEBUG:weightwatcher:Running Randomized Full SVD\n",
      "DEBUG:weightwatcher:Running Randomized Full SVD\n",
      "DEBUG:weightwatcher:Running Randomized Full SVD\n",
      "DEBUG:weightwatcher:Running Randomized Full SVD\n",
      "DEBUG:weightwatcher:Running Randomized Full SVD\n",
      "DEBUG:weightwatcher:Running Randomized Full SVD\n"
     ]
    },
    {
     "data": {
      "image/png": "[encoded data removed]",
      "text/plain": [
       "<Figure size 432x288 with 1 Axes>"
      ]
     },
     "metadata": {
      "needs_background": "light"
     },
     "output_type": "display_data"
    },
    {
     "data": {
      "image/png": "[encoded data removed]",
      "text/plain": [
       "<Figure size 432x288 with 1 Axes>"
      ]
     },
     "metadata": {
      "needs_background": "light"
     },
     "output_type": "display_data"
    },
    {
     "name": "stderr",
     "output_type": "stream",
     "text": [
      "INFO:weightwatcher:MP Fitting Random layer: 8 None \n",
      "INFO:weightwatcher:rescaling 8 ESD of W by 2.37\n",
      "DEBUG:weightwatcher:bulk_max = 2.847, bulk_max_TW = 3.594 \n",
      "INFO:weightwatcher:MP fit min_esd=0.06, max_esd=6.18, Q=2.0, s1=0.99 Wsc ale=2.37\n"
     ]
    },
    {
     "data": {
      "image/png": "[encoded data removed]",
      "text/plain": [
       "<Figure size 432x288 with 1 Axes>"
      ]
     },
     "metadata": {
      "needs_background": "light"
     },
     "output_type": "display_data"
    },
    {
     "name": "stderr",
     "output_type": "stream",
     "text": [
      "INFO:weightwatcher:skipping layer 9 None by id\n",
      "DEBUG:weightwatcher:layer_supported  N 0 max evals None\n",
      "DEBUG:weightwatcher:Layer 9 None is skipped\n",
      "DEBUG:weightwatcher:conv2D_Wmats\n",
      "DEBUG:weightwatcher:Channels Last tensor shape: 256x256 (NxM), 3x3 (i,j)\n",
      "DEBUG:weightwatcher:get_conv2D_Wmats N=256 M=256 rf= 9 channels = 4\n",
      "INFO:weightwatcher:skipping layer 10 None by id\n",
      "DEBUG:weightwatcher:layer_supported  N 256 max evals None\n",
      "DEBUG:weightwatcher:Layer 10 None is skipped\n",
      "INFO:weightwatcher:skipping layer 11 None by id\n",
      "DEBUG:weightwatcher:layer_supported  N 0 max evals None\n",
      "DEBUG:weightwatcher:Layer 11 None is skipped\n",
      "INFO:weightwatcher:skipping layer 12 None by id\n",
      "DEBUG:weightwatcher:layer_supported  N 0 max evals None\n",
      "DEBUG:weightwatcher:Layer 12 None is skipped\n",
      "DEBUG:weightwatcher:conv2D_Wmats\n",
      "DEBUG:weightwatcher:Channels Last tensor shape: 512x256 (NxM), 3x3 (i,j)\n",
      "DEBUG:weightwatcher:get_conv2D_Wmats N=512 M=256 rf= 9 channels = 4\n",
      "INFO:weightwatcher:skipping layer 13 None by id\n",
      "DEBUG:weightwatcher:layer_supported  N 512 max evals None\n",
      "DEBUG:weightwatcher:Layer 13 None is skipped\n",
      "INFO:weightwatcher:skipping layer 14 None by id\n",
      "DEBUG:weightwatcher:layer_supported  N 0 max evals None\n",
      "DEBUG:weightwatcher:Layer 14 None is skipped\n",
      "DEBUG:weightwatcher:conv2D_Wmats\n",
      "DEBUG:weightwatcher:Channels Last tensor shape: 512x512 (NxM), 3x3 (i,j)\n",
      "DEBUG:weightwatcher:get_conv2D_Wmats N=512 M=512 rf= 9 channels = 4\n",
      "INFO:weightwatcher:skipping layer 15 None by id\n",
      "DEBUG:weightwatcher:layer_supported  N 512 max evals None\n",
      "DEBUG:weightwatcher:Layer 15 None is skipped\n",
      "INFO:weightwatcher:skipping layer 16 None by id\n",
      "DEBUG:weightwatcher:layer_supported  N 0 max evals None\n",
      "DEBUG:weightwatcher:Layer 16 None is skipped\n",
      "INFO:weightwatcher:skipping layer 17 None by id\n",
      "DEBUG:weightwatcher:layer_supported  N 0 max evals None\n",
      "DEBUG:weightwatcher:Layer 17 None is skipped\n",
      "DEBUG:weightwatcher:conv2D_Wmats\n",
      "DEBUG:weightwatcher:Channels Last tensor shape: 512x512 (NxM), 3x3 (i,j)\n",
      "DEBUG:weightwatcher:get_conv2D_Wmats N=512 M=512 rf= 9 channels = 4\n",
      "INFO:weightwatcher:skipping layer 18 None by id\n",
      "DEBUG:weightwatcher:layer_supported  N 512 max evals None\n",
      "DEBUG:weightwatcher:Layer 18 None is skipped\n",
      "INFO:weightwatcher:skipping layer 19 None by id\n",
      "DEBUG:weightwatcher:layer_supported  N 0 max evals None\n",
      "DEBUG:weightwatcher:Layer 19 None is skipped\n",
      "DEBUG:weightwatcher:conv2D_Wmats\n",
      "DEBUG:weightwatcher:Channels Last tensor shape: 512x512 (NxM), 3x3 (i,j)\n",
      "DEBUG:weightwatcher:get_conv2D_Wmats N=512 M=512 rf= 9 channels = 4\n",
      "INFO:weightwatcher:skipping layer 20 None by id\n",
      "DEBUG:weightwatcher:layer_supported  N 512 max evals None\n",
      "DEBUG:weightwatcher:Layer 20 None is skipped\n",
      "INFO:weightwatcher:skipping layer 21 None by id\n",
      "DEBUG:weightwatcher:layer_supported  N 0 max evals None\n",
      "DEBUG:weightwatcher:Layer 21 None is skipped\n",
      "INFO:weightwatcher:skipping layer 22 None by id\n",
      "DEBUG:weightwatcher:layer_supported  N 0 max evals None\n",
      "DEBUG:weightwatcher:Layer 22 None is skipped\n",
      "INFO:weightwatcher:skipping layer 23 None by id\n",
      "DEBUG:weightwatcher:layer_supported  N 0 max evals None\n",
      "DEBUG:weightwatcher:Layer 23 None is skipped\n",
      "INFO:weightwatcher:skipping layer 24 None by id\n",
      "DEBUG:weightwatcher:layer_supported  N 0 max evals None\n",
      "DEBUG:weightwatcher:Layer 24 None is skipped\n",
      "INFO:weightwatcher:skipping layer 25 None by id\n",
      "DEBUG:weightwatcher:layer_supported  N 25088 max evals None\n",
      "DEBUG:weightwatcher:Layer 25 None is skipped\n",
      "INFO:weightwatcher:skipping layer 26 None by id\n",
      "DEBUG:weightwatcher:layer_supported  N 0 max evals None\n",
      "DEBUG:weightwatcher:Layer 26 None is skipped\n",
      "INFO:weightwatcher:skipping layer 27 None by id\n",
      "DEBUG:weightwatcher:layer_supported  N 0 max evals None\n",
      "DEBUG:weightwatcher:Layer 27 None is skipped\n",
      "INFO:weightwatcher:skipping layer 28 None by id\n",
      "DEBUG:weightwatcher:layer_supported  N 4096 max evals None\n",
      "DEBUG:weightwatcher:Layer 28 None is skipped\n",
      "INFO:weightwatcher:skipping layer 29 None by id\n",
      "DEBUG:weightwatcher:layer_supported  N 0 max evals None\n",
      "DEBUG:weightwatcher:Layer 29 None is skipped\n",
      "INFO:weightwatcher:skipping layer 30 None by id\n",
      "DEBUG:weightwatcher:layer_supported  N 0 max evals None\n",
      "DEBUG:weightwatcher:Layer 30 None is skipped\n",
      "INFO:weightwatcher:skipping layer 31 None by id\n",
      "DEBUG:weightwatcher:layer_supported  N 4096 max evals None\n",
      "DEBUG:weightwatcher:Layer 31 None is skipped\n"
     ]
    },
    {
     "data": {
      "text/plain": [
       "<Figure size 432x288 with 0 Axes>"
      ]
     },
     "metadata": {},
     "output_type": "display_data"
    }
   ],
   "source": [
    "vgg11 = models.vgg11(pretrained=True)\n",
    "watcher = ww.WeightWatcher(model=vgg11)\n",
    "details = watcher.describe()\n",
    "esd = watcher.get_ESD(model=vgg11, layer=8)\n",
    "analyzed = watcher.analyze(plot=True, layers=[8], randomize=True)"
   ]
  },
  {
   "cell_type": "code",
   "execution_count": 6,
   "metadata": {},
   "outputs": [
    {
     "data": {
      "text/html": [
       "<div>\n",
       "<style scoped>\n",
       "    .dataframe tbody tr th:only-of-type {\n",
       "        vertical-align: middle;\n",
       "    }\n",
       "\n",
       "    .dataframe tbody tr th {\n",
       "        vertical-align: top;\n",
       "    }\n",
       "\n",
       "    .dataframe thead th {\n",
       "        text-align: right;\n",
       "    }\n",
       "</style>\n",
       "<table border=\"1\" class=\"dataframe\">\n",
       "  <thead>\n",
       "    <tr style=\"text-align: right;\">\n",
       "      <th></th>\n",
       "      <th>layer_id</th>\n",
       "      <th>name</th>\n",
       "      <th>M</th>\n",
       "      <th>N</th>\n",
       "      <th>layer_type</th>\n",
       "      <th>num_evals</th>\n",
       "      <th>rf</th>\n",
       "    </tr>\n",
       "  </thead>\n",
       "  <tbody>\n",
       "    <tr>\n",
       "      <th>0</th>\n",
       "      <td>2</td>\n",
       "      <td>None</td>\n",
       "      <td>3.0</td>\n",
       "      <td>64.0</td>\n",
       "      <td>LAYER_TYPE.CONV2D</td>\n",
       "      <td>27.0</td>\n",
       "      <td>9.0</td>\n",
       "    </tr>\n",
       "    <tr>\n",
       "      <th>1</th>\n",
       "      <td>5</td>\n",
       "      <td>None</td>\n",
       "      <td>64.0</td>\n",
       "      <td>128.0</td>\n",
       "      <td>LAYER_TYPE.CONV2D</td>\n",
       "      <td>576.0</td>\n",
       "      <td>9.0</td>\n",
       "    </tr>\n",
       "    <tr>\n",
       "      <th>2</th>\n",
       "      <td>8</td>\n",
       "      <td>None</td>\n",
       "      <td>128.0</td>\n",
       "      <td>256.0</td>\n",
       "      <td>LAYER_TYPE.CONV2D</td>\n",
       "      <td>1152.0</td>\n",
       "      <td>9.0</td>\n",
       "    </tr>\n",
       "    <tr>\n",
       "      <th>3</th>\n",
       "      <td>10</td>\n",
       "      <td>None</td>\n",
       "      <td>256.0</td>\n",
       "      <td>256.0</td>\n",
       "      <td>LAYER_TYPE.CONV2D</td>\n",
       "      <td>2304.0</td>\n",
       "      <td>9.0</td>\n",
       "    </tr>\n",
       "    <tr>\n",
       "      <th>4</th>\n",
       "      <td>13</td>\n",
       "      <td>None</td>\n",
       "      <td>256.0</td>\n",
       "      <td>512.0</td>\n",
       "      <td>LAYER_TYPE.CONV2D</td>\n",
       "      <td>2304.0</td>\n",
       "      <td>9.0</td>\n",
       "    </tr>\n",
       "    <tr>\n",
       "      <th>5</th>\n",
       "      <td>15</td>\n",
       "      <td>None</td>\n",
       "      <td>512.0</td>\n",
       "      <td>512.0</td>\n",
       "      <td>LAYER_TYPE.CONV2D</td>\n",
       "      <td>4608.0</td>\n",
       "      <td>9.0</td>\n",
       "    </tr>\n",
       "    <tr>\n",
       "      <th>6</th>\n",
       "      <td>18</td>\n",
       "      <td>None</td>\n",
       "      <td>512.0</td>\n",
       "      <td>512.0</td>\n",
       "      <td>LAYER_TYPE.CONV2D</td>\n",
       "      <td>4608.0</td>\n",
       "      <td>9.0</td>\n",
       "    </tr>\n",
       "    <tr>\n",
       "      <th>7</th>\n",
       "      <td>20</td>\n",
       "      <td>None</td>\n",
       "      <td>512.0</td>\n",
       "      <td>512.0</td>\n",
       "      <td>LAYER_TYPE.CONV2D</td>\n",
       "      <td>4608.0</td>\n",
       "      <td>9.0</td>\n",
       "    </tr>\n",
       "    <tr>\n",
       "      <th>8</th>\n",
       "      <td>25</td>\n",
       "      <td>None</td>\n",
       "      <td>4096.0</td>\n",
       "      <td>25088.0</td>\n",
       "      <td>LAYER_TYPE.DENSE</td>\n",
       "      <td>4096.0</td>\n",
       "      <td>1.0</td>\n",
       "    </tr>\n",
       "    <tr>\n",
       "      <th>9</th>\n",
       "      <td>28</td>\n",
       "      <td>None</td>\n",
       "      <td>4096.0</td>\n",
       "      <td>4096.0</td>\n",
       "      <td>LAYER_TYPE.DENSE</td>\n",
       "      <td>4096.0</td>\n",
       "      <td>1.0</td>\n",
       "    </tr>\n",
       "    <tr>\n",
       "      <th>10</th>\n",
       "      <td>31</td>\n",
       "      <td>None</td>\n",
       "      <td>1000.0</td>\n",
       "      <td>4096.0</td>\n",
       "      <td>LAYER_TYPE.DENSE</td>\n",
       "      <td>1000.0</td>\n",
       "      <td>1.0</td>\n",
       "    </tr>\n",
       "  </tbody>\n",
       "</table>\n",
       "</div>"
      ],
      "text/plain": [
       "   layer_id  name       M        N         layer_type  num_evals   rf\n",
       "0         2  None     3.0     64.0  LAYER_TYPE.CONV2D       27.0  9.0\n",
       "1         5  None    64.0    128.0  LAYER_TYPE.CONV2D      576.0  9.0\n",
       "2         8  None   128.0    256.0  LAYER_TYPE.CONV2D     1152.0  9.0\n",
       "3        10  None   256.0    256.0  LAYER_TYPE.CONV2D     2304.0  9.0\n",
       "4        13  None   256.0    512.0  LAYER_TYPE.CONV2D     2304.0  9.0\n",
       "5        15  None   512.0    512.0  LAYER_TYPE.CONV2D     4608.0  9.0\n",
       "6        18  None   512.0    512.0  LAYER_TYPE.CONV2D     4608.0  9.0\n",
       "7        20  None   512.0    512.0  LAYER_TYPE.CONV2D     4608.0  9.0\n",
       "8        25  None  4096.0  25088.0   LAYER_TYPE.DENSE     4096.0  1.0\n",
       "9        28  None  4096.0   4096.0   LAYER_TYPE.DENSE     4096.0  1.0\n",
       "10       31  None  1000.0   4096.0   LAYER_TYPE.DENSE     1000.0  1.0"
      ]
     },
     "execution_count": 6,
     "metadata": {},
     "output_type": "execute_result"
    }
   ],
   "source": [
    "details"
   ]
  },
  {
   "cell_type": "code",
   "execution_count": 7,
   "metadata": {
    "scrolled": false
   },
   "outputs": [
    {
     "name": "stderr",
     "output_type": "stream",
     "text": [
      "INFO:weightwatcher:params {'glorot_fix': False, 'normalize': False, 'conv2d_norm': True, 'randomize': True, 'savefig': 'ww-img', 'rescale': True, 'deltaEs': False, 'intra': False, 'channels': None, 'conv2d_fft': False, 'ww2x': False, 'min_evals': 0, 'max_evals': None, 'plot': False, 'mp_fit': False, 'layers': [8]}\n",
      "INFO:weightwatcher:Saving all images to ww-img\n",
      "INFO:weightwatcher:params {'glorot_fix': False, 'normalize': False, 'conv2d_norm': True, 'randomize': True, 'savefig': 'ww-img', 'rescale': True, 'deltaEs': False, 'intra': False, 'channels': None, 'conv2d_fft': False, 'ww2x': False, 'min_evals': 0, 'max_evals': None, 'plot': False, 'mp_fit': False, 'layers': [8]}\n",
      "INFO:weightwatcher:Saving all images to ww-img\n",
      "DEBUG:weightwatcher:FRAMEWORKS: KERAS = 4  PYTORCH = 2 ONNX = 8 UNKNOWN = 1 \n",
      "DEBUG:weightwatcher:FIRST = 2  LAST = 4 UNKNOWN = 1 \n",
      "DEBUG:weightwatcher:MODEL ITERATOR, framework = 2, channels = 4 \n",
      "INFO:weightwatcher:Filtering layer by id 8\n",
      "INFO:weightwatcher:skipping layer 0 None by id\n",
      "DEBUG:weightwatcher:layer_supported  N 0 max evals None\n",
      "DEBUG:weightwatcher:Layer 0 None is skipped\n",
      "INFO:weightwatcher:skipping layer 1 None by id\n",
      "DEBUG:weightwatcher:layer_supported  N 0 max evals None\n",
      "DEBUG:weightwatcher:Layer 1 None is skipped\n",
      "DEBUG:weightwatcher:conv2D_Wmats\n",
      "DEBUG:weightwatcher:Channels Last tensor shape: 64x3 (NxM), 3x3 (i,j)\n",
      "DEBUG:weightwatcher:get_conv2D_Wmats N=64 M=3 rf= 9 channels = 4\n",
      "INFO:weightwatcher:skipping layer 2 None by id\n",
      "DEBUG:weightwatcher:layer_supported  N 64 max evals None\n",
      "DEBUG:weightwatcher:Layer 2 None is skipped\n",
      "INFO:weightwatcher:skipping layer 3 None by id\n",
      "DEBUG:weightwatcher:layer_supported  N 0 max evals None\n",
      "DEBUG:weightwatcher:Layer 3 None is skipped\n",
      "INFO:weightwatcher:skipping layer 4 None by id\n",
      "DEBUG:weightwatcher:layer_supported  N 0 max evals None\n",
      "DEBUG:weightwatcher:Layer 4 None is skipped\n",
      "DEBUG:weightwatcher:conv2D_Wmats\n",
      "DEBUG:weightwatcher:Channels Last tensor shape: 128x64 (NxM), 3x3 (i,j)\n",
      "DEBUG:weightwatcher:get_conv2D_Wmats N=128 M=64 rf= 9 channels = 4\n",
      "INFO:weightwatcher:skipping layer 5 None by id\n",
      "DEBUG:weightwatcher:layer_supported  N 128 max evals None\n",
      "DEBUG:weightwatcher:Layer 5 None is skipped\n",
      "INFO:weightwatcher:skipping layer 6 None by id\n",
      "DEBUG:weightwatcher:layer_supported  N 0 max evals None\n",
      "DEBUG:weightwatcher:Layer 6 None is skipped\n",
      "INFO:weightwatcher:skipping layer 7 None by id\n",
      "DEBUG:weightwatcher:layer_supported  N 0 max evals None\n",
      "DEBUG:weightwatcher:Layer 7 None is skipped\n",
      "DEBUG:weightwatcher:conv2D_Wmats\n",
      "DEBUG:weightwatcher:Channels Last tensor shape: 256x128 (NxM), 3x3 (i,j)\n",
      "DEBUG:weightwatcher:get_conv2D_Wmats N=256 M=128 rf= 9 channels = 4\n",
      "INFO:weightwatcher:keeping layer 8 None by id\n",
      "DEBUG:weightwatcher:layer_supported  N 256 max evals None\n",
      "INFO:weightwatcher:LAYER: 8 16  : <class 'torch.nn.modules.conv.Conv2d'>\n",
      "DEBUG:weightwatcher:apply permute W  on Layer 8 None \n",
      "DEBUG:weightwatcher:params {'glorot_fix': False, 'normalize': False, 'conv2d_norm': True, 'randomize': True, 'savefig': 'ww-img', 'rescale': True, 'deltaEs': False, 'intra': False, 'channels': None, 'conv2d_fft': False, 'ww2x': False, 'min_evals': 0, 'max_evals': None, 'plot': False, 'mp_fit': False, 'layers': [8]} \n",
      "DEBUG:weightwatcher:apply ESD  on Layer 8 None \n",
      "DEBUG:weightwatcher:running SVD on Layer 8 None \n",
      "DEBUG:weightwatcher:params {'glorot_fix': False, 'normalize': False, 'conv2d_norm': True, 'randomize': True, 'savefig': 'ww-img', 'rescale': True, 'deltaEs': False, 'intra': False, 'channels': None, 'conv2d_fft': False, 'ww2x': False, 'min_evals': 0, 'max_evals': None, 'plot': False, 'mp_fit': False, 'layers': [8]} \n",
      "DEBUG:weightwatcher:Running full SVD:  W.shape=(256, 128)  n_comp = 128\n",
      "DEBUG:weightwatcher:Running full SVD:  W.shape=(256, 128)  n_comp = 128\n",
      "DEBUG:weightwatcher:Running full SVD:  W.shape=(256, 128)  n_comp = 128\n",
      "DEBUG:weightwatcher:Running full SVD:  W.shape=(256, 128)  n_comp = 128\n",
      "DEBUG:weightwatcher:Running full SVD:  W.shape=(256, 128)  n_comp = 128\n",
      "DEBUG:weightwatcher:Running full SVD:  W.shape=(256, 128)  n_comp = 128\n",
      "DEBUG:weightwatcher:Running full SVD:  W.shape=(256, 128)  n_comp = 128\n",
      "DEBUG:weightwatcher:Running full SVD:  W.shape=(256, 128)  n_comp = 128\n",
      "DEBUG:weightwatcher:Running full SVD:  W.shape=(256, 128)  n_comp = 128\n",
      "INFO:weightwatcher:rescaling 8 ESD of W by 1.68\n",
      "DEBUG:weightwatcher:bulk_max = 2.833, bulk_max_TW = 3.303 \n",
      "INFO:weightwatcher:MP fit min_esd=0.07, max_esd=6.77, Q=2.0, s1=0.99 Wsc ale=1.68\n",
      "DEBUG:weightwatcher:apply unpermute W  on Layer 8 None \n",
      "DEBUG:weightwatcher:params {'glorot_fix': False, 'normalize': False, 'conv2d_norm': True, 'randomize': True, 'savefig': 'ww-img', 'rescale': True, 'deltaEs': False, 'intra': False, 'channels': None, 'conv2d_fft': False, 'ww2x': False, 'min_evals': 0, 'max_evals': None, 'plot': False, 'mp_fit': False, 'layers': [8]} \n",
      "DEBUG:weightwatcher:Detected 18 spikes\n",
      "INFO:weightwatcher:apply truncated SVD on Layer 8 None, with nsmooth=-18,  keeping ncomp=110 out of 128. of the singular vectors\n",
      "INFO:weightwatcher:LAYER TYPE  16 out of 4 8 64 \n",
      "DEBUG:weightwatcher:Chomping off top 2 singular values\n",
      "DEBUG:weightwatcher:Chomping off top 2 singular values\n",
      "DEBUG:weightwatcher:Chomping off top 2 singular values\n",
      "DEBUG:weightwatcher:Chomping off top 2 singular values\n",
      "DEBUG:weightwatcher:Chomping off top 2 singular values\n",
      "DEBUG:weightwatcher:Chomping off top 2 singular values\n",
      "DEBUG:weightwatcher:Chomping off top 2 singular values\n",
      "DEBUG:weightwatcher:Chomping off top 2 singular values\n",
      "DEBUG:weightwatcher:Chomping off top 2 singular values\n",
      "INFO:weightwatcher:skipping layer 9 None by id\n",
      "DEBUG:weightwatcher:layer_supported  N 0 max evals None\n",
      "DEBUG:weightwatcher:Layer 9 None is skipped\n",
      "DEBUG:weightwatcher:conv2D_Wmats\n",
      "DEBUG:weightwatcher:Channels Last tensor shape: 256x256 (NxM), 3x3 (i,j)\n",
      "DEBUG:weightwatcher:get_conv2D_Wmats N=256 M=256 rf= 9 channels = 4\n",
      "INFO:weightwatcher:skipping layer 10 None by id\n",
      "DEBUG:weightwatcher:layer_supported  N 256 max evals None\n",
      "DEBUG:weightwatcher:Layer 10 None is skipped\n",
      "INFO:weightwatcher:skipping layer 11 None by id\n",
      "DEBUG:weightwatcher:layer_supported  N 0 max evals None\n",
      "DEBUG:weightwatcher:Layer 11 None is skipped\n",
      "INFO:weightwatcher:skipping layer 12 None by id\n",
      "DEBUG:weightwatcher:layer_supported  N 0 max evals None\n",
      "DEBUG:weightwatcher:Layer 12 None is skipped\n",
      "DEBUG:weightwatcher:conv2D_Wmats\n",
      "DEBUG:weightwatcher:Channels Last tensor shape: 512x256 (NxM), 3x3 (i,j)\n",
      "DEBUG:weightwatcher:get_conv2D_Wmats N=512 M=256 rf= 9 channels = 4\n",
      "INFO:weightwatcher:skipping layer 13 None by id\n",
      "DEBUG:weightwatcher:layer_supported  N 512 max evals None\n",
      "DEBUG:weightwatcher:Layer 13 None is skipped\n",
      "INFO:weightwatcher:skipping layer 14 None by id\n",
      "DEBUG:weightwatcher:layer_supported  N 0 max evals None\n",
      "DEBUG:weightwatcher:Layer 14 None is skipped\n",
      "DEBUG:weightwatcher:conv2D_Wmats\n",
      "DEBUG:weightwatcher:Channels Last tensor shape: 512x512 (NxM), 3x3 (i,j)\n",
      "DEBUG:weightwatcher:get_conv2D_Wmats N=512 M=512 rf= 9 channels = 4\n",
      "INFO:weightwatcher:skipping layer 15 None by id\n",
      "DEBUG:weightwatcher:layer_supported  N 512 max evals None\n",
      "DEBUG:weightwatcher:Layer 15 None is skipped\n",
      "INFO:weightwatcher:skipping layer 16 None by id\n",
      "DEBUG:weightwatcher:layer_supported  N 0 max evals None\n",
      "DEBUG:weightwatcher:Layer 16 None is skipped\n",
      "INFO:weightwatcher:skipping layer 17 None by id\n",
      "DEBUG:weightwatcher:layer_supported  N 0 max evals None\n",
      "DEBUG:weightwatcher:Layer 17 None is skipped\n",
      "DEBUG:weightwatcher:conv2D_Wmats\n",
      "DEBUG:weightwatcher:Channels Last tensor shape: 512x512 (NxM), 3x3 (i,j)\n",
      "DEBUG:weightwatcher:get_conv2D_Wmats N=512 M=512 rf= 9 channels = 4\n",
      "INFO:weightwatcher:skipping layer 18 None by id\n",
      "DEBUG:weightwatcher:layer_supported  N 512 max evals None\n",
      "DEBUG:weightwatcher:Layer 18 None is skipped\n",
      "INFO:weightwatcher:skipping layer 19 None by id\n",
      "DEBUG:weightwatcher:layer_supported  N 0 max evals None\n",
      "DEBUG:weightwatcher:Layer 19 None is skipped\n",
      "DEBUG:weightwatcher:conv2D_Wmats\n",
      "DEBUG:weightwatcher:Channels Last tensor shape: 512x512 (NxM), 3x3 (i,j)\n",
      "DEBUG:weightwatcher:get_conv2D_Wmats N=512 M=512 rf= 9 channels = 4\n",
      "INFO:weightwatcher:skipping layer 20 None by id\n",
      "DEBUG:weightwatcher:layer_supported  N 512 max evals None\n",
      "DEBUG:weightwatcher:Layer 20 None is skipped\n"
     ]
    },
    {
     "name": "stderr",
     "output_type": "stream",
     "text": [
      "INFO:weightwatcher:skipping layer 21 None by id\n",
      "DEBUG:weightwatcher:layer_supported  N 0 max evals None\n",
      "DEBUG:weightwatcher:Layer 21 None is skipped\n",
      "INFO:weightwatcher:skipping layer 22 None by id\n",
      "DEBUG:weightwatcher:layer_supported  N 0 max evals None\n",
      "DEBUG:weightwatcher:Layer 22 None is skipped\n",
      "INFO:weightwatcher:skipping layer 23 None by id\n",
      "DEBUG:weightwatcher:layer_supported  N 0 max evals None\n",
      "DEBUG:weightwatcher:Layer 23 None is skipped\n",
      "INFO:weightwatcher:skipping layer 24 None by id\n",
      "DEBUG:weightwatcher:layer_supported  N 0 max evals None\n",
      "DEBUG:weightwatcher:Layer 24 None is skipped\n",
      "INFO:weightwatcher:skipping layer 25 None by id\n",
      "DEBUG:weightwatcher:layer_supported  N 25088 max evals None\n",
      "DEBUG:weightwatcher:Layer 25 None is skipped\n",
      "INFO:weightwatcher:skipping layer 26 None by id\n",
      "DEBUG:weightwatcher:layer_supported  N 0 max evals None\n",
      "DEBUG:weightwatcher:Layer 26 None is skipped\n",
      "INFO:weightwatcher:skipping layer 27 None by id\n",
      "DEBUG:weightwatcher:layer_supported  N 0 max evals None\n",
      "DEBUG:weightwatcher:Layer 27 None is skipped\n",
      "INFO:weightwatcher:skipping layer 28 None by id\n",
      "DEBUG:weightwatcher:layer_supported  N 4096 max evals None\n",
      "DEBUG:weightwatcher:Layer 28 None is skipped\n",
      "INFO:weightwatcher:skipping layer 29 None by id\n",
      "DEBUG:weightwatcher:layer_supported  N 0 max evals None\n",
      "DEBUG:weightwatcher:Layer 29 None is skipped\n",
      "INFO:weightwatcher:skipping layer 30 None by id\n",
      "DEBUG:weightwatcher:layer_supported  N 0 max evals None\n",
      "DEBUG:weightwatcher:Layer 30 None is skipped\n",
      "INFO:weightwatcher:skipping layer 31 None by id\n",
      "DEBUG:weightwatcher:layer_supported  N 4096 max evals None\n",
      "DEBUG:weightwatcher:Layer 31 None is skipped\n",
      "INFO:weightwatcher:Returning sharpened model\n"
     ]
    }
   ],
   "source": [
    "sharper_vgg11 = watcher.SVDSharpness(model=vgg11, layers=[8])"
   ]
  },
  {
   "cell_type": "code",
   "execution_count": 8,
   "metadata": {
    "scrolled": false
   },
   "outputs": [
    {
     "name": "stderr",
     "output_type": "stream",
     "text": [
      "INFO:weightwatcher:\n",
      "\n",
      "python      version 3.9.5 (default, May 18 2021, 12:31:01) \n",
      "[Clang 10.0.0 ]\n",
      "numpy       version 1.19.5\n",
      "tensforflow version 2.5.0\n",
      "keras       version 2.5.0\n",
      "INFO:weightwatcher:params {'glorot_fix': False, 'normalize': False, 'conv2d_norm': True, 'randomize': True, 'savefig': 'ww-img', 'rescale': True, 'deltaEs': False, 'intra': False, 'channels': None, 'conv2d_fft': False, 'ww2x': False, 'min_evals': 0, 'max_evals': None, 'plot': True, 'mp_fit': False, 'layers': [8], 'num_smooth': -18}\n",
      "INFO:weightwatcher:Saving all images to ww-img\n",
      "INFO:weightwatcher:params {'glorot_fix': False, 'normalize': False, 'conv2d_norm': True, 'randomize': True, 'savefig': 'ww-img', 'rescale': True, 'deltaEs': False, 'intra': False, 'channels': None, 'conv2d_fft': False, 'ww2x': False, 'min_evals': 0, 'max_evals': None, 'plot': True, 'mp_fit': False, 'layers': [8], 'num_smooth': -18}\n",
      "INFO:weightwatcher:Saving all images to ww-img\n",
      "DEBUG:weightwatcher:FRAMEWORKS: KERAS = 4  PYTORCH = 2 ONNX = 8 UNKNOWN = 1 \n",
      "DEBUG:weightwatcher:FIRST = 2  LAST = 4 UNKNOWN = 1 \n",
      "DEBUG:weightwatcher:MODEL ITERATOR, framework = 2, channels = 4 \n",
      "INFO:weightwatcher:Filtering layer by id 8\n",
      "INFO:weightwatcher:skipping layer 0 None by id\n",
      "DEBUG:weightwatcher:layer_supported  N 0 max evals None\n",
      "DEBUG:weightwatcher:Layer 0 None is skipped\n",
      "INFO:weightwatcher:skipping layer 1 None by id\n",
      "DEBUG:weightwatcher:layer_supported  N 0 max evals None\n",
      "DEBUG:weightwatcher:Layer 1 None is skipped\n",
      "DEBUG:weightwatcher:conv2D_Wmats\n",
      "DEBUG:weightwatcher:Channels Last tensor shape: 64x3 (NxM), 3x3 (i,j)\n",
      "DEBUG:weightwatcher:get_conv2D_Wmats N=64 M=3 rf= 9 channels = 4\n",
      "INFO:weightwatcher:skipping layer 2 None by id\n",
      "DEBUG:weightwatcher:layer_supported  N 64 max evals None\n",
      "DEBUG:weightwatcher:Layer 2 None is skipped\n",
      "INFO:weightwatcher:skipping layer 3 None by id\n",
      "DEBUG:weightwatcher:layer_supported  N 0 max evals None\n",
      "DEBUG:weightwatcher:Layer 3 None is skipped\n",
      "INFO:weightwatcher:skipping layer 4 None by id\n",
      "DEBUG:weightwatcher:layer_supported  N 0 max evals None\n",
      "DEBUG:weightwatcher:Layer 4 None is skipped\n",
      "DEBUG:weightwatcher:conv2D_Wmats\n",
      "DEBUG:weightwatcher:Channels Last tensor shape: 128x64 (NxM), 3x3 (i,j)\n",
      "DEBUG:weightwatcher:get_conv2D_Wmats N=128 M=64 rf= 9 channels = 4\n",
      "INFO:weightwatcher:skipping layer 5 None by id\n",
      "DEBUG:weightwatcher:layer_supported  N 128 max evals None\n",
      "DEBUG:weightwatcher:Layer 5 None is skipped\n",
      "INFO:weightwatcher:skipping layer 6 None by id\n",
      "DEBUG:weightwatcher:layer_supported  N 0 max evals None\n",
      "DEBUG:weightwatcher:Layer 6 None is skipped\n",
      "INFO:weightwatcher:skipping layer 7 None by id\n",
      "DEBUG:weightwatcher:layer_supported  N 0 max evals None\n",
      "DEBUG:weightwatcher:Layer 7 None is skipped\n",
      "DEBUG:weightwatcher:conv2D_Wmats\n",
      "DEBUG:weightwatcher:Channels Last tensor shape: 256x128 (NxM), 3x3 (i,j)\n",
      "DEBUG:weightwatcher:get_conv2D_Wmats N=256 M=128 rf= 9 channels = 4\n",
      "INFO:weightwatcher:keeping layer 8 None by id\n",
      "DEBUG:weightwatcher:layer_supported  N 256 max evals None\n",
      "INFO:weightwatcher:LAYER: 8 16  : <class 'torch.nn.modules.conv.Conv2d'>\n",
      "DEBUG:weightwatcher:apply ESD  on Layer 8 None \n",
      "DEBUG:weightwatcher:running SVD on Layer 8 None \n",
      "DEBUG:weightwatcher:params {'glorot_fix': False, 'normalize': False, 'conv2d_norm': True, 'randomize': True, 'savefig': 'ww-img', 'rescale': True, 'deltaEs': False, 'intra': False, 'channels': None, 'conv2d_fft': False, 'ww2x': False, 'min_evals': 0, 'max_evals': None, 'plot': True, 'mp_fit': False, 'layers': [8], 'num_smooth': -18} \n",
      "DEBUG:weightwatcher:Running full SVD:  W.shape=(256, 128)  n_comp = 128\n",
      "DEBUG:weightwatcher:Running full SVD:  W.shape=(256, 128)  n_comp = 128\n",
      "DEBUG:weightwatcher:Running full SVD:  W.shape=(256, 128)  n_comp = 128\n",
      "DEBUG:weightwatcher:Running full SVD:  W.shape=(256, 128)  n_comp = 128\n",
      "DEBUG:weightwatcher:Running full SVD:  W.shape=(256, 128)  n_comp = 128\n",
      "DEBUG:weightwatcher:Running full SVD:  W.shape=(256, 128)  n_comp = 128\n",
      "DEBUG:weightwatcher:Running full SVD:  W.shape=(256, 128)  n_comp = 128\n",
      "DEBUG:weightwatcher:Running full SVD:  W.shape=(256, 128)  n_comp = 128\n",
      "DEBUG:weightwatcher:Running full SVD:  W.shape=(256, 128)  n_comp = 128\n",
      "DEBUG:weightwatcher:fitting power law on 1152 eigenvalues\n",
      "DEBUG:weightwatcher:finding best distribution for fit\n",
      "Assuming nested distributions\n"
     ]
    },
    {
     "data": {
      "image/png": "[encoded data removed]",
      "text/plain": [
       "<Figure size 432x288 with 1 Axes>"
      ]
     },
     "metadata": {
      "needs_background": "light"
     },
     "output_type": "display_data"
    },
    {
     "data": {
      "image/png": "[encoded data removed]",
      "text/plain": [
       "<Figure size 432x288 with 1 Axes>"
      ]
     },
     "metadata": {
      "needs_background": "light"
     },
     "output_type": "display_data"
    },
    {
     "data": {
      "image/png": "[encoded data removed]",
      "text/plain": [
       "<Figure size 432x288 with 1 Axes>"
      ]
     },
     "metadata": {
      "needs_background": "light"
     },
     "output_type": "display_data"
    },
    {
     "data": {
      "image/png": "[encoded data removed]",
      "text/plain": [
       "<Figure size 432x288 with 1 Axes>"
      ]
     },
     "metadata": {
      "needs_background": "light"
     },
     "output_type": "display_data"
    },
    {
     "name": "stderr",
     "output_type": "stream",
     "text": [
      "INFO:weightwatcher:Randomizing Layer: 8 None \n",
      "DEBUG:weightwatcher:apply random ESD  on Layer 8 None \n",
      "DEBUG:weightwatcher:running SVD on Layer 8 None \n",
      "DEBUG:weightwatcher:params {'glorot_fix': False, 'normalize': False, 'conv2d_norm': True, 'randomize': True, 'savefig': 'ww-img', 'rescale': True, 'deltaEs': False, 'intra': False, 'channels': None, 'conv2d_fft': False, 'ww2x': False, 'min_evals': 0, 'max_evals': None, 'plot': True, 'mp_fit': False, 'layers': [8], 'num_smooth': -18} \n",
      "INFO:weightwatcher:generating 1 replicas for each W of the random eigenvalues\n",
      "DEBUG:weightwatcher:Running Randomized Full SVD\n",
      "DEBUG:weightwatcher:Running Randomized Full SVD\n",
      "DEBUG:weightwatcher:Running Randomized Full SVD\n",
      "DEBUG:weightwatcher:Running Randomized Full SVD\n",
      "DEBUG:weightwatcher:Running Randomized Full SVD\n",
      "DEBUG:weightwatcher:Running Randomized Full SVD\n",
      "DEBUG:weightwatcher:Running Randomized Full SVD\n",
      "DEBUG:weightwatcher:Running Randomized Full SVD\n",
      "DEBUG:weightwatcher:Running Randomized Full SVD\n"
     ]
    },
    {
     "data": {
      "image/png": "[encoded data removed]",
      "text/plain": [
       "<Figure size 432x288 with 1 Axes>"
      ]
     },
     "metadata": {
      "needs_background": "light"
     },
     "output_type": "display_data"
    },
    {
     "data": {
      "image/png": "[encoded data removed]",
      "text/plain": [
       "<Figure size 432x288 with 1 Axes>"
      ]
     },
     "metadata": {
      "needs_background": "light"
     },
     "output_type": "display_data"
    },
    {
     "name": "stderr",
     "output_type": "stream",
     "text": [
      "INFO:weightwatcher:MP Fitting Random layer: 8 None \n",
      "INFO:weightwatcher:rescaling 8 ESD of W by 2.58\n",
      "DEBUG:weightwatcher:bulk_max = 2.822, bulk_max_TW = 3.657 \n",
      "INFO:weightwatcher:MP fit min_esd=0.07, max_esd=5.15, Q=2.0, s1=0.98 Wsc ale=2.58\n"
     ]
    },
    {
     "data": {
      "image/png": "[encoded data removed]",
      "text/plain": [
       "<Figure size 432x288 with 1 Axes>"
      ]
     },
     "metadata": {
      "needs_background": "light"
     },
     "output_type": "display_data"
    },
    {
     "name": "stderr",
     "output_type": "stream",
     "text": [
      "INFO:weightwatcher:skipping layer 9 None by id\n",
      "DEBUG:weightwatcher:layer_supported  N 0 max evals None\n",
      "DEBUG:weightwatcher:Layer 9 None is skipped\n",
      "DEBUG:weightwatcher:conv2D_Wmats\n",
      "DEBUG:weightwatcher:Channels Last tensor shape: 256x256 (NxM), 3x3 (i,j)\n",
      "DEBUG:weightwatcher:get_conv2D_Wmats N=256 M=256 rf= 9 channels = 4\n",
      "INFO:weightwatcher:skipping layer 10 None by id\n",
      "DEBUG:weightwatcher:layer_supported  N 256 max evals None\n",
      "DEBUG:weightwatcher:Layer 10 None is skipped\n",
      "INFO:weightwatcher:skipping layer 11 None by id\n",
      "DEBUG:weightwatcher:layer_supported  N 0 max evals None\n",
      "DEBUG:weightwatcher:Layer 11 None is skipped\n",
      "INFO:weightwatcher:skipping layer 12 None by id\n",
      "DEBUG:weightwatcher:layer_supported  N 0 max evals None\n",
      "DEBUG:weightwatcher:Layer 12 None is skipped\n",
      "DEBUG:weightwatcher:conv2D_Wmats\n",
      "DEBUG:weightwatcher:Channels Last tensor shape: 512x256 (NxM), 3x3 (i,j)\n",
      "DEBUG:weightwatcher:get_conv2D_Wmats N=512 M=256 rf= 9 channels = 4\n",
      "INFO:weightwatcher:skipping layer 13 None by id\n",
      "DEBUG:weightwatcher:layer_supported  N 512 max evals None\n",
      "DEBUG:weightwatcher:Layer 13 None is skipped\n",
      "INFO:weightwatcher:skipping layer 14 None by id\n",
      "DEBUG:weightwatcher:layer_supported  N 0 max evals None\n",
      "DEBUG:weightwatcher:Layer 14 None is skipped\n",
      "DEBUG:weightwatcher:conv2D_Wmats\n",
      "DEBUG:weightwatcher:Channels Last tensor shape: 512x512 (NxM), 3x3 (i,j)\n",
      "DEBUG:weightwatcher:get_conv2D_Wmats N=512 M=512 rf= 9 channels = 4\n",
      "INFO:weightwatcher:skipping layer 15 None by id\n",
      "DEBUG:weightwatcher:layer_supported  N 512 max evals None\n",
      "DEBUG:weightwatcher:Layer 15 None is skipped\n",
      "INFO:weightwatcher:skipping layer 16 None by id\n",
      "DEBUG:weightwatcher:layer_supported  N 0 max evals None\n",
      "DEBUG:weightwatcher:Layer 16 None is skipped\n",
      "INFO:weightwatcher:skipping layer 17 None by id\n",
      "DEBUG:weightwatcher:layer_supported  N 0 max evals None\n",
      "DEBUG:weightwatcher:Layer 17 None is skipped\n",
      "DEBUG:weightwatcher:conv2D_Wmats\n",
      "DEBUG:weightwatcher:Channels Last tensor shape: 512x512 (NxM), 3x3 (i,j)\n",
      "DEBUG:weightwatcher:get_conv2D_Wmats N=512 M=512 rf= 9 channels = 4\n",
      "INFO:weightwatcher:skipping layer 18 None by id\n",
      "DEBUG:weightwatcher:layer_supported  N 512 max evals None\n",
      "DEBUG:weightwatcher:Layer 18 None is skipped\n",
      "INFO:weightwatcher:skipping layer 19 None by id\n",
      "DEBUG:weightwatcher:layer_supported  N 0 max evals None\n",
      "DEBUG:weightwatcher:Layer 19 None is skipped\n",
      "DEBUG:weightwatcher:conv2D_Wmats\n",
      "DEBUG:weightwatcher:Channels Last tensor shape: 512x512 (NxM), 3x3 (i,j)\n",
      "DEBUG:weightwatcher:get_conv2D_Wmats N=512 M=512 rf= 9 channels = 4\n",
      "INFO:weightwatcher:skipping layer 20 None by id\n",
      "DEBUG:weightwatcher:layer_supported  N 512 max evals None\n",
      "DEBUG:weightwatcher:Layer 20 None is skipped\n",
      "INFO:weightwatcher:skipping layer 21 None by id\n",
      "DEBUG:weightwatcher:layer_supported  N 0 max evals None\n",
      "DEBUG:weightwatcher:Layer 21 None is skipped\n",
      "INFO:weightwatcher:skipping layer 22 None by id\n",
      "DEBUG:weightwatcher:layer_supported  N 0 max evals None\n",
      "DEBUG:weightwatcher:Layer 22 None is skipped\n",
      "INFO:weightwatcher:skipping layer 23 None by id\n",
      "DEBUG:weightwatcher:layer_supported  N 0 max evals None\n",
      "DEBUG:weightwatcher:Layer 23 None is skipped\n",
      "INFO:weightwatcher:skipping layer 24 None by id\n",
      "DEBUG:weightwatcher:layer_supported  N 0 max evals None\n",
      "DEBUG:weightwatcher:Layer 24 None is skipped\n",
      "INFO:weightwatcher:skipping layer 25 None by id\n",
      "DEBUG:weightwatcher:layer_supported  N 25088 max evals None\n",
      "DEBUG:weightwatcher:Layer 25 None is skipped\n",
      "INFO:weightwatcher:skipping layer 26 None by id\n",
      "DEBUG:weightwatcher:layer_supported  N 0 max evals None\n",
      "DEBUG:weightwatcher:Layer 26 None is skipped\n",
      "INFO:weightwatcher:skipping layer 27 None by id\n",
      "DEBUG:weightwatcher:layer_supported  N 0 max evals None\n",
      "DEBUG:weightwatcher:Layer 27 None is skipped\n",
      "INFO:weightwatcher:skipping layer 28 None by id\n",
      "DEBUG:weightwatcher:layer_supported  N 4096 max evals None\n",
      "DEBUG:weightwatcher:Layer 28 None is skipped\n",
      "INFO:weightwatcher:skipping layer 29 None by id\n",
      "DEBUG:weightwatcher:layer_supported  N 0 max evals None\n",
      "DEBUG:weightwatcher:Layer 29 None is skipped\n",
      "INFO:weightwatcher:skipping layer 30 None by id\n",
      "DEBUG:weightwatcher:layer_supported  N 0 max evals None\n",
      "DEBUG:weightwatcher:Layer 30 None is skipped\n",
      "INFO:weightwatcher:skipping layer 31 None by id\n",
      "DEBUG:weightwatcher:layer_supported  N 4096 max evals None\n",
      "DEBUG:weightwatcher:Layer 31 None is skipped\n",
      "INFO:weightwatcher:params {'glorot_fix': False, 'normalize': False, 'conv2d_norm': True, 'randomize': False, 'savefig': 'ww-img', 'rescale': True, 'deltaEs': False, 'intra': False, 'channels': None, 'conv2d_fft': False, 'ww2x': False, 'min_evals': 0, 'max_evals': None, 'plot': False, 'mp_fit': False, 'layers': [], 'num_smooth': -18}\n",
      "INFO:weightwatcher:Saving all images to ww-img\n",
      "INFO:weightwatcher:params {'glorot_fix': False, 'normalize': False, 'conv2d_norm': True, 'randomize': False, 'savefig': 'ww-img', 'rescale': True, 'deltaEs': False, 'intra': False, 'channels': None, 'conv2d_fft': False, 'ww2x': False, 'min_evals': 0, 'max_evals': None, 'plot': False, 'mp_fit': False, 'layers': [], 'num_smooth': -18}\n",
      "INFO:weightwatcher:Saving all images to ww-img\n",
      "DEBUG:weightwatcher:FRAMEWORKS: KERAS = 4  PYTORCH = 2 ONNX = 8 UNKNOWN = 1 \n",
      "DEBUG:weightwatcher:FIRST = 2  LAST = 4 UNKNOWN = 1 \n",
      "DEBUG:weightwatcher:MODEL ITERATOR, framework = 2, channels = 4 \n",
      "DEBUG:weightwatcher:layer_supported  N 0 max evals None\n",
      "DEBUG:weightwatcher:layer not supported: Layer 0 None has no weights\n",
      "DEBUG:weightwatcher:layer_supported  N 0 max evals None\n",
      "DEBUG:weightwatcher:layer not supported: Layer 1 None has no weights\n",
      "DEBUG:weightwatcher:conv2D_Wmats\n",
      "DEBUG:weightwatcher:Channels Last tensor shape: 64x3 (NxM), 3x3 (i,j)\n",
      "DEBUG:weightwatcher:get_conv2D_Wmats N=64 M=3 rf= 9 channels = 4\n",
      "DEBUG:weightwatcher:layer_supported  N 64 max evals None\n",
      "DEBUG:weightwatcher:LAYER TYPE: 2 16  layer type <class 'torch.nn.modules.conv.Conv2d'>\n",
      "DEBUG:weightwatcher:weights shape : (64, 3, 3, 3)  max size None\n",
      "DEBUG:weightwatcher:layer_supported  N 0 max evals None\n",
      "DEBUG:weightwatcher:layer not supported: Layer 3 None has no weights\n",
      "DEBUG:weightwatcher:layer_supported  N 0 max evals None\n",
      "DEBUG:weightwatcher:layer not supported: Layer 4 None has no weights\n",
      "DEBUG:weightwatcher:conv2D_Wmats\n",
      "DEBUG:weightwatcher:Channels Last tensor shape: 128x64 (NxM), 3x3 (i,j)\n",
      "DEBUG:weightwatcher:get_conv2D_Wmats N=128 M=64 rf= 9 channels = 4\n",
      "DEBUG:weightwatcher:layer_supported  N 128 max evals None\n",
      "DEBUG:weightwatcher:LAYER TYPE: 5 16  layer type <class 'torch.nn.modules.conv.Conv2d'>\n",
      "DEBUG:weightwatcher:weights shape : (128, 64, 3, 3)  max size None\n",
      "DEBUG:weightwatcher:layer_supported  N 0 max evals None\n",
      "DEBUG:weightwatcher:layer not supported: Layer 6 None has no weights\n",
      "DEBUG:weightwatcher:layer_supported  N 0 max evals None\n",
      "DEBUG:weightwatcher:layer not supported: Layer 7 None has no weights\n",
      "DEBUG:weightwatcher:conv2D_Wmats\n",
      "DEBUG:weightwatcher:Channels Last tensor shape: 256x128 (NxM), 3x3 (i,j)\n",
      "DEBUG:weightwatcher:get_conv2D_Wmats N=256 M=128 rf= 9 channels = 4\n",
      "DEBUG:weightwatcher:layer_supported  N 256 max evals None\n",
      "DEBUG:weightwatcher:LAYER TYPE: 8 16  layer type <class 'torch.nn.modules.conv.Conv2d'>\n",
      "DEBUG:weightwatcher:weights shape : (256, 128, 3, 3)  max size None\n",
      "DEBUG:weightwatcher:layer_supported  N 0 max evals None\n",
      "DEBUG:weightwatcher:layer not supported: Layer 9 None has no weights\n",
      "DEBUG:weightwatcher:conv2D_Wmats\n",
      "DEBUG:weightwatcher:Channels Last tensor shape: 256x256 (NxM), 3x3 (i,j)\n",
      "DEBUG:weightwatcher:get_conv2D_Wmats N=256 M=256 rf= 9 channels = 4\n",
      "DEBUG:weightwatcher:layer_supported  N 256 max evals None\n",
      "DEBUG:weightwatcher:LAYER TYPE: 10 16  layer type <class 'torch.nn.modules.conv.Conv2d'>\n",
      "DEBUG:weightwatcher:weights shape : (256, 256, 3, 3)  max size None\n",
      "DEBUG:weightwatcher:layer_supported  N 0 max evals None\n",
      "DEBUG:weightwatcher:layer not supported: Layer 11 None has no weights\n",
      "DEBUG:weightwatcher:layer_supported  N 0 max evals None\n",
      "DEBUG:weightwatcher:layer not supported: Layer 12 None has no weights\n",
      "DEBUG:weightwatcher:conv2D_Wmats\n",
      "DEBUG:weightwatcher:Channels Last tensor shape: 512x256 (NxM), 3x3 (i,j)\n",
      "DEBUG:weightwatcher:get_conv2D_Wmats N=512 M=256 rf= 9 channels = 4\n",
      "DEBUG:weightwatcher:layer_supported  N 512 max evals None\n",
      "DEBUG:weightwatcher:LAYER TYPE: 13 16  layer type <class 'torch.nn.modules.conv.Conv2d'>\n"
     ]
    },
    {
     "name": "stderr",
     "output_type": "stream",
     "text": [
      "DEBUG:weightwatcher:weights shape : (512, 256, 3, 3)  max size None\n",
      "DEBUG:weightwatcher:layer_supported  N 0 max evals None\n",
      "DEBUG:weightwatcher:layer not supported: Layer 14 None has no weights\n",
      "DEBUG:weightwatcher:conv2D_Wmats\n",
      "DEBUG:weightwatcher:Channels Last tensor shape: 512x512 (NxM), 3x3 (i,j)\n",
      "DEBUG:weightwatcher:get_conv2D_Wmats N=512 M=512 rf= 9 channels = 4\n",
      "DEBUG:weightwatcher:layer_supported  N 512 max evals None\n",
      "DEBUG:weightwatcher:LAYER TYPE: 15 16  layer type <class 'torch.nn.modules.conv.Conv2d'>\n",
      "DEBUG:weightwatcher:weights shape : (512, 512, 3, 3)  max size None\n",
      "DEBUG:weightwatcher:layer_supported  N 0 max evals None\n",
      "DEBUG:weightwatcher:layer not supported: Layer 16 None has no weights\n",
      "DEBUG:weightwatcher:layer_supported  N 0 max evals None\n",
      "DEBUG:weightwatcher:layer not supported: Layer 17 None has no weights\n",
      "DEBUG:weightwatcher:conv2D_Wmats\n",
      "DEBUG:weightwatcher:Channels Last tensor shape: 512x512 (NxM), 3x3 (i,j)\n",
      "DEBUG:weightwatcher:get_conv2D_Wmats N=512 M=512 rf= 9 channels = 4\n",
      "DEBUG:weightwatcher:layer_supported  N 512 max evals None\n",
      "DEBUG:weightwatcher:LAYER TYPE: 18 16  layer type <class 'torch.nn.modules.conv.Conv2d'>\n",
      "DEBUG:weightwatcher:weights shape : (512, 512, 3, 3)  max size None\n",
      "DEBUG:weightwatcher:layer_supported  N 0 max evals None\n",
      "DEBUG:weightwatcher:layer not supported: Layer 19 None has no weights\n",
      "DEBUG:weightwatcher:conv2D_Wmats\n",
      "DEBUG:weightwatcher:Channels Last tensor shape: 512x512 (NxM), 3x3 (i,j)\n",
      "DEBUG:weightwatcher:get_conv2D_Wmats N=512 M=512 rf= 9 channels = 4\n",
      "DEBUG:weightwatcher:layer_supported  N 512 max evals None\n",
      "DEBUG:weightwatcher:LAYER TYPE: 20 16  layer type <class 'torch.nn.modules.conv.Conv2d'>\n",
      "DEBUG:weightwatcher:weights shape : (512, 512, 3, 3)  max size None\n",
      "DEBUG:weightwatcher:layer_supported  N 0 max evals None\n",
      "DEBUG:weightwatcher:layer not supported: Layer 21 None has no weights\n",
      "DEBUG:weightwatcher:layer_supported  N 0 max evals None\n",
      "DEBUG:weightwatcher:layer not supported: Layer 22 None has no weights\n",
      "DEBUG:weightwatcher:layer_supported  N 0 max evals None\n",
      "DEBUG:weightwatcher:layer not supported: Layer 23 None has no weights\n",
      "DEBUG:weightwatcher:layer_supported  N 0 max evals None\n",
      "DEBUG:weightwatcher:layer not supported: Layer 24 None has no weights\n",
      "DEBUG:weightwatcher:layer_supported  N 25088 max evals None\n",
      "DEBUG:weightwatcher:LAYER TYPE: 25 4  layer type <class 'torch.nn.modules.linear.Linear'>\n",
      "DEBUG:weightwatcher:weights shape : (4096, 25088)  max size None\n",
      "DEBUG:weightwatcher:layer_supported  N 0 max evals None\n",
      "DEBUG:weightwatcher:layer not supported: Layer 26 None has no weights\n",
      "DEBUG:weightwatcher:layer_supported  N 0 max evals None\n",
      "DEBUG:weightwatcher:layer not supported: Layer 27 None has no weights\n",
      "DEBUG:weightwatcher:layer_supported  N 4096 max evals None\n",
      "DEBUG:weightwatcher:LAYER TYPE: 28 4  layer type <class 'torch.nn.modules.linear.Linear'>\n",
      "DEBUG:weightwatcher:weights shape : (4096, 4096)  max size None\n",
      "DEBUG:weightwatcher:layer_supported  N 0 max evals None\n",
      "DEBUG:weightwatcher:layer not supported: Layer 29 None has no weights\n",
      "DEBUG:weightwatcher:layer_supported  N 0 max evals None\n",
      "DEBUG:weightwatcher:layer not supported: Layer 30 None has no weights\n",
      "DEBUG:weightwatcher:layer_supported  N 4096 max evals None\n",
      "DEBUG:weightwatcher:LAYER TYPE: 31 4  layer type <class 'torch.nn.modules.linear.Linear'>\n",
      "DEBUG:weightwatcher:weights shape : (1000, 4096)  max size None\n",
      "DEBUG:weightwatcher:FRAMEWORKS: KERAS = 4  PYTORCH = 2 ONNX = 8 UNKNOWN = 1 \n",
      "DEBUG:weightwatcher:FIRST = 2  LAST = 4 UNKNOWN = 1 \n",
      "DEBUG:weightwatcher:MODEL ITERATOR, framework = 2, channels = 4 \n",
      "INFO:weightwatcher:Filtering layer by id 8\n",
      "INFO:weightwatcher:skipping layer 0 None by id\n",
      "DEBUG:weightwatcher:layer_supported  N 0 max evals None\n",
      "DEBUG:weightwatcher:Layer 0 None is skipped\n",
      "INFO:weightwatcher:skipping layer 1 None by id\n",
      "DEBUG:weightwatcher:layer_supported  N 0 max evals None\n",
      "DEBUG:weightwatcher:Layer 1 None is skipped\n",
      "DEBUG:weightwatcher:conv2D_Wmats\n",
      "DEBUG:weightwatcher:Channels Last tensor shape: 64x3 (NxM), 3x3 (i,j)\n",
      "DEBUG:weightwatcher:get_conv2D_Wmats N=64 M=3 rf= 9 channels = 4\n",
      "INFO:weightwatcher:skipping layer 2 None by id\n",
      "DEBUG:weightwatcher:layer_supported  N 64 max evals None\n",
      "DEBUG:weightwatcher:Layer 2 None is skipped\n",
      "INFO:weightwatcher:skipping layer 3 None by id\n",
      "DEBUG:weightwatcher:layer_supported  N 0 max evals None\n",
      "DEBUG:weightwatcher:Layer 3 None is skipped\n",
      "INFO:weightwatcher:skipping layer 4 None by id\n",
      "DEBUG:weightwatcher:layer_supported  N 0 max evals None\n",
      "DEBUG:weightwatcher:Layer 4 None is skipped\n",
      "DEBUG:weightwatcher:conv2D_Wmats\n",
      "DEBUG:weightwatcher:Channels Last tensor shape: 128x64 (NxM), 3x3 (i,j)\n",
      "DEBUG:weightwatcher:get_conv2D_Wmats N=128 M=64 rf= 9 channels = 4\n",
      "INFO:weightwatcher:skipping layer 5 None by id\n",
      "DEBUG:weightwatcher:layer_supported  N 128 max evals None\n",
      "DEBUG:weightwatcher:Layer 5 None is skipped\n",
      "INFO:weightwatcher:skipping layer 6 None by id\n",
      "DEBUG:weightwatcher:layer_supported  N 0 max evals None\n",
      "DEBUG:weightwatcher:Layer 6 None is skipped\n",
      "INFO:weightwatcher:skipping layer 7 None by id\n",
      "DEBUG:weightwatcher:layer_supported  N 0 max evals None\n",
      "DEBUG:weightwatcher:Layer 7 None is skipped\n",
      "DEBUG:weightwatcher:conv2D_Wmats\n",
      "DEBUG:weightwatcher:Channels Last tensor shape: 256x128 (NxM), 3x3 (i,j)\n",
      "DEBUG:weightwatcher:get_conv2D_Wmats N=256 M=128 rf= 9 channels = 4\n",
      "INFO:weightwatcher:keeping layer 8 None by id\n",
      "DEBUG:weightwatcher:layer_supported  N 256 max evals None\n",
      "INFO:weightwatcher:Getting ESD for layer 8 \n",
      "DEBUG:weightwatcher:apply ESD  on Layer 8 None \n",
      "DEBUG:weightwatcher:running SVD on Layer 8 None \n",
      "DEBUG:weightwatcher:params {'glorot_fix': False, 'normalize': False, 'conv2d_norm': True, 'randomize': False, 'savefig': 'ww-img', 'rescale': True, 'deltaEs': False, 'intra': False, 'channels': None, 'conv2d_fft': False, 'ww2x': False, 'min_evals': 0, 'max_evals': None, 'plot': False, 'mp_fit': False, 'layers': [], 'num_smooth': -18} \n",
      "DEBUG:weightwatcher:Running full SVD:  W.shape=(256, 128)  n_comp = 128\n",
      "DEBUG:weightwatcher:Running full SVD:  W.shape=(256, 128)  n_comp = 128\n",
      "DEBUG:weightwatcher:Running full SVD:  W.shape=(256, 128)  n_comp = 128\n",
      "DEBUG:weightwatcher:Running full SVD:  W.shape=(256, 128)  n_comp = 128\n",
      "DEBUG:weightwatcher:Running full SVD:  W.shape=(256, 128)  n_comp = 128\n",
      "DEBUG:weightwatcher:Running full SVD:  W.shape=(256, 128)  n_comp = 128\n",
      "DEBUG:weightwatcher:Running full SVD:  W.shape=(256, 128)  n_comp = 128\n",
      "DEBUG:weightwatcher:Running full SVD:  W.shape=(256, 128)  n_comp = 128\n",
      "DEBUG:weightwatcher:Running full SVD:  W.shape=(256, 128)  n_comp = 128\n",
      "INFO:weightwatcher:Found 1152 eiganvalues for 8 None\n"
     ]
    },
    {
     "data": {
      "text/plain": [
       "<Figure size 432x288 with 0 Axes>"
      ]
     },
     "metadata": {},
     "output_type": "display_data"
    }
   ],
   "source": [
    "watcher_sm = ww.WeightWatcher(model=sharper_vgg11)\n",
    "analyzed_sm = watcher_sm.analyze(plot=True, layers=[8], randomize=True)\n",
    "esd_sm = watcher_sm.get_ESD(model=sharper_vgg11, layer=8)"
   ]
  },
  {
   "cell_type": "code",
   "execution_count": 9,
   "metadata": {},
   "outputs": [
    {
     "data": {
      "image/png": "[encoded data removed]",
      "text/plain": [
       "<Figure size 432x288 with 1 Axes>"
      ]
     },
     "metadata": {
      "needs_background": "light"
     },
     "output_type": "display_data"
    }
   ],
   "source": [
    "plt.hist(np.log10(esd),bins=100);\n"
   ]
  },
  {
   "cell_type": "code",
   "execution_count": 10,
   "metadata": {},
   "outputs": [
    {
     "data": {
      "image/png": "[encoded data removed]",
      "text/plain": [
       "<Figure size 432x288 with 1 Axes>"
      ]
     },
     "metadata": {
      "needs_background": "light"
     },
     "output_type": "display_data"
    }
   ],
   "source": [
    "plt.hist(np.log10(esd_sm[esd_sm>0.00001]),bins=100, alpha=0.4);"
   ]
  },
  {
   "cell_type": "code",
   "execution_count": 11,
   "metadata": {},
   "outputs": [
    {
     "data": {
      "text/plain": [
       "Text(0.5, 0, 'Layer 8 Eigenvalue,  $\\\\lambda>0.0$')"
      ]
     },
     "execution_count": 11,
     "metadata": {},
     "output_type": "execute_result"
    },
    {
     "data": {
      "image/png": "[encoded data removed]",
      "text/plain": [
       "<Figure size 432x288 with 1 Axes>"
      ]
     },
     "metadata": {
      "needs_background": "light"
     },
     "output_type": "display_data"
    }
   ],
   "source": [
    "plt.hist(np.log10(esd),bins=100, label='vgg11 layer 8');\n",
    "plt.hist(np.log10(esd_sm[esd_sm>0.00001]),bins=100, alpha=0.7, label='sharpened');\n",
    "plt.title(\"VGG11 Layer 8, top eigenvalues (ESD)\")\n",
    "plt.xlim([0,1])\n",
    "plt.legend()\n",
    "plt.xlabel(r\"Layer 8 Eigenvalue,  $\\lambda>0.0$\")"
   ]
  },
  {
   "cell_type": "code",
   "execution_count": null,
   "metadata": {},
   "outputs": [],
   "source": []
  }
 ],
 "metadata": {
  "kernelspec": {
   "display_name": "Python 3 (ipykernel)",
   "language": "python",
   "name": "python3"
  },
  "language_info": {
   "codemirror_mode": {
    "name": "ipython",
    "version": 3
   },
   "file_extension": ".py",
   "mimetype": "text/x-python",
   "name": "python",
   "nbconvert_exporter": "python",
   "pygments_lexer": "ipython3",
   "version": "3.9.5"
  }
 },
 "nbformat": 4,
 "nbformat_minor": 4
}
