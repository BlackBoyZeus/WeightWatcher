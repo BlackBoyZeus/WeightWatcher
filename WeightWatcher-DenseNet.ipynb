{
 "cells": [
  {
   "cell_type": "markdown",
   "metadata": {},
   "source": [
    "# WeightWatcher\n",
    "\n",
    "https://calculationconsulting.com"
   ]
  },
  {
   "cell_type": "code",
   "execution_count": 10,
   "metadata": {
    "ExecuteTime": {
     "end_time": "2019-03-05T23:51:16.544327Z",
     "start_time": "2019-03-05T23:51:16.531457Z"
    },
    "scrolled": true
   },
   "outputs": [],
   "source": [
    "# Suppress the powerlaw package warnings\n",
    "# \"powerlaw.py:700: RuntimeWarning: divide by zero encountered in true_divide\"\n",
    "# \"powerlaw.py:700: RuntimeWarning: invalid value encountered in true_divide\"\n",
    "import warnings\n",
    "warnings.simplefilter(action='ignore', category=RuntimeWarning)"
   ]
  },
  {
   "cell_type": "code",
   "execution_count": 11,
   "metadata": {},
   "outputs": [],
   "source": [
    "import numpy as np\n",
    "import pandas as pd\n",
    "\n",
    "import matplotlib\n",
    "import matplotlib.pyplot as plt\n",
    "%matplotlib inline"
   ]
  },
  {
   "cell_type": "markdown",
   "metadata": {
    "ExecuteTime": {
     "end_time": "2018-10-01T22:51:12.554859Z",
     "start_time": "2018-10-01T22:51:12.518859Z"
    }
   },
   "source": [
    "### Import WeightWatcher\n",
    "\n",
    "set custom Logging at WARN Level"
   ]
  },
  {
   "cell_type": "code",
   "execution_count": 12,
   "metadata": {
    "ExecuteTime": {
     "end_time": "2019-03-06T00:16:41.769719Z",
     "start_time": "2019-03-06T00:16:38.803181Z"
    }
   },
   "outputs": [
    {
     "data": {
      "text/plain": [
       "'0.2.1'"
      ]
     },
     "execution_count": 12,
     "metadata": {},
     "output_type": "execute_result"
    }
   ],
   "source": [
    "import logging\n",
    "logging.basicConfig(level=logging.INFO)\n",
    "logger = logging.getLogger(__name__)\n",
    "logger.setLevel(logging.WARN)\n",
    "\n",
    "import weightwatcher as ww\n",
    "import torchvision.models as models\n",
    "\n",
    "ww.__version__\n"
   ]
  },
  {
   "cell_type": "markdown",
   "metadata": {},
   "source": [
    "### Create all models now"
   ]
  },
  {
   "cell_type": "code",
   "execution_count": 13,
   "metadata": {
    "ExecuteTime": {
     "end_time": "2019-03-06T00:16:43.249725Z",
     "start_time": "2019-03-06T00:16:43.240611Z"
    }
   },
   "outputs": [
    {
     "name": "stderr",
     "output_type": "stream",
     "text": [
      "/Users/charleshmartin/anaconda3/lib/python3.7/site-packages/torchvision/models/densenet.py:212: UserWarning: nn.init.kaiming_normal is now deprecated in favor of nn.init.kaiming_normal_.\n",
      "  nn.init.kaiming_normal(m.weight.data)\n"
     ]
    }
   ],
   "source": [
    "\n",
    "all_names = [ 'densenet121', 'densenet169', 'densenet201', 'densenet161']\n",
    "\n",
    "all_models = []\n",
    "all_models.append(models.densenet121(pretrained=True))\n",
    "all_models.append(models.densenet161(pretrained=True))\n",
    "all_models.append(models.densenet169(pretrained=True))\n",
    "all_models.append(models.densenet201(pretrained=True))\n",
    "\n",
    "\n"
   ]
  },
  {
   "cell_type": "markdown",
   "metadata": {},
   "source": [
    "### Get reported accuracies from pytorch website\n",
    "\n",
    "https://pytorch.org/docs/stable/torchvision/models.html\n",
    "\n",
    "\n",
    "<pre>\n",
    "<table class=\"docutils align-default\">\n",
    "<colgroup>\n",
    "<col style=\"width: 55%\" />\n",
    "<col style=\"width: 22%\" />\n",
    "<col style=\"width: 22%\" />\n",
    "</colgroup>\n",
    "<thead>\n",
    "<thead>\n",
    "<tr class=\"row-odd\"><th class=\"head\"><p>Network</p></th>\n",
    "<th class=\"head\"><p>Top-1 error</p></th>\n",
    "<th class=\"head\"><p>Top-5 error</p></th>\n",
    "</tr>\n",
    "</thead>\n",
    "<tbody>\n",
    "\n",
    "<tr class=\"row-even\"><td><p>Densenet-121</p></td>\n",
    "<td><p>25.35</p></td>\n",
    "<td><p>7.83</p></td>\n",
    "</tr>\n",
    "<tr class=\"row-odd\"><td><p>Densenet-169</p></td>\n",
    "<td><p>24.00</p></td>\n",
    "<td><p>7.00</p></td>\n",
    "</tr>\n",
    "<tr class=\"row-even\"><td><p>Densenet-201</p></td>\n",
    "<td><p>22.80</p></td>\n",
    "<td><p>6.43</p></td>\n",
    "</tr>\n",
    "<tr class=\"row-odd\"><td><p>Densenet-161</p></td>\n",
    "<td><p>22.35</p></td>\n",
    "<td><p>6.20</p></td>\n",
    "</tr>\n",
    "\n",
    "</tbody>\n",
    "</table>\n",
    "</pre>"
   ]
  },
  {
   "cell_type": "code",
   "execution_count": 21,
   "metadata": {},
   "outputs": [],
   "source": [
    "top1_errors= {\n",
    "    \n",
    "    \"densenet121\": 25.35,\n",
    "    \"densenet169\": 24.00,\n",
    "    \"densenet201\": 22.80,\n",
    "    \"densenet161\": 22.35 \n",
    "\n",
    "}"
   ]
  },
  {
   "cell_type": "code",
   "execution_count": 22,
   "metadata": {},
   "outputs": [],
   "source": [
    "top5_errors= {\n",
    "    \n",
    "    \"densenet121\": 7.83,\n",
    "    \"densenet169\": 7.00,\n",
    "    \"densenet201\": 6.43,\n",
    "    \"densenet161\": 6.20 \n",
    "\n",
    "}"
   ]
  },
  {
   "cell_type": "markdown",
   "metadata": {},
   "source": [
    "### Run WeightWatcher, collect all details (as dataframes)"
   ]
  },
  {
   "cell_type": "code",
   "execution_count": 30,
   "metadata": {},
   "outputs": [
    {
     "name": "stderr",
     "output_type": "stream",
     "text": [
      "2019-12-25 15:50:52,469 INFO \n",
      "\n",
      "python      version 3.7.3 (default, Mar 27 2019, 16:54:48) \n",
      "[Clang 4.0.1 (tags/RELEASE_401/final)]\n",
      "numpy       version 1.16.4\n",
      "tensforflow version 1.13.1\n",
      "keras       version 2.2.4\n",
      "INFO:weightwatcher.weightwatcher:\n",
      "\n",
      "python      version 3.7.3 (default, Mar 27 2019, 16:54:48) \n",
      "[Clang 4.0.1 (tags/RELEASE_401/final)]\n",
      "numpy       version 1.16.4\n",
      "tensforflow version 1.13.1\n",
      "keras       version 2.2.4\n",
      "2019-12-25 15:50:52,473 INFO Analyzing model\n",
      "INFO:weightwatcher.weightwatcher:Analyzing model\n",
      "2019-12-25 15:51:12,885 INFO ### Printing results ###\n",
      "INFO:weightwatcher.weightwatcher:### Printing results ###\n",
      "2019-12-25 15:51:24,802 INFO Norm: min: 2.995245933532715, max: 49.79620361328125, avg: 7.182215213775635\n",
      "INFO:weightwatcher.weightwatcher:Norm: min: 2.995245933532715, max: 49.79620361328125, avg: 7.182215213775635\n",
      "2019-12-25 15:51:24,803 INFO Norm compound: min: 2.995245933532715, max: 49.79620361328125, avg: 7.182215213775635\n",
      "INFO:weightwatcher.weightwatcher:Norm compound: min: 2.995245933532715, max: 49.79620361328125, avg: 7.182215213775635\n",
      "2019-12-25 15:51:24,805 INFO LogNorm: min: 0.4764324724674225, max: 1.6971962451934814, avg: 0.8065106868743896\n",
      "INFO:weightwatcher.weightwatcher:LogNorm: min: 0.4764324724674225, max: 1.6971962451934814, avg: 0.8065106868743896\n",
      "2019-12-25 15:51:24,806 INFO LogNorm compound: min: 0.4764324724674225, max: 1.6971962451934814, avg: 0.8065106868743896\n",
      "INFO:weightwatcher.weightwatcher:LogNorm compound: min: 0.4764324724674225, max: 1.6971962451934814, avg: 0.8065106868743896\n",
      "2019-12-25 15:51:24,807 INFO Alpha: min: 1.3668461516798855, max: 8.111979119497729, avg: 4.275518340613471\n",
      "INFO:weightwatcher.weightwatcher:Alpha: min: 1.3668461516798855, max: 8.111979119497729, avg: 4.275518340613471\n",
      "2019-12-25 15:51:24,809 INFO Alpha compound: min: 1.3668461516798855, max: 8.111979119497729, avg: 4.275518340613471\n",
      "INFO:weightwatcher.weightwatcher:Alpha compound: min: 1.3668461516798855, max: 8.111979119497729, avg: 4.275518340613471\n",
      "2019-12-25 15:51:24,810 INFO Alpha Weighted: min: 0.008693975557159686, max: 5.94823029961731, avg: 1.2487075047250407\n",
      "INFO:weightwatcher.weightwatcher:Alpha Weighted: min: 0.008693975557159686, max: 5.94823029961731, avg: 1.2487075047250407\n",
      "2019-12-25 15:51:24,811 INFO Alpha Weighted compound: min: 0.008693975557159686, max: 5.94823029961731, avg: 1.2487075047250407\n",
      "INFO:weightwatcher.weightwatcher:Alpha Weighted compound: min: 0.008693975557159686, max: 5.94823029961731, avg: 1.2487075047250407\n",
      "2019-12-25 15:51:24,813 INFO Spectral Norm: min: 0.03809740021824837, max: 61.71644973754883, avg: 0.7861841917037964\n",
      "INFO:weightwatcher.weightwatcher:Spectral Norm: min: 0.03809740021824837, max: 61.71644973754883, avg: 0.7861841917037964\n",
      "2019-12-25 15:51:24,814 INFO Spectral Norm compound: min: 0.06839726120233536, max: 61.71644973754883, avg: 1.6990129947662354\n",
      "INFO:weightwatcher.weightwatcher:Spectral Norm compound: min: 0.06839726120233536, max: 61.71644973754883, avg: 1.6990129947662354\n",
      "2019-12-25 15:51:24,816 INFO Softrank: min: 8.599090665132225, max: 54.81072540648038, avg: 22.60894828512914\n",
      "INFO:weightwatcher.weightwatcher:Softrank: min: 8.599090665132225, max: 54.81072540648038, avg: 22.60894828512914\n",
      "2019-12-25 15:51:24,817 INFO Softrank compound: min: 8.599090665132225, max: 54.81072540648038, avg: 22.60894828512914\n",
      "INFO:weightwatcher.weightwatcher:Softrank compound: min: 8.599090665132225, max: 54.81072540648038, avg: 22.60894828512914\n",
      "2019-12-25 15:51:24,819 INFO Softrank Log: min: 0.9344525279882825, max: 1.7388655498909709, avg: 1.332785146452984\n",
      "INFO:weightwatcher.weightwatcher:Softrank Log: min: 0.9344525279882825, max: 1.7388655498909709, avg: 1.332785146452984\n",
      "2019-12-25 15:51:24,820 INFO Softrank Log compound: min: 0.9344525279882825, max: 1.7388655498909709, avg: 1.332785146452984\n",
      "INFO:weightwatcher.weightwatcher:Softrank Log compound: min: 0.9344525279882825, max: 1.7388655498909709, avg: 1.332785146452984\n",
      "2019-12-25 15:51:24,821 INFO Softrank Log Ratio: min: 1.8958839526433633, max: 274.98953147143334, avg: 15.661335279767805\n",
      "INFO:weightwatcher.weightwatcher:Softrank Log Ratio: min: 1.8958839526433633, max: 274.98953147143334, avg: 15.661335279767805\n",
      "2019-12-25 15:51:24,822 INFO Softrank Log Ratio compound: min: 1.8958839526433633, max: 274.98953147143334, avg: 15.661335279767805\n",
      "INFO:weightwatcher.weightwatcher:Softrank Log Ratio compound: min: 1.8958839526433633, max: 274.98953147143334, avg: 15.661335279767805\n",
      "2019-12-25 15:51:24,823 INFO Marchenko-Pastur (MP) fit sigma: min: 0.3, max: 1.019921875, avg: 0.5184045803931452\n",
      "INFO:weightwatcher.weightwatcher:Marchenko-Pastur (MP) fit sigma: min: 0.3, max: 1.019921875, avg: 0.5184045803931452\n",
      "2019-12-25 15:51:24,824 INFO Marchenko-Pastur (MP) fit sigma compound: min: 0.3, max: 1.019921875, avg: 0.5184045803931452\n",
      "INFO:weightwatcher.weightwatcher:Marchenko-Pastur (MP) fit sigma compound: min: 0.3, max: 1.019921875, avg: 0.5184045803931452\n",
      "2019-12-25 15:51:24,825 INFO Number of spikes per MP fit: min: 0, max: 473, avg: 28.35483870967742\n",
      "INFO:weightwatcher.weightwatcher:Number of spikes per MP fit: min: 0, max: 473, avg: 28.35483870967742\n",
      "2019-12-25 15:51:24,826 INFO Number of spikes per MP fit compound: min: 0.0, max: 473.0, avg: 28.35483870967742\n",
      "INFO:weightwatcher.weightwatcher:Number of spikes per MP fit compound: min: 0.0, max: 473.0, avg: 28.35483870967742\n",
      "2019-12-25 15:51:24,827 INFO aka, percent_mass, Number of spikes / total number of evals: min: 0.0, max: 0.47347347347347346, avg: 0.1628234197980573\n",
      "INFO:weightwatcher.weightwatcher:aka, percent_mass, Number of spikes / total number of evals: min: 0.0, max: 0.47347347347347346, avg: 0.1628234197980573\n",
      "2019-12-25 15:51:24,828 INFO aka, percent_mass, Number of spikes / total number of evals compound: min: 0.0, max: 0.47347347347347346, avg: 0.1628234197980573\n",
      "INFO:weightwatcher.weightwatcher:aka, percent_mass, Number of spikes / total number of evals compound: min: 0.0, max: 0.47347347347347346, avg: 0.1628234197980573\n",
      "2019-12-25 15:51:24,829 INFO Softrank for MP fit: min: 0.005764570594351367, max: 3.988243404227702, avg: 0.4141676323769418\n",
      "INFO:weightwatcher.weightwatcher:Softrank for MP fit: min: 0.005764570594351367, max: 3.988243404227702, avg: 0.4141676323769418\n",
      "2019-12-25 15:51:24,830 INFO Softrank for MP fit compound: min: 0.005764570594351367, max: 3.988243404227702, avg: 0.4141676323769418\n",
      "INFO:weightwatcher.weightwatcher:Softrank for MP fit compound: min: 0.005764570594351367, max: 3.988243404227702, avg: 0.4141676323769418\n",
      "2019-12-25 15:51:24,856 INFO ### Printing results ###\n",
      "INFO:weightwatcher.weightwatcher:### Printing results ###\n",
      "2019-12-25 15:51:36,742 INFO Norm: min: 2.995245933532715, max: 49.79620361328125, avg: 7.182215213775635\n",
      "INFO:weightwatcher.weightwatcher:Norm: min: 2.995245933532715, max: 49.79620361328125, avg: 7.182215213775635\n",
      "2019-12-25 15:51:36,743 INFO Norm compound: min: 2.995245933532715, max: 49.79620361328125, avg: 7.182215213775635\n",
      "INFO:weightwatcher.weightwatcher:Norm compound: min: 2.995245933532715, max: 49.79620361328125, avg: 7.182215213775635\n",
      "2019-12-25 15:51:36,744 INFO LogNorm: min: 0.4764324724674225, max: 1.6971962451934814, avg: 0.8065106868743896\n",
      "INFO:weightwatcher.weightwatcher:LogNorm: min: 0.4764324724674225, max: 1.6971962451934814, avg: 0.8065106868743896\n",
      "2019-12-25 15:51:36,745 INFO LogNorm compound: min: 0.4764324724674225, max: 1.6971962451934814, avg: 0.8065106868743896\n",
      "INFO:weightwatcher.weightwatcher:LogNorm compound: min: 0.4764324724674225, max: 1.6971962451934814, avg: 0.8065106868743896\n",
      "2019-12-25 15:51:36,746 INFO Alpha: min: 1.3668461516798855, max: 8.111979119497729, avg: 4.275518340613471\n",
      "INFO:weightwatcher.weightwatcher:Alpha: min: 1.3668461516798855, max: 8.111979119497729, avg: 4.275518340613471\n",
      "2019-12-25 15:51:36,747 INFO Alpha compound: min: 1.3668461516798855, max: 8.111979119497729, avg: 4.275518340613471\n",
      "INFO:weightwatcher.weightwatcher:Alpha compound: min: 1.3668461516798855, max: 8.111979119497729, avg: 4.275518340613471\n",
      "2019-12-25 15:51:36,748 INFO Alpha Weighted: min: 0.008693975557159686, max: 5.94823029961731, avg: 1.2487075047250407\n",
      "INFO:weightwatcher.weightwatcher:Alpha Weighted: min: 0.008693975557159686, max: 5.94823029961731, avg: 1.2487075047250407\n"
     ]
    },
    {
     "name": "stderr",
     "output_type": "stream",
     "text": [
      "2019-12-25 15:51:36,749 INFO Alpha Weighted compound: min: 0.008693975557159686, max: 5.94823029961731, avg: 1.2487075047250407\n",
      "INFO:weightwatcher.weightwatcher:Alpha Weighted compound: min: 0.008693975557159686, max: 5.94823029961731, avg: 1.2487075047250407\n",
      "2019-12-25 15:51:36,750 INFO Spectral Norm: min: 0.03809740021824837, max: 61.71644973754883, avg: 0.7861841917037964\n",
      "INFO:weightwatcher.weightwatcher:Spectral Norm: min: 0.03809740021824837, max: 61.71644973754883, avg: 0.7861841917037964\n",
      "2019-12-25 15:51:36,751 INFO Spectral Norm compound: min: 0.06839726120233536, max: 61.71644973754883, avg: 1.6990129947662354\n",
      "INFO:weightwatcher.weightwatcher:Spectral Norm compound: min: 0.06839726120233536, max: 61.71644973754883, avg: 1.6990129947662354\n",
      "2019-12-25 15:51:36,752 INFO Softrank: min: 8.599090665132225, max: 54.81072540648038, avg: 22.60894828512914\n",
      "INFO:weightwatcher.weightwatcher:Softrank: min: 8.599090665132225, max: 54.81072540648038, avg: 22.60894828512914\n",
      "2019-12-25 15:51:36,753 INFO Softrank compound: min: 8.599090665132225, max: 54.81072540648038, avg: 22.60894828512914\n",
      "INFO:weightwatcher.weightwatcher:Softrank compound: min: 8.599090665132225, max: 54.81072540648038, avg: 22.60894828512914\n",
      "2019-12-25 15:51:36,754 INFO Softrank Log: min: 0.9344525279882825, max: 1.7388655498909709, avg: 1.332785146452984\n",
      "INFO:weightwatcher.weightwatcher:Softrank Log: min: 0.9344525279882825, max: 1.7388655498909709, avg: 1.332785146452984\n",
      "2019-12-25 15:51:36,756 INFO Softrank Log compound: min: 0.9344525279882825, max: 1.7388655498909709, avg: 1.332785146452984\n",
      "INFO:weightwatcher.weightwatcher:Softrank Log compound: min: 0.9344525279882825, max: 1.7388655498909709, avg: 1.332785146452984\n",
      "2019-12-25 15:51:36,757 INFO Softrank Log Ratio: min: 1.8958839526433633, max: 274.98953147143334, avg: 15.661335279767805\n",
      "INFO:weightwatcher.weightwatcher:Softrank Log Ratio: min: 1.8958839526433633, max: 274.98953147143334, avg: 15.661335279767805\n",
      "2019-12-25 15:51:36,758 INFO Softrank Log Ratio compound: min: 1.8958839526433633, max: 274.98953147143334, avg: 15.661335279767805\n",
      "INFO:weightwatcher.weightwatcher:Softrank Log Ratio compound: min: 1.8958839526433633, max: 274.98953147143334, avg: 15.661335279767805\n",
      "2019-12-25 15:51:36,759 INFO Marchenko-Pastur (MP) fit sigma: min: 0.3, max: 1.019921875, avg: 0.5184045803931452\n",
      "INFO:weightwatcher.weightwatcher:Marchenko-Pastur (MP) fit sigma: min: 0.3, max: 1.019921875, avg: 0.5184045803931452\n",
      "2019-12-25 15:51:36,759 INFO Marchenko-Pastur (MP) fit sigma compound: min: 0.3, max: 1.019921875, avg: 0.5184045803931452\n",
      "INFO:weightwatcher.weightwatcher:Marchenko-Pastur (MP) fit sigma compound: min: 0.3, max: 1.019921875, avg: 0.5184045803931452\n",
      "2019-12-25 15:51:36,760 INFO Number of spikes per MP fit: min: 0, max: 473, avg: 28.35483870967742\n",
      "INFO:weightwatcher.weightwatcher:Number of spikes per MP fit: min: 0, max: 473, avg: 28.35483870967742\n",
      "2019-12-25 15:51:36,761 INFO Number of spikes per MP fit compound: min: 0.0, max: 473.0, avg: 28.35483870967742\n",
      "INFO:weightwatcher.weightwatcher:Number of spikes per MP fit compound: min: 0.0, max: 473.0, avg: 28.35483870967742\n",
      "2019-12-25 15:51:36,762 INFO aka, percent_mass, Number of spikes / total number of evals: min: 0.0, max: 0.47347347347347346, avg: 0.1628234197980573\n",
      "INFO:weightwatcher.weightwatcher:aka, percent_mass, Number of spikes / total number of evals: min: 0.0, max: 0.47347347347347346, avg: 0.1628234197980573\n",
      "2019-12-25 15:51:36,762 INFO aka, percent_mass, Number of spikes / total number of evals compound: min: 0.0, max: 0.47347347347347346, avg: 0.1628234197980573\n",
      "INFO:weightwatcher.weightwatcher:aka, percent_mass, Number of spikes / total number of evals compound: min: 0.0, max: 0.47347347347347346, avg: 0.1628234197980573\n",
      "2019-12-25 15:51:36,763 INFO Softrank for MP fit: min: 0.005764570594351367, max: 3.988243404227702, avg: 0.4141676323769418\n",
      "INFO:weightwatcher.weightwatcher:Softrank for MP fit: min: 0.005764570594351367, max: 3.988243404227702, avg: 0.4141676323769418\n",
      "2019-12-25 15:51:36,764 INFO Softrank for MP fit compound: min: 0.005764570594351367, max: 3.988243404227702, avg: 0.4141676323769418\n",
      "INFO:weightwatcher.weightwatcher:Softrank for MP fit compound: min: 0.005764570594351367, max: 3.988243404227702, avg: 0.4141676323769418\n",
      "2019-12-25 15:51:37,122 INFO \n",
      "\n",
      "python      version 3.7.3 (default, Mar 27 2019, 16:54:48) \n",
      "[Clang 4.0.1 (tags/RELEASE_401/final)]\n",
      "numpy       version 1.16.4\n",
      "tensforflow version 1.13.1\n",
      "keras       version 2.2.4\n",
      "INFO:weightwatcher.weightwatcher:\n",
      "\n",
      "python      version 3.7.3 (default, Mar 27 2019, 16:54:48) \n",
      "[Clang 4.0.1 (tags/RELEASE_401/final)]\n",
      "numpy       version 1.16.4\n",
      "tensforflow version 1.13.1\n",
      "keras       version 2.2.4\n",
      "2019-12-25 15:51:37,124 INFO Analyzing model\n",
      "INFO:weightwatcher.weightwatcher:Analyzing model\n",
      "2019-12-25 15:52:15,260 INFO ### Printing results ###\n",
      "INFO:weightwatcher.weightwatcher:### Printing results ###\n",
      "2019-12-25 15:52:32,189 INFO Norm: min: 1.8322710990905762, max: 52.407073974609375, avg: 6.491189479827881\n",
      "INFO:weightwatcher.weightwatcher:Norm: min: 1.8322710990905762, max: 52.407073974609375, avg: 6.491189479827881\n",
      "2019-12-25 15:52:32,190 INFO Norm compound: min: 1.8322710990905762, max: 52.407073974609375, avg: 6.491189479827881\n",
      "INFO:weightwatcher.weightwatcher:Norm compound: min: 1.8322710990905762, max: 52.407073974609375, avg: 6.491189479827881\n",
      "2019-12-25 15:52:32,191 INFO LogNorm: min: 0.26298972964286804, max: 1.7193899154663086, avg: 0.7515605688095093\n",
      "INFO:weightwatcher.weightwatcher:LogNorm: min: 0.26298972964286804, max: 1.7193899154663086, avg: 0.7515605688095093\n",
      "2019-12-25 15:52:32,192 INFO LogNorm compound: min: 0.26298972964286804, max: 1.7193899154663086, avg: 0.7515605688095093\n",
      "INFO:weightwatcher.weightwatcher:LogNorm compound: min: 0.26298972964286804, max: 1.7193899154663086, avg: 0.7515605688095093\n",
      "2019-12-25 15:52:32,193 INFO Alpha: min: 1.3647284466500778, max: 6.939511713819579, avg: 3.6459215570589163\n",
      "INFO:weightwatcher.weightwatcher:Alpha: min: 1.3647284466500778, max: 6.939511713819579, avg: 3.6459215570589163\n",
      "2019-12-25 15:52:32,194 INFO Alpha compound: min: 1.3647284466500778, max: 6.939511713819579, avg: 3.6459215570589163\n",
      "INFO:weightwatcher.weightwatcher:Alpha compound: min: 1.3647284466500778, max: 6.939511713819579, avg: 3.6459215570589163\n",
      "2019-12-25 15:52:32,195 INFO Alpha Weighted: min: -0.9750225592369529, max: 6.106018704373021, avg: 0.8381952220422748\n",
      "INFO:weightwatcher.weightwatcher:Alpha Weighted: min: -0.9750225592369529, max: 6.106018704373021, avg: 0.8381952220422748\n",
      "2019-12-25 15:52:32,196 INFO Alpha Weighted compound: min: -0.9750225592369529, max: 6.106018704373021, avg: 0.8381952220422748\n",
      "INFO:weightwatcher.weightwatcher:Alpha Weighted compound: min: -0.9750225592369529, max: 6.106018704373021, avg: 0.8381952220422748\n",
      "2019-12-25 15:52:32,197 INFO Spectral Norm: min: 0.03131696954369545, max: 58.64530563354492, avg: 0.6346620321273804\n",
      "INFO:weightwatcher.weightwatcher:Spectral Norm: min: 0.03131696954369545, max: 58.64530563354492, avg: 0.6346620321273804\n",
      "2019-12-25 15:52:32,198 INFO Spectral Norm compound: min: 0.06473718583583832, max: 58.64530563354492, avg: 1.3827571868896484\n",
      "INFO:weightwatcher.weightwatcher:Spectral Norm compound: min: 0.06473718583583832, max: 58.64530563354492, avg: 1.3827571868896484\n",
      "2019-12-25 15:52:32,199 INFO Softrank: min: 4.361273826644166, max: 81.42217827301222, avg: 22.154913815565838\n",
      "INFO:weightwatcher.weightwatcher:Softrank: min: 4.361273826644166, max: 81.42217827301222, avg: 22.154913815565838\n",
      "2019-12-25 15:52:32,200 INFO Softrank compound: min: 4.361273826644166, max: 81.42217827301222, avg: 22.154913815565838\n",
      "INFO:weightwatcher.weightwatcher:Softrank compound: min: 4.361273826644166, max: 81.42217827301222, avg: 22.154913815565838\n",
      "2019-12-25 15:52:32,201 INFO Softrank Log: min: 0.6396133551135057, max: 1.9107427168016087, avg: 1.3062410302165637\n",
      "INFO:weightwatcher.weightwatcher:Softrank Log: min: 0.6396133551135057, max: 1.9107427168016087, avg: 1.3062410302165637\n",
      "2019-12-25 15:52:32,202 INFO Softrank Log compound: min: 0.6396133551135057, max: 1.9107427168016087, avg: 1.3062410302165637\n",
      "INFO:weightwatcher.weightwatcher:Softrank Log compound: min: 0.6396133551135057, max: 1.9107427168016087, avg: 1.3062410302165637\n"
     ]
    },
    {
     "name": "stderr",
     "output_type": "stream",
     "text": [
      "2019-12-25 15:52:32,203 INFO Softrank Log Ratio: min: -89.65885288398604, max: 53.76457766786709, avg: 3.8830669845044308\n",
      "INFO:weightwatcher.weightwatcher:Softrank Log Ratio: min: -89.65885288398604, max: 53.76457766786709, avg: 3.8830669845044308\n",
      "2019-12-25 15:52:32,204 INFO Softrank Log Ratio compound: min: -89.65885288398604, max: 53.76457766786709, avg: 3.8830669845044308\n",
      "INFO:weightwatcher.weightwatcher:Softrank Log Ratio compound: min: -89.65885288398604, max: 53.76457766786709, avg: 3.8830669845044308\n",
      "2019-12-25 15:52:32,205 INFO Marchenko-Pastur (MP) fit sigma: min: 0.3, max: 1.0139648437500002, avg: 0.4012574879716082\n",
      "INFO:weightwatcher.weightwatcher:Marchenko-Pastur (MP) fit sigma: min: 0.3, max: 1.0139648437500002, avg: 0.4012574879716082\n",
      "2019-12-25 15:52:32,206 INFO Marchenko-Pastur (MP) fit sigma compound: min: 0.3, max: 1.0139648437500002, avg: 0.4012574879716082\n",
      "INFO:weightwatcher.weightwatcher:Marchenko-Pastur (MP) fit sigma compound: min: 0.3, max: 1.0139648437500002, avg: 0.4012574879716082\n",
      "2019-12-25 15:52:32,207 INFO Number of spikes per MP fit: min: 0, max: 642, avg: 42.353658536585364\n",
      "INFO:weightwatcher.weightwatcher:Number of spikes per MP fit: min: 0, max: 642, avg: 42.353658536585364\n",
      "2019-12-25 15:52:32,208 INFO Number of spikes per MP fit compound: min: 0.0, max: 642.0, avg: 42.353658536585364\n",
      "INFO:weightwatcher.weightwatcher:Number of spikes per MP fit compound: min: 0.0, max: 642.0, avg: 42.353658536585364\n",
      "2019-12-25 15:52:32,209 INFO aka, percent_mass, Number of spikes / total number of evals: min: 0.0, max: 0.6426426426426426, avg: 0.17594651702115396\n",
      "INFO:weightwatcher.weightwatcher:aka, percent_mass, Number of spikes / total number of evals: min: 0.0, max: 0.6426426426426426, avg: 0.17594651702115396\n",
      "2019-12-25 15:52:32,210 INFO aka, percent_mass, Number of spikes / total number of evals compound: min: 0.0, max: 0.6426426426426426, avg: 0.17594651702115396\n",
      "INFO:weightwatcher.weightwatcher:aka, percent_mass, Number of spikes / total number of evals compound: min: 0.0, max: 0.6426426426426426, avg: 0.17594651702115396\n",
      "2019-12-25 15:52:32,211 INFO Softrank for MP fit: min: 0.0042952601911170245, max: 3.940966900376698, avg: 0.28747384202097837\n",
      "INFO:weightwatcher.weightwatcher:Softrank for MP fit: min: 0.0042952601911170245, max: 3.940966900376698, avg: 0.28747384202097837\n",
      "2019-12-25 15:52:32,211 INFO Softrank for MP fit compound: min: 0.0042952601911170245, max: 3.940966900376698, avg: 0.28747384202097837\n",
      "INFO:weightwatcher.weightwatcher:Softrank for MP fit compound: min: 0.0042952601911170245, max: 3.940966900376698, avg: 0.28747384202097837\n",
      "2019-12-25 15:52:32,240 INFO ### Printing results ###\n",
      "INFO:weightwatcher.weightwatcher:### Printing results ###\n",
      "2019-12-25 15:52:49,067 INFO Norm: min: 1.8322710990905762, max: 52.407073974609375, avg: 6.491189479827881\n",
      "INFO:weightwatcher.weightwatcher:Norm: min: 1.8322710990905762, max: 52.407073974609375, avg: 6.491189479827881\n",
      "2019-12-25 15:52:49,069 INFO Norm compound: min: 1.8322710990905762, max: 52.407073974609375, avg: 6.491189479827881\n",
      "INFO:weightwatcher.weightwatcher:Norm compound: min: 1.8322710990905762, max: 52.407073974609375, avg: 6.491189479827881\n",
      "2019-12-25 15:52:49,070 INFO LogNorm: min: 0.26298972964286804, max: 1.7193899154663086, avg: 0.7515605688095093\n",
      "INFO:weightwatcher.weightwatcher:LogNorm: min: 0.26298972964286804, max: 1.7193899154663086, avg: 0.7515605688095093\n",
      "2019-12-25 15:52:49,070 INFO LogNorm compound: min: 0.26298972964286804, max: 1.7193899154663086, avg: 0.7515605688095093\n",
      "INFO:weightwatcher.weightwatcher:LogNorm compound: min: 0.26298972964286804, max: 1.7193899154663086, avg: 0.7515605688095093\n",
      "2019-12-25 15:52:49,072 INFO Alpha: min: 1.3647284466500778, max: 6.939511713819579, avg: 3.6459215570589163\n",
      "INFO:weightwatcher.weightwatcher:Alpha: min: 1.3647284466500778, max: 6.939511713819579, avg: 3.6459215570589163\n",
      "2019-12-25 15:52:49,073 INFO Alpha compound: min: 1.3647284466500778, max: 6.939511713819579, avg: 3.6459215570589163\n",
      "INFO:weightwatcher.weightwatcher:Alpha compound: min: 1.3647284466500778, max: 6.939511713819579, avg: 3.6459215570589163\n",
      "2019-12-25 15:52:49,073 INFO Alpha Weighted: min: -0.9750225592369529, max: 6.106018704373021, avg: 0.8381952220422748\n",
      "INFO:weightwatcher.weightwatcher:Alpha Weighted: min: -0.9750225592369529, max: 6.106018704373021, avg: 0.8381952220422748\n",
      "2019-12-25 15:52:49,075 INFO Alpha Weighted compound: min: -0.9750225592369529, max: 6.106018704373021, avg: 0.8381952220422748\n",
      "INFO:weightwatcher.weightwatcher:Alpha Weighted compound: min: -0.9750225592369529, max: 6.106018704373021, avg: 0.8381952220422748\n",
      "2019-12-25 15:52:49,076 INFO Spectral Norm: min: 0.03131696954369545, max: 58.64530563354492, avg: 0.6346620321273804\n",
      "INFO:weightwatcher.weightwatcher:Spectral Norm: min: 0.03131696954369545, max: 58.64530563354492, avg: 0.6346620321273804\n",
      "2019-12-25 15:52:49,077 INFO Spectral Norm compound: min: 0.06473718583583832, max: 58.64530563354492, avg: 1.3827571868896484\n",
      "INFO:weightwatcher.weightwatcher:Spectral Norm compound: min: 0.06473718583583832, max: 58.64530563354492, avg: 1.3827571868896484\n",
      "2019-12-25 15:52:49,078 INFO Softrank: min: 4.361273826644166, max: 81.42217827301222, avg: 22.154913815565838\n",
      "INFO:weightwatcher.weightwatcher:Softrank: min: 4.361273826644166, max: 81.42217827301222, avg: 22.154913815565838\n",
      "2019-12-25 15:52:49,079 INFO Softrank compound: min: 4.361273826644166, max: 81.42217827301222, avg: 22.154913815565838\n",
      "INFO:weightwatcher.weightwatcher:Softrank compound: min: 4.361273826644166, max: 81.42217827301222, avg: 22.154913815565838\n",
      "2019-12-25 15:52:49,080 INFO Softrank Log: min: 0.6396133551135057, max: 1.9107427168016087, avg: 1.3062410302165637\n",
      "INFO:weightwatcher.weightwatcher:Softrank Log: min: 0.6396133551135057, max: 1.9107427168016087, avg: 1.3062410302165637\n",
      "2019-12-25 15:52:49,081 INFO Softrank Log compound: min: 0.6396133551135057, max: 1.9107427168016087, avg: 1.3062410302165637\n",
      "INFO:weightwatcher.weightwatcher:Softrank Log compound: min: 0.6396133551135057, max: 1.9107427168016087, avg: 1.3062410302165637\n",
      "2019-12-25 15:52:49,082 INFO Softrank Log Ratio: min: -89.65885288398604, max: 53.76457766786709, avg: 3.8830669845044308\n",
      "INFO:weightwatcher.weightwatcher:Softrank Log Ratio: min: -89.65885288398604, max: 53.76457766786709, avg: 3.8830669845044308\n",
      "2019-12-25 15:52:49,083 INFO Softrank Log Ratio compound: min: -89.65885288398604, max: 53.76457766786709, avg: 3.8830669845044308\n",
      "INFO:weightwatcher.weightwatcher:Softrank Log Ratio compound: min: -89.65885288398604, max: 53.76457766786709, avg: 3.8830669845044308\n",
      "2019-12-25 15:52:49,084 INFO Marchenko-Pastur (MP) fit sigma: min: 0.3, max: 1.0139648437500002, avg: 0.4012574879716082\n",
      "INFO:weightwatcher.weightwatcher:Marchenko-Pastur (MP) fit sigma: min: 0.3, max: 1.0139648437500002, avg: 0.4012574879716082\n",
      "2019-12-25 15:52:49,085 INFO Marchenko-Pastur (MP) fit sigma compound: min: 0.3, max: 1.0139648437500002, avg: 0.4012574879716082\n",
      "INFO:weightwatcher.weightwatcher:Marchenko-Pastur (MP) fit sigma compound: min: 0.3, max: 1.0139648437500002, avg: 0.4012574879716082\n",
      "2019-12-25 15:52:49,086 INFO Number of spikes per MP fit: min: 0, max: 642, avg: 42.353658536585364\n",
      "INFO:weightwatcher.weightwatcher:Number of spikes per MP fit: min: 0, max: 642, avg: 42.353658536585364\n",
      "2019-12-25 15:52:49,087 INFO Number of spikes per MP fit compound: min: 0.0, max: 642.0, avg: 42.353658536585364\n",
      "INFO:weightwatcher.weightwatcher:Number of spikes per MP fit compound: min: 0.0, max: 642.0, avg: 42.353658536585364\n",
      "2019-12-25 15:52:49,088 INFO aka, percent_mass, Number of spikes / total number of evals: min: 0.0, max: 0.6426426426426426, avg: 0.17594651702115396\n",
      "INFO:weightwatcher.weightwatcher:aka, percent_mass, Number of spikes / total number of evals: min: 0.0, max: 0.6426426426426426, avg: 0.17594651702115396\n",
      "2019-12-25 15:52:49,089 INFO aka, percent_mass, Number of spikes / total number of evals compound: min: 0.0, max: 0.6426426426426426, avg: 0.17594651702115396\n",
      "INFO:weightwatcher.weightwatcher:aka, percent_mass, Number of spikes / total number of evals compound: min: 0.0, max: 0.6426426426426426, avg: 0.17594651702115396\n",
      "2019-12-25 15:52:49,090 INFO Softrank for MP fit: min: 0.0042952601911170245, max: 3.940966900376698, avg: 0.28747384202097837\n"
     ]
    },
    {
     "name": "stderr",
     "output_type": "stream",
     "text": [
      "INFO:weightwatcher.weightwatcher:Softrank for MP fit: min: 0.0042952601911170245, max: 3.940966900376698, avg: 0.28747384202097837\n",
      "2019-12-25 15:52:49,091 INFO Softrank for MP fit compound: min: 0.0042952601911170245, max: 3.940966900376698, avg: 0.28747384202097837\n",
      "INFO:weightwatcher.weightwatcher:Softrank for MP fit compound: min: 0.0042952601911170245, max: 3.940966900376698, avg: 0.28747384202097837\n",
      "2019-12-25 15:52:49,230 INFO \n",
      "\n",
      "python      version 3.7.3 (default, Mar 27 2019, 16:54:48) \n",
      "[Clang 4.0.1 (tags/RELEASE_401/final)]\n",
      "numpy       version 1.16.4\n",
      "tensforflow version 1.13.1\n",
      "keras       version 2.2.4\n",
      "INFO:weightwatcher.weightwatcher:\n",
      "\n",
      "python      version 3.7.3 (default, Mar 27 2019, 16:54:48) \n",
      "[Clang 4.0.1 (tags/RELEASE_401/final)]\n",
      "numpy       version 1.16.4\n",
      "tensforflow version 1.13.1\n",
      "keras       version 2.2.4\n",
      "2019-12-25 15:52:49,231 INFO Analyzing model\n",
      "INFO:weightwatcher.weightwatcher:Analyzing model\n",
      "2019-12-25 15:53:15,689 INFO ### Printing results ###\n",
      "INFO:weightwatcher.weightwatcher:### Printing results ###\n",
      "2019-12-25 15:53:33,642 INFO Norm: min: 2.4220619201660156, max: 51.0794677734375, avg: 6.140321254730225\n",
      "INFO:weightwatcher.weightwatcher:Norm: min: 2.4220619201660156, max: 51.0794677734375, avg: 6.140321254730225\n",
      "2019-12-25 15:53:33,643 INFO Norm compound: min: 2.4220619201660156, max: 51.0794677734375, avg: 6.140321254730225\n",
      "INFO:weightwatcher.weightwatcher:Norm compound: min: 2.4220619201660156, max: 51.0794677734375, avg: 6.140321254730225\n",
      "2019-12-25 15:53:33,644 INFO LogNorm: min: 0.384185254573822, max: 1.7082463502883911, avg: 0.7411841750144958\n",
      "INFO:weightwatcher.weightwatcher:LogNorm: min: 0.384185254573822, max: 1.7082463502883911, avg: 0.7411841750144958\n",
      "2019-12-25 15:53:33,645 INFO LogNorm compound: min: 0.384185254573822, max: 1.7082463502883911, avg: 0.7411841750144958\n",
      "INFO:weightwatcher.weightwatcher:LogNorm compound: min: 0.384185254573822, max: 1.7082463502883911, avg: 0.7411841750144958\n",
      "2019-12-25 15:53:33,647 INFO Alpha: min: 1.4873554562343008, max: 17.10342685960631, avg: 4.30838755165317\n",
      "INFO:weightwatcher.weightwatcher:Alpha: min: 1.4873554562343008, max: 17.10342685960631, avg: 4.30838755165317\n",
      "2019-12-25 15:53:33,649 INFO Alpha compound: min: 1.4873554562343008, max: 17.10342685960631, avg: 4.30838755165317\n",
      "INFO:weightwatcher.weightwatcher:Alpha compound: min: 1.4873554562343008, max: 17.10342685960631, avg: 4.30838755165317\n",
      "2019-12-25 15:53:33,650 INFO Alpha Weighted: min: -0.40374054437745, max: 5.931278137130633, avg: 0.6786163258345438\n",
      "INFO:weightwatcher.weightwatcher:Alpha Weighted: min: -0.40374054437745, max: 5.931278137130633, avg: 0.6786163258345438\n",
      "2019-12-25 15:53:33,651 INFO Alpha Weighted compound: min: -0.40374054437745, max: 5.931278137130633, avg: 0.6786163258345438\n",
      "INFO:weightwatcher.weightwatcher:Alpha Weighted compound: min: -0.40374054437745, max: 5.931278137130633, avg: 0.6786163258345438\n",
      "2019-12-25 15:53:33,653 INFO Spectral Norm: min: 0.020190099254250526, max: 56.65053939819336, avg: 0.5537534356117249\n",
      "INFO:weightwatcher.weightwatcher:Spectral Norm: min: 0.020190099254250526, max: 56.65053939819336, avg: 0.5537534356117249\n",
      "2019-12-25 15:53:33,654 INFO Spectral Norm compound: min: 0.04712384194135666, max: 56.65053939819336, avg: 1.1941076517105103\n",
      "INFO:weightwatcher.weightwatcher:Spectral Norm compound: min: 0.04712384194135666, max: 56.65053939819336, avg: 1.1941076517105103\n",
      "2019-12-25 15:53:33,654 INFO Softrank: min: 7.386118732842703, max: 75.53146437364231, avg: 23.385644666585563\n",
      "INFO:weightwatcher.weightwatcher:Softrank: min: 7.386118732842703, max: 75.53146437364231, avg: 23.385644666585563\n",
      "2019-12-25 15:53:33,655 INFO Softrank compound: min: 7.386118732842703, max: 75.53146437364231, avg: 23.385644666585563\n",
      "INFO:weightwatcher.weightwatcher:Softrank compound: min: 7.386118732842703, max: 75.53146437364231, avg: 23.385644666585563\n",
      "2019-12-25 15:53:33,656 INFO Softrank Log: min: 0.8684162847127324, max: 1.8781279047054729, avg: 1.3450484855566358\n",
      "INFO:weightwatcher.weightwatcher:Softrank Log: min: 0.8684162847127324, max: 1.8781279047054729, avg: 1.3450484855566358\n",
      "2019-12-25 15:53:33,657 INFO Softrank Log compound: min: 0.8684162847127324, max: 1.8781279047054729, avg: 1.3450484855566358\n",
      "INFO:weightwatcher.weightwatcher:Softrank Log compound: min: 0.8684162847127324, max: 1.8781279047054729, avg: 1.3450484855566358\n",
      "2019-12-25 15:53:33,659 INFO Softrank Log Ratio: min: -234.31703633921364, max: 2726.8959056120493, avg: 30.795421207955755\n",
      "INFO:weightwatcher.weightwatcher:Softrank Log Ratio: min: -234.31703633921364, max: 2726.8959056120493, avg: 30.795421207955755\n",
      "2019-12-25 15:53:33,660 INFO Softrank Log Ratio compound: min: -234.31703633921364, max: 2726.8959056120493, avg: 30.795421207955755\n",
      "INFO:weightwatcher.weightwatcher:Softrank Log Ratio compound: min: -234.31703633921364, max: 2726.8959056120493, avg: 30.795421207955755\n",
      "2019-12-25 15:53:33,662 INFO Marchenko-Pastur (MP) fit sigma: min: 0.3, max: 1.0347656250000004, avg: 0.4622236101017443\n",
      "INFO:weightwatcher.weightwatcher:Marchenko-Pastur (MP) fit sigma: min: 0.3, max: 1.0347656250000004, avg: 0.4622236101017443\n",
      "2019-12-25 15:53:33,663 INFO Marchenko-Pastur (MP) fit sigma compound: min: 0.3, max: 1.0347656250000004, avg: 0.4622236101017443\n",
      "INFO:weightwatcher.weightwatcher:Marchenko-Pastur (MP) fit sigma compound: min: 0.3, max: 1.0347656250000004, avg: 0.4622236101017443\n",
      "2019-12-25 15:53:33,665 INFO Number of spikes per MP fit: min: 0, max: 609, avg: 29.38372093023256\n",
      "INFO:weightwatcher.weightwatcher:Number of spikes per MP fit: min: 0, max: 609, avg: 29.38372093023256\n",
      "2019-12-25 15:53:33,666 INFO Number of spikes per MP fit compound: min: 0.0, max: 609.0, avg: 29.38372093023256\n",
      "INFO:weightwatcher.weightwatcher:Number of spikes per MP fit compound: min: 0.0, max: 609.0, avg: 29.38372093023256\n",
      "2019-12-25 15:53:33,667 INFO aka, percent_mass, Number of spikes / total number of evals: min: 0.0, max: 0.6096096096096096, avg: 0.1750025436159314\n",
      "INFO:weightwatcher.weightwatcher:aka, percent_mass, Number of spikes / total number of evals: min: 0.0, max: 0.6096096096096096, avg: 0.1750025436159314\n",
      "2019-12-25 15:53:33,668 INFO aka, percent_mass, Number of spikes / total number of evals compound: min: 0.0, max: 0.6096096096096096, avg: 0.1750025436159314\n",
      "INFO:weightwatcher.weightwatcher:aka, percent_mass, Number of spikes / total number of evals compound: min: 0.0, max: 0.6096096096096096, avg: 0.1750025436159314\n",
      "2019-12-25 15:53:33,670 INFO Softrank for MP fit: min: 0.005006581428756406, max: 5.3924945319823445, avg: 0.4121474916206651\n",
      "INFO:weightwatcher.weightwatcher:Softrank for MP fit: min: 0.005006581428756406, max: 5.3924945319823445, avg: 0.4121474916206651\n",
      "2019-12-25 15:53:33,672 INFO Softrank for MP fit compound: min: 0.005006581428756406, max: 5.3924945319823445, avg: 0.4121474916206651\n",
      "INFO:weightwatcher.weightwatcher:Softrank for MP fit compound: min: 0.005006581428756406, max: 5.3924945319823445, avg: 0.4121474916206651\n",
      "2019-12-25 15:53:33,702 INFO ### Printing results ###\n",
      "INFO:weightwatcher.weightwatcher:### Printing results ###\n",
      "2019-12-25 15:53:51,606 INFO Norm: min: 2.4220619201660156, max: 51.0794677734375, avg: 6.140321254730225\n",
      "INFO:weightwatcher.weightwatcher:Norm: min: 2.4220619201660156, max: 51.0794677734375, avg: 6.140321254730225\n",
      "2019-12-25 15:53:51,607 INFO Norm compound: min: 2.4220619201660156, max: 51.0794677734375, avg: 6.140321254730225\n",
      "INFO:weightwatcher.weightwatcher:Norm compound: min: 2.4220619201660156, max: 51.0794677734375, avg: 6.140321254730225\n",
      "2019-12-25 15:53:51,608 INFO LogNorm: min: 0.384185254573822, max: 1.7082463502883911, avg: 0.7411841750144958\n",
      "INFO:weightwatcher.weightwatcher:LogNorm: min: 0.384185254573822, max: 1.7082463502883911, avg: 0.7411841750144958\n",
      "2019-12-25 15:53:51,610 INFO LogNorm compound: min: 0.384185254573822, max: 1.7082463502883911, avg: 0.7411841750144958\n",
      "INFO:weightwatcher.weightwatcher:LogNorm compound: min: 0.384185254573822, max: 1.7082463502883911, avg: 0.7411841750144958\n",
      "2019-12-25 15:53:51,611 INFO Alpha: min: 1.4873554562343008, max: 17.10342685960631, avg: 4.30838755165317\n",
      "INFO:weightwatcher.weightwatcher:Alpha: min: 1.4873554562343008, max: 17.10342685960631, avg: 4.30838755165317\n"
     ]
    },
    {
     "name": "stderr",
     "output_type": "stream",
     "text": [
      "2019-12-25 15:53:51,613 INFO Alpha compound: min: 1.4873554562343008, max: 17.10342685960631, avg: 4.30838755165317\n",
      "INFO:weightwatcher.weightwatcher:Alpha compound: min: 1.4873554562343008, max: 17.10342685960631, avg: 4.30838755165317\n",
      "2019-12-25 15:53:51,614 INFO Alpha Weighted: min: -0.40374054437745, max: 5.931278137130633, avg: 0.6786163258345438\n",
      "INFO:weightwatcher.weightwatcher:Alpha Weighted: min: -0.40374054437745, max: 5.931278137130633, avg: 0.6786163258345438\n",
      "2019-12-25 15:53:51,616 INFO Alpha Weighted compound: min: -0.40374054437745, max: 5.931278137130633, avg: 0.6786163258345438\n",
      "INFO:weightwatcher.weightwatcher:Alpha Weighted compound: min: -0.40374054437745, max: 5.931278137130633, avg: 0.6786163258345438\n",
      "2019-12-25 15:53:51,617 INFO Spectral Norm: min: 0.020190099254250526, max: 56.65053939819336, avg: 0.5537534356117249\n",
      "INFO:weightwatcher.weightwatcher:Spectral Norm: min: 0.020190099254250526, max: 56.65053939819336, avg: 0.5537534356117249\n",
      "2019-12-25 15:53:51,618 INFO Spectral Norm compound: min: 0.04712384194135666, max: 56.65053939819336, avg: 1.1941076517105103\n",
      "INFO:weightwatcher.weightwatcher:Spectral Norm compound: min: 0.04712384194135666, max: 56.65053939819336, avg: 1.1941076517105103\n",
      "2019-12-25 15:53:51,619 INFO Softrank: min: 7.386118732842703, max: 75.53146437364231, avg: 23.385644666585563\n",
      "INFO:weightwatcher.weightwatcher:Softrank: min: 7.386118732842703, max: 75.53146437364231, avg: 23.385644666585563\n",
      "2019-12-25 15:53:51,621 INFO Softrank compound: min: 7.386118732842703, max: 75.53146437364231, avg: 23.385644666585563\n",
      "INFO:weightwatcher.weightwatcher:Softrank compound: min: 7.386118732842703, max: 75.53146437364231, avg: 23.385644666585563\n",
      "2019-12-25 15:53:51,621 INFO Softrank Log: min: 0.8684162847127324, max: 1.8781279047054729, avg: 1.3450484855566358\n",
      "INFO:weightwatcher.weightwatcher:Softrank Log: min: 0.8684162847127324, max: 1.8781279047054729, avg: 1.3450484855566358\n",
      "2019-12-25 15:53:51,622 INFO Softrank Log compound: min: 0.8684162847127324, max: 1.8781279047054729, avg: 1.3450484855566358\n",
      "INFO:weightwatcher.weightwatcher:Softrank Log compound: min: 0.8684162847127324, max: 1.8781279047054729, avg: 1.3450484855566358\n",
      "2019-12-25 15:53:51,624 INFO Softrank Log Ratio: min: -234.31703633921364, max: 2726.8959056120493, avg: 30.795421207955755\n",
      "INFO:weightwatcher.weightwatcher:Softrank Log Ratio: min: -234.31703633921364, max: 2726.8959056120493, avg: 30.795421207955755\n",
      "2019-12-25 15:53:51,625 INFO Softrank Log Ratio compound: min: -234.31703633921364, max: 2726.8959056120493, avg: 30.795421207955755\n",
      "INFO:weightwatcher.weightwatcher:Softrank Log Ratio compound: min: -234.31703633921364, max: 2726.8959056120493, avg: 30.795421207955755\n",
      "2019-12-25 15:53:51,626 INFO Marchenko-Pastur (MP) fit sigma: min: 0.3, max: 1.0347656250000004, avg: 0.4622236101017443\n",
      "INFO:weightwatcher.weightwatcher:Marchenko-Pastur (MP) fit sigma: min: 0.3, max: 1.0347656250000004, avg: 0.4622236101017443\n",
      "2019-12-25 15:53:51,627 INFO Marchenko-Pastur (MP) fit sigma compound: min: 0.3, max: 1.0347656250000004, avg: 0.4622236101017443\n",
      "INFO:weightwatcher.weightwatcher:Marchenko-Pastur (MP) fit sigma compound: min: 0.3, max: 1.0347656250000004, avg: 0.4622236101017443\n",
      "2019-12-25 15:53:51,628 INFO Number of spikes per MP fit: min: 0, max: 609, avg: 29.38372093023256\n",
      "INFO:weightwatcher.weightwatcher:Number of spikes per MP fit: min: 0, max: 609, avg: 29.38372093023256\n",
      "2019-12-25 15:53:51,629 INFO Number of spikes per MP fit compound: min: 0.0, max: 609.0, avg: 29.38372093023256\n",
      "INFO:weightwatcher.weightwatcher:Number of spikes per MP fit compound: min: 0.0, max: 609.0, avg: 29.38372093023256\n",
      "2019-12-25 15:53:51,630 INFO aka, percent_mass, Number of spikes / total number of evals: min: 0.0, max: 0.6096096096096096, avg: 0.1750025436159314\n",
      "INFO:weightwatcher.weightwatcher:aka, percent_mass, Number of spikes / total number of evals: min: 0.0, max: 0.6096096096096096, avg: 0.1750025436159314\n",
      "2019-12-25 15:53:51,631 INFO aka, percent_mass, Number of spikes / total number of evals compound: min: 0.0, max: 0.6096096096096096, avg: 0.1750025436159314\n",
      "INFO:weightwatcher.weightwatcher:aka, percent_mass, Number of spikes / total number of evals compound: min: 0.0, max: 0.6096096096096096, avg: 0.1750025436159314\n",
      "2019-12-25 15:53:51,632 INFO Softrank for MP fit: min: 0.005006581428756406, max: 5.3924945319823445, avg: 0.4121474916206651\n",
      "INFO:weightwatcher.weightwatcher:Softrank for MP fit: min: 0.005006581428756406, max: 5.3924945319823445, avg: 0.4121474916206651\n",
      "2019-12-25 15:53:51,633 INFO Softrank for MP fit compound: min: 0.005006581428756406, max: 5.3924945319823445, avg: 0.4121474916206651\n",
      "INFO:weightwatcher.weightwatcher:Softrank for MP fit compound: min: 0.005006581428756406, max: 5.3924945319823445, avg: 0.4121474916206651\n",
      "2019-12-25 15:53:51,778 INFO \n",
      "\n",
      "python      version 3.7.3 (default, Mar 27 2019, 16:54:48) \n",
      "[Clang 4.0.1 (tags/RELEASE_401/final)]\n",
      "numpy       version 1.16.4\n",
      "tensforflow version 1.13.1\n",
      "keras       version 2.2.4\n",
      "INFO:weightwatcher.weightwatcher:\n",
      "\n",
      "python      version 3.7.3 (default, Mar 27 2019, 16:54:48) \n",
      "[Clang 4.0.1 (tags/RELEASE_401/final)]\n",
      "numpy       version 1.16.4\n",
      "tensforflow version 1.13.1\n",
      "keras       version 2.2.4\n",
      "2019-12-25 15:53:51,780 INFO Analyzing model\n",
      "INFO:weightwatcher.weightwatcher:Analyzing model\n",
      "2019-12-25 15:54:24,141 INFO ### Printing results ###\n",
      "INFO:weightwatcher.weightwatcher:### Printing results ###\n",
      "2019-12-25 15:54:46,418 INFO Norm: min: 2.587743043899536, max: 50.09318161010742, avg: 5.804555892944336\n",
      "INFO:weightwatcher.weightwatcher:Norm: min: 2.587743043899536, max: 50.09318161010742, avg: 5.804555892944336\n",
      "2019-12-25 15:54:46,419 INFO Norm compound: min: 2.587743043899536, max: 50.09318161010742, avg: 5.804555892944336\n",
      "INFO:weightwatcher.weightwatcher:Norm compound: min: 2.587743043899536, max: 50.09318161010742, avg: 5.804555892944336\n",
      "2019-12-25 15:54:46,420 INFO LogNorm: min: 0.41292116045951843, max: 1.6997785568237305, avg: 0.7188485860824585\n",
      "INFO:weightwatcher.weightwatcher:LogNorm: min: 0.41292116045951843, max: 1.6997785568237305, avg: 0.7188485860824585\n",
      "2019-12-25 15:54:46,421 INFO LogNorm compound: min: 0.41292116045951843, max: 1.6997785568237305, avg: 0.7188485860824585\n",
      "INFO:weightwatcher.weightwatcher:LogNorm compound: min: 0.41292116045951843, max: 1.6997785568237305, avg: 0.7188485860824585\n",
      "2019-12-25 15:54:46,422 INFO Alpha: min: 1.5521604759754193, max: 8.450281603941136, avg: 4.140962475815857\n",
      "INFO:weightwatcher.weightwatcher:Alpha: min: 1.5521604759754193, max: 8.450281603941136, avg: 4.140962475815857\n",
      "2019-12-25 15:54:46,424 INFO Alpha compound: min: 1.5521604759754193, max: 8.450281603941136, avg: 4.140962475815857\n",
      "INFO:weightwatcher.weightwatcher:Alpha compound: min: 1.5521604759754193, max: 8.450281603941136, avg: 4.140962475815857\n",
      "2019-12-25 15:54:46,425 INFO Alpha Weighted: min: -0.5553569489433722, max: 5.894806724787247, avg: 0.501668241267522\n",
      "INFO:weightwatcher.weightwatcher:Alpha Weighted: min: -0.5553569489433722, max: 5.894806724787247, avg: 0.501668241267522\n",
      "2019-12-25 15:54:46,426 INFO Alpha Weighted compound: min: -0.5553569489433722, max: 5.894806724787247, avg: 0.501668241267522\n",
      "INFO:weightwatcher.weightwatcher:Alpha Weighted compound: min: -0.5553569489433722, max: 5.894806724787247, avg: 0.501668241267522\n",
      "2019-12-25 15:54:46,427 INFO Spectral Norm: min: 0.019073057919740677, max: 53.31491470336914, avg: 0.49661678075790405\n",
      "INFO:weightwatcher.weightwatcher:Spectral Norm: min: 0.019073057919740677, max: 53.31491470336914, avg: 0.49661678075790405\n",
      "2019-12-25 15:54:46,428 INFO Spectral Norm compound: min: 0.04232184588909149, max: 53.31491470336914, avg: 1.0771241188049316\n",
      "INFO:weightwatcher.weightwatcher:Spectral Norm compound: min: 0.04232184588909149, max: 53.31491470336914, avg: 1.0771241188049316\n",
      "2019-12-25 15:54:46,429 INFO Softrank: min: 6.43869901958742, max: 83.24829232549276, avg: 22.8823641298343\n",
      "INFO:weightwatcher.weightwatcher:Softrank: min: 6.43869901958742, max: 83.24829232549276, avg: 22.8823641298343\n",
      "2019-12-25 15:54:46,430 INFO Softrank compound: min: 6.43869901958742, max: 83.24829232549276, avg: 22.8823641298343\n",
      "INFO:weightwatcher.weightwatcher:Softrank compound: min: 6.43869901958742, max: 83.24829232549276, avg: 22.8823641298343\n"
     ]
    },
    {
     "name": "stderr",
     "output_type": "stream",
     "text": [
      "2019-12-25 15:54:46,431 INFO Softrank Log: min: 0.8087981242399037, max: 1.9203753335750913, avg: 1.3283525358793162\n",
      "INFO:weightwatcher.weightwatcher:Softrank Log: min: 0.8087981242399037, max: 1.9203753335750913, avg: 1.3283525358793162\n",
      "2019-12-25 15:54:46,432 INFO Softrank Log compound: min: 0.8087981242399037, max: 1.9203753335750913, avg: 1.3283525358793162\n",
      "INFO:weightwatcher.weightwatcher:Softrank Log compound: min: 0.8087981242399037, max: 1.9203753335750913, avg: 1.3283525358793162\n",
      "2019-12-25 15:54:46,433 INFO Softrank Log Ratio: min: -768.9545700778444, max: 836.9328815510835, avg: 6.645244989303972\n",
      "INFO:weightwatcher.weightwatcher:Softrank Log Ratio: min: -768.9545700778444, max: 836.9328815510835, avg: 6.645244989303972\n",
      "2019-12-25 15:54:46,433 INFO Softrank Log Ratio compound: min: -768.9545700778444, max: 836.9328815510835, avg: 6.645244989303972\n",
      "INFO:weightwatcher.weightwatcher:Softrank Log Ratio compound: min: -768.9545700778444, max: 836.9328815510835, avg: 6.645244989303972\n",
      "2019-12-25 15:54:46,436 INFO Marchenko-Pastur (MP) fit sigma: min: 0.3, max: 0.9661132812500002, avg: 0.4371108948950674\n",
      "INFO:weightwatcher.weightwatcher:Marchenko-Pastur (MP) fit sigma: min: 0.3, max: 0.9661132812500002, avg: 0.4371108948950674\n",
      "2019-12-25 15:54:46,437 INFO Marchenko-Pastur (MP) fit sigma compound: min: 0.3, max: 0.9661132812500002, avg: 0.4371108948950674\n",
      "INFO:weightwatcher.weightwatcher:Marchenko-Pastur (MP) fit sigma compound: min: 0.3, max: 0.9661132812500002, avg: 0.4371108948950674\n",
      "2019-12-25 15:54:46,438 INFO Number of spikes per MP fit: min: 0, max: 638, avg: 31.38235294117647\n",
      "INFO:weightwatcher.weightwatcher:Number of spikes per MP fit: min: 0, max: 638, avg: 31.38235294117647\n",
      "2019-12-25 15:54:46,439 INFO Number of spikes per MP fit compound: min: 0.0, max: 638.0, avg: 31.38235294117647\n",
      "INFO:weightwatcher.weightwatcher:Number of spikes per MP fit compound: min: 0.0, max: 638.0, avg: 31.38235294117647\n",
      "2019-12-25 15:54:46,440 INFO aka, percent_mass, Number of spikes / total number of evals: min: 0.0, max: 0.6386386386386387, avg: 0.1924799743204864\n",
      "INFO:weightwatcher.weightwatcher:aka, percent_mass, Number of spikes / total number of evals: min: 0.0, max: 0.6386386386386387, avg: 0.1924799743204864\n",
      "2019-12-25 15:54:46,441 INFO aka, percent_mass, Number of spikes / total number of evals compound: min: 0.0, max: 0.6386386386386387, avg: 0.1924799743204864\n",
      "INFO:weightwatcher.weightwatcher:aka, percent_mass, Number of spikes / total number of evals compound: min: 0.0, max: 0.6386386386386387, avg: 0.1924799743204864\n",
      "2019-12-25 15:54:46,442 INFO Softrank for MP fit: min: 0.0050038246812295776, max: 4.139254873000737, avg: 0.3483947014498696\n",
      "INFO:weightwatcher.weightwatcher:Softrank for MP fit: min: 0.0050038246812295776, max: 4.139254873000737, avg: 0.3483947014498696\n",
      "2019-12-25 15:54:46,443 INFO Softrank for MP fit compound: min: 0.0050038246812295776, max: 4.139254873000737, avg: 0.3483947014498696\n",
      "INFO:weightwatcher.weightwatcher:Softrank for MP fit compound: min: 0.0050038246812295776, max: 4.139254873000737, avg: 0.3483947014498696\n",
      "2019-12-25 15:54:46,475 INFO ### Printing results ###\n",
      "INFO:weightwatcher.weightwatcher:### Printing results ###\n",
      "2019-12-25 15:55:08,838 INFO Norm: min: 2.587743043899536, max: 50.09318161010742, avg: 5.804555892944336\n",
      "INFO:weightwatcher.weightwatcher:Norm: min: 2.587743043899536, max: 50.09318161010742, avg: 5.804555892944336\n",
      "2019-12-25 15:55:08,839 INFO Norm compound: min: 2.587743043899536, max: 50.09318161010742, avg: 5.804555892944336\n",
      "INFO:weightwatcher.weightwatcher:Norm compound: min: 2.587743043899536, max: 50.09318161010742, avg: 5.804555892944336\n",
      "2019-12-25 15:55:08,841 INFO LogNorm: min: 0.41292116045951843, max: 1.6997785568237305, avg: 0.7188485860824585\n",
      "INFO:weightwatcher.weightwatcher:LogNorm: min: 0.41292116045951843, max: 1.6997785568237305, avg: 0.7188485860824585\n",
      "2019-12-25 15:55:08,842 INFO LogNorm compound: min: 0.41292116045951843, max: 1.6997785568237305, avg: 0.7188485860824585\n",
      "INFO:weightwatcher.weightwatcher:LogNorm compound: min: 0.41292116045951843, max: 1.6997785568237305, avg: 0.7188485860824585\n",
      "2019-12-25 15:55:08,843 INFO Alpha: min: 1.5521604759754193, max: 8.450281603941136, avg: 4.140962475815857\n",
      "INFO:weightwatcher.weightwatcher:Alpha: min: 1.5521604759754193, max: 8.450281603941136, avg: 4.140962475815857\n",
      "2019-12-25 15:55:08,844 INFO Alpha compound: min: 1.5521604759754193, max: 8.450281603941136, avg: 4.140962475815857\n",
      "INFO:weightwatcher.weightwatcher:Alpha compound: min: 1.5521604759754193, max: 8.450281603941136, avg: 4.140962475815857\n",
      "2019-12-25 15:55:08,845 INFO Alpha Weighted: min: -0.5553569489433722, max: 5.894806724787247, avg: 0.501668241267522\n",
      "INFO:weightwatcher.weightwatcher:Alpha Weighted: min: -0.5553569489433722, max: 5.894806724787247, avg: 0.501668241267522\n",
      "2019-12-25 15:55:08,847 INFO Alpha Weighted compound: min: -0.5553569489433722, max: 5.894806724787247, avg: 0.501668241267522\n",
      "INFO:weightwatcher.weightwatcher:Alpha Weighted compound: min: -0.5553569489433722, max: 5.894806724787247, avg: 0.501668241267522\n",
      "2019-12-25 15:55:08,848 INFO Spectral Norm: min: 0.019073057919740677, max: 53.31491470336914, avg: 0.49661678075790405\n",
      "INFO:weightwatcher.weightwatcher:Spectral Norm: min: 0.019073057919740677, max: 53.31491470336914, avg: 0.49661678075790405\n",
      "2019-12-25 15:55:08,850 INFO Spectral Norm compound: min: 0.04232184588909149, max: 53.31491470336914, avg: 1.0771241188049316\n",
      "INFO:weightwatcher.weightwatcher:Spectral Norm compound: min: 0.04232184588909149, max: 53.31491470336914, avg: 1.0771241188049316\n",
      "2019-12-25 15:55:08,851 INFO Softrank: min: 6.43869901958742, max: 83.24829232549276, avg: 22.8823641298343\n",
      "INFO:weightwatcher.weightwatcher:Softrank: min: 6.43869901958742, max: 83.24829232549276, avg: 22.8823641298343\n",
      "2019-12-25 15:55:08,852 INFO Softrank compound: min: 6.43869901958742, max: 83.24829232549276, avg: 22.8823641298343\n",
      "INFO:weightwatcher.weightwatcher:Softrank compound: min: 6.43869901958742, max: 83.24829232549276, avg: 22.8823641298343\n",
      "2019-12-25 15:55:08,853 INFO Softrank Log: min: 0.8087981242399037, max: 1.9203753335750913, avg: 1.3283525358793162\n",
      "INFO:weightwatcher.weightwatcher:Softrank Log: min: 0.8087981242399037, max: 1.9203753335750913, avg: 1.3283525358793162\n",
      "2019-12-25 15:55:08,854 INFO Softrank Log compound: min: 0.8087981242399037, max: 1.9203753335750913, avg: 1.3283525358793162\n",
      "INFO:weightwatcher.weightwatcher:Softrank Log compound: min: 0.8087981242399037, max: 1.9203753335750913, avg: 1.3283525358793162\n",
      "2019-12-25 15:55:08,855 INFO Softrank Log Ratio: min: -768.9545700778444, max: 836.9328815510835, avg: 6.645244989303972\n",
      "INFO:weightwatcher.weightwatcher:Softrank Log Ratio: min: -768.9545700778444, max: 836.9328815510835, avg: 6.645244989303972\n",
      "2019-12-25 15:55:08,856 INFO Softrank Log Ratio compound: min: -768.9545700778444, max: 836.9328815510835, avg: 6.645244989303972\n",
      "INFO:weightwatcher.weightwatcher:Softrank Log Ratio compound: min: -768.9545700778444, max: 836.9328815510835, avg: 6.645244989303972\n",
      "2019-12-25 15:55:08,857 INFO Marchenko-Pastur (MP) fit sigma: min: 0.3, max: 0.9661132812500002, avg: 0.4371108948950674\n",
      "INFO:weightwatcher.weightwatcher:Marchenko-Pastur (MP) fit sigma: min: 0.3, max: 0.9661132812500002, avg: 0.4371108948950674\n",
      "2019-12-25 15:55:08,859 INFO Marchenko-Pastur (MP) fit sigma compound: min: 0.3, max: 0.9661132812500002, avg: 0.4371108948950674\n",
      "INFO:weightwatcher.weightwatcher:Marchenko-Pastur (MP) fit sigma compound: min: 0.3, max: 0.9661132812500002, avg: 0.4371108948950674\n",
      "2019-12-25 15:55:08,859 INFO Number of spikes per MP fit: min: 0, max: 638, avg: 31.38235294117647\n",
      "INFO:weightwatcher.weightwatcher:Number of spikes per MP fit: min: 0, max: 638, avg: 31.38235294117647\n",
      "2019-12-25 15:55:08,860 INFO Number of spikes per MP fit compound: min: 0.0, max: 638.0, avg: 31.38235294117647\n",
      "INFO:weightwatcher.weightwatcher:Number of spikes per MP fit compound: min: 0.0, max: 638.0, avg: 31.38235294117647\n",
      "2019-12-25 15:55:08,861 INFO aka, percent_mass, Number of spikes / total number of evals: min: 0.0, max: 0.6386386386386387, avg: 0.1924799743204864\n",
      "INFO:weightwatcher.weightwatcher:aka, percent_mass, Number of spikes / total number of evals: min: 0.0, max: 0.6386386386386387, avg: 0.1924799743204864\n"
     ]
    },
    {
     "name": "stderr",
     "output_type": "stream",
     "text": [
      "2019-12-25 15:55:08,862 INFO aka, percent_mass, Number of spikes / total number of evals compound: min: 0.0, max: 0.6386386386386387, avg: 0.1924799743204864\n",
      "INFO:weightwatcher.weightwatcher:aka, percent_mass, Number of spikes / total number of evals compound: min: 0.0, max: 0.6386386386386387, avg: 0.1924799743204864\n",
      "2019-12-25 15:55:08,863 INFO Softrank for MP fit: min: 0.0050038246812295776, max: 4.139254873000737, avg: 0.3483947014498696\n",
      "INFO:weightwatcher.weightwatcher:Softrank for MP fit: min: 0.0050038246812295776, max: 4.139254873000737, avg: 0.3483947014498696\n",
      "2019-12-25 15:55:08,863 INFO Softrank for MP fit compound: min: 0.0050038246812295776, max: 4.139254873000737, avg: 0.3483947014498696\n",
      "INFO:weightwatcher.weightwatcher:Softrank for MP fit compound: min: 0.0050038246812295776, max: 4.139254873000737, avg: 0.3483947014498696\n"
     ]
    }
   ],
   "source": [
    "all_details = []\n",
    "\n",
    "for im, name in enumerate(all_names):\n",
    "    watcher = ww.WeightWatcher(model=all_models[im])\n",
    "    results = watcher.analyze(alphas=True, softranks=True, spectralnorms=True, mp_fit=True)\n",
    "\n",
    "    details  = watcher.get_details(results=results)\n",
    "    details.drop(columns=['slice', 'slice_count'], inplace=True)\n",
    "    details.dropna(inplace=True)\n",
    "    details['NxM'] = pd.to_numeric(details.N * details.M)\n",
    "\n",
    "    all_details.append(details)"
   ]
  },
  {
   "cell_type": "markdown",
   "metadata": {},
   "source": [
    "### Compare (average log) Complexity Metrics to Actual Test Error"
   ]
  },
  {
   "cell_type": "code",
   "execution_count": null,
   "metadata": {},
   "outputs": [],
   "source": []
  },
  {
   "cell_type": "markdown",
   "metadata": {},
   "source": [
    "### Histogram Plots of Capcity Metrics for all Layers *(and Feature Maps)"
   ]
  },
  {
   "cell_type": "code",
   "execution_count": 31,
   "metadata": {},
   "outputs": [
    {
     "data": {
      "text/plain": [
       "Text(0.5, 0, 'alpha')"
      ]
     },
     "execution_count": 31,
     "metadata": {},
     "output_type": "execute_result"
    },
    {
     "data": {
      "image/png": "[encoded data removed]",
      "text/plain": [
       "<Figure size 432x288 with 1 Axes>"
      ]
     },
     "metadata": {
      "needs_background": "light"
     },
     "output_type": "display_data"
    }
   ],
   "source": [
    "colors = ['blue', 'green', 'teal',  'red']\n",
    "transparency = 1.0\n",
    "for im, details in enumerate(all_details):\n",
    "    alphas = details.alpha.to_numpy()\n",
    "    transparency -= 0.1\n",
    "    \n",
    "    plt.hist(alphas, bins=20, label=all_names[im], alpha=transparency, color=colors[im], density=True)\n",
    "plt.legend()\n",
    "plt.title(\"DensNet alphas\")\n",
    "plt.xlabel(\"alpha\")"
   ]
  },
  {
   "cell_type": "code",
   "execution_count": 32,
   "metadata": {},
   "outputs": [
    {
     "data": {
      "text/plain": [
       "Text(0.5, 0, 'alpha')"
      ]
     },
     "execution_count": 32,
     "metadata": {},
     "output_type": "execute_result"
    },
    {
     "data": {
      "image/png": "[encoded data removed]",
      "text/plain": [
       "<Figure size 432x288 with 1 Axes>"
      ]
     },
     "metadata": {
      "needs_background": "light"
     },
     "output_type": "display_data"
    }
   ],
   "source": [
    "colors = ['blue', 'green', 'teal',  'red']\n",
    "transparency = 1.0\n",
    "for im, details in enumerate(all_details):\n",
    "    if im == 0 or im == 3:\n",
    "        alphas = details.alpha.to_numpy()\n",
    "        transparency -= 0.2\n",
    "\n",
    "        plt.hist(alphas, bins=20, label=all_names[im], alpha=transparency, color=colors[im], density=True)\n",
    "plt.legend()\n",
    "plt.title(\"DensNet alphas\")\n",
    "plt.xlabel(\"alpha\")"
   ]
  },
  {
   "cell_type": "code",
   "execution_count": 33,
   "metadata": {},
   "outputs": [
    {
     "data": {
      "text/plain": [
       "Text(0.5, 0, 'log Frobenius Norm ')"
      ]
     },
     "execution_count": 33,
     "metadata": {},
     "output_type": "execute_result"
    },
    {
     "data": {
      "image/png": "[encoded data removed]",
      "text/plain": [
       "<Figure size 432x288 with 1 Axes>"
      ]
     },
     "metadata": {
      "needs_background": "light"
     },
     "output_type": "display_data"
    }
   ],
   "source": [
    "colors = ['blue', 'green', 'teal',  'red']\n",
    "transparency = 1.0\n",
    "for im, details in enumerate(all_details):\n",
    "    if im == 0 or im == 3:\n",
    "        logNorm = details.lognorm.to_numpy()\n",
    "        transparency -= 0.15\n",
    "\n",
    "        plt.hist(logNorm, bins=100, label=all_names[im], alpha=transparency, color=colors[im], density=True)\n",
    "plt.legend()\n",
    "plt.title(\"DenseNet LogNorm\")\n",
    "plt.xlabel(\"log Frobenius Norm \")"
   ]
  },
  {
   "cell_type": "code",
   "execution_count": 34,
   "metadata": {},
   "outputs": [
    {
     "data": {
      "text/plain": [
       "Text(0.5, 0, 'Log Stable (Soft) Rank')"
      ]
     },
     "execution_count": 34,
     "metadata": {},
     "output_type": "execute_result"
    },
    {
     "data": {
      "image/png": "[encoded data removed]",
      "text/plain": [
       "<Figure size 432x288 with 1 Axes>"
      ]
     },
     "metadata": {
      "needs_background": "light"
     },
     "output_type": "display_data"
    }
   ],
   "source": [
    "colors = ['blue', 'green', 'teal',  'red']\n",
    "transparency = 1.0\n",
    "for im, details in enumerate(all_details):\n",
    "    if im==0 or im == 3:\n",
    "        logNorm = details.softranklog.to_numpy()\n",
    "        transparency -= 0.15\n",
    "\n",
    "        plt.hist(logNorm, bins=100, label=all_names[im], alpha=transparency, color=colors[im], density=True)\n",
    "plt.legend()\n",
    "plt.title(\"Resnet Log Stable Rank\")\n",
    "plt.xlabel(\"Log Stable (Soft) Rank\")"
   ]
  },
  {
   "cell_type": "code",
   "execution_count": 35,
   "metadata": {},
   "outputs": [
    {
     "data": {
      "text/plain": [
       "Text(0.5, 0, 'Log Spectral Norm')"
      ]
     },
     "execution_count": 35,
     "metadata": {},
     "output_type": "execute_result"
    },
    {
     "data": {
      "image/png": "[encoded data removed]",
      "text/plain": [
       "<Figure size 432x288 with 1 Axes>"
      ]
     },
     "metadata": {
      "needs_background": "light"
     },
     "output_type": "display_data"
    }
   ],
   "source": [
    "colors = ['blue', 'green', 'teal',  'red']\n",
    "transparency = 1.0\n",
    "for im, details in enumerate(all_details):\n",
    "    if im==0 or im == 3:\n",
    "        logSpectralNorm = details.softranklog.to_numpy()\n",
    "        transparency -= 0.15\n",
    "\n",
    "        plt.hist(logSpectralNorm, bins=100, label=all_names[im], alpha=transparency, color=colors[im], density=True)\n",
    "plt.legend()\n",
    "plt.title(\"Resnet logSpectralNorm\")\n",
    "plt.xlabel(\"Log Spectral Norm\")"
   ]
  },
  {
   "cell_type": "code",
   "execution_count": null,
   "metadata": {},
   "outputs": [],
   "source": []
  },
  {
   "cell_type": "code",
   "execution_count": 36,
   "metadata": {},
   "outputs": [
    {
     "data": {
      "text/plain": [
       "Text(0.5, 0, 'MP Soft Rank')"
      ]
     },
     "execution_count": 36,
     "metadata": {},
     "output_type": "execute_result"
    },
    {
     "data": {
      "image/png": "[encoded data removed]",
      "text/plain": [
       "<Figure size 432x288 with 1 Axes>"
      ]
     },
     "metadata": {
      "needs_background": "light"
     },
     "output_type": "display_data"
    }
   ],
   "source": [
    "colors = ['blue', 'green', 'teal', 'orange', 'red']\n",
    "transparency = 1.0\n",
    "for im, details in enumerate(all_details):\n",
    "    if im==0 or im == 3:\n",
    "        MpSoftRank = details.softrank_mp.to_numpy()\n",
    "        transparency -= 0.15\n",
    "\n",
    "        plt.hist(MpSoftRank, bins=100, label=all_names[im], alpha=transparency, color=colors[im], density=True)\n",
    "plt.legend()\n",
    "plt.title(\"DenseNet MP Soft Rank\")\n",
    "plt.xlabel(\"MP Soft Rank\")"
   ]
  },
  {
   "cell_type": "code",
   "execution_count": null,
   "metadata": {},
   "outputs": [],
   "source": []
  },
  {
   "cell_type": "code",
   "execution_count": null,
   "metadata": {},
   "outputs": [],
   "source": []
  }
 ],
 "metadata": {
  "kernelspec": {
   "display_name": "Python 3",
   "language": "python",
   "name": "python3"
  },
  "language_info": {
   "codemirror_mode": {
    "name": "ipython",
    "version": 3
   },
   "file_extension": ".py",
   "mimetype": "text/x-python",
   "name": "python",
   "nbconvert_exporter": "python",
   "pygments_lexer": "ipython3",
   "version": "3.7.3"
  }
 },
 "nbformat": 4,
 "nbformat_minor": 2
}
