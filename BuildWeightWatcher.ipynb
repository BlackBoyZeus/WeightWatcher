{
 "cells": [
  {
   "cell_type": "markdown",
   "metadata": {
    "colab_type": "text",
    "id": "view-in-github"
   },
   "source": [
    "<a href=\"https://colab.research.google.com/github/CalculatedContent/WeightWatcher/blob/master/BuildWeightWatcher.ipynb\" target=\"_parent\"><img src=\"https://colab.research.google.com/assets/colab-badge.svg\" alt=\"Open In Colab\"/></a>"
   ]
  },
  {
   "cell_type": "code",
   "execution_count": null,
   "metadata": {
    "colab": {
     "base_uri": "https://localhost:8080/"
    },
    "id": "G1fhIR2qLyqa",
    "outputId": "71f0b97f-af33-4d8c-84bd-b2d618494023"
   },
   "outputs": [
    {
     "name": "stdout",
     "output_type": "stream",
     "text": [
      "Cloning into 'WeightWatcher'...\n",
      "remote: Enumerating objects: 2968, done.\u001b[K\n",
      "remote: Counting objects: 100% (2968/2968), done.\u001b[K\n",
      "remote: Compressing objects: 100% (1008/1008), done.\u001b[K\n",
      "remote: Total 2968 (delta 1971), reused 2946 (delta 1954), pack-reused 0\u001b[K\n",
      "Receiving objects: 100% (2968/2968), 95.12 MiB | 40.52 MiB/s, done.\n",
      "Resolving deltas: 100% (1971/1971), done.\n"
     ]
    }
   ],
   "source": [
    "!git clone https://github.com/CalculatedContent/WeightWatcher.git"
   ]
  },
  {
   "cell_type": "code",
   "execution_count": null,
   "metadata": {
    "colab": {
     "base_uri": "https://localhost:8080/"
    },
    "id": "NPMi2ScqL3nz",
    "outputId": "4c928437-4db8-47ca-e978-931bbe34b08d"
   },
   "outputs": [
    {
     "name": "stdout",
     "output_type": "stream",
     "text": [
      "Looking in indexes: https://pypi.org/simple, https://us-python.pkg.dev/colab-wheels/public/simple/\n",
      "Collecting transformers\n",
      "  Downloading transformers-4.26.0-py3-none-any.whl (6.3 MB)\n",
      "\u001b[2K     \u001b[90m━━━━━━━━━━━━━━━━━━━━━━━━━━━━━━━━━━━━━━━━\u001b[0m \u001b[32m6.3/6.3 MB\u001b[0m \u001b[31m83.3 MB/s\u001b[0m eta \u001b[36m0:00:00\u001b[0m\n",
      "\u001b[?25hRequirement already satisfied: pyyaml>=5.1 in /usr/local/lib/python3.8/dist-packages (from transformers) (6.0)\n",
      "Requirement already satisfied: requests in /usr/local/lib/python3.8/dist-packages (from transformers) (2.25.1)\n",
      "Requirement already satisfied: numpy>=1.17 in /usr/local/lib/python3.8/dist-packages (from transformers) (1.21.6)\n",
      "Requirement already satisfied: packaging>=20.0 in /usr/local/lib/python3.8/dist-packages (from transformers) (23.0)\n",
      "Collecting huggingface-hub<1.0,>=0.11.0\n",
      "  Downloading huggingface_hub-0.12.0-py3-none-any.whl (190 kB)\n",
      "\u001b[2K     \u001b[90m━━━━━━━━━━━━━━━━━━━━━━━━━━━━━━━━━━━━━━\u001b[0m \u001b[32m190.3/190.3 KB\u001b[0m \u001b[31m23.8 MB/s\u001b[0m eta \u001b[36m0:00:00\u001b[0m\n",
      "\u001b[?25hRequirement already satisfied: tqdm>=4.27 in /usr/local/lib/python3.8/dist-packages (from transformers) (4.64.1)\n",
      "Collecting tokenizers!=0.11.3,<0.14,>=0.11.1\n",
      "  Downloading tokenizers-0.13.2-cp38-cp38-manylinux_2_17_x86_64.manylinux2014_x86_64.whl (7.6 MB)\n",
      "\u001b[2K     \u001b[90m━━━━━━━━━━━━━━━━━━━━━━━━━━━━━━━━━━━━━━━━\u001b[0m \u001b[32m7.6/7.6 MB\u001b[0m \u001b[31m107.8 MB/s\u001b[0m eta \u001b[36m0:00:00\u001b[0m\n",
      "\u001b[?25hRequirement already satisfied: filelock in /usr/local/lib/python3.8/dist-packages (from transformers) (3.9.0)\n",
      "Requirement already satisfied: regex!=2019.12.17 in /usr/local/lib/python3.8/dist-packages (from transformers) (2022.6.2)\n",
      "Requirement already satisfied: typing-extensions>=3.7.4.3 in /usr/local/lib/python3.8/dist-packages (from huggingface-hub<1.0,>=0.11.0->transformers) (4.4.0)\n",
      "Requirement already satisfied: chardet<5,>=3.0.2 in /usr/local/lib/python3.8/dist-packages (from requests->transformers) (4.0.0)\n",
      "Requirement already satisfied: idna<3,>=2.5 in /usr/local/lib/python3.8/dist-packages (from requests->transformers) (2.10)\n",
      "Requirement already satisfied: urllib3<1.27,>=1.21.1 in /usr/local/lib/python3.8/dist-packages (from requests->transformers) (1.24.3)\n",
      "Requirement already satisfied: certifi>=2017.4.17 in /usr/local/lib/python3.8/dist-packages (from requests->transformers) (2022.12.7)\n",
      "Installing collected packages: tokenizers, huggingface-hub, transformers\n",
      "Successfully installed huggingface-hub-0.12.0 tokenizers-0.13.2 transformers-4.26.0\n"
     ]
    }
   ],
   "source": [
    "!pip install transformers"
   ]
  },
  {
   "cell_type": "code",
   "execution_count": null,
   "metadata": {
    "colab": {
     "base_uri": "https://localhost:8080/"
    },
    "collapsed": true,
    "id": "qmn7e65AL94c",
    "jupyter": {
     "outputs_hidden": true
    },
    "outputId": "8a7eb63d-6ef4-40bc-9b46-1e7bf0822784",
    "tags": []
   },
   "outputs": [
    {
     "name": "stdout",
     "output_type": "stream",
     "text": [
      "/content/WeightWatcher\n",
      "/usr/local/lib/python3.8/dist-packages/setuptools/dist.py:697: UserWarning: Usage of dash-separated 'description-file' will not be supported in future versions. Please use the underscore name 'description_file' instead\n",
      "  warnings.warn(\n",
      "running build\n",
      "running build_py\n",
      "creating build\n",
      "creating build/lib\n",
      "creating build/lib/weightwatcher\n",
      "copying weightwatcher/weightwatcher.py -> build/lib/weightwatcher\n",
      "copying weightwatcher/__init__.py -> build/lib/weightwatcher\n",
      "copying weightwatcher/constants.py -> build/lib/weightwatcher\n",
      "copying weightwatcher/RMT_Util.py -> build/lib/weightwatcher\n",
      "copying weightwatcher/__main__.py -> build/lib/weightwatcher\n",
      "running egg_info\n",
      "creating weightwatcher.egg-info\n",
      "writing weightwatcher.egg-info/PKG-INFO\n",
      "writing dependency_links to weightwatcher.egg-info/dependency_links.txt\n",
      "writing entry points to weightwatcher.egg-info/entry_points.txt\n",
      "writing requirements to weightwatcher.egg-info/requires.txt\n",
      "writing top-level names to weightwatcher.egg-info/top_level.txt\n",
      "writing manifest file 'weightwatcher.egg-info/SOURCES.txt'\n",
      "reading manifest file 'weightwatcher.egg-info/SOURCES.txt'\n",
      "adding license file 'LICENSE.txt'\n",
      "writing manifest file 'weightwatcher.egg-info/SOURCES.txt'\n",
      "running install\n",
      "running bdist_egg\n",
      "installing library code to build/bdist.linux-x86_64/egg\n",
      "running install_lib\n",
      "creating build/bdist.linux-x86_64\n",
      "creating build/bdist.linux-x86_64/egg\n",
      "creating build/bdist.linux-x86_64/egg/weightwatcher\n",
      "copying build/lib/weightwatcher/weightwatcher.py -> build/bdist.linux-x86_64/egg/weightwatcher\n",
      "copying build/lib/weightwatcher/__init__.py -> build/bdist.linux-x86_64/egg/weightwatcher\n",
      "copying build/lib/weightwatcher/constants.py -> build/bdist.linux-x86_64/egg/weightwatcher\n",
      "copying build/lib/weightwatcher/RMT_Util.py -> build/bdist.linux-x86_64/egg/weightwatcher\n",
      "copying build/lib/weightwatcher/__main__.py -> build/bdist.linux-x86_64/egg/weightwatcher\n",
      "byte-compiling build/bdist.linux-x86_64/egg/weightwatcher/weightwatcher.py to weightwatcher.cpython-38.pyc\n",
      "byte-compiling build/bdist.linux-x86_64/egg/weightwatcher/__init__.py to __init__.cpython-38.pyc\n",
      "byte-compiling build/bdist.linux-x86_64/egg/weightwatcher/constants.py to constants.cpython-38.pyc\n",
      "byte-compiling build/bdist.linux-x86_64/egg/weightwatcher/RMT_Util.py to RMT_Util.cpython-38.pyc\n",
      "byte-compiling build/bdist.linux-x86_64/egg/weightwatcher/__main__.py to __main__.cpython-38.pyc\n",
      "creating build/bdist.linux-x86_64/egg/EGG-INFO\n",
      "copying weightwatcher.egg-info/PKG-INFO -> build/bdist.linux-x86_64/egg/EGG-INFO\n",
      "copying weightwatcher.egg-info/SOURCES.txt -> build/bdist.linux-x86_64/egg/EGG-INFO\n",
      "copying weightwatcher.egg-info/dependency_links.txt -> build/bdist.linux-x86_64/egg/EGG-INFO\n",
      "copying weightwatcher.egg-info/entry_points.txt -> build/bdist.linux-x86_64/egg/EGG-INFO\n",
      "copying weightwatcher.egg-info/requires.txt -> build/bdist.linux-x86_64/egg/EGG-INFO\n",
      "copying weightwatcher.egg-info/top_level.txt -> build/bdist.linux-x86_64/egg/EGG-INFO\n",
      "zip_safe flag not set; analyzing archive contents...\n",
      "creating dist\n",
      "creating 'dist/weightwatcher-0.6.4.1-py3.8.egg' and adding 'build/bdist.linux-x86_64/egg' to it\n",
      "removing 'build/bdist.linux-x86_64/egg' (and everything under it)\n",
      "Processing weightwatcher-0.6.4.1-py3.8.egg\n",
      "Copying weightwatcher-0.6.4.1-py3.8.egg to /usr/local/lib/python3.8/dist-packages\n",
      "Adding weightwatcher 0.6.4.1 to easy-install.pth file\n",
      "Installing weightwatcher script to /usr/local/bin\n",
      "\n",
      "Installed /usr/local/lib/python3.8/dist-packages/weightwatcher-0.6.4.1-py3.8.egg\n",
      "Processing dependencies for weightwatcher==0.6.4.1\n",
      "Searching for powerlaw\n",
      "Reading https://pypi.org/simple/powerlaw/\n",
      "Downloading https://files.pythonhosted.org/packages/e8/26/e0daa306f83d705bc1ed4d6759b7fc945cc787530c230ee1fe299cc28093/powerlaw-1.5-py3-none-any.whl#sha256=633a669573d9fd663d2f452f121117f2d6b2f2c502eca532f9355f733abfec96\n",
      "Best match: powerlaw 1.5\n",
      "Processing powerlaw-1.5-py3-none-any.whl\n",
      "Installing powerlaw-1.5-py3-none-any.whl to /usr/local/lib/python3.8/dist-packages\n",
      "Adding powerlaw 1.5 to easy-install.pth file\n",
      "\n",
      "Installed /usr/local/lib/python3.8/dist-packages/powerlaw-1.5-py3.8.egg\n",
      "Searching for matplotlib-inline\n",
      "Reading https://pypi.org/simple/matplotlib-inline/\n",
      "Downloading https://files.pythonhosted.org/packages/f2/51/c34d7a1d528efaae3d8ddb18ef45a41f284eacf9e514523b191b7d0872cc/matplotlib_inline-0.1.6-py3-none-any.whl#sha256=f1f41aab5328aa5aaea9b16d083b128102f8712542f819fe7e6a420ff581b311\n",
      "Best match: matplotlib-inline 0.1.6\n",
      "Processing matplotlib_inline-0.1.6-py3-none-any.whl\n",
      "Installing matplotlib_inline-0.1.6-py3-none-any.whl to /usr/local/lib/python3.8/dist-packages\n",
      "Adding matplotlib-inline 0.1.6 to easy-install.pth file\n",
      "\n",
      "Installed /usr/local/lib/python3.8/dist-packages/matplotlib_inline-0.1.6-py3.8.egg\n",
      "Searching for tqdm==4.64.1\n",
      "Best match: tqdm 4.64.1\n",
      "Adding tqdm 4.64.1 to easy-install.pth file\n",
      "Installing tqdm script to /usr/local/bin\n",
      "\n",
      "Using /usr/local/lib/python3.8/dist-packages\n",
      "Searching for scikit-learn==1.0.2\n",
      "Best match: scikit-learn 1.0.2\n",
      "Adding scikit-learn 1.0.2 to easy-install.pth file\n",
      "\n",
      "Using /usr/local/lib/python3.8/dist-packages\n",
      "Searching for matplotlib==3.2.2\n",
      "Best match: matplotlib 3.2.2\n",
      "Adding matplotlib 3.2.2 to easy-install.pth file\n",
      "\n",
      "Using /usr/local/lib/python3.8/dist-packages\n",
      "Searching for pandas==1.3.5\n",
      "Best match: pandas 1.3.5\n",
      "Adding pandas 1.3.5 to easy-install.pth file\n",
      "\n",
      "Using /usr/local/lib/python3.8/dist-packages\n",
      "Searching for numpy==1.21.6\n",
      "Best match: numpy 1.21.6\n",
      "Adding numpy 1.21.6 to easy-install.pth file\n",
      "Installing f2py script to /usr/local/bin\n",
      "Installing f2py3 script to /usr/local/bin\n",
      "Installing f2py3.8 script to /usr/local/bin\n",
      "\n",
      "Using /usr/local/lib/python3.8/dist-packages\n",
      "Searching for scipy==1.7.3\n",
      "Best match: scipy 1.7.3\n",
      "Adding scipy 1.7.3 to easy-install.pth file\n",
      "\n",
      "Using /usr/local/lib/python3.8/dist-packages\n",
      "Searching for joblib==1.2.0\n",
      "Best match: joblib 1.2.0\n",
      "Adding joblib 1.2.0 to easy-install.pth file\n",
      "\n",
      "Using /usr/local/lib/python3.8/dist-packages\n",
      "Searching for threadpoolctl==3.1.0\n",
      "Best match: threadpoolctl 3.1.0\n",
      "Adding threadpoolctl 3.1.0 to easy-install.pth file\n",
      "\n",
      "Using /usr/local/lib/python3.8/dist-packages\n",
      "Searching for mpmath==1.2.1\n",
      "Best match: mpmath 1.2.1\n",
      "Adding mpmath 1.2.1 to easy-install.pth file\n",
      "\n",
      "Using /usr/local/lib/python3.8/dist-packages\n",
      "Searching for traitlets==5.7.1\n",
      "Best match: traitlets 5.7.1\n",
      "Adding traitlets 5.7.1 to easy-install.pth file\n",
      "\n",
      "Using /usr/local/lib/python3.8/dist-packages\n",
      "Searching for python-dateutil==2.8.2\n",
      "Best match: python-dateutil 2.8.2\n",
      "Adding python-dateutil 2.8.2 to easy-install.pth file\n",
      "\n",
      "Using /usr/local/lib/python3.8/dist-packages\n",
      "Searching for pyparsing==3.0.9\n",
      "Best match: pyparsing 3.0.9\n",
      "Adding pyparsing 3.0.9 to easy-install.pth file\n",
      "\n",
      "Using /usr/local/lib/python3.8/dist-packages\n",
      "Searching for kiwisolver==1.4.4\n",
      "Best match: kiwisolver 1.4.4\n",
      "Adding kiwisolver 1.4.4 to easy-install.pth file\n",
      "\n",
      "Using /usr/local/lib/python3.8/dist-packages\n",
      "Searching for cycler==0.11.0\n",
      "Best match: cycler 0.11.0\n",
      "Adding cycler 0.11.0 to easy-install.pth file\n",
      "\n",
      "Using /usr/local/lib/python3.8/dist-packages\n",
      "Searching for pytz==2022.7.1\n",
      "Best match: pytz 2022.7.1\n",
      "Adding pytz 2022.7.1 to easy-install.pth file\n",
      "\n",
      "Using /usr/local/lib/python3.8/dist-packages\n",
      "Searching for six==1.15.0\n",
      "Best match: six 1.15.0\n",
      "Adding six 1.15.0 to easy-install.pth file\n",
      "\n",
      "Using /usr/local/lib/python3.8/dist-packages\n",
      "Finished processing dependencies for weightwatcher==0.6.4.1\n"
     ]
    }
   ],
   "source": [
    "%cd WeightWatcher\n",
    "!python setup.py build install "
   ]
  },
  {
   "cell_type": "code",
   "execution_count": 1,
   "metadata": {
    "colab": {
     "background_save": true,
     "base_uri": "https://localhost:8080/"
    },
    "id": "m3qD_XDNMGhL",
    "outputId": "d5357442-ba11-410d-a05e-a1b12768c9d7",
    "tags": []
   },
   "outputs": [
    {
     "name": "stdout",
     "output_type": "stream",
     "text": [
      "2023-02-15 14:35:47.893012: I tensorflow/core/platform/cpu_feature_guard.cc:193] This TensorFlow binary is optimized with oneAPI Deep Neural Network Library (oneDNN) to use the following CPU instructions in performance-critical operations:  SSE4.1 SSE4.2 AVX AVX2 FMA\n",
      "To enable them in other operations, rebuild TensorFlow with the appropriate compiler flags.\n",
      "\n",
      "-------------------------------------\n",
      "In Test_Keras: test_N_ge_M\n",
      "2023-02-15 14:35:51.603395: I tensorflow/core/platform/cpu_feature_guard.cc:193] This TensorFlow binary is optimized with oneAPI Deep Neural Network Library (oneDNN) to use the following CPU instructions in performance-critical operations:  SSE4.1 SSE4.2 AVX AVX2 FMA\n",
      "To enable them in other operations, rebuild TensorFlow with the appropriate compiler flags.\n",
      "2023-02-15 14:35:53.391683: I tensorflow/core/common_runtime/gpu/gpu_device.cc:1613] Created device /job:localhost/replica:0/task:0/device:GPU:0 with 9572 MB memory:  -> device: 0, name: NVIDIA GeForce RTX 3080, pci bus id: 0000:03:00.0, compute capability: 8.6\n",
      "\n",
      "\n",
      "python      version 3.9.12 | packaged by conda-forge | (main, Mar 24 2022, 23:22:55) \n",
      "[GCC 10.3.0]\n",
      "numpy       version 1.23.5\n",
      "tensorflow version 2.11.0\n",
      "keras version 2.11.0\n",
      ".\n",
      "-------------------------------------\n",
      "In Test_Keras: test_basic_columns\n",
      "\n",
      "\n",
      "python      version 3.9.12 | packaged by conda-forge | (main, Mar 24 2022, 23:22:55) \n",
      "[GCC 10.3.0]\n",
      "numpy       version 1.23.5\n",
      "tensorflow version 2.11.0\n",
      "keras version 2.11.0\n",
      ".\n",
      "-------------------------------------\n",
      "In Test_Keras: test_channels_first\n",
      "\n",
      "\n",
      "python      version 3.9.12 | packaged by conda-forge | (main, Mar 24 2022, 23:22:55) \n",
      "[GCC 10.3.0]\n",
      "numpy       version 1.23.5\n",
      "tensorflow version 2.11.0\n",
      "keras version 2.11.0\n",
      ".\n",
      "-------------------------------------\n",
      "In Test_Keras: test_num_layers\n",
      "\n",
      "\n",
      "python      version 3.9.12 | packaged by conda-forge | (main, Mar 24 2022, 23:22:55) \n",
      "[GCC 10.3.0]\n",
      "numpy       version 1.23.5\n",
      "tensorflow version 2.11.0\n",
      "keras version 2.11.0\n",
      "Testing Keras on VGG16\n",
      ".\n",
      "-------------------------------------\n",
      "In Test_Keras: test_num_layers_with_model\n",
      "\n",
      "\n",
      "python      version 3.9.12 | packaged by conda-forge | (main, Mar 24 2022, 23:22:55) \n",
      "[GCC 10.3.0]\n",
      "numpy       version 1.23.5\n",
      "tensorflow version 2.11.0\n",
      "keras version 2.11.0\n",
      "Testing Keras on VGG16\n",
      ".\n",
      "----------------------------------------------------------------------\n",
      "Ran 5 tests in 16.835s\n",
      "\n",
      "OK\n"
     ]
    }
   ],
   "source": [
    "#!python setup.py test\n",
    "!python -m unittest -k Test_Distances -k Test_Keras #These are the ones that use Keras"
   ]
  },
  {
   "cell_type": "code",
   "execution_count": null,
   "metadata": {
    "tags": []
   },
   "outputs": [
    {
     "name": "stdout",
     "output_type": "stream",
     "text": [
      "2023-02-16 14:03:59.592255: I tensorflow/core/platform/cpu_feature_guard.cc:193] This TensorFlow binary is optimized with oneAPI Deep Neural Network Library (oneDNN) to use the following CPU instructions in performance-critical operations:  SSE4.1 SSE4.2 AVX AVX2 FMA\n",
      "To enable them in other operations, rebuild TensorFlow with the appropriate compiler flags.\n",
      "\n",
      "-------------------------------------\n",
      "In Test_VGG11: test_ESD_model_set\n",
      "\n",
      "\n",
      "python      version 3.9.12 | packaged by conda-forge | (main, Mar 24 2022, 23:22:55) \n",
      "[GCC 10.3.0]\n",
      "numpy       version 1.23.5\n",
      "torch version 1.13.1.post200\n",
      "max esd before 60.278518503997944\n",
      "max esd after 60.278518503997944\n",
      ".\n",
      "-------------------------------------\n",
      "In Test_VGG11: test_N_ge_M\n",
      "\n",
      "\n",
      "python      version 3.9.12 | packaged by conda-forge | (main, Mar 24 2022, 23:22:55) \n",
      "[GCC 10.3.0]\n",
      "numpy       version 1.23.5\n",
      "torch version 1.13.1.post200\n",
      ".\n",
      "-------------------------------------\n",
      "In Test_VGG11: test_all_layer_types\n",
      "\n",
      "\n",
      "python      version 3.9.12 | packaged by conda-forge | (main, Mar 24 2022, 23:22:55) \n",
      "[GCC 10.3.0]\n",
      "numpy       version 1.23.5\n",
      "torch version 1.13.1.post200\n",
      ".\n",
      "-------------------------------------\n",
      "In Test_VGG11: test_analyze_columns\n",
      "\n",
      "\n",
      "python      version 3.9.12 | packaged by conda-forge | (main, Mar 24 2022, 23:22:55) \n",
      "[GCC 10.3.0]\n",
      "numpy       version 1.23.5\n",
      "torch version 1.13.1.post200\n",
      "Index(['layer_id', 'name', 'D', 'Lambda', 'M', 'N', 'Q', 'alpha',\n",
      "       'alpha_weighted', 'best_fit', 'entropy', 'fit_entropy', 'has_esd',\n",
      "       'lambda_max', 'layer_type', 'log_alpha_norm', 'log_norm',\n",
      "       'log_spectral_norm', 'longname', 'matrix_rank', 'norm', 'num_evals',\n",
      "       'num_fingers', 'num_pl_spikes', 'rank_loss', 'rf', 'sigma',\n",
      "       'spectral_norm', 'stable_rank', 'sv_max', 'warning', 'weak_rank_loss',\n",
      "       'xmax', 'xmin'],\n",
      "      dtype='object')\n",
      ".\n",
      "-------------------------------------\n",
      "In Test_VGG11: test_analyze_columns_with_model\n",
      "\n",
      "\n",
      "python      version 3.9.12 | packaged by conda-forge | (main, Mar 24 2022, 23:22:55) \n",
      "[GCC 10.3.0]\n",
      "numpy       version 1.23.5\n",
      "torch version 1.13.1.post200\n",
      "Index(['layer_id', 'name', 'D', 'Lambda', 'M', 'N', 'Q', 'alpha',\n",
      "       'alpha_weighted', 'best_fit', 'entropy', 'fit_entropy', 'has_esd',\n",
      "       'lambda_max', 'layer_type', 'log_alpha_norm', 'log_norm',\n",
      "       'log_spectral_norm', 'longname', 'matrix_rank', 'norm', 'num_evals',\n",
      "       'num_fingers', 'num_pl_spikes', 'rank_loss', 'rf', 'sigma',\n",
      "       'spectral_norm', 'stable_rank', 'sv_max', 'warning', 'weak_rank_loss',\n",
      "       'xmax', 'xmin'],\n",
      "      dtype='object')\n",
      ".\n",
      "-------------------------------------\n",
      "In Test_VGG11: test_bad_params\n",
      "\n",
      "\n",
      "python      version 3.9.12 | packaged by conda-forge | (main, Mar 24 2022, 23:22:55) \n",
      "[GCC 10.3.0]\n",
      "numpy       version 1.23.5\n",
      "torch version 1.13.1.post200\n",
      "WARNING:weightwatcher:layer filter ids must be all > 0 or < 0: [-1, 1]\n",
      "ERROR:weightwatcher:Error, params not valid: \n",
      " {'glorot_fix': False, 'normalize': False, 'conv2d_norm': True, 'randomize': True, 'savedir': 'ww-img', 'savefig': 'ww-img', 'rescale': True, 'plot': False, 'deltaEs': False, 'intra': False, 'channels': None, 'conv2d_fft': False, 'ww2x': False, 'vectors': True, 'smooth': None, 'stacked': False, 'svd_method': 'accurate', 'fix_fingers': None, 'fit': 'power_law', 'sparsify': True, 'detX': True, 'mp_fit': False, 'min_evals': 0, 'max_evals': None, 'max_N': 10, 'tolerance': 1e-06, 'layer_ids_start': 0, 'add_biases': False, 'glorot_fit': False, 'layers': [-1, 1]}\n",
      "WARNING:weightwatcher:can not specify ww2x and conv2d_fft\n",
      "ERROR:weightwatcher:Error, params not valid: \n",
      " {'glorot_fix': False, 'normalize': False, 'conv2d_norm': True, 'randomize': True, 'savedir': 'ww-img', 'savefig': 'ww-img', 'rescale': True, 'plot': False, 'deltaEs': False, 'intra': False, 'channels': None, 'conv2d_fft': True, 'ww2x': True, 'vectors': True, 'smooth': None, 'stacked': False, 'svd_method': 'accurate', 'fix_fingers': None, 'fit': 'power_law', 'sparsify': True, 'detX': True, 'mp_fit': False, 'min_evals': 0, 'max_evals': None, 'max_N': 10, 'tolerance': 1e-06, 'layer_ids_start': 0, 'add_biases': False, 'glorot_fit': False, 'layers': []}\n",
      "WARNING:weightwatcher:can not specify intra and conv2d_fft\n",
      "CRITICAL:weightwatcher:Can not set intra=True with randomize=True or vectors=True at this time\n",
      "ERROR:weightwatcher:Error, params not valid: \n",
      " {'glorot_fix': False, 'normalize': False, 'conv2d_norm': True, 'randomize': True, 'savedir': 'ww-img', 'savefig': 'ww-img', 'rescale': True, 'plot': False, 'deltaEs': False, 'intra': True, 'channels': None, 'conv2d_fft': True, 'ww2x': False, 'vectors': True, 'smooth': None, 'stacked': False, 'svd_method': 'accurate', 'fix_fingers': None, 'fit': 'power_law', 'sparsify': True, 'detX': True, 'mp_fit': False, 'min_evals': 0, 'max_evals': None, 'max_N': 10, 'tolerance': 1e-06, 'layer_ids_start': 0, 'add_biases': False, 'glorot_fit': False, 'layers': []}\n",
      "WARNING:weightwatcher:min_evals 100 > max_evals 10\n",
      "ERROR:weightwatcher:Error, params not valid: \n",
      " {'glorot_fix': False, 'normalize': False, 'conv2d_norm': True, 'randomize': True, 'savedir': 'ww-img', 'savefig': 'ww-img', 'rescale': True, 'plot': False, 'deltaEs': False, 'intra': False, 'channels': None, 'conv2d_fft': False, 'ww2x': False, 'vectors': True, 'smooth': None, 'stacked': False, 'svd_method': 'accurate', 'fix_fingers': None, 'fit': 'power_law', 'sparsify': True, 'detX': True, 'mp_fit': False, 'min_evals': 100, 'max_evals': 10, 'max_N': 10, 'tolerance': 1e-06, 'layer_ids_start': 0, 'add_biases': False, 'glorot_fit': False, 'layers': []}\n",
      "ERROR:weightwatcher:Error, params not valid: \n",
      " {'glorot_fix': False, 'normalize': False, 'conv2d_norm': True, 'randomize': True, 'savedir': 'ww-img', 'savefig': -1, 'rescale': True, 'plot': False, 'deltaEs': False, 'intra': False, 'channels': None, 'conv2d_fft': False, 'ww2x': False, 'vectors': True, 'smooth': None, 'stacked': False, 'svd_method': 'accurate', 'fix_fingers': None, 'fit': 'power_law', 'sparsify': True, 'detX': True, 'mp_fit': False, 'min_evals': 0, 'max_evals': None, 'max_N': 10, 'tolerance': 1e-06, 'layer_ids_start': 0, 'add_biases': False, 'glorot_fit': False, 'layers': []}\n",
      ".\n",
      "-------------------------------------\n",
      "In Test_VGG11: test_basic_columns\n",
      "\n",
      "\n",
      "python      version 3.9.12 | packaged by conda-forge | (main, Mar 24 2022, 23:22:55) \n",
      "[GCC 10.3.0]\n",
      "numpy       version 1.23.5\n",
      "torch version 1.13.1.post200\n",
      ".\n",
      "-------------------------------------\n",
      "In Test_VGG11: test_basic_columns_with_model\n"
     ]
    }
   ],
   "source": [
    "!python -m unittest -k Test_VGG11"
   ]
  },
  {
   "cell_type": "code",
   "execution_count": 16,
   "metadata": {
    "tags": []
   },
   "outputs": [
    {
     "name": "stdout",
     "output_type": "stream",
     "text": [
      "2023-02-15 15:48:43.782284: I tensorflow/core/platform/cpu_feature_guard.cc:193] This TensorFlow binary is optimized with oneAPI Deep Neural Network Library (oneDNN) to use the following CPU instructions in performance-critical operations:  SSE4.1 SSE4.2 AVX AVX2 FMA\n",
      "To enable them in other operations, rebuild TensorFlow with the appropriate compiler flags.\n",
      "\n",
      "\n",
      "python      version 3.9.12 | packaged by conda-forge | (main, Mar 24 2022, 23:22:55) \n",
      "[GCC 10.3.0]\n",
      "numpy       version 1.23.5\n",
      "torch version 1.13.1.post200\n",
      ".\n",
      "\n",
      "python      version 3.9.12 | packaged by conda-forge | (main, Mar 24 2022, 23:22:55) \n",
      "[GCC 10.3.0]\n",
      "numpy       version 1.23.5\n",
      "torch version 1.13.1.post200\n",
      ".\n",
      "----------------------------------------------------------------------\n",
      "Ran 2 tests in 0.938s\n",
      "\n",
      "OK\n"
     ]
    }
   ],
   "source": [
    "!python -m unittest -k Test_ResNet"
   ]
  },
  {
   "cell_type": "code",
   "execution_count": 39,
   "metadata": {
    "tags": []
   },
   "outputs": [
    {
     "name": "stdout",
     "output_type": "stream",
     "text": [
      "2023-02-16 12:59:31.651672: I tensorflow/core/platform/cpu_feature_guard.cc:193] This TensorFlow binary is optimized with oneAPI Deep Neural Network Library (oneDNN) to use the following CPU instructions in performance-critical operations:  SSE4.1 SSE4.2 AVX AVX2 FMA\n",
      "To enable them in other operations, rebuild TensorFlow with the appropriate compiler flags.\n",
      "\n",
      "-------------------------------------\n",
      "In TestPlots: testPlots\n",
      "\n",
      "\n",
      "python      version 3.9.12 | packaged by conda-forge | (main, Mar 24 2022, 23:22:55) \n",
      "[GCC 10.3.0]\n",
      "numpy       version 1.23.5\n",
      "torch version 1.13.1.post200\n",
      "Figure(640x480)\n",
      "Figure(640x480)\n",
      "Figure(640x480)\n",
      "Figure(640x480)\n",
      "Figure(640x480)\n",
      "Figure(640x480)\n",
      "Figure(640x480)\n",
      "/darda/WeightWatcher/weightwatcher/RMT_Util.py:139: RuntimeWarning: divide by zero encountered in divide\n",
      "  return x, (1 / (2 * np.pi * sigma * sigma * x * y)) * np.sqrt((b - x) * (x - a))\n",
      "/darda/WeightWatcher/weightwatcher/RMT_Util.py:139: RuntimeWarning: invalid value encountered in sqrt\n",
      "  return x, (1 / (2 * np.pi * sigma * sigma * x * y)) * np.sqrt((b - x) * (x - a))\n",
      "Figure(640x480)\n",
      ".\n",
      "----------------------------------------------------------------------\n",
      "Ran 1 test in 8.274s\n",
      "\n",
      "OK\n"
     ]
    }
   ],
   "source": [
    "!python -m unittest -k TestPlots"
   ]
  },
  {
   "cell_type": "code",
   "execution_count": 15,
   "metadata": {
    "tags": []
   },
   "outputs": [
    {
     "name": "stdout",
     "output_type": "stream",
     "text": [
      "2023-02-15 15:48:38.015653: I tensorflow/core/platform/cpu_feature_guard.cc:193] This TensorFlow binary is optimized with oneAPI Deep Neural Network Library (oneDNN) to use the following CPU instructions in performance-critical operations:  SSE4.1 SSE4.2 AVX AVX2 FMA\n",
      "To enable them in other operations, rebuild TensorFlow with the appropriate compiler flags.\n",
      "\n",
      "-------------------------------------\n",
      "In Test_ResNet: test_combine_weights_and_biases\n",
      ".\n",
      "-------------------------------------\n",
      "In Test_ResNet: test_detX_constraint\n",
      ".\n",
      "-------------------------------------\n",
      "In Test_ResNet: test_line_entropy\n",
      ".\n",
      "-------------------------------------\n",
      "In Test_ResNet: test_permute_matrix\n",
      ".\n",
      "-------------------------------------\n",
      "In Test_ResNet: test_vector_entropy\n",
      ".\n",
      "----------------------------------------------------------------------\n",
      "Ran 5 tests in 0.939s\n",
      "\n",
      "OK\n"
     ]
    }
   ],
   "source": [
    "!python -m unittest -k RMT_Util"
   ]
  },
  {
   "cell_type": "code",
   "execution_count": 7,
   "metadata": {
    "colab": {
     "background_save": true
    },
    "id": "X4_aU-mAMdh9",
    "tags": []
   },
   "outputs": [
    {
     "name": "stdout",
     "output_type": "stream",
     "text": [
      "2023-02-15 15:31:31.422948: I tensorflow/core/platform/cpu_feature_guard.cc:193] This TensorFlow binary is optimized with oneAPI Deep Neural Network Library (oneDNN) to use the following CPU instructions in performance-critical operations:  SSE4.1 SSE4.2 AVX AVX2 FMA\n",
      "To enable them in other operations, rebuild TensorFlow with the appropriate compiler flags.\n",
      "\n",
      "-------------------------------------\n",
      "In Test_Vector_Metrics: test_valid_vectors\n",
      "INFO:weightwatcher:\n",
      "\n",
      "python      version 3.9.12 | packaged by conda-forge | (main, Mar 24 2022, 23:22:55) \n",
      "[GCC 10.3.0]\n",
      "numpy       version 1.23.5\n",
      ".\n",
      "-------------------------------------\n",
      "In Test_Vector_Metrics: test_vector_iterator\n",
      "INFO:weightwatcher:\n",
      "\n",
      "python      version 3.9.12 | packaged by conda-forge | (main, Mar 24 2022, 23:22:55) \n",
      "[GCC 10.3.0]\n",
      "numpy       version 1.23.5\n",
      "v=  [0 1 2 3 4]\n",
      "v=  [0 1 2 3 4]\n",
      "v=  [0 1 2 3 4]\n",
      "v=  [0 1 2 3 4]\n",
      "v=  [0 1 2 3 4]\n",
      "v=  [0 1 2 3 4]\n",
      ".\n",
      "-------------------------------------\n",
      "In Test_Vector_Metrics: test_vector_metrics\n",
      "INFO:weightwatcher:\n",
      "\n",
      "python      version 3.9.12 | packaged by conda-forge | (main, Mar 24 2022, 23:22:55) \n",
      "[GCC 10.3.0]\n",
      "numpy       version 1.23.5\n",
      "/darda/WeightWatcher/weightwatcher/weightwatcher.py:2002: FutureWarning: The default dtype for empty Series will be 'object' instead of 'float64' in a future version. Specify a dtype explicitly to silence this warning.\n",
      "  df.loc[iv] = None\n",
      "   length   entropy  ...  participation_ratio  discete_entropy\n",
      "0     5.0  0.025796  ...             1.262728         1.609438\n",
      "\n",
      "[1 rows x 6 columns]\n",
      ".\n",
      "----------------------------------------------------------------------\n",
      "Ran 3 tests in 0.657s\n",
      "\n",
      "OK\n"
     ]
    }
   ],
   "source": [
    "!python -m unittest -k Test_Vector_Metrics"
   ]
  },
  {
   "cell_type": "code",
   "execution_count": 21,
   "metadata": {
    "tags": []
   },
   "outputs": [
    {
     "name": "stdout",
     "output_type": "stream",
     "text": [
      "2023-02-15 16:02:56.854519: I tensorflow/core/platform/cpu_feature_guard.cc:193] This TensorFlow binary is optimized with oneAPI Deep Neural Network Library (oneDNN) to use the following CPU instructions in performance-critical operations:  SSE4.1 SSE4.2 AVX AVX2 FMA\n",
      "To enable them in other operations, rebuild TensorFlow with the appropriate compiler flags.\n",
      "\n",
      "-------------------------------------\n",
      "In TestPyTorchSVD: test_bad_methods\n",
      ".\n",
      "-------------------------------------\n",
      "In TestPyTorchSVD: test_torch_availability\n",
      "torch is available and cuda is available\n",
      ".\n",
      "-------------------------------------\n",
      "In TestPyTorchSVD: test_torch_linalg\n",
      ".\n",
      "-------------------------------------\n",
      "In TestPyTorchSVD: test_torch_svd\n",
      "\n",
      "\n",
      "python      version 3.9.12 | packaged by conda-forge | (main, Mar 24 2022, 23:22:55) \n",
      "[GCC 10.3.0]\n",
      "numpy       version 1.23.5\n",
      "torch version 1.13.1.post200\n",
      "PyTorch (fast): 7.400102138519287s\n",
      "SciPy (accurate): 38.912583112716675s\n",
      ".\n",
      "----------------------------------------------------------------------\n",
      "Ran 4 tests in 51.684s\n",
      "\n",
      "OK\n"
     ]
    }
   ],
   "source": [
    "!python -m unittest -k TestPyTorchSVD"
   ]
  },
  {
   "cell_type": "code",
   "execution_count": 22,
   "metadata": {
    "tags": []
   },
   "outputs": [
    {
     "name": "stdout",
     "output_type": "stream",
     "text": [
      "2023-02-15 16:03:53.371372: I tensorflow/core/platform/cpu_feature_guard.cc:193] This TensorFlow binary is optimized with oneAPI Deep Neural Network Library (oneDNN) to use the following CPU instructions in performance-critical operations:  SSE4.1 SSE4.2 AVX AVX2 FMA\n",
      "To enable them in other operations, rebuild TensorFlow with the appropriate compiler flags.\n",
      "\n",
      "-------------------------------------\n",
      "In TestPowerLaw: test_PL_speed\n",
      "\n",
      "\n",
      "python      version 3.9.12 | packaged by conda-forge | (main, Mar 24 2022, 23:22:55) \n",
      "[GCC 10.3.0]\n",
      "numpy       version 1.23.5\n",
      "torch version 1.13.1.post200\n",
      "Calculating best minimal value for power law fit\n",
      "WW powerlaw time is 6.07x faster with M = 512\n",
      ".\n",
      "-------------------------------------\n",
      "In TestPowerLaw: test_fit_attributes\n",
      "\n",
      "\n",
      "python      version 3.9.12 | packaged by conda-forge | (main, Mar 24 2022, 23:22:55) \n",
      "[GCC 10.3.0]\n",
      "numpy       version 1.23.5\n",
      "torch version 1.13.1.post200\n",
      ".\n",
      "-------------------------------------\n",
      "In TestPowerLaw: test_fit_clipped_powerlaw\n",
      "\n",
      "\n",
      "python      version 3.9.12 | packaged by conda-forge | (main, Mar 24 2022, 23:22:55) \n",
      "[GCC 10.3.0]\n",
      "numpy       version 1.23.5\n",
      "torch version 1.13.1.post200\n",
      "INFO:RMT_Util:fit_clipped_powerlaw 10 \n",
      "Calculating best minimal value for power law fit\n",
      "Assuming nested distributions\n",
      "INFO:RMT_Util:fit alpha 3.34 sigma 0.28 TPL or PL? 0.3889\n",
      "Assuming nested distributions\n",
      "INFO:RMT_Util:2 fit alpha 3.4706 sigma 0.2996 TPL or PL? 0.6139\n",
      "INFO:RMT_Util:2 fit alpha 3.47 sigma 0.30 TPL or PL? 0.6139\n",
      "Assuming nested distributions\n",
      "INFO:RMT_Util:3 fit alpha 3.5162 sigma 0.2867 TPL or PL? 0.9776\n",
      "INFO:RMT_Util:3 fit alpha 3.52 sigma 0.29 TPL or PL? 0.9776\n",
      "Assuming nested distributions\n",
      "INFO:RMT_Util:4 fit alpha 3.6201 sigma 0.3005 TPL or PL? 1.3240\n",
      "INFO:RMT_Util:4 fit alpha 3.62 sigma 0.30 TPL or PL? 1.3240\n",
      "Assuming nested distributions\n",
      "INFO:RMT_Util:5 fit alpha 3.7025 sigma 0.3121 TPL or PL? 1.3875\n",
      "INFO:RMT_Util:5 fit alpha 3.70 sigma 0.31 TPL or PL? 1.3875\n",
      "Assuming nested distributions\n",
      "INFO:RMT_Util:6 fit alpha 3.7849 sigma 0.3237 TPL or PL? 1.5810\n",
      "INFO:RMT_Util:6 fit alpha 3.78 sigma 0.32 TPL or PL? 1.5810\n",
      "Assuming nested distributions\n",
      "INFO:RMT_Util:7 fit alpha 3.8724 sigma 0.3362 TPL or PL? 1.8496\n",
      "INFO:RMT_Util:7 fit alpha 3.87 sigma 0.34 TPL or PL? 1.8496\n",
      "Assuming nested distributions\n",
      "INFO:RMT_Util:8 fit alpha 3.8567 sigma 0.3299 TPL or PL? 2.4734\n",
      "INFO:RMT_Util:8 fit alpha 3.86 sigma 0.33 TPL or PL? 2.4734\n",
      "Assuming nested distributions\n",
      "INFO:RMT_Util:9 fit alpha 3.9409 sigma 0.3419 TPL or PL? 2.8125\n",
      "INFO:RMT_Util:9 fit alpha 3.94 sigma 0.34 TPL or PL? 2.8125\n",
      "checking alpha\n",
      "INFO:RMT_Util:checking fit 10 xmax 24.6367  alpha 3.94 sigma 0.34\n",
      "/darda/powerlaw/powerlaw.py:1216: RuntimeWarning: overflow encountered in double_scalars\n",
      "  return (self.alpha-1) * self.xmin**(self.alpha-1)\n",
      "/darda/powerlaw/powerlaw.py:855: RuntimeWarning: invalid value encountered in multiply\n",
      "  likelihoods = f*C\n",
      "/home/hman/anaconda3/envs/kaggle/lib/python3.9/site-packages/scipy/optimize/_optimize.py:863: RuntimeWarning: invalid value encountered in subtract\n",
      "  np.max(np.abs(fsim[0] - fsim[1:])) <= fatol):\n",
      "INFO:RMT_Util:checking fit 11 xmax 23.4438  alpha 3.94 sigma 0.34\n",
      "INFO:RMT_Util:checking fit 12 xmax 23.2346  alpha 3.94 sigma 0.34\n",
      ".\n",
      "----------------------------------------------------------------------\n",
      "Ran 3 tests in 18.015s\n",
      "\n",
      "OK\n"
     ]
    }
   ],
   "source": [
    "!python -m unittest -k PowerLaw"
   ]
  },
  {
   "cell_type": "code",
   "execution_count": 20,
   "metadata": {
    "tags": []
   },
   "outputs": [
    {
     "name": "stdout",
     "output_type": "stream",
     "text": [
      "2023-02-15 16:02:09.372776: I tensorflow/core/platform/cpu_feature_guard.cc:193] This TensorFlow binary is optimized with oneAPI Deep Neural Network Library (oneDNN) to use the following CPU instructions in performance-critical operations:  SSE4.1 SSE4.2 AVX AVX2 FMA\n",
      "To enable them in other operations, rebuild TensorFlow with the appropriate compiler flags.\n",
      "\n",
      "-------------------------------------\n",
      "In TestPandas: test_column_names_analyze\n",
      "\n",
      "\n",
      "python      version 3.9.12 | packaged by conda-forge | (main, Mar 24 2022, 23:22:55) \n",
      "[GCC 10.3.0]\n",
      "numpy       version 1.23.5\n",
      "torch version 1.13.1.post200\n",
      ".\n",
      "-------------------------------------\n",
      "In TestPandas: test_column_names_analyze_intra\n",
      "\n",
      "\n",
      "python      version 3.9.12 | packaged by conda-forge | (main, Mar 24 2022, 23:22:55) \n",
      "[GCC 10.3.0]\n",
      "numpy       version 1.23.5\n",
      "torch version 1.13.1.post200\n",
      ".\n",
      "-------------------------------------\n",
      "In TestPandas: test_column_names_analyze_mp_fit\n",
      "\n",
      "\n",
      "python      version 3.9.12 | packaged by conda-forge | (main, Mar 24 2022, 23:22:55) \n",
      "[GCC 10.3.0]\n",
      "numpy       version 1.23.5\n",
      "torch version 1.13.1.post200\n",
      "/darda/WeightWatcher/weightwatcher/RMT_Util.py:139: RuntimeWarning: divide by zero encountered in divide\n",
      "  return x, (1 / (2 * np.pi * sigma * sigma * x * y)) * np.sqrt((b - x) * (x - a))\n",
      "/darda/WeightWatcher/weightwatcher/RMT_Util.py:139: RuntimeWarning: invalid value encountered in sqrt\n",
      "  return x, (1 / (2 * np.pi * sigma * sigma * x * y)) * np.sqrt((b - x) * (x - a))\n",
      ".\n",
      "-------------------------------------\n",
      "In TestPandas: test_column_names_analyze_randomize\n",
      "\n",
      "\n",
      "python      version 3.9.12 | packaged by conda-forge | (main, Mar 24 2022, 23:22:55) \n",
      "[GCC 10.3.0]\n",
      "numpy       version 1.23.5\n",
      "torch version 1.13.1.post200\n",
      "/darda/WeightWatcher/weightwatcher/RMT_Util.py:139: RuntimeWarning: divide by zero encountered in divide\n",
      "  return x, (1 / (2 * np.pi * sigma * sigma * x * y)) * np.sqrt((b - x) * (x - a))\n",
      "/darda/WeightWatcher/weightwatcher/RMT_Util.py:139: RuntimeWarning: invalid value encountered in sqrt\n",
      "  return x, (1 / (2 * np.pi * sigma * sigma * x * y)) * np.sqrt((b - x) * (x - a))\n",
      ".\n",
      "-------------------------------------\n",
      "In TestPandas: test_column_names_describe_basic\n",
      "\n",
      "\n",
      "python      version 3.9.12 | packaged by conda-forge | (main, Mar 24 2022, 23:22:55) \n",
      "[GCC 10.3.0]\n",
      "numpy       version 1.23.5\n",
      "torch version 1.13.1.post200\n",
      ".\n",
      "----------------------------------------------------------------------\n",
      "Ran 5 tests in 8.040s\n",
      "\n",
      "OK\n"
     ]
    }
   ],
   "source": [
    "!python -m unittest -k TestPandas"
   ]
  },
  {
   "cell_type": "markdown",
   "metadata": {
    "id": "4KhAqmYFZvij"
   },
   "source": [
    "### Deploy to test pypi"
   ]
  },
  {
   "cell_type": "code",
   "execution_count": null,
   "metadata": {
    "colab": {
     "base_uri": "https://localhost:8080/"
    },
    "id": "Siilv3JpZu-o",
    "outputId": "95598d4d-ee7b-4730-8bcc-ae6ccb128596"
   },
   "outputs": [
    {
     "name": "stdout",
     "output_type": "stream",
     "text": [
      "Looking in indexes: https://pypi.org/simple, https://us-python.pkg.dev/colab-wheels/public/simple/\n",
      "Requirement already satisfied: setuptools in /usr/local/lib/python3.8/dist-packages (57.4.0)\n",
      "Collecting setuptools\n",
      "  Downloading setuptools-67.1.0-py3-none-any.whl (1.1 MB)\n",
      "\u001b[2K     \u001b[90m━━━━━━━━━━━━━━━━━━━━━━━━━━━━━━━━━━━━━━━━\u001b[0m \u001b[32m1.1/1.1 MB\u001b[0m \u001b[31m16.8 MB/s\u001b[0m eta \u001b[36m0:00:00\u001b[0m\n",
      "\u001b[?25hRequirement already satisfied: wheel in /usr/local/lib/python3.8/dist-packages (0.38.4)\n",
      "Collecting twine\n",
      "  Downloading twine-4.0.2-py3-none-any.whl (36 kB)\n",
      "Collecting pkginfo>=1.8.1\n",
      "  Downloading pkginfo-1.9.6-py3-none-any.whl (30 kB)\n",
      "Requirement already satisfied: requests>=2.20 in /usr/local/lib/python3.8/dist-packages (from twine) (2.25.1)\n",
      "Collecting rfc3986>=1.4.0\n",
      "  Downloading rfc3986-2.0.0-py2.py3-none-any.whl (31 kB)\n",
      "Collecting requests-toolbelt!=0.9.0,>=0.8.0\n",
      "  Downloading requests_toolbelt-0.10.1-py2.py3-none-any.whl (54 kB)\n",
      "\u001b[2K     \u001b[90m━━━━━━━━━━━━━━━━━━━━━━━━━━━━━━━━━━━━━━━━\u001b[0m \u001b[32m54.5/54.5 KB\u001b[0m \u001b[31m6.2 MB/s\u001b[0m eta \u001b[36m0:00:00\u001b[0m\n",
      "\u001b[?25hCollecting rich>=12.0.0\n",
      "  Downloading rich-13.3.1-py3-none-any.whl (239 kB)\n",
      "\u001b[2K     \u001b[90m━━━━━━━━━━━━━━━━━━━━━━━━━━━━━━━━━━━━━━\u001b[0m \u001b[32m239.0/239.0 KB\u001b[0m \u001b[31m19.1 MB/s\u001b[0m eta \u001b[36m0:00:00\u001b[0m\n",
      "\u001b[?25hRequirement already satisfied: importlib-metadata>=3.6 in /usr/local/lib/python3.8/dist-packages (from twine) (6.0.0)\n",
      "Collecting readme-renderer>=35.0\n",
      "  Downloading readme_renderer-37.3-py3-none-any.whl (14 kB)\n",
      "Collecting urllib3>=1.26.0\n",
      "  Downloading urllib3-1.26.14-py2.py3-none-any.whl (140 kB)\n",
      "\u001b[2K     \u001b[90m━━━━━━━━━━━━━━━━━━━━━━━━━━━━━━━━━━━━━━\u001b[0m \u001b[32m140.6/140.6 KB\u001b[0m \u001b[31m14.8 MB/s\u001b[0m eta \u001b[36m0:00:00\u001b[0m\n",
      "\u001b[?25hCollecting keyring>=15.1\n",
      "  Downloading keyring-23.13.1-py3-none-any.whl (37 kB)\n",
      "Requirement already satisfied: zipp>=0.5 in /usr/local/lib/python3.8/dist-packages (from importlib-metadata>=3.6->twine) (3.12.0)\n",
      "Collecting jaraco.classes\n",
      "  Downloading jaraco.classes-3.2.3-py3-none-any.whl (6.0 kB)\n",
      "Requirement already satisfied: importlib-resources in /usr/local/lib/python3.8/dist-packages (from keyring>=15.1->twine) (5.10.2)\n",
      "Collecting SecretStorage>=3.2\n",
      "  Downloading SecretStorage-3.3.3-py3-none-any.whl (15 kB)\n",
      "Collecting jeepney>=0.4.2\n",
      "  Downloading jeepney-0.8.0-py3-none-any.whl (48 kB)\n",
      "\u001b[2K     \u001b[90m━━━━━━━━━━━━━━━━━━━━━━━━━━━━━━━━━━━━━━━━\u001b[0m \u001b[32m48.4/48.4 KB\u001b[0m \u001b[31m4.5 MB/s\u001b[0m eta \u001b[36m0:00:00\u001b[0m\n",
      "\u001b[?25hRequirement already satisfied: docutils>=0.13.1 in /usr/local/lib/python3.8/dist-packages (from readme-renderer>=35.0->twine) (0.16)\n",
      "Requirement already satisfied: bleach>=2.1.0 in /usr/local/lib/python3.8/dist-packages (from readme-renderer>=35.0->twine) (6.0.0)\n",
      "Requirement already satisfied: Pygments>=2.5.1 in /usr/local/lib/python3.8/dist-packages (from readme-renderer>=35.0->twine) (2.6.1)\n",
      "Requirement already satisfied: certifi>=2017.4.17 in /usr/local/lib/python3.8/dist-packages (from requests>=2.20->twine) (2022.12.7)\n",
      "Requirement already satisfied: idna<3,>=2.5 in /usr/local/lib/python3.8/dist-packages (from requests>=2.20->twine) (2.10)\n",
      "Requirement already satisfied: chardet<5,>=3.0.2 in /usr/local/lib/python3.8/dist-packages (from requests>=2.20->twine) (4.0.0)\n",
      "Requirement already satisfied: typing-extensions<5.0,>=4.0.0 in /usr/local/lib/python3.8/dist-packages (from rich>=12.0.0->twine) (4.4.0)\n",
      "Collecting markdown-it-py<3.0.0,>=2.1.0\n",
      "  Downloading markdown_it_py-2.1.0-py3-none-any.whl (84 kB)\n",
      "\u001b[2K     \u001b[90m━━━━━━━━━━━━━━━━━━━━━━━━━━━━━━━━━━━━━━━━\u001b[0m \u001b[32m84.5/84.5 KB\u001b[0m \u001b[31m9.3 MB/s\u001b[0m eta \u001b[36m0:00:00\u001b[0m\n",
      "\u001b[?25hCollecting Pygments>=2.5.1\n",
      "  Downloading Pygments-2.14.0-py3-none-any.whl (1.1 MB)\n",
      "\u001b[2K     \u001b[90m━━━━━━━━━━━━━━━━━━━━━━━━━━━━━━━━━━━━━━━━\u001b[0m \u001b[32m1.1/1.1 MB\u001b[0m \u001b[31m41.1 MB/s\u001b[0m eta \u001b[36m0:00:00\u001b[0m\n",
      "\u001b[?25hRequirement already satisfied: webencodings in /usr/local/lib/python3.8/dist-packages (from bleach>=2.1.0->readme-renderer>=35.0->twine) (0.5.1)\n",
      "Requirement already satisfied: six>=1.9.0 in /usr/local/lib/python3.8/dist-packages (from bleach>=2.1.0->readme-renderer>=35.0->twine) (1.15.0)\n",
      "Collecting mdurl~=0.1\n",
      "  Downloading mdurl-0.1.2-py3-none-any.whl (10.0 kB)\n",
      "Collecting cryptography>=2.0\n",
      "  Downloading cryptography-39.0.0-cp36-abi3-manylinux_2_28_x86_64.whl (4.2 MB)\n",
      "\u001b[2K     \u001b[90m━━━━━━━━━━━━━━━━━━━━━━━━━━━━━━━━━━━━━━━━\u001b[0m \u001b[32m4.2/4.2 MB\u001b[0m \u001b[31m76.0 MB/s\u001b[0m eta \u001b[36m0:00:00\u001b[0m\n",
      "\u001b[?25hRequirement already satisfied: more-itertools in /usr/local/lib/python3.8/dist-packages (from jaraco.classes->keyring>=15.1->twine) (9.0.0)\n",
      "Requirement already satisfied: cffi>=1.12 in /usr/local/lib/python3.8/dist-packages (from cryptography>=2.0->SecretStorage>=3.2->keyring>=15.1->twine) (1.15.1)\n",
      "Requirement already satisfied: pycparser in /usr/local/lib/python3.8/dist-packages (from cffi>=1.12->cryptography>=2.0->SecretStorage>=3.2->keyring>=15.1->twine) (2.21)\n",
      "Installing collected packages: urllib3, setuptools, rfc3986, Pygments, pkginfo, mdurl, jeepney, jaraco.classes, readme-renderer, markdown-it-py, cryptography, SecretStorage, rich, requests-toolbelt, keyring, twine\n",
      "  Attempting uninstall: urllib3\n",
      "    Found existing installation: urllib3 1.24.3\n",
      "    Uninstalling urllib3-1.24.3:\n",
      "      Successfully uninstalled urllib3-1.24.3\n",
      "  Attempting uninstall: setuptools\n",
      "    Found existing installation: setuptools 57.4.0\n",
      "    Uninstalling setuptools-57.4.0:\n",
      "      Successfully uninstalled setuptools-57.4.0\n",
      "  Attempting uninstall: Pygments\n",
      "    Found existing installation: Pygments 2.6.1\n",
      "    Uninstalling Pygments-2.6.1:\n",
      "      Successfully uninstalled Pygments-2.6.1\n",
      "\u001b[31mERROR: pip's dependency resolver does not currently take into account all the packages that are installed. This behaviour is the source of the following dependency conflicts.\n",
      "ipython 7.9.0 requires jedi>=0.10, which is not installed.\n",
      "cvxpy 1.2.3 requires setuptools<=64.0.2, but you have setuptools 67.1.0 which is incompatible.\u001b[0m\u001b[31m\n",
      "\u001b[0mSuccessfully installed Pygments-2.14.0 SecretStorage-3.3.3 cryptography-39.0.0 jaraco.classes-3.2.3 jeepney-0.8.0 keyring-23.13.1 markdown-it-py-2.1.0 mdurl-0.1.2 pkginfo-1.9.6 readme-renderer-37.3 requests-toolbelt-0.10.1 rfc3986-2.0.0 rich-13.3.1 setuptools-67.1.0 twine-4.0.2 urllib3-1.26.14\n",
      "/usr/local/lib/python3.8/dist-packages/setuptools/dist.py:775: UserWarning: Usage of dash-separated 'description-file' will not be supported in future versions. Please use the underscore name 'description_file' instead\n",
      "  warnings.warn(\n",
      "error in weightwatcher setup command: 'python_requires' must be a string containing valid version specifiers; Invalid specifier: '>= 3.3.*'\n",
      "Checking dist/weightwatcher-0.6.4.1-py3.8.egg: \u001b[32mPASSED\u001b[0m\n",
      "weightwatcher-0.6.4.1-py3.8.egg\n"
     ]
    }
   ],
   "source": [
    "!python -m pip install --upgrade setuptools wheel twine\n",
    "!python setup.py sdist bdist_wheel\n",
    "!twine check dist/*\n",
    "!ls dist"
   ]
  },
  {
   "cell_type": "code",
   "execution_count": null,
   "metadata": {
    "id": "vVf89jPdZ8tS"
   },
   "outputs": [],
   "source": [
    "#!twine upload --repository testpypi dist/*\n"
   ]
  },
  {
   "cell_type": "code",
   "execution_count": null,
   "metadata": {
    "colab": {
     "base_uri": "https://localhost:8080/",
     "height": 169
    },
    "id": "6MB-2fulKYiA",
    "outputId": "fd157a27-d39c-49a5-cb1f-b9503d0190fd"
   },
   "outputs": [
    {
     "ename": "NameError",
     "evalue": "ignored",
     "output_type": "error",
     "traceback": [
      "\u001b[0;31m---------------------------------------------------------------------------\u001b[0m",
      "\u001b[0;31mNameError\u001b[0m                                 Traceback (most recent call last)",
      "\u001b[0;32m<ipython-input-7-48a517fe9889>\u001b[0m in \u001b[0;36m<module>\u001b[0;34m\u001b[0m\n\u001b[0;32m----> 1\u001b[0;31m \u001b[0mcharles\u001b[0m\u001b[0;34m\u001b[0m\u001b[0;34m\u001b[0m\u001b[0m\n\u001b[0m",
      "\u001b[0;31mNameError\u001b[0m: name 'charles' is not defined"
     ]
    }
   ],
   "source": [
    "charles"
   ]
  }
 ],
 "metadata": {
  "colab": {
   "authorship_tag": "ABX9TyObaKJ1PL5IPCqxk8Jj45FK",
   "include_colab_link": true,
   "provenance": []
  },
  "kernelspec": {
   "display_name": "Python 3 (ipykernel)",
   "language": "python",
   "name": "python3"
  },
  "language_info": {
   "codemirror_mode": {
    "name": "ipython",
    "version": 3
   },
   "file_extension": ".py",
   "mimetype": "text/x-python",
   "name": "python",
   "nbconvert_exporter": "python",
   "pygments_lexer": "ipython3",
   "version": "3.9.12"
  }
 },
 "nbformat": 4,
 "nbformat_minor": 4
}
