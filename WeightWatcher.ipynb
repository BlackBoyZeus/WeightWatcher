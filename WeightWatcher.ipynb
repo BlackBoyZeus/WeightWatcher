{
 "cells": [
  {
   "cell_type": "markdown",
   "metadata": {},
   "source": [
    "# WeightWatcher  \n",
    "\n",
    "### Basic Functionality\n",
    "\n",
    "https://calculationconsulting.com"
   ]
  },
  {
   "cell_type": "code",
   "execution_count": 1,
   "metadata": {
    "ExecuteTime": {
     "end_time": "2019-03-05T23:51:16.544327Z",
     "start_time": "2019-03-05T23:51:16.531457Z"
    },
    "scrolled": true
   },
   "outputs": [],
   "source": [
    "# Suppress the powerlaw package warnings\n",
    "# \"powerlaw.py:700: RuntimeWarning: divide by zero encountered in true_divide\"\n",
    "# \"powerlaw.py:700: RuntimeWarning: invalid value encountered in true_divide\"\n",
    "import warnings\n",
    "warnings.simplefilter(action='ignore', category=RuntimeWarning)"
   ]
  },
  {
   "cell_type": "code",
   "execution_count": 2,
   "metadata": {},
   "outputs": [],
   "source": [
    "import numpy as np\n",
    "import pandas as pd\n",
    "\n",
    "import matplotlib\n",
    "import matplotlib.pyplot as plt\n",
    "%matplotlib inline"
   ]
  },
  {
   "cell_type": "markdown",
   "metadata": {},
   "source": [
    "## 1. Quick start example"
   ]
  },
  {
   "cell_type": "markdown",
   "metadata": {},
   "source": [
    "### 1.1 Import your model (Keras or PyTorch)"
   ]
  },
  {
   "cell_type": "code",
   "execution_count": 3,
   "metadata": {
    "ExecuteTime": {
     "end_time": "2019-03-05T23:51:48.865394Z",
     "start_time": "2019-03-05T23:51:16.555209Z"
    }
   },
   "outputs": [],
   "source": [
    "import tensorflow \n",
    "from tensorflow.keras.models import load_model\n",
    "from tensorflow.keras.applications import vgg16\n",
    "\n",
    "kmodel = vgg16.VGG16\n",
    "model = kmodel(weights='imagenet')"
   ]
  },
  {
   "cell_type": "markdown",
   "metadata": {},
   "source": [
    "### 1.2 Run WeightWatcher"
   ]
  },
  {
   "cell_type": "code",
   "execution_count": null,
   "metadata": {
    "ExecuteTime": {
     "end_time": "2019-03-05T23:51:54.297463Z",
     "start_time": "2019-03-05T23:51:48.878699Z"
    },
    "scrolled": true
   },
   "outputs": [
    {
     "name": "stderr",
     "output_type": "stream",
     "text": [
      "INFO:weightwatcher:\n",
      "\n",
      "python      version 3.8.5 (default, Sep  4 2020, 02:22:02) \n",
      "[Clang 10.0.0 ]\n",
      "numpy       version 1.18.5\n",
      "tensforflow version 2.3.0\n",
      "keras       version 2.4.0\n",
      "INFO:weightwatcher:params {'glorot_fix': False, 'normalize': False, 'conv2d_norm': True, 'randomize': False, 'min_evals': 0, 'max_evals': None, 'plot': False, 'mp_fit': False, 'ww2x': False}\n",
      "DEBUG:weightwatcher:layer_supported  N 0 max evals None\n",
      "DEBUG:weightwatcher:layer not supported: Layer 0 None has no weights\n",
      "DEBUG:weightwatcher:conv2D_Wmats\n",
      "DEBUG:weightwatcher:Channels First shape detected: 3x64 (NxM), 3x3 (i,j)\n",
      "DEBUG:weightwatcher:get_conv2D_Wmats N=3 M=64 rf= 9 channels = 2\n",
      "DEBUG:weightwatcher:layer_supported  N 3 max evals None\n",
      "INFO:weightwatcher:LAYER: 1 8  : <class 'tensorflow.python.keras.layers.convolutional.Conv2D'>\n",
      "DEBUG:weightwatcher:apply ESD  on Layer 1 None \n",
      "DEBUG:weightwatcher:running SVD on Layer 1 None \n",
      "DEBUG:weightwatcher:params {'glorot_fix': False, 'normalize': False, 'conv2d_norm': True, 'randomize': False, 'min_evals': 0, 'max_evals': None, 'plot': False, 'mp_fit': False, 'ww2x': False} \n",
      "DEBUG:weightwatcher:Running full SVD:  W.shape=(64, 3)  n_comp = 64\n",
      "DEBUG:weightwatcher:Running full SVD:  W.shape=(64, 3)  n_comp = 64\n",
      "DEBUG:weightwatcher:Running full SVD:  W.shape=(64, 3)  n_comp = 64\n",
      "DEBUG:weightwatcher:Running full SVD:  W.shape=(64, 3)  n_comp = 64\n",
      "DEBUG:weightwatcher:Running full SVD:  W.shape=(64, 3)  n_comp = 64\n",
      "DEBUG:weightwatcher:Running full SVD:  W.shape=(64, 3)  n_comp = 64\n",
      "DEBUG:weightwatcher:Running full SVD:  W.shape=(64, 3)  n_comp = 64\n",
      "DEBUG:weightwatcher:Running full SVD:  W.shape=(64, 3)  n_comp = 64\n",
      "DEBUG:weightwatcher:Running full SVD:  W.shape=(64, 3)  n_comp = 64\n",
      "DEBUG:weightwatcher:fitting power law on 27 eigenvalues\n",
      "DEBUG:weightwatcher:conv2D_Wmats\n",
      "DEBUG:weightwatcher:Channels First shape detected: 64x64 (NxM), 3x3 (i,j)\n",
      "DEBUG:weightwatcher:get_conv2D_Wmats N=64 M=64 rf= 9 channels = 2\n",
      "DEBUG:weightwatcher:layer_supported  N 64 max evals None\n",
      "INFO:weightwatcher:LAYER: 2 8  : <class 'tensorflow.python.keras.layers.convolutional.Conv2D'>\n",
      "DEBUG:weightwatcher:apply ESD  on Layer 2 None \n",
      "DEBUG:weightwatcher:running SVD on Layer 2 None \n",
      "DEBUG:weightwatcher:params {'glorot_fix': False, 'normalize': False, 'conv2d_norm': True, 'randomize': False, 'min_evals': 0, 'max_evals': None, 'plot': False, 'mp_fit': False, 'ww2x': False} \n",
      "DEBUG:weightwatcher:Running full SVD:  W.shape=(64, 64)  n_comp = 64\n",
      "DEBUG:weightwatcher:Running full SVD:  W.shape=(64, 64)  n_comp = 64\n",
      "DEBUG:weightwatcher:Running full SVD:  W.shape=(64, 64)  n_comp = 64\n",
      "DEBUG:weightwatcher:Running full SVD:  W.shape=(64, 64)  n_comp = 64\n",
      "DEBUG:weightwatcher:Running full SVD:  W.shape=(64, 64)  n_comp = 64\n",
      "DEBUG:weightwatcher:Running full SVD:  W.shape=(64, 64)  n_comp = 64\n",
      "DEBUG:weightwatcher:Running full SVD:  W.shape=(64, 64)  n_comp = 64\n",
      "DEBUG:weightwatcher:Running full SVD:  W.shape=(64, 64)  n_comp = 64\n",
      "DEBUG:weightwatcher:Running full SVD:  W.shape=(64, 64)  n_comp = 64\n",
      "DEBUG:weightwatcher:fitting power law on 576 eigenvalues\n",
      "DEBUG:weightwatcher:layer_supported  N 0 max evals None\n",
      "DEBUG:weightwatcher:layer not supported: Layer 3 None has no weights\n",
      "DEBUG:weightwatcher:conv2D_Wmats\n",
      "DEBUG:weightwatcher:Channels First shape detected: 64x128 (NxM), 3x3 (i,j)\n",
      "DEBUG:weightwatcher:get_conv2D_Wmats N=64 M=128 rf= 9 channels = 2\n",
      "DEBUG:weightwatcher:layer_supported  N 64 max evals None\n",
      "INFO:weightwatcher:LAYER: 4 8  : <class 'tensorflow.python.keras.layers.convolutional.Conv2D'>\n",
      "DEBUG:weightwatcher:apply ESD  on Layer 4 None \n",
      "DEBUG:weightwatcher:running SVD on Layer 4 None \n",
      "DEBUG:weightwatcher:params {'glorot_fix': False, 'normalize': False, 'conv2d_norm': True, 'randomize': False, 'min_evals': 0, 'max_evals': None, 'plot': False, 'mp_fit': False, 'ww2x': False} \n",
      "DEBUG:weightwatcher:Running full SVD:  W.shape=(128, 64)  n_comp = 128\n",
      "DEBUG:weightwatcher:Running full SVD:  W.shape=(128, 64)  n_comp = 128\n",
      "DEBUG:weightwatcher:Running full SVD:  W.shape=(128, 64)  n_comp = 128\n",
      "DEBUG:weightwatcher:Running full SVD:  W.shape=(128, 64)  n_comp = 128\n",
      "DEBUG:weightwatcher:Running full SVD:  W.shape=(128, 64)  n_comp = 128\n",
      "DEBUG:weightwatcher:Running full SVD:  W.shape=(128, 64)  n_comp = 128\n",
      "DEBUG:weightwatcher:Running full SVD:  W.shape=(128, 64)  n_comp = 128\n",
      "DEBUG:weightwatcher:Running full SVD:  W.shape=(128, 64)  n_comp = 128\n",
      "DEBUG:weightwatcher:Running full SVD:  W.shape=(128, 64)  n_comp = 128\n",
      "DEBUG:weightwatcher:fitting power law on 576 eigenvalues\n",
      "DEBUG:weightwatcher:conv2D_Wmats\n",
      "DEBUG:weightwatcher:Channels First shape detected: 128x128 (NxM), 3x3 (i,j)\n",
      "DEBUG:weightwatcher:get_conv2D_Wmats N=128 M=128 rf= 9 channels = 2\n",
      "DEBUG:weightwatcher:layer_supported  N 128 max evals None\n",
      "INFO:weightwatcher:LAYER: 5 8  : <class 'tensorflow.python.keras.layers.convolutional.Conv2D'>\n",
      "DEBUG:weightwatcher:apply ESD  on Layer 5 None \n",
      "DEBUG:weightwatcher:running SVD on Layer 5 None \n",
      "DEBUG:weightwatcher:params {'glorot_fix': False, 'normalize': False, 'conv2d_norm': True, 'randomize': False, 'min_evals': 0, 'max_evals': None, 'plot': False, 'mp_fit': False, 'ww2x': False} \n",
      "DEBUG:weightwatcher:Running full SVD:  W.shape=(128, 128)  n_comp = 128\n",
      "DEBUG:weightwatcher:Running full SVD:  W.shape=(128, 128)  n_comp = 128\n",
      "DEBUG:weightwatcher:Running full SVD:  W.shape=(128, 128)  n_comp = 128\n",
      "DEBUG:weightwatcher:Running full SVD:  W.shape=(128, 128)  n_comp = 128\n",
      "DEBUG:weightwatcher:Running full SVD:  W.shape=(128, 128)  n_comp = 128\n",
      "DEBUG:weightwatcher:Running full SVD:  W.shape=(128, 128)  n_comp = 128\n",
      "DEBUG:weightwatcher:Running full SVD:  W.shape=(128, 128)  n_comp = 128\n",
      "DEBUG:weightwatcher:Running full SVD:  W.shape=(128, 128)  n_comp = 128\n",
      "DEBUG:weightwatcher:Running full SVD:  W.shape=(128, 128)  n_comp = 128\n",
      "DEBUG:weightwatcher:fitting power law on 1152 eigenvalues\n",
      "DEBUG:weightwatcher:layer_supported  N 0 max evals None\n",
      "DEBUG:weightwatcher:layer not supported: Layer 6 None has no weights\n",
      "DEBUG:weightwatcher:conv2D_Wmats\n",
      "DEBUG:weightwatcher:Channels First shape detected: 128x256 (NxM), 3x3 (i,j)\n",
      "DEBUG:weightwatcher:get_conv2D_Wmats N=128 M=256 rf= 9 channels = 2\n",
      "DEBUG:weightwatcher:layer_supported  N 128 max evals None\n",
      "INFO:weightwatcher:LAYER: 7 8  : <class 'tensorflow.python.keras.layers.convolutional.Conv2D'>\n",
      "DEBUG:weightwatcher:apply ESD  on Layer 7 None \n",
      "DEBUG:weightwatcher:running SVD on Layer 7 None \n",
      "DEBUG:weightwatcher:params {'glorot_fix': False, 'normalize': False, 'conv2d_norm': True, 'randomize': False, 'min_evals': 0, 'max_evals': None, 'plot': False, 'mp_fit': False, 'ww2x': False} \n",
      "DEBUG:weightwatcher:Running full SVD:  W.shape=(256, 128)  n_comp = 256\n",
      "DEBUG:weightwatcher:Running full SVD:  W.shape=(256, 128)  n_comp = 256\n",
      "DEBUG:weightwatcher:Running full SVD:  W.shape=(256, 128)  n_comp = 256\n",
      "DEBUG:weightwatcher:Running full SVD:  W.shape=(256, 128)  n_comp = 256\n",
      "DEBUG:weightwatcher:Running full SVD:  W.shape=(256, 128)  n_comp = 256\n",
      "DEBUG:weightwatcher:Running full SVD:  W.shape=(256, 128)  n_comp = 256\n",
      "DEBUG:weightwatcher:Running full SVD:  W.shape=(256, 128)  n_comp = 256\n",
      "DEBUG:weightwatcher:Running full SVD:  W.shape=(256, 128)  n_comp = 256\n",
      "DEBUG:weightwatcher:Running full SVD:  W.shape=(256, 128)  n_comp = 256\n",
      "DEBUG:weightwatcher:fitting power law on 1152 eigenvalues\n",
      "DEBUG:weightwatcher:conv2D_Wmats\n",
      "DEBUG:weightwatcher:Channels First shape detected: 256x256 (NxM), 3x3 (i,j)\n",
      "DEBUG:weightwatcher:get_conv2D_Wmats N=256 M=256 rf= 9 channels = 2\n",
      "DEBUG:weightwatcher:layer_supported  N 256 max evals None\n",
      "INFO:weightwatcher:LAYER: 8 8  : <class 'tensorflow.python.keras.layers.convolutional.Conv2D'>\n",
      "DEBUG:weightwatcher:apply ESD  on Layer 8 None \n",
      "DEBUG:weightwatcher:running SVD on Layer 8 None \n",
      "DEBUG:weightwatcher:params {'glorot_fix': False, 'normalize': False, 'conv2d_norm': True, 'randomize': False, 'min_evals': 0, 'max_evals': None, 'plot': False, 'mp_fit': False, 'ww2x': False} \n",
      "DEBUG:weightwatcher:Running full SVD:  W.shape=(256, 256)  n_comp = 256\n",
      "DEBUG:weightwatcher:Running full SVD:  W.shape=(256, 256)  n_comp = 256\n",
      "DEBUG:weightwatcher:Running full SVD:  W.shape=(256, 256)  n_comp = 256\n",
      "DEBUG:weightwatcher:Running full SVD:  W.shape=(256, 256)  n_comp = 256\n",
      "DEBUG:weightwatcher:Running full SVD:  W.shape=(256, 256)  n_comp = 256\n"
     ]
    },
    {
     "name": "stderr",
     "output_type": "stream",
     "text": [
      "DEBUG:weightwatcher:Running full SVD:  W.shape=(256, 256)  n_comp = 256\n",
      "DEBUG:weightwatcher:Running full SVD:  W.shape=(256, 256)  n_comp = 256\n",
      "DEBUG:weightwatcher:Running full SVD:  W.shape=(256, 256)  n_comp = 256\n",
      "DEBUG:weightwatcher:Running full SVD:  W.shape=(256, 256)  n_comp = 256\n",
      "DEBUG:weightwatcher:fitting power law on 2304 eigenvalues\n",
      "DEBUG:weightwatcher:conv2D_Wmats\n",
      "DEBUG:weightwatcher:Channels First shape detected: 256x256 (NxM), 3x3 (i,j)\n",
      "DEBUG:weightwatcher:get_conv2D_Wmats N=256 M=256 rf= 9 channels = 2\n",
      "DEBUG:weightwatcher:layer_supported  N 256 max evals None\n",
      "INFO:weightwatcher:LAYER: 9 8  : <class 'tensorflow.python.keras.layers.convolutional.Conv2D'>\n",
      "DEBUG:weightwatcher:apply ESD  on Layer 9 None \n",
      "DEBUG:weightwatcher:running SVD on Layer 9 None \n",
      "DEBUG:weightwatcher:params {'glorot_fix': False, 'normalize': False, 'conv2d_norm': True, 'randomize': False, 'min_evals': 0, 'max_evals': None, 'plot': False, 'mp_fit': False, 'ww2x': False} \n",
      "DEBUG:weightwatcher:Running full SVD:  W.shape=(256, 256)  n_comp = 256\n",
      "DEBUG:weightwatcher:Running full SVD:  W.shape=(256, 256)  n_comp = 256\n",
      "DEBUG:weightwatcher:Running full SVD:  W.shape=(256, 256)  n_comp = 256\n",
      "DEBUG:weightwatcher:Running full SVD:  W.shape=(256, 256)  n_comp = 256\n",
      "DEBUG:weightwatcher:Running full SVD:  W.shape=(256, 256)  n_comp = 256\n",
      "DEBUG:weightwatcher:Running full SVD:  W.shape=(256, 256)  n_comp = 256\n",
      "DEBUG:weightwatcher:Running full SVD:  W.shape=(256, 256)  n_comp = 256\n",
      "DEBUG:weightwatcher:Running full SVD:  W.shape=(256, 256)  n_comp = 256\n",
      "DEBUG:weightwatcher:Running full SVD:  W.shape=(256, 256)  n_comp = 256\n",
      "DEBUG:weightwatcher:fitting power law on 2304 eigenvalues\n",
      "DEBUG:weightwatcher:layer_supported  N 0 max evals None\n",
      "DEBUG:weightwatcher:layer not supported: Layer 10 None has no weights\n",
      "DEBUG:weightwatcher:conv2D_Wmats\n",
      "DEBUG:weightwatcher:Channels First shape detected: 256x512 (NxM), 3x3 (i,j)\n",
      "DEBUG:weightwatcher:get_conv2D_Wmats N=256 M=512 rf= 9 channels = 2\n",
      "DEBUG:weightwatcher:layer_supported  N 256 max evals None\n",
      "INFO:weightwatcher:LAYER: 11 8  : <class 'tensorflow.python.keras.layers.convolutional.Conv2D'>\n",
      "DEBUG:weightwatcher:apply ESD  on Layer 11 None \n",
      "DEBUG:weightwatcher:running SVD on Layer 11 None \n",
      "DEBUG:weightwatcher:params {'glorot_fix': False, 'normalize': False, 'conv2d_norm': True, 'randomize': False, 'min_evals': 0, 'max_evals': None, 'plot': False, 'mp_fit': False, 'ww2x': False} \n",
      "DEBUG:weightwatcher:Running full SVD:  W.shape=(512, 256)  n_comp = 512\n",
      "DEBUG:weightwatcher:Running full SVD:  W.shape=(512, 256)  n_comp = 512\n",
      "DEBUG:weightwatcher:Running full SVD:  W.shape=(512, 256)  n_comp = 512\n",
      "DEBUG:weightwatcher:Running full SVD:  W.shape=(512, 256)  n_comp = 512\n",
      "DEBUG:weightwatcher:Running full SVD:  W.shape=(512, 256)  n_comp = 512\n",
      "DEBUG:weightwatcher:Running full SVD:  W.shape=(512, 256)  n_comp = 512\n",
      "DEBUG:weightwatcher:Running full SVD:  W.shape=(512, 256)  n_comp = 512\n",
      "DEBUG:weightwatcher:Running full SVD:  W.shape=(512, 256)  n_comp = 512\n",
      "DEBUG:weightwatcher:Running full SVD:  W.shape=(512, 256)  n_comp = 512\n",
      "DEBUG:weightwatcher:fitting power law on 2304 eigenvalues\n",
      "DEBUG:weightwatcher:conv2D_Wmats\n",
      "DEBUG:weightwatcher:Channels First shape detected: 512x512 (NxM), 3x3 (i,j)\n",
      "DEBUG:weightwatcher:get_conv2D_Wmats N=512 M=512 rf= 9 channels = 2\n",
      "DEBUG:weightwatcher:layer_supported  N 512 max evals None\n",
      "INFO:weightwatcher:LAYER: 12 8  : <class 'tensorflow.python.keras.layers.convolutional.Conv2D'>\n",
      "DEBUG:weightwatcher:apply ESD  on Layer 12 None \n",
      "DEBUG:weightwatcher:running SVD on Layer 12 None \n",
      "DEBUG:weightwatcher:params {'glorot_fix': False, 'normalize': False, 'conv2d_norm': True, 'randomize': False, 'min_evals': 0, 'max_evals': None, 'plot': False, 'mp_fit': False, 'ww2x': False} \n",
      "DEBUG:weightwatcher:Running full SVD:  W.shape=(512, 512)  n_comp = 512\n",
      "DEBUG:weightwatcher:Running full SVD:  W.shape=(512, 512)  n_comp = 512\n",
      "DEBUG:weightwatcher:Running full SVD:  W.shape=(512, 512)  n_comp = 512\n",
      "DEBUG:weightwatcher:Running full SVD:  W.shape=(512, 512)  n_comp = 512\n",
      "DEBUG:weightwatcher:Running full SVD:  W.shape=(512, 512)  n_comp = 512\n",
      "DEBUG:weightwatcher:Running full SVD:  W.shape=(512, 512)  n_comp = 512\n",
      "DEBUG:weightwatcher:Running full SVD:  W.shape=(512, 512)  n_comp = 512\n",
      "DEBUG:weightwatcher:Running full SVD:  W.shape=(512, 512)  n_comp = 512\n",
      "DEBUG:weightwatcher:Running full SVD:  W.shape=(512, 512)  n_comp = 512\n",
      "DEBUG:weightwatcher:fitting power law on 4608 eigenvalues\n"
     ]
    }
   ],
   "source": [
    "import weightwatcher as ww\n",
    "\n",
    "watcher = ww.WeightWatcher(model=model)\n",
    "details = watcher.analyze()"
   ]
  },
  {
   "cell_type": "code",
   "execution_count": null,
   "metadata": {
    "ExecuteTime": {
     "end_time": "2019-03-05T23:51:54.412503Z",
     "start_time": "2019-03-05T23:51:54.309238Z"
    }
   },
   "outputs": [],
   "source": [
    "details"
   ]
  },
  {
   "cell_type": "code",
   "execution_count": null,
   "metadata": {
    "ExecuteTime": {
     "end_time": "2019-03-05T23:51:54.441885Z",
     "start_time": "2019-03-05T23:51:54.418688Z"
    }
   },
   "outputs": [],
   "source": [
    "watcher.get_summary(details)"
   ]
  },
  {
   "cell_type": "markdown",
   "metadata": {},
   "source": [
    "## 2. Advanced examples"
   ]
  },
  {
   "cell_type": "markdown",
   "metadata": {},
   "source": [
    "## 2.1 Filter by layer type (CONV1D, CONV2D, DENSE)\n",
    "\n",
    "In this example we are interested in the DENSE layers only"
   ]
  },
  {
   "cell_type": "code",
   "execution_count": null,
   "metadata": {
    "ExecuteTime": {
     "end_time": "2019-03-05T23:52:19.042816Z",
     "start_time": "2019-03-05T23:51:54.498749Z"
    },
    "scrolled": true
   },
   "outputs": [],
   "source": [
    "from tensorflow.keras.applications import vgg16\n",
    "\n",
    "kmodel = vgg16.VGG16\n",
    "model = kmodel(weights='imagenet')\n",
    "\n",
    "import weightwatcher as ww\n",
    "\n",
    "watcher = ww.WeightWatcher(model=model)\n",
    "\n",
    "details = watcher.analyze(layers=ww.LAYER_TYPE.DENSE)\n",
    "details"
   ]
  },
  {
   "cell_type": "markdown",
   "metadata": {},
   "source": [
    "## 2.2 Filter by multiple layer types\n",
    "\n",
    "In this example we are interested in the CONV1D and DENSE layers.\n",
    "\n",
    "Filter the layers using a bitmask."
   ]
  },
  {
   "cell_type": "code",
   "execution_count": null,
   "metadata": {
    "ExecuteTime": {
     "end_time": "2019-03-05T23:52:20.812400Z",
     "start_time": "2019-03-05T23:52:19.101208Z"
    }
   },
   "outputs": [],
   "source": [
    "import weightwatcher as ww\n",
    "\n",
    "watcher = ww.WeightWatcher(model=model)\n",
    "\n",
    "details = watcher.analyze(layers=[ww.LAYER_TYPE.CONV1D,ww.LAYER_TYPE.DENSE])\n",
    "details"
   ]
  },
  {
   "cell_type": "markdown",
   "metadata": {},
   "source": [
    "## 2.3 Filter by layer Ids"
   ]
  },
  {
   "cell_type": "code",
   "execution_count": null,
   "metadata": {
    "ExecuteTime": {
     "end_time": "2019-03-05T23:52:22.428909Z",
     "start_time": "2019-03-05T23:52:20.830391Z"
    },
    "scrolled": false
   },
   "outputs": [],
   "source": [
    "import weightwatcher as ww\n",
    "\n",
    "watcher = ww.WeightWatcher(model=model)\n",
    "\n",
    "details = watcher.analyze(layers=[20])\n",
    "details"
   ]
  },
  {
   "cell_type": "markdown",
   "metadata": {
    "ExecuteTime": {
     "end_time": "2018-10-01T22:51:12.554859Z",
     "start_time": "2018-10-01T22:51:12.518859Z"
    }
   },
   "source": [
    "## 2.4 Plots"
   ]
  },
  {
   "cell_type": "code",
   "execution_count": null,
   "metadata": {
    "ExecuteTime": {
     "end_time": "2019-03-06T00:16:38.794143Z",
     "start_time": "2019-03-05T23:52:25.030000Z"
    }
   },
   "outputs": [],
   "source": [
    "import weightwatcher as ww\n",
    "\n",
    "watcher = ww.WeightWatcher(model=model)\n",
    "\n",
    "details = watcher.analyze(plot=True)"
   ]
  },
  {
   "cell_type": "markdown",
   "metadata": {
    "ExecuteTime": {
     "end_time": "2018-10-01T22:51:12.554859Z",
     "start_time": "2018-10-01T22:51:12.518859Z"
    }
   },
   "source": [
    "## 2.5 Debug and Custom Logging"
   ]
  },
  {
   "cell_type": "code",
   "execution_count": null,
   "metadata": {
    "ExecuteTime": {
     "end_time": "2019-03-06T00:16:41.769719Z",
     "start_time": "2019-03-06T00:16:38.803181Z"
    }
   },
   "outputs": [],
   "source": [
    "import logging\n",
    "logging.basicConfig(level=logging.INFO)\n",
    "logger = logging.getLogger(ww.__name__)\n",
    "logger.setLevel(logging.DEBUG)\n",
    "\n",
    "import weightwatcher as ww\n",
    "\n",
    "watcher = ww.WeightWatcher(model=model)\n",
    "\n",
    "details = watcher.analyze()"
   ]
  },
  {
   "cell_type": "markdown",
   "metadata": {},
   "source": [
    "## 3. pyTorch Models"
   ]
  },
  {
   "cell_type": "code",
   "execution_count": null,
   "metadata": {
    "ExecuteTime": {
     "end_time": "2019-03-06T00:40:17.723085Z",
     "start_time": "2019-03-06T00:16:43.259483Z"
    }
   },
   "outputs": [],
   "source": [
    "import weightwatcher as ww\n",
    "import torchvision.models as models\n",
    "\n",
    "model = models.vgg16(pretrained=True)\n",
    "\n",
    "watcher = ww.WeightWatcher(model=model)\n",
    "\n",
    "details = watcher.analyze()\n",
    "summary =  watcher.get_summary(details)"
   ]
  },
  {
   "cell_type": "code",
   "execution_count": null,
   "metadata": {},
   "outputs": [],
   "source": []
  },
  {
   "cell_type": "code",
   "execution_count": null,
   "metadata": {},
   "outputs": [],
   "source": []
  },
  {
   "cell_type": "code",
   "execution_count": null,
   "metadata": {},
   "outputs": [],
   "source": []
  }
 ],
 "metadata": {
  "kernelspec": {
   "display_name": "Python 3",
   "language": "python",
   "name": "python3"
  },
  "language_info": {
   "codemirror_mode": {
    "name": "ipython",
    "version": 3
   },
   "file_extension": ".py",
   "mimetype": "text/x-python",
   "name": "python",
   "nbconvert_exporter": "python",
   "pygments_lexer": "ipython3",
   "version": "3.8.5"
  }
 },
 "nbformat": 4,
 "nbformat_minor": 2
}
