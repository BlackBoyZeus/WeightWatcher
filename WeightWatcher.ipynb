{
 "cells": [
  {
   "cell_type": "markdown",
   "metadata": {},
   "source": [
    "# WeightWatcher\n",
    "\n",
    "https://calculationconsulting.com"
   ]
  },
  {
   "cell_type": "code",
   "execution_count": 1,
   "metadata": {
    "ExecuteTime": {
     "end_time": "2019-03-05T23:51:16.544327Z",
     "start_time": "2019-03-05T23:51:16.531457Z"
    },
    "scrolled": true
   },
   "outputs": [],
   "source": [
    "# Suppress the powerlaw package warnings\n",
    "# \"powerlaw.py:700: RuntimeWarning: divide by zero encountered in true_divide\"\n",
    "# \"powerlaw.py:700: RuntimeWarning: invalid value encountered in true_divide\"\n",
    "import warnings\n",
    "warnings.simplefilter(action='ignore', category=RuntimeWarning)"
   ]
  },
  {
   "cell_type": "markdown",
   "metadata": {},
   "source": [
    "## 1. Quick start example"
   ]
  },
  {
   "cell_type": "markdown",
   "metadata": {},
   "source": [
    "### 1.1 Import your model (Keras or PyTorch)"
   ]
  },
  {
   "cell_type": "code",
   "execution_count": 2,
   "metadata": {
    "ExecuteTime": {
     "end_time": "2019-03-05T23:51:48.865394Z",
     "start_time": "2019-03-05T23:51:16.555209Z"
    }
   },
   "outputs": [
    {
     "name": "stderr",
     "output_type": "stream",
     "text": [
      "Using TensorFlow backend.\n"
     ]
    }
   ],
   "source": [
    "from keras.models import load_model\n",
    "from keras.applications import vgg16\n",
    "\n",
    "kmodel = vgg16.VGG16\n",
    "model = kmodel(weights='imagenet')"
   ]
  },
  {
   "cell_type": "markdown",
   "metadata": {},
   "source": [
    "### 1.2 Run WeightWatcher"
   ]
  },
  {
   "cell_type": "code",
   "execution_count": 3,
   "metadata": {
    "ExecuteTime": {
     "end_time": "2019-03-05T23:51:54.297463Z",
     "start_time": "2019-03-05T23:51:48.878699Z"
    },
    "scrolled": true
   },
   "outputs": [
    {
     "name": "stderr",
     "output_type": "stream",
     "text": [
      "2019-03-05 15:51:49,844 INFO \n",
      "WeightWatcher v0.1.2 by Calculation Consulting\n",
      "Analyze weight matrices of Deep Neural Networks\n",
      "https://calculationconsulting.com/\n",
      "python      version 3.6.7 |Anaconda, Inc.| (default, Oct 23 2018, 14:01:38) \n",
      "[GCC 4.2.1 Compatible Clang 4.0.1 (tags/RELEASE_401/final)]\n",
      "numpy       version 1.15.4\n",
      "tensforflow version 1.12.0\n",
      "keras       version 2.2.4\n",
      "2019-03-05 15:51:49,848 INFO Analyzing model 'vgg16' with 23 layers\n",
      "2019-03-05 15:51:54,239 INFO ### Printing results ###\n",
      "2019-03-05 15:51:54,244 INFO LogNorm: min: 0.3889707922935486, max: 1.3697518110275269, avg: 0.5674788951873779\n",
      "2019-03-05 15:51:54,247 INFO LogNorm compound: min: 0.43449219730165267, max: 1.3697518110275269, avg: 0.6947275543654406\n"
     ]
    }
   ],
   "source": [
    "import weightwatcher as ww\n",
    "\n",
    "watcher = ww.WeightWatcher(model=model)\n",
    "\n",
    "results = watcher.analyze()"
   ]
  },
  {
   "cell_type": "code",
   "execution_count": 4,
   "metadata": {
    "ExecuteTime": {
     "end_time": "2019-03-05T23:51:54.412503Z",
     "start_time": "2019-03-05T23:51:54.309238Z"
    }
   },
   "outputs": [
    {
     "data": {
      "text/plain": [
       "{0: {'id': 0,\n",
       "  'type': <keras.engine.input_layer.InputLayer at 0x111b08f28>,\n",
       "  'message': 'Skipping (Layer not supported)'},\n",
       " 1: {'layer_type': <LAYER_TYPE.CONV2D: 4>,\n",
       "  0: {'N': 64,\n",
       "   'M': 3,\n",
       "   'Q': 21.333333333333332,\n",
       "   'summary': 'Weight matrix 1/9 (3,64): Skipping: too small (<50)'},\n",
       "  1: {'N': 64,\n",
       "   'M': 3,\n",
       "   'Q': 21.333333333333332,\n",
       "   'summary': 'Weight matrix 2/9 (3,64): Skipping: too small (<50)'},\n",
       "  2: {'N': 64,\n",
       "   'M': 3,\n",
       "   'Q': 21.333333333333332,\n",
       "   'summary': 'Weight matrix 3/9 (3,64): Skipping: too small (<50)'},\n",
       "  3: {'N': 64,\n",
       "   'M': 3,\n",
       "   'Q': 21.333333333333332,\n",
       "   'summary': 'Weight matrix 4/9 (3,64): Skipping: too small (<50)'},\n",
       "  4: {'N': 64,\n",
       "   'M': 3,\n",
       "   'Q': 21.333333333333332,\n",
       "   'summary': 'Weight matrix 5/9 (3,64): Skipping: too small (<50)'},\n",
       "  5: {'N': 64,\n",
       "   'M': 3,\n",
       "   'Q': 21.333333333333332,\n",
       "   'summary': 'Weight matrix 6/9 (3,64): Skipping: too small (<50)'},\n",
       "  6: {'N': 64,\n",
       "   'M': 3,\n",
       "   'Q': 21.333333333333332,\n",
       "   'summary': 'Weight matrix 7/9 (3,64): Skipping: too small (<50)'},\n",
       "  7: {'N': 64,\n",
       "   'M': 3,\n",
       "   'Q': 21.333333333333332,\n",
       "   'summary': 'Weight matrix 8/9 (3,64): Skipping: too small (<50)'},\n",
       "  8: {'N': 64,\n",
       "   'M': 3,\n",
       "   'Q': 21.333333333333332,\n",
       "   'summary': 'Weight matrix 9/9 (3,64): Skipping: too small (<50)'}},\n",
       " 2: {'layer_type': <LAYER_TYPE.CONV2D: 4>,\n",
       "  0: {'N': 64,\n",
       "   'M': 64,\n",
       "   'Q': 1.0,\n",
       "   'lognorm': 0.39789346,\n",
       "   'summary': 'Weight matrix 1/9 (64,64): Lognorm: 0.3978934586048126'},\n",
       "  1: {'N': 64,\n",
       "   'M': 64,\n",
       "   'Q': 1.0,\n",
       "   'lognorm': 0.45358703,\n",
       "   'summary': 'Weight matrix 2/9 (64,64): Lognorm: 0.45358702540397644'},\n",
       "  2: {'N': 64,\n",
       "   'M': 64,\n",
       "   'Q': 1.0,\n",
       "   'lognorm': 0.40578145,\n",
       "   'summary': 'Weight matrix 3/9 (64,64): Lognorm: 0.40578144788742065'},\n",
       "  3: {'N': 64,\n",
       "   'M': 64,\n",
       "   'Q': 1.0,\n",
       "   'lognorm': 0.4542867,\n",
       "   'summary': 'Weight matrix 4/9 (64,64): Lognorm: 0.45428669452667236'},\n",
       "  4: {'N': 64,\n",
       "   'M': 64,\n",
       "   'Q': 1.0,\n",
       "   'lognorm': 0.49695152,\n",
       "   'summary': 'Weight matrix 5/9 (64,64): Lognorm: 0.49695152044296265'},\n",
       "  5: {'N': 64,\n",
       "   'M': 64,\n",
       "   'Q': 1.0,\n",
       "   'lognorm': 0.45737624,\n",
       "   'summary': 'Weight matrix 6/9 (64,64): Lognorm: 0.45737624168395996'},\n",
       "  6: {'N': 64,\n",
       "   'M': 64,\n",
       "   'Q': 1.0,\n",
       "   'lognorm': 0.4044672,\n",
       "   'summary': 'Weight matrix 7/9 (64,64): Lognorm: 0.4044671952724457'},\n",
       "  7: {'N': 64,\n",
       "   'M': 64,\n",
       "   'Q': 1.0,\n",
       "   'lognorm': 0.4511154,\n",
       "   'summary': 'Weight matrix 8/9 (64,64): Lognorm: 0.4511153995990753'},\n",
       "  8: {'N': 64,\n",
       "   'M': 64,\n",
       "   'Q': 1.0,\n",
       "   'lognorm': 0.3889708,\n",
       "   'summary': 'Weight matrix 9/9 (64,64): Lognorm: 0.3889707922935486'}},\n",
       " 3: {'id': 3,\n",
       "  'type': <keras.layers.pooling.MaxPooling2D at 0xb3e016828>,\n",
       "  'message': 'Skipping (Layer not supported)'},\n",
       " 4: {'layer_type': <LAYER_TYPE.CONV2D: 4>,\n",
       "  0: {'N': 128,\n",
       "   'M': 64,\n",
       "   'Q': 2.0,\n",
       "   'lognorm': 0.44109997,\n",
       "   'summary': 'Weight matrix 1/9 (64,128): Lognorm: 0.44109997153282166'},\n",
       "  1: {'N': 128,\n",
       "   'M': 64,\n",
       "   'Q': 2.0,\n",
       "   'lognorm': 0.4613628,\n",
       "   'summary': 'Weight matrix 2/9 (64,128): Lognorm: 0.4613628089427948'},\n",
       "  2: {'N': 128,\n",
       "   'M': 64,\n",
       "   'Q': 2.0,\n",
       "   'lognorm': 0.4370166,\n",
       "   'summary': 'Weight matrix 3/9 (64,128): Lognorm: 0.4370166063308716'},\n",
       "  3: {'N': 128,\n",
       "   'M': 64,\n",
       "   'Q': 2.0,\n",
       "   'lognorm': 0.46676606,\n",
       "   'summary': 'Weight matrix 4/9 (64,128): Lognorm: 0.4667660593986511'},\n",
       "  4: {'N': 128,\n",
       "   'M': 64,\n",
       "   'Q': 2.0,\n",
       "   'lognorm': 0.520141,\n",
       "   'summary': 'Weight matrix 5/9 (64,128): Lognorm: 0.5201410055160522'},\n",
       "  5: {'N': 128,\n",
       "   'M': 64,\n",
       "   'Q': 2.0,\n",
       "   'lognorm': 0.46935534,\n",
       "   'summary': 'Weight matrix 6/9 (64,128): Lognorm: 0.46935534477233887'},\n",
       "  6: {'N': 128,\n",
       "   'M': 64,\n",
       "   'Q': 2.0,\n",
       "   'lognorm': 0.44646657,\n",
       "   'summary': 'Weight matrix 7/9 (64,128): Lognorm: 0.4464665651321411'},\n",
       "  7: {'N': 128,\n",
       "   'M': 64,\n",
       "   'Q': 2.0,\n",
       "   'lognorm': 0.4816162,\n",
       "   'summary': 'Weight matrix 8/9 (64,128): Lognorm: 0.48161619901657104'},\n",
       "  8: {'N': 128,\n",
       "   'M': 64,\n",
       "   'Q': 2.0,\n",
       "   'lognorm': 0.44716227,\n",
       "   'summary': 'Weight matrix 9/9 (64,128): Lognorm: 0.4471622705459595'}},\n",
       " 5: {'layer_type': <LAYER_TYPE.CONV2D: 4>,\n",
       "  0: {'N': 128,\n",
       "   'M': 128,\n",
       "   'Q': 1.0,\n",
       "   'lognorm': 0.45507872,\n",
       "   'summary': 'Weight matrix 1/9 (128,128): Lognorm: 0.45507872104644775'},\n",
       "  1: {'N': 128,\n",
       "   'M': 128,\n",
       "   'Q': 1.0,\n",
       "   'lognorm': 0.4839083,\n",
       "   'summary': 'Weight matrix 2/9 (128,128): Lognorm: 0.4839082956314087'},\n",
       "  2: {'N': 128,\n",
       "   'M': 128,\n",
       "   'Q': 1.0,\n",
       "   'lognorm': 0.4593983,\n",
       "   'summary': 'Weight matrix 3/9 (128,128): Lognorm: 0.4593982994556427'},\n",
       "  3: {'N': 128,\n",
       "   'M': 128,\n",
       "   'Q': 1.0,\n",
       "   'lognorm': 0.48676983,\n",
       "   'summary': 'Weight matrix 4/9 (128,128): Lognorm: 0.48676982522010803'},\n",
       "  4: {'N': 128,\n",
       "   'M': 128,\n",
       "   'Q': 1.0,\n",
       "   'lognorm': 0.53291214,\n",
       "   'summary': 'Weight matrix 5/9 (128,128): Lognorm: 0.5329121351242065'},\n",
       "  5: {'N': 128,\n",
       "   'M': 128,\n",
       "   'Q': 1.0,\n",
       "   'lognorm': 0.48645312,\n",
       "   'summary': 'Weight matrix 6/9 (128,128): Lognorm: 0.486453115940094'},\n",
       "  6: {'N': 128,\n",
       "   'M': 128,\n",
       "   'Q': 1.0,\n",
       "   'lognorm': 0.45559958,\n",
       "   'summary': 'Weight matrix 7/9 (128,128): Lognorm: 0.4555995762348175'},\n",
       "  7: {'N': 128,\n",
       "   'M': 128,\n",
       "   'Q': 1.0,\n",
       "   'lognorm': 0.488598,\n",
       "   'summary': 'Weight matrix 8/9 (128,128): Lognorm: 0.4885979890823364'},\n",
       "  8: {'N': 128,\n",
       "   'M': 128,\n",
       "   'Q': 1.0,\n",
       "   'lognorm': 0.4497568,\n",
       "   'summary': 'Weight matrix 9/9 (128,128): Lognorm: 0.44975680112838745'}},\n",
       " 6: {'id': 6,\n",
       "  'type': <keras.layers.pooling.MaxPooling2D at 0xb3e080128>,\n",
       "  'message': 'Skipping (Layer not supported)'},\n",
       " 7: {'layer_type': <LAYER_TYPE.CONV2D: 4>,\n",
       "  0: {'N': 256,\n",
       "   'M': 128,\n",
       "   'Q': 2.0,\n",
       "   'lognorm': 0.43310282,\n",
       "   'summary': 'Weight matrix 1/9 (128,256): Lognorm: 0.4331028163433075'},\n",
       "  1: {'N': 256,\n",
       "   'M': 128,\n",
       "   'Q': 2.0,\n",
       "   'lognorm': 0.5019003,\n",
       "   'summary': 'Weight matrix 2/9 (128,256): Lognorm: 0.501900315284729'},\n",
       "  2: {'N': 256,\n",
       "   'M': 128,\n",
       "   'Q': 2.0,\n",
       "   'lognorm': 0.43583414,\n",
       "   'summary': 'Weight matrix 3/9 (128,256): Lognorm: 0.435834139585495'},\n",
       "  3: {'N': 256,\n",
       "   'M': 128,\n",
       "   'Q': 2.0,\n",
       "   'lognorm': 0.517344,\n",
       "   'summary': 'Weight matrix 4/9 (128,256): Lognorm: 0.5173439979553223'},\n",
       "  4: {'N': 256,\n",
       "   'M': 128,\n",
       "   'Q': 2.0,\n",
       "   'lognorm': 0.63087475,\n",
       "   'summary': 'Weight matrix 5/9 (128,256): Lognorm: 0.630874752998352'},\n",
       "  5: {'N': 256,\n",
       "   'M': 128,\n",
       "   'Q': 2.0,\n",
       "   'lognorm': 0.51378876,\n",
       "   'summary': 'Weight matrix 6/9 (128,256): Lognorm: 0.5137887597084045'},\n",
       "  6: {'N': 256,\n",
       "   'M': 128,\n",
       "   'Q': 2.0,\n",
       "   'lognorm': 0.43129745,\n",
       "   'summary': 'Weight matrix 7/9 (128,256): Lognorm: 0.4312974512577057'},\n",
       "  7: {'N': 256,\n",
       "   'M': 128,\n",
       "   'Q': 2.0,\n",
       "   'lognorm': 0.49971062,\n",
       "   'summary': 'Weight matrix 8/9 (128,256): Lognorm: 0.4997106194496155'},\n",
       "  8: {'N': 256,\n",
       "   'M': 128,\n",
       "   'Q': 2.0,\n",
       "   'lognorm': 0.42677346,\n",
       "   'summary': 'Weight matrix 9/9 (128,256): Lognorm: 0.42677345871925354'}},\n",
       " 8: {'layer_type': <LAYER_TYPE.CONV2D: 4>,\n",
       "  0: {'N': 256,\n",
       "   'M': 256,\n",
       "   'Q': 1.0,\n",
       "   'lognorm': 0.46118113,\n",
       "   'summary': 'Weight matrix 1/9 (256,256): Lognorm: 0.4611811339855194'},\n",
       "  1: {'N': 256,\n",
       "   'M': 256,\n",
       "   'Q': 1.0,\n",
       "   'lognorm': 0.51032805,\n",
       "   'summary': 'Weight matrix 2/9 (256,256): Lognorm: 0.5103280544281006'},\n",
       "  2: {'N': 256,\n",
       "   'M': 256,\n",
       "   'Q': 1.0,\n",
       "   'lognorm': 0.46348104,\n",
       "   'summary': 'Weight matrix 3/9 (256,256): Lognorm: 0.46348103880882263'},\n",
       "  3: {'N': 256,\n",
       "   'M': 256,\n",
       "   'Q': 1.0,\n",
       "   'lognorm': 0.50432014,\n",
       "   'summary': 'Weight matrix 4/9 (256,256): Lognorm: 0.5043201446533203'},\n",
       "  4: {'N': 256,\n",
       "   'M': 256,\n",
       "   'Q': 1.0,\n",
       "   'lognorm': 0.59390163,\n",
       "   'summary': 'Weight matrix 5/9 (256,256): Lognorm: 0.5939016342163086'},\n",
       "  5: {'N': 256,\n",
       "   'M': 256,\n",
       "   'Q': 1.0,\n",
       "   'lognorm': 0.5075632,\n",
       "   'summary': 'Weight matrix 6/9 (256,256): Lognorm: 0.5075631737709045'},\n",
       "  6: {'N': 256,\n",
       "   'M': 256,\n",
       "   'Q': 1.0,\n",
       "   'lognorm': 0.45727992,\n",
       "   'summary': 'Weight matrix 7/9 (256,256): Lognorm: 0.45727992057800293'},\n",
       "  7: {'N': 256,\n",
       "   'M': 256,\n",
       "   'Q': 1.0,\n",
       "   'lognorm': 0.50171673,\n",
       "   'summary': 'Weight matrix 8/9 (256,256): Lognorm: 0.5017167329788208'},\n",
       "  8: {'N': 256,\n",
       "   'M': 256,\n",
       "   'Q': 1.0,\n",
       "   'lognorm': 0.46121,\n",
       "   'summary': 'Weight matrix 9/9 (256,256): Lognorm: 0.4612100124359131'}},\n",
       " 9: {'layer_type': <LAYER_TYPE.CONV2D: 4>,\n",
       "  0: {'N': 256,\n",
       "   'M': 256,\n",
       "   'Q': 1.0,\n",
       "   'lognorm': 0.47670922,\n",
       "   'summary': 'Weight matrix 1/9 (256,256): Lognorm: 0.4767092168331146'},\n",
       "  1: {'N': 256,\n",
       "   'M': 256,\n",
       "   'Q': 1.0,\n",
       "   'lognorm': 0.5228332,\n",
       "   'summary': 'Weight matrix 2/9 (256,256): Lognorm: 0.5228332281112671'},\n",
       "  2: {'N': 256,\n",
       "   'M': 256,\n",
       "   'Q': 1.0,\n",
       "   'lognorm': 0.48029712,\n",
       "   'summary': 'Weight matrix 3/9 (256,256): Lognorm: 0.48029711842536926'},\n",
       "  3: {'N': 256,\n",
       "   'M': 256,\n",
       "   'Q': 1.0,\n",
       "   'lognorm': 0.5129597,\n",
       "   'summary': 'Weight matrix 4/9 (256,256): Lognorm: 0.5129597187042236'},\n",
       "  4: {'N': 256,\n",
       "   'M': 256,\n",
       "   'Q': 1.0,\n",
       "   'lognorm': 0.5902463,\n",
       "   'summary': 'Weight matrix 5/9 (256,256): Lognorm: 0.590246319770813'},\n",
       "  5: {'N': 256,\n",
       "   'M': 256,\n",
       "   'Q': 1.0,\n",
       "   'lognorm': 0.5248453,\n",
       "   'summary': 'Weight matrix 6/9 (256,256): Lognorm: 0.52484530210495'},\n",
       "  6: {'N': 256,\n",
       "   'M': 256,\n",
       "   'Q': 1.0,\n",
       "   'lognorm': 0.4757029,\n",
       "   'summary': 'Weight matrix 7/9 (256,256): Lognorm: 0.4757029116153717'},\n",
       "  7: {'N': 256,\n",
       "   'M': 256,\n",
       "   'Q': 1.0,\n",
       "   'lognorm': 0.51532584,\n",
       "   'summary': 'Weight matrix 8/9 (256,256): Lognorm: 0.5153258442878723'},\n",
       "  8: {'N': 256,\n",
       "   'M': 256,\n",
       "   'Q': 1.0,\n",
       "   'lognorm': 0.47830805,\n",
       "   'summary': 'Weight matrix 9/9 (256,256): Lognorm: 0.4783080518245697'}},\n",
       " 10: {'id': 10,\n",
       "  'type': <keras.layers.pooling.MaxPooling2D at 0xb3e1001d0>,\n",
       "  'message': 'Skipping (Layer not supported)'},\n",
       " 11: {'layer_type': <LAYER_TYPE.CONV2D: 4>,\n",
       "  0: {'N': 512,\n",
       "   'M': 256,\n",
       "   'Q': 2.0,\n",
       "   'lognorm': 0.5331174,\n",
       "   'summary': 'Weight matrix 1/9 (256,512): Lognorm: 0.533117413520813'},\n",
       "  1: {'N': 512,\n",
       "   'M': 256,\n",
       "   'Q': 2.0,\n",
       "   'lognorm': 0.5677252,\n",
       "   'summary': 'Weight matrix 2/9 (256,512): Lognorm: 0.5677251815795898'},\n",
       "  2: {'N': 512,\n",
       "   'M': 256,\n",
       "   'Q': 2.0,\n",
       "   'lognorm': 0.53577656,\n",
       "   'summary': 'Weight matrix 3/9 (256,512): Lognorm: 0.5357765555381775'},\n",
       "  3: {'N': 512,\n",
       "   'M': 256,\n",
       "   'Q': 2.0,\n",
       "   'lognorm': 0.56807745,\n",
       "   'summary': 'Weight matrix 4/9 (256,512): Lognorm: 0.5680774450302124'},\n",
       "  4: {'N': 512,\n",
       "   'M': 256,\n",
       "   'Q': 2.0,\n",
       "   'lognorm': 0.64031804,\n",
       "   'summary': 'Weight matrix 5/9 (256,512): Lognorm: 0.6403180360794067'},\n",
       "  5: {'N': 512,\n",
       "   'M': 256,\n",
       "   'Q': 2.0,\n",
       "   'lognorm': 0.56515014,\n",
       "   'summary': 'Weight matrix 6/9 (256,512): Lognorm: 0.5651501417160034'},\n",
       "  6: {'N': 512,\n",
       "   'M': 256,\n",
       "   'Q': 2.0,\n",
       "   'lognorm': 0.5288752,\n",
       "   'summary': 'Weight matrix 7/9 (256,512): Lognorm: 0.5288751721382141'},\n",
       "  7: {'N': 512,\n",
       "   'M': 256,\n",
       "   'Q': 2.0,\n",
       "   'lognorm': 0.5627536,\n",
       "   'summary': 'Weight matrix 8/9 (256,512): Lognorm: 0.5627536177635193'},\n",
       "  8: {'N': 512,\n",
       "   'M': 256,\n",
       "   'Q': 2.0,\n",
       "   'lognorm': 0.526333,\n",
       "   'summary': 'Weight matrix 9/9 (256,512): Lognorm: 0.5263329744338989'}},\n",
       " 12: {'layer_type': <LAYER_TYPE.CONV2D: 4>,\n",
       "  0: {'N': 512,\n",
       "   'M': 512,\n",
       "   'Q': 1.0,\n",
       "   'lognorm': 0.5816662,\n",
       "   'summary': 'Weight matrix 1/9 (512,512): Lognorm: 0.5816661715507507'},\n",
       "  1: {'N': 512,\n",
       "   'M': 512,\n",
       "   'Q': 1.0,\n",
       "   'lognorm': 0.599459,\n",
       "   'summary': 'Weight matrix 2/9 (512,512): Lognorm: 0.5994589924812317'},\n",
       "  2: {'N': 512,\n",
       "   'M': 512,\n",
       "   'Q': 1.0,\n",
       "   'lognorm': 0.5804641,\n",
       "   'summary': 'Weight matrix 3/9 (512,512): Lognorm: 0.5804641246795654'},\n",
       "  3: {'N': 512,\n",
       "   'M': 512,\n",
       "   'Q': 1.0,\n",
       "   'lognorm': 0.5878162,\n",
       "   'summary': 'Weight matrix 4/9 (512,512): Lognorm: 0.5878161787986755'},\n",
       "  4: {'N': 512,\n",
       "   'M': 512,\n",
       "   'Q': 1.0,\n",
       "   'lognorm': 0.6349807,\n",
       "   'summary': 'Weight matrix 5/9 (512,512): Lognorm: 0.6349806785583496'},\n",
       "  5: {'N': 512,\n",
       "   'M': 512,\n",
       "   'Q': 1.0,\n",
       "   'lognorm': 0.5888811,\n",
       "   'summary': 'Weight matrix 6/9 (512,512): Lognorm: 0.5888810753822327'},\n",
       "  6: {'N': 512,\n",
       "   'M': 512,\n",
       "   'Q': 1.0,\n",
       "   'lognorm': 0.57779706,\n",
       "   'summary': 'Weight matrix 7/9 (512,512): Lognorm: 0.5777970552444458'},\n",
       "  7: {'N': 512,\n",
       "   'M': 512,\n",
       "   'Q': 1.0,\n",
       "   'lognorm': 0.5947224,\n",
       "   'summary': 'Weight matrix 8/9 (512,512): Lognorm: 0.5947223901748657'},\n",
       "  8: {'N': 512,\n",
       "   'M': 512,\n",
       "   'Q': 1.0,\n",
       "   'lognorm': 0.57866377,\n",
       "   'summary': 'Weight matrix 9/9 (512,512): Lognorm: 0.5786637663841248'}},\n",
       " 13: {'layer_type': <LAYER_TYPE.CONV2D: 4>,\n",
       "  0: {'N': 512,\n",
       "   'M': 512,\n",
       "   'Q': 1.0,\n",
       "   'lognorm': 0.5988106,\n",
       "   'summary': 'Weight matrix 1/9 (512,512): Lognorm: 0.598810613155365'},\n",
       "  1: {'N': 512,\n",
       "   'M': 512,\n",
       "   'Q': 1.0,\n",
       "   'lognorm': 0.6240572,\n",
       "   'summary': 'Weight matrix 2/9 (512,512): Lognorm: 0.6240571737289429'},\n",
       "  2: {'N': 512,\n",
       "   'M': 512,\n",
       "   'Q': 1.0,\n",
       "   'lognorm': 0.60022944,\n",
       "   'summary': 'Weight matrix 3/9 (512,512): Lognorm: 0.6002294421195984'},\n",
       "  3: {'N': 512,\n",
       "   'M': 512,\n",
       "   'Q': 1.0,\n",
       "   'lognorm': 0.60692656,\n",
       "   'summary': 'Weight matrix 4/9 (512,512): Lognorm: 0.6069265604019165'},\n",
       "  4: {'N': 512,\n",
       "   'M': 512,\n",
       "   'Q': 1.0,\n",
       "   'lognorm': 0.6537208,\n",
       "   'summary': 'Weight matrix 5/9 (512,512): Lognorm: 0.6537207961082458'},\n",
       "  5: {'N': 512,\n",
       "   'M': 512,\n",
       "   'Q': 1.0,\n",
       "   'lognorm': 0.60511047,\n",
       "   'summary': 'Weight matrix 6/9 (512,512): Lognorm: 0.6051104664802551'},\n",
       "  6: {'N': 512,\n",
       "   'M': 512,\n",
       "   'Q': 1.0,\n",
       "   'lognorm': 0.59665924,\n",
       "   'summary': 'Weight matrix 7/9 (512,512): Lognorm: 0.596659243106842'},\n",
       "  7: {'N': 512,\n",
       "   'M': 512,\n",
       "   'Q': 1.0,\n",
       "   'lognorm': 0.6204672,\n",
       "   'summary': 'Weight matrix 8/9 (512,512): Lognorm: 0.6204671859741211'},\n",
       "  8: {'N': 512,\n",
       "   'M': 512,\n",
       "   'Q': 1.0,\n",
       "   'lognorm': 0.5969996,\n",
       "   'summary': 'Weight matrix 9/9 (512,512): Lognorm: 0.5969995856285095'}},\n",
       " 14: {'id': 14,\n",
       "  'type': <keras.layers.pooling.MaxPooling2D at 0xb3e17e1d0>,\n",
       "  'message': 'Skipping (Layer not supported)'},\n",
       " 15: {'layer_type': <LAYER_TYPE.CONV2D: 4>,\n",
       "  0: {'N': 512,\n",
       "   'M': 512,\n",
       "   'Q': 1.0,\n",
       "   'lognorm': 0.6414387,\n",
       "   'summary': 'Weight matrix 1/9 (512,512): Lognorm: 0.6414387226104736'},\n",
       "  1: {'N': 512,\n",
       "   'M': 512,\n",
       "   'Q': 1.0,\n",
       "   'lognorm': 0.65848255,\n",
       "   'summary': 'Weight matrix 2/9 (512,512): Lognorm: 0.658482551574707'},\n",
       "  2: {'N': 512,\n",
       "   'M': 512,\n",
       "   'Q': 1.0,\n",
       "   'lognorm': 0.6415495,\n",
       "   'summary': 'Weight matrix 3/9 (512,512): Lognorm: 0.6415495276451111'},\n",
       "  3: {'N': 512,\n",
       "   'M': 512,\n",
       "   'Q': 1.0,\n",
       "   'lognorm': 0.6379083,\n",
       "   'summary': 'Weight matrix 4/9 (512,512): Lognorm: 0.6379082798957825'},\n",
       "  4: {'N': 512,\n",
       "   'M': 512,\n",
       "   'Q': 1.0,\n",
       "   'lognorm': 0.69306207,\n",
       "   'summary': 'Weight matrix 5/9 (512,512): Lognorm: 0.6930620670318604'},\n",
       "  5: {'N': 512,\n",
       "   'M': 512,\n",
       "   'Q': 1.0,\n",
       "   'lognorm': 0.6355615,\n",
       "   'summary': 'Weight matrix 6/9 (512,512): Lognorm: 0.6355615258216858'},\n",
       "  6: {'N': 512,\n",
       "   'M': 512,\n",
       "   'Q': 1.0,\n",
       "   'lognorm': 0.6379796,\n",
       "   'summary': 'Weight matrix 7/9 (512,512): Lognorm: 0.6379796266555786'},\n",
       "  7: {'N': 512,\n",
       "   'M': 512,\n",
       "   'Q': 1.0,\n",
       "   'lognorm': 0.6546916,\n",
       "   'summary': 'Weight matrix 8/9 (512,512): Lognorm: 0.6546915769577026'},\n",
       "  8: {'N': 512,\n",
       "   'M': 512,\n",
       "   'Q': 1.0,\n",
       "   'lognorm': 0.6379216,\n",
       "   'summary': 'Weight matrix 9/9 (512,512): Lognorm: 0.6379215717315674'}},\n",
       " 16: {'layer_type': <LAYER_TYPE.CONV2D: 4>,\n",
       "  0: {'N': 512,\n",
       "   'M': 512,\n",
       "   'Q': 1.0,\n",
       "   'lognorm': 0.6483021,\n",
       "   'summary': 'Weight matrix 1/9 (512,512): Lognorm: 0.6483020782470703'},\n",
       "  1: {'N': 512,\n",
       "   'M': 512,\n",
       "   'Q': 1.0,\n",
       "   'lognorm': 0.6716189,\n",
       "   'summary': 'Weight matrix 2/9 (512,512): Lognorm: 0.6716188788414001'},\n",
       "  2: {'N': 512,\n",
       "   'M': 512,\n",
       "   'Q': 1.0,\n",
       "   'lognorm': 0.6487487,\n",
       "   'summary': 'Weight matrix 3/9 (512,512): Lognorm: 0.6487486958503723'},\n",
       "  3: {'N': 512,\n",
       "   'M': 512,\n",
       "   'Q': 1.0,\n",
       "   'lognorm': 0.6313163,\n",
       "   'summary': 'Weight matrix 4/9 (512,512): Lognorm: 0.6313163042068481'},\n",
       "  4: {'N': 512,\n",
       "   'M': 512,\n",
       "   'Q': 1.0,\n",
       "   'lognorm': 0.6901614,\n",
       "   'summary': 'Weight matrix 5/9 (512,512): Lognorm: 0.690161406993866'},\n",
       "  5: {'N': 512,\n",
       "   'M': 512,\n",
       "   'Q': 1.0,\n",
       "   'lognorm': 0.6324495,\n",
       "   'summary': 'Weight matrix 6/9 (512,512): Lognorm: 0.6324495077133179'},\n",
       "  6: {'N': 512,\n",
       "   'M': 512,\n",
       "   'Q': 1.0,\n",
       "   'lognorm': 0.64357775,\n",
       "   'summary': 'Weight matrix 7/9 (512,512): Lognorm: 0.6435777544975281'},\n",
       "  7: {'N': 512,\n",
       "   'M': 512,\n",
       "   'Q': 1.0,\n",
       "   'lognorm': 0.6643065,\n",
       "   'summary': 'Weight matrix 8/9 (512,512): Lognorm: 0.6643065214157104'},\n",
       "  8: {'N': 512,\n",
       "   'M': 512,\n",
       "   'Q': 1.0,\n",
       "   'lognorm': 0.64264107,\n",
       "   'summary': 'Weight matrix 9/9 (512,512): Lognorm: 0.6426410675048828'}},\n",
       " 17: {'layer_type': <LAYER_TYPE.CONV2D: 4>,\n",
       "  0: {'N': 512,\n",
       "   'M': 512,\n",
       "   'Q': 1.0,\n",
       "   'lognorm': 0.6312969,\n",
       "   'summary': 'Weight matrix 1/9 (512,512): Lognorm: 0.6312968730926514'},\n",
       "  1: {'N': 512,\n",
       "   'M': 512,\n",
       "   'Q': 1.0,\n",
       "   'lognorm': 0.6557008,\n",
       "   'summary': 'Weight matrix 2/9 (512,512): Lognorm: 0.6557008028030396'},\n",
       "  2: {'N': 512,\n",
       "   'M': 512,\n",
       "   'Q': 1.0,\n",
       "   'lognorm': 0.6303039,\n",
       "   'summary': 'Weight matrix 3/9 (512,512): Lognorm: 0.6303039193153381'},\n",
       "  3: {'N': 512,\n",
       "   'M': 512,\n",
       "   'Q': 1.0,\n",
       "   'lognorm': 0.62993187,\n",
       "   'summary': 'Weight matrix 4/9 (512,512): Lognorm: 0.6299318671226501'},\n",
       "  4: {'N': 512,\n",
       "   'M': 512,\n",
       "   'Q': 1.0,\n",
       "   'lognorm': 0.6738649,\n",
       "   'summary': 'Weight matrix 5/9 (512,512): Lognorm: 0.6738649010658264'},\n",
       "  5: {'N': 512,\n",
       "   'M': 512,\n",
       "   'Q': 1.0,\n",
       "   'lognorm': 0.6266793,\n",
       "   'summary': 'Weight matrix 6/9 (512,512): Lognorm: 0.6266793012619019'},\n",
       "  6: {'N': 512,\n",
       "   'M': 512,\n",
       "   'Q': 1.0,\n",
       "   'lognorm': 0.63024,\n",
       "   'summary': 'Weight matrix 7/9 (512,512): Lognorm: 0.6302400231361389'},\n",
       "  7: {'N': 512,\n",
       "   'M': 512,\n",
       "   'Q': 1.0,\n",
       "   'lognorm': 0.6563602,\n",
       "   'summary': 'Weight matrix 8/9 (512,512): Lognorm: 0.6563602089881897'},\n",
       "  8: {'N': 512,\n",
       "   'M': 512,\n",
       "   'Q': 1.0,\n",
       "   'lognorm': 0.6300157,\n",
       "   'summary': 'Weight matrix 9/9 (512,512): Lognorm: 0.6300156712532043'}},\n",
       " 18: {'id': 18,\n",
       "  'type': <keras.layers.pooling.MaxPooling2D at 0xb3e1fd1d0>,\n",
       "  'message': 'Skipping (Layer not supported)'},\n",
       " 19: {'id': 19,\n",
       "  'type': <keras.layers.core.Flatten at 0xb3e1fde10>,\n",
       "  'message': 'Skipping (Layer not supported)'},\n",
       " 20: {'id': 20,\n",
       "  'type': <keras.layers.core.Dense at 0xb3e21acc0>,\n",
       "  'layer_type': <LAYER_TYPE.DENSE: 1>,\n",
       "  0: {'N': 25088,\n",
       "   'M': 4096,\n",
       "   'Q': 6.125,\n",
       "   'lognorm': 1.3697518,\n",
       "   'summary': 'Weight matrix 1/1 (4096,25088): Lognorm: 1.3697518110275269'}},\n",
       " 21: {'id': 21,\n",
       "  'type': <keras.layers.core.Dense at 0xb3e23afd0>,\n",
       "  'layer_type': <LAYER_TYPE.DENSE: 1>,\n",
       "  0: {'N': 4096,\n",
       "   'M': 4096,\n",
       "   'Q': 1.0,\n",
       "   'lognorm': 1.2557974,\n",
       "   'summary': 'Weight matrix 1/1 (4096,4096): Lognorm: 1.2557973861694336'}},\n",
       " 22: {'id': 22,\n",
       "  'type': <keras.layers.core.Dense at 0xb3e25ec18>,\n",
       "  'layer_type': <LAYER_TYPE.DENSE: 1>,\n",
       "  0: {'N': 4096,\n",
       "   'M': 1000,\n",
       "   'Q': 4.096,\n",
       "   'lognorm': 1.224209,\n",
       "   'summary': 'Weight matrix 1/1 (1000,4096): Lognorm: 1.224208950996399'}}}"
      ]
     },
     "execution_count": 4,
     "metadata": {},
     "output_type": "execute_result"
    }
   ],
   "source": [
    "results"
   ]
  },
  {
   "cell_type": "code",
   "execution_count": 5,
   "metadata": {
    "ExecuteTime": {
     "end_time": "2019-03-05T23:51:54.441885Z",
     "start_time": "2019-03-05T23:51:54.418688Z"
    }
   },
   "outputs": [
    {
     "data": {
      "text/plain": [
       "{'lognorm': 0.5674789, 'lognorm_compound': 0.6947275543654406}"
      ]
     },
     "execution_count": 5,
     "metadata": {},
     "output_type": "execute_result"
    }
   ],
   "source": [
    "watcher.get_summary()"
   ]
  },
  {
   "cell_type": "code",
   "execution_count": 6,
   "metadata": {
    "ExecuteTime": {
     "end_time": "2019-03-05T23:51:54.487413Z",
     "start_time": "2019-03-05T23:51:54.454110Z"
    },
    "scrolled": true
   },
   "outputs": [
    {
     "name": "stderr",
     "output_type": "stream",
     "text": [
      "2019-03-05 15:51:54,461 INFO ### Printing results ###\n",
      "2019-03-05 15:51:54,470 INFO LogNorm: min: 0.3889707922935486, max: 1.3697518110275269, avg: 0.5674788951873779\n",
      "2019-03-05 15:51:54,474 INFO LogNorm compound: min: 0.43449219730165267, max: 1.3697518110275269, avg: 0.6947275543654406\n"
     ]
    }
   ],
   "source": [
    "watcher.print_results()"
   ]
  },
  {
   "cell_type": "markdown",
   "metadata": {},
   "source": [
    "## 2. Advanced examples"
   ]
  },
  {
   "cell_type": "markdown",
   "metadata": {},
   "source": [
    "## 2.1 Filter by layer type (CONV1D, CONV2D, DENSE)\n",
    "\n",
    "In this example we are interested in the DENSE layers only"
   ]
  },
  {
   "cell_type": "code",
   "execution_count": 7,
   "metadata": {
    "ExecuteTime": {
     "end_time": "2019-03-05T23:52:19.042816Z",
     "start_time": "2019-03-05T23:51:54.498749Z"
    },
    "scrolled": true
   },
   "outputs": [
    {
     "name": "stderr",
     "output_type": "stream",
     "text": [
      "2019-03-05 15:52:17,323 INFO \n",
      "WeightWatcher v0.1.2 by Calculation Consulting\n",
      "Analyze weight matrices of Deep Neural Networks\n",
      "https://calculationconsulting.com/\n",
      "python      version 3.6.7 |Anaconda, Inc.| (default, Oct 23 2018, 14:01:38) \n",
      "[GCC 4.2.1 Compatible Clang 4.0.1 (tags/RELEASE_401/final)]\n",
      "numpy       version 1.15.4\n",
      "tensforflow version 1.12.0\n",
      "keras       version 2.2.4\n",
      "2019-03-05 15:52:17,326 INFO Analyzing model 'vgg16' with 23 layers\n",
      "2019-03-05 15:52:19,001 INFO ### Printing results ###\n",
      "2019-03-05 15:52:19,004 INFO LogNorm: min: 1.224208950996399, max: 1.3697518110275269, avg: 1.2832527160644531\n",
      "2019-03-05 15:52:19,009 INFO LogNorm compound: min: 1.224208950996399, max: 1.3697518110275269, avg: 1.2832527160644531\n"
     ]
    },
    {
     "data": {
      "text/plain": [
       "{0: {'id': 0,\n",
       "  'type': <keras.engine.input_layer.InputLayer at 0xb465a47b8>,\n",
       "  'message': 'Skipping (Layer not supported)'},\n",
       " 1: {'layer_type': <LAYER_TYPE.CONV2D: 4>,\n",
       "  'message': 'Skipping (Layer type not requested to analyze)'},\n",
       " 2: {'layer_type': <LAYER_TYPE.CONV2D: 4>,\n",
       "  'message': 'Skipping (Layer type not requested to analyze)'},\n",
       " 3: {'id': 3,\n",
       "  'type': <keras.layers.pooling.MaxPooling2D at 0xb465f04e0>,\n",
       "  'message': 'Skipping (Layer not supported)'},\n",
       " 4: {'layer_type': <LAYER_TYPE.CONV2D: 4>,\n",
       "  'message': 'Skipping (Layer type not requested to analyze)'},\n",
       " 5: {'layer_type': <LAYER_TYPE.CONV2D: 4>,\n",
       "  'message': 'Skipping (Layer type not requested to analyze)'},\n",
       " 6: {'id': 6,\n",
       "  'type': <keras.layers.pooling.MaxPooling2D at 0xb4a8709b0>,\n",
       "  'message': 'Skipping (Layer not supported)'},\n",
       " 7: {'layer_type': <LAYER_TYPE.CONV2D: 4>,\n",
       "  'message': 'Skipping (Layer type not requested to analyze)'},\n",
       " 8: {'layer_type': <LAYER_TYPE.CONV2D: 4>,\n",
       "  'message': 'Skipping (Layer type not requested to analyze)'},\n",
       " 9: {'layer_type': <LAYER_TYPE.CONV2D: 4>,\n",
       "  'message': 'Skipping (Layer type not requested to analyze)'},\n",
       " 10: {'id': 10,\n",
       "  'type': <keras.layers.pooling.MaxPooling2D at 0xb4a90c4a8>,\n",
       "  'message': 'Skipping (Layer not supported)'},\n",
       " 11: {'layer_type': <LAYER_TYPE.CONV2D: 4>,\n",
       "  'message': 'Skipping (Layer type not requested to analyze)'},\n",
       " 12: {'layer_type': <LAYER_TYPE.CONV2D: 4>,\n",
       "  'message': 'Skipping (Layer type not requested to analyze)'},\n",
       " 13: {'layer_type': <LAYER_TYPE.CONV2D: 4>,\n",
       "  'message': 'Skipping (Layer type not requested to analyze)'},\n",
       " 14: {'id': 14,\n",
       "  'type': <keras.layers.pooling.MaxPooling2D at 0xb4a98d550>,\n",
       "  'message': 'Skipping (Layer not supported)'},\n",
       " 15: {'layer_type': <LAYER_TYPE.CONV2D: 4>,\n",
       "  'message': 'Skipping (Layer type not requested to analyze)'},\n",
       " 16: {'layer_type': <LAYER_TYPE.CONV2D: 4>,\n",
       "  'message': 'Skipping (Layer type not requested to analyze)'},\n",
       " 17: {'layer_type': <LAYER_TYPE.CONV2D: 4>,\n",
       "  'message': 'Skipping (Layer type not requested to analyze)'},\n",
       " 18: {'id': 18,\n",
       "  'type': <keras.layers.pooling.MaxPooling2D at 0xb4aa0ffd0>,\n",
       "  'message': 'Skipping (Layer not supported)'},\n",
       " 19: {'id': 19,\n",
       "  'type': <keras.layers.core.Flatten at 0xb4aa2d128>,\n",
       "  'message': 'Skipping (Layer not supported)'},\n",
       " 20: {'id': 20,\n",
       "  'type': <keras.layers.core.Dense at 0xb4aa2ddd8>,\n",
       "  'layer_type': <LAYER_TYPE.DENSE: 1>,\n",
       "  0: {'N': 25088,\n",
       "   'M': 4096,\n",
       "   'Q': 6.125,\n",
       "   'lognorm': 1.3697518,\n",
       "   'summary': 'Weight matrix 1/1 (4096,25088): Lognorm: 1.3697518110275269'}},\n",
       " 21: {'id': 21,\n",
       "  'type': <keras.layers.core.Dense at 0xb4aa6c710>,\n",
       "  'layer_type': <LAYER_TYPE.DENSE: 1>,\n",
       "  0: {'N': 4096,\n",
       "   'M': 4096,\n",
       "   'Q': 1.0,\n",
       "   'lognorm': 1.2557974,\n",
       "   'summary': 'Weight matrix 1/1 (4096,4096): Lognorm: 1.2557973861694336'}},\n",
       " 22: {'id': 22,\n",
       "  'type': <keras.layers.core.Dense at 0xb4aa6cdd8>,\n",
       "  'layer_type': <LAYER_TYPE.DENSE: 1>,\n",
       "  0: {'N': 4096,\n",
       "   'M': 1000,\n",
       "   'Q': 4.096,\n",
       "   'lognorm': 1.224209,\n",
       "   'summary': 'Weight matrix 1/1 (1000,4096): Lognorm: 1.224208950996399'}}}"
      ]
     },
     "execution_count": 7,
     "metadata": {},
     "output_type": "execute_result"
    }
   ],
   "source": [
    "from keras.applications import vgg16\n",
    "\n",
    "kmodel = vgg16.VGG16\n",
    "model = kmodel(weights='imagenet')\n",
    "\n",
    "import weightwatcher as ww\n",
    "\n",
    "watcher = ww.WeightWatcher(model=model)\n",
    "\n",
    "watcher.analyze(layers=ww.LAYER_TYPE.DENSE)"
   ]
  },
  {
   "cell_type": "code",
   "execution_count": 8,
   "metadata": {
    "ExecuteTime": {
     "end_time": "2019-03-05T23:52:19.078746Z",
     "start_time": "2019-03-05T23:52:19.050673Z"
    }
   },
   "outputs": [
    {
     "name": "stderr",
     "output_type": "stream",
     "text": [
      "2019-03-05 15:52:19,054 INFO ### Printing results ###\n",
      "2019-03-05 15:52:19,059 INFO LogNorm: min: 1.224208950996399, max: 1.3697518110275269, avg: 1.2832527160644531\n",
      "2019-03-05 15:52:19,064 INFO LogNorm compound: min: 1.224208950996399, max: 1.3697518110275269, avg: 1.2832527160644531\n"
     ]
    }
   ],
   "source": [
    "watcher.print_results()"
   ]
  },
  {
   "cell_type": "markdown",
   "metadata": {},
   "source": [
    "## 2.2 Filter by multiple layer types\n",
    "\n",
    "In this example we are interested in the CONV1D and DENSE layers.\n",
    "\n",
    "Filter the layers using a bitmask."
   ]
  },
  {
   "cell_type": "code",
   "execution_count": 9,
   "metadata": {
    "ExecuteTime": {
     "end_time": "2019-03-05T23:52:20.812400Z",
     "start_time": "2019-03-05T23:52:19.101208Z"
    }
   },
   "outputs": [
    {
     "name": "stderr",
     "output_type": "stream",
     "text": [
      "2019-03-05 15:52:19,108 INFO \n",
      "WeightWatcher v0.1.2 by Calculation Consulting\n",
      "Analyze weight matrices of Deep Neural Networks\n",
      "https://calculationconsulting.com/\n",
      "python      version 3.6.7 |Anaconda, Inc.| (default, Oct 23 2018, 14:01:38) \n",
      "[GCC 4.2.1 Compatible Clang 4.0.1 (tags/RELEASE_401/final)]\n",
      "numpy       version 1.15.4\n",
      "tensforflow version 1.12.0\n",
      "keras       version 2.2.4\n",
      "2019-03-05 15:52:19,113 INFO Analyzing model 'vgg16' with 23 layers\n",
      "2019-03-05 15:52:20,761 INFO ### Printing results ###\n",
      "2019-03-05 15:52:20,764 INFO LogNorm: min: 1.224208950996399, max: 1.3697518110275269, avg: 1.2832527160644531\n",
      "2019-03-05 15:52:20,768 INFO LogNorm compound: min: 1.224208950996399, max: 1.3697518110275269, avg: 1.2832527160644531\n"
     ]
    },
    {
     "data": {
      "text/plain": [
       "{0: {'id': 0,\n",
       "  'type': <keras.engine.input_layer.InputLayer at 0xb465a47b8>,\n",
       "  'message': 'Skipping (Layer not supported)'},\n",
       " 1: {'layer_type': <LAYER_TYPE.CONV2D: 4>,\n",
       "  'message': 'Skipping (Layer type not requested to analyze)'},\n",
       " 2: {'layer_type': <LAYER_TYPE.CONV2D: 4>,\n",
       "  'message': 'Skipping (Layer type not requested to analyze)'},\n",
       " 3: {'id': 3,\n",
       "  'type': <keras.layers.pooling.MaxPooling2D at 0xb465f04e0>,\n",
       "  'message': 'Skipping (Layer not supported)'},\n",
       " 4: {'layer_type': <LAYER_TYPE.CONV2D: 4>,\n",
       "  'message': 'Skipping (Layer type not requested to analyze)'},\n",
       " 5: {'layer_type': <LAYER_TYPE.CONV2D: 4>,\n",
       "  'message': 'Skipping (Layer type not requested to analyze)'},\n",
       " 6: {'id': 6,\n",
       "  'type': <keras.layers.pooling.MaxPooling2D at 0xb4a8709b0>,\n",
       "  'message': 'Skipping (Layer not supported)'},\n",
       " 7: {'layer_type': <LAYER_TYPE.CONV2D: 4>,\n",
       "  'message': 'Skipping (Layer type not requested to analyze)'},\n",
       " 8: {'layer_type': <LAYER_TYPE.CONV2D: 4>,\n",
       "  'message': 'Skipping (Layer type not requested to analyze)'},\n",
       " 9: {'layer_type': <LAYER_TYPE.CONV2D: 4>,\n",
       "  'message': 'Skipping (Layer type not requested to analyze)'},\n",
       " 10: {'id': 10,\n",
       "  'type': <keras.layers.pooling.MaxPooling2D at 0xb4a90c4a8>,\n",
       "  'message': 'Skipping (Layer not supported)'},\n",
       " 11: {'layer_type': <LAYER_TYPE.CONV2D: 4>,\n",
       "  'message': 'Skipping (Layer type not requested to analyze)'},\n",
       " 12: {'layer_type': <LAYER_TYPE.CONV2D: 4>,\n",
       "  'message': 'Skipping (Layer type not requested to analyze)'},\n",
       " 13: {'layer_type': <LAYER_TYPE.CONV2D: 4>,\n",
       "  'message': 'Skipping (Layer type not requested to analyze)'},\n",
       " 14: {'id': 14,\n",
       "  'type': <keras.layers.pooling.MaxPooling2D at 0xb4a98d550>,\n",
       "  'message': 'Skipping (Layer not supported)'},\n",
       " 15: {'layer_type': <LAYER_TYPE.CONV2D: 4>,\n",
       "  'message': 'Skipping (Layer type not requested to analyze)'},\n",
       " 16: {'layer_type': <LAYER_TYPE.CONV2D: 4>,\n",
       "  'message': 'Skipping (Layer type not requested to analyze)'},\n",
       " 17: {'layer_type': <LAYER_TYPE.CONV2D: 4>,\n",
       "  'message': 'Skipping (Layer type not requested to analyze)'},\n",
       " 18: {'id': 18,\n",
       "  'type': <keras.layers.pooling.MaxPooling2D at 0xb4aa0ffd0>,\n",
       "  'message': 'Skipping (Layer not supported)'},\n",
       " 19: {'id': 19,\n",
       "  'type': <keras.layers.core.Flatten at 0xb4aa2d128>,\n",
       "  'message': 'Skipping (Layer not supported)'},\n",
       " 20: {'id': 20,\n",
       "  'type': <keras.layers.core.Dense at 0xb4aa2ddd8>,\n",
       "  'layer_type': <LAYER_TYPE.DENSE: 1>,\n",
       "  0: {'N': 25088,\n",
       "   'M': 4096,\n",
       "   'Q': 6.125,\n",
       "   'lognorm': 1.3697518,\n",
       "   'summary': 'Weight matrix 1/1 (4096,25088): Lognorm: 1.3697518110275269'}},\n",
       " 21: {'id': 21,\n",
       "  'type': <keras.layers.core.Dense at 0xb4aa6c710>,\n",
       "  'layer_type': <LAYER_TYPE.DENSE: 1>,\n",
       "  0: {'N': 4096,\n",
       "   'M': 4096,\n",
       "   'Q': 1.0,\n",
       "   'lognorm': 1.2557974,\n",
       "   'summary': 'Weight matrix 1/1 (4096,4096): Lognorm: 1.2557973861694336'}},\n",
       " 22: {'id': 22,\n",
       "  'type': <keras.layers.core.Dense at 0xb4aa6cdd8>,\n",
       "  'layer_type': <LAYER_TYPE.DENSE: 1>,\n",
       "  0: {'N': 4096,\n",
       "   'M': 1000,\n",
       "   'Q': 4.096,\n",
       "   'lognorm': 1.224209,\n",
       "   'summary': 'Weight matrix 1/1 (1000,4096): Lognorm: 1.224208950996399'}}}"
      ]
     },
     "execution_count": 9,
     "metadata": {},
     "output_type": "execute_result"
    }
   ],
   "source": [
    "import weightwatcher as ww\n",
    "\n",
    "watcher = ww.WeightWatcher(model=model)\n",
    "\n",
    "watcher.analyze(layers=ww.LAYER_TYPE.CONV1D|ww.LAYER_TYPE.DENSE)"
   ]
  },
  {
   "cell_type": "markdown",
   "metadata": {},
   "source": [
    "## 2.3 Filter by layer Ids"
   ]
  },
  {
   "cell_type": "code",
   "execution_count": 10,
   "metadata": {
    "ExecuteTime": {
     "end_time": "2019-03-05T23:52:22.428909Z",
     "start_time": "2019-03-05T23:52:20.830391Z"
    },
    "scrolled": false
   },
   "outputs": [
    {
     "name": "stderr",
     "output_type": "stream",
     "text": [
      "2019-03-05 15:52:20,843 INFO \n",
      "WeightWatcher v0.1.2 by Calculation Consulting\n",
      "Analyze weight matrices of Deep Neural Networks\n",
      "https://calculationconsulting.com/\n",
      "python      version 3.6.7 |Anaconda, Inc.| (default, Oct 23 2018, 14:01:38) \n",
      "[GCC 4.2.1 Compatible Clang 4.0.1 (tags/RELEASE_401/final)]\n",
      "numpy       version 1.15.4\n",
      "tensforflow version 1.12.0\n",
      "keras       version 2.2.4\n",
      "2019-03-05 15:52:20,848 INFO Analyzing model 'vgg16' with 23 layers\n",
      "2019-03-05 15:52:22,373 INFO ### Printing results ###\n",
      "2019-03-05 15:52:22,378 INFO LogNorm: min: 1.3697518110275269, max: 1.3697518110275269, avg: 1.3697518110275269\n",
      "2019-03-05 15:52:22,383 INFO LogNorm compound: min: 1.3697518110275269, max: 1.3697518110275269, avg: 1.3697518110275269\n"
     ]
    },
    {
     "data": {
      "text/plain": [
       "{0: {'id': 0,\n",
       "  'type': <keras.engine.input_layer.InputLayer at 0xb465a47b8>,\n",
       "  'message': 'Skipping (Layer id not requested to analyze)'},\n",
       " 1: {'id': 1,\n",
       "  'type': <keras.layers.convolutional.Conv2D at 0xb465df668>,\n",
       "  'message': 'Skipping (Layer id not requested to analyze)'},\n",
       " 2: {'id': 2,\n",
       "  'type': <keras.layers.convolutional.Conv2D at 0xb465df550>,\n",
       "  'message': 'Skipping (Layer id not requested to analyze)'},\n",
       " 3: {'id': 3,\n",
       "  'type': <keras.layers.pooling.MaxPooling2D at 0xb465f04e0>,\n",
       "  'message': 'Skipping (Layer id not requested to analyze)'},\n",
       " 4: {'id': 4,\n",
       "  'type': <keras.layers.convolutional.Conv2D at 0xb465f0358>,\n",
       "  'message': 'Skipping (Layer id not requested to analyze)'},\n",
       " 5: {'id': 5,\n",
       "  'type': <keras.layers.convolutional.Conv2D at 0xb4a864c88>,\n",
       "  'message': 'Skipping (Layer id not requested to analyze)'},\n",
       " 6: {'id': 6,\n",
       "  'type': <keras.layers.pooling.MaxPooling2D at 0xb4a8709b0>,\n",
       "  'message': 'Skipping (Layer id not requested to analyze)'},\n",
       " 7: {'id': 7,\n",
       "  'type': <keras.layers.convolutional.Conv2D at 0xb4a870f98>,\n",
       "  'message': 'Skipping (Layer id not requested to analyze)'},\n",
       " 8: {'id': 8,\n",
       "  'type': <keras.layers.convolutional.Conv2D at 0xb4a8cd278>,\n",
       "  'message': 'Skipping (Layer id not requested to analyze)'},\n",
       " 9: {'id': 9,\n",
       "  'type': <keras.layers.convolutional.Conv2D at 0xb4a8eb550>,\n",
       "  'message': 'Skipping (Layer id not requested to analyze)'},\n",
       " 10: {'id': 10,\n",
       "  'type': <keras.layers.pooling.MaxPooling2D at 0xb4a90c4a8>,\n",
       "  'message': 'Skipping (Layer id not requested to analyze)'},\n",
       " 11: {'id': 11,\n",
       "  'type': <keras.layers.convolutional.Conv2D at 0xb4a90cf60>,\n",
       "  'message': 'Skipping (Layer id not requested to analyze)'},\n",
       " 12: {'id': 12,\n",
       "  'type': <keras.layers.convolutional.Conv2D at 0xb4a950278>,\n",
       "  'message': 'Skipping (Layer id not requested to analyze)'},\n",
       " 13: {'id': 13,\n",
       "  'type': <keras.layers.convolutional.Conv2D at 0xb4a94c0f0>,\n",
       "  'message': 'Skipping (Layer id not requested to analyze)'},\n",
       " 14: {'id': 14,\n",
       "  'type': <keras.layers.pooling.MaxPooling2D at 0xb4a98d550>,\n",
       "  'message': 'Skipping (Layer id not requested to analyze)'},\n",
       " 15: {'id': 15,\n",
       "  'type': <keras.layers.convolutional.Conv2D at 0xb4a9ac080>,\n",
       "  'message': 'Skipping (Layer id not requested to analyze)'},\n",
       " 16: {'id': 16,\n",
       "  'type': <keras.layers.convolutional.Conv2D at 0xb4a9d0358>,\n",
       "  'message': 'Skipping (Layer id not requested to analyze)'},\n",
       " 17: {'id': 17,\n",
       "  'type': <keras.layers.convolutional.Conv2D at 0xb4a9e90f0>,\n",
       "  'message': 'Skipping (Layer id not requested to analyze)'},\n",
       " 18: {'id': 18,\n",
       "  'type': <keras.layers.pooling.MaxPooling2D at 0xb4aa0ffd0>,\n",
       "  'message': 'Skipping (Layer id not requested to analyze)'},\n",
       " 19: {'id': 19,\n",
       "  'type': <keras.layers.core.Flatten at 0xb4aa2d128>,\n",
       "  'message': 'Skipping (Layer id not requested to analyze)'},\n",
       " 20: {'id': 20,\n",
       "  'type': <keras.layers.core.Dense at 0xb4aa2ddd8>,\n",
       "  'layer_type': <LAYER_TYPE.DENSE: 1>,\n",
       "  0: {'N': 25088,\n",
       "   'M': 4096,\n",
       "   'Q': 6.125,\n",
       "   'lognorm': 1.3697518,\n",
       "   'summary': 'Weight matrix 1/1 (4096,25088): Lognorm: 1.3697518110275269'}},\n",
       " 21: {'id': 21,\n",
       "  'type': <keras.layers.core.Dense at 0xb4aa6c710>,\n",
       "  'message': 'Skipping (Layer id not requested to analyze)'},\n",
       " 22: {'id': 22,\n",
       "  'type': <keras.layers.core.Dense at 0xb4aa6cdd8>,\n",
       "  'message': 'Skipping (Layer id not requested to analyze)'}}"
      ]
     },
     "execution_count": 10,
     "metadata": {},
     "output_type": "execute_result"
    }
   ],
   "source": [
    "import weightwatcher as ww\n",
    "\n",
    "watcher = ww.WeightWatcher(model=model)\n",
    "\n",
    "watcher.analyze(layers=[20])"
   ]
  },
  {
   "cell_type": "markdown",
   "metadata": {
    "ExecuteTime": {
     "end_time": "2018-10-01T22:51:12.554859Z",
     "start_time": "2018-10-01T22:51:12.518859Z"
    }
   },
   "source": [
    "## 2.4 Get the return values per layer"
   ]
  },
  {
   "cell_type": "code",
   "execution_count": 11,
   "metadata": {
    "ExecuteTime": {
     "end_time": "2019-03-05T23:52:24.982563Z",
     "start_time": "2019-03-05T23:52:22.440026Z"
    }
   },
   "outputs": [
    {
     "name": "stderr",
     "output_type": "stream",
     "text": [
      "2019-03-05 15:52:22,452 INFO \n",
      "WeightWatcher v0.1.2 by Calculation Consulting\n",
      "Analyze weight matrices of Deep Neural Networks\n",
      "https://calculationconsulting.com/\n",
      "python      version 3.6.7 |Anaconda, Inc.| (default, Oct 23 2018, 14:01:38) \n",
      "[GCC 4.2.1 Compatible Clang 4.0.1 (tags/RELEASE_401/final)]\n",
      "numpy       version 1.15.4\n",
      "tensforflow version 1.12.0\n",
      "keras       version 2.2.4\n",
      "2019-03-05 15:52:22,458 INFO Analyzing model 'vgg16' with 23 layers\n",
      "2019-03-05 15:52:24,957 INFO ### Printing results ###\n",
      "2019-03-05 15:52:24,961 INFO LogNorm: min: 0.3889707922935486, max: 1.3697518110275269, avg: 0.5674788951873779\n",
      "2019-03-05 15:52:24,965 INFO LogNorm compound: min: 0.43449219730165267, max: 1.3697518110275269, avg: 0.6947275543654406\n"
     ]
    }
   ],
   "source": [
    "import weightwatcher as ww\n",
    "\n",
    "watcher = ww.WeightWatcher(model=model)\n",
    "\n",
    "results = watcher.analyze()"
   ]
  },
  {
   "cell_type": "code",
   "execution_count": 12,
   "metadata": {
    "ExecuteTime": {
     "end_time": "2019-03-05T23:52:25.022930Z",
     "start_time": "2019-03-05T23:52:24.990119Z"
    }
   },
   "outputs": [
    {
     "name": "stdout",
     "output_type": "stream",
     "text": [
      "Layer 2, Slice 0: Lognorm: 0.3978934586048126\n",
      "Layer 2, Slice 1: Lognorm: 0.45358702540397644\n",
      "Layer 2, Slice 2: Lognorm: 0.40578144788742065\n",
      "Layer 2, Slice 3: Lognorm: 0.45428669452667236\n",
      "Layer 2, Slice 4: Lognorm: 0.49695152044296265\n",
      "Layer 2, Slice 5: Lognorm: 0.45737624168395996\n",
      "Layer 2, Slice 6: Lognorm: 0.4044671952724457\n",
      "Layer 2, Slice 7: Lognorm: 0.4511153995990753\n",
      "Layer 2, Slice 8: Lognorm: 0.3889707922935486\n",
      "Layer 4, Slice 0: Lognorm: 0.44109997153282166\n",
      "Layer 4, Slice 1: Lognorm: 0.4613628089427948\n",
      "Layer 4, Slice 2: Lognorm: 0.4370166063308716\n",
      "Layer 4, Slice 3: Lognorm: 0.4667660593986511\n",
      "Layer 4, Slice 4: Lognorm: 0.5201410055160522\n",
      "Layer 4, Slice 5: Lognorm: 0.46935534477233887\n",
      "Layer 4, Slice 6: Lognorm: 0.4464665651321411\n",
      "Layer 4, Slice 7: Lognorm: 0.48161619901657104\n",
      "Layer 4, Slice 8: Lognorm: 0.4471622705459595\n",
      "Layer 5, Slice 0: Lognorm: 0.45507872104644775\n",
      "Layer 5, Slice 1: Lognorm: 0.4839082956314087\n",
      "Layer 5, Slice 2: Lognorm: 0.4593982994556427\n",
      "Layer 5, Slice 3: Lognorm: 0.48676982522010803\n",
      "Layer 5, Slice 4: Lognorm: 0.5329121351242065\n",
      "Layer 5, Slice 5: Lognorm: 0.486453115940094\n",
      "Layer 5, Slice 6: Lognorm: 0.4555995762348175\n",
      "Layer 5, Slice 7: Lognorm: 0.4885979890823364\n",
      "Layer 5, Slice 8: Lognorm: 0.44975680112838745\n",
      "Layer 7, Slice 0: Lognorm: 0.4331028163433075\n",
      "Layer 7, Slice 1: Lognorm: 0.501900315284729\n",
      "Layer 7, Slice 2: Lognorm: 0.435834139585495\n",
      "Layer 7, Slice 3: Lognorm: 0.5173439979553223\n",
      "Layer 7, Slice 4: Lognorm: 0.630874752998352\n",
      "Layer 7, Slice 5: Lognorm: 0.5137887597084045\n",
      "Layer 7, Slice 6: Lognorm: 0.4312974512577057\n",
      "Layer 7, Slice 7: Lognorm: 0.4997106194496155\n",
      "Layer 7, Slice 8: Lognorm: 0.42677345871925354\n",
      "Layer 8, Slice 0: Lognorm: 0.4611811339855194\n",
      "Layer 8, Slice 1: Lognorm: 0.5103280544281006\n",
      "Layer 8, Slice 2: Lognorm: 0.46348103880882263\n",
      "Layer 8, Slice 3: Lognorm: 0.5043201446533203\n",
      "Layer 8, Slice 4: Lognorm: 0.5939016342163086\n",
      "Layer 8, Slice 5: Lognorm: 0.5075631737709045\n",
      "Layer 8, Slice 6: Lognorm: 0.45727992057800293\n",
      "Layer 8, Slice 7: Lognorm: 0.5017167329788208\n",
      "Layer 8, Slice 8: Lognorm: 0.4612100124359131\n",
      "Layer 9, Slice 0: Lognorm: 0.4767092168331146\n",
      "Layer 9, Slice 1: Lognorm: 0.5228332281112671\n",
      "Layer 9, Slice 2: Lognorm: 0.48029711842536926\n",
      "Layer 9, Slice 3: Lognorm: 0.5129597187042236\n",
      "Layer 9, Slice 4: Lognorm: 0.590246319770813\n",
      "Layer 9, Slice 5: Lognorm: 0.52484530210495\n",
      "Layer 9, Slice 6: Lognorm: 0.4757029116153717\n",
      "Layer 9, Slice 7: Lognorm: 0.5153258442878723\n",
      "Layer 9, Slice 8: Lognorm: 0.4783080518245697\n",
      "Layer 11, Slice 0: Lognorm: 0.533117413520813\n",
      "Layer 11, Slice 1: Lognorm: 0.5677251815795898\n",
      "Layer 11, Slice 2: Lognorm: 0.5357765555381775\n",
      "Layer 11, Slice 3: Lognorm: 0.5680774450302124\n",
      "Layer 11, Slice 4: Lognorm: 0.6403180360794067\n",
      "Layer 11, Slice 5: Lognorm: 0.5651501417160034\n",
      "Layer 11, Slice 6: Lognorm: 0.5288751721382141\n",
      "Layer 11, Slice 7: Lognorm: 0.5627536177635193\n",
      "Layer 11, Slice 8: Lognorm: 0.5263329744338989\n",
      "Layer 12, Slice 0: Lognorm: 0.5816661715507507\n",
      "Layer 12, Slice 1: Lognorm: 0.5994589924812317\n",
      "Layer 12, Slice 2: Lognorm: 0.5804641246795654\n",
      "Layer 12, Slice 3: Lognorm: 0.5878161787986755\n",
      "Layer 12, Slice 4: Lognorm: 0.6349806785583496\n",
      "Layer 12, Slice 5: Lognorm: 0.5888810753822327\n",
      "Layer 12, Slice 6: Lognorm: 0.5777970552444458\n",
      "Layer 12, Slice 7: Lognorm: 0.5947223901748657\n",
      "Layer 12, Slice 8: Lognorm: 0.5786637663841248\n",
      "Layer 13, Slice 0: Lognorm: 0.598810613155365\n",
      "Layer 13, Slice 1: Lognorm: 0.6240571737289429\n",
      "Layer 13, Slice 2: Lognorm: 0.6002294421195984\n",
      "Layer 13, Slice 3: Lognorm: 0.6069265604019165\n",
      "Layer 13, Slice 4: Lognorm: 0.6537207961082458\n",
      "Layer 13, Slice 5: Lognorm: 0.6051104664802551\n",
      "Layer 13, Slice 6: Lognorm: 0.596659243106842\n",
      "Layer 13, Slice 7: Lognorm: 0.6204671859741211\n",
      "Layer 13, Slice 8: Lognorm: 0.5969995856285095\n",
      "Layer 15, Slice 0: Lognorm: 0.6414387226104736\n",
      "Layer 15, Slice 1: Lognorm: 0.658482551574707\n",
      "Layer 15, Slice 2: Lognorm: 0.6415495276451111\n",
      "Layer 15, Slice 3: Lognorm: 0.6379082798957825\n",
      "Layer 15, Slice 4: Lognorm: 0.6930620670318604\n",
      "Layer 15, Slice 5: Lognorm: 0.6355615258216858\n",
      "Layer 15, Slice 6: Lognorm: 0.6379796266555786\n",
      "Layer 15, Slice 7: Lognorm: 0.6546915769577026\n",
      "Layer 15, Slice 8: Lognorm: 0.6379215717315674\n",
      "Layer 16, Slice 0: Lognorm: 0.6483020782470703\n",
      "Layer 16, Slice 1: Lognorm: 0.6716188788414001\n",
      "Layer 16, Slice 2: Lognorm: 0.6487486958503723\n",
      "Layer 16, Slice 3: Lognorm: 0.6313163042068481\n",
      "Layer 16, Slice 4: Lognorm: 0.690161406993866\n",
      "Layer 16, Slice 5: Lognorm: 0.6324495077133179\n",
      "Layer 16, Slice 6: Lognorm: 0.6435777544975281\n",
      "Layer 16, Slice 7: Lognorm: 0.6643065214157104\n",
      "Layer 16, Slice 8: Lognorm: 0.6426410675048828\n",
      "Layer 17, Slice 0: Lognorm: 0.6312968730926514\n",
      "Layer 17, Slice 1: Lognorm: 0.6557008028030396\n",
      "Layer 17, Slice 2: Lognorm: 0.6303039193153381\n",
      "Layer 17, Slice 3: Lognorm: 0.6299318671226501\n",
      "Layer 17, Slice 4: Lognorm: 0.6738649010658264\n",
      "Layer 17, Slice 5: Lognorm: 0.6266793012619019\n",
      "Layer 17, Slice 6: Lognorm: 0.6302400231361389\n",
      "Layer 17, Slice 7: Lognorm: 0.6563602089881897\n",
      "Layer 17, Slice 8: Lognorm: 0.6300156712532043\n",
      "Layer 20, Slice 0: Lognorm: 1.3697518110275269\n",
      "Layer 21, Slice 0: Lognorm: 1.2557973861694336\n",
      "Layer 22, Slice 0: Lognorm: 1.224208950996399\n"
     ]
    }
   ],
   "source": [
    "for layer_id, result in results.items():\n",
    "    for slice_id, summary in result.items():\n",
    "        if not str(slice_id).isdigit() or \"lognorm\" not in summary:\n",
    "            continue\n",
    "        lognorm = summary[\"lognorm\"]\n",
    "        print(\"Layer {}, Slice {}: Lognorm: {}\".format(layer_id, slice_id, lognorm))    "
   ]
  },
  {
   "cell_type": "markdown",
   "metadata": {
    "ExecuteTime": {
     "end_time": "2018-10-01T22:51:12.554859Z",
     "start_time": "2018-10-01T22:51:12.518859Z"
    }
   },
   "source": [
    "## 2.5 Power Law Fit"
   ]
  },
  {
   "cell_type": "code",
   "execution_count": 13,
   "metadata": {
    "ExecuteTime": {
     "end_time": "2019-03-06T00:16:38.794143Z",
     "start_time": "2019-03-05T23:52:25.030000Z"
    }
   },
   "outputs": [
    {
     "name": "stderr",
     "output_type": "stream",
     "text": [
      "2019-03-05 15:52:25,038 INFO \n",
      "WeightWatcher v0.1.2 by Calculation Consulting\n",
      "Analyze weight matrices of Deep Neural Networks\n",
      "https://calculationconsulting.com/\n",
      "python      version 3.6.7 |Anaconda, Inc.| (default, Oct 23 2018, 14:01:38) \n",
      "[GCC 4.2.1 Compatible Clang 4.0.1 (tags/RELEASE_401/final)]\n",
      "numpy       version 1.15.4\n",
      "tensforflow version 1.12.0\n",
      "keras       version 2.2.4\n",
      "2019-03-05 15:52:25,042 INFO Analyzing model 'vgg16' with 23 layers\n",
      "2019-03-05 16:16:38,743 INFO ### Printing results ###\n",
      "2019-03-05 16:16:38,747 INFO LogNorm: min: 0.3889707922935486, max: 1.3697518110275269, avg: 0.5674788951873779\n",
      "2019-03-05 16:16:38,751 INFO LogNorm compound: min: 0.43449219730165267, max: 1.3697518110275269, avg: 0.6947275543654406\n",
      "2019-03-05 16:16:38,755 INFO Alpha: min: 1.2069767289907984, max: 4.558138051733277, avg: 2.7189645499931947\n",
      "2019-03-05 16:16:38,757 INFO Alpha compound: min: 1.2176341122821663, max: 3.960301663164957, avg: 2.6610037890312737\n",
      "2019-03-05 16:16:38,761 INFO Alpha Weighted: min: -1.087618285865235, max: 2.8689033520355314, avg: -0.17649116045919663\n",
      "2019-03-05 16:16:38,763 INFO Alpha Weighted compound: min: -0.7291796173260308, max: 2.8689033520355314, avg: 0.2329754205723837\n"
     ]
    }
   ],
   "source": [
    "import weightwatcher as ww\n",
    "\n",
    "watcher = ww.WeightWatcher(model=model)\n",
    "\n",
    "results = watcher.analyze(compute_alphas=True)"
   ]
  },
  {
   "cell_type": "markdown",
   "metadata": {
    "ExecuteTime": {
     "end_time": "2018-10-01T22:51:12.554859Z",
     "start_time": "2018-10-01T22:51:12.518859Z"
    }
   },
   "source": [
    "## 2.6 Debug and Custom Logging"
   ]
  },
  {
   "cell_type": "markdown",
   "metadata": {
    "ExecuteTime": {
     "end_time": "2018-10-01T22:51:12.554859Z",
     "start_time": "2018-10-01T22:51:12.518859Z"
    }
   },
   "source": [
    "### Custom Logging at Debug Level"
   ]
  },
  {
   "cell_type": "code",
   "execution_count": 14,
   "metadata": {
    "ExecuteTime": {
     "end_time": "2019-03-06T00:16:41.769719Z",
     "start_time": "2019-03-06T00:16:38.803181Z"
    }
   },
   "outputs": [
    {
     "name": "stderr",
     "output_type": "stream",
     "text": [
      "INFO:__main__:\n",
      "WeightWatcher v0.1.2 by Calculation Consulting\n",
      "Analyze weight matrices of Deep Neural Networks\n",
      "https://calculationconsulting.com/\n",
      "python      version 3.6.7 |Anaconda, Inc.| (default, Oct 23 2018, 14:01:38) \n",
      "[GCC 4.2.1 Compatible Clang 4.0.1 (tags/RELEASE_401/final)]\n",
      "numpy       version 1.15.4\n",
      "tensforflow version 1.12.0\n",
      "keras       version 2.2.4\n",
      "INFO:__main__:Analyzing model 'vgg16' with 23 layers\n",
      "DEBUG:__main__:Layer 1: <keras.engine.input_layer.InputLayer object at 0xb465a47b8>\n",
      "DEBUG:__main__:Layer 1: Skipping (Layer not supported)\n",
      "DEBUG:__main__:Layer 2: <keras.layers.convolutional.Conv2D object at 0xb465df668>\n",
      "DEBUG:__main__:Keras tensor shape detected: 3x64 (NxM), 3x3 (i,j)\n",
      "DEBUG:__main__:Layer 2: Analyzing 9 weight matrices...\n",
      "DEBUG:__main__:    Weight matrix 1/9 (3,64): Skipping: too small (<50)\n",
      "DEBUG:__main__:    Weight matrix 2/9 (3,64): Skipping: too small (<50)\n",
      "DEBUG:__main__:    Weight matrix 3/9 (3,64): Skipping: too small (<50)\n",
      "DEBUG:__main__:    Weight matrix 4/9 (3,64): Skipping: too small (<50)\n",
      "DEBUG:__main__:    Weight matrix 5/9 (3,64): Skipping: too small (<50)\n",
      "DEBUG:__main__:    Weight matrix 6/9 (3,64): Skipping: too small (<50)\n",
      "DEBUG:__main__:    Weight matrix 7/9 (3,64): Skipping: too small (<50)\n",
      "DEBUG:__main__:    Weight matrix 8/9 (3,64): Skipping: too small (<50)\n",
      "DEBUG:__main__:    Weight matrix 9/9 (3,64): Skipping: too small (<50)\n",
      "DEBUG:__main__:Layer 3: <keras.layers.convolutional.Conv2D object at 0xb465df550>\n",
      "DEBUG:__main__:Keras tensor shape detected: 64x64 (NxM), 3x3 (i,j)\n",
      "DEBUG:__main__:Layer 3: Analyzing 9 weight matrices...\n",
      "DEBUG:__main__:    Weight matrix 1/9 (64,64): Analyzing ...\n",
      "DEBUG:__main__:    Weight matrix 1/9 (64,64): Lognorm: 0.3978934586048126\n",
      "DEBUG:__main__:    Weight matrix 2/9 (64,64): Analyzing ...\n",
      "DEBUG:__main__:    Weight matrix 2/9 (64,64): Lognorm: 0.45358702540397644\n",
      "DEBUG:__main__:    Weight matrix 3/9 (64,64): Analyzing ...\n",
      "DEBUG:__main__:    Weight matrix 3/9 (64,64): Lognorm: 0.40578144788742065\n",
      "DEBUG:__main__:    Weight matrix 4/9 (64,64): Analyzing ...\n",
      "DEBUG:__main__:    Weight matrix 4/9 (64,64): Lognorm: 0.45428669452667236\n",
      "DEBUG:__main__:    Weight matrix 5/9 (64,64): Analyzing ...\n",
      "DEBUG:__main__:    Weight matrix 5/9 (64,64): Lognorm: 0.49695152044296265\n",
      "DEBUG:__main__:    Weight matrix 6/9 (64,64): Analyzing ...\n",
      "DEBUG:__main__:    Weight matrix 6/9 (64,64): Lognorm: 0.45737624168395996\n",
      "DEBUG:__main__:    Weight matrix 7/9 (64,64): Analyzing ...\n",
      "DEBUG:__main__:    Weight matrix 7/9 (64,64): Lognorm: 0.4044671952724457\n",
      "DEBUG:__main__:    Weight matrix 8/9 (64,64): Analyzing ...\n",
      "DEBUG:__main__:    Weight matrix 8/9 (64,64): Lognorm: 0.4511153995990753\n",
      "DEBUG:__main__:    Weight matrix 9/9 (64,64): Analyzing ...\n",
      "DEBUG:__main__:    Weight matrix 9/9 (64,64): Lognorm: 0.3889707922935486\n",
      "DEBUG:__main__:Layer 4: <keras.layers.pooling.MaxPooling2D object at 0xb465f04e0>\n",
      "DEBUG:__main__:Layer 4: Skipping (Layer not supported)\n",
      "DEBUG:__main__:Layer 5: <keras.layers.convolutional.Conv2D object at 0xb465f0358>\n",
      "DEBUG:__main__:Keras tensor shape detected: 64x128 (NxM), 3x3 (i,j)\n",
      "DEBUG:__main__:Layer 5: Analyzing 9 weight matrices...\n",
      "DEBUG:__main__:    Weight matrix 1/9 (64,128): Analyzing ...\n",
      "DEBUG:__main__:    Weight matrix 1/9 (64,128): Lognorm: 0.44109997153282166\n",
      "DEBUG:__main__:    Weight matrix 2/9 (64,128): Analyzing ...\n",
      "DEBUG:__main__:    Weight matrix 2/9 (64,128): Lognorm: 0.4613628089427948\n",
      "DEBUG:__main__:    Weight matrix 3/9 (64,128): Analyzing ...\n",
      "DEBUG:__main__:    Weight matrix 3/9 (64,128): Lognorm: 0.4370166063308716\n",
      "DEBUG:__main__:    Weight matrix 4/9 (64,128): Analyzing ...\n",
      "DEBUG:__main__:    Weight matrix 4/9 (64,128): Lognorm: 0.4667660593986511\n",
      "DEBUG:__main__:    Weight matrix 5/9 (64,128): Analyzing ...\n",
      "DEBUG:__main__:    Weight matrix 5/9 (64,128): Lognorm: 0.5201410055160522\n",
      "DEBUG:__main__:    Weight matrix 6/9 (64,128): Analyzing ...\n",
      "DEBUG:__main__:    Weight matrix 6/9 (64,128): Lognorm: 0.46935534477233887\n",
      "DEBUG:__main__:    Weight matrix 7/9 (64,128): Analyzing ...\n",
      "DEBUG:__main__:    Weight matrix 7/9 (64,128): Lognorm: 0.4464665651321411\n",
      "DEBUG:__main__:    Weight matrix 8/9 (64,128): Analyzing ...\n",
      "DEBUG:__main__:    Weight matrix 8/9 (64,128): Lognorm: 0.48161619901657104\n",
      "DEBUG:__main__:    Weight matrix 9/9 (64,128): Analyzing ...\n",
      "DEBUG:__main__:    Weight matrix 9/9 (64,128): Lognorm: 0.4471622705459595\n",
      "DEBUG:__main__:Layer 6: <keras.layers.convolutional.Conv2D object at 0xb4a864c88>\n",
      "DEBUG:__main__:Keras tensor shape detected: 128x128 (NxM), 3x3 (i,j)\n",
      "DEBUG:__main__:Layer 6: Analyzing 9 weight matrices...\n",
      "DEBUG:__main__:    Weight matrix 1/9 (128,128): Analyzing ...\n",
      "DEBUG:__main__:    Weight matrix 1/9 (128,128): Lognorm: 0.45507872104644775\n",
      "DEBUG:__main__:    Weight matrix 2/9 (128,128): Analyzing ...\n",
      "DEBUG:__main__:    Weight matrix 2/9 (128,128): Lognorm: 0.4839082956314087\n",
      "DEBUG:__main__:    Weight matrix 3/9 (128,128): Analyzing ...\n",
      "DEBUG:__main__:    Weight matrix 3/9 (128,128): Lognorm: 0.4593982994556427\n",
      "DEBUG:__main__:    Weight matrix 4/9 (128,128): Analyzing ...\n",
      "DEBUG:__main__:    Weight matrix 4/9 (128,128): Lognorm: 0.48676982522010803\n",
      "DEBUG:__main__:    Weight matrix 5/9 (128,128): Analyzing ...\n",
      "DEBUG:__main__:    Weight matrix 5/9 (128,128): Lognorm: 0.5329121351242065\n",
      "DEBUG:__main__:    Weight matrix 6/9 (128,128): Analyzing ...\n",
      "DEBUG:__main__:    Weight matrix 6/9 (128,128): Lognorm: 0.486453115940094\n",
      "DEBUG:__main__:    Weight matrix 7/9 (128,128): Analyzing ...\n",
      "DEBUG:__main__:    Weight matrix 7/9 (128,128): Lognorm: 0.4555995762348175\n",
      "DEBUG:__main__:    Weight matrix 8/9 (128,128): Analyzing ...\n",
      "DEBUG:__main__:    Weight matrix 8/9 (128,128): Lognorm: 0.4885979890823364\n",
      "DEBUG:__main__:    Weight matrix 9/9 (128,128): Analyzing ...\n",
      "DEBUG:__main__:    Weight matrix 9/9 (128,128): Lognorm: 0.44975680112838745\n",
      "DEBUG:__main__:Layer 7: <keras.layers.pooling.MaxPooling2D object at 0xb4a8709b0>\n",
      "DEBUG:__main__:Layer 7: Skipping (Layer not supported)\n",
      "DEBUG:__main__:Layer 8: <keras.layers.convolutional.Conv2D object at 0xb4a870f98>\n",
      "DEBUG:__main__:Keras tensor shape detected: 128x256 (NxM), 3x3 (i,j)\n",
      "DEBUG:__main__:Layer 8: Analyzing 9 weight matrices...\n",
      "DEBUG:__main__:    Weight matrix 1/9 (128,256): Analyzing ...\n",
      "DEBUG:__main__:    Weight matrix 1/9 (128,256): Lognorm: 0.4331028163433075\n",
      "DEBUG:__main__:    Weight matrix 2/9 (128,256): Analyzing ...\n",
      "DEBUG:__main__:    Weight matrix 2/9 (128,256): Lognorm: 0.501900315284729\n",
      "DEBUG:__main__:    Weight matrix 3/9 (128,256): Analyzing ...\n",
      "DEBUG:__main__:    Weight matrix 3/9 (128,256): Lognorm: 0.435834139585495\n",
      "DEBUG:__main__:    Weight matrix 4/9 (128,256): Analyzing ...\n",
      "DEBUG:__main__:    Weight matrix 4/9 (128,256): Lognorm: 0.5173439979553223\n",
      "DEBUG:__main__:    Weight matrix 5/9 (128,256): Analyzing ...\n",
      "DEBUG:__main__:    Weight matrix 5/9 (128,256): Lognorm: 0.630874752998352\n",
      "DEBUG:__main__:    Weight matrix 6/9 (128,256): Analyzing ...\n",
      "DEBUG:__main__:    Weight matrix 6/9 (128,256): Lognorm: 0.5137887597084045\n",
      "DEBUG:__main__:    Weight matrix 7/9 (128,256): Analyzing ...\n",
      "DEBUG:__main__:    Weight matrix 7/9 (128,256): Lognorm: 0.4312974512577057\n",
      "DEBUG:__main__:    Weight matrix 8/9 (128,256): Analyzing ...\n",
      "DEBUG:__main__:    Weight matrix 8/9 (128,256): Lognorm: 0.4997106194496155\n",
      "DEBUG:__main__:    Weight matrix 9/9 (128,256): Analyzing ...\n",
      "DEBUG:__main__:    Weight matrix 9/9 (128,256): Lognorm: 0.42677345871925354\n",
      "DEBUG:__main__:Layer 9: <keras.layers.convolutional.Conv2D object at 0xb4a8cd278>\n",
      "DEBUG:__main__:Keras tensor shape detected: 256x256 (NxM), 3x3 (i,j)\n",
      "DEBUG:__main__:Layer 9: Analyzing 9 weight matrices...\n",
      "DEBUG:__main__:    Weight matrix 1/9 (256,256): Analyzing ...\n",
      "DEBUG:__main__:    Weight matrix 1/9 (256,256): Lognorm: 0.4611811339855194\n",
      "DEBUG:__main__:    Weight matrix 2/9 (256,256): Analyzing ...\n",
      "DEBUG:__main__:    Weight matrix 2/9 (256,256): Lognorm: 0.5103280544281006\n",
      "DEBUG:__main__:    Weight matrix 3/9 (256,256): Analyzing ...\n",
      "DEBUG:__main__:    Weight matrix 3/9 (256,256): Lognorm: 0.46348103880882263\n",
      "DEBUG:__main__:    Weight matrix 4/9 (256,256): Analyzing ...\n",
      "DEBUG:__main__:    Weight matrix 4/9 (256,256): Lognorm: 0.5043201446533203\n",
      "DEBUG:__main__:    Weight matrix 5/9 (256,256): Analyzing ...\n"
     ]
    },
    {
     "name": "stderr",
     "output_type": "stream",
     "text": [
      "DEBUG:__main__:    Weight matrix 5/9 (256,256): Lognorm: 0.5939016342163086\n",
      "DEBUG:__main__:    Weight matrix 6/9 (256,256): Analyzing ...\n",
      "DEBUG:__main__:    Weight matrix 6/9 (256,256): Lognorm: 0.5075631737709045\n",
      "DEBUG:__main__:    Weight matrix 7/9 (256,256): Analyzing ...\n",
      "DEBUG:__main__:    Weight matrix 7/9 (256,256): Lognorm: 0.45727992057800293\n",
      "DEBUG:__main__:    Weight matrix 8/9 (256,256): Analyzing ...\n",
      "DEBUG:__main__:    Weight matrix 8/9 (256,256): Lognorm: 0.5017167329788208\n",
      "DEBUG:__main__:    Weight matrix 9/9 (256,256): Analyzing ...\n",
      "DEBUG:__main__:    Weight matrix 9/9 (256,256): Lognorm: 0.4612100124359131\n",
      "DEBUG:__main__:Layer 10: <keras.layers.convolutional.Conv2D object at 0xb4a8eb550>\n",
      "DEBUG:__main__:Keras tensor shape detected: 256x256 (NxM), 3x3 (i,j)\n",
      "DEBUG:__main__:Layer 10: Analyzing 9 weight matrices...\n",
      "DEBUG:__main__:    Weight matrix 1/9 (256,256): Analyzing ...\n",
      "DEBUG:__main__:    Weight matrix 1/9 (256,256): Lognorm: 0.4767092168331146\n",
      "DEBUG:__main__:    Weight matrix 2/9 (256,256): Analyzing ...\n",
      "DEBUG:__main__:    Weight matrix 2/9 (256,256): Lognorm: 0.5228332281112671\n",
      "DEBUG:__main__:    Weight matrix 3/9 (256,256): Analyzing ...\n",
      "DEBUG:__main__:    Weight matrix 3/9 (256,256): Lognorm: 0.48029711842536926\n",
      "DEBUG:__main__:    Weight matrix 4/9 (256,256): Analyzing ...\n",
      "DEBUG:__main__:    Weight matrix 4/9 (256,256): Lognorm: 0.5129597187042236\n",
      "DEBUG:__main__:    Weight matrix 5/9 (256,256): Analyzing ...\n",
      "DEBUG:__main__:    Weight matrix 5/9 (256,256): Lognorm: 0.590246319770813\n",
      "DEBUG:__main__:    Weight matrix 6/9 (256,256): Analyzing ...\n",
      "DEBUG:__main__:    Weight matrix 6/9 (256,256): Lognorm: 0.52484530210495\n",
      "DEBUG:__main__:    Weight matrix 7/9 (256,256): Analyzing ...\n",
      "DEBUG:__main__:    Weight matrix 7/9 (256,256): Lognorm: 0.4757029116153717\n",
      "DEBUG:__main__:    Weight matrix 8/9 (256,256): Analyzing ...\n",
      "DEBUG:__main__:    Weight matrix 8/9 (256,256): Lognorm: 0.5153258442878723\n",
      "DEBUG:__main__:    Weight matrix 9/9 (256,256): Analyzing ...\n",
      "DEBUG:__main__:    Weight matrix 9/9 (256,256): Lognorm: 0.4783080518245697\n",
      "DEBUG:__main__:Layer 11: <keras.layers.pooling.MaxPooling2D object at 0xb4a90c4a8>\n",
      "DEBUG:__main__:Layer 11: Skipping (Layer not supported)\n",
      "DEBUG:__main__:Layer 12: <keras.layers.convolutional.Conv2D object at 0xb4a90cf60>\n",
      "DEBUG:__main__:Keras tensor shape detected: 256x512 (NxM), 3x3 (i,j)\n",
      "DEBUG:__main__:Layer 12: Analyzing 9 weight matrices...\n",
      "DEBUG:__main__:    Weight matrix 1/9 (256,512): Analyzing ...\n",
      "DEBUG:__main__:    Weight matrix 1/9 (256,512): Lognorm: 0.533117413520813\n",
      "DEBUG:__main__:    Weight matrix 2/9 (256,512): Analyzing ...\n",
      "DEBUG:__main__:    Weight matrix 2/9 (256,512): Lognorm: 0.5677251815795898\n",
      "DEBUG:__main__:    Weight matrix 3/9 (256,512): Analyzing ...\n",
      "DEBUG:__main__:    Weight matrix 3/9 (256,512): Lognorm: 0.5357765555381775\n",
      "DEBUG:__main__:    Weight matrix 4/9 (256,512): Analyzing ...\n",
      "DEBUG:__main__:    Weight matrix 4/9 (256,512): Lognorm: 0.5680774450302124\n",
      "DEBUG:__main__:    Weight matrix 5/9 (256,512): Analyzing ...\n",
      "DEBUG:__main__:    Weight matrix 5/9 (256,512): Lognorm: 0.6403180360794067\n",
      "DEBUG:__main__:    Weight matrix 6/9 (256,512): Analyzing ...\n",
      "DEBUG:__main__:    Weight matrix 6/9 (256,512): Lognorm: 0.5651501417160034\n",
      "DEBUG:__main__:    Weight matrix 7/9 (256,512): Analyzing ...\n",
      "DEBUG:__main__:    Weight matrix 7/9 (256,512): Lognorm: 0.5288751721382141\n",
      "DEBUG:__main__:    Weight matrix 8/9 (256,512): Analyzing ...\n",
      "DEBUG:__main__:    Weight matrix 8/9 (256,512): Lognorm: 0.5627536177635193\n",
      "DEBUG:__main__:    Weight matrix 9/9 (256,512): Analyzing ...\n",
      "DEBUG:__main__:    Weight matrix 9/9 (256,512): Lognorm: 0.5263329744338989\n",
      "DEBUG:__main__:Layer 13: <keras.layers.convolutional.Conv2D object at 0xb4a950278>\n",
      "DEBUG:__main__:Keras tensor shape detected: 512x512 (NxM), 3x3 (i,j)\n",
      "DEBUG:__main__:Layer 13: Analyzing 9 weight matrices...\n",
      "DEBUG:__main__:    Weight matrix 1/9 (512,512): Analyzing ...\n",
      "DEBUG:__main__:    Weight matrix 1/9 (512,512): Lognorm: 0.5816661715507507\n",
      "DEBUG:__main__:    Weight matrix 2/9 (512,512): Analyzing ...\n",
      "DEBUG:__main__:    Weight matrix 2/9 (512,512): Lognorm: 0.5994589924812317\n",
      "DEBUG:__main__:    Weight matrix 3/9 (512,512): Analyzing ...\n",
      "DEBUG:__main__:    Weight matrix 3/9 (512,512): Lognorm: 0.5804641246795654\n",
      "DEBUG:__main__:    Weight matrix 4/9 (512,512): Analyzing ...\n",
      "DEBUG:__main__:    Weight matrix 4/9 (512,512): Lognorm: 0.5878161787986755\n",
      "DEBUG:__main__:    Weight matrix 5/9 (512,512): Analyzing ...\n",
      "DEBUG:__main__:    Weight matrix 5/9 (512,512): Lognorm: 0.6349806785583496\n",
      "DEBUG:__main__:    Weight matrix 6/9 (512,512): Analyzing ...\n",
      "DEBUG:__main__:    Weight matrix 6/9 (512,512): Lognorm: 0.5888810753822327\n",
      "DEBUG:__main__:    Weight matrix 7/9 (512,512): Analyzing ...\n",
      "DEBUG:__main__:    Weight matrix 7/9 (512,512): Lognorm: 0.5777970552444458\n",
      "DEBUG:__main__:    Weight matrix 8/9 (512,512): Analyzing ...\n",
      "DEBUG:__main__:    Weight matrix 8/9 (512,512): Lognorm: 0.5947223901748657\n",
      "DEBUG:__main__:    Weight matrix 9/9 (512,512): Analyzing ...\n",
      "DEBUG:__main__:    Weight matrix 9/9 (512,512): Lognorm: 0.5786637663841248\n",
      "DEBUG:__main__:Layer 14: <keras.layers.convolutional.Conv2D object at 0xb4a94c0f0>\n",
      "DEBUG:__main__:Keras tensor shape detected: 512x512 (NxM), 3x3 (i,j)\n",
      "DEBUG:__main__:Layer 14: Analyzing 9 weight matrices...\n",
      "DEBUG:__main__:    Weight matrix 1/9 (512,512): Analyzing ...\n",
      "DEBUG:__main__:    Weight matrix 1/9 (512,512): Lognorm: 0.598810613155365\n",
      "DEBUG:__main__:    Weight matrix 2/9 (512,512): Analyzing ...\n",
      "DEBUG:__main__:    Weight matrix 2/9 (512,512): Lognorm: 0.6240571737289429\n",
      "DEBUG:__main__:    Weight matrix 3/9 (512,512): Analyzing ...\n",
      "DEBUG:__main__:    Weight matrix 3/9 (512,512): Lognorm: 0.6002294421195984\n",
      "DEBUG:__main__:    Weight matrix 4/9 (512,512): Analyzing ...\n",
      "DEBUG:__main__:    Weight matrix 4/9 (512,512): Lognorm: 0.6069265604019165\n",
      "DEBUG:__main__:    Weight matrix 5/9 (512,512): Analyzing ...\n",
      "DEBUG:__main__:    Weight matrix 5/9 (512,512): Lognorm: 0.6537207961082458\n",
      "DEBUG:__main__:    Weight matrix 6/9 (512,512): Analyzing ...\n",
      "DEBUG:__main__:    Weight matrix 6/9 (512,512): Lognorm: 0.6051104664802551\n",
      "DEBUG:__main__:    Weight matrix 7/9 (512,512): Analyzing ...\n",
      "DEBUG:__main__:    Weight matrix 7/9 (512,512): Lognorm: 0.596659243106842\n",
      "DEBUG:__main__:    Weight matrix 8/9 (512,512): Analyzing ...\n",
      "DEBUG:__main__:    Weight matrix 8/9 (512,512): Lognorm: 0.6204671859741211\n",
      "DEBUG:__main__:    Weight matrix 9/9 (512,512): Analyzing ...\n",
      "DEBUG:__main__:    Weight matrix 9/9 (512,512): Lognorm: 0.5969995856285095\n",
      "DEBUG:__main__:Layer 15: <keras.layers.pooling.MaxPooling2D object at 0xb4a98d550>\n",
      "DEBUG:__main__:Layer 15: Skipping (Layer not supported)\n",
      "DEBUG:__main__:Layer 16: <keras.layers.convolutional.Conv2D object at 0xb4a9ac080>\n",
      "DEBUG:__main__:Keras tensor shape detected: 512x512 (NxM), 3x3 (i,j)\n",
      "DEBUG:__main__:Layer 16: Analyzing 9 weight matrices...\n",
      "DEBUG:__main__:    Weight matrix 1/9 (512,512): Analyzing ...\n",
      "DEBUG:__main__:    Weight matrix 1/9 (512,512): Lognorm: 0.6414387226104736\n",
      "DEBUG:__main__:    Weight matrix 2/9 (512,512): Analyzing ...\n",
      "DEBUG:__main__:    Weight matrix 2/9 (512,512): Lognorm: 0.658482551574707\n",
      "DEBUG:__main__:    Weight matrix 3/9 (512,512): Analyzing ...\n",
      "DEBUG:__main__:    Weight matrix 3/9 (512,512): Lognorm: 0.6415495276451111\n",
      "DEBUG:__main__:    Weight matrix 4/9 (512,512): Analyzing ...\n",
      "DEBUG:__main__:    Weight matrix 4/9 (512,512): Lognorm: 0.6379082798957825\n",
      "DEBUG:__main__:    Weight matrix 5/9 (512,512): Analyzing ...\n",
      "DEBUG:__main__:    Weight matrix 5/9 (512,512): Lognorm: 0.6930620670318604\n",
      "DEBUG:__main__:    Weight matrix 6/9 (512,512): Analyzing ...\n",
      "DEBUG:__main__:    Weight matrix 6/9 (512,512): Lognorm: 0.6355615258216858\n",
      "DEBUG:__main__:    Weight matrix 7/9 (512,512): Analyzing ...\n",
      "DEBUG:__main__:    Weight matrix 7/9 (512,512): Lognorm: 0.6379796266555786\n",
      "DEBUG:__main__:    Weight matrix 8/9 (512,512): Analyzing ...\n",
      "DEBUG:__main__:    Weight matrix 8/9 (512,512): Lognorm: 0.6546915769577026\n",
      "DEBUG:__main__:    Weight matrix 9/9 (512,512): Analyzing ...\n",
      "DEBUG:__main__:    Weight matrix 9/9 (512,512): Lognorm: 0.6379215717315674\n",
      "DEBUG:__main__:Layer 17: <keras.layers.convolutional.Conv2D object at 0xb4a9d0358>\n"
     ]
    },
    {
     "name": "stderr",
     "output_type": "stream",
     "text": [
      "DEBUG:__main__:Keras tensor shape detected: 512x512 (NxM), 3x3 (i,j)\n",
      "DEBUG:__main__:Layer 17: Analyzing 9 weight matrices...\n",
      "DEBUG:__main__:    Weight matrix 1/9 (512,512): Analyzing ...\n",
      "DEBUG:__main__:    Weight matrix 1/9 (512,512): Lognorm: 0.6483020782470703\n",
      "DEBUG:__main__:    Weight matrix 2/9 (512,512): Analyzing ...\n",
      "DEBUG:__main__:    Weight matrix 2/9 (512,512): Lognorm: 0.6716188788414001\n",
      "DEBUG:__main__:    Weight matrix 3/9 (512,512): Analyzing ...\n",
      "DEBUG:__main__:    Weight matrix 3/9 (512,512): Lognorm: 0.6487486958503723\n",
      "DEBUG:__main__:    Weight matrix 4/9 (512,512): Analyzing ...\n",
      "DEBUG:__main__:    Weight matrix 4/9 (512,512): Lognorm: 0.6313163042068481\n",
      "DEBUG:__main__:    Weight matrix 5/9 (512,512): Analyzing ...\n",
      "DEBUG:__main__:    Weight matrix 5/9 (512,512): Lognorm: 0.690161406993866\n",
      "DEBUG:__main__:    Weight matrix 6/9 (512,512): Analyzing ...\n",
      "DEBUG:__main__:    Weight matrix 6/9 (512,512): Lognorm: 0.6324495077133179\n",
      "DEBUG:__main__:    Weight matrix 7/9 (512,512): Analyzing ...\n",
      "DEBUG:__main__:    Weight matrix 7/9 (512,512): Lognorm: 0.6435777544975281\n",
      "DEBUG:__main__:    Weight matrix 8/9 (512,512): Analyzing ...\n",
      "DEBUG:__main__:    Weight matrix 8/9 (512,512): Lognorm: 0.6643065214157104\n",
      "DEBUG:__main__:    Weight matrix 9/9 (512,512): Analyzing ...\n",
      "DEBUG:__main__:    Weight matrix 9/9 (512,512): Lognorm: 0.6426410675048828\n",
      "DEBUG:__main__:Layer 18: <keras.layers.convolutional.Conv2D object at 0xb4a9e90f0>\n",
      "DEBUG:__main__:Keras tensor shape detected: 512x512 (NxM), 3x3 (i,j)\n",
      "DEBUG:__main__:Layer 18: Analyzing 9 weight matrices...\n",
      "DEBUG:__main__:    Weight matrix 1/9 (512,512): Analyzing ...\n",
      "DEBUG:__main__:    Weight matrix 1/9 (512,512): Lognorm: 0.6312968730926514\n",
      "DEBUG:__main__:    Weight matrix 2/9 (512,512): Analyzing ...\n",
      "DEBUG:__main__:    Weight matrix 2/9 (512,512): Lognorm: 0.6557008028030396\n",
      "DEBUG:__main__:    Weight matrix 3/9 (512,512): Analyzing ...\n",
      "DEBUG:__main__:    Weight matrix 3/9 (512,512): Lognorm: 0.6303039193153381\n",
      "DEBUG:__main__:    Weight matrix 4/9 (512,512): Analyzing ...\n",
      "DEBUG:__main__:    Weight matrix 4/9 (512,512): Lognorm: 0.6299318671226501\n",
      "DEBUG:__main__:    Weight matrix 5/9 (512,512): Analyzing ...\n",
      "DEBUG:__main__:    Weight matrix 5/9 (512,512): Lognorm: 0.6738649010658264\n",
      "DEBUG:__main__:    Weight matrix 6/9 (512,512): Analyzing ...\n",
      "DEBUG:__main__:    Weight matrix 6/9 (512,512): Lognorm: 0.6266793012619019\n",
      "DEBUG:__main__:    Weight matrix 7/9 (512,512): Analyzing ...\n",
      "DEBUG:__main__:    Weight matrix 7/9 (512,512): Lognorm: 0.6302400231361389\n",
      "DEBUG:__main__:    Weight matrix 8/9 (512,512): Analyzing ...\n",
      "DEBUG:__main__:    Weight matrix 8/9 (512,512): Lognorm: 0.6563602089881897\n",
      "DEBUG:__main__:    Weight matrix 9/9 (512,512): Analyzing ...\n",
      "DEBUG:__main__:    Weight matrix 9/9 (512,512): Lognorm: 0.6300156712532043\n",
      "DEBUG:__main__:Layer 19: <keras.layers.pooling.MaxPooling2D object at 0xb4aa0ffd0>\n",
      "DEBUG:__main__:Layer 19: Skipping (Layer not supported)\n",
      "DEBUG:__main__:Layer 20: <keras.layers.core.Flatten object at 0xb4aa2d128>\n",
      "DEBUG:__main__:Layer 20: Skipping (Layer not supported)\n",
      "DEBUG:__main__:Layer 21: <keras.layers.core.Dense object at 0xb4aa2ddd8>\n",
      "DEBUG:__main__:Layer 21: Analyzing 1 weight matrices...\n",
      "DEBUG:__main__:    Weight matrix 1/1 (4096,25088): Analyzing ...\n",
      "DEBUG:__main__:    Weight matrix 1/1 (4096,25088): Lognorm: 1.3697518110275269\n",
      "DEBUG:__main__:Layer 22: <keras.layers.core.Dense object at 0xb4aa6c710>\n",
      "DEBUG:__main__:Layer 22: Analyzing 1 weight matrices...\n",
      "DEBUG:__main__:    Weight matrix 1/1 (4096,4096): Analyzing ...\n",
      "DEBUG:__main__:    Weight matrix 1/1 (4096,4096): Lognorm: 1.2557973861694336\n",
      "DEBUG:__main__:Layer 23: <keras.layers.core.Dense object at 0xb4aa6cdd8>\n",
      "DEBUG:__main__:Layer 23: Analyzing 1 weight matrices...\n",
      "DEBUG:__main__:    Weight matrix 1/1 (1000,4096): Analyzing ...\n",
      "DEBUG:__main__:    Weight matrix 1/1 (1000,4096): Lognorm: 1.224208950996399\n",
      "INFO:__main__:### Printing results ###\n",
      "DEBUG:__main__:Layer 2: Lognorm compound: 0.43449219730165267\n",
      "DEBUG:__main__:Layer 4: Lognorm compound: 0.46344298124313354\n",
      "DEBUG:__main__:Layer 5: Lognorm compound: 0.4776083065403832\n",
      "DEBUG:__main__:Layer 7: Lognorm compound: 0.487847367922465\n",
      "DEBUG:__main__:Layer 8: Lognorm compound: 0.49566464953952366\n",
      "DEBUG:__main__:Layer 9: Lognorm compound: 0.5085808568530612\n",
      "DEBUG:__main__:Layer 11: Lognorm compound: 0.5586807264222039\n",
      "DEBUG:__main__:Layer 12: Lognorm compound: 0.5916056036949158\n",
      "DEBUG:__main__:Layer 13: Lognorm compound: 0.6114423407448663\n",
      "DEBUG:__main__:Layer 15: Lognorm compound: 0.6487328277693855\n",
      "DEBUG:__main__:Layer 16: Lognorm compound: 0.6525691350301107\n",
      "DEBUG:__main__:Layer 17: Lognorm compound: 0.6404881742265489\n",
      "DEBUG:__main__:Layer 20: Lognorm: 1.3697518110275269\n",
      "DEBUG:__main__:Layer 21: Lognorm: 1.2557973861694336\n",
      "DEBUG:__main__:Layer 22: Lognorm: 1.224208950996399\n",
      "INFO:__main__:LogNorm: min: 0.3889707922935486, max: 1.3697518110275269, avg: 0.5674788951873779\n",
      "INFO:__main__:LogNorm compound: min: 0.43449219730165267, max: 1.3697518110275269, avg: 0.6947275543654406\n"
     ]
    }
   ],
   "source": [
    "import logging\n",
    "logging.basicConfig(level=logging.INFO)\n",
    "logger = logging.getLogger(__name__)\n",
    "logger.setLevel(logging.DEBUG)\n",
    "\n",
    "import weightwatcher as ww\n",
    "\n",
    "watcher = ww.WeightWatcher(model=model, logger=logger)\n",
    "\n",
    "results = watcher.analyze()"
   ]
  },
  {
   "cell_type": "markdown",
   "metadata": {
    "ExecuteTime": {
     "end_time": "2018-10-01T22:51:12.554859Z",
     "start_time": "2018-10-01T22:51:12.518859Z"
    }
   },
   "source": [
    "### Disable Logging"
   ]
  },
  {
   "cell_type": "code",
   "execution_count": 15,
   "metadata": {
    "ExecuteTime": {
     "end_time": "2019-03-06T00:16:43.234403Z",
     "start_time": "2019-03-06T00:16:41.779045Z"
    }
   },
   "outputs": [],
   "source": [
    "import weightwatcher as ww\n",
    "\n",
    "watcher = ww.WeightWatcher(model=model, log=False)\n",
    "\n",
    "results = watcher.analyze()"
   ]
  },
  {
   "cell_type": "markdown",
   "metadata": {},
   "source": [
    "## 3. pyTorch Models"
   ]
  },
  {
   "cell_type": "code",
   "execution_count": 16,
   "metadata": {
    "ExecuteTime": {
     "end_time": "2019-03-06T00:16:43.249725Z",
     "start_time": "2019-03-06T00:16:43.240611Z"
    }
   },
   "outputs": [],
   "source": [
    "data = []"
   ]
  },
  {
   "cell_type": "code",
   "execution_count": 17,
   "metadata": {
    "ExecuteTime": {
     "end_time": "2019-03-06T00:40:17.723085Z",
     "start_time": "2019-03-06T00:16:43.259483Z"
    }
   },
   "outputs": [
    {
     "name": "stderr",
     "output_type": "stream",
     "text": [
      "2019-03-05 16:16:52,227 INFO \n",
      "WeightWatcher v0.1.2 by Calculation Consulting\n",
      "Analyze weight matrices of Deep Neural Networks\n",
      "https://calculationconsulting.com/\n",
      "python      version 3.6.7 |Anaconda, Inc.| (default, Oct 23 2018, 14:01:38) \n",
      "[GCC 4.2.1 Compatible Clang 4.0.1 (tags/RELEASE_401/final)]\n",
      "numpy       version 1.15.4\n",
      "tensforflow version 1.12.0\n",
      "keras       version 2.2.4\n",
      "INFO:weightwatcher.weightwatcher:\n",
      "WeightWatcher v0.1.2 by Calculation Consulting\n",
      "Analyze weight matrices of Deep Neural Networks\n",
      "https://calculationconsulting.com/\n",
      "python      version 3.6.7 |Anaconda, Inc.| (default, Oct 23 2018, 14:01:38) \n",
      "[GCC 4.2.1 Compatible Clang 4.0.1 (tags/RELEASE_401/final)]\n",
      "numpy       version 1.15.4\n",
      "tensforflow version 1.12.0\n",
      "keras       version 2.2.4\n",
      "2019-03-05 16:16:52,233 INFO Analyzing model\n",
      "INFO:weightwatcher.weightwatcher:Analyzing model\n",
      "2019-03-05 16:40:17,645 INFO ### Printing results ###\n",
      "INFO:weightwatcher.weightwatcher:### Printing results ###\n",
      "2019-03-05 16:40:17,652 INFO LogNorm: min: 0.5055575966835022, max: 1.7093740701675415, avg: 0.8381869792938232\n",
      "INFO:weightwatcher.weightwatcher:LogNorm: min: 0.5055575966835022, max: 1.7093740701675415, avg: 0.8381869792938232\n",
      "2019-03-05 16:40:17,657 INFO LogNorm compound: min: 0.5506355298890008, max: 1.7093740701675415, avg: 0.979278251418361\n",
      "INFO:weightwatcher.weightwatcher:LogNorm compound: min: 0.5506355298890008, max: 1.7093740701675415, avg: 0.979278251418361\n",
      "2019-03-05 16:40:17,664 INFO Alpha: min: 1.5250535090545694, max: 4.343338301969965, avg: 2.892337732378665\n",
      "INFO:weightwatcher.weightwatcher:Alpha: min: 1.5250535090545694, max: 4.343338301969965, avg: 2.892337732378665\n",
      "2019-03-05 16:40:17,670 INFO Alpha compound: min: 1.753525390798106, max: 3.8419098876438156, avg: 2.7677175818365836\n",
      "INFO:weightwatcher.weightwatcher:Alpha compound: min: 1.753525390798106, max: 3.8419098876438156, avg: 2.7677175818365836\n",
      "2019-03-05 16:40:17,679 INFO Alpha Weighted: min: 0.3537002379603508, max: 3.7137963219178647, avg: 1.4050729205741441\n",
      "INFO:weightwatcher.weightwatcher:Alpha Weighted: min: 0.3537002379603508, max: 3.7137963219178647, avg: 1.4050729205741441\n",
      "2019-03-05 16:40:17,685 INFO Alpha Weighted compound: min: 0.4626617047745095, max: 3.7137963219178647, avg: 1.7930748687925522\n",
      "INFO:weightwatcher.weightwatcher:Alpha Weighted compound: min: 0.4626617047745095, max: 3.7137963219178647, avg: 1.7930748687925522\n"
     ]
    }
   ],
   "source": [
    "import weightwatcher as ww\n",
    "import torchvision.models as models\n",
    "\n",
    "model = models.vgg16(pretrained=True)\n",
    "\n",
    "watcher = ww.WeightWatcher(model=model)\n",
    "\n",
    "results = watcher.analyze(compute_alphas=True)\n",
    "\n",
    "data.append({\"name\": \"vgg16torch\", \"summary\": watcher.get_summary()})"
   ]
  },
  {
   "cell_type": "code",
   "execution_count": 18,
   "metadata": {
    "ExecuteTime": {
     "end_time": "2019-03-06T01:03:30.884210Z",
     "start_time": "2019-03-06T00:40:17.729503Z"
    }
   },
   "outputs": [
    {
     "name": "stderr",
     "output_type": "stream",
     "text": [
      "2019-03-05 16:40:25,451 INFO \n",
      "WeightWatcher v0.1.2 by Calculation Consulting\n",
      "Analyze weight matrices of Deep Neural Networks\n",
      "https://calculationconsulting.com/\n",
      "python      version 3.6.7 |Anaconda, Inc.| (default, Oct 23 2018, 14:01:38) \n",
      "[GCC 4.2.1 Compatible Clang 4.0.1 (tags/RELEASE_401/final)]\n",
      "numpy       version 1.15.4\n",
      "tensforflow version 1.12.0\n",
      "keras       version 2.2.4\n",
      "INFO:weightwatcher.weightwatcher:\n",
      "WeightWatcher v0.1.2 by Calculation Consulting\n",
      "Analyze weight matrices of Deep Neural Networks\n",
      "https://calculationconsulting.com/\n",
      "python      version 3.6.7 |Anaconda, Inc.| (default, Oct 23 2018, 14:01:38) \n",
      "[GCC 4.2.1 Compatible Clang 4.0.1 (tags/RELEASE_401/final)]\n",
      "numpy       version 1.15.4\n",
      "tensforflow version 1.12.0\n",
      "keras       version 2.2.4\n",
      "2019-03-05 16:40:25,456 INFO Analyzing model\n",
      "INFO:weightwatcher.weightwatcher:Analyzing model\n",
      "2019-03-05 17:03:30,458 INFO ### Printing results ###\n",
      "INFO:weightwatcher.weightwatcher:### Printing results ###\n",
      "2019-03-05 17:03:30,486 INFO LogNorm: min: 0.28816333413124084, max: 1.6797510385513306, avg: 0.770097553730011\n",
      "INFO:weightwatcher.weightwatcher:LogNorm: min: 0.28816333413124084, max: 1.6797510385513306, avg: 0.770097553730011\n",
      "2019-03-05 17:03:30,492 INFO LogNorm compound: min: 0.35032408436139423, max: 1.6797510385513306, avg: 0.9220763058574111\n",
      "INFO:weightwatcher.weightwatcher:LogNorm compound: min: 0.35032408436139423, max: 1.6797510385513306, avg: 0.9220763058574111\n",
      "2019-03-05 17:03:30,497 INFO Alpha: min: 1.5416898601966809, max: 5.67734161171956, avg: 3.099085549447262\n",
      "INFO:weightwatcher.weightwatcher:Alpha: min: 1.5416898601966809, max: 5.67734161171956, avg: 3.099085549447262\n",
      "2019-03-05 17:03:30,503 INFO Alpha compound: min: 1.664892467685746, max: 4.570107385182388, avg: 2.966024319976765\n",
      "INFO:weightwatcher.weightwatcher:Alpha compound: min: 1.664892467685746, max: 4.570107385182388, avg: 2.966024319976765\n",
      "2019-03-05 17:03:30,509 INFO Alpha Weighted: min: -0.14159613714904265, max: 5.226982407660134, avg: 1.082040326171031\n",
      "INFO:weightwatcher.weightwatcher:Alpha Weighted: min: -0.14159613714904265, max: 5.226982407660134, avg: 1.082040326171031\n",
      "2019-03-05 17:03:30,515 INFO Alpha Weighted compound: min: 0.13886882344499363, max: 5.226982407660134, avg: 1.5490585712532523\n",
      "INFO:weightwatcher.weightwatcher:Alpha Weighted compound: min: 0.13886882344499363, max: 5.226982407660134, avg: 1.5490585712532523\n"
     ]
    }
   ],
   "source": [
    "import weightwatcher as ww\n",
    "import torchvision.models as models\n",
    "\n",
    "model = models.vgg16_bn(pretrained=True)\n",
    "\n",
    "watcher = ww.WeightWatcher(model=model)\n",
    "\n",
    "results = watcher.analyze(compute_alphas=True)\n",
    "\n",
    "data.append({\"name\": \"vgg16bntorch\", \"summary\": watcher.get_summary()})"
   ]
  },
  {
   "cell_type": "code",
   "execution_count": 19,
   "metadata": {
    "ExecuteTime": {
     "end_time": "2019-03-06T01:24:27.165312Z",
     "start_time": "2019-03-06T01:03:30.908016Z"
    }
   },
   "outputs": [
    {
     "name": "stderr",
     "output_type": "stream",
     "text": [
      "2019-03-05 17:03:37,785 INFO \n",
      "WeightWatcher v0.1.2 by Calculation Consulting\n",
      "Analyze weight matrices of Deep Neural Networks\n",
      "https://calculationconsulting.com/\n",
      "python      version 3.6.7 |Anaconda, Inc.| (default, Oct 23 2018, 14:01:38) \n",
      "[GCC 4.2.1 Compatible Clang 4.0.1 (tags/RELEASE_401/final)]\n",
      "numpy       version 1.15.4\n",
      "tensforflow version 1.12.0\n",
      "keras       version 2.2.4\n",
      "INFO:weightwatcher.weightwatcher:\n",
      "WeightWatcher v0.1.2 by Calculation Consulting\n",
      "Analyze weight matrices of Deep Neural Networks\n",
      "https://calculationconsulting.com/\n",
      "python      version 3.6.7 |Anaconda, Inc.| (default, Oct 23 2018, 14:01:38) \n",
      "[GCC 4.2.1 Compatible Clang 4.0.1 (tags/RELEASE_401/final)]\n",
      "numpy       version 1.15.4\n",
      "tensforflow version 1.12.0\n",
      "keras       version 2.2.4\n",
      "2019-03-05 17:03:37,791 INFO Analyzing model\n",
      "INFO:weightwatcher.weightwatcher:Analyzing model\n",
      "2019-03-05 17:24:26,858 INFO ### Printing results ###\n",
      "INFO:weightwatcher.weightwatcher:### Printing results ###\n",
      "2019-03-05 17:24:26,867 INFO LogNorm: min: 0.7200042009353638, max: 1.7588783502578735, avg: 0.9474982619285583\n",
      "INFO:weightwatcher.weightwatcher:LogNorm: min: 0.7200042009353638, max: 1.7588783502578735, avg: 0.9474982619285583\n",
      "2019-03-05 17:24:26,872 INFO LogNorm compound: min: 0.7691774302058749, max: 1.7588783502578735, avg: 1.138647382789188\n",
      "INFO:weightwatcher.weightwatcher:LogNorm compound: min: 0.7691774302058749, max: 1.7588783502578735, avg: 1.138647382789188\n",
      "2019-03-05 17:24:26,880 INFO Alpha: min: 1.3854856815241523, max: 3.87588443682989, avg: 2.5724933905622995\n",
      "INFO:weightwatcher.weightwatcher:Alpha: min: 1.3854856815241523, max: 3.87588443682989, avg: 2.5724933905622995\n",
      "2019-03-05 17:24:26,886 INFO Alpha compound: min: 1.5225809468085738, max: 3.521014281392553, avg: 2.537004676079584\n",
      "INFO:weightwatcher.weightwatcher:Alpha compound: min: 1.5225809468085738, max: 3.521014281392553, avg: 2.537004676079584\n",
      "2019-03-05 17:24:26,895 INFO Alpha Weighted: min: 0.6363945630295984, max: 4.999372607286661, avg: 1.843995284787769\n",
      "INFO:weightwatcher.weightwatcher:Alpha Weighted: min: 0.6363945630295984, max: 4.999372607286661, avg: 1.843995284787769\n",
      "2019-03-05 17:24:26,901 INFO Alpha Weighted compound: min: 1.0371090217394157, max: 4.999372607286661, avg: 2.4581931742301806\n",
      "INFO:weightwatcher.weightwatcher:Alpha Weighted compound: min: 1.0371090217394157, max: 4.999372607286661, avg: 2.4581931742301806\n"
     ]
    }
   ],
   "source": [
    "import weightwatcher as ww\n",
    "import torchvision.models as models\n",
    "\n",
    "model = models.vgg11(pretrained=True)\n",
    "\n",
    "watcher = ww.WeightWatcher(model=model)\n",
    "\n",
    "results = watcher.analyze(compute_alphas=True)\n",
    "\n",
    "data.append({\"name\": \"vgg11torch\", \"summary\": watcher.get_summary()})"
   ]
  },
  {
   "cell_type": "code",
   "execution_count": 20,
   "metadata": {
    "ExecuteTime": {
     "end_time": "2019-03-06T01:45:08.643722Z",
     "start_time": "2019-03-06T01:24:27.176445Z"
    }
   },
   "outputs": [
    {
     "name": "stderr",
     "output_type": "stream",
     "text": [
      "2019-03-05 17:24:34,149 INFO \n",
      "WeightWatcher v0.1.2 by Calculation Consulting\n",
      "Analyze weight matrices of Deep Neural Networks\n",
      "https://calculationconsulting.com/\n",
      "python      version 3.6.7 |Anaconda, Inc.| (default, Oct 23 2018, 14:01:38) \n",
      "[GCC 4.2.1 Compatible Clang 4.0.1 (tags/RELEASE_401/final)]\n",
      "numpy       version 1.15.4\n",
      "tensforflow version 1.12.0\n",
      "keras       version 2.2.4\n",
      "INFO:weightwatcher.weightwatcher:\n",
      "WeightWatcher v0.1.2 by Calculation Consulting\n",
      "Analyze weight matrices of Deep Neural Networks\n",
      "https://calculationconsulting.com/\n",
      "python      version 3.6.7 |Anaconda, Inc.| (default, Oct 23 2018, 14:01:38) \n",
      "[GCC 4.2.1 Compatible Clang 4.0.1 (tags/RELEASE_401/final)]\n",
      "numpy       version 1.15.4\n",
      "tensforflow version 1.12.0\n",
      "keras       version 2.2.4\n",
      "2019-03-05 17:24:34,158 INFO Analyzing model\n",
      "INFO:weightwatcher.weightwatcher:Analyzing model\n",
      "2019-03-05 17:45:08,245 INFO ### Printing results ###\n",
      "INFO:weightwatcher.weightwatcher:### Printing results ###\n",
      "2019-03-05 17:45:08,251 INFO LogNorm: min: 0.5993328094482422, max: 1.727738857269287, avg: 0.8902592062950134\n",
      "INFO:weightwatcher.weightwatcher:LogNorm: min: 0.5993328094482422, max: 1.727738857269287, avg: 0.8902592062950134\n",
      "2019-03-05 17:45:08,257 INFO LogNorm compound: min: 0.6529925068219503, max: 1.727738857269287, avg: 1.0959334148301019\n",
      "INFO:weightwatcher.weightwatcher:LogNorm compound: min: 0.6529925068219503, max: 1.727738857269287, avg: 1.0959334148301019\n",
      "2019-03-05 17:45:08,264 INFO Alpha: min: 1.3312675874883295, max: 5.2298727236158875, avg: 2.746966353088615\n",
      "INFO:weightwatcher.weightwatcher:Alpha: min: 1.3312675874883295, max: 5.2298727236158875, avg: 2.746966353088615\n",
      "2019-03-05 17:45:08,272 INFO Alpha compound: min: 1.6642464093162848, max: 3.927285421545872, avg: 2.638103917249632\n",
      "INFO:weightwatcher.weightwatcher:Alpha compound: min: 1.6642464093162848, max: 3.927285421545872, avg: 2.638103917249632\n",
      "2019-03-05 17:45:08,279 INFO Alpha Weighted: min: 0.30176647632390513, max: 5.329177232276711, avg: 1.5976471089094864\n",
      "INFO:weightwatcher.weightwatcher:Alpha Weighted: min: 0.30176647632390513, max: 5.329177232276711, avg: 1.5976471089094864\n",
      "2019-03-05 17:45:08,284 INFO Alpha Weighted compound: min: 0.6444254690319094, max: 5.329177232276711, avg: 2.201920234038917\n",
      "INFO:weightwatcher.weightwatcher:Alpha Weighted compound: min: 0.6444254690319094, max: 5.329177232276711, avg: 2.201920234038917\n"
     ]
    }
   ],
   "source": [
    "import weightwatcher as ww\n",
    "import torchvision.models as models\n",
    "\n",
    "model = models.vgg11_bn(pretrained=True)\n",
    "\n",
    "watcher = ww.WeightWatcher(model=model)\n",
    "\n",
    "results = watcher.analyze(compute_alphas=True)\n",
    "\n",
    "data.append({\"name\": \"vgg11bntorch\", \"summary\": watcher.get_summary()})"
   ]
  },
  {
   "cell_type": "code",
   "execution_count": 21,
   "metadata": {
    "ExecuteTime": {
     "end_time": "2019-03-06T02:07:08.066376Z",
     "start_time": "2019-03-06T01:45:08.651095Z"
    }
   },
   "outputs": [
    {
     "name": "stderr",
     "output_type": "stream",
     "text": [
      "2019-03-05 17:45:16,034 INFO \n",
      "WeightWatcher v0.1.2 by Calculation Consulting\n",
      "Analyze weight matrices of Deep Neural Networks\n",
      "https://calculationconsulting.com/\n",
      "python      version 3.6.7 |Anaconda, Inc.| (default, Oct 23 2018, 14:01:38) \n",
      "[GCC 4.2.1 Compatible Clang 4.0.1 (tags/RELEASE_401/final)]\n",
      "numpy       version 1.15.4\n",
      "tensforflow version 1.12.0\n",
      "keras       version 2.2.4\n",
      "INFO:weightwatcher.weightwatcher:\n",
      "WeightWatcher v0.1.2 by Calculation Consulting\n",
      "Analyze weight matrices of Deep Neural Networks\n",
      "https://calculationconsulting.com/\n",
      "python      version 3.6.7 |Anaconda, Inc.| (default, Oct 23 2018, 14:01:38) \n",
      "[GCC 4.2.1 Compatible Clang 4.0.1 (tags/RELEASE_401/final)]\n",
      "numpy       version 1.15.4\n",
      "tensforflow version 1.12.0\n",
      "keras       version 2.2.4\n",
      "2019-03-05 17:45:16,039 INFO Analyzing model\n",
      "INFO:weightwatcher.weightwatcher:Analyzing model\n",
      "2019-03-05 18:07:07,694 INFO ### Printing results ###\n",
      "INFO:weightwatcher.weightwatcher:### Printing results ###\n",
      "2019-03-05 18:07:07,701 INFO LogNorm: min: 0.53458172082901, max: 1.7561616897583008, avg: 0.8640468120574951\n",
      "INFO:weightwatcher.weightwatcher:LogNorm: min: 0.53458172082901, max: 1.7561616897583008, avg: 0.8640468120574951\n",
      "2019-03-05 18:07:07,707 INFO LogNorm compound: min: 0.5716044704119364, max: 1.7561616897583008, avg: 1.040889948606491\n",
      "INFO:weightwatcher.weightwatcher:LogNorm compound: min: 0.5716044704119364, max: 1.7561616897583008, avg: 1.040889948606491\n",
      "2019-03-05 18:07:07,714 INFO Alpha: min: 1.4229915864997174, max: 4.882613555143458, avg: 2.6896965355653815\n",
      "INFO:weightwatcher.weightwatcher:Alpha: min: 1.4229915864997174, max: 4.882613555143458, avg: 2.6896965355653815\n",
      "2019-03-05 18:07:07,723 INFO Alpha compound: min: 1.6193137562798454, max: 3.654240476634254, avg: 2.6287550035479783\n",
      "INFO:weightwatcher.weightwatcher:Alpha compound: min: 1.6193137562798454, max: 3.654240476634254, avg: 2.6287550035479783\n",
      "2019-03-05 18:07:07,731 INFO Alpha Weighted: min: 0.3745428047958965, max: 4.799175378124359, avg: 1.645383124836375\n",
      "INFO:weightwatcher.weightwatcher:Alpha Weighted: min: 0.3745428047958965, max: 4.799175378124359, avg: 1.645383124836375\n",
      "2019-03-05 18:07:07,739 INFO Alpha Weighted compound: min: 0.6126544040255939, max: 4.799175378124359, avg: 2.192307634616895\n",
      "INFO:weightwatcher.weightwatcher:Alpha Weighted compound: min: 0.6126544040255939, max: 4.799175378124359, avg: 2.192307634616895\n"
     ]
    }
   ],
   "source": [
    "import weightwatcher as ww\n",
    "import torchvision.models as models\n",
    "\n",
    "model = models.vgg13(pretrained=True)\n",
    "\n",
    "watcher = ww.WeightWatcher(model=model)\n",
    "\n",
    "results = watcher.analyze(compute_alphas=True)\n",
    "\n",
    "data.append({\"name\": \"vgg13torch\", \"summary\": watcher.get_summary()})"
   ]
  },
  {
   "cell_type": "code",
   "execution_count": 22,
   "metadata": {
    "ExecuteTime": {
     "end_time": "2019-03-06T02:28:16.756345Z",
     "start_time": "2019-03-06T02:07:08.077271Z"
    }
   },
   "outputs": [
    {
     "name": "stderr",
     "output_type": "stream",
     "text": [
      "2019-03-05 18:07:15,010 INFO \n",
      "WeightWatcher v0.1.2 by Calculation Consulting\n",
      "Analyze weight matrices of Deep Neural Networks\n",
      "https://calculationconsulting.com/\n",
      "python      version 3.6.7 |Anaconda, Inc.| (default, Oct 23 2018, 14:01:38) \n",
      "[GCC 4.2.1 Compatible Clang 4.0.1 (tags/RELEASE_401/final)]\n",
      "numpy       version 1.15.4\n",
      "tensforflow version 1.12.0\n",
      "keras       version 2.2.4\n",
      "INFO:weightwatcher.weightwatcher:\n",
      "WeightWatcher v0.1.2 by Calculation Consulting\n",
      "Analyze weight matrices of Deep Neural Networks\n",
      "https://calculationconsulting.com/\n",
      "python      version 3.6.7 |Anaconda, Inc.| (default, Oct 23 2018, 14:01:38) \n",
      "[GCC 4.2.1 Compatible Clang 4.0.1 (tags/RELEASE_401/final)]\n",
      "numpy       version 1.15.4\n",
      "tensforflow version 1.12.0\n",
      "keras       version 2.2.4\n",
      "2019-03-05 18:07:15,016 INFO Analyzing model\n",
      "INFO:weightwatcher.weightwatcher:Analyzing model\n",
      "2019-03-05 18:28:16,260 INFO ### Printing results ###\n",
      "INFO:weightwatcher.weightwatcher:### Printing results ###\n",
      "2019-03-05 18:28:16,269 INFO LogNorm: min: 0.3236437141895294, max: 1.7195112705230713, avg: 0.7937617301940918\n",
      "INFO:weightwatcher.weightwatcher:LogNorm: min: 0.3236437141895294, max: 1.7195112705230713, avg: 0.7937617301940918\n",
      "2019-03-05 18:28:16,277 INFO LogNorm compound: min: 0.3866419494152069, max: 1.7195112705230713, avg: 0.9850752019771822\n",
      "INFO:weightwatcher.weightwatcher:LogNorm compound: min: 0.3866419494152069, max: 1.7195112705230713, avg: 0.9850752019771822\n",
      "2019-03-05 18:28:16,285 INFO Alpha: min: 1.539537263296173, max: 7.42748716716912, avg: 2.953077541185168\n",
      "INFO:weightwatcher.weightwatcher:Alpha: min: 1.539537263296173, max: 7.42748716716912, avg: 2.953077541185168\n",
      "2019-03-05 18:28:16,295 INFO Alpha compound: min: 1.8535433161904957, max: 4.015678803981534, avg: 2.816647652244841\n",
      "INFO:weightwatcher.weightwatcher:Alpha compound: min: 1.8535433161904957, max: 4.015678803981534, avg: 2.816647652244841\n",
      "2019-03-05 18:28:16,305 INFO Alpha Weighted: min: -0.0502193424989187, max: 5.284962065550667, avg: 1.3551245308859858\n",
      "INFO:weightwatcher.weightwatcher:Alpha Weighted: min: -0.0502193424989187, max: 5.284962065550667, avg: 1.3551245308859858\n",
      "2019-03-05 18:28:16,313 INFO Alpha Weighted compound: min: 0.45352534016055024, max: 5.284962065550667, avg: 1.904909963502129\n",
      "INFO:weightwatcher.weightwatcher:Alpha Weighted compound: min: 0.45352534016055024, max: 5.284962065550667, avg: 1.904909963502129\n"
     ]
    }
   ],
   "source": [
    "import weightwatcher as ww\n",
    "import torchvision.models as models\n",
    "\n",
    "model = models.vgg13_bn(pretrained=True)\n",
    "\n",
    "watcher = ww.WeightWatcher(model=model)\n",
    "\n",
    "results = watcher.analyze(compute_alphas=True)\n",
    "\n",
    "data.append({\"name\": \"vgg13bntorch\", \"summary\": watcher.get_summary()})"
   ]
  },
  {
   "cell_type": "code",
   "execution_count": 23,
   "metadata": {
    "ExecuteTime": {
     "end_time": "2019-03-06T02:52:14.088253Z",
     "start_time": "2019-03-06T02:28:16.767312Z"
    }
   },
   "outputs": [
    {
     "name": "stderr",
     "output_type": "stream",
     "text": [
      "2019-03-05 18:28:25,556 INFO \n",
      "WeightWatcher v0.1.2 by Calculation Consulting\n",
      "Analyze weight matrices of Deep Neural Networks\n",
      "https://calculationconsulting.com/\n",
      "python      version 3.6.7 |Anaconda, Inc.| (default, Oct 23 2018, 14:01:38) \n",
      "[GCC 4.2.1 Compatible Clang 4.0.1 (tags/RELEASE_401/final)]\n",
      "numpy       version 1.15.4\n",
      "tensforflow version 1.12.0\n",
      "keras       version 2.2.4\n",
      "INFO:weightwatcher.weightwatcher:\n",
      "WeightWatcher v0.1.2 by Calculation Consulting\n",
      "Analyze weight matrices of Deep Neural Networks\n",
      "https://calculationconsulting.com/\n",
      "python      version 3.6.7 |Anaconda, Inc.| (default, Oct 23 2018, 14:01:38) \n",
      "[GCC 4.2.1 Compatible Clang 4.0.1 (tags/RELEASE_401/final)]\n",
      "numpy       version 1.15.4\n",
      "tensforflow version 1.12.0\n",
      "keras       version 2.2.4\n",
      "2019-03-05 18:28:25,569 INFO Analyzing model\n",
      "INFO:weightwatcher.weightwatcher:Analyzing model\n",
      "2019-03-05 18:52:13,754 INFO ### Printing results ###\n",
      "INFO:weightwatcher.weightwatcher:### Printing results ###\n",
      "2019-03-05 18:52:13,759 INFO LogNorm: min: 0.507559061050415, max: 1.6810033321380615, avg: 0.8185057640075684\n",
      "INFO:weightwatcher.weightwatcher:LogNorm: min: 0.507559061050415, max: 1.6810033321380615, avg: 0.8185057640075684\n",
      "2019-03-05 18:52:13,768 INFO LogNorm compound: min: 0.5500112970670065, max: 1.6810033321380615, avg: 0.9365272010550088\n",
      "INFO:weightwatcher.weightwatcher:LogNorm compound: min: 0.5500112970670065, max: 1.6810033321380615, avg: 0.9365272010550088\n",
      "2019-03-05 18:52:13,775 INFO Alpha: min: 1.4433520467685375, max: 5.027316766089016, avg: 2.964672714460521\n",
      "INFO:weightwatcher.weightwatcher:Alpha: min: 1.4433520467685375, max: 5.027316766089016, avg: 2.964672714460521\n",
      "2019-03-05 18:52:13,780 INFO Alpha compound: min: 1.5696911586969953, max: 4.103986575942503, avg: 2.847975586631824\n",
      "INFO:weightwatcher.weightwatcher:Alpha compound: min: 1.5696911586969953, max: 4.103986575942503, avg: 2.847975586631824\n",
      "2019-03-05 18:52:13,786 INFO Alpha Weighted: min: 0.21452579708070746, max: 3.591570016580016, avg: 1.158888301805832\n",
      "INFO:weightwatcher.weightwatcher:Alpha Weighted: min: 0.21452579708070746, max: 3.591570016580016, avg: 1.158888301805832\n",
      "2019-03-05 18:52:13,791 INFO Alpha Weighted compound: min: 0.3858704124961989, max: 3.591570016580016, avg: 1.5002344159934522\n",
      "INFO:weightwatcher.weightwatcher:Alpha Weighted compound: min: 0.3858704124961989, max: 3.591570016580016, avg: 1.5002344159934522\n"
     ]
    }
   ],
   "source": [
    "import weightwatcher as ww\n",
    "import torchvision.models as models\n",
    "\n",
    "model = models.vgg19(pretrained=True)\n",
    "\n",
    "watcher = ww.WeightWatcher(model=model)\n",
    "\n",
    "results = watcher.analyze(compute_alphas=True)\n",
    "\n",
    "data.append({\"name\": \"vgg19torch\", \"summary\": watcher.get_summary()})"
   ]
  },
  {
   "cell_type": "code",
   "execution_count": 24,
   "metadata": {
    "ExecuteTime": {
     "end_time": "2019-03-06T03:16:03.620082Z",
     "start_time": "2019-03-06T02:52:14.095969Z"
    }
   },
   "outputs": [
    {
     "name": "stderr",
     "output_type": "stream",
     "text": [
      "2019-03-05 18:52:21,113 INFO \n",
      "WeightWatcher v0.1.2 by Calculation Consulting\n",
      "Analyze weight matrices of Deep Neural Networks\n",
      "https://calculationconsulting.com/\n",
      "python      version 3.6.7 |Anaconda, Inc.| (default, Oct 23 2018, 14:01:38) \n",
      "[GCC 4.2.1 Compatible Clang 4.0.1 (tags/RELEASE_401/final)]\n",
      "numpy       version 1.15.4\n",
      "tensforflow version 1.12.0\n",
      "keras       version 2.2.4\n",
      "INFO:weightwatcher.weightwatcher:\n",
      "WeightWatcher v0.1.2 by Calculation Consulting\n",
      "Analyze weight matrices of Deep Neural Networks\n",
      "https://calculationconsulting.com/\n",
      "python      version 3.6.7 |Anaconda, Inc.| (default, Oct 23 2018, 14:01:38) \n",
      "[GCC 4.2.1 Compatible Clang 4.0.1 (tags/RELEASE_401/final)]\n",
      "numpy       version 1.15.4\n",
      "tensforflow version 1.12.0\n",
      "keras       version 2.2.4\n",
      "2019-03-05 18:52:21,118 INFO Analyzing model\n",
      "INFO:weightwatcher.weightwatcher:Analyzing model\n",
      "2019-03-05 19:16:03,343 INFO ### Printing results ###\n",
      "INFO:weightwatcher.weightwatcher:### Printing results ###\n",
      "2019-03-05 19:16:03,349 INFO LogNorm: min: 0.21745115518569946, max: 1.6614755392074585, avg: 0.7364940643310547\n",
      "INFO:weightwatcher.weightwatcher:LogNorm: min: 0.21745115518569946, max: 1.6614755392074585, avg: 0.7364940643310547\n",
      "2019-03-05 19:16:03,353 INFO LogNorm compound: min: 0.2935509764485889, max: 1.6614755392074585, avg: 0.8661540661145141\n",
      "INFO:weightwatcher.weightwatcher:LogNorm compound: min: 0.2935509764485889, max: 1.6614755392074585, avg: 0.8661540661145141\n",
      "2019-03-05 19:16:03,359 INFO Alpha: min: 1.5105249374631677, max: 5.644501871946448, avg: 3.0795822294740107\n",
      "INFO:weightwatcher.weightwatcher:Alpha: min: 1.5105249374631677, max: 5.644501871946448, avg: 3.0795822294740107\n",
      "2019-03-05 19:16:03,364 INFO Alpha compound: min: 1.66471757925084, max: 4.799351943384637, avg: 2.971730916791499\n",
      "INFO:weightwatcher.weightwatcher:Alpha compound: min: 1.66471757925084, max: 4.799351943384637, avg: 2.971730916791499\n",
      "2019-03-05 19:16:03,371 INFO Alpha Weighted: min: -0.37484469026724104, max: 5.183225819707867, avg: 0.8110580111969511\n",
      "INFO:weightwatcher.weightwatcher:Alpha Weighted: min: -0.37484469026724104, max: 5.183225819707867, avg: 0.8110580111969511\n",
      "2019-03-05 19:16:03,375 INFO Alpha Weighted compound: min: -0.043707438839231366, max: 5.183225819707867, avg: 1.2301549913752734\n",
      "INFO:weightwatcher.weightwatcher:Alpha Weighted compound: min: -0.043707438839231366, max: 5.183225819707867, avg: 1.2301549913752734\n"
     ]
    }
   ],
   "source": [
    "import weightwatcher as ww\n",
    "import torchvision.models as models\n",
    "\n",
    "model = models.vgg19_bn(pretrained=True)\n",
    "\n",
    "watcher = ww.WeightWatcher(model=model)\n",
    "\n",
    "results = watcher.analyze(compute_alphas=True)\n",
    "\n",
    "data.append({\"name\": \"vgg19bntorch\", \"summary\": watcher.get_summary()})"
   ]
  },
  {
   "cell_type": "code",
   "execution_count": 25,
   "metadata": {
    "ExecuteTime": {
     "end_time": "2019-03-06T03:16:03.656840Z",
     "start_time": "2019-03-06T03:16:03.629371Z"
    }
   },
   "outputs": [
    {
     "data": {
      "text/plain": [
       "[{'name': 'vgg16torch',\n",
       "  'summary': {'lognorm': 0.838187,\n",
       "   'lognorm_compound': 0.979278251418361,\n",
       "   'alpha': 2.892337732378665,\n",
       "   'alpha_compound': 2.7677175818365836,\n",
       "   'alpha_weighted': 1.4050729205741441,\n",
       "   'alpha_weighted_compound': 1.7930748687925522}},\n",
       " {'name': 'vgg16bntorch',\n",
       "  'summary': {'lognorm': 0.77009755,\n",
       "   'lognorm_compound': 0.9220763058574111,\n",
       "   'alpha': 3.099085549447262,\n",
       "   'alpha_compound': 2.966024319976765,\n",
       "   'alpha_weighted': 1.082040326171031,\n",
       "   'alpha_weighted_compound': 1.5490585712532523}},\n",
       " {'name': 'vgg11torch',\n",
       "  'summary': {'lognorm': 0.94749826,\n",
       "   'lognorm_compound': 1.138647382789188,\n",
       "   'alpha': 2.5724933905622995,\n",
       "   'alpha_compound': 2.537004676079584,\n",
       "   'alpha_weighted': 1.843995284787769,\n",
       "   'alpha_weighted_compound': 2.4581931742301806}},\n",
       " {'name': 'vgg11bntorch',\n",
       "  'summary': {'lognorm': 0.8902592,\n",
       "   'lognorm_compound': 1.0959334148301019,\n",
       "   'alpha': 2.746966353088615,\n",
       "   'alpha_compound': 2.638103917249632,\n",
       "   'alpha_weighted': 1.5976471089094864,\n",
       "   'alpha_weighted_compound': 2.201920234038917}},\n",
       " {'name': 'vgg13torch',\n",
       "  'summary': {'lognorm': 0.8640468,\n",
       "   'lognorm_compound': 1.040889948606491,\n",
       "   'alpha': 2.6896965355653815,\n",
       "   'alpha_compound': 2.6287550035479783,\n",
       "   'alpha_weighted': 1.645383124836375,\n",
       "   'alpha_weighted_compound': 2.192307634616895}},\n",
       " {'name': 'vgg13bntorch',\n",
       "  'summary': {'lognorm': 0.79376173,\n",
       "   'lognorm_compound': 0.9850752019771822,\n",
       "   'alpha': 2.953077541185168,\n",
       "   'alpha_compound': 2.816647652244841,\n",
       "   'alpha_weighted': 1.3551245308859858,\n",
       "   'alpha_weighted_compound': 1.904909963502129}},\n",
       " {'name': 'vgg19torch',\n",
       "  'summary': {'lognorm': 0.81850576,\n",
       "   'lognorm_compound': 0.9365272010550088,\n",
       "   'alpha': 2.964672714460521,\n",
       "   'alpha_compound': 2.847975586631824,\n",
       "   'alpha_weighted': 1.158888301805832,\n",
       "   'alpha_weighted_compound': 1.5002344159934522}},\n",
       " {'name': 'vgg19bntorch',\n",
       "  'summary': {'lognorm': 0.73649406,\n",
       "   'lognorm_compound': 0.8661540661145141,\n",
       "   'alpha': 3.0795822294740107,\n",
       "   'alpha_compound': 2.971730916791499,\n",
       "   'alpha_weighted': 0.8110580111969511,\n",
       "   'alpha_weighted_compound': 1.2301549913752734}}]"
      ]
     },
     "execution_count": 25,
     "metadata": {},
     "output_type": "execute_result"
    }
   ],
   "source": [
    "data"
   ]
  },
  {
   "cell_type": "code",
   "execution_count": 26,
   "metadata": {
    "ExecuteTime": {
     "end_time": "2019-03-06T03:16:03.721719Z",
     "start_time": "2019-03-06T03:16:03.665193Z"
    }
   },
   "outputs": [],
   "source": [
    "# pytorch Model accuracies \n",
    "# https://github.com/Cadene/pretrained-models.pytorch\n",
    "\n",
    "accuracies = {\n",
    "    \"vgg11torch\": 68.970,\n",
    "    \"vgg11bntorch\": 70.452,\n",
    "    \"vgg13torch\": 69.662,\n",
    "    \"vgg13bntorch\": 71.508,\n",
    "    \"vgg16torch\": 71.636,\n",
    "    \"vgg16bntorch\": 73.518,\n",
    "    \"vgg19torch\": 72.080,\n",
    "    \"vgg19bntorch\": 74.266,\n",
    "}"
   ]
  },
  {
   "cell_type": "code",
   "execution_count": 27,
   "metadata": {
    "ExecuteTime": {
     "end_time": "2019-03-06T03:16:03.740667Z",
     "start_time": "2019-03-06T03:16:03.728138Z"
    }
   },
   "outputs": [],
   "source": [
    "# pytorch Model accuracies \n",
    "# https://github.com/Cadene/pretrained-models.pytorch\n",
    "\n",
    "accuracies5 = {\n",
    "    \"vgg11torch\": 88.746,\n",
    "    \"vgg11bntorch\": 89.818,\n",
    "    \"vgg13torch\": 89.264,\n",
    "    \"vgg13bntorch\": 90.494,\n",
    "    \"vgg16torch\": 90.354,\n",
    "    \"vgg16bntorch\": 91.608,\n",
    "    \"vgg19torch\": 90.822,\n",
    "    \"vgg19bntorch\": 92.066,\n",
    "}"
   ]
  },
  {
   "cell_type": "markdown",
   "metadata": {},
   "source": [
    "### 3.1 Log Norm of Weight Matrices vs Accuracies of models"
   ]
  },
  {
   "cell_type": "markdown",
   "metadata": {},
   "source": [
    "The following graph demonstrates the linear relationship between the average Log Norm of Weight matrices and the test accuracies of the models (notice we didnt't need the test data):"
   ]
  },
  {
   "cell_type": "code",
   "execution_count": 28,
   "metadata": {
    "ExecuteTime": {
     "end_time": "2019-03-06T03:16:06.458114Z",
     "start_time": "2019-03-06T03:16:03.747317Z"
    }
   },
   "outputs": [
    {
     "data": {
      "image/png": "[encoded data removed]",
      "text/plain": [
       "<Figure size 576x576 with 1 Axes>"
      ]
     },
     "metadata": {
      "needs_background": "light"
     },
     "output_type": "display_data"
    }
   ],
   "source": [
    "import matplotlib.pyplot as plt\n",
    "%matplotlib inline\n",
    "plt.rcParams['figure.figsize'] = [8,8]\n",
    "\n",
    "for modelname, accuracy in accuracies5.items():\n",
    "    x = accuracy\n",
    "    summary = [d[\"summary\"] for d in data if d[\"name\"] == modelname]\n",
    "    y = summary[0][\"lognorm\"]\n",
    "    label = modelname\n",
    "    plt.scatter(x,y,label=label)\n",
    "\n",
    "plt.legend()\n",
    "plt.title(r\"Test Accuracy vs Average Log Norm $\\langle\\log\\Vert W\\Vert\\rangle$\"+\"\\nPretrained VGG and VGG_BN Models\")\n",
    "plt.xlabel(r\"Test Accuracy\")\n",
    "plt.ylabel(r\"$\\langle\\log\\Vert W\\Vert\\rangle$\");"
   ]
  },
  {
   "cell_type": "markdown",
   "metadata": {},
   "source": [
    "Let's compare the average Log Norm with the average Log Norm compound:"
   ]
  },
  {
   "cell_type": "code",
   "execution_count": 29,
   "metadata": {
    "ExecuteTime": {
     "end_time": "2019-03-06T03:16:07.301228Z",
     "start_time": "2019-03-06T03:16:06.465048Z"
    }
   },
   "outputs": [
    {
     "data": {
      "image/png": "[encoded data removed]",
      "text/plain": [
       "<Figure size 576x576 with 1 Axes>"
      ]
     },
     "metadata": {
      "needs_background": "light"
     },
     "output_type": "display_data"
    }
   ],
   "source": [
    "import matplotlib.pyplot as plt\n",
    "%matplotlib inline\n",
    "plt.rcParams['figure.figsize'] = [8,8]\n",
    "\n",
    "x = []\n",
    "y1, y2 = [], []\n",
    "for modelname, accuracy in accuracies5.items():\n",
    "    x.append(accuracy)\n",
    "    summary = [d[\"summary\"] for d in data if d[\"name\"] == modelname]\n",
    "    y1.append(summary[0][\"lognorm\"])\n",
    "    y2.append(summary[0][\"lognorm_compound\"])\n",
    "    label = modelname\n",
    "plt.scatter(x,y1,label=\"Log Norm\", color='r')\n",
    "plt.scatter(x,y2,label=\"Log Norm Compound\", color='b')\n",
    "\n",
    "plt.legend()\n",
    "plt.title(r\"Test Accuracy vs (Average Log Norm $\\langle\\log\\Vert W\\Vert\\rangle$ and Log Norm Compound)\"+\"\\nPretrained VGG and VGG_BN Models\")\n",
    "plt.xlabel(r\"Test Accuracy\")\n",
    "plt.ylabel(r\"$\\langle\\log\\Vert W\\Vert\\rangle$\");"
   ]
  },
  {
   "cell_type": "markdown",
   "metadata": {},
   "source": [
    "### 3.2 Power law fitting (Alpha) of Weight Matrices vs Accuracies of models"
   ]
  },
  {
   "cell_type": "markdown",
   "metadata": {},
   "source": [
    "The linear relationship between the Power law fitting (Alpha) of the weight matrices and the accuracies of the models is demonstrated in the following graph:"
   ]
  },
  {
   "cell_type": "code",
   "execution_count": 30,
   "metadata": {
    "ExecuteTime": {
     "end_time": "2019-03-06T03:16:08.268963Z",
     "start_time": "2019-03-06T03:16:07.307689Z"
    }
   },
   "outputs": [
    {
     "data": {
      "image/png": "[encoded data removed]",
      "text/plain": [
       "<Figure size 576x576 with 1 Axes>"
      ]
     },
     "metadata": {
      "needs_background": "light"
     },
     "output_type": "display_data"
    }
   ],
   "source": [
    "import matplotlib.pyplot as plt\n",
    "%matplotlib inline\n",
    "plt.rcParams['figure.figsize'] = [8,8]\n",
    "\n",
    "for modelname, accuracy in accuracies5.items():\n",
    "    x = accuracy\n",
    "    summary = [d[\"summary\"] for d in data if d[\"name\"] == modelname]\n",
    "    y = summary[0][\"alpha_weighted\"]\n",
    "    label = modelname\n",
    "    plt.scatter(x,y,label=label)\n",
    "\n",
    "plt.legend()\n",
    "plt.title(r\"Test Accuracy vs Weighted Alpha\"+\"\\nPretrained VGG and VGG_BN Models\")\n",
    "plt.xlabel(r\"Test Accuracy\")\n",
    "plt.ylabel(r\"Weighted Alpha\");"
   ]
  },
  {
   "cell_type": "markdown",
   "metadata": {},
   "source": [
    "The more accurate the model, the lower the exponent of the power law fit of the weight matrices is."
   ]
  },
  {
   "cell_type": "code",
   "execution_count": 31,
   "metadata": {
    "ExecuteTime": {
     "end_time": "2019-03-06T03:16:09.090898Z",
     "start_time": "2019-03-06T03:16:08.275006Z"
    }
   },
   "outputs": [
    {
     "data": {
      "image/png": "[encoded data removed]",
      "text/plain": [
       "<Figure size 576x576 with 1 Axes>"
      ]
     },
     "metadata": {
      "needs_background": "light"
     },
     "output_type": "display_data"
    }
   ],
   "source": [
    "import matplotlib.pyplot as plt\n",
    "%matplotlib inline\n",
    "plt.rcParams['figure.figsize'] = [8,8]\n",
    "\n",
    "x = []\n",
    "y1, y2 = [], []\n",
    "for modelname, accuracy in accuracies5.items():\n",
    "    x.append(accuracy)\n",
    "    summary = [d[\"summary\"] for d in data if d[\"name\"] == modelname]\n",
    "    y1.append(summary[0][\"alpha_weighted\"])\n",
    "    y2.append(summary[0][\"alpha_weighted_compound\"])\n",
    "plt.scatter(x,y1,label=\"Weighted Alpha\", color='r')\n",
    "plt.scatter(x,y2,label=\"Weighted Alpha Compound\", color='b')\n",
    "\n",
    "plt.legend()\n",
    "plt.title(r\"Test Accuracy vs (Weighted Alpha and Weighted Alpha compound)\"+\"\\nPretrained VGG and VGG_BN Models\")\n",
    "plt.xlabel(r\"Test Accuracy\")\n",
    "plt.ylabel(r\"Weighted Alpha\");"
   ]
  },
  {
   "cell_type": "markdown",
   "metadata": {},
   "source": [
    "## 4. Conclusion"
   ]
  },
  {
   "cell_type": "markdown",
   "metadata": {},
   "source": [
    "WeightWatcher helps you choose the best pretrained model for your needs.\n",
    "\n",
    "You can use WeightWatcher to compare several pretrained models and choose the one with the lowest Log Norm."
   ]
  }
 ],
 "metadata": {
  "kernelspec": {
   "display_name": "Python 3",
   "language": "python",
   "name": "python3"
  },
  "language_info": {
   "codemirror_mode": {
    "name": "ipython",
    "version": 3
   },
   "file_extension": ".py",
   "mimetype": "text/x-python",
   "name": "python",
   "nbconvert_exporter": "python",
   "pygments_lexer": "ipython3",
   "version": "3.7.4"
  }
 },
 "nbformat": 4,
 "nbformat_minor": 2
}
