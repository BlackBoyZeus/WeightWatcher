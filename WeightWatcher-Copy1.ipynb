{
 "cells": [
  {
   "cell_type": "markdown",
   "metadata": {},
   "source": [
    "# WeightWatcher\n",
    "\n",
    "https://calculationconsulting.com"
   ]
  },
  {
   "cell_type": "code",
   "execution_count": 1,
   "metadata": {
    "ExecuteTime": {
     "end_time": "2019-03-05T23:51:16.544327Z",
     "start_time": "2019-03-05T23:51:16.531457Z"
    },
    "scrolled": true
   },
   "outputs": [],
   "source": [
    "# Suppress the powerlaw package warnings\n",
    "# \"powerlaw.py:700: RuntimeWarning: divide by zero encountered in true_divide\"\n",
    "# \"powerlaw.py:700: RuntimeWarning: invalid value encountered in true_divide\"\n",
    "import warnings\n",
    "warnings.simplefilter(action='ignore', category=RuntimeWarning)"
   ]
  },
  {
   "cell_type": "markdown",
   "metadata": {},
   "source": [
    "## 1. Quick start example"
   ]
  },
  {
   "cell_type": "markdown",
   "metadata": {},
   "source": [
    "### 1.1 Import your model (Keras or PyTorch)"
   ]
  },
  {
   "cell_type": "code",
   "execution_count": 2,
   "metadata": {
    "ExecuteTime": {
     "end_time": "2019-03-05T23:51:48.865394Z",
     "start_time": "2019-03-05T23:51:16.555209Z"
    }
   },
   "outputs": [
    {
     "name": "stderr",
     "output_type": "stream",
     "text": [
      "Using TensorFlow backend.\n",
      "c:\\users\\mzczm\\anaconda3\\envs\\ww\\lib\\site-packages\\tensorflow\\python\\framework\\dtypes.py:516: FutureWarning: Passing (type, 1) or '1type' as a synonym of type is deprecated; in a future version of numpy, it will be understood as (type, (1,)) / '(1,)type'.\n",
      "  _np_qint8 = np.dtype([(\"qint8\", np.int8, 1)])\n",
      "c:\\users\\mzczm\\anaconda3\\envs\\ww\\lib\\site-packages\\tensorflow\\python\\framework\\dtypes.py:517: FutureWarning: Passing (type, 1) or '1type' as a synonym of type is deprecated; in a future version of numpy, it will be understood as (type, (1,)) / '(1,)type'.\n",
      "  _np_quint8 = np.dtype([(\"quint8\", np.uint8, 1)])\n",
      "c:\\users\\mzczm\\anaconda3\\envs\\ww\\lib\\site-packages\\tensorflow\\python\\framework\\dtypes.py:518: FutureWarning: Passing (type, 1) or '1type' as a synonym of type is deprecated; in a future version of numpy, it will be understood as (type, (1,)) / '(1,)type'.\n",
      "  _np_qint16 = np.dtype([(\"qint16\", np.int16, 1)])\n",
      "c:\\users\\mzczm\\anaconda3\\envs\\ww\\lib\\site-packages\\tensorflow\\python\\framework\\dtypes.py:519: FutureWarning: Passing (type, 1) or '1type' as a synonym of type is deprecated; in a future version of numpy, it will be understood as (type, (1,)) / '(1,)type'.\n",
      "  _np_quint16 = np.dtype([(\"quint16\", np.uint16, 1)])\n",
      "c:\\users\\mzczm\\anaconda3\\envs\\ww\\lib\\site-packages\\tensorflow\\python\\framework\\dtypes.py:520: FutureWarning: Passing (type, 1) or '1type' as a synonym of type is deprecated; in a future version of numpy, it will be understood as (type, (1,)) / '(1,)type'.\n",
      "  _np_qint32 = np.dtype([(\"qint32\", np.int32, 1)])\n",
      "c:\\users\\mzczm\\anaconda3\\envs\\ww\\lib\\site-packages\\tensorflow\\python\\framework\\dtypes.py:525: FutureWarning: Passing (type, 1) or '1type' as a synonym of type is deprecated; in a future version of numpy, it will be understood as (type, (1,)) / '(1,)type'.\n",
      "  np_resource = np.dtype([(\"resource\", np.ubyte, 1)])\n",
      "c:\\users\\mzczm\\anaconda3\\envs\\ww\\lib\\site-packages\\tensorboard\\compat\\tensorflow_stub\\dtypes.py:541: FutureWarning: Passing (type, 1) or '1type' as a synonym of type is deprecated; in a future version of numpy, it will be understood as (type, (1,)) / '(1,)type'.\n",
      "  _np_qint8 = np.dtype([(\"qint8\", np.int8, 1)])\n",
      "c:\\users\\mzczm\\anaconda3\\envs\\ww\\lib\\site-packages\\tensorboard\\compat\\tensorflow_stub\\dtypes.py:542: FutureWarning: Passing (type, 1) or '1type' as a synonym of type is deprecated; in a future version of numpy, it will be understood as (type, (1,)) / '(1,)type'.\n",
      "  _np_quint8 = np.dtype([(\"quint8\", np.uint8, 1)])\n",
      "c:\\users\\mzczm\\anaconda3\\envs\\ww\\lib\\site-packages\\tensorboard\\compat\\tensorflow_stub\\dtypes.py:543: FutureWarning: Passing (type, 1) or '1type' as a synonym of type is deprecated; in a future version of numpy, it will be understood as (type, (1,)) / '(1,)type'.\n",
      "  _np_qint16 = np.dtype([(\"qint16\", np.int16, 1)])\n",
      "c:\\users\\mzczm\\anaconda3\\envs\\ww\\lib\\site-packages\\tensorboard\\compat\\tensorflow_stub\\dtypes.py:544: FutureWarning: Passing (type, 1) or '1type' as a synonym of type is deprecated; in a future version of numpy, it will be understood as (type, (1,)) / '(1,)type'.\n",
      "  _np_quint16 = np.dtype([(\"quint16\", np.uint16, 1)])\n",
      "c:\\users\\mzczm\\anaconda3\\envs\\ww\\lib\\site-packages\\tensorboard\\compat\\tensorflow_stub\\dtypes.py:545: FutureWarning: Passing (type, 1) or '1type' as a synonym of type is deprecated; in a future version of numpy, it will be understood as (type, (1,)) / '(1,)type'.\n",
      "  _np_qint32 = np.dtype([(\"qint32\", np.int32, 1)])\n",
      "c:\\users\\mzczm\\anaconda3\\envs\\ww\\lib\\site-packages\\tensorboard\\compat\\tensorflow_stub\\dtypes.py:550: FutureWarning: Passing (type, 1) or '1type' as a synonym of type is deprecated; in a future version of numpy, it will be understood as (type, (1,)) / '(1,)type'.\n",
      "  np_resource = np.dtype([(\"resource\", np.ubyte, 1)])\n",
      "WARNING: Logging before flag parsing goes to stderr.\n",
      "W0822 18:11:53.302999 11016 deprecation_wrapper.py:119] From c:\\users\\mzczm\\anaconda3\\envs\\ww\\lib\\site-packages\\keras\\backend\\tensorflow_backend.py:66: The name tf.get_default_graph is deprecated. Please use tf.compat.v1.get_default_graph instead.\n",
      "\n",
      "W0822 18:11:53.330447 11016 deprecation_wrapper.py:119] From c:\\users\\mzczm\\anaconda3\\envs\\ww\\lib\\site-packages\\keras\\backend\\tensorflow_backend.py:541: The name tf.placeholder is deprecated. Please use tf.compat.v1.placeholder instead.\n",
      "\n",
      "W0822 18:11:53.335434 11016 deprecation_wrapper.py:119] From c:\\users\\mzczm\\anaconda3\\envs\\ww\\lib\\site-packages\\keras\\backend\\tensorflow_backend.py:4432: The name tf.random_uniform is deprecated. Please use tf.random.uniform instead.\n",
      "\n",
      "W0822 18:11:53.388492 11016 deprecation_wrapper.py:119] From c:\\users\\mzczm\\anaconda3\\envs\\ww\\lib\\site-packages\\keras\\backend\\tensorflow_backend.py:4267: The name tf.nn.max_pool is deprecated. Please use tf.nn.max_pool2d instead.\n",
      "\n"
     ]
    },
    {
     "name": "stdout",
     "output_type": "stream",
     "text": [
      "Downloading data from https://github.com/fchollet/deep-learning-models/releases/download/v0.1/vgg16_weights_tf_dim_ordering_tf_kernels.h5\n",
      "553467904/553467096 [==============================] - 410s 1us/step\n"
     ]
    },
    {
     "name": "stderr",
     "output_type": "stream",
     "text": [
      "W0822 18:18:46.448710 11016 deprecation_wrapper.py:119] From c:\\users\\mzczm\\anaconda3\\envs\\ww\\lib\\site-packages\\keras\\backend\\tensorflow_backend.py:190: The name tf.get_default_session is deprecated. Please use tf.compat.v1.get_default_session instead.\n",
      "\n",
      "W0822 18:18:46.449724 11016 deprecation_wrapper.py:119] From c:\\users\\mzczm\\anaconda3\\envs\\ww\\lib\\site-packages\\keras\\backend\\tensorflow_backend.py:197: The name tf.ConfigProto is deprecated. Please use tf.compat.v1.ConfigProto instead.\n",
      "\n"
     ]
    }
   ],
   "source": [
    "from keras.models import load_model\n",
    "from keras.applications import vgg16\n",
    "\n",
    "kmodel = vgg16.VGG16\n",
    "model = kmodel(weights='imagenet')"
   ]
  },
  {
   "cell_type": "markdown",
   "metadata": {},
   "source": [
    "### 1.2 Run WeightWatcher"
   ]
  },
  {
   "cell_type": "code",
   "execution_count": 4,
   "metadata": {
    "ExecuteTime": {
     "end_time": "2019-03-05T23:51:54.297463Z",
     "start_time": "2019-03-05T23:51:48.878699Z"
    },
    "scrolled": true
   },
   "outputs": [
    {
     "name": "stderr",
     "output_type": "stream",
     "text": [
      "2019-08-22 18:40:07,014 INFO \n",
      "WeightWatcher v0.1.2 by Calculation Consulting\n",
      "Analyze weight matrices of Deep Neural Networks\n",
      "https://calculationconsulting.com/\n",
      "python      version 3.7.4 (default, Aug  9 2019, 18:34:13) [MSC v.1915 64 bit (AMD64)]\n",
      "numpy       version 1.17.0\n",
      "tensforflow version 1.14.0\n",
      "keras       version 2.2.5\n",
      "I0822 18:40:07.014105 11016 weightwatcher.py:99] \n",
      "WeightWatcher v0.1.2 by Calculation Consulting\n",
      "Analyze weight matrices of Deep Neural Networks\n",
      "https://calculationconsulting.com/\n",
      "python      version 3.7.4 (default, Aug  9 2019, 18:34:13) [MSC v.1915 64 bit (AMD64)]\n",
      "numpy       version 1.17.0\n",
      "tensforflow version 1.14.0\n",
      "keras       version 2.2.5\n",
      "2019-08-22 18:40:07,021 INFO Analyzing model 'vgg16' with 23 layers\n",
      "I0822 18:40:07.021846 11016 weightwatcher.py:99] Analyzing model 'vgg16' with 23 layers\n",
      "2019-08-22 18:40:13,594 INFO ### Printing results ###\n",
      "I0822 18:40:13.594648 11016 weightwatcher.py:99] ### Printing results ###\n",
      "2019-08-22 18:40:17,652 INFO Norm: min: 2.4488985538482666, max: 23.396276473999023, avg: 4.018303394317627\n",
      "I0822 18:40:17.652940 11016 weightwatcher.py:99] Norm: min: 2.4488985538482666, max: 23.396276473999023, avg: 4.018303394317627\n",
      "2019-08-22 18:40:17,659 INFO Norm compound: min: 2.728064775466919, max: 23.396276473999023, avg: 6.7512617111206055\n",
      "I0822 18:40:17.659394 11016 weightwatcher.py:99] Norm compound: min: 2.728064775466919, max: 23.396276473999023, avg: 6.7512617111206055\n",
      "2019-08-22 18:40:17,665 INFO LogNorm: min: 0.3889707922935486, max: 1.369146704673767, avg: 0.5674730539321899\n",
      "I0822 18:40:17.665868 11016 weightwatcher.py:99] LogNorm: min: 0.3889707922935486, max: 1.369146704673767, avg: 0.5674730539321899\n",
      "2019-08-22 18:40:17,671 INFO LogNorm compound: min: 0.43449220061302185, max: 1.369146704673767, avg: 0.6946839690208435\n",
      "I0822 18:40:17.671370 11016 weightwatcher.py:99] LogNorm compound: min: 0.43449220061302185, max: 1.369146704673767, avg: 0.6946839690208435\n"
     ]
    }
   ],
   "source": [
    "import weightwatcher as ww\n",
    "\n",
    "watcher = ww.WeightWatcher(model=model)\n",
    "\n",
    "results = watcher.analyze()"
   ]
  },
  {
   "cell_type": "code",
   "execution_count": 5,
   "metadata": {
    "ExecuteTime": {
     "end_time": "2019-03-05T23:51:54.412503Z",
     "start_time": "2019-03-05T23:51:54.309238Z"
    }
   },
   "outputs": [
    {
     "data": {
      "text/plain": [
       "{0: {'id': 0,\n",
       "  'type': <keras.engine.input_layer.InputLayer at 0x2192a85bfc8>,\n",
       "  'message': 'Skipping (Layer not supported)'},\n",
       " 1: {'layer_type': <LAYER_TYPE.CONV2D: 4>,\n",
       "  0: {'N': 64,\n",
       "   'M': 3,\n",
       "   'Q': 21.333333333333332,\n",
       "   'summary': 'Weight matrix 1/9 (3,64): Skipping: too small (<50)'},\n",
       "  1: {'N': 64,\n",
       "   'M': 3,\n",
       "   'Q': 21.333333333333332,\n",
       "   'summary': 'Weight matrix 2/9 (3,64): Skipping: too small (<50)'},\n",
       "  2: {'N': 64,\n",
       "   'M': 3,\n",
       "   'Q': 21.333333333333332,\n",
       "   'summary': 'Weight matrix 3/9 (3,64): Skipping: too small (<50)'},\n",
       "  3: {'N': 64,\n",
       "   'M': 3,\n",
       "   'Q': 21.333333333333332,\n",
       "   'summary': 'Weight matrix 4/9 (3,64): Skipping: too small (<50)'},\n",
       "  4: {'N': 64,\n",
       "   'M': 3,\n",
       "   'Q': 21.333333333333332,\n",
       "   'summary': 'Weight matrix 5/9 (3,64): Skipping: too small (<50)'},\n",
       "  5: {'N': 64,\n",
       "   'M': 3,\n",
       "   'Q': 21.333333333333332,\n",
       "   'summary': 'Weight matrix 6/9 (3,64): Skipping: too small (<50)'},\n",
       "  6: {'N': 64,\n",
       "   'M': 3,\n",
       "   'Q': 21.333333333333332,\n",
       "   'summary': 'Weight matrix 7/9 (3,64): Skipping: too small (<50)'},\n",
       "  7: {'N': 64,\n",
       "   'M': 3,\n",
       "   'Q': 21.333333333333332,\n",
       "   'summary': 'Weight matrix 8/9 (3,64): Skipping: too small (<50)'},\n",
       "  8: {'N': 64,\n",
       "   'M': 3,\n",
       "   'Q': 21.333333333333332,\n",
       "   'summary': 'Weight matrix 9/9 (3,64): Skipping: too small (<50)'}},\n",
       " 2: {'layer_type': <LAYER_TYPE.CONV2D: 4>,\n",
       "  0: {'N': 64,\n",
       "   'M': 64,\n",
       "   'Q': 1.0,\n",
       "   'norm': 2.499732,\n",
       "   'lognorm': 0.39789346,\n",
       "   'summary': 'Weight matrix 1/9 (64,64): Lognorm: 0.3978934586048126'},\n",
       "  1: {'N': 64,\n",
       "   'M': 64,\n",
       "   'Q': 1.0,\n",
       "   'norm': 2.8417575,\n",
       "   'lognorm': 0.45358703,\n",
       "   'summary': 'Weight matrix 2/9 (64,64): Lognorm: 0.45358702540397644'},\n",
       "  2: {'N': 64,\n",
       "   'M': 64,\n",
       "   'Q': 1.0,\n",
       "   'norm': 2.545549,\n",
       "   'lognorm': 0.40578145,\n",
       "   'summary': 'Weight matrix 3/9 (64,64): Lognorm: 0.40578144788742065'},\n",
       "  3: {'N': 64,\n",
       "   'M': 64,\n",
       "   'Q': 1.0,\n",
       "   'norm': 2.8463395,\n",
       "   'lognorm': 0.4542867,\n",
       "   'summary': 'Weight matrix 4/9 (64,64): Lognorm: 0.45428669452667236'},\n",
       "  4: {'N': 64,\n",
       "   'M': 64,\n",
       "   'Q': 1.0,\n",
       "   'norm': 3.1401582,\n",
       "   'lognorm': 0.49695152,\n",
       "   'summary': 'Weight matrix 5/9 (64,64): Lognorm: 0.49695152044296265'},\n",
       "  5: {'N': 64,\n",
       "   'M': 64,\n",
       "   'Q': 1.0,\n",
       "   'norm': 2.8666604,\n",
       "   'lognorm': 0.45737624,\n",
       "   'summary': 'Weight matrix 6/9 (64,64): Lognorm: 0.45737624168395996'},\n",
       "  6: {'N': 64,\n",
       "   'M': 64,\n",
       "   'Q': 1.0,\n",
       "   'norm': 2.5378573,\n",
       "   'lognorm': 0.4044672,\n",
       "   'summary': 'Weight matrix 7/9 (64,64): Lognorm: 0.4044671952724457'},\n",
       "  7: {'N': 64,\n",
       "   'M': 64,\n",
       "   'Q': 1.0,\n",
       "   'norm': 2.825631,\n",
       "   'lognorm': 0.45111543,\n",
       "   'summary': 'Weight matrix 8/9 (64,64): Lognorm: 0.4511154294013977'},\n",
       "  8: {'N': 64,\n",
       "   'M': 64,\n",
       "   'Q': 1.0,\n",
       "   'norm': 2.4488986,\n",
       "   'lognorm': 0.3889708,\n",
       "   'summary': 'Weight matrix 9/9 (64,64): Lognorm: 0.3889707922935486'}},\n",
       " 3: {'id': 3,\n",
       "  'type': <keras.layers.pooling.MaxPooling2D at 0x219380f8648>,\n",
       "  'message': 'Skipping (Layer not supported)'},\n",
       " 4: {'layer_type': <LAYER_TYPE.CONV2D: 4>,\n",
       "  0: {'N': 128,\n",
       "   'M': 64,\n",
       "   'Q': 2.0,\n",
       "   'norm': 2.7612133,\n",
       "   'lognorm': 0.44109997,\n",
       "   'summary': 'Weight matrix 1/9 (64,128): Lognorm: 0.44109997153282166'},\n",
       "  1: {'N': 128,\n",
       "   'M': 64,\n",
       "   'Q': 2.0,\n",
       "   'norm': 2.8930957,\n",
       "   'lognorm': 0.4613628,\n",
       "   'summary': 'Weight matrix 2/9 (64,128): Lognorm: 0.4613628089427948'},\n",
       "  2: {'N': 128,\n",
       "   'M': 64,\n",
       "   'Q': 2.0,\n",
       "   'norm': 2.7353733,\n",
       "   'lognorm': 0.4370166,\n",
       "   'summary': 'Weight matrix 3/9 (64,128): Lognorm: 0.4370166063308716'},\n",
       "  3: {'N': 128,\n",
       "   'M': 64,\n",
       "   'Q': 2.0,\n",
       "   'norm': 2.9293149,\n",
       "   'lognorm': 0.46676606,\n",
       "   'summary': 'Weight matrix 4/9 (64,128): Lognorm: 0.4667660593986511'},\n",
       "  4: {'N': 128,\n",
       "   'M': 64,\n",
       "   'Q': 2.0,\n",
       "   'norm': 3.3123863,\n",
       "   'lognorm': 0.520141,\n",
       "   'summary': 'Weight matrix 5/9 (64,128): Lognorm: 0.5201410055160522'},\n",
       "  5: {'N': 128,\n",
       "   'M': 64,\n",
       "   'Q': 2.0,\n",
       "   'norm': 2.9468317,\n",
       "   'lognorm': 0.46935534,\n",
       "   'summary': 'Weight matrix 6/9 (64,128): Lognorm: 0.46935534477233887'},\n",
       "  6: {'N': 128,\n",
       "   'M': 64,\n",
       "   'Q': 2.0,\n",
       "   'norm': 2.7955458,\n",
       "   'lognorm': 0.44646662,\n",
       "   'summary': 'Weight matrix 7/9 (64,128): Lognorm: 0.4464666247367859'},\n",
       "  7: {'N': 128,\n",
       "   'M': 64,\n",
       "   'Q': 2.0,\n",
       "   'norm': 3.0312111,\n",
       "   'lognorm': 0.4816162,\n",
       "   'summary': 'Weight matrix 8/9 (64,128): Lognorm: 0.48161619901657104'},\n",
       "  8: {'N': 128,\n",
       "   'M': 64,\n",
       "   'Q': 2.0,\n",
       "   'norm': 2.8000274,\n",
       "   'lognorm': 0.44716227,\n",
       "   'summary': 'Weight matrix 9/9 (64,128): Lognorm: 0.4471622705459595'}},\n",
       " 5: {'layer_type': <LAYER_TYPE.CONV2D: 4>,\n",
       "  0: {'N': 128,\n",
       "   'M': 128,\n",
       "   'Q': 1.0,\n",
       "   'norm': 2.851535,\n",
       "   'lognorm': 0.45507872,\n",
       "   'summary': 'Weight matrix 1/9 (128,128): Lognorm: 0.45507872104644775'},\n",
       "  1: {'N': 128,\n",
       "   'M': 128,\n",
       "   'Q': 1.0,\n",
       "   'norm': 3.0472512,\n",
       "   'lognorm': 0.48390827,\n",
       "   'summary': 'Weight matrix 2/9 (128,128): Lognorm: 0.4839082658290863'},\n",
       "  2: {'N': 128,\n",
       "   'M': 128,\n",
       "   'Q': 1.0,\n",
       "   'norm': 2.8800385,\n",
       "   'lognorm': 0.4593983,\n",
       "   'summary': 'Weight matrix 3/9 (128,128): Lognorm: 0.4593982994556427'},\n",
       "  3: {'N': 128,\n",
       "   'M': 128,\n",
       "   'Q': 1.0,\n",
       "   'norm': 3.0673957,\n",
       "   'lognorm': 0.4867698,\n",
       "   'summary': 'Weight matrix 4/9 (128,128): Lognorm: 0.48676979541778564'},\n",
       "  4: {'N': 128,\n",
       "   'M': 128,\n",
       "   'Q': 1.0,\n",
       "   'norm': 3.4112384,\n",
       "   'lognorm': 0.5329121,\n",
       "   'summary': 'Weight matrix 5/9 (128,128): Lognorm: 0.5329120755195618'},\n",
       "  5: {'N': 128,\n",
       "   'M': 128,\n",
       "   'Q': 1.0,\n",
       "   'norm': 3.0651598,\n",
       "   'lognorm': 0.48645312,\n",
       "   'summary': 'Weight matrix 6/9 (128,128): Lognorm: 0.486453115940094'},\n",
       "  6: {'N': 128,\n",
       "   'M': 128,\n",
       "   'Q': 1.0,\n",
       "   'norm': 2.854957,\n",
       "   'lognorm': 0.45559958,\n",
       "   'summary': 'Weight matrix 7/9 (128,128): Lognorm: 0.4555995762348175'},\n",
       "  7: {'N': 128,\n",
       "   'M': 128,\n",
       "   'Q': 1.0,\n",
       "   'norm': 3.0803354,\n",
       "   'lognorm': 0.488598,\n",
       "   'summary': 'Weight matrix 8/9 (128,128): Lognorm: 0.4885979890823364'},\n",
       "  8: {'N': 128,\n",
       "   'M': 128,\n",
       "   'Q': 1.0,\n",
       "   'norm': 2.8168051,\n",
       "   'lognorm': 0.4497568,\n",
       "   'summary': 'Weight matrix 9/9 (128,128): Lognorm: 0.44975680112838745'}},\n",
       " 6: {'id': 6,\n",
       "  'type': <keras.layers.pooling.MaxPooling2D at 0x21938153488>,\n",
       "  'message': 'Skipping (Layer not supported)'},\n",
       " 7: {'layer_type': <LAYER_TYPE.CONV2D: 4>,\n",
       "  0: {'N': 256,\n",
       "   'M': 128,\n",
       "   'Q': 2.0,\n",
       "   'norm': 2.7108333,\n",
       "   'lognorm': 0.43310282,\n",
       "   'summary': 'Weight matrix 1/9 (128,256): Lognorm: 0.4331028163433075'},\n",
       "  1: {'N': 256,\n",
       "   'M': 128,\n",
       "   'Q': 2.0,\n",
       "   'norm': 3.176145,\n",
       "   'lognorm': 0.5019003,\n",
       "   'summary': 'Weight matrix 2/9 (128,256): Lognorm: 0.501900315284729'},\n",
       "  2: {'N': 256,\n",
       "   'M': 128,\n",
       "   'Q': 2.0,\n",
       "   'norm': 2.7279358,\n",
       "   'lognorm': 0.43583414,\n",
       "   'summary': 'Weight matrix 3/9 (128,256): Lognorm: 0.435834139585495'},\n",
       "  3: {'N': 256,\n",
       "   'M': 128,\n",
       "   'Q': 2.0,\n",
       "   'norm': 3.2911222,\n",
       "   'lognorm': 0.517344,\n",
       "   'summary': 'Weight matrix 4/9 (128,256): Lognorm: 0.5173439979553223'},\n",
       "  4: {'N': 256,\n",
       "   'M': 128,\n",
       "   'Q': 2.0,\n",
       "   'norm': 4.2743964,\n",
       "   'lognorm': 0.6308748,\n",
       "   'summary': 'Weight matrix 5/9 (128,256): Lognorm: 0.6308748126029968'},\n",
       "  5: {'N': 256,\n",
       "   'M': 128,\n",
       "   'Q': 2.0,\n",
       "   'norm': 3.26429,\n",
       "   'lognorm': 0.51378876,\n",
       "   'summary': 'Weight matrix 6/9 (128,256): Lognorm: 0.5137887597084045'},\n",
       "  6: {'N': 256,\n",
       "   'M': 128,\n",
       "   'Q': 2.0,\n",
       "   'norm': 2.6995878,\n",
       "   'lognorm': 0.43129745,\n",
       "   'summary': 'Weight matrix 7/9 (128,256): Lognorm: 0.4312974512577057'},\n",
       "  7: {'N': 256,\n",
       "   'M': 128,\n",
       "   'Q': 2.0,\n",
       "   'norm': 3.1601717,\n",
       "   'lognorm': 0.49971068,\n",
       "   'summary': 'Weight matrix 8/9 (128,256): Lognorm: 0.49971067905426025'},\n",
       "  8: {'N': 256,\n",
       "   'M': 128,\n",
       "   'Q': 2.0,\n",
       "   'norm': 2.6716127,\n",
       "   'lognorm': 0.42677352,\n",
       "   'summary': 'Weight matrix 9/9 (128,256): Lognorm: 0.4267735183238983'}},\n",
       " 8: {'layer_type': <LAYER_TYPE.CONV2D: 4>,\n",
       "  0: {'N': 256,\n",
       "   'M': 256,\n",
       "   'Q': 1.0,\n",
       "   'norm': 2.8918853,\n",
       "   'lognorm': 0.46118107,\n",
       "   'summary': 'Weight matrix 1/9 (256,256): Lognorm: 0.46118107438087463'},\n",
       "  1: {'N': 256,\n",
       "   'M': 256,\n",
       "   'Q': 1.0,\n",
       "   'norm': 3.2383816,\n",
       "   'lognorm': 0.51032805,\n",
       "   'summary': 'Weight matrix 2/9 (256,256): Lognorm: 0.5103280544281006'},\n",
       "  2: {'N': 256,\n",
       "   'M': 256,\n",
       "   'Q': 1.0,\n",
       "   'norm': 2.9072409,\n",
       "   'lognorm': 0.463481,\n",
       "   'summary': 'Weight matrix 3/9 (256,256): Lognorm: 0.46348100900650024'},\n",
       "  3: {'N': 256,\n",
       "   'M': 256,\n",
       "   'Q': 1.0,\n",
       "   'norm': 3.1938913,\n",
       "   'lognorm': 0.50432014,\n",
       "   'summary': 'Weight matrix 4/9 (256,256): Lognorm: 0.5043201446533203'},\n",
       "  4: {'N': 256,\n",
       "   'M': 256,\n",
       "   'Q': 1.0,\n",
       "   'norm': 3.9255602,\n",
       "   'lognorm': 0.59390163,\n",
       "   'summary': 'Weight matrix 5/9 (256,256): Lognorm: 0.5939016342163086'},\n",
       "  5: {'N': 256,\n",
       "   'M': 256,\n",
       "   'Q': 1.0,\n",
       "   'norm': 3.2178302,\n",
       "   'lognorm': 0.5075631,\n",
       "   'summary': 'Weight matrix 6/9 (256,256): Lognorm: 0.5075631141662598'},\n",
       "  6: {'N': 256,\n",
       "   'M': 256,\n",
       "   'Q': 1.0,\n",
       "   'norm': 2.8660247,\n",
       "   'lognorm': 0.45727992,\n",
       "   'summary': 'Weight matrix 7/9 (256,256): Lognorm: 0.45727992057800293'},\n",
       "  7: {'N': 256,\n",
       "   'M': 256,\n",
       "   'Q': 1.0,\n",
       "   'norm': 3.174802,\n",
       "   'lognorm': 0.5017167,\n",
       "   'summary': 'Weight matrix 8/9 (256,256): Lognorm: 0.501716673374176'},\n",
       "  8: {'N': 256,\n",
       "   'M': 256,\n",
       "   'Q': 1.0,\n",
       "   'norm': 2.892078,\n",
       "   'lognorm': 0.46120998,\n",
       "   'summary': 'Weight matrix 9/9 (256,256): Lognorm: 0.4612099826335907'}},\n",
       " 9: {'layer_type': <LAYER_TYPE.CONV2D: 4>,\n",
       "  0: {'N': 256,\n",
       "   'M': 256,\n",
       "   'Q': 1.0,\n",
       "   'norm': 2.9971552,\n",
       "   'lognorm': 0.47670922,\n",
       "   'summary': 'Weight matrix 1/9 (256,256): Lognorm: 0.4767092168331146'},\n",
       "  1: {'N': 256,\n",
       "   'M': 256,\n",
       "   'Q': 1.0,\n",
       "   'norm': 3.3329837,\n",
       "   'lognorm': 0.52283317,\n",
       "   'summary': 'Weight matrix 2/9 (256,256): Lognorm: 0.5228331685066223'},\n",
       "  2: {'N': 256,\n",
       "   'M': 256,\n",
       "   'Q': 1.0,\n",
       "   'norm': 3.0220184,\n",
       "   'lognorm': 0.48029712,\n",
       "   'summary': 'Weight matrix 3/9 (256,256): Lognorm: 0.48029711842536926'},\n",
       "  3: {'N': 256,\n",
       "   'M': 256,\n",
       "   'Q': 1.0,\n",
       "   'norm': 3.258065,\n",
       "   'lognorm': 0.5129597,\n",
       "   'summary': 'Weight matrix 4/9 (256,256): Lognorm: 0.5129597187042236'},\n",
       "  4: {'N': 256,\n",
       "   'M': 256,\n",
       "   'Q': 1.0,\n",
       "   'norm': 3.892659,\n",
       "   'lognorm': 0.5902464,\n",
       "   'summary': 'Weight matrix 5/9 (256,256): Lognorm: 0.5902463793754578'},\n",
       "  5: {'N': 256,\n",
       "   'M': 256,\n",
       "   'Q': 1.0,\n",
       "   'norm': 3.3484614,\n",
       "   'lognorm': 0.5248453,\n",
       "   'summary': 'Weight matrix 6/9 (256,256): Lognorm: 0.52484530210495'},\n",
       "  6: {'N': 256,\n",
       "   'M': 256,\n",
       "   'Q': 1.0,\n",
       "   'norm': 2.9902182,\n",
       "   'lognorm': 0.47570288,\n",
       "   'summary': 'Weight matrix 7/9 (256,256): Lognorm: 0.4757028818130493'},\n",
       "  7: {'N': 256,\n",
       "   'M': 256,\n",
       "   'Q': 1.0,\n",
       "   'norm': 3.2758636,\n",
       "   'lognorm': 0.51532584,\n",
       "   'summary': 'Weight matrix 8/9 (256,256): Lognorm: 0.5153258442878723'},\n",
       "  8: {'N': 256,\n",
       "   'M': 256,\n",
       "   'Q': 1.0,\n",
       "   'norm': 3.0082092,\n",
       "   'lognorm': 0.47830805,\n",
       "   'summary': 'Weight matrix 9/9 (256,256): Lognorm: 0.4783080518245697'}},\n",
       " 10: {'id': 10,\n",
       "  'type': <keras.layers.pooling.MaxPooling2D at 0x219381c2688>,\n",
       "  'message': 'Skipping (Layer not supported)'},\n",
       " 11: {'layer_type': <LAYER_TYPE.CONV2D: 4>,\n",
       "  0: {'N': 512,\n",
       "   'M': 256,\n",
       "   'Q': 2.0,\n",
       "   'norm': 3.4128516,\n",
       "   'lognorm': 0.5331174,\n",
       "   'summary': 'Weight matrix 1/9 (256,512): Lognorm: 0.533117413520813'},\n",
       "  1: {'N': 512,\n",
       "   'M': 256,\n",
       "   'Q': 2.0,\n",
       "   'norm': 3.695942,\n",
       "   'lognorm': 0.5677251,\n",
       "   'summary': 'Weight matrix 2/9 (256,512): Lognorm: 0.5677251219749451'},\n",
       "  2: {'N': 512,\n",
       "   'M': 256,\n",
       "   'Q': 2.0,\n",
       "   'norm': 3.4338114,\n",
       "   'lognorm': 0.53577644,\n",
       "   'summary': 'Weight matrix 3/9 (256,512): Lognorm: 0.5357764363288879'},\n",
       "  3: {'N': 512,\n",
       "   'M': 256,\n",
       "   'Q': 2.0,\n",
       "   'norm': 3.6989408,\n",
       "   'lognorm': 0.5680774,\n",
       "   'summary': 'Weight matrix 4/9 (256,512): Lognorm: 0.5680773854255676'},\n",
       "  4: {'N': 512,\n",
       "   'M': 256,\n",
       "   'Q': 2.0,\n",
       "   'norm': 4.3683567,\n",
       "   'lognorm': 0.6403181,\n",
       "   'summary': 'Weight matrix 5/9 (256,512): Lognorm: 0.6403180956840515'},\n",
       "  5: {'N': 512,\n",
       "   'M': 256,\n",
       "   'Q': 2.0,\n",
       "   'norm': 3.674092,\n",
       "   'lognorm': 0.56515,\n",
       "   'summary': 'Weight matrix 6/9 (256,512): Lognorm: 0.5651500225067139'},\n",
       "  6: {'N': 512,\n",
       "   'M': 256,\n",
       "   'Q': 2.0,\n",
       "   'norm': 3.3796763,\n",
       "   'lognorm': 0.5288751,\n",
       "   'summary': 'Weight matrix 7/9 (256,512): Lognorm: 0.5288751125335693'},\n",
       "  7: {'N': 512,\n",
       "   'M': 256,\n",
       "   'Q': 2.0,\n",
       "   'norm': 3.6538744,\n",
       "   'lognorm': 0.5627536,\n",
       "   'summary': 'Weight matrix 8/9 (256,512): Lognorm: 0.5627536177635193'},\n",
       "  8: {'N': 512,\n",
       "   'M': 256,\n",
       "   'Q': 2.0,\n",
       "   'norm': 3.3599503,\n",
       "   'lognorm': 0.52633286,\n",
       "   'summary': 'Weight matrix 9/9 (256,512): Lognorm: 0.5263328552246094'}},\n",
       " 12: {'layer_type': <LAYER_TYPE.CONV2D: 4>,\n",
       "  0: {'N': 512,\n",
       "   'M': 512,\n",
       "   'Q': 1.0,\n",
       "   'norm': 3.8165069,\n",
       "   'lognorm': 0.58166605,\n",
       "   'summary': 'Weight matrix 1/9 (512,512): Lognorm: 0.5816660523414612'},\n",
       "  1: {'N': 512,\n",
       "   'M': 512,\n",
       "   'Q': 1.0,\n",
       "   'norm': 3.9761147,\n",
       "   'lognorm': 0.59945893,\n",
       "   'summary': 'Weight matrix 2/9 (512,512): Lognorm: 0.5994589328765869'},\n",
       "  2: {'N': 512,\n",
       "   'M': 512,\n",
       "   'Q': 1.0,\n",
       "   'norm': 3.8059583,\n",
       "   'lognorm': 0.580464,\n",
       "   'summary': 'Weight matrix 3/9 (512,512): Lognorm: 0.5804640054702759'},\n",
       "  3: {'N': 512,\n",
       "   'M': 512,\n",
       "   'Q': 1.0,\n",
       "   'norm': 3.8709376,\n",
       "   'lognorm': 0.5878162,\n",
       "   'summary': 'Weight matrix 4/9 (512,512): Lognorm: 0.5878161787986755'},\n",
       "  4: {'N': 512,\n",
       "   'M': 512,\n",
       "   'Q': 1.0,\n",
       "   'norm': 4.314997,\n",
       "   'lognorm': 0.6349805,\n",
       "   'summary': 'Weight matrix 5/9 (512,512): Lognorm: 0.6349804997444153'},\n",
       "  5: {'N': 512,\n",
       "   'M': 512,\n",
       "   'Q': 1.0,\n",
       "   'norm': 3.88044,\n",
       "   'lognorm': 0.58888096,\n",
       "   'summary': 'Weight matrix 6/9 (512,512): Lognorm: 0.5888809561729431'},\n",
       "  6: {'N': 512,\n",
       "   'M': 512,\n",
       "   'Q': 1.0,\n",
       "   'norm': 3.7826571,\n",
       "   'lognorm': 0.577797,\n",
       "   'summary': 'Weight matrix 7/9 (512,512): Lognorm: 0.577796995639801'},\n",
       "  7: {'N': 512,\n",
       "   'M': 512,\n",
       "   'Q': 1.0,\n",
       "   'norm': 3.9329855,\n",
       "   'lognorm': 0.59472233,\n",
       "   'summary': 'Weight matrix 8/9 (512,512): Lognorm: 0.594722330570221'},\n",
       "  8: {'N': 512,\n",
       "   'M': 512,\n",
       "   'Q': 1.0,\n",
       "   'norm': 3.7902136,\n",
       "   'lognorm': 0.5786637,\n",
       "   'summary': 'Weight matrix 9/9 (512,512): Lognorm: 0.57866370677948'}},\n",
       " 13: {'layer_type': <LAYER_TYPE.CONV2D: 4>,\n",
       "  0: {'N': 512,\n",
       "   'M': 512,\n",
       "   'Q': 1.0,\n",
       "   'norm': 3.9701827,\n",
       "   'lognorm': 0.5988105,\n",
       "   'summary': 'Weight matrix 1/9 (512,512): Lognorm: 0.5988104939460754'},\n",
       "  1: {'N': 512,\n",
       "   'M': 512,\n",
       "   'Q': 1.0,\n",
       "   'norm': 4.207818,\n",
       "   'lognorm': 0.62405694,\n",
       "   'summary': 'Weight matrix 2/9 (512,512): Lognorm: 0.6240569353103638'},\n",
       "  2: {'N': 512,\n",
       "   'M': 512,\n",
       "   'Q': 1.0,\n",
       "   'norm': 3.9831738,\n",
       "   'lognorm': 0.60022926,\n",
       "   'summary': 'Weight matrix 3/9 (512,512): Lognorm: 0.6002292633056641'},\n",
       "  3: {'N': 512,\n",
       "   'M': 512,\n",
       "   'Q': 1.0,\n",
       "   'norm': 4.045074,\n",
       "   'lognorm': 0.60692644,\n",
       "   'summary': 'Weight matrix 4/9 (512,512): Lognorm: 0.606926441192627'},\n",
       "  4: {'N': 512,\n",
       "   'M': 512,\n",
       "   'Q': 1.0,\n",
       "   'norm': 4.5052686,\n",
       "   'lognorm': 0.6537207,\n",
       "   'summary': 'Weight matrix 5/9 (512,512): Lognorm: 0.6537206768989563'},\n",
       "  5: {'N': 512,\n",
       "   'M': 512,\n",
       "   'Q': 1.0,\n",
       "   'norm': 4.0281944,\n",
       "   'lognorm': 0.6051104,\n",
       "   'summary': 'Weight matrix 6/9 (512,512): Lognorm: 0.6051104068756104'},\n",
       "  6: {'N': 512,\n",
       "   'M': 512,\n",
       "   'Q': 1.0,\n",
       "   'norm': 3.9505641,\n",
       "   'lognorm': 0.5966591,\n",
       "   'summary': 'Weight matrix 7/9 (512,512): Lognorm: 0.5966591238975525'},\n",
       "  7: {'N': 512,\n",
       "   'M': 512,\n",
       "   'Q': 1.0,\n",
       "   'norm': 4.1731796,\n",
       "   'lognorm': 0.62046707,\n",
       "   'summary': 'Weight matrix 8/9 (512,512): Lognorm: 0.6204670667648315'},\n",
       "  8: {'N': 512,\n",
       "   'M': 512,\n",
       "   'Q': 1.0,\n",
       "   'norm': 3.9536622,\n",
       "   'lognorm': 0.5969995,\n",
       "   'summary': 'Weight matrix 9/9 (512,512): Lognorm: 0.5969995260238647'}},\n",
       " 14: {'id': 14,\n",
       "  'type': <keras.layers.pooling.MaxPooling2D at 0x219382330c8>,\n",
       "  'message': 'Skipping (Layer not supported)'},\n",
       " 15: {'layer_type': <LAYER_TYPE.CONV2D: 4>,\n",
       "  0: {'N': 512,\n",
       "   'M': 512,\n",
       "   'Q': 1.0,\n",
       "   'norm': 4.379642,\n",
       "   'lognorm': 0.6414386,\n",
       "   'summary': 'Weight matrix 1/9 (512,512): Lognorm: 0.6414386034011841'},\n",
       "  1: {'N': 512,\n",
       "   'M': 512,\n",
       "   'Q': 1.0,\n",
       "   'norm': 4.554939,\n",
       "   'lognorm': 0.65848255,\n",
       "   'summary': 'Weight matrix 2/9 (512,512): Lognorm: 0.658482551574707'},\n",
       "  2: {'N': 512,\n",
       "   'M': 512,\n",
       "   'Q': 1.0,\n",
       "   'norm': 4.3807597,\n",
       "   'lognorm': 0.6415494,\n",
       "   'summary': 'Weight matrix 3/9 (512,512): Lognorm: 0.6415494084358215'},\n",
       "  3: {'N': 512,\n",
       "   'M': 512,\n",
       "   'Q': 1.0,\n",
       "   'norm': 4.3441834,\n",
       "   'lognorm': 0.63790816,\n",
       "   'summary': 'Weight matrix 4/9 (512,512): Lognorm: 0.6379081606864929'},\n",
       "  4: {'N': 512,\n",
       "   'M': 512,\n",
       "   'Q': 1.0,\n",
       "   'norm': 4.932442,\n",
       "   'lognorm': 0.693062,\n",
       "   'summary': 'Weight matrix 5/9 (512,512): Lognorm: 0.6930620074272156'},\n",
       "  5: {'N': 512,\n",
       "   'M': 512,\n",
       "   'Q': 1.0,\n",
       "   'norm': 4.3207736,\n",
       "   'lognorm': 0.6355615,\n",
       "   'summary': 'Weight matrix 6/9 (512,512): Lognorm: 0.6355615258216858'},\n",
       "  6: {'N': 512,\n",
       "   'M': 512,\n",
       "   'Q': 1.0,\n",
       "   'norm': 4.344897,\n",
       "   'lognorm': 0.63797945,\n",
       "   'summary': 'Weight matrix 7/9 (512,512): Lognorm: 0.6379794478416443'},\n",
       "  7: {'N': 512,\n",
       "   'M': 512,\n",
       "   'Q': 1.0,\n",
       "   'norm': 4.5153503,\n",
       "   'lognorm': 0.65469146,\n",
       "   'summary': 'Weight matrix 8/9 (512,512): Lognorm: 0.6546914577484131'},\n",
       "  8: {'N': 512,\n",
       "   'M': 512,\n",
       "   'Q': 1.0,\n",
       "   'norm': 4.344317,\n",
       "   'lognorm': 0.6379215,\n",
       "   'summary': 'Weight matrix 9/9 (512,512): Lognorm: 0.6379215121269226'}},\n",
       " 16: {'layer_type': <LAYER_TYPE.CONV2D: 4>,\n",
       "  0: {'N': 512,\n",
       "   'M': 512,\n",
       "   'Q': 1.0,\n",
       "   'norm': 4.449405,\n",
       "   'lognorm': 0.64830196,\n",
       "   'summary': 'Weight matrix 1/9 (512,512): Lognorm: 0.6483019590377808'},\n",
       "  1: {'N': 512,\n",
       "   'M': 512,\n",
       "   'Q': 1.0,\n",
       "   'norm': 4.694818,\n",
       "   'lognorm': 0.67161876,\n",
       "   'summary': 'Weight matrix 2/9 (512,512): Lognorm: 0.6716187596321106'},\n",
       "  2: {'N': 512,\n",
       "   'M': 512,\n",
       "   'Q': 1.0,\n",
       "   'norm': 4.453984,\n",
       "   'lognorm': 0.64874864,\n",
       "   'summary': 'Weight matrix 3/9 (512,512): Lognorm: 0.6487486362457275'},\n",
       "  3: {'N': 512,\n",
       "   'M': 512,\n",
       "   'Q': 1.0,\n",
       "   'norm': 4.2787433,\n",
       "   'lognorm': 0.63131624,\n",
       "   'summary': 'Weight matrix 4/9 (512,512): Lognorm: 0.6313162446022034'},\n",
       "  4: {'N': 512,\n",
       "   'M': 512,\n",
       "   'Q': 1.0,\n",
       "   'norm': 4.8996086,\n",
       "   'lognorm': 0.6901614,\n",
       "   'summary': 'Weight matrix 5/9 (512,512): Lognorm: 0.690161406993866'},\n",
       "  5: {'N': 512,\n",
       "   'M': 512,\n",
       "   'Q': 1.0,\n",
       "   'norm': 4.2899227,\n",
       "   'lognorm': 0.63244945,\n",
       "   'summary': 'Weight matrix 6/9 (512,512): Lognorm: 0.6324494481086731'},\n",
       "  6: {'N': 512,\n",
       "   'M': 512,\n",
       "   'Q': 1.0,\n",
       "   'norm': 4.4012666,\n",
       "   'lognorm': 0.6435777,\n",
       "   'summary': 'Weight matrix 7/9 (512,512): Lognorm: 0.6435776948928833'},\n",
       "  7: {'N': 512,\n",
       "   'M': 512,\n",
       "   'Q': 1.0,\n",
       "   'norm': 4.616431,\n",
       "   'lognorm': 0.66430634,\n",
       "   'summary': 'Weight matrix 8/9 (512,512): Lognorm: 0.6643063426017761'},\n",
       "  8: {'N': 512,\n",
       "   'M': 512,\n",
       "   'Q': 1.0,\n",
       "   'norm': 4.3917847,\n",
       "   'lognorm': 0.64264107,\n",
       "   'summary': 'Weight matrix 9/9 (512,512): Lognorm: 0.6426410675048828'}},\n",
       " 17: {'layer_type': <LAYER_TYPE.CONV2D: 4>,\n",
       "  0: {'N': 512,\n",
       "   'M': 512,\n",
       "   'Q': 1.0,\n",
       "   'norm': 4.2785516,\n",
       "   'lognorm': 0.63129675,\n",
       "   'summary': 'Weight matrix 1/9 (512,512): Lognorm: 0.6312967538833618'},\n",
       "  1: {'N': 512,\n",
       "   'M': 512,\n",
       "   'Q': 1.0,\n",
       "   'norm': 4.525856,\n",
       "   'lognorm': 0.65570074,\n",
       "   'summary': 'Weight matrix 2/9 (512,512): Lognorm: 0.6557007431983948'},\n",
       "  2: {'N': 512,\n",
       "   'M': 512,\n",
       "   'Q': 1.0,\n",
       "   'norm': 4.2687807,\n",
       "   'lognorm': 0.63030386,\n",
       "   'summary': 'Weight matrix 3/9 (512,512): Lognorm: 0.6303038597106934'},\n",
       "  3: {'N': 512,\n",
       "   'M': 512,\n",
       "   'Q': 1.0,\n",
       "   'norm': 4.265125,\n",
       "   'lognorm': 0.62993175,\n",
       "   'summary': 'Weight matrix 4/9 (512,512): Lognorm: 0.6299317479133606'},\n",
       "  4: {'N': 512,\n",
       "   'M': 512,\n",
       "   'Q': 1.0,\n",
       "   'norm': 4.719161,\n",
       "   'lognorm': 0.6738648,\n",
       "   'summary': 'Weight matrix 5/9 (512,512): Lognorm: 0.6738647818565369'},\n",
       "  5: {'N': 512,\n",
       "   'M': 512,\n",
       "   'Q': 1.0,\n",
       "   'norm': 4.233303,\n",
       "   'lognorm': 0.62667936,\n",
       "   'summary': 'Weight matrix 6/9 (512,512): Lognorm: 0.6266793608665466'},\n",
       "  6: {'N': 512,\n",
       "   'M': 512,\n",
       "   'Q': 1.0,\n",
       "   'norm': 4.2681537,\n",
       "   'lognorm': 0.63024,\n",
       "   'summary': 'Weight matrix 7/9 (512,512): Lognorm: 0.6302400231361389'},\n",
       "  7: {'N': 512,\n",
       "   'M': 512,\n",
       "   'Q': 1.0,\n",
       "   'norm': 4.5327325,\n",
       "   'lognorm': 0.6563601,\n",
       "   'summary': 'Weight matrix 8/9 (512,512): Lognorm: 0.6563600897789001'},\n",
       "  8: {'N': 512,\n",
       "   'M': 512,\n",
       "   'Q': 1.0,\n",
       "   'norm': 4.2659492,\n",
       "   'lognorm': 0.6300157,\n",
       "   'summary': 'Weight matrix 9/9 (512,512): Lognorm: 0.6300156712532043'}},\n",
       " 18: {'id': 18,\n",
       "  'type': <keras.layers.pooling.MaxPooling2D at 0x2193828fa48>,\n",
       "  'message': 'Skipping (Layer not supported)'},\n",
       " 19: {'id': 19,\n",
       "  'type': <keras.layers.core.Flatten at 0x219382bb508>,\n",
       "  'message': 'Skipping (Layer not supported)'},\n",
       " 20: {'id': 20,\n",
       "  'type': <keras.layers.core.Dense at 0x219382c81c8>,\n",
       "  'layer_type': <LAYER_TYPE.DENSE: 1>,\n",
       "  0: {'N': 25088,\n",
       "   'M': 4096,\n",
       "   'Q': 6.125,\n",
       "   'norm': 23.396276,\n",
       "   'lognorm': 1.3691467,\n",
       "   'summary': 'Weight matrix 1/1 (4096,25088): Lognorm: 1.369146704673767'}},\n",
       " 21: {'id': 21,\n",
       "  'type': <keras.layers.core.Dense at 0x219382e84c8>,\n",
       "  'layer_type': <LAYER_TYPE.DENSE: 1>,\n",
       "  0: {'N': 4096,\n",
       "   'M': 4096,\n",
       "   'Q': 1.0,\n",
       "   'norm': 18.019997,\n",
       "   'lognorm': 1.2557547,\n",
       "   'summary': 'Weight matrix 1/1 (4096,4096): Lognorm: 1.2557547092437744'}},\n",
       " 22: {'id': 22,\n",
       "  'type': <keras.layers.core.Dense at 0x21938308788>,\n",
       "  'layer_type': <LAYER_TYPE.DENSE: 1>,\n",
       "  0: {'N': 4096,\n",
       "   'M': 1000,\n",
       "   'Q': 4.096,\n",
       "   'norm': 16.757317,\n",
       "   'lognorm': 1.2242044,\n",
       "   'summary': 'Weight matrix 1/1 (1000,4096): Lognorm: 1.224204421043396'}}}"
      ]
     },
     "execution_count": 5,
     "metadata": {},
     "output_type": "execute_result"
    }
   ],
   "source": [
    "results"
   ]
  },
  {
   "cell_type": "code",
   "execution_count": 6,
   "metadata": {
    "ExecuteTime": {
     "end_time": "2019-03-05T23:51:54.441885Z",
     "start_time": "2019-03-05T23:51:54.418688Z"
    }
   },
   "outputs": [
    {
     "data": {
      "text/plain": [
       "{'norm': 4.0183034,\n",
       " 'norm_compound': 6.7512617,\n",
       " 'lognorm': 0.56747305,\n",
       " 'lognorm_compound': 0.69468397}"
      ]
     },
     "execution_count": 6,
     "metadata": {},
     "output_type": "execute_result"
    }
   ],
   "source": [
    "watcher.get_summary()"
   ]
  },
  {
   "cell_type": "code",
   "execution_count": 7,
   "metadata": {
    "ExecuteTime": {
     "end_time": "2019-03-05T23:51:54.487413Z",
     "start_time": "2019-03-05T23:51:54.454110Z"
    },
    "scrolled": true
   },
   "outputs": [
    {
     "name": "stderr",
     "output_type": "stream",
     "text": [
      "2019-08-22 18:48:34,203 INFO ### Printing results ###\n",
      "I0822 18:48:34.203774 11016 weightwatcher.py:99] ### Printing results ###\n",
      "2019-08-22 18:48:37,047 INFO Norm: min: 2.4488985538482666, max: 23.396276473999023, avg: 4.018303394317627\n",
      "I0822 18:48:37.047494 11016 weightwatcher.py:99] Norm: min: 2.4488985538482666, max: 23.396276473999023, avg: 4.018303394317627\n",
      "2019-08-22 18:48:37,053 INFO Norm compound: min: 2.728064775466919, max: 23.396276473999023, avg: 6.7512617111206055\n",
      "I0822 18:48:37.053721 11016 weightwatcher.py:99] Norm compound: min: 2.728064775466919, max: 23.396276473999023, avg: 6.7512617111206055\n",
      "2019-08-22 18:48:37,056 INFO LogNorm: min: 0.3889707922935486, max: 1.369146704673767, avg: 0.5674730539321899\n",
      "I0822 18:48:37.056441 11016 weightwatcher.py:99] LogNorm: min: 0.3889707922935486, max: 1.369146704673767, avg: 0.5674730539321899\n",
      "2019-08-22 18:48:37,063 INFO LogNorm compound: min: 0.43449220061302185, max: 1.369146704673767, avg: 0.6946839690208435\n",
      "I0822 18:48:37.063644 11016 weightwatcher.py:99] LogNorm compound: min: 0.43449220061302185, max: 1.369146704673767, avg: 0.6946839690208435\n"
     ]
    }
   ],
   "source": [
    "watcher.print_results()"
   ]
  },
  {
   "cell_type": "markdown",
   "metadata": {},
   "source": [
    "## 2. Advanced examples"
   ]
  },
  {
   "cell_type": "markdown",
   "metadata": {},
   "source": [
    "## 2.1 Filter by layer type (CONV1D, CONV2D, DENSE)\n",
    "\n",
    "In this example we are interested in the DENSE layers only"
   ]
  },
  {
   "cell_type": "code",
   "execution_count": 8,
   "metadata": {
    "ExecuteTime": {
     "end_time": "2019-03-05T23:52:19.042816Z",
     "start_time": "2019-03-05T23:51:54.498749Z"
    },
    "scrolled": true
   },
   "outputs": [
    {
     "name": "stderr",
     "output_type": "stream",
     "text": [
      "2019-08-22 18:48:46,270 INFO \n",
      "WeightWatcher v0.1.2 by Calculation Consulting\n",
      "Analyze weight matrices of Deep Neural Networks\n",
      "https://calculationconsulting.com/\n",
      "python      version 3.7.4 (default, Aug  9 2019, 18:34:13) [MSC v.1915 64 bit (AMD64)]\n",
      "numpy       version 1.17.0\n",
      "tensforflow version 1.14.0\n",
      "keras       version 2.2.5\n",
      "I0822 18:48:46.270144 11016 weightwatcher.py:99] \n",
      "WeightWatcher v0.1.2 by Calculation Consulting\n",
      "Analyze weight matrices of Deep Neural Networks\n",
      "https://calculationconsulting.com/\n",
      "python      version 3.7.4 (default, Aug  9 2019, 18:34:13) [MSC v.1915 64 bit (AMD64)]\n",
      "numpy       version 1.17.0\n",
      "tensforflow version 1.14.0\n",
      "keras       version 2.2.5\n",
      "2019-08-22 18:48:46,276 INFO Analyzing model 'vgg16' with 23 layers\n",
      "I0822 18:48:46.276254 11016 weightwatcher.py:99] Analyzing model 'vgg16' with 23 layers\n",
      "2019-08-22 18:48:46,976 INFO ### Printing results ###\n",
      "I0822 18:48:46.976139 11016 weightwatcher.py:99] ### Printing results ###\n",
      "2019-08-22 18:48:47,605 INFO Norm: min: 16.75731658935547, max: 23.396276473999023, avg: 19.391197204589844\n",
      "I0822 18:48:47.605499 11016 weightwatcher.py:99] Norm: min: 16.75731658935547, max: 23.396276473999023, avg: 19.391197204589844\n",
      "2019-08-22 18:48:47,610 INFO Norm compound: min: 16.75731658935547, max: 23.396276473999023, avg: 19.391197204589844\n",
      "I0822 18:48:47.610485 11016 weightwatcher.py:99] Norm compound: min: 16.75731658935547, max: 23.396276473999023, avg: 19.391197204589844\n",
      "2019-08-22 18:48:47,612 INFO LogNorm: min: 1.224204421043396, max: 1.369146704673767, avg: 1.2830352783203125\n",
      "I0822 18:48:47.612540 11016 weightwatcher.py:99] LogNorm: min: 1.224204421043396, max: 1.369146704673767, avg: 1.2830352783203125\n",
      "2019-08-22 18:48:47,617 INFO LogNorm compound: min: 1.224204421043396, max: 1.369146704673767, avg: 1.2830352783203125\n",
      "I0822 18:48:47.617342 11016 weightwatcher.py:99] LogNorm compound: min: 1.224204421043396, max: 1.369146704673767, avg: 1.2830352783203125\n"
     ]
    },
    {
     "data": {
      "text/plain": [
       "{0: {'id': 0,\n",
       "  'type': <keras.engine.input_layer.InputLayer at 0x2193bdcf608>,\n",
       "  'message': 'Skipping (Layer not supported)'},\n",
       " 1: {'layer_type': <LAYER_TYPE.CONV2D: 4>,\n",
       "  'message': 'Skipping (Layer type not requested to analyze)'},\n",
       " 2: {'layer_type': <LAYER_TYPE.CONV2D: 4>,\n",
       "  'message': 'Skipping (Layer type not requested to analyze)'},\n",
       " 3: {'id': 3,\n",
       "  'type': <keras.layers.pooling.MaxPooling2D at 0x2193be66b88>,\n",
       "  'message': 'Skipping (Layer not supported)'},\n",
       " 4: {'layer_type': <LAYER_TYPE.CONV2D: 4>,\n",
       "  'message': 'Skipping (Layer type not requested to analyze)'},\n",
       " 5: {'layer_type': <LAYER_TYPE.CONV2D: 4>,\n",
       "  'message': 'Skipping (Layer type not requested to analyze)'},\n",
       " 6: {'id': 6,\n",
       "  'type': <keras.layers.pooling.MaxPooling2D at 0x2193bec6208>,\n",
       "  'message': 'Skipping (Layer not supported)'},\n",
       " 7: {'layer_type': <LAYER_TYPE.CONV2D: 4>,\n",
       "  'message': 'Skipping (Layer type not requested to analyze)'},\n",
       " 8: {'layer_type': <LAYER_TYPE.CONV2D: 4>,\n",
       "  'message': 'Skipping (Layer type not requested to analyze)'},\n",
       " 9: {'layer_type': <LAYER_TYPE.CONV2D: 4>,\n",
       "  'message': 'Skipping (Layer type not requested to analyze)'},\n",
       " 10: {'id': 10,\n",
       "  'type': <keras.layers.pooling.MaxPooling2D at 0x2193bf40f08>,\n",
       "  'message': 'Skipping (Layer not supported)'},\n",
       " 11: {'layer_type': <LAYER_TYPE.CONV2D: 4>,\n",
       "  'message': 'Skipping (Layer type not requested to analyze)'},\n",
       " 12: {'layer_type': <LAYER_TYPE.CONV2D: 4>,\n",
       "  'message': 'Skipping (Layer type not requested to analyze)'},\n",
       " 13: {'layer_type': <LAYER_TYPE.CONV2D: 4>,\n",
       "  'message': 'Skipping (Layer type not requested to analyze)'},\n",
       " 14: {'id': 14,\n",
       "  'type': <keras.layers.pooling.MaxPooling2D at 0x2193bfbad48>,\n",
       "  'message': 'Skipping (Layer not supported)'},\n",
       " 15: {'layer_type': <LAYER_TYPE.CONV2D: 4>,\n",
       "  'message': 'Skipping (Layer type not requested to analyze)'},\n",
       " 16: {'layer_type': <LAYER_TYPE.CONV2D: 4>,\n",
       "  'message': 'Skipping (Layer type not requested to analyze)'},\n",
       " 17: {'layer_type': <LAYER_TYPE.CONV2D: 4>,\n",
       "  'message': 'Skipping (Layer type not requested to analyze)'},\n",
       " 18: {'id': 18,\n",
       "  'type': <keras.layers.pooling.MaxPooling2D at 0x2193c036bc8>,\n",
       "  'message': 'Skipping (Layer not supported)'},\n",
       " 19: {'id': 19,\n",
       "  'type': <keras.layers.core.Flatten at 0x2193c051088>,\n",
       "  'message': 'Skipping (Layer not supported)'},\n",
       " 20: {'id': 20,\n",
       "  'type': <keras.layers.core.Dense at 0x2193c05bd88>,\n",
       "  'layer_type': <LAYER_TYPE.DENSE: 1>,\n",
       "  0: {'N': 25088,\n",
       "   'M': 4096,\n",
       "   'Q': 6.125,\n",
       "   'norm': 23.396276,\n",
       "   'lognorm': 1.3691467,\n",
       "   'summary': 'Weight matrix 1/1 (4096,25088): Lognorm: 1.369146704673767'}},\n",
       " 21: {'id': 21,\n",
       "  'type': <keras.layers.core.Dense at 0x2193c080fc8>,\n",
       "  'layer_type': <LAYER_TYPE.DENSE: 1>,\n",
       "  0: {'N': 4096,\n",
       "   'M': 4096,\n",
       "   'Q': 1.0,\n",
       "   'norm': 18.019997,\n",
       "   'lognorm': 1.2557547,\n",
       "   'summary': 'Weight matrix 1/1 (4096,4096): Lognorm: 1.2557547092437744'}},\n",
       " 22: {'id': 22,\n",
       "  'type': <keras.layers.core.Dense at 0x2193c0a2ec8>,\n",
       "  'layer_type': <LAYER_TYPE.DENSE: 1>,\n",
       "  0: {'N': 4096,\n",
       "   'M': 1000,\n",
       "   'Q': 4.096,\n",
       "   'norm': 16.757317,\n",
       "   'lognorm': 1.2242044,\n",
       "   'summary': 'Weight matrix 1/1 (1000,4096): Lognorm: 1.224204421043396'}}}"
      ]
     },
     "execution_count": 8,
     "metadata": {},
     "output_type": "execute_result"
    }
   ],
   "source": [
    "from keras.applications import vgg16\n",
    "\n",
    "kmodel = vgg16.VGG16\n",
    "model = kmodel(weights='imagenet')\n",
    "\n",
    "import weightwatcher as ww\n",
    "\n",
    "watcher = ww.WeightWatcher(model=model)\n",
    "\n",
    "watcher.analyze(layers=ww.LAYER_TYPE.DENSE)"
   ]
  },
  {
   "cell_type": "code",
   "execution_count": 9,
   "metadata": {
    "ExecuteTime": {
     "end_time": "2019-03-05T23:52:19.078746Z",
     "start_time": "2019-03-05T23:52:19.050673Z"
    }
   },
   "outputs": [
    {
     "name": "stderr",
     "output_type": "stream",
     "text": [
      "2019-08-22 18:48:53,894 INFO ### Printing results ###\n",
      "I0822 18:48:53.894500 11016 weightwatcher.py:99] ### Printing results ###\n",
      "2019-08-22 18:48:54,370 INFO Norm: min: 16.75731658935547, max: 23.396276473999023, avg: 19.391197204589844\n",
      "I0822 18:48:54.370339 11016 weightwatcher.py:99] Norm: min: 16.75731658935547, max: 23.396276473999023, avg: 19.391197204589844\n",
      "2019-08-22 18:48:54,376 INFO Norm compound: min: 16.75731658935547, max: 23.396276473999023, avg: 19.391197204589844\n",
      "I0822 18:48:54.376683 11016 weightwatcher.py:99] Norm compound: min: 16.75731658935547, max: 23.396276473999023, avg: 19.391197204589844\n",
      "2019-08-22 18:48:54,380 INFO LogNorm: min: 1.224204421043396, max: 1.369146704673767, avg: 1.2830352783203125\n",
      "I0822 18:48:54.380995 11016 weightwatcher.py:99] LogNorm: min: 1.224204421043396, max: 1.369146704673767, avg: 1.2830352783203125\n",
      "2019-08-22 18:48:54,384 INFO LogNorm compound: min: 1.224204421043396, max: 1.369146704673767, avg: 1.2830352783203125\n",
      "I0822 18:48:54.384330 11016 weightwatcher.py:99] LogNorm compound: min: 1.224204421043396, max: 1.369146704673767, avg: 1.2830352783203125\n"
     ]
    }
   ],
   "source": [
    "watcher.print_results()"
   ]
  },
  {
   "cell_type": "markdown",
   "metadata": {},
   "source": [
    "## 2.2 Filter by multiple layer types\n",
    "\n",
    "In this example we are interested in the CONV1D and DENSE layers.\n",
    "\n",
    "Filter the layers using a bitmask."
   ]
  },
  {
   "cell_type": "code",
   "execution_count": 10,
   "metadata": {
    "ExecuteTime": {
     "end_time": "2019-03-05T23:52:20.812400Z",
     "start_time": "2019-03-05T23:52:19.101208Z"
    }
   },
   "outputs": [
    {
     "name": "stderr",
     "output_type": "stream",
     "text": [
      "2019-08-22 18:49:14,507 INFO \n",
      "WeightWatcher v0.1.2 by Calculation Consulting\n",
      "Analyze weight matrices of Deep Neural Networks\n",
      "https://calculationconsulting.com/\n",
      "python      version 3.7.4 (default, Aug  9 2019, 18:34:13) [MSC v.1915 64 bit (AMD64)]\n",
      "numpy       version 1.17.0\n",
      "tensforflow version 1.14.0\n",
      "keras       version 2.2.5\n",
      "I0822 18:49:14.507681 11016 weightwatcher.py:99] \n",
      "WeightWatcher v0.1.2 by Calculation Consulting\n",
      "Analyze weight matrices of Deep Neural Networks\n",
      "https://calculationconsulting.com/\n",
      "python      version 3.7.4 (default, Aug  9 2019, 18:34:13) [MSC v.1915 64 bit (AMD64)]\n",
      "numpy       version 1.17.0\n",
      "tensforflow version 1.14.0\n",
      "keras       version 2.2.5\n",
      "2019-08-22 18:49:14,511 INFO Analyzing model 'vgg16' with 23 layers\n",
      "I0822 18:49:14.511307 11016 weightwatcher.py:99] Analyzing model 'vgg16' with 23 layers\n",
      "2019-08-22 18:49:15,108 INFO ### Printing results ###\n",
      "I0822 18:49:15.108895 11016 weightwatcher.py:99] ### Printing results ###\n",
      "2019-08-22 18:49:15,690 INFO Norm: min: 16.75731658935547, max: 23.396276473999023, avg: 19.391197204589844\n",
      "I0822 18:49:15.690204 11016 weightwatcher.py:99] Norm: min: 16.75731658935547, max: 23.396276473999023, avg: 19.391197204589844\n",
      "2019-08-22 18:49:15,694 INFO Norm compound: min: 16.75731658935547, max: 23.396276473999023, avg: 19.391197204589844\n",
      "I0822 18:49:15.694193 11016 weightwatcher.py:99] Norm compound: min: 16.75731658935547, max: 23.396276473999023, avg: 19.391197204589844\n",
      "2019-08-22 18:49:15,700 INFO LogNorm: min: 1.224204421043396, max: 1.369146704673767, avg: 1.2830352783203125\n",
      "I0822 18:49:15.700237 11016 weightwatcher.py:99] LogNorm: min: 1.224204421043396, max: 1.369146704673767, avg: 1.2830352783203125\n",
      "2019-08-22 18:49:15,707 INFO LogNorm compound: min: 1.224204421043396, max: 1.369146704673767, avg: 1.2830352783203125\n",
      "I0822 18:49:15.707780 11016 weightwatcher.py:99] LogNorm compound: min: 1.224204421043396, max: 1.369146704673767, avg: 1.2830352783203125\n"
     ]
    },
    {
     "data": {
      "text/plain": [
       "{0: {'id': 0,\n",
       "  'type': <keras.engine.input_layer.InputLayer at 0x2193bdcf608>,\n",
       "  'message': 'Skipping (Layer not supported)'},\n",
       " 1: {'layer_type': <LAYER_TYPE.CONV2D: 4>,\n",
       "  'message': 'Skipping (Layer type not requested to analyze)'},\n",
       " 2: {'layer_type': <LAYER_TYPE.CONV2D: 4>,\n",
       "  'message': 'Skipping (Layer type not requested to analyze)'},\n",
       " 3: {'id': 3,\n",
       "  'type': <keras.layers.pooling.MaxPooling2D at 0x2193be66b88>,\n",
       "  'message': 'Skipping (Layer not supported)'},\n",
       " 4: {'layer_type': <LAYER_TYPE.CONV2D: 4>,\n",
       "  'message': 'Skipping (Layer type not requested to analyze)'},\n",
       " 5: {'layer_type': <LAYER_TYPE.CONV2D: 4>,\n",
       "  'message': 'Skipping (Layer type not requested to analyze)'},\n",
       " 6: {'id': 6,\n",
       "  'type': <keras.layers.pooling.MaxPooling2D at 0x2193bec6208>,\n",
       "  'message': 'Skipping (Layer not supported)'},\n",
       " 7: {'layer_type': <LAYER_TYPE.CONV2D: 4>,\n",
       "  'message': 'Skipping (Layer type not requested to analyze)'},\n",
       " 8: {'layer_type': <LAYER_TYPE.CONV2D: 4>,\n",
       "  'message': 'Skipping (Layer type not requested to analyze)'},\n",
       " 9: {'layer_type': <LAYER_TYPE.CONV2D: 4>,\n",
       "  'message': 'Skipping (Layer type not requested to analyze)'},\n",
       " 10: {'id': 10,\n",
       "  'type': <keras.layers.pooling.MaxPooling2D at 0x2193bf40f08>,\n",
       "  'message': 'Skipping (Layer not supported)'},\n",
       " 11: {'layer_type': <LAYER_TYPE.CONV2D: 4>,\n",
       "  'message': 'Skipping (Layer type not requested to analyze)'},\n",
       " 12: {'layer_type': <LAYER_TYPE.CONV2D: 4>,\n",
       "  'message': 'Skipping (Layer type not requested to analyze)'},\n",
       " 13: {'layer_type': <LAYER_TYPE.CONV2D: 4>,\n",
       "  'message': 'Skipping (Layer type not requested to analyze)'},\n",
       " 14: {'id': 14,\n",
       "  'type': <keras.layers.pooling.MaxPooling2D at 0x2193bfbad48>,\n",
       "  'message': 'Skipping (Layer not supported)'},\n",
       " 15: {'layer_type': <LAYER_TYPE.CONV2D: 4>,\n",
       "  'message': 'Skipping (Layer type not requested to analyze)'},\n",
       " 16: {'layer_type': <LAYER_TYPE.CONV2D: 4>,\n",
       "  'message': 'Skipping (Layer type not requested to analyze)'},\n",
       " 17: {'layer_type': <LAYER_TYPE.CONV2D: 4>,\n",
       "  'message': 'Skipping (Layer type not requested to analyze)'},\n",
       " 18: {'id': 18,\n",
       "  'type': <keras.layers.pooling.MaxPooling2D at 0x2193c036bc8>,\n",
       "  'message': 'Skipping (Layer not supported)'},\n",
       " 19: {'id': 19,\n",
       "  'type': <keras.layers.core.Flatten at 0x2193c051088>,\n",
       "  'message': 'Skipping (Layer not supported)'},\n",
       " 20: {'id': 20,\n",
       "  'type': <keras.layers.core.Dense at 0x2193c05bd88>,\n",
       "  'layer_type': <LAYER_TYPE.DENSE: 1>,\n",
       "  0: {'N': 25088,\n",
       "   'M': 4096,\n",
       "   'Q': 6.125,\n",
       "   'norm': 23.396276,\n",
       "   'lognorm': 1.3691467,\n",
       "   'summary': 'Weight matrix 1/1 (4096,25088): Lognorm: 1.369146704673767'}},\n",
       " 21: {'id': 21,\n",
       "  'type': <keras.layers.core.Dense at 0x2193c080fc8>,\n",
       "  'layer_type': <LAYER_TYPE.DENSE: 1>,\n",
       "  0: {'N': 4096,\n",
       "   'M': 4096,\n",
       "   'Q': 1.0,\n",
       "   'norm': 18.019997,\n",
       "   'lognorm': 1.2557547,\n",
       "   'summary': 'Weight matrix 1/1 (4096,4096): Lognorm: 1.2557547092437744'}},\n",
       " 22: {'id': 22,\n",
       "  'type': <keras.layers.core.Dense at 0x2193c0a2ec8>,\n",
       "  'layer_type': <LAYER_TYPE.DENSE: 1>,\n",
       "  0: {'N': 4096,\n",
       "   'M': 1000,\n",
       "   'Q': 4.096,\n",
       "   'norm': 16.757317,\n",
       "   'lognorm': 1.2242044,\n",
       "   'summary': 'Weight matrix 1/1 (1000,4096): Lognorm: 1.224204421043396'}}}"
      ]
     },
     "execution_count": 10,
     "metadata": {},
     "output_type": "execute_result"
    }
   ],
   "source": [
    "import weightwatcher as ww\n",
    "\n",
    "watcher = ww.WeightWatcher(model=model)\n",
    "\n",
    "watcher.analyze(layers=ww.LAYER_TYPE.CONV1D|ww.LAYER_TYPE.DENSE)"
   ]
  },
  {
   "cell_type": "markdown",
   "metadata": {},
   "source": [
    "## 2.3 Filter by layer Ids"
   ]
  },
  {
   "cell_type": "code",
   "execution_count": 11,
   "metadata": {
    "ExecuteTime": {
     "end_time": "2019-03-05T23:52:22.428909Z",
     "start_time": "2019-03-05T23:52:20.830391Z"
    },
    "scrolled": false
   },
   "outputs": [
    {
     "name": "stderr",
     "output_type": "stream",
     "text": [
      "2019-08-22 18:49:25,800 INFO \n",
      "WeightWatcher v0.1.2 by Calculation Consulting\n",
      "Analyze weight matrices of Deep Neural Networks\n",
      "https://calculationconsulting.com/\n",
      "python      version 3.7.4 (default, Aug  9 2019, 18:34:13) [MSC v.1915 64 bit (AMD64)]\n",
      "numpy       version 1.17.0\n",
      "tensforflow version 1.14.0\n",
      "keras       version 2.2.5\n",
      "I0822 18:49:25.800711 11016 weightwatcher.py:99] \n",
      "WeightWatcher v0.1.2 by Calculation Consulting\n",
      "Analyze weight matrices of Deep Neural Networks\n",
      "https://calculationconsulting.com/\n",
      "python      version 3.7.4 (default, Aug  9 2019, 18:34:13) [MSC v.1915 64 bit (AMD64)]\n",
      "numpy       version 1.17.0\n",
      "tensforflow version 1.14.0\n",
      "keras       version 2.2.5\n",
      "2019-08-22 18:49:25,805 INFO Analyzing model 'vgg16' with 23 layers\n",
      "I0822 18:49:25.805460 11016 weightwatcher.py:99] Analyzing model 'vgg16' with 23 layers\n",
      "2019-08-22 18:49:26,295 INFO ### Printing results ###\n",
      "I0822 18:49:26.295799 11016 weightwatcher.py:99] ### Printing results ###\n",
      "2019-08-22 18:49:26,853 INFO Norm: min: 23.396276473999023, max: 23.396276473999023, avg: 23.396276473999023\n",
      "I0822 18:49:26.853061 11016 weightwatcher.py:99] Norm: min: 23.396276473999023, max: 23.396276473999023, avg: 23.396276473999023\n",
      "2019-08-22 18:49:26,853 INFO Norm compound: min: 23.396276473999023, max: 23.396276473999023, avg: 23.396276473999023\n",
      "I0822 18:49:26.853061 11016 weightwatcher.py:99] Norm compound: min: 23.396276473999023, max: 23.396276473999023, avg: 23.396276473999023\n",
      "2019-08-22 18:49:26,859 INFO LogNorm: min: 1.369146704673767, max: 1.369146704673767, avg: 1.369146704673767\n",
      "I0822 18:49:26.859314 11016 weightwatcher.py:99] LogNorm: min: 1.369146704673767, max: 1.369146704673767, avg: 1.369146704673767\n",
      "2019-08-22 18:49:26,867 INFO LogNorm compound: min: 1.369146704673767, max: 1.369146704673767, avg: 1.369146704673767\n",
      "I0822 18:49:26.867789 11016 weightwatcher.py:99] LogNorm compound: min: 1.369146704673767, max: 1.369146704673767, avg: 1.369146704673767\n"
     ]
    },
    {
     "data": {
      "text/plain": [
       "{0: {'id': 0,\n",
       "  'type': <keras.engine.input_layer.InputLayer at 0x2193bdcf608>,\n",
       "  'message': 'Skipping (Layer id not requested to analyze)'},\n",
       " 1: {'id': 1,\n",
       "  'type': <keras.layers.convolutional.Conv2D at 0x2193bdcf6c8>,\n",
       "  'message': 'Skipping (Layer id not requested to analyze)'},\n",
       " 2: {'id': 2,\n",
       "  'type': <keras.layers.convolutional.Conv2D at 0x2193be17f08>,\n",
       "  'message': 'Skipping (Layer id not requested to analyze)'},\n",
       " 3: {'id': 3,\n",
       "  'type': <keras.layers.pooling.MaxPooling2D at 0x2193be66b88>,\n",
       "  'message': 'Skipping (Layer id not requested to analyze)'},\n",
       " 4: {'id': 4,\n",
       "  'type': <keras.layers.convolutional.Conv2D at 0x2193be7b808>,\n",
       "  'message': 'Skipping (Layer id not requested to analyze)'},\n",
       " 5: {'id': 5,\n",
       "  'type': <keras.layers.convolutional.Conv2D at 0x2193bea2dc8>,\n",
       "  'message': 'Skipping (Layer id not requested to analyze)'},\n",
       " 6: {'id': 6,\n",
       "  'type': <keras.layers.pooling.MaxPooling2D at 0x2193bec6208>,\n",
       "  'message': 'Skipping (Layer id not requested to analyze)'},\n",
       " 7: {'id': 7,\n",
       "  'type': <keras.layers.convolutional.Conv2D at 0x2193bed1748>,\n",
       "  'message': 'Skipping (Layer id not requested to analyze)'},\n",
       " 8: {'id': 8,\n",
       "  'type': <keras.layers.convolutional.Conv2D at 0x2193bef7d08>,\n",
       "  'message': 'Skipping (Layer id not requested to analyze)'},\n",
       " 9: {'id': 9,\n",
       "  'type': <keras.layers.convolutional.Conv2D at 0x2193bf1b408>,\n",
       "  'message': 'Skipping (Layer id not requested to analyze)'},\n",
       " 10: {'id': 10,\n",
       "  'type': <keras.layers.pooling.MaxPooling2D at 0x2193bf40f08>,\n",
       "  'message': 'Skipping (Layer id not requested to analyze)'},\n",
       " 11: {'id': 11,\n",
       "  'type': <keras.layers.convolutional.Conv2D at 0x2193bf4c9c8>,\n",
       "  'message': 'Skipping (Layer id not requested to analyze)'},\n",
       " 12: {'id': 12,\n",
       "  'type': <keras.layers.convolutional.Conv2D at 0x2193bf70f88>,\n",
       "  'message': 'Skipping (Layer id not requested to analyze)'},\n",
       " 13: {'id': 13,\n",
       "  'type': <keras.layers.convolutional.Conv2D at 0x2193bf96388>,\n",
       "  'message': 'Skipping (Layer id not requested to analyze)'},\n",
       " 14: {'id': 14,\n",
       "  'type': <keras.layers.pooling.MaxPooling2D at 0x2193bfbad48>,\n",
       "  'message': 'Skipping (Layer id not requested to analyze)'},\n",
       " 15: {'id': 15,\n",
       "  'type': <keras.layers.convolutional.Conv2D at 0x2193bfc5cc8>,\n",
       "  'message': 'Skipping (Layer id not requested to analyze)'},\n",
       " 16: {'id': 16,\n",
       "  'type': <keras.layers.convolutional.Conv2D at 0x2193bffc348>,\n",
       "  'message': 'Skipping (Layer id not requested to analyze)'},\n",
       " 17: {'id': 17,\n",
       "  'type': <keras.layers.convolutional.Conv2D at 0x2193c00ed08>,\n",
       "  'message': 'Skipping (Layer id not requested to analyze)'},\n",
       " 18: {'id': 18,\n",
       "  'type': <keras.layers.pooling.MaxPooling2D at 0x2193c036bc8>,\n",
       "  'message': 'Skipping (Layer id not requested to analyze)'},\n",
       " 19: {'id': 19,\n",
       "  'type': <keras.layers.core.Flatten at 0x2193c051088>,\n",
       "  'message': 'Skipping (Layer id not requested to analyze)'},\n",
       " 20: {'id': 20,\n",
       "  'type': <keras.layers.core.Dense at 0x2193c05bd88>,\n",
       "  'layer_type': <LAYER_TYPE.DENSE: 1>,\n",
       "  0: {'N': 25088,\n",
       "   'M': 4096,\n",
       "   'Q': 6.125,\n",
       "   'norm': 23.396276,\n",
       "   'lognorm': 1.3691467,\n",
       "   'summary': 'Weight matrix 1/1 (4096,25088): Lognorm: 1.369146704673767'}},\n",
       " 21: {'id': 21,\n",
       "  'type': <keras.layers.core.Dense at 0x2193c080fc8>,\n",
       "  'message': 'Skipping (Layer id not requested to analyze)'},\n",
       " 22: {'id': 22,\n",
       "  'type': <keras.layers.core.Dense at 0x2193c0a2ec8>,\n",
       "  'message': 'Skipping (Layer id not requested to analyze)'}}"
      ]
     },
     "execution_count": 11,
     "metadata": {},
     "output_type": "execute_result"
    }
   ],
   "source": [
    "import weightwatcher as ww\n",
    "\n",
    "watcher = ww.WeightWatcher(model=model)\n",
    "\n",
    "watcher.analyze(layers=[20])"
   ]
  },
  {
   "cell_type": "markdown",
   "metadata": {
    "ExecuteTime": {
     "end_time": "2018-10-01T22:51:12.554859Z",
     "start_time": "2018-10-01T22:51:12.518859Z"
    }
   },
   "source": [
    "## 2.4 Get the return values per layer"
   ]
  },
  {
   "cell_type": "code",
   "execution_count": 12,
   "metadata": {
    "ExecuteTime": {
     "end_time": "2019-03-05T23:52:24.982563Z",
     "start_time": "2019-03-05T23:52:22.440026Z"
    }
   },
   "outputs": [
    {
     "name": "stderr",
     "output_type": "stream",
     "text": [
      "2019-08-22 18:49:54,421 INFO \n",
      "WeightWatcher v0.1.2 by Calculation Consulting\n",
      "Analyze weight matrices of Deep Neural Networks\n",
      "https://calculationconsulting.com/\n",
      "python      version 3.7.4 (default, Aug  9 2019, 18:34:13) [MSC v.1915 64 bit (AMD64)]\n",
      "numpy       version 1.17.0\n",
      "tensforflow version 1.14.0\n",
      "keras       version 2.2.5\n",
      "I0822 18:49:54.421251 11016 weightwatcher.py:99] \n",
      "WeightWatcher v0.1.2 by Calculation Consulting\n",
      "Analyze weight matrices of Deep Neural Networks\n",
      "https://calculationconsulting.com/\n",
      "python      version 3.7.4 (default, Aug  9 2019, 18:34:13) [MSC v.1915 64 bit (AMD64)]\n",
      "numpy       version 1.17.0\n",
      "tensforflow version 1.14.0\n",
      "keras       version 2.2.5\n",
      "2019-08-22 18:49:54,428 INFO Analyzing model 'vgg16' with 23 layers\n",
      "I0822 18:49:54.428843 11016 weightwatcher.py:99] Analyzing model 'vgg16' with 23 layers\n",
      "2019-08-22 18:49:55,389 INFO ### Printing results ###\n",
      "I0822 18:49:55.389982 11016 weightwatcher.py:99] ### Printing results ###\n",
      "2019-08-22 18:49:58,857 INFO Norm: min: 2.4488985538482666, max: 23.396276473999023, avg: 4.018303394317627\n",
      "I0822 18:49:58.857594 11016 weightwatcher.py:99] Norm: min: 2.4488985538482666, max: 23.396276473999023, avg: 4.018303394317627\n",
      "2019-08-22 18:49:58,863 INFO Norm compound: min: 2.728064775466919, max: 23.396276473999023, avg: 6.7512617111206055\n",
      "I0822 18:49:58.863734 11016 weightwatcher.py:99] Norm compound: min: 2.728064775466919, max: 23.396276473999023, avg: 6.7512617111206055\n",
      "2019-08-22 18:49:58,869 INFO LogNorm: min: 0.3889707922935486, max: 1.369146704673767, avg: 0.5674730539321899\n",
      "I0822 18:49:58.869788 11016 weightwatcher.py:99] LogNorm: min: 0.3889707922935486, max: 1.369146704673767, avg: 0.5674730539321899\n",
      "2019-08-22 18:49:58,873 INFO LogNorm compound: min: 0.43449220061302185, max: 1.369146704673767, avg: 0.6946839690208435\n",
      "I0822 18:49:58.873944 11016 weightwatcher.py:99] LogNorm compound: min: 0.43449220061302185, max: 1.369146704673767, avg: 0.6946839690208435\n"
     ]
    }
   ],
   "source": [
    "import weightwatcher as ww\n",
    "\n",
    "watcher = ww.WeightWatcher(model=model)\n",
    "\n",
    "results = watcher.analyze()"
   ]
  },
  {
   "cell_type": "code",
   "execution_count": 13,
   "metadata": {
    "ExecuteTime": {
     "end_time": "2019-03-05T23:52:25.022930Z",
     "start_time": "2019-03-05T23:52:24.990119Z"
    }
   },
   "outputs": [
    {
     "name": "stdout",
     "output_type": "stream",
     "text": [
      "Layer 2, Slice 0: Lognorm: 0.3978934586048126\n",
      "Layer 2, Slice 1: Lognorm: 0.45358702540397644\n",
      "Layer 2, Slice 2: Lognorm: 0.40578144788742065\n",
      "Layer 2, Slice 3: Lognorm: 0.45428669452667236\n",
      "Layer 2, Slice 4: Lognorm: 0.49695152044296265\n",
      "Layer 2, Slice 5: Lognorm: 0.45737624168395996\n",
      "Layer 2, Slice 6: Lognorm: 0.4044671952724457\n",
      "Layer 2, Slice 7: Lognorm: 0.4511154294013977\n",
      "Layer 2, Slice 8: Lognorm: 0.3889707922935486\n",
      "Layer 4, Slice 0: Lognorm: 0.44109997153282166\n",
      "Layer 4, Slice 1: Lognorm: 0.4613628089427948\n",
      "Layer 4, Slice 2: Lognorm: 0.4370166063308716\n",
      "Layer 4, Slice 3: Lognorm: 0.4667660593986511\n",
      "Layer 4, Slice 4: Lognorm: 0.5201410055160522\n",
      "Layer 4, Slice 5: Lognorm: 0.46935534477233887\n",
      "Layer 4, Slice 6: Lognorm: 0.4464666247367859\n",
      "Layer 4, Slice 7: Lognorm: 0.48161619901657104\n",
      "Layer 4, Slice 8: Lognorm: 0.4471622705459595\n",
      "Layer 5, Slice 0: Lognorm: 0.45507872104644775\n",
      "Layer 5, Slice 1: Lognorm: 0.4839082658290863\n",
      "Layer 5, Slice 2: Lognorm: 0.4593982994556427\n",
      "Layer 5, Slice 3: Lognorm: 0.48676979541778564\n",
      "Layer 5, Slice 4: Lognorm: 0.5329120755195618\n",
      "Layer 5, Slice 5: Lognorm: 0.486453115940094\n",
      "Layer 5, Slice 6: Lognorm: 0.4555995762348175\n",
      "Layer 5, Slice 7: Lognorm: 0.4885979890823364\n",
      "Layer 5, Slice 8: Lognorm: 0.44975680112838745\n",
      "Layer 7, Slice 0: Lognorm: 0.4331028163433075\n",
      "Layer 7, Slice 1: Lognorm: 0.501900315284729\n",
      "Layer 7, Slice 2: Lognorm: 0.435834139585495\n",
      "Layer 7, Slice 3: Lognorm: 0.5173439979553223\n",
      "Layer 7, Slice 4: Lognorm: 0.6308748126029968\n",
      "Layer 7, Slice 5: Lognorm: 0.5137887597084045\n",
      "Layer 7, Slice 6: Lognorm: 0.4312974512577057\n",
      "Layer 7, Slice 7: Lognorm: 0.49971067905426025\n",
      "Layer 7, Slice 8: Lognorm: 0.4267735183238983\n",
      "Layer 8, Slice 0: Lognorm: 0.46118107438087463\n",
      "Layer 8, Slice 1: Lognorm: 0.5103280544281006\n",
      "Layer 8, Slice 2: Lognorm: 0.46348100900650024\n",
      "Layer 8, Slice 3: Lognorm: 0.5043201446533203\n",
      "Layer 8, Slice 4: Lognorm: 0.5939016342163086\n",
      "Layer 8, Slice 5: Lognorm: 0.5075631141662598\n",
      "Layer 8, Slice 6: Lognorm: 0.45727992057800293\n",
      "Layer 8, Slice 7: Lognorm: 0.501716673374176\n",
      "Layer 8, Slice 8: Lognorm: 0.4612099826335907\n",
      "Layer 9, Slice 0: Lognorm: 0.4767092168331146\n",
      "Layer 9, Slice 1: Lognorm: 0.5228331685066223\n",
      "Layer 9, Slice 2: Lognorm: 0.48029711842536926\n",
      "Layer 9, Slice 3: Lognorm: 0.5129597187042236\n",
      "Layer 9, Slice 4: Lognorm: 0.5902463793754578\n",
      "Layer 9, Slice 5: Lognorm: 0.52484530210495\n",
      "Layer 9, Slice 6: Lognorm: 0.4757028818130493\n",
      "Layer 9, Slice 7: Lognorm: 0.5153258442878723\n",
      "Layer 9, Slice 8: Lognorm: 0.4783080518245697\n",
      "Layer 11, Slice 0: Lognorm: 0.533117413520813\n",
      "Layer 11, Slice 1: Lognorm: 0.5677251219749451\n",
      "Layer 11, Slice 2: Lognorm: 0.5357764363288879\n",
      "Layer 11, Slice 3: Lognorm: 0.5680773854255676\n",
      "Layer 11, Slice 4: Lognorm: 0.6403180956840515\n",
      "Layer 11, Slice 5: Lognorm: 0.5651500225067139\n",
      "Layer 11, Slice 6: Lognorm: 0.5288751125335693\n",
      "Layer 11, Slice 7: Lognorm: 0.5627536177635193\n",
      "Layer 11, Slice 8: Lognorm: 0.5263328552246094\n",
      "Layer 12, Slice 0: Lognorm: 0.5816660523414612\n",
      "Layer 12, Slice 1: Lognorm: 0.5994589328765869\n",
      "Layer 12, Slice 2: Lognorm: 0.5804640054702759\n",
      "Layer 12, Slice 3: Lognorm: 0.5878161787986755\n",
      "Layer 12, Slice 4: Lognorm: 0.6349804997444153\n",
      "Layer 12, Slice 5: Lognorm: 0.5888809561729431\n",
      "Layer 12, Slice 6: Lognorm: 0.577796995639801\n",
      "Layer 12, Slice 7: Lognorm: 0.594722330570221\n",
      "Layer 12, Slice 8: Lognorm: 0.57866370677948\n",
      "Layer 13, Slice 0: Lognorm: 0.5988104939460754\n",
      "Layer 13, Slice 1: Lognorm: 0.6240569353103638\n",
      "Layer 13, Slice 2: Lognorm: 0.6002292633056641\n",
      "Layer 13, Slice 3: Lognorm: 0.606926441192627\n",
      "Layer 13, Slice 4: Lognorm: 0.6537206768989563\n",
      "Layer 13, Slice 5: Lognorm: 0.6051104068756104\n",
      "Layer 13, Slice 6: Lognorm: 0.5966591238975525\n",
      "Layer 13, Slice 7: Lognorm: 0.6204670667648315\n",
      "Layer 13, Slice 8: Lognorm: 0.5969995260238647\n",
      "Layer 15, Slice 0: Lognorm: 0.6414386034011841\n",
      "Layer 15, Slice 1: Lognorm: 0.658482551574707\n",
      "Layer 15, Slice 2: Lognorm: 0.6415494084358215\n",
      "Layer 15, Slice 3: Lognorm: 0.6379081606864929\n",
      "Layer 15, Slice 4: Lognorm: 0.6930620074272156\n",
      "Layer 15, Slice 5: Lognorm: 0.6355615258216858\n",
      "Layer 15, Slice 6: Lognorm: 0.6379794478416443\n",
      "Layer 15, Slice 7: Lognorm: 0.6546914577484131\n",
      "Layer 15, Slice 8: Lognorm: 0.6379215121269226\n",
      "Layer 16, Slice 0: Lognorm: 0.6483019590377808\n",
      "Layer 16, Slice 1: Lognorm: 0.6716187596321106\n",
      "Layer 16, Slice 2: Lognorm: 0.6487486362457275\n",
      "Layer 16, Slice 3: Lognorm: 0.6313162446022034\n",
      "Layer 16, Slice 4: Lognorm: 0.690161406993866\n",
      "Layer 16, Slice 5: Lognorm: 0.6324494481086731\n",
      "Layer 16, Slice 6: Lognorm: 0.6435776948928833\n",
      "Layer 16, Slice 7: Lognorm: 0.6643063426017761\n",
      "Layer 16, Slice 8: Lognorm: 0.6426410675048828\n",
      "Layer 17, Slice 0: Lognorm: 0.6312967538833618\n",
      "Layer 17, Slice 1: Lognorm: 0.6557007431983948\n",
      "Layer 17, Slice 2: Lognorm: 0.6303038597106934\n",
      "Layer 17, Slice 3: Lognorm: 0.6299317479133606\n",
      "Layer 17, Slice 4: Lognorm: 0.6738647818565369\n",
      "Layer 17, Slice 5: Lognorm: 0.6266793608665466\n",
      "Layer 17, Slice 6: Lognorm: 0.6302400231361389\n",
      "Layer 17, Slice 7: Lognorm: 0.6563600897789001\n",
      "Layer 17, Slice 8: Lognorm: 0.6300156712532043\n",
      "Layer 20, Slice 0: Lognorm: 1.369146704673767\n",
      "Layer 21, Slice 0: Lognorm: 1.2557547092437744\n",
      "Layer 22, Slice 0: Lognorm: 1.224204421043396\n"
     ]
    }
   ],
   "source": [
    "for layer_id, result in results.items():\n",
    "    for slice_id, summary in result.items():\n",
    "        if not str(slice_id).isdigit() or \"lognorm\" not in summary:\n",
    "            continue\n",
    "        lognorm = summary[\"lognorm\"]\n",
    "        print(\"Layer {}, Slice {}: Lognorm: {}\".format(layer_id, slice_id, lognorm))    "
   ]
  },
  {
   "cell_type": "markdown",
   "metadata": {
    "ExecuteTime": {
     "end_time": "2018-10-01T22:51:12.554859Z",
     "start_time": "2018-10-01T22:51:12.518859Z"
    }
   },
   "source": [
    "## 2.5 Power Law Fit"
   ]
  },
  {
   "cell_type": "code",
   "execution_count": null,
   "metadata": {
    "ExecuteTime": {
     "end_time": "2019-03-06T00:16:38.794143Z",
     "start_time": "2019-03-05T23:52:25.030000Z"
    }
   },
   "outputs": [
    {
     "name": "stderr",
     "output_type": "stream",
     "text": [
      "2019-08-22 19:02:51,825 INFO \n",
      "WeightWatcher v0.1.2 by Calculation Consulting\n",
      "Analyze weight matrices of Deep Neural Networks\n",
      "https://calculationconsulting.com/\n",
      "python      version 3.7.4 (default, Aug  9 2019, 18:34:13) [MSC v.1915 64 bit (AMD64)]\n",
      "numpy       version 1.17.0\n",
      "tensforflow version 1.14.0\n",
      "keras       version 2.2.5\n",
      "I0822 19:02:51.825855 11016 weightwatcher.py:99] \n",
      "WeightWatcher v0.1.2 by Calculation Consulting\n",
      "Analyze weight matrices of Deep Neural Networks\n",
      "https://calculationconsulting.com/\n",
      "python      version 3.7.4 (default, Aug  9 2019, 18:34:13) [MSC v.1915 64 bit (AMD64)]\n",
      "numpy       version 1.17.0\n",
      "tensforflow version 1.14.0\n",
      "keras       version 2.2.5\n",
      "2019-08-22 19:02:51,830 INFO Analyzing model 'vgg16' with 23 layers\n",
      "I0822 19:02:51.830076 11016 weightwatcher.py:99] Analyzing model 'vgg16' with 23 layers\n"
     ]
    }
   ],
   "source": [
    "import weightwatcher as ww\n",
    "\n",
    "watcher = ww.WeightWatcher(model=model)\n",
    "\n",
    "results = watcher.analyze(compute_alphas=True)"
   ]
  },
  {
   "cell_type": "markdown",
   "metadata": {
    "ExecuteTime": {
     "end_time": "2018-10-01T22:51:12.554859Z",
     "start_time": "2018-10-01T22:51:12.518859Z"
    }
   },
   "source": [
    "## 2.6 Debug and Custom Logging"
   ]
  },
  {
   "cell_type": "markdown",
   "metadata": {
    "ExecuteTime": {
     "end_time": "2018-10-01T22:51:12.554859Z",
     "start_time": "2018-10-01T22:51:12.518859Z"
    }
   },
   "source": [
    "### Custom Logging at Debug Level"
   ]
  },
  {
   "cell_type": "code",
   "execution_count": null,
   "metadata": {
    "ExecuteTime": {
     "end_time": "2019-03-06T00:16:41.769719Z",
     "start_time": "2019-03-06T00:16:38.803181Z"
    }
   },
   "outputs": [],
   "source": [
    "import logging\n",
    "logging.basicConfig(level=logging.INFO)\n",
    "logger = logging.getLogger(__name__)\n",
    "logger.setLevel(logging.DEBUG)\n",
    "\n",
    "import weightwatcher as ww\n",
    "\n",
    "watcher = ww.WeightWatcher(model=model, logger=logger)\n",
    "\n",
    "results = watcher.analyze()"
   ]
  },
  {
   "cell_type": "markdown",
   "metadata": {
    "ExecuteTime": {
     "end_time": "2018-10-01T22:51:12.554859Z",
     "start_time": "2018-10-01T22:51:12.518859Z"
    }
   },
   "source": [
    "### Disable Logging"
   ]
  },
  {
   "cell_type": "code",
   "execution_count": null,
   "metadata": {
    "ExecuteTime": {
     "end_time": "2019-03-06T00:16:43.234403Z",
     "start_time": "2019-03-06T00:16:41.779045Z"
    }
   },
   "outputs": [],
   "source": [
    "import weightwatcher as ww\n",
    "\n",
    "watcher = ww.WeightWatcher(model=model, log=False)\n",
    "\n",
    "results = watcher.analyze()"
   ]
  },
  {
   "cell_type": "markdown",
   "metadata": {},
   "source": [
    "## 3. pyTorch Models"
   ]
  },
  {
   "cell_type": "code",
   "execution_count": null,
   "metadata": {
    "ExecuteTime": {
     "end_time": "2019-03-06T00:16:43.249725Z",
     "start_time": "2019-03-06T00:16:43.240611Z"
    }
   },
   "outputs": [],
   "source": [
    "data = []"
   ]
  },
  {
   "cell_type": "code",
   "execution_count": null,
   "metadata": {
    "ExecuteTime": {
     "end_time": "2019-03-06T00:40:17.723085Z",
     "start_time": "2019-03-06T00:16:43.259483Z"
    }
   },
   "outputs": [],
   "source": [
    "import weightwatcher as ww\n",
    "import torchvision.models as models\n",
    "\n",
    "model = models.vgg16(pretrained=True)\n",
    "\n",
    "watcher = ww.WeightWatcher(model=model)\n",
    "\n",
    "results = watcher.analyze(compute_alphas=True)\n",
    "\n",
    "data.append({\"name\": \"vgg16torch\", \"summary\": watcher.get_summary()})"
   ]
  },
  {
   "cell_type": "code",
   "execution_count": null,
   "metadata": {
    "ExecuteTime": {
     "end_time": "2019-03-06T01:03:30.884210Z",
     "start_time": "2019-03-06T00:40:17.729503Z"
    }
   },
   "outputs": [],
   "source": [
    "import weightwatcher as ww\n",
    "import torchvision.models as models\n",
    "\n",
    "model = models.vgg16_bn(pretrained=True)\n",
    "\n",
    "watcher = ww.WeightWatcher(model=model)\n",
    "\n",
    "results = watcher.analyze(compute_alphas=True)\n",
    "\n",
    "data.append({\"name\": \"vgg16bntorch\", \"summary\": watcher.get_summary()})"
   ]
  },
  {
   "cell_type": "code",
   "execution_count": null,
   "metadata": {
    "ExecuteTime": {
     "end_time": "2019-03-06T01:24:27.165312Z",
     "start_time": "2019-03-06T01:03:30.908016Z"
    }
   },
   "outputs": [],
   "source": [
    "import weightwatcher as ww\n",
    "import torchvision.models as models\n",
    "\n",
    "model = models.vgg11(pretrained=True)\n",
    "\n",
    "watcher = ww.WeightWatcher(model=model)\n",
    "\n",
    "results = watcher.analyze(compute_alphas=True)\n",
    "\n",
    "data.append({\"name\": \"vgg11torch\", \"summary\": watcher.get_summary()})"
   ]
  },
  {
   "cell_type": "code",
   "execution_count": null,
   "metadata": {
    "ExecuteTime": {
     "end_time": "2019-03-06T01:45:08.643722Z",
     "start_time": "2019-03-06T01:24:27.176445Z"
    }
   },
   "outputs": [],
   "source": [
    "import weightwatcher as ww\n",
    "import torchvision.models as models\n",
    "\n",
    "model = models.vgg11_bn(pretrained=True)\n",
    "\n",
    "watcher = ww.WeightWatcher(model=model)\n",
    "\n",
    "results = watcher.analyze(compute_alphas=True)\n",
    "\n",
    "data.append({\"name\": \"vgg11bntorch\", \"summary\": watcher.get_summary()})"
   ]
  },
  {
   "cell_type": "code",
   "execution_count": null,
   "metadata": {
    "ExecuteTime": {
     "end_time": "2019-03-06T02:07:08.066376Z",
     "start_time": "2019-03-06T01:45:08.651095Z"
    }
   },
   "outputs": [],
   "source": [
    "import weightwatcher as ww\n",
    "import torchvision.models as models\n",
    "\n",
    "model = models.vgg13(pretrained=True)\n",
    "\n",
    "watcher = ww.WeightWatcher(model=model)\n",
    "\n",
    "results = watcher.analyze(compute_alphas=True)\n",
    "\n",
    "data.append({\"name\": \"vgg13torch\", \"summary\": watcher.get_summary()})"
   ]
  },
  {
   "cell_type": "code",
   "execution_count": null,
   "metadata": {
    "ExecuteTime": {
     "end_time": "2019-03-06T02:28:16.756345Z",
     "start_time": "2019-03-06T02:07:08.077271Z"
    }
   },
   "outputs": [],
   "source": [
    "import weightwatcher as ww\n",
    "import torchvision.models as models\n",
    "\n",
    "model = models.vgg13_bn(pretrained=True)\n",
    "\n",
    "watcher = ww.WeightWatcher(model=model)\n",
    "\n",
    "results = watcher.analyze(compute_alphas=True)\n",
    "\n",
    "data.append({\"name\": \"vgg13bntorch\", \"summary\": watcher.get_summary()})"
   ]
  },
  {
   "cell_type": "code",
   "execution_count": null,
   "metadata": {
    "ExecuteTime": {
     "end_time": "2019-03-06T02:52:14.088253Z",
     "start_time": "2019-03-06T02:28:16.767312Z"
    }
   },
   "outputs": [],
   "source": [
    "import weightwatcher as ww\n",
    "import torchvision.models as models\n",
    "\n",
    "model = models.vgg19(pretrained=True)\n",
    "\n",
    "watcher = ww.WeightWatcher(model=model)\n",
    "\n",
    "results = watcher.analyze(compute_alphas=True)\n",
    "\n",
    "data.append({\"name\": \"vgg19torch\", \"summary\": watcher.get_summary()})"
   ]
  },
  {
   "cell_type": "code",
   "execution_count": null,
   "metadata": {
    "ExecuteTime": {
     "end_time": "2019-03-06T03:16:03.620082Z",
     "start_time": "2019-03-06T02:52:14.095969Z"
    }
   },
   "outputs": [],
   "source": [
    "import weightwatcher as ww\n",
    "import torchvision.models as models\n",
    "\n",
    "model = models.vgg19_bn(pretrained=True)\n",
    "\n",
    "watcher = ww.WeightWatcher(model=model)\n",
    "\n",
    "results = watcher.analyze(compute_alphas=True)\n",
    "\n",
    "data.append({\"name\": \"vgg19bntorch\", \"summary\": watcher.get_summary()})"
   ]
  },
  {
   "cell_type": "code",
   "execution_count": null,
   "metadata": {
    "ExecuteTime": {
     "end_time": "2019-03-06T03:16:03.656840Z",
     "start_time": "2019-03-06T03:16:03.629371Z"
    }
   },
   "outputs": [],
   "source": [
    "data"
   ]
  },
  {
   "cell_type": "code",
   "execution_count": null,
   "metadata": {
    "ExecuteTime": {
     "end_time": "2019-03-06T03:16:03.721719Z",
     "start_time": "2019-03-06T03:16:03.665193Z"
    }
   },
   "outputs": [],
   "source": [
    "# pytorch Model accuracies \n",
    "# https://github.com/Cadene/pretrained-models.pytorch\n",
    "\n",
    "accuracies = {\n",
    "    \"vgg11torch\": 68.970,\n",
    "    \"vgg11bntorch\": 70.452,\n",
    "    \"vgg13torch\": 69.662,\n",
    "    \"vgg13bntorch\": 71.508,\n",
    "    \"vgg16torch\": 71.636,\n",
    "    \"vgg16bntorch\": 73.518,\n",
    "    \"vgg19torch\": 72.080,\n",
    "    \"vgg19bntorch\": 74.266,\n",
    "}"
   ]
  },
  {
   "cell_type": "code",
   "execution_count": null,
   "metadata": {
    "ExecuteTime": {
     "end_time": "2019-03-06T03:16:03.740667Z",
     "start_time": "2019-03-06T03:16:03.728138Z"
    }
   },
   "outputs": [],
   "source": [
    "# pytorch Model accuracies \n",
    "# https://github.com/Cadene/pretrained-models.pytorch\n",
    "\n",
    "accuracies5 = {\n",
    "    \"vgg11torch\": 88.746,\n",
    "    \"vgg11bntorch\": 89.818,\n",
    "    \"vgg13torch\": 89.264,\n",
    "    \"vgg13bntorch\": 90.494,\n",
    "    \"vgg16torch\": 90.354,\n",
    "    \"vgg16bntorch\": 91.608,\n",
    "    \"vgg19torch\": 90.822,\n",
    "    \"vgg19bntorch\": 92.066,\n",
    "}"
   ]
  },
  {
   "cell_type": "markdown",
   "metadata": {},
   "source": [
    "### 3.1 Log Norm of Weight Matrices vs Accuracies of models"
   ]
  },
  {
   "cell_type": "markdown",
   "metadata": {},
   "source": [
    "The following graph demonstrates the linear relationship between the average Log Norm of Weight matrices and the test accuracies of the models (notice we didnt't need the test data):"
   ]
  },
  {
   "cell_type": "code",
   "execution_count": null,
   "metadata": {
    "ExecuteTime": {
     "end_time": "2019-03-06T03:16:06.458114Z",
     "start_time": "2019-03-06T03:16:03.747317Z"
    }
   },
   "outputs": [],
   "source": [
    "import matplotlib.pyplot as plt\n",
    "%matplotlib inline\n",
    "plt.rcParams['figure.figsize'] = [8,8]\n",
    "\n",
    "for modelname, accuracy in accuracies5.items():\n",
    "    x = accuracy\n",
    "    summary = [d[\"summary\"] for d in data if d[\"name\"] == modelname]\n",
    "    y = summary[0][\"lognorm\"]\n",
    "    label = modelname\n",
    "    plt.scatter(x,y,label=label)\n",
    "\n",
    "plt.legend()\n",
    "plt.title(r\"Test Accuracy vs Average Log Norm $\\langle\\log\\Vert W\\Vert\\rangle$\"+\"\\nPretrained VGG and VGG_BN Models\")\n",
    "plt.xlabel(r\"Test Accuracy\")\n",
    "plt.ylabel(r\"$\\langle\\log\\Vert W\\Vert\\rangle$\");"
   ]
  },
  {
   "cell_type": "markdown",
   "metadata": {},
   "source": [
    "Let's compare the average Log Norm with the average Log Norm compound:"
   ]
  },
  {
   "cell_type": "code",
   "execution_count": null,
   "metadata": {
    "ExecuteTime": {
     "end_time": "2019-03-06T03:16:07.301228Z",
     "start_time": "2019-03-06T03:16:06.465048Z"
    }
   },
   "outputs": [],
   "source": [
    "import matplotlib.pyplot as plt\n",
    "%matplotlib inline\n",
    "plt.rcParams['figure.figsize'] = [8,8]\n",
    "\n",
    "x = []\n",
    "y1, y2 = [], []\n",
    "for modelname, accuracy in accuracies5.items():\n",
    "    x.append(accuracy)\n",
    "    summary = [d[\"summary\"] for d in data if d[\"name\"] == modelname]\n",
    "    y1.append(summary[0][\"lognorm\"])\n",
    "    y2.append(summary[0][\"lognorm_compound\"])\n",
    "    label = modelname\n",
    "plt.scatter(x,y1,label=\"Log Norm\", color='r')\n",
    "plt.scatter(x,y2,label=\"Log Norm Compound\", color='b')\n",
    "\n",
    "plt.legend()\n",
    "plt.title(r\"Test Accuracy vs (Average Log Norm $\\langle\\log\\Vert W\\Vert\\rangle$ and Log Norm Compound)\"+\"\\nPretrained VGG and VGG_BN Models\")\n",
    "plt.xlabel(r\"Test Accuracy\")\n",
    "plt.ylabel(r\"$\\langle\\log\\Vert W\\Vert\\rangle$\");"
   ]
  },
  {
   "cell_type": "markdown",
   "metadata": {},
   "source": [
    "### 3.2 Power law fitting (Alpha) of Weight Matrices vs Accuracies of models"
   ]
  },
  {
   "cell_type": "markdown",
   "metadata": {},
   "source": [
    "The linear relationship between the Power law fitting (Alpha) of the weight matrices and the accuracies of the models is demonstrated in the following graph:"
   ]
  },
  {
   "cell_type": "code",
   "execution_count": null,
   "metadata": {
    "ExecuteTime": {
     "end_time": "2019-03-06T03:16:08.268963Z",
     "start_time": "2019-03-06T03:16:07.307689Z"
    }
   },
   "outputs": [],
   "source": [
    "import matplotlib.pyplot as plt\n",
    "%matplotlib inline\n",
    "plt.rcParams['figure.figsize'] = [8,8]\n",
    "\n",
    "for modelname, accuracy in accuracies5.items():\n",
    "    x = accuracy\n",
    "    summary = [d[\"summary\"] for d in data if d[\"name\"] == modelname]\n",
    "    y = summary[0][\"alpha_weighted\"]\n",
    "    label = modelname\n",
    "    plt.scatter(x,y,label=label)\n",
    "\n",
    "plt.legend()\n",
    "plt.title(r\"Test Accuracy vs Weighted Alpha\"+\"\\nPretrained VGG and VGG_BN Models\")\n",
    "plt.xlabel(r\"Test Accuracy\")\n",
    "plt.ylabel(r\"Weighted Alpha\");"
   ]
  },
  {
   "cell_type": "markdown",
   "metadata": {},
   "source": [
    "The more accurate the model, the lower the exponent of the power law fit of the weight matrices is."
   ]
  },
  {
   "cell_type": "code",
   "execution_count": null,
   "metadata": {
    "ExecuteTime": {
     "end_time": "2019-03-06T03:16:09.090898Z",
     "start_time": "2019-03-06T03:16:08.275006Z"
    }
   },
   "outputs": [],
   "source": [
    "import matplotlib.pyplot as plt\n",
    "%matplotlib inline\n",
    "plt.rcParams['figure.figsize'] = [8,8]\n",
    "\n",
    "x = []\n",
    "y1, y2 = [], []\n",
    "for modelname, accuracy in accuracies5.items():\n",
    "    x.append(accuracy)\n",
    "    summary = [d[\"summary\"] for d in data if d[\"name\"] == modelname]\n",
    "    y1.append(summary[0][\"alpha_weighted\"])\n",
    "    y2.append(summary[0][\"alpha_weighted_compound\"])\n",
    "plt.scatter(x,y1,label=\"Weighted Alpha\", color='r')\n",
    "plt.scatter(x,y2,label=\"Weighted Alpha Compound\", color='b')\n",
    "\n",
    "plt.legend()\n",
    "plt.title(r\"Test Accuracy vs (Weighted Alpha and Weighted Alpha compound)\"+\"\\nPretrained VGG and VGG_BN Models\")\n",
    "plt.xlabel(r\"Test Accuracy\")\n",
    "plt.ylabel(r\"Weighted Alpha\");"
   ]
  },
  {
   "cell_type": "markdown",
   "metadata": {},
   "source": [
    "## 4. Conclusion"
   ]
  },
  {
   "cell_type": "markdown",
   "metadata": {},
   "source": [
    "WeightWatcher helps you choose the best pretrained model for your needs.\n",
    "\n",
    "You can use WeightWatcher to compare several pretrained models and choose the one with the lowest Log Norm."
   ]
  }
 ],
 "metadata": {
  "kernelspec": {
   "display_name": "Python 3",
   "language": "python",
   "name": "python3"
  },
  "language_info": {
   "codemirror_mode": {
    "name": "ipython",
    "version": 3
   },
   "file_extension": ".py",
   "mimetype": "text/x-python",
   "name": "python",
   "nbconvert_exporter": "python",
   "pygments_lexer": "ipython3",
   "version": "3.7.3"
  }
 },
 "nbformat": 4,
 "nbformat_minor": 2
}
